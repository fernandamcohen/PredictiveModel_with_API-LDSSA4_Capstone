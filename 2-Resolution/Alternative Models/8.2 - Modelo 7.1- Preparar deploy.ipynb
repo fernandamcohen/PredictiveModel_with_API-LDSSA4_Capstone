{
 "cells": [
  {
   "cell_type": "code",
   "execution_count": 1,
   "id": "earlier-planning",
   "metadata": {},
   "outputs": [],
   "source": [
    "import json\n",
    "import joblib\n",
    "import pickle\n",
    "import pandas as pd\n",
    "import numpy as np\n",
    "# import seaborn as sns\n",
    "from sklearn.model_selection import train_test_split\n",
    "from sklearn.pipeline import make_pipeline, Pipeline\n",
    "from sklearn.impute import SimpleImputer\n",
    "from sklearn.preprocessing import StandardScaler, OneHotEncoder\n",
    "from sklearn.compose import ColumnTransformer\n",
    "from sklearn.ensemble import RandomForestClassifier\n",
    "from sklearn.metrics import precision_score, recall_score, roc_auc_score\n",
    "from sklearn.metrics import precision_recall_curve\n",
    "\n",
    "import matplotlib.pyplot as plt\n",
    "import matplotlib.image as mpimg\n",
    "%matplotlib inline\n",
    "\n",
    "import warnings\n",
    "warnings.filterwarnings('ignore')\n"
   ]
  },
  {
   "cell_type": "code",
   "execution_count": 3,
   "id": "moving-association",
   "metadata": {},
   "outputs": [],
   "source": [
    "def check_request(request):\n",
    "    \"\"\"\n",
    "        Validates that our request is well formatted\n",
    "        \n",
    "        Returns:\n",
    "        - assertion value: True if request is ok, False otherwise\n",
    "        - error message: empty if request is ok, False otherwise\n",
    "    \"\"\"\n",
    "    \n",
    "    if \"observation_id\" not in request:\n",
    "        error = \"Field 'observation_id' missing from request: {}\".format(request)\n",
    "        return False, error\n",
    "    \n",
    "    return True, \"\"\n"
   ]
  },
  {
   "cell_type": "code",
   "execution_count": 4,
   "id": "martial-brief",
   "metadata": {},
   "outputs": [],
   "source": [
    "def check_valid_column(observation):\n",
    "    \"\"\"\n",
    "        Validates that our observation only has valid columns\n",
    "        \n",
    "        Returns:\n",
    "        - assertion value: True if all provided columns are valid, False otherwise\n",
    "        - error message: empty if all provided columns are valid, False otherwise\n",
    "    \"\"\"\n",
    "    \n",
    "    valid_columns = {\n",
    "        \"observation_id\",\n",
    "        \"Type\",\n",
    "        \"Date\",\n",
    "        \"Part of a policing operation\",\n",
    "        \"Latitude\",\n",
    "        \"Longitude\",\n",
    "        \"Gender\",\n",
    "        \"Age range\",\n",
    "        \"Officer-defined ethnicity\",\n",
    "        \"Legislation\",\n",
    "        \"Object of search\",\n",
    "        \"station\"\n",
    "    }\n",
    "    \n",
    "    keys = set(observation.keys())\n",
    "    \n",
    "    if len(valid_columns - keys) > 0: \n",
    "        missing = valid_columns - keys\n",
    "        error = \"Missing columns: {}\".format(missing)\n",
    "        return False, error\n",
    "    \n",
    "    if len(keys - valid_columns) > 0: \n",
    "        extra = keys - valid_columns\n",
    "        error = \"Unrecognized columns provided: {}\".format(extra)\n",
    "        return False, error    \n",
    "\n",
    "    return True, \"\""
   ]
  },
  {
   "cell_type": "code",
   "execution_count": 86,
   "id": "unsigned-ladder",
   "metadata": {},
   "outputs": [],
   "source": [
    "def check_latitude_longitude(observation):\n",
    "    \"\"\"\n",
    "        Validates that latitude and longitude have valid values\n",
    "        \n",
    "        Returns:\n",
    "        - assertion value: True if latitude/longitude is valid, False otherwise\n",
    "        - error message: empty if latitude/longitude is valid, False otherwise\n",
    "    \"\"\"\n",
    "    \n",
    "    lat = observation.get(\"Latitude\")\n",
    "    lon = observation.get(\"Longitude\")\n",
    "        \n",
    "    if lat == None:\n",
    "        error = \"Field 'Latitude' is missing\"\n",
    "        return False, error\n",
    "    \n",
    "    if lon == None: \n",
    "        error = \"Field 'Longitude' is missing\"\n",
    "        return False, error\n",
    "\n",
    "    if not isinstance(lat, float):\n",
    "        if not isinstance(lat, int):\n",
    "            error = \"Field 'Latitude' is not a number\"\n",
    "            return False, error\n",
    "    \n",
    "    if not isinstance(lon, float):\n",
    "        if not isinstance(lon, int):\n",
    "            error = \"Field 'Longitude' is not a number\"\n",
    "            return False, error\n",
    "\n",
    "    return True, \"\""
   ]
  },
  {
   "cell_type": "code",
   "execution_count": 198,
   "id": "subject-customs",
   "metadata": {},
   "outputs": [],
   "source": [
    "def check_Part_policing_operation(observation):\n",
    "    \"\"\"\n",
    "        Validates that Part of a policing operation has valid values\n",
    "        \n",
    "        Returns:\n",
    "        - assertion value: True if Part of a policing operation is valid, False otherwise\n",
    "        - error message: empty if Part of a policing operation is valid, False otherwise\n",
    "    \"\"\"\n",
    "    \n",
    "    part_oper = observation.get(\"Part of a policing operation\")\n",
    "    \n",
    "    if not isinstance(part_oper, bool):\n",
    "        error = \"Field 'Part of a policing operation' is not a boolean\"\n",
    "        return False, error        \n",
    "\n",
    "    if not ((part_oper == False) or (part_oper == True)):\n",
    "        error = \"Field 'Part of a policing operation' is not a boolean\"\n",
    "        return False, error\n",
    "    \n",
    "    return True, \"\""
   ]
  },
  {
   "cell_type": "code",
   "execution_count": 4,
   "id": "sixth-pioneer",
   "metadata": {},
   "outputs": [],
   "source": [
    "def transform_date(observation):\n",
    "    \n",
    "    \"\"\"\n",
    "        Creates month, hour and day_of_week features from Date\n",
    "        \n",
    "        Returns:\n",
    "        - values if feature Date can be read as a date\n",
    "        - None for all features if Date cannot be read as a date\n",
    "    \"\"\"\n",
    "    \n",
    "    date_ = observation.get(\"Date\")\n",
    "    \n",
    "    try:\n",
    "        date = pd.Timestamp(date_)\n",
    "        hour = date.hour\n",
    "        month = date.month\n",
    "        day_of_week = date.day_name()\n",
    "    except:\n",
    "        hour = np.nan\n",
    "        month = np.nan\n",
    "        day_of_week = np.nan    \n",
    "\n",
    "    return hour, month, day_of_week"
   ]
  },
  {
   "cell_type": "code",
   "execution_count": null,
   "id": "flexible-magnet",
   "metadata": {},
   "outputs": [],
   "source": []
  },
  {
   "cell_type": "code",
   "execution_count": 224,
   "id": "designed-contemporary",
   "metadata": {},
   "outputs": [],
   "source": [
    "req_test ={\n",
    "  \"observation_id\": \"teste1 X\",\n",
    "  \"Type\": \"x\",\n",
    "  \"Date\": \"2019-12-06T15:40:00+00:00\",\n",
    "  \"Part of a policing operation\": False,\n",
    "  \"Latitude\": 0,\n",
    "  \"Longitude\": 0,\n",
    "  \"Gender\": \"string\",\n",
    "  \"Age range\": \"string\",\n",
    "  \"Officer-defined ethnicity\": \"strinXXg\",\n",
    "  \"Legislation\": \"string\",\n",
    "  \"Object of search\": \"strinAAg\",\n",
    "  \"station\": \"stringX\"\n",
    "}"
   ]
  },
  {
   "cell_type": "code",
   "execution_count": 204,
   "id": "developed-graham",
   "metadata": {},
   "outputs": [
    {
     "name": "stdout",
     "output_type": "stream",
     "text": [
      "(True, '')\n",
      "(True, '')\n",
      "(True, '')\n",
      "(True, '')\n",
      "(15, 12, 'Friday')\n"
     ]
    }
   ],
   "source": [
    "print(check_request(req_test))\n",
    "print(check_valid_column(req_test))\n",
    "print(check_latitude_longitude(req_test))\n",
    "print(check_Part_policing_operation(req_test))\n",
    "print(transform_date(req_test))"
   ]
  },
  {
   "cell_type": "markdown",
   "id": "handled-selection",
   "metadata": {},
   "source": [
    "#### Criar dict para chamar prediction"
   ]
  },
  {
   "cell_type": "code",
   "execution_count": 209,
   "id": "noted-cliff",
   "metadata": {},
   "outputs": [],
   "source": [
    "hour, month, day_of_week  = transform_date(req_test)\n",
    "observation=req_test\n",
    "obs_dataframe = {\n",
    "    \"Type\": observation.get(\"Type\"),\n",
    "    \"Part of a policing operation\": observation.get(\"Part of a policing operation\"),\n",
    "    \"Age range\": observation.get(\"Age range\"),\n",
    "    \"Latitude\": observation.get(\"Latitude\"),\n",
    "    \"Longitude\": observation.get(\"Longitude\"),\n",
    "    \"Legislation\": observation.get(\"Legislation\"),\n",
    "    \"hour\": hour,\n",
    "    \"month\": month,\n",
    "    \"day_of_week\": day_of_week,\n",
    "    \"Gender\": observation.get(\"Gender\"),\n",
    "    \"Officer-defined ethnicity\": observation.get(\"Officer-defined ethnicity\")\n",
    "}"
   ]
  },
  {
   "cell_type": "code",
   "execution_count": 210,
   "id": "medium-parallel",
   "metadata": {},
   "outputs": [
    {
     "data": {
      "text/plain": [
       "{'Type': 'x',\n",
       " 'Part of a policing operation': False,\n",
       " 'Age range': 'string',\n",
       " 'Latitude': 0,\n",
       " 'Longitude': 0,\n",
       " 'Legislation': 'string',\n",
       " 'hour': 15,\n",
       " 'month': 12,\n",
       " 'day_of_week': 'Friday',\n",
       " 'Gender': 'string',\n",
       " 'Officer-defined ethnicity': 'string'}"
      ]
     },
     "execution_count": 210,
     "metadata": {},
     "output_type": "execute_result"
    }
   ],
   "source": [
    "obs_dataframe"
   ]
  },
  {
   "cell_type": "code",
   "execution_count": null,
   "id": "classified-sarah",
   "metadata": {},
   "outputs": [],
   "source": []
  },
  {
   "cell_type": "code",
   "execution_count": 211,
   "id": "waiting-warrior",
   "metadata": {},
   "outputs": [],
   "source": [
    "with open('columns.json') as fh:\n",
    "    columns = json.load(fh)\n",
    "\n",
    "pipeline = joblib.load('pipeline.pickle')\n",
    "\n",
    "with open('dtypes.pickle', 'rb') as fh:\n",
    "    dtypes = pickle.load(fh)"
   ]
  },
  {
   "cell_type": "code",
   "execution_count": 212,
   "id": "great-transcription",
   "metadata": {},
   "outputs": [
    {
     "data": {
      "text/html": [
       "<div>\n",
       "<style scoped>\n",
       "    .dataframe tbody tr th:only-of-type {\n",
       "        vertical-align: middle;\n",
       "    }\n",
       "\n",
       "    .dataframe tbody tr th {\n",
       "        vertical-align: top;\n",
       "    }\n",
       "\n",
       "    .dataframe thead th {\n",
       "        text-align: right;\n",
       "    }\n",
       "</style>\n",
       "<table border=\"1\" class=\"dataframe\">\n",
       "  <thead>\n",
       "    <tr style=\"text-align: right;\">\n",
       "      <th></th>\n",
       "      <th>Type</th>\n",
       "      <th>Part of a policing operation</th>\n",
       "      <th>Age range</th>\n",
       "      <th>Latitude</th>\n",
       "      <th>Longitude</th>\n",
       "      <th>Legislation</th>\n",
       "      <th>hour</th>\n",
       "      <th>month</th>\n",
       "      <th>day_of_week</th>\n",
       "      <th>Gender</th>\n",
       "      <th>Officer-defined ethnicity</th>\n",
       "    </tr>\n",
       "  </thead>\n",
       "  <tbody>\n",
       "    <tr>\n",
       "      <th>0</th>\n",
       "      <td>x</td>\n",
       "      <td>False</td>\n",
       "      <td>string</td>\n",
       "      <td>0.0</td>\n",
       "      <td>0.0</td>\n",
       "      <td>string</td>\n",
       "      <td>15</td>\n",
       "      <td>12</td>\n",
       "      <td>Friday</td>\n",
       "      <td>string</td>\n",
       "      <td>string</td>\n",
       "    </tr>\n",
       "  </tbody>\n",
       "</table>\n",
       "</div>"
      ],
      "text/plain": [
       "  Type  Part of a policing operation Age range  Latitude  Longitude  \\\n",
       "0    x                         False    string       0.0        0.0   \n",
       "\n",
       "  Legislation  hour  month day_of_week  Gender Officer-defined ethnicity  \n",
       "0      string    15     12      Friday  string                    string  "
      ]
     },
     "execution_count": 212,
     "metadata": {},
     "output_type": "execute_result"
    }
   ],
   "source": [
    "pd.DataFrame([obs_dataframe], columns=columns).astype(dtypes)"
   ]
  },
  {
   "cell_type": "code",
   "execution_count": 213,
   "id": "incorporate-portrait",
   "metadata": {},
   "outputs": [
    {
     "data": {
      "text/plain": [
       "0"
      ]
     },
     "execution_count": 213,
     "metadata": {},
     "output_type": "execute_result"
    }
   ],
   "source": [
    "pipeline.predict(pd.DataFrame([obs_dataframe], columns=columns).astype(dtypes))[0]"
   ]
  },
  {
   "cell_type": "code",
   "execution_count": 215,
   "id": "interstate-riverside",
   "metadata": {},
   "outputs": [
    {
     "data": {
      "text/plain": [
       "0.2426666666666667"
      ]
     },
     "execution_count": 215,
     "metadata": {},
     "output_type": "execute_result"
    }
   ],
   "source": [
    "pipeline.predict_proba(pd.DataFrame([obs_dataframe], columns=columns).astype(dtypes))[0, 1]"
   ]
  },
  {
   "cell_type": "code",
   "execution_count": 227,
   "id": "stone-alcohol",
   "metadata": {},
   "outputs": [],
   "source": [
    "categorical_features = ['Type', 'Age range', 'Legislation', 'Gender', 'Officer-defined ethnicity']\n",
    "observation=req_test\n",
    "for column in categorical_features:\n",
    "    observation[column] =str(observation[column]).strip().lower()"
   ]
  },
  {
   "cell_type": "code",
   "execution_count": 228,
   "id": "challenging-policy",
   "metadata": {},
   "outputs": [
    {
     "data": {
      "text/plain": [
       "{'observation_id': 'teste1 X',\n",
       " 'Type': 'x',\n",
       " 'Date': '2019-12-06T15:40:00+00:00',\n",
       " 'Part of a policing operation': False,\n",
       " 'Latitude': 0,\n",
       " 'Longitude': 0,\n",
       " 'Gender': 'string',\n",
       " 'Age range': 'string',\n",
       " 'Officer-defined ethnicity': 'strinxxg',\n",
       " 'Legislation': 'string',\n",
       " 'Object of search': 'strinAAg',\n",
       " 'station': 'stringX'}"
      ]
     },
     "execution_count": 228,
     "metadata": {},
     "output_type": "execute_result"
    }
   ],
   "source": [
    "observation"
   ]
  },
  {
   "cell_type": "code",
   "execution_count": 240,
   "id": "promising-sussex",
   "metadata": {},
   "outputs": [],
   "source": [
    "obs_dataframe['Officer-defined ethnicity'] = obs_dataframe['Officer-defined ethnicity'].replace('mixed', 'other')"
   ]
  },
  {
   "cell_type": "code",
   "execution_count": 236,
   "id": "wound-cancellation",
   "metadata": {},
   "outputs": [
    {
     "data": {
      "text/plain": [
       "str"
      ]
     },
     "execution_count": 236,
     "metadata": {},
     "output_type": "execute_result"
    }
   ],
   "source": [
    "type(obs_dataframe['Officer-defined ethnicity'])"
   ]
  },
  {
   "cell_type": "code",
   "execution_count": 237,
   "id": "northern-companion",
   "metadata": {},
   "outputs": [
    {
     "data": {
      "text/plain": [
       "str"
      ]
     },
     "execution_count": 237,
     "metadata": {},
     "output_type": "execute_result"
    }
   ],
   "source": [
    "type(obs_dataframe['Age range'])"
   ]
  },
  {
   "cell_type": "code",
   "execution_count": 242,
   "id": "billion-background",
   "metadata": {},
   "outputs": [
    {
     "data": {
      "text/plain": [
       "'string'"
      ]
     },
     "execution_count": 242,
     "metadata": {},
     "output_type": "execute_result"
    }
   ],
   "source": [
    "obs_dataframe['Officer-defined ethnicity'].replace('mixed', 'other')"
   ]
  },
  {
   "cell_type": "code",
   "execution_count": 5,
   "id": "standard-variety",
   "metadata": {},
   "outputs": [
    {
     "data": {
      "text/plain": [
       "(nan, nan, nan)"
      ]
     },
     "execution_count": 5,
     "metadata": {},
     "output_type": "execute_result"
    }
   ],
   "source": [
    "req_test ={\n",
    "  \"observation_id\": \"teste1 X\",\n",
    "  \"Type\": \"x\",\n",
    "  \"Date\": \"2019-12-0600:00\",\n",
    "  \"Part of a policing operation\": False,\n",
    "  \"Latitude\": 0,\n",
    "  \"Longitude\": 0,\n",
    "  \"Gender\": \"string\",\n",
    "  \"Age range\": \"string\",\n",
    "  \"Officer-defined ethnicity\": \"strinXXg\",\n",
    "  \"Legislation\": \"string\",\n",
    "  \"Object of search\": \"strinAAg\",\n",
    "  \"station\": \"stringX\"\n",
    "}\n",
    "\n",
    "\n",
    "transform_date(req_test)"
   ]
  },
  {
   "cell_type": "code",
   "execution_count": 8,
   "id": "expressed-cannon",
   "metadata": {},
   "outputs": [
    {
     "ename": "NameError",
     "evalue": "name 'null' is not defined",
     "output_type": "error",
     "traceback": [
      "\u001b[0;31m---------------------------------------------------------------------------\u001b[0m",
      "\u001b[0;31mNameError\u001b[0m                                 Traceback (most recent call last)",
      "\u001b[0;32m<ipython-input-8-711a73dfdcf9>\u001b[0m in \u001b[0;36m<module>\u001b[0;34m\u001b[0m\n\u001b[0;32m----> 1\u001b[0;31m \u001b[0misinstance\u001b[0m\u001b[0;34m(\u001b[0m\u001b[0mnull\u001b[0m\u001b[0;34m,\u001b[0m \u001b[0mstr\u001b[0m\u001b[0;34m)\u001b[0m\u001b[0;34m\u001b[0m\u001b[0;34m\u001b[0m\u001b[0m\n\u001b[0m",
      "\u001b[0;31mNameError\u001b[0m: name 'null' is not defined"
     ]
    }
   ],
   "source": [
    "isinstance(null, str)"
   ]
  },
  {
   "cell_type": "code",
   "execution_count": null,
   "id": "acute-practitioner",
   "metadata": {},
   "outputs": [],
   "source": []
  }
 ],
 "metadata": {
  "kernelspec": {
   "display_name": "Python 3",
   "language": "python",
   "name": "python3"
  },
  "language_info": {
   "codemirror_mode": {
    "name": "ipython",
    "version": 3
   },
   "file_extension": ".py",
   "mimetype": "text/x-python",
   "name": "python",
   "nbconvert_exporter": "python",
   "pygments_lexer": "ipython3",
   "version": "3.6.9"
  }
 },
 "nbformat": 4,
 "nbformat_minor": 5
}
