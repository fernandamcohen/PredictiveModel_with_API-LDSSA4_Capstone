{
 "cells": [
  {
   "cell_type": "code",
   "execution_count": 1,
   "id": "fresh-ghost",
   "metadata": {},
   "outputs": [],
   "source": [
    "import json\n",
    "import joblib\n",
    "import pickle\n",
    "import pandas as pd\n",
    "import numpy as np\n",
    "# import seaborn as sns\n",
    "from sklearn.model_selection import train_test_split\n",
    "from sklearn.pipeline import make_pipeline, Pipeline\n",
    "from sklearn.impute import SimpleImputer\n",
    "from sklearn.preprocessing import StandardScaler, OneHotEncoder\n",
    "from sklearn.compose import ColumnTransformer\n",
    "from sklearn.ensemble import RandomForestClassifier\n",
    "from sklearn.metrics import precision_score, recall_score, roc_auc_score\n",
    "\n",
    "import matplotlib.pyplot as plt\n",
    "import matplotlib.image as mpimg\n",
    "%matplotlib inline\n",
    "\n",
    "import warnings\n",
    "warnings.filterwarnings('ignore')"
   ]
  },
  {
   "cell_type": "code",
   "execution_count": 2,
   "id": "scheduled-component",
   "metadata": {},
   "outputs": [
    {
     "name": "stdout",
     "output_type": "stream",
     "text": [
      "X_test_1 (4000, 13)\n",
      "y_test_1 (4000, 2)\n",
      "train_model (300447, 22)\n"
     ]
    }
   ],
   "source": [
    "X_test_1 = pd.read_csv('data/X_test_1.csv')\n",
    "y_test_1 = pd.read_csv('data/y_test_1.csv', names=['observation_id', 'true_class'],skiprows=1)\n",
    "train_model = pd.read_csv('data/train_model.csv')\n",
    "\n",
    "print(\"X_test_1 {}\".format(X_test_1.shape))\n",
    "print(\"y_test_1 {}\".format(y_test_1.shape))\n",
    "print(\"train_model {}\".format(train_model.shape))"
   ]
  },
  {
   "cell_type": "code",
   "execution_count": 28,
   "id": "chinese-favorite",
   "metadata": {},
   "outputs": [
    {
     "name": "stdout",
     "output_type": "stream",
     "text": [
      "<class 'pandas.core.frame.DataFrame'>\n",
      "RangeIndex: 4000 entries, 0 to 3999\n",
      "Data columns (total 13 columns):\n",
      " #   Column                        Non-Null Count  Dtype  \n",
      "---  ------                        --------------  -----  \n",
      " 0   observation_id                4000 non-null   object \n",
      " 1   Type                          4000 non-null   object \n",
      " 2   Date                          4000 non-null   object \n",
      " 3   Part of a policing operation  2203 non-null   object \n",
      " 4   Latitude                      1474 non-null   float64\n",
      " 5   Longitude                     1474 non-null   float64\n",
      " 6   Gender                        4000 non-null   object \n",
      " 7   Age range                     4000 non-null   object \n",
      " 8   Self-defined ethnicity        4000 non-null   object \n",
      " 9   Officer-defined ethnicity     4000 non-null   object \n",
      " 10  Legislation                   3999 non-null   object \n",
      " 11  Object of search              4000 non-null   object \n",
      " 12  station                       4000 non-null   object \n",
      "dtypes: float64(2), object(11)\n",
      "memory usage: 406.4+ KB\n",
      "<class 'pandas.core.frame.DataFrame'>\n",
      "RangeIndex: 4001 entries, 0 to 4000\n",
      "Data columns (total 2 columns):\n",
      " #   Column          Non-Null Count  Dtype \n",
      "---  ------          --------------  ----- \n",
      " 0   observation_id  4001 non-null   object\n",
      " 1   true_class      4001 non-null   object\n",
      "dtypes: object(2)\n",
      "memory usage: 62.6+ KB\n"
     ]
    }
   ],
   "source": [
    "X_test_1 .info()\n",
    "y_test_1.info()"
   ]
  },
  {
   "cell_type": "code",
   "execution_count": 59,
   "id": "utility-philosophy",
   "metadata": {},
   "outputs": [
    {
     "data": {
      "text/html": [
       "<div>\n",
       "<style scoped>\n",
       "    .dataframe tbody tr th:only-of-type {\n",
       "        vertical-align: middle;\n",
       "    }\n",
       "\n",
       "    .dataframe tbody tr th {\n",
       "        vertical-align: top;\n",
       "    }\n",
       "\n",
       "    .dataframe thead th {\n",
       "        text-align: right;\n",
       "    }\n",
       "</style>\n",
       "<table border=\"1\" class=\"dataframe\">\n",
       "  <thead>\n",
       "    <tr style=\"text-align: right;\">\n",
       "      <th></th>\n",
       "      <th>observation_id</th>\n",
       "      <th>Type</th>\n",
       "      <th>Date</th>\n",
       "      <th>Part of a policing operation</th>\n",
       "      <th>Latitude</th>\n",
       "      <th>Longitude</th>\n",
       "      <th>Gender</th>\n",
       "      <th>Age range</th>\n",
       "      <th>Self-defined ethnicity</th>\n",
       "      <th>Officer-defined ethnicity</th>\n",
       "      <th>Legislation</th>\n",
       "      <th>Object of search</th>\n",
       "      <th>station</th>\n",
       "    </tr>\n",
       "  </thead>\n",
       "  <tbody>\n",
       "    <tr>\n",
       "      <th>0</th>\n",
       "      <td>3d931c84-94d3-4a14-869c-b10fef26e9ad</td>\n",
       "      <td>Person search</td>\n",
       "      <td>2020-01-01T00:56:00+00:00</td>\n",
       "      <td>False</td>\n",
       "      <td>NaN</td>\n",
       "      <td>NaN</td>\n",
       "      <td>Male</td>\n",
       "      <td>18-24</td>\n",
       "      <td>White - English/Welsh/Scottish/Northern Irish/...</td>\n",
       "      <td>White</td>\n",
       "      <td>Misuse of Drugs Act 1971 (section 23)</td>\n",
       "      <td>Controlled drugs</td>\n",
       "      <td>nottinghamshire</td>\n",
       "    </tr>\n",
       "    <tr>\n",
       "      <th>1</th>\n",
       "      <td>cf46ed6e-e6bb-4bc9-959d-ef2e5a8162a0</td>\n",
       "      <td>Person search</td>\n",
       "      <td>2020-01-01T01:45:00+00:00</td>\n",
       "      <td>False</td>\n",
       "      <td>NaN</td>\n",
       "      <td>NaN</td>\n",
       "      <td>Male</td>\n",
       "      <td>18-24</td>\n",
       "      <td>White - English/Welsh/Scottish/Northern Irish/...</td>\n",
       "      <td>White</td>\n",
       "      <td>Police and Criminal Evidence Act 1984 (section 1)</td>\n",
       "      <td>Offensive weapons</td>\n",
       "      <td>nottinghamshire</td>\n",
       "    </tr>\n",
       "    <tr>\n",
       "      <th>2</th>\n",
       "      <td>3601e51b-f40a-4466-b884-d9284497462c</td>\n",
       "      <td>Person search</td>\n",
       "      <td>2020-01-01T02:53:14+00:00</td>\n",
       "      <td>NaN</td>\n",
       "      <td>NaN</td>\n",
       "      <td>NaN</td>\n",
       "      <td>Male</td>\n",
       "      <td>18-24</td>\n",
       "      <td>Other ethnic group - Any other ethnic group</td>\n",
       "      <td>White</td>\n",
       "      <td>Police and Criminal Evidence Act 1984 (section 1)</td>\n",
       "      <td>Stolen goods</td>\n",
       "      <td>city-of-london</td>\n",
       "    </tr>\n",
       "    <tr>\n",
       "      <th>3</th>\n",
       "      <td>95dae6a9-6775-4862-815f-61cf1b586384</td>\n",
       "      <td>Person search</td>\n",
       "      <td>2020-01-01T04:43:00+00:00</td>\n",
       "      <td>True</td>\n",
       "      <td>NaN</td>\n",
       "      <td>NaN</td>\n",
       "      <td>Female</td>\n",
       "      <td>18-24</td>\n",
       "      <td>Other ethnic group - Not stated</td>\n",
       "      <td>Mixed</td>\n",
       "      <td>Misuse of Drugs Act 1971 (section 23)</td>\n",
       "      <td>Controlled drugs</td>\n",
       "      <td>nottinghamshire</td>\n",
       "    </tr>\n",
       "    <tr>\n",
       "      <th>4</th>\n",
       "      <td>467c4766-3a3f-489d-bf09-5a698748499e</td>\n",
       "      <td>Person search</td>\n",
       "      <td>2020-01-01T05:08:30+00:00</td>\n",
       "      <td>NaN</td>\n",
       "      <td>51.512598</td>\n",
       "      <td>-0.084967</td>\n",
       "      <td>Male</td>\n",
       "      <td>10-17</td>\n",
       "      <td>Other ethnic group - Not stated</td>\n",
       "      <td>Black</td>\n",
       "      <td>Misuse of Drugs Act 1971 (section 23)</td>\n",
       "      <td>Controlled drugs</td>\n",
       "      <td>city-of-london</td>\n",
       "    </tr>\n",
       "  </tbody>\n",
       "</table>\n",
       "</div>"
      ],
      "text/plain": [
       "                         observation_id           Type  \\\n",
       "0  3d931c84-94d3-4a14-869c-b10fef26e9ad  Person search   \n",
       "1  cf46ed6e-e6bb-4bc9-959d-ef2e5a8162a0  Person search   \n",
       "2  3601e51b-f40a-4466-b884-d9284497462c  Person search   \n",
       "3  95dae6a9-6775-4862-815f-61cf1b586384  Person search   \n",
       "4  467c4766-3a3f-489d-bf09-5a698748499e  Person search   \n",
       "\n",
       "                        Date Part of a policing operation   Latitude  \\\n",
       "0  2020-01-01T00:56:00+00:00                        False        NaN   \n",
       "1  2020-01-01T01:45:00+00:00                        False        NaN   \n",
       "2  2020-01-01T02:53:14+00:00                          NaN        NaN   \n",
       "3  2020-01-01T04:43:00+00:00                         True        NaN   \n",
       "4  2020-01-01T05:08:30+00:00                          NaN  51.512598   \n",
       "\n",
       "   Longitude  Gender Age range  \\\n",
       "0        NaN    Male     18-24   \n",
       "1        NaN    Male     18-24   \n",
       "2        NaN    Male     18-24   \n",
       "3        NaN  Female     18-24   \n",
       "4  -0.084967    Male     10-17   \n",
       "\n",
       "                              Self-defined ethnicity  \\\n",
       "0  White - English/Welsh/Scottish/Northern Irish/...   \n",
       "1  White - English/Welsh/Scottish/Northern Irish/...   \n",
       "2        Other ethnic group - Any other ethnic group   \n",
       "3                    Other ethnic group - Not stated   \n",
       "4                    Other ethnic group - Not stated   \n",
       "\n",
       "  Officer-defined ethnicity  \\\n",
       "0                     White   \n",
       "1                     White   \n",
       "2                     White   \n",
       "3                     Mixed   \n",
       "4                     Black   \n",
       "\n",
       "                                         Legislation   Object of search  \\\n",
       "0              Misuse of Drugs Act 1971 (section 23)   Controlled drugs   \n",
       "1  Police and Criminal Evidence Act 1984 (section 1)  Offensive weapons   \n",
       "2  Police and Criminal Evidence Act 1984 (section 1)       Stolen goods   \n",
       "3              Misuse of Drugs Act 1971 (section 23)   Controlled drugs   \n",
       "4              Misuse of Drugs Act 1971 (section 23)   Controlled drugs   \n",
       "\n",
       "           station  \n",
       "0  nottinghamshire  \n",
       "1  nottinghamshire  \n",
       "2   city-of-london  \n",
       "3  nottinghamshire  \n",
       "4   city-of-london  "
      ]
     },
     "execution_count": 59,
     "metadata": {},
     "output_type": "execute_result"
    }
   ],
   "source": [
    "X_test_1.head()"
   ]
  },
  {
   "cell_type": "code",
   "execution_count": 60,
   "id": "dietary-bunny",
   "metadata": {},
   "outputs": [
    {
     "data": {
      "text/html": [
       "<div>\n",
       "<style scoped>\n",
       "    .dataframe tbody tr th:only-of-type {\n",
       "        vertical-align: middle;\n",
       "    }\n",
       "\n",
       "    .dataframe tbody tr th {\n",
       "        vertical-align: top;\n",
       "    }\n",
       "\n",
       "    .dataframe thead th {\n",
       "        text-align: right;\n",
       "    }\n",
       "</style>\n",
       "<table border=\"1\" class=\"dataframe\">\n",
       "  <thead>\n",
       "    <tr style=\"text-align: right;\">\n",
       "      <th></th>\n",
       "      <th>observation_id</th>\n",
       "      <th>true_class</th>\n",
       "    </tr>\n",
       "  </thead>\n",
       "  <tbody>\n",
       "    <tr>\n",
       "      <th>0</th>\n",
       "      <td>3d931c84-94d3-4a14-869c-b10fef26e9ad</td>\n",
       "      <td>False</td>\n",
       "    </tr>\n",
       "    <tr>\n",
       "      <th>1</th>\n",
       "      <td>cf46ed6e-e6bb-4bc9-959d-ef2e5a8162a0</td>\n",
       "      <td>False</td>\n",
       "    </tr>\n",
       "    <tr>\n",
       "      <th>2</th>\n",
       "      <td>3601e51b-f40a-4466-b884-d9284497462c</td>\n",
       "      <td>False</td>\n",
       "    </tr>\n",
       "    <tr>\n",
       "      <th>3</th>\n",
       "      <td>95dae6a9-6775-4862-815f-61cf1b586384</td>\n",
       "      <td>False</td>\n",
       "    </tr>\n",
       "    <tr>\n",
       "      <th>4</th>\n",
       "      <td>467c4766-3a3f-489d-bf09-5a698748499e</td>\n",
       "      <td>False</td>\n",
       "    </tr>\n",
       "  </tbody>\n",
       "</table>\n",
       "</div>"
      ],
      "text/plain": [
       "                         observation_id  true_class\n",
       "0  3d931c84-94d3-4a14-869c-b10fef26e9ad       False\n",
       "1  cf46ed6e-e6bb-4bc9-959d-ef2e5a8162a0       False\n",
       "2  3601e51b-f40a-4466-b884-d9284497462c       False\n",
       "3  95dae6a9-6775-4862-815f-61cf1b586384       False\n",
       "4  467c4766-3a3f-489d-bf09-5a698748499e       False"
      ]
     },
     "execution_count": 60,
     "metadata": {},
     "output_type": "execute_result"
    }
   ],
   "source": [
    "y_test_1.head()"
   ]
  },
  {
   "cell_type": "code",
   "execution_count": 14,
   "id": "distributed-monthly",
   "metadata": {},
   "outputs": [],
   "source": [
    "# columns = ['observation_id', 'Type', 'Date', 'Part of a policing operation', 'Latitude', 'Longitude', 'Gender', 'Age range', \n",
    "#            'Officer-defined ethnicity','Legislation','Object of search','station']\n"
   ]
  },
  {
   "cell_type": "code",
   "execution_count": 10,
   "id": "found-attack",
   "metadata": {},
   "outputs": [
    {
     "data": {
      "text/plain": [
       "False    4000\n",
       "Name: observation_id, dtype: int64"
      ]
     },
     "execution_count": 10,
     "metadata": {},
     "output_type": "execute_result"
    }
   ],
   "source": [
    "# no duplicate observation_id\n",
    "X_test_1['observation_id'].duplicated().value_counts()"
   ]
  },
  {
   "cell_type": "code",
   "execution_count": 11,
   "id": "southern-terminal",
   "metadata": {},
   "outputs": [
    {
     "data": {
      "text/plain": [
       "False    4000\n",
       "dtype: int64"
      ]
     },
     "execution_count": 11,
     "metadata": {},
     "output_type": "execute_result"
    }
   ],
   "source": [
    "# no duplicate lines\n",
    "X_test_1.duplicated().value_counts()"
   ]
  },
  {
   "cell_type": "code",
   "execution_count": null,
   "id": "smoking-grounds",
   "metadata": {},
   "outputs": [],
   "source": []
  },
  {
   "cell_type": "code",
   "execution_count": 61,
   "id": "american-cooper",
   "metadata": {},
   "outputs": [
    {
     "data": {
      "text/html": [
       "<div>\n",
       "<style scoped>\n",
       "    .dataframe tbody tr th:only-of-type {\n",
       "        vertical-align: middle;\n",
       "    }\n",
       "\n",
       "    .dataframe tbody tr th {\n",
       "        vertical-align: top;\n",
       "    }\n",
       "\n",
       "    .dataframe thead th {\n",
       "        text-align: right;\n",
       "    }\n",
       "</style>\n",
       "<table border=\"1\" class=\"dataframe\">\n",
       "  <thead>\n",
       "    <tr style=\"text-align: right;\">\n",
       "      <th></th>\n",
       "      <th>observation_id</th>\n",
       "      <th>Type</th>\n",
       "      <th>Date</th>\n",
       "      <th>Part of a policing operation</th>\n",
       "      <th>Latitude</th>\n",
       "      <th>Longitude</th>\n",
       "      <th>Gender</th>\n",
       "      <th>Age range</th>\n",
       "      <th>Self-defined ethnicity</th>\n",
       "      <th>Officer-defined ethnicity</th>\n",
       "      <th>Legislation</th>\n",
       "      <th>Object of search</th>\n",
       "      <th>station</th>\n",
       "      <th>referencia</th>\n",
       "    </tr>\n",
       "  </thead>\n",
       "  <tbody>\n",
       "    <tr>\n",
       "      <th>0</th>\n",
       "      <td>3d931c84-94d3-4a14-869c-b10fef26e9ad</td>\n",
       "      <td>Person search</td>\n",
       "      <td>2020-01-01 00:56:00+00:00</td>\n",
       "      <td>False</td>\n",
       "      <td>NaN</td>\n",
       "      <td>NaN</td>\n",
       "      <td>Male</td>\n",
       "      <td>18-24</td>\n",
       "      <td>White - English/Welsh/Scottish/Northern Irish/...</td>\n",
       "      <td>White</td>\n",
       "      <td>Misuse of Drugs Act 1971 (section 23)</td>\n",
       "      <td>Controlled drugs</td>\n",
       "      <td>nottinghamshire</td>\n",
       "      <td>202001</td>\n",
       "    </tr>\n",
       "    <tr>\n",
       "      <th>1</th>\n",
       "      <td>cf46ed6e-e6bb-4bc9-959d-ef2e5a8162a0</td>\n",
       "      <td>Person search</td>\n",
       "      <td>2020-01-01 01:45:00+00:00</td>\n",
       "      <td>False</td>\n",
       "      <td>NaN</td>\n",
       "      <td>NaN</td>\n",
       "      <td>Male</td>\n",
       "      <td>18-24</td>\n",
       "      <td>White - English/Welsh/Scottish/Northern Irish/...</td>\n",
       "      <td>White</td>\n",
       "      <td>Police and Criminal Evidence Act 1984 (section 1)</td>\n",
       "      <td>Offensive weapons</td>\n",
       "      <td>nottinghamshire</td>\n",
       "      <td>202001</td>\n",
       "    </tr>\n",
       "    <tr>\n",
       "      <th>2</th>\n",
       "      <td>3601e51b-f40a-4466-b884-d9284497462c</td>\n",
       "      <td>Person search</td>\n",
       "      <td>2020-01-01 02:53:14+00:00</td>\n",
       "      <td>NaN</td>\n",
       "      <td>NaN</td>\n",
       "      <td>NaN</td>\n",
       "      <td>Male</td>\n",
       "      <td>18-24</td>\n",
       "      <td>Other ethnic group - Any other ethnic group</td>\n",
       "      <td>White</td>\n",
       "      <td>Police and Criminal Evidence Act 1984 (section 1)</td>\n",
       "      <td>Stolen goods</td>\n",
       "      <td>city-of-london</td>\n",
       "      <td>202001</td>\n",
       "    </tr>\n",
       "    <tr>\n",
       "      <th>3</th>\n",
       "      <td>95dae6a9-6775-4862-815f-61cf1b586384</td>\n",
       "      <td>Person search</td>\n",
       "      <td>2020-01-01 04:43:00+00:00</td>\n",
       "      <td>True</td>\n",
       "      <td>NaN</td>\n",
       "      <td>NaN</td>\n",
       "      <td>Female</td>\n",
       "      <td>18-24</td>\n",
       "      <td>Other ethnic group - Not stated</td>\n",
       "      <td>Mixed</td>\n",
       "      <td>Misuse of Drugs Act 1971 (section 23)</td>\n",
       "      <td>Controlled drugs</td>\n",
       "      <td>nottinghamshire</td>\n",
       "      <td>202001</td>\n",
       "    </tr>\n",
       "    <tr>\n",
       "      <th>4</th>\n",
       "      <td>467c4766-3a3f-489d-bf09-5a698748499e</td>\n",
       "      <td>Person search</td>\n",
       "      <td>2020-01-01 05:08:30+00:00</td>\n",
       "      <td>NaN</td>\n",
       "      <td>51.512598</td>\n",
       "      <td>-0.084967</td>\n",
       "      <td>Male</td>\n",
       "      <td>10-17</td>\n",
       "      <td>Other ethnic group - Not stated</td>\n",
       "      <td>Black</td>\n",
       "      <td>Misuse of Drugs Act 1971 (section 23)</td>\n",
       "      <td>Controlled drugs</td>\n",
       "      <td>city-of-london</td>\n",
       "      <td>202001</td>\n",
       "    </tr>\n",
       "  </tbody>\n",
       "</table>\n",
       "</div>"
      ],
      "text/plain": [
       "                         observation_id           Type  \\\n",
       "0  3d931c84-94d3-4a14-869c-b10fef26e9ad  Person search   \n",
       "1  cf46ed6e-e6bb-4bc9-959d-ef2e5a8162a0  Person search   \n",
       "2  3601e51b-f40a-4466-b884-d9284497462c  Person search   \n",
       "3  95dae6a9-6775-4862-815f-61cf1b586384  Person search   \n",
       "4  467c4766-3a3f-489d-bf09-5a698748499e  Person search   \n",
       "\n",
       "                       Date Part of a policing operation   Latitude  \\\n",
       "0 2020-01-01 00:56:00+00:00                        False        NaN   \n",
       "1 2020-01-01 01:45:00+00:00                        False        NaN   \n",
       "2 2020-01-01 02:53:14+00:00                          NaN        NaN   \n",
       "3 2020-01-01 04:43:00+00:00                         True        NaN   \n",
       "4 2020-01-01 05:08:30+00:00                          NaN  51.512598   \n",
       "\n",
       "   Longitude  Gender Age range  \\\n",
       "0        NaN    Male     18-24   \n",
       "1        NaN    Male     18-24   \n",
       "2        NaN    Male     18-24   \n",
       "3        NaN  Female     18-24   \n",
       "4  -0.084967    Male     10-17   \n",
       "\n",
       "                              Self-defined ethnicity  \\\n",
       "0  White - English/Welsh/Scottish/Northern Irish/...   \n",
       "1  White - English/Welsh/Scottish/Northern Irish/...   \n",
       "2        Other ethnic group - Any other ethnic group   \n",
       "3                    Other ethnic group - Not stated   \n",
       "4                    Other ethnic group - Not stated   \n",
       "\n",
       "  Officer-defined ethnicity  \\\n",
       "0                     White   \n",
       "1                     White   \n",
       "2                     White   \n",
       "3                     Mixed   \n",
       "4                     Black   \n",
       "\n",
       "                                         Legislation   Object of search  \\\n",
       "0              Misuse of Drugs Act 1971 (section 23)   Controlled drugs   \n",
       "1  Police and Criminal Evidence Act 1984 (section 1)  Offensive weapons   \n",
       "2  Police and Criminal Evidence Act 1984 (section 1)       Stolen goods   \n",
       "3              Misuse of Drugs Act 1971 (section 23)   Controlled drugs   \n",
       "4              Misuse of Drugs Act 1971 (section 23)   Controlled drugs   \n",
       "\n",
       "           station  referencia  \n",
       "0  nottinghamshire      202001  \n",
       "1  nottinghamshire      202001  \n",
       "2   city-of-london      202001  \n",
       "3  nottinghamshire      202001  \n",
       "4   city-of-london      202001  "
      ]
     },
     "execution_count": 61,
     "metadata": {},
     "output_type": "execute_result"
    }
   ],
   "source": [
    "X_test_1['Date']=pd.to_datetime(X_test_1['Date'], infer_datetime_format=True)\n",
    "\n",
    "# auxiliar Date feature (for temporal analyzis)\n",
    "X_test_1['referencia'] = X_test_1['Date'].dt.year*100 + X_test_1['Date'].dt.month\n",
    "\n",
    "X_test_1['Age range'] = X_test_1['Age range'].str.replace('\"', \"\")\n",
    "\n",
    "X_test_1.head()"
   ]
  },
  {
   "cell_type": "code",
   "execution_count": 62,
   "id": "demonstrated-interpretation",
   "metadata": {},
   "outputs": [],
   "source": [
    "# train['Part of a policing operation'] = train['Part of a policing operation'].fillna(False)\n"
   ]
  },
  {
   "cell_type": "code",
   "execution_count": 63,
   "id": "israeli-webcam",
   "metadata": {},
   "outputs": [
    {
     "name": "stdout",
     "output_type": "stream",
     "text": [
      "X_test_1\n",
      "Person search                2975\n",
      "Person and Vehicle search    1025\n",
      "Name: Type, dtype: int64\n",
      "Person search                0.74375\n",
      "Person and Vehicle search    0.25625\n",
      "Name: Type, dtype: float64\n",
      "\n",
      "Train_model\n",
      "person search                228807\n",
      "person and vehicle search     71526\n",
      "vehicle search                  114\n",
      "Name: Type, dtype: int64\n",
      "person search                0.761555\n",
      "person and vehicle search    0.238065\n",
      "vehicle search               0.000379\n",
      "Name: Type, dtype: float64\n"
     ]
    }
   ],
   "source": [
    "print(\"X_test_1\")\n",
    "print(X_test_1['Type'].value_counts(dropna=False))\n",
    "print(X_test_1['Type'].value_counts(dropna=False, normalize=True))\n",
    "\n",
    "print(\"\\nTrain_model\")\n",
    "print(train_model['Type'].value_counts(dropna=False))\n",
    "print(train_model['Type'].value_counts(dropna=False, normalize=True))"
   ]
  },
  {
   "cell_type": "code",
   "execution_count": 64,
   "id": "perceived-dodge",
   "metadata": {},
   "outputs": [
    {
     "name": "stdout",
     "output_type": "stream",
     "text": [
      "False    2887\n",
      "True     1113\n",
      "Name: true_class, dtype: int64\n"
     ]
    },
    {
     "data": {
      "text/plain": [
       "False    0.72175\n",
       "True     0.27825\n",
       "Name: true_class, dtype: float64"
      ]
     },
     "execution_count": 64,
     "metadata": {},
     "output_type": "execute_result"
    }
   ],
   "source": [
    "print(y_test_1['true_class'].value_counts(dropna=False))\n",
    "y_test_1['true_class'].value_counts(dropna=False, normalize=True)\n"
   ]
  },
  {
   "cell_type": "code",
   "execution_count": 65,
   "id": "chronic-carroll",
   "metadata": {},
   "outputs": [
    {
     "name": "stdout",
     "output_type": "stream",
     "text": [
      "0    238242\n",
      "1     62205\n",
      "Name: target, dtype: int64\n"
     ]
    },
    {
     "data": {
      "text/plain": [
       "0    0.792958\n",
       "1    0.207042\n",
       "Name: target, dtype: float64"
      ]
     },
     "execution_count": 65,
     "metadata": {},
     "output_type": "execute_result"
    }
   ],
   "source": [
    "print(train_model['target'].value_counts(dropna=False))\n",
    "train_model['target'].value_counts(dropna=False, normalize=True)"
   ]
  },
  {
   "cell_type": "code",
   "execution_count": 66,
   "id": "sensitive-examination",
   "metadata": {},
   "outputs": [
    {
     "data": {
      "image/png": "[encoded data removed]",
      "text/plain": [
       "<Figure size 864x360 with 1 Axes>"
      ]
     },
     "metadata": {
      "needs_background": "light"
     },
     "output_type": "display_data"
    }
   ],
   "source": [
    "plt.figure(figsize=(12,5));\n",
    "X_test_1['referencia'].value_counts(dropna=False).sort_index().plot(kind='bar',color='lightblue');\n",
    "plt.xlabel('Date');\n",
    "plt.ylabel('Count');"
   ]
  },
  {
   "cell_type": "code",
   "execution_count": 67,
   "id": "tamil-russian",
   "metadata": {},
   "outputs": [
    {
     "name": "stdout",
     "output_type": "stream",
     "text": [
      "X_test_1\n",
      "NaN      1797\n",
      "False    1209\n",
      "True      994\n",
      "Name: Part of a policing operation, dtype: int64\n",
      "NaN      0.44925\n",
      "False    0.30225\n",
      "True     0.24850\n",
      "Name: Part of a policing operation, dtype: float64\n",
      "\n",
      "Train_model\n",
      "False    284173\n",
      "True      16274\n",
      "Name: Part of a policing operation, dtype: int64\n",
      "False    0.945834\n",
      "True     0.054166\n",
      "Name: Part of a policing operation, dtype: float64\n"
     ]
    }
   ],
   "source": [
    "print(\"X_test_1\")\n",
    "print(X_test_1['Part of a policing operation'].value_counts(dropna=False))\n",
    "print(X_test_1['Part of a policing operation'].value_counts(dropna=False, normalize=True))\n",
    "\n",
    "print(\"\\nTrain_model\")\n",
    "print(train_model['Part of a policing operation'].value_counts(dropna=False))\n",
    "print(train_model['Part of a policing operation'].value_counts(dropna=False, normalize=True))"
   ]
  },
  {
   "cell_type": "code",
   "execution_count": 68,
   "id": "spread-phenomenon",
   "metadata": {},
   "outputs": [
    {
     "name": "stdout",
     "output_type": "stream",
     "text": [
      "X_test_1\n",
      "Male      3657\n",
      "Female     329\n",
      "Other       14\n",
      "Name: Gender, dtype: int64\n",
      "Male      0.91425\n",
      "Female    0.08225\n",
      "Other     0.00350\n",
      "Name: Gender, dtype: float64\n",
      "\n",
      "Train_model\n",
      "male      269927\n",
      "female     30248\n",
      "other        272\n",
      "Name: Gender, dtype: int64\n",
      "male      0.898418\n",
      "female    0.100677\n",
      "other     0.000905\n",
      "Name: Gender, dtype: float64\n"
     ]
    }
   ],
   "source": [
    "print(\"X_test_1\")\n",
    "print(X_test_1['Gender'].value_counts(dropna=False))\n",
    "print(X_test_1['Gender'].value_counts(dropna=False, normalize=True))\n",
    "\n",
    "print(\"\\nTrain_model\")\n",
    "print(train_model['Gender'].value_counts(dropna=False))\n",
    "print(train_model['Gender'].value_counts(dropna=False, normalize=True))"
   ]
  },
  {
   "cell_type": "code",
   "execution_count": 69,
   "id": "stuffed-gnome",
   "metadata": {},
   "outputs": [
    {
     "name": "stdout",
     "output_type": "stream",
     "text": [
      "X_test_1\n",
      "18-24       1417\n",
      "25-34       1161\n",
      "over 34      984\n",
      "10-17        430\n",
      "under 10       8\n",
      "Name: Age range, dtype: int64\n",
      "18-24       0.35425\n",
      "25-34       0.29025\n",
      "over 34     0.24600\n",
      "10-17       0.10750\n",
      "under 10    0.00200\n",
      "Name: Age range, dtype: float64\n",
      "\n",
      "Train_model\n",
      "18-24       102548\n",
      "25-34        72861\n",
      "over 34      65541\n",
      "under 18     59497\n",
      "Name: Age range, dtype: int64\n",
      "18-24       0.341318\n",
      "25-34       0.242509\n",
      "over 34     0.218145\n",
      "under 18    0.198028\n",
      "Name: Age range, dtype: float64\n"
     ]
    }
   ],
   "source": [
    "print(\"X_test_1\")\n",
    "print(X_test_1['Age range'].value_counts(dropna=False))\n",
    "print(X_test_1['Age range'].value_counts(dropna=False, normalize=True))\n",
    "\n",
    "print(\"\\nTrain_model\")\n",
    "print(train_model['Age range'].value_counts(dropna=False))\n",
    "print(train_model['Age range'].value_counts(dropna=False, normalize=True))"
   ]
  },
  {
   "cell_type": "code",
   "execution_count": 70,
   "id": "functioning-motor",
   "metadata": {},
   "outputs": [
    {
     "name": "stdout",
     "output_type": "stream",
     "text": [
      "X_test_1\n",
      "White    2529\n",
      "Black     654\n",
      "Asian     546\n",
      "Mixed     176\n",
      "Other      95\n",
      "Name: Officer-defined ethnicity, dtype: int64\n",
      "White    0.63225\n",
      "Black    0.16350\n",
      "Asian    0.13650\n",
      "Mixed    0.04400\n",
      "Other    0.02375\n",
      "Name: Officer-defined ethnicity, dtype: float64\n",
      "\n",
      "Train_model\n",
      "white    235885\n",
      "black     32261\n",
      "asian     24533\n",
      "other      7768\n",
      "Name: Officer-defined ethnicity, dtype: int64\n",
      "white    0.785114\n",
      "black    0.107377\n",
      "asian    0.081655\n",
      "other    0.025855\n",
      "Name: Officer-defined ethnicity, dtype: float64\n"
     ]
    }
   ],
   "source": [
    "print(\"X_test_1\")\n",
    "print(X_test_1['Officer-defined ethnicity'].value_counts(dropna=False))\n",
    "print(X_test_1['Officer-defined ethnicity'].value_counts(dropna=False, normalize=True))\n",
    "\n",
    "print(\"\\nTrain_model\")\n",
    "print(train_model['Officer-defined ethnicity'].value_counts(dropna=False))\n",
    "print(train_model['Officer-defined ethnicity'].value_counts(dropna=False, normalize=True))"
   ]
  },
  {
   "cell_type": "code",
   "execution_count": 71,
   "id": "mature-imperial",
   "metadata": {},
   "outputs": [
    {
     "name": "stdout",
     "output_type": "stream",
     "text": [
      "X_test_1\n",
      "Misuse of Drugs Act 1971 (section 23)                      2696\n",
      "Police and Criminal Evidence Act 1984 (section 1)          1220\n",
      "Criminal Justice Act 1988 (section 139B)                     54\n",
      "Firearms Act 1968 (section 47)                               17\n",
      "Poaching Prevention Act 1862 (section 2)                      8\n",
      "Criminal Justice and Public Order Act 1994 (section 60)       4\n",
      "NaN                                                           1\n",
      "Name: Legislation, dtype: int64\n",
      "Misuse of Drugs Act 1971 (section 23)                      0.67400\n",
      "Police and Criminal Evidence Act 1984 (section 1)          0.30500\n",
      "Criminal Justice Act 1988 (section 139B)                   0.01350\n",
      "Firearms Act 1968 (section 47)                             0.00425\n",
      "Poaching Prevention Act 1862 (section 2)                   0.00200\n",
      "Criminal Justice and Public Order Act 1994 (section 60)    0.00100\n",
      "NaN                                                        0.00025\n",
      "Name: Legislation, dtype: float64\n",
      "\n",
      "Train_model\n",
      "misuse of drugs act 1971 (section 23)                      175438\n",
      "police and criminal evidence act 1984 (section 1)           91781\n",
      "missing infomation                                          27669\n",
      "criminal justice and public order act 1994 (section 60)      2670\n",
      "firearms act 1968 (section 47)                               1830\n",
      "others                                                       1059\n",
      "Name: Legislation, dtype: int64\n",
      "misuse of drugs act 1971 (section 23)                      0.583923\n",
      "police and criminal evidence act 1984 (section 1)          0.305481\n",
      "missing infomation                                         0.092093\n",
      "criminal justice and public order act 1994 (section 60)    0.008887\n",
      "firearms act 1968 (section 47)                             0.006091\n",
      "others                                                     0.003525\n",
      "Name: Legislation, dtype: float64\n"
     ]
    }
   ],
   "source": [
    "print(\"X_test_1\")\n",
    "print(X_test_1['Legislation'].value_counts(dropna=False))\n",
    "print(X_test_1['Legislation'].value_counts(dropna=False, normalize=True))\n",
    "\n",
    "print(\"\\nTrain_model\")\n",
    "print(train_model['Legislation'].value_counts(dropna=False))\n",
    "print(train_model['Legislation'].value_counts(dropna=False, normalize=True))"
   ]
  },
  {
   "cell_type": "code",
   "execution_count": 72,
   "id": "headed-chapel",
   "metadata": {},
   "outputs": [
    {
     "name": "stdout",
     "output_type": "stream",
     "text": [
      "X_test_1\n",
      "Controlled drugs                       2681\n",
      "Article for use in theft                490\n",
      "Offensive weapons                       384\n",
      "Stolen goods                            363\n",
      "Evidence of offences under the Act       29\n",
      "Articles for use in criminal damage      28\n",
      "Firearms                                 16\n",
      "Game or poaching equipment                8\n",
      "Fireworks                                 1\n",
      "Name: Object of search, dtype: int64\n",
      "Controlled drugs                       0.67025\n",
      "Article for use in theft               0.12250\n",
      "Offensive weapons                      0.09600\n",
      "Stolen goods                           0.09075\n",
      "Evidence of offences under the Act     0.00725\n",
      "Articles for use in criminal damage    0.00700\n",
      "Firearms                               0.00400\n",
      "Game or poaching equipment             0.00200\n",
      "Fireworks                              0.00025\n",
      "Name: Object of search, dtype: float64\n",
      "\n",
      "Train_model\n",
      "controlled drugs                              188985\n",
      "offensive weapons                              35389\n",
      "article for use in theft                       30120\n",
      "stolen goods                                   26615\n",
      "articles for use in criminal damage             6447\n",
      "anything to threaten or harm anyone             4372\n",
      "firearms                                        2934\n",
      "evidence of offences under the act              1904\n",
      "psychoactive substances                         1701\n",
      "fireworks                                       1695\n",
      "detailed object of search unavailable            129\n",
      "game or poaching equipment                        96\n",
      "goods on which duty has not been paid etc.        23\n",
      "evidence of wildlife offences                     21\n",
      "crossbows                                         14\n",
      "seals or hunting equipment                         2\n",
      "Name: Object of search, dtype: int64\n",
      "controlled drugs                              0.629013\n",
      "offensive weapons                             0.117788\n",
      "article for use in theft                      0.100251\n",
      "stolen goods                                  0.088585\n",
      "articles for use in criminal damage           0.021458\n",
      "anything to threaten or harm anyone           0.014552\n",
      "firearms                                      0.009765\n",
      "evidence of offences under the act            0.006337\n",
      "psychoactive substances                       0.005662\n",
      "fireworks                                     0.005642\n",
      "detailed object of search unavailable         0.000429\n",
      "game or poaching equipment                    0.000320\n",
      "goods on which duty has not been paid etc.    0.000077\n",
      "evidence of wildlife offences                 0.000070\n",
      "crossbows                                     0.000047\n",
      "seals or hunting equipment                    0.000007\n",
      "Name: Object of search, dtype: float64\n"
     ]
    }
   ],
   "source": [
    "print(\"X_test_1\")\n",
    "print(X_test_1['Object of search'].value_counts(dropna=False))\n",
    "print(X_test_1['Object of search'].value_counts(dropna=False, normalize=True))\n",
    "\n",
    "print(\"\\nTrain_model\")\n",
    "print(train_model['Object of search'].value_counts(dropna=False))\n",
    "print(train_model['Object of search'].value_counts(dropna=False, normalize=True))"
   ]
  },
  {
   "cell_type": "code",
   "execution_count": 73,
   "id": "desperate-restriction",
   "metadata": {},
   "outputs": [
    {
     "name": "stdout",
     "output_type": "stream",
     "text": [
      "nottinghamshire    2203\n",
      "city-of-london     1272\n",
      "durham              494\n",
      "cambridgeshire       31\n",
      "Name: station, dtype: int64\n"
     ]
    },
    {
     "data": {
      "text/plain": [
       "nottinghamshire    0.55075\n",
       "city-of-london     0.31800\n",
       "durham             0.12350\n",
       "cambridgeshire     0.00775\n",
       "Name: station, dtype: float64"
      ]
     },
     "execution_count": 73,
     "metadata": {},
     "output_type": "execute_result"
    }
   ],
   "source": [
    "print(X_test_1['station'].value_counts(dropna=False))\n",
    "X_test_1['station'].value_counts(dropna=False, normalize=True)"
   ]
  },
  {
   "cell_type": "code",
   "execution_count": null,
   "id": "finished-switzerland",
   "metadata": {},
   "outputs": [],
   "source": [
    " "
   ]
  },
  {
   "cell_type": "markdown",
   "id": "close-macro",
   "metadata": {},
   "source": [
    "## desempenho do modelo "
   ]
  },
  {
   "cell_type": "code",
   "execution_count": 3,
   "id": "registered-redhead",
   "metadata": {},
   "outputs": [],
   "source": [
    "with open('columns_v2.json') as fh:\n",
    "    columns = json.load(fh)\n",
    "\n",
    "pipeline = joblib.load('pipeline_v2.pickle')\n",
    "\n",
    "with open('dtypes_v2.pickle', 'rb') as fh:\n",
    "    dtypes = pickle.load(fh)"
   ]
  },
  {
   "cell_type": "code",
   "execution_count": 4,
   "id": "orange-shape",
   "metadata": {},
   "outputs": [],
   "source": [
    "X_test_1['Date']=pd.to_datetime(X_test_1['Date'], infer_datetime_format=True)\n",
    "X_test_1['hour'] = X_test_1['Date'].dt.hour\n",
    "X_test_1['month'] = X_test_1['Date'].dt.month\n",
    "X_test_1['day_of_week'] = X_test_1['Date'].dt.day_name()"
   ]
  },
  {
   "cell_type": "code",
   "execution_count": 76,
   "id": "fatty-weapon",
   "metadata": {},
   "outputs": [],
   "source": [
    "# print(X_test_1['hour'].value_counts())\n",
    "# print(X_test_1['month'].value_counts())\n",
    "# print(X_test_1['day_of_week'].value_counts())"
   ]
  },
  {
   "cell_type": "code",
   "execution_count": 5,
   "id": "banner-discipline",
   "metadata": {},
   "outputs": [
    {
     "data": {
      "text/plain": [
       "misuse of drugs act 1971 (section 23)                      2696\n",
       "police and criminal evidence act 1984 (section 1)          1220\n",
       "others                                                       62\n",
       "firearms act 1968 (section 47)                               17\n",
       "criminal justice and public order act 1994 (section 60)       4\n",
       "missing infomation                                            1\n",
       "Name: Legislation, dtype: int64"
      ]
     },
     "execution_count": 5,
     "metadata": {},
     "output_type": "execute_result"
    }
   ],
   "source": [
    "X_test_1['Legislation']=X_test_1['Legislation'].fillna('missing infomation')\n",
    "X_test_1['Legislation'] = X_test_1['Legislation'].apply(lambda x: str(x).lower())\n",
    "\n",
    "legislation_categories = ['misuse of drugs act 1971 (section 23)', 'police and criminal evidence act 1984 (section 1)', \n",
    "                          'criminal justice and public order act 1994 (section 60)', 'firearms act 1968 (section 47)'\n",
    "                          ,'missing infomation'\n",
    "                         ]\n",
    "\n",
    "mask=(~X_test_1['Legislation'].isin(legislation_categories))\n",
    "X_test_1.loc[mask, 'Legislation']='others'\n",
    "\n",
    "X_test_1['Legislation'].value_counts()"
   ]
  },
  {
   "cell_type": "code",
   "execution_count": 6,
   "id": "bronze-seller",
   "metadata": {},
   "outputs": [],
   "source": [
    "X_test_1['Object of search'] = X_test_1['Object of search'].apply(lambda x: str(x).lower())\n",
    "X_test_1['Type'] = X_test_1['Type'].apply(lambda x: str(x).lower())\n",
    "X_test_1['Age range'] = X_test_1['Age range'].apply(lambda x: str(x).lower())\n",
    "X_test_1['Gender'] = X_test_1['Gender'].apply(lambda x: str(x).lower())\n",
    "X_test_1['Officer-defined ethnicity'] = X_test_1['Officer-defined ethnicity'].apply(lambda x: str(x).lower())"
   ]
  },
  {
   "cell_type": "code",
   "execution_count": 7,
   "id": "white-strip",
   "metadata": {},
   "outputs": [],
   "source": [
    "X_test_1['Latitude'] = X_test_1['Longitude'].fillna(0)\n",
    "X_test_1['Longitude'] = X_test_1['Longitude'].fillna(50)"
   ]
  },
  {
   "cell_type": "code",
   "execution_count": 8,
   "id": "disturbed-december",
   "metadata": {},
   "outputs": [],
   "source": [
    "X_test_1['Age range']=X_test_1['Age range'].replace({'under 10': 'under 18', '10-17': 'under 18'})"
   ]
  },
  {
   "cell_type": "code",
   "execution_count": 9,
   "id": "polish-indie",
   "metadata": {},
   "outputs": [],
   "source": [
    "X_test_1['Officer-defined ethnicity'] = X_test_1['Officer-defined ethnicity'].replace({'mixed': 'other'})"
   ]
  },
  {
   "cell_type": "code",
   "execution_count": 10,
   "id": "instrumental-stroke",
   "metadata": {},
   "outputs": [],
   "source": [
    "X_test_1_pred = X_test_1[columns].astype(dtypes)"
   ]
  },
  {
   "cell_type": "code",
   "execution_count": 12,
   "id": "satellite-underground",
   "metadata": {},
   "outputs": [
    {
     "data": {
      "text/html": [
       "<div>\n",
       "<style scoped>\n",
       "    .dataframe tbody tr th:only-of-type {\n",
       "        vertical-align: middle;\n",
       "    }\n",
       "\n",
       "    .dataframe tbody tr th {\n",
       "        vertical-align: top;\n",
       "    }\n",
       "\n",
       "    .dataframe thead th {\n",
       "        text-align: right;\n",
       "    }\n",
       "</style>\n",
       "<table border=\"1\" class=\"dataframe\">\n",
       "  <thead>\n",
       "    <tr style=\"text-align: right;\">\n",
       "      <th></th>\n",
       "      <th>Type</th>\n",
       "      <th>Part of a policing operation</th>\n",
       "      <th>Age range</th>\n",
       "      <th>Legislation</th>\n",
       "      <th>hour</th>\n",
       "      <th>month</th>\n",
       "      <th>day_of_week</th>\n",
       "    </tr>\n",
       "  </thead>\n",
       "  <tbody>\n",
       "    <tr>\n",
       "      <th>0</th>\n",
       "      <td>person search</td>\n",
       "      <td>False</td>\n",
       "      <td>18-24</td>\n",
       "      <td>misuse of drugs act 1971 (section 23)</td>\n",
       "      <td>0</td>\n",
       "      <td>1</td>\n",
       "      <td>Wednesday</td>\n",
       "    </tr>\n",
       "    <tr>\n",
       "      <th>1</th>\n",
       "      <td>person search</td>\n",
       "      <td>False</td>\n",
       "      <td>18-24</td>\n",
       "      <td>police and criminal evidence act 1984 (section 1)</td>\n",
       "      <td>1</td>\n",
       "      <td>1</td>\n",
       "      <td>Wednesday</td>\n",
       "    </tr>\n",
       "    <tr>\n",
       "      <th>2</th>\n",
       "      <td>person search</td>\n",
       "      <td>True</td>\n",
       "      <td>18-24</td>\n",
       "      <td>police and criminal evidence act 1984 (section 1)</td>\n",
       "      <td>2</td>\n",
       "      <td>1</td>\n",
       "      <td>Wednesday</td>\n",
       "    </tr>\n",
       "    <tr>\n",
       "      <th>3</th>\n",
       "      <td>person search</td>\n",
       "      <td>True</td>\n",
       "      <td>18-24</td>\n",
       "      <td>misuse of drugs act 1971 (section 23)</td>\n",
       "      <td>4</td>\n",
       "      <td>1</td>\n",
       "      <td>Wednesday</td>\n",
       "    </tr>\n",
       "    <tr>\n",
       "      <th>4</th>\n",
       "      <td>person search</td>\n",
       "      <td>True</td>\n",
       "      <td>under 18</td>\n",
       "      <td>misuse of drugs act 1971 (section 23)</td>\n",
       "      <td>5</td>\n",
       "      <td>1</td>\n",
       "      <td>Wednesday</td>\n",
       "    </tr>\n",
       "  </tbody>\n",
       "</table>\n",
       "</div>"
      ],
      "text/plain": [
       "            Type  Part of a policing operation Age range  \\\n",
       "0  person search                         False     18-24   \n",
       "1  person search                         False     18-24   \n",
       "2  person search                          True     18-24   \n",
       "3  person search                          True     18-24   \n",
       "4  person search                          True  under 18   \n",
       "\n",
       "                                         Legislation  hour  month day_of_week  \n",
       "0              misuse of drugs act 1971 (section 23)     0      1   Wednesday  \n",
       "1  police and criminal evidence act 1984 (section 1)     1      1   Wednesday  \n",
       "2  police and criminal evidence act 1984 (section 1)     2      1   Wednesday  \n",
       "3              misuse of drugs act 1971 (section 23)     4      1   Wednesday  \n",
       "4              misuse of drugs act 1971 (section 23)     5      1   Wednesday  "
      ]
     },
     "execution_count": 12,
     "metadata": {},
     "output_type": "execute_result"
    }
   ],
   "source": [
    "X_test_1_pred.head()"
   ]
  },
  {
   "cell_type": "code",
   "execution_count": 13,
   "id": "configured-elephant",
   "metadata": {},
   "outputs": [],
   "source": [
    "def ajuste_trueclass(obs):\n",
    "    if obs == True:\n",
    "        return 1\n",
    "    else:\n",
    "        return 0\n",
    "    \n",
    "y_real = y_test_1['true_class'].apply(ajuste_trueclass)"
   ]
  },
  {
   "cell_type": "code",
   "execution_count": 14,
   "id": "retained-fundamentals",
   "metadata": {},
   "outputs": [
    {
     "data": {
      "text/plain": [
       "array([[0.41125304, 0.58874696],\n",
       "       [0.66807719, 0.33192281],\n",
       "       [0.65280705, 0.34719295],\n",
       "       ...,\n",
       "       [0.73831175, 0.26168825],\n",
       "       [0.42899486, 0.57100514],\n",
       "       [0.44197821, 0.55802179]])"
      ]
     },
     "execution_count": 14,
     "metadata": {},
     "output_type": "execute_result"
    }
   ],
   "source": [
    "y_proba = pipeline.predict_proba(X_test_1_pred)\n",
    "y_proba"
   ]
  },
  {
   "cell_type": "code",
   "execution_count": 15,
   "id": "indian-capture",
   "metadata": {},
   "outputs": [],
   "source": [
    "y_pred_threshold = pd.Series([True if p >= 0.42629386525737095 else False for p in y_proba[:,1]]).to_numpy()"
   ]
  },
  {
   "cell_type": "code",
   "execution_count": 19,
   "id": "adaptive-consumption",
   "metadata": {},
   "outputs": [
    {
     "data": {
      "text/plain": [
       "0       1\n",
       "1       0\n",
       "2       0\n",
       "3       1\n",
       "4       1\n",
       "       ..\n",
       "3995    0\n",
       "3996    0\n",
       "3997    0\n",
       "3998    1\n",
       "3999    1\n",
       "Length: 4000, dtype: int64"
      ]
     },
     "execution_count": 19,
     "metadata": {},
     "output_type": "execute_result"
    }
   ],
   "source": [
    "y_pred = pd.Series(y_pred_threshold).apply(ajuste_trueclass)\n",
    "y_pred"
   ]
  },
  {
   "cell_type": "code",
   "execution_count": 20,
   "id": "scientific-archive",
   "metadata": {},
   "outputs": [
    {
     "data": {
      "text/plain": [
       "0.5410028099442585"
      ]
     },
     "execution_count": 20,
     "metadata": {},
     "output_type": "execute_result"
    }
   ],
   "source": [
    "# now get ourselves an actual prediction of the positive class\n",
    "\n",
    "# y_pred = pipeline.predict(X_test_1_pred)\n",
    "\n",
    "roc_auc_score(y_real, y_pred)"
   ]
  },
  {
   "cell_type": "code",
   "execution_count": null,
   "id": "attached-campbell",
   "metadata": {},
   "outputs": [],
   "source": []
  },
  {
   "cell_type": "code",
   "execution_count": null,
   "id": "positive-siemens",
   "metadata": {},
   "outputs": [],
   "source": []
  },
  {
   "cell_type": "code",
   "execution_count": 21,
   "id": "polyphonic-arthritis",
   "metadata": {},
   "outputs": [],
   "source": [
    "def verify_global_success_rate(y_true, y_pred, min_success_rate=0.1):\n",
    "    \"\"\"\n",
    "    Verifies the success rate on a test set is above a provided minimum\n",
    "    \"\"\"\n",
    "    \n",
    "    precision = precision_score(y_true, y_pred, pos_label=1)\n",
    "    is_satisfied = (precision >= min_success_rate)\n",
    "    \n",
    "    global_recall = recall_score(y_true, y_pred, pos_label=1)\n",
    "    \n",
    "    return is_satisfied, precision, global_recall"
   ]
  },
  {
   "cell_type": "code",
   "execution_count": null,
   "id": "breathing-clarity",
   "metadata": {},
   "outputs": [],
   "source": []
  },
  {
   "cell_type": "code",
   "execution_count": 22,
   "id": "varying-gabriel",
   "metadata": {},
   "outputs": [
    {
     "name": "stdout",
     "output_type": "stream",
     "text": [
      "Global Precision: (True, 0.30043785786460087)\n",
      "Global Recall: 0.8014375561545373\n"
     ]
    }
   ],
   "source": [
    "is_verified, success_rate, global_recall = verify_global_success_rate(y_real,y_pred)\n",
    "\n",
    "print(\"Global Precision: {}\".format((is_verified, success_rate)))\n",
    "print(\"Global Recall: {}\".format(global_recall))"
   ]
  },
  {
   "cell_type": "code",
   "execution_count": 23,
   "id": "chubby-courtesy",
   "metadata": {},
   "outputs": [],
   "source": [
    "def verify_station_success_rate(df, y_pred,y_real):\n",
    "    \"\"\"\n",
    "    Verifies the success rate per station\n",
    "    \"\"\"\n",
    "    stations = df['station'].unique()\n",
    "    \n",
    "    precisions = {}\n",
    "    recalls = {}\n",
    "    \n",
    "    for station in stations:\n",
    "        mask = (df['station']==station)\n",
    "            \n",
    "        precisions[station] = precision_score(y_real[mask], y_pred[mask], pos_label=1)\n",
    "        recalls[station] = recall_score(y_real[mask], y_pred[mask], pos_label=1)\n",
    "    \n",
    "    return precisions, recalls\n"
   ]
  },
  {
   "cell_type": "code",
   "execution_count": 24,
   "id": "annual-melbourne",
   "metadata": {},
   "outputs": [
    {
     "name": "stdout",
     "output_type": "stream",
     "text": [
      "Precision: {'nottinghamshire': 0.26793478260869563, 'city-of-london': 0.2623762376237624, 'durham': 0.6148648648648649, 'cambridgeshire': 0.2}\n",
      "Recall: {'nottinghamshire': 0.9444444444444444, 'city-of-london': 0.6883116883116883, 'durham': 0.6546762589928058, 'cambridgeshire': 1.0}\n"
     ]
    }
   ],
   "source": [
    "p, r = verify_station_success_rate(X_test_1,y_pred,y_real)\n",
    "\n",
    "print(\"Precision: {}\".format(p))\n",
    "print(\"Recall: {}\".format(r))"
   ]
  },
  {
   "cell_type": "code",
   "execution_count": 25,
   "id": "engaged-simon",
   "metadata": {},
   "outputs": [],
   "source": [
    "def verify_success_rate_objective_station(X_test, y_true, y_pred, sensitive_column='Object of search', \n",
    "                                          min_success_rate=0.1, min_samples=10):\n",
    "    \"\"\"\n",
    "    Verifies that success rate per station and search objective is higher than 10%\n",
    "    \"\"\"\n",
    "#     exclusion_list = ['articles for use in criminal damage','anything to threaten or harm anyone','fireworks',\n",
    "#                       'detailed object of search unavailable','game or poaching equipment',\n",
    "#                       'goods on which duty has not been paid etc.','evidence of wildlife offences',\n",
    "#                       'crossbows','seals or hunting equipment',\n",
    "#                       'firearms','evidence of offences under the act','psychoactive substances']\n",
    "    exclusion_list = []\n",
    "    \n",
    "    departments = X_test['station'].unique()\n",
    "    sensitive_classes = X_test[sensitive_column].unique()\n",
    "    \n",
    "    is_satisfied = True\n",
    "    problematic_departments = []\n",
    "    good_deparments = []\n",
    "    ignored_departments = []\n",
    "    for department in departments:\n",
    "        precisions = {}\n",
    "        for sensitive_class in sensitive_classes:\n",
    "            if sensitive_class not in exclusion_list:\n",
    "                mask = (X_test[sensitive_column] == sensitive_class) & (X_test['station'] == department)\n",
    "                if np.sum(mask) > min_samples:\n",
    "                    precisions[sensitive_class] = precision_score(y_true[mask], y_pred[mask], pos_label=1)\n",
    "                \n",
    "        if len(precisions) > 1:    \n",
    "            precision_min = np.min(list(precisions.values()))\n",
    "\n",
    "            if precision_min < min_success_rate:\n",
    "                is_satisfied = False\n",
    "                problematic_departments.append((department, precision_min, precisions))\n",
    "            else:\n",
    "                good_deparments.append((department, precision_min, precisions))\n",
    "        else:\n",
    "            ignored_departments.append((department, None, []))\n",
    "    \n",
    "    global_precisions = {}\n",
    "    for department in departments:\n",
    "        mask = (X_test['station'] == department)\n",
    "        if np.sum(mask) > min_samples:\n",
    "            global_precisions[department] = precision_score(y_true[mask], y_pred[mask])\n",
    "            \n",
    "    global_precisions_objective = {}\n",
    "    for obj in sensitive_classes:\n",
    "        mask = (X_test[sensitive_column] == obj)\n",
    "        if np.sum(mask) > min_samples:\n",
    "            global_precisions_objective[obj] = precision_score(y_true[mask], y_pred[mask])\n",
    "    \n",
    "        \n",
    "    return is_satisfied, problematic_departments, good_deparments, ignored_departments, global_precisions,global_precisions_objective"
   ]
  },
  {
   "cell_type": "code",
   "execution_count": 26,
   "id": "laden-russell",
   "metadata": {},
   "outputs": [
    {
     "name": "stdout",
     "output_type": "stream",
     "text": [
      "Requirement failed 😢\n",
      "Num problematic stations: 2\n",
      "Num good stations: 1\n",
      "Num ignored departments: 1\n",
      "\n",
      "Object of search rates: {'controlled drugs': 0.3074626865671642, 'offensive weapons': 0.16666666666666666, 'stolen goods': 0.4074074074074074, 'article for use in theft': 0.20588235294117646, 'articles for use in criminal damage': 0.0, 'evidence of offences under the act': 0.0, 'firearms': 0.0}\n",
      "\n",
      "Station rates: {'nottinghamshire': 0.26793478260869563, 'city-of-london': 0.2623762376237624, 'durham': 0.6148648648648649, 'cambridgeshire': 0.2}\n"
     ]
    }
   ],
   "source": [
    "is_satisfied, problematic_departments, good_deparments, ignored_departments,global_precisions, global_precisions_objective = verify_success_rate_objective_station(X_test_1, y_real, y_pred, min_success_rate=0.1)\n",
    "\n",
    "if not is_satisfied:\n",
    "    print(\"Requirement failed 😢\")\n",
    "    print(\"Num problematic stations: {}\".format(len(problematic_departments)))\n",
    "    print(\"Num good stations: {}\".format(len(good_deparments)))\n",
    "    print(\"Num ignored departments: {}\".format(len(ignored_departments)))\n",
    "    print(\"\\nObject of search rates: {}\".format(global_precisions_objective))\n",
    "    print(\"\\nStation rates: {}\".format(global_precisions))"
   ]
  },
  {
   "cell_type": "code",
   "execution_count": 27,
   "id": "written-volunteer",
   "metadata": {},
   "outputs": [
    {
     "data": {
      "text/plain": [
       "[('nottinghamshire',\n",
       "  0.0625,\n",
       "  {'controlled drugs': 0.2741652021089631,\n",
       "   'offensive weapons': 0.16470588235294117,\n",
       "   'stolen goods': 0.3125,\n",
       "   'article for use in theft': 0.0625}),\n",
       " ('city-of-london',\n",
       "  0.0,\n",
       "  {'controlled drugs': 0.27116212338593976,\n",
       "   'offensive weapons': 0.09523809523809523,\n",
       "   'stolen goods': 0.29411764705882354,\n",
       "   'article for use in theft': 0.28205128205128205,\n",
       "   'evidence of offences under the act': 0.0})]"
      ]
     },
     "execution_count": 27,
     "metadata": {},
     "output_type": "execute_result"
    }
   ],
   "source": [
    "problematic_departments"
   ]
  },
  {
   "cell_type": "code",
   "execution_count": 37,
   "id": "affecting-period",
   "metadata": {},
   "outputs": [],
   "source": [
    "def verify_no_discrimination(X_test, y_true, y_pred, sensitive_column, max_diff=0.05, min_samples=50):\n",
    "    \"\"\"\n",
    "    Verifies that no station has discrimination in between protected classes\n",
    "    \"\"\"\n",
    "    exclusion_class = ['Other', 'other']\n",
    "    \n",
    "    departments = X_test['station'].unique()\n",
    "    sensitive_classes = X_test[sensitive_column].unique()\n",
    "    \n",
    "    is_satisfied = True\n",
    "    problematic_departments = []\n",
    "    good_deparments = []\n",
    "    ignored_departments = []\n",
    "    for department in departments:\n",
    "        precisions = {}\n",
    "        for sensitive_class in sensitive_classes:\n",
    "            if sensitive_class not in exclusion_class:\n",
    "                mask = (X_test[sensitive_column] == sensitive_class) & (X_test['station'] == department)\n",
    "                if np.sum(mask) > min_samples:\n",
    "                    precisions[sensitive_class] = precision_score(y_true[mask], y_pred[mask], pos_label=1)\n",
    "                \n",
    "        if len(precisions) > 1:    \n",
    "            diff = np.max(list(precisions.values())) - np.min(list(precisions.values()))\n",
    "\n",
    "            if diff > max_diff:\n",
    "                is_satisfied = False\n",
    "                problematic_departments.append((department, diff, precisions))\n",
    "            else:\n",
    "                good_deparments.append((department, diff, precisions))\n",
    "        else:\n",
    "            ignored_departments.append((department, None, []))\n",
    "    \n",
    "    global_precisions = {}\n",
    "    for sensitive_class in sensitive_classes:\n",
    "        mask = (X_test[sensitive_column] == sensitive_class)\n",
    "        if np.sum(mask) > min_samples:\n",
    "            global_precisions[sensitive_class] = precision_score(y_true[mask], y_pred[mask], pos_label=1)\n",
    "    \n",
    "    if len(precisions) > 1:    \n",
    "        diff = np.max(list(precisions.values())) - np.min(list(precisions.values()))\n",
    "        if diff > max_diff:\n",
    "            is_satisfied = False\n",
    "        \n",
    "    return is_satisfied, problematic_departments, good_deparments, ignored_departments, global_precisions\n"
   ]
  },
  {
   "cell_type": "code",
   "execution_count": null,
   "id": "furnished-tennessee",
   "metadata": {},
   "outputs": [],
   "source": []
  },
  {
   "cell_type": "code",
   "execution_count": 38,
   "id": "rental-cooking",
   "metadata": {},
   "outputs": [
    {
     "name": "stdout",
     "output_type": "stream",
     "text": [
      "\n",
      "Ethnicity\n",
      "Requirement failed 😢\n",
      "Global rates: {'white': 0.34191382204812537, 'other': 0.2372093023255814, 'black': 0.24609375, 'asian': 0.22857142857142856}\n",
      "Num problematic departments: 2\n",
      "Num good departments: 0\n",
      "Num ignored departments: 2\n",
      "avg diff: 0.06791555813764048\n",
      "\n",
      "\n",
      "Gender\n",
      "Requirement failed 😢\n",
      "Global rates: {'male': 0.3018315018315018, 'female': 0.25877192982456143}\n",
      "Num problematic departments: 2\n",
      "Num good departments: 1\n",
      "Num ignored departments: 1\n",
      "avg diff: 0.06075779433933165\n"
     ]
    }
   ],
   "source": [
    "is_satisfied, problematic_departments_eth, good_deparments_eth, ignored_departments_eth, global_precisions_eth = verify_no_discrimination(\n",
    "    X_test_1, y_real, y_pred, 'Officer-defined ethnicity', 0.05)\n",
    "\n",
    "print(\"\\nEthnicity\")\n",
    "\n",
    "if not is_satisfied:\n",
    "    print(\"Requirement failed 😢\")\n",
    "    print(\"Global rates: {}\".format(global_precisions_eth))\n",
    "    print(\"Num problematic departments: {}\".format(len(problematic_departments_eth)))\n",
    "    print(\"Num good departments: {}\".format(len(good_deparments_eth)))\n",
    "    print(\"Num ignored departments: {}\".format(len(ignored_departments_eth)))\n",
    "\n",
    "    print(\"avg diff:\", np.mean([p[1] for p in problematic_departments_eth]))\n",
    "    \n",
    "    \n",
    "is_satisfied, problematic_departments_g, good_deparments_g, ignored_departments_g, global_precisions_g = verify_no_discrimination(\n",
    "    X_test_1, y_real, y_pred, 'Gender', 0.05)\n",
    "\n",
    "print(\"\\n\\nGender\")\n",
    "\n",
    "if not is_satisfied:\n",
    "    print(\"Requirement failed 😢\")\n",
    "    print(\"Global rates: {}\".format(global_precisions_g))\n",
    "    print(\"Num problematic departments: {}\".format(len(problematic_departments_g)))\n",
    "    print(\"Num good departments: {}\".format(len(good_deparments_g)))\n",
    "    print(\"Num ignored departments: {}\".format(len(ignored_departments_g)))\n",
    "    \n",
    "    print(\"avg diff:\", np.mean([p[1] for p in problematic_departments_g]))"
   ]
  },
  {
   "cell_type": "code",
   "execution_count": 35,
   "id": "romance-penny",
   "metadata": {},
   "outputs": [
    {
     "data": {
      "text/plain": [
       "[('nottinghamshire',\n",
       "  0.06998603714911178,\n",
       "  {'male': 0.27299355594610425, 'female': 0.20300751879699247}),\n",
       " ('durham',\n",
       "  0.05152955152955152,\n",
       "  {'male': 0.6023166023166023, 'female': 0.6538461538461539})]"
      ]
     },
     "execution_count": 35,
     "metadata": {},
     "output_type": "execute_result"
    }
   ],
   "source": [
    "problematic_departments_g"
   ]
  },
  {
   "cell_type": "code",
   "execution_count": 39,
   "id": "iraqi-employee",
   "metadata": {},
   "outputs": [
    {
     "data": {
      "text/plain": [
       "[('city-of-london',\n",
       "  0.04918515032064483,\n",
       "  {'male': 0.2665764546684709, 'female': 0.21739130434782608})]"
      ]
     },
     "execution_count": 39,
     "metadata": {},
     "output_type": "execute_result"
    }
   ],
   "source": [
    "good_deparments_g"
   ]
  },
  {
   "cell_type": "code",
   "execution_count": 40,
   "id": "acute-snapshot",
   "metadata": {},
   "outputs": [
    {
     "data": {
      "text/plain": [
       "[('nottinghamshire',\n",
       "  0.05954587581093604,\n",
       "  {'white': 0.28846153846153844,\n",
       "   'black': 0.24363636363636362,\n",
       "   'asian': 0.2289156626506024}),\n",
       " ('city-of-london',\n",
       "  0.07628524046434493,\n",
       "  {'white': 0.29850746268656714,\n",
       "   'black': 0.24680851063829787,\n",
       "   'asian': 0.2222222222222222})]"
      ]
     },
     "execution_count": 40,
     "metadata": {},
     "output_type": "execute_result"
    }
   ],
   "source": [
    "problematic_departments_eth"
   ]
  },
  {
   "cell_type": "code",
   "execution_count": 111,
   "id": "recreational-league",
   "metadata": {},
   "outputs": [
    {
     "data": {
      "text/plain": [
       "[]"
      ]
     },
     "execution_count": 111,
     "metadata": {},
     "output_type": "execute_result"
    }
   ],
   "source": [
    "ignored_departments_eth"
   ]
  },
  {
   "cell_type": "code",
   "execution_count": null,
   "id": "equal-electricity",
   "metadata": {},
   "outputs": [],
   "source": []
  },
  {
   "cell_type": "code",
   "execution_count": null,
   "id": "integrated-mouse",
   "metadata": {},
   "outputs": [],
   "source": []
  }
 ],
 "metadata": {
  "kernelspec": {
   "display_name": "Python 3",
   "language": "python",
   "name": "python3"
  },
  "language_info": {
   "codemirror_mode": {
    "name": "ipython",
    "version": 3
   },
   "file_extension": ".py",
   "mimetype": "text/x-python",
   "name": "python",
   "nbconvert_exporter": "python",
   "pygments_lexer": "ipython3",
   "version": "3.6.9"
  }
 },
 "nbformat": 4,
 "nbformat_minor": 5
}
