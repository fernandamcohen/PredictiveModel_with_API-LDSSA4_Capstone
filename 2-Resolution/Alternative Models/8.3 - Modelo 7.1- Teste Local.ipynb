{
 "cells": [
  {
   "cell_type": "code",
   "execution_count": 1,
   "id": "studied-programming",
   "metadata": {},
   "outputs": [],
   "source": [
    "import json\n",
    "import joblib\n",
    "import pickle\n",
    "import pandas as pd\n",
    "import numpy as np\n",
    "# import seaborn as sns\n",
    "from sklearn.model_selection import train_test_split\n",
    "from sklearn.pipeline import make_pipeline, Pipeline\n",
    "from sklearn.impute import SimpleImputer\n",
    "from sklearn.preprocessing import StandardScaler, OneHotEncoder\n",
    "from sklearn.compose import ColumnTransformer\n",
    "from sklearn.ensemble import RandomForestClassifier\n",
    "from sklearn.metrics import precision_score, recall_score, roc_auc_score\n",
    "from sklearn.metrics import precision_recall_curve\n",
    "\n",
    "import matplotlib.pyplot as plt\n",
    "import matplotlib.image as mpimg\n",
    "%matplotlib inline\n",
    "\n",
    "import warnings\n",
    "warnings.filterwarnings('ignore')\n",
    "\n",
    "import json\n",
    "import requests\n",
    "import numpy as np\n",
    "from uuid import uuid4\n",
    "from sklearn.metrics import precision_score, recall_score"
   ]
  },
  {
   "cell_type": "code",
   "execution_count": 5,
   "id": "initial-packet",
   "metadata": {},
   "outputs": [
    {
     "name": "stdout",
     "output_type": "stream",
     "text": [
      "{\n",
      "  \"outcome\": true\n",
      "}\n",
      "\n"
     ]
    }
   ],
   "source": [
    "observation = {\n",
    "    \"observation_id\": \"teste2111\", \n",
    "    \"Type\": \"Person search\", \n",
    "    \"Date\": \"2020-01-01T12:35:00+00:00\", \n",
    "    \"Part of a policing operation\": True, \n",
    "    \"Latitude\": np.nan, \n",
    "    \"Longitude\": np.nan, \n",
    "    \"Gender\": \"Male\", \n",
    "    \"Age range\": \"over 34\", \n",
    "    \"Officer-defined ethnicity\": \"White\", \n",
    "    \"Legislation\": \"Misuse of Drugs Act 1971 (section 23)\", \n",
    "    \"Object of search\": \"Controlled drugs\", \n",
    "    \"station\": \"city-of-london\"\n",
    "}\n",
    "\n",
    "\n",
    "url=\"http://127.0.0.1:5000/should_search/\"\n",
    "headers = {'Content-Type': 'application/json'}\n",
    "\n",
    "r = requests.post(url, data=json.dumps(observation), headers=headers)\n",
    "\n",
    "print(r.text)"
   ]
  },
  {
   "cell_type": "code",
   "execution_count": null,
   "id": "failing-glenn",
   "metadata": {},
   "outputs": [],
   "source": [
    "curl https://<your app name here>.herokuapp.com/should_search/ -d '{\"observation_id\": \"3601e51b-f40a-4466-b884-d9284497462c\", \"Type\": \"Person search\", \"Date\": \"2020-01-01T02:53:14+00:00\", \"Part of a policing operation\": null, \"Latitude\": null, \"Longitude\": null, \"Gender\": \"Male\", \"Age range\": \"18-24\", \"Officer-defined ethnicity\": \"White\", \"Legislation\": \"Police and Criminal Evidence Act 1984 (section 1)\", \"Object of search\": \"Stolen goods\", \"station\": \"city-of-london\"}' -H \"Content-Type: application/json"
   ]
  },
  {
   "cell_type": "code",
   "execution_count": 33,
   "id": "utility-macro",
   "metadata": {},
   "outputs": [
    {
     "data": {
      "text/plain": [
       "<Response [200]>"
      ]
     },
     "execution_count": 33,
     "metadata": {},
     "output_type": "execute_result"
    }
   ],
   "source": [
    "r"
   ]
  },
  {
   "cell_type": "code",
   "execution_count": 44,
   "id": "chief-shape",
   "metadata": {},
   "outputs": [
    {
     "name": "stdout",
     "output_type": "stream",
     "text": [
      "{\n",
      "  \"observation_id\": \"teste16\", \n",
      "  \"outcome\": true, \n",
      "  \"predicted_outcome\": false\n",
      "}\n",
      "\n"
     ]
    }
   ],
   "source": [
    "observation = {\n",
    "    \"observation_id\": \"teste16\", \n",
    "    \"outcome\": True\n",
    "}\n",
    "\n",
    "\n",
    "url=\"http://127.0.0.1:5000/search_result/\"\n",
    "headers = {'Content-Type': 'application/json'}\n",
    "\n",
    "r = requests.post(url, data=json.dumps(observation), headers=headers)\n",
    "\n",
    "print(r.text)"
   ]
  },
  {
   "cell_type": "markdown",
   "id": "settled-bedroom",
   "metadata": {},
   "source": [
    "## Testando API"
   ]
  },
  {
   "cell_type": "code",
   "execution_count": 7,
   "id": "accompanied-nelson",
   "metadata": {},
   "outputs": [
    {
     "name": "stdout",
     "output_type": "stream",
     "text": [
      "{\"outcome\":true}\n",
      "\n"
     ]
    }
   ],
   "source": [
    "observation = {\n",
    "    \"observation_id\": \"fernandateste1\", \n",
    "    \"Type\": \"x\", \n",
    "    \"Date\": \"2020-12-06T15:40:00+00:00\", \n",
    "    \"Part of a policing operation\": True, \n",
    "    \"Latitude\": np.nan, \n",
    "    \"Longitude\": -0.2, \n",
    "    \"Gender\": 'male', \n",
    "    \"Age range\": \"over 34\", \n",
    "    \"Officer-defined ethnicity\": \"White\", \n",
    "    \"Legislation\": \"Misuse of Drugs Act 1971 (section 23)\", \n",
    "    \"Object of search\": \"Controlled drugs\", \n",
    "    \"station\": \"stringX\"\n",
    "}\n",
    "\n",
    "\n",
    "url=\"http://capstone-fpmc.herokuapp.com/should_search/\"\n",
    "headers = {'Content-Type': 'application/json'}\n",
    "\n",
    "r = requests.post(url, data=json.dumps(observation), headers=headers)\n",
    "\n",
    "print(r.text)"
   ]
  },
  {
   "cell_type": "code",
   "execution_count": 81,
   "id": "polar-pregnancy",
   "metadata": {},
   "outputs": [
    {
     "name": "stdout",
     "output_type": "stream",
     "text": [
      "{\"outcome\":true}\n",
      "\n"
     ]
    }
   ],
   "source": [
    "observation = {'observation_id': 'teste1', \n",
    "               'Type': 'Person search', \n",
    "               'Date': '2020-01-01T05:26:13+00:00', \n",
    "               'Part of a policing operation': None, \n",
    "               'Latitude': 51.512598, \n",
    "               'Longitude': -0.084967, \n",
    "               'Gender': 'Male', \n",
    "               'Age range': '10-17', \n",
    "               'Officer-defined ethnicity': 'Black', \n",
    "               'Legislation': 'Misuse of Drugs Act 1971 (section 23)', \n",
    "               'Object of search': 'Controlled drugs', \n",
    "               'station': 'city-of-london'}\n",
    "\n",
    "\n",
    "url=\"http://capstone-fpmc.herokuapp.com/should_search/\"\n",
    "headers = {'Content-Type': 'application/json'}\n",
    "\n",
    "r = requests.post(url, data=json.dumps(observation), headers=headers)\n",
    "\n",
    "print(r.text)"
   ]
  },
  {
   "cell_type": "code",
   "execution_count": 8,
   "id": "smoking-japanese",
   "metadata": {},
   "outputs": [
    {
     "name": "stdout",
     "output_type": "stream",
     "text": [
      "{\"observation_id\":\"fernandateste1\",\"outcome\":true,\"predicted_outcome\":true}\n",
      "\n"
     ]
    }
   ],
   "source": [
    "observation = {\n",
    "    \"observation_id\": \"fernandateste1\", \n",
    "    \"outcome\": True\n",
    "}\n",
    "\n",
    "\n",
    "url=\"http://capstone-fpmc.herokuapp.com/search_result/\"\n",
    "headers = {'Content-Type': 'application/json'}\n",
    "\n",
    "r = requests.post(url, data=json.dumps(observation), headers=headers)\n",
    "\n",
    "print(r.text)"
   ]
  },
  {
   "cell_type": "code",
   "execution_count": null,
   "id": "considered-commander",
   "metadata": {},
   "outputs": [],
   "source": []
  },
  {
   "cell_type": "markdown",
   "id": "champion-cloud",
   "metadata": {},
   "source": [
    "## Teste Juliana"
   ]
  },
  {
   "cell_type": "code",
   "execution_count": null,
   "id": "floral-partnership",
   "metadata": {},
   "outputs": [],
   "source": [
    "# https://heroku-model-deploy-jujulian3.herokuapp.com"
   ]
  },
  {
   "cell_type": "code",
   "execution_count": 56,
   "id": "rental-captain",
   "metadata": {},
   "outputs": [
    {
     "name": "stdout",
     "output_type": "stream",
     "text": [
      "{\"outcome\":true}\n",
      "\n"
     ]
    }
   ],
   "source": [
    "observation = {\n",
    "    \"observation_id\": \"testeFernanda3\", \n",
    "    \"Type\": \"Person search\", \n",
    "    \"Date\": \"2020-01-06T15:40:00+00:00\", \n",
    "    \"Part of a policing operation\": True, \n",
    "    \"Latitude\": 10.0, \n",
    "    \"Longitude\": -0.2, \n",
    "    \"Gender\": 'Male', \n",
    "    \"Age range\": \"over 34\", \n",
    "    \"Officer-defined ethnicity\": \"Black\", \n",
    "    \"Legislation\": \"\", \n",
    "    \"Object of search\": \"Controlled drugs\", \n",
    "    \"station\": \"devon-and-cornwall\"\n",
    "}\n",
    "\n",
    "\n",
    "url=\"https://heroku-model-deploy-jujulian3.herokuapp.com/should_search/\"\n",
    "headers = {'Content-Type': 'application/json'}\n",
    "\n",
    "r = requests.post(url, data=json.dumps(observation), headers=headers)\n",
    "\n",
    "print(r.text)"
   ]
  },
  {
   "cell_type": "code",
   "execution_count": null,
   "id": "utility-television",
   "metadata": {},
   "outputs": [],
   "source": []
  },
  {
   "cell_type": "markdown",
   "id": "utility-factor",
   "metadata": {},
   "source": [
    "## Teste Sonia"
   ]
  },
  {
   "cell_type": "code",
   "execution_count": null,
   "id": "developing-prefix",
   "metadata": {},
   "outputs": [],
   "source": [
    "# https://police-departments.herokuapp.com"
   ]
  },
  {
   "cell_type": "code",
   "execution_count": 76,
   "id": "buried-growth",
   "metadata": {},
   "outputs": [
    {
     "name": "stdout",
     "output_type": "stream",
     "text": [
      "{\"error\":\"Field Latitude is <class 'int'>, while it should be <class 'float'>\"}\n",
      "\n"
     ]
    }
   ],
   "source": [
    "observation = {\n",
    "    \"observation_id\": \"testeFernanda1\", \n",
    "    \"Type\": \"Person search\", \n",
    "    \"Date\": \"2020-01-06T15:40:00+00:00\", \n",
    "    \"Part of a policing operation\": True, \n",
    "    \"Latitude\": 49, \n",
    "    \"Longitude\": -0.2, \n",
    "    \"Gender\": 'Male', \n",
    "    \"Age range\": \"over 34\", \n",
    "    \"Officer-defined ethnicity\": \"Black\", \n",
    "    \"Legislation\": \"Misuse of Drugs Act 1971 (section 23)\", \n",
    "    \"Object of search\": \"Controlled drugs\", \n",
    "    \"station\": \"devon-and-cornwall\"\n",
    "}\n",
    "\n",
    "\n",
    "url=\"https://police-departments.herokuapp.com/should_search/\"\n",
    "headers = {'Content-Type': 'application/json'}\n",
    "\n",
    "r = requests.post(url, data=json.dumps(observation), headers=headers)\n",
    "\n",
    "print(r.text)"
   ]
  },
  {
   "cell_type": "code",
   "execution_count": null,
   "id": "blocked-hartford",
   "metadata": {},
   "outputs": [],
   "source": []
  },
  {
   "cell_type": "code",
   "execution_count": null,
   "id": "modern-county",
   "metadata": {},
   "outputs": [],
   "source": []
  },
  {
   "cell_type": "code",
   "execution_count": null,
   "id": "national-diesel",
   "metadata": {},
   "outputs": [],
   "source": []
  },
  {
   "cell_type": "code",
   "execution_count": null,
   "id": "external-encyclopedia",
   "metadata": {},
   "outputs": [],
   "source": []
  },
  {
   "cell_type": "code",
   "execution_count": null,
   "id": "killing-donor",
   "metadata": {},
   "outputs": [],
   "source": []
  }
 ],
 "metadata": {
  "kernelspec": {
   "display_name": "Python 3",
   "language": "python",
   "name": "python3"
  },
  "language_info": {
   "codemirror_mode": {
    "name": "ipython",
    "version": 3
   },
   "file_extension": ".py",
   "mimetype": "text/x-python",
   "name": "python",
   "nbconvert_exporter": "python",
   "pygments_lexer": "ipython3",
   "version": "3.6.9"
  }
 },
 "nbformat": 4,
 "nbformat_minor": 5
}
