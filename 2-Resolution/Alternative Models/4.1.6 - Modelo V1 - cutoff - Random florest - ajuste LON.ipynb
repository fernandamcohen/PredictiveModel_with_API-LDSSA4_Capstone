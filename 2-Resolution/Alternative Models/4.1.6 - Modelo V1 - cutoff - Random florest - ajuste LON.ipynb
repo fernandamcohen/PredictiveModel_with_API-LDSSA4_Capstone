{
 "cells": [
  {
   "cell_type": "code",
   "execution_count": 1,
   "id": "committed-webster",
   "metadata": {},
   "outputs": [],
   "source": [
    "import json\n",
    "import joblib\n",
    "import pickle\n",
    "import pandas as pd\n",
    "import numpy as np\n",
    "# import seaborn as sns\n",
    "from sklearn.model_selection import train_test_split\n",
    "from sklearn.pipeline import make_pipeline, Pipeline\n",
    "from sklearn.impute import SimpleImputer\n",
    "from sklearn.preprocessing import StandardScaler, OneHotEncoder\n",
    "from sklearn.compose import ColumnTransformer\n",
    "from sklearn.ensemble import RandomForestClassifier\n",
    "from sklearn.metrics import precision_score, recall_score, roc_auc_score\n",
    "from sklearn.metrics import precision_recall_curve\n",
    "\n",
    "import matplotlib.pyplot as plt\n",
    "import matplotlib.image as mpimg\n",
    "%matplotlib inline\n",
    "\n",
    "import warnings\n",
    "warnings.filterwarnings('ignore')\n",
    "\n",
    "from lightgbm import LGBMClassifier"
   ]
  },
  {
   "cell_type": "markdown",
   "id": "experimental-fairy",
   "metadata": {},
   "source": [
    "### Import dataset"
   ]
  },
  {
   "cell_type": "code",
   "execution_count": 2,
   "id": "acute-chassis",
   "metadata": {},
   "outputs": [],
   "source": [
    "train = pd.read_csv('data/train.csv')"
   ]
  },
  {
   "cell_type": "code",
   "execution_count": 3,
   "id": "recent-politics",
   "metadata": {},
   "outputs": [
    {
     "data": {
      "text/plain": [
       "False    660611\n",
       "dtype: int64"
      ]
     },
     "execution_count": 3,
     "metadata": {},
     "output_type": "execute_result"
    }
   ],
   "source": [
    "# no duplicate lines\n",
    "train.duplicated().value_counts()"
   ]
  },
  {
   "cell_type": "code",
   "execution_count": 4,
   "id": "single-welding",
   "metadata": {},
   "outputs": [
    {
     "data": {
      "text/plain": [
       "False    660611\n",
       "Name: observation_id, dtype: int64"
      ]
     },
     "execution_count": 4,
     "metadata": {},
     "output_type": "execute_result"
    }
   ],
   "source": [
    "# no duplicate observation_id\n",
    "train['observation_id'].duplicated().value_counts()"
   ]
  },
  {
   "cell_type": "markdown",
   "id": "outdoor-vietnamese",
   "metadata": {},
   "source": [
    "### Features adjustments"
   ]
  },
  {
   "cell_type": "code",
   "execution_count": 5,
   "id": "assured-talent",
   "metadata": {},
   "outputs": [],
   "source": [
    "# transforming Date column in datetime\n",
    "train['Date']=pd.to_datetime(train['Date'], infer_datetime_format=True)\n",
    "\n",
    "# auxiliar Date feature (for temporal analyzis)\n",
    "train['referencia'] = train['Date'].dt.year*100 + train['Date'].dt.month\n",
    "\n",
    "# according to Dr Wilson's instructions: \n",
    "# \"If there was a search and the outcome linked to object of search has not been written please consider it to be False\"\n",
    "train['Outcome linked to object of search'] = train['Outcome linked to object of search'].fillna(False)\n",
    "\n",
    "# according to Dr Wilson's instructions missing values means False \n",
    "train['Part of a policing operation'] = train['Part of a policing operation'].fillna(False)\n",
    "\n",
    "# Outer clothing be filled with False? \n",
    "#Yes, except when it’s just a vehicle search, in which case it makes no sense and should be kept as NaN\n",
    "mask= ((train['Type']!='Vehicle search') & \n",
    "      (train['Removal of more than just outer clothing'] != True) &\n",
    "      (train['Removal of more than just outer clothing'] != False))\n",
    "\n",
    "train.loc[mask, 'Removal of more than just outer clothing']=False"
   ]
  },
  {
   "cell_type": "markdown",
   "id": "affiliated-information",
   "metadata": {},
   "source": [
    "### Filtering / Exclusions"
   ]
  },
  {
   "cell_type": "code",
   "execution_count": 6,
   "id": "junior-queue",
   "metadata": {},
   "outputs": [],
   "source": [
    "# The Metropolitan station (which is very large and has lots of data in the training set) has the features \n",
    "# Outcome linked to object of search and Removal of outer clothing without any data (always missing). \n",
    "# Is this a known problem, and if so how should we proceed? \n",
    "# Thank you for bringing this to our attention, I’ve contacted the administration at the Metropolitan and asked that \n",
    "# they fix their data entry. Please include this in your report, and do not use the Metropolitan station’s data \n",
    "# for training your models. They will not be in the test set. "
   ]
  },
  {
   "cell_type": "code",
   "execution_count": 7,
   "id": "ignored-jimmy",
   "metadata": {},
   "outputs": [],
   "source": [
    "# Gwent and Humberside have the same problem of Metropolitan. So I will exclude this observations"
   ]
  },
  {
   "cell_type": "code",
   "execution_count": 8,
   "id": "returning-crest",
   "metadata": {},
   "outputs": [
    {
     "name": "stdout",
     "output_type": "stream",
     "text": [
      "Exclusion of 355849 observations\n"
     ]
    },
    {
     "data": {
      "text/plain": [
       "(304762, 17)"
      ]
     },
     "execution_count": 8,
     "metadata": {},
     "output_type": "execute_result"
    }
   ],
   "source": [
    "stations_to_exclude = ['metropolitan', 'gwent', 'humberside']\n",
    "train_model = train[~train['station'].isin(stations_to_exclude)]\n",
    "print(\"Exclusion of {} observations\".format(train[train['station'].isin(stations_to_exclude)]['observation_id'].nunique()))\n",
    "train_model.shape"
   ]
  },
  {
   "cell_type": "code",
   "execution_count": 9,
   "id": "resident-weekend",
   "metadata": {},
   "outputs": [],
   "source": [
    "# Search on individuals with less than 10 years seems unrealist, so I will remove it"
   ]
  },
  {
   "cell_type": "code",
   "execution_count": 10,
   "id": "fatty-compromise",
   "metadata": {},
   "outputs": [],
   "source": [
    "# age_to_exclude = ['under 10']\n",
    "# print(\"Exclusion of {} observations\".format(train_model[train_model['Age range'].isin(age_to_exclude)]['observation_id'].nunique()))\n",
    "# train_model = train_model[~train_model['Age range'].isin(age_to_exclude)]\n",
    "# train_model.shape"
   ]
  },
  {
   "cell_type": "markdown",
   "id": "rocky-topic",
   "metadata": {},
   "source": [
    "### Target"
   ]
  },
  {
   "cell_type": "code",
   "execution_count": 11,
   "id": "combined-despite",
   "metadata": {},
   "outputs": [],
   "source": [
    "positive_outcome = ['Local resolution',\n",
    "           'Community resolution',\n",
    "           'Arrest',\n",
    "           'Article found - Detailed outcome unavailable',\n",
    "           'Caution (simple or conditional)',\n",
    "           'Khat or Cannabis warning',\n",
    "           'Offender cautioned',\n",
    "           'Offender given drugs possession warning',\n",
    "           'Offender given penalty notice',\n",
    "           'Penalty Notice for Disorder',\n",
    "           'Summons / charged by post',\n",
    "           'Suspect arrested',\n",
    "           'Suspect summonsed to court',\n",
    "           'Suspected psychoactive substances seized - No further action']\n",
    "\n",
    "train_model['positive_outcome'] = train_model['Outcome'].isin(positive_outcome)"
   ]
  },
  {
   "cell_type": "code",
   "execution_count": 12,
   "id": "white-quality",
   "metadata": {},
   "outputs": [],
   "source": [
    "train_model['target'] = 0\n",
    "mask=((train_model[\"positive_outcome\"] == True) & (train_model[\"Outcome linked to object of search\"]==True))\n",
    "train_model.loc[mask, 'target']=1"
   ]
  },
  {
   "cell_type": "code",
   "execution_count": 13,
   "id": "balanced-humor",
   "metadata": {},
   "outputs": [
    {
     "data": {
      "text/html": [
       "<div>\n",
       "<style scoped>\n",
       "    .dataframe tbody tr th:only-of-type {\n",
       "        vertical-align: middle;\n",
       "    }\n",
       "\n",
       "    .dataframe tbody tr th {\n",
       "        vertical-align: top;\n",
       "    }\n",
       "\n",
       "    .dataframe thead th {\n",
       "        text-align: right;\n",
       "    }\n",
       "</style>\n",
       "<table border=\"1\" class=\"dataframe\">\n",
       "  <thead>\n",
       "    <tr style=\"text-align: right;\">\n",
       "      <th>Outcome linked to object of search</th>\n",
       "      <th>False</th>\n",
       "      <th>True</th>\n",
       "      <th>Total</th>\n",
       "    </tr>\n",
       "    <tr>\n",
       "      <th>positive_outcome</th>\n",
       "      <th></th>\n",
       "      <th></th>\n",
       "      <th></th>\n",
       "    </tr>\n",
       "  </thead>\n",
       "  <tbody>\n",
       "    <tr>\n",
       "      <th>False</th>\n",
       "      <td>174918</td>\n",
       "      <td>37987</td>\n",
       "      <td>212905</td>\n",
       "    </tr>\n",
       "    <tr>\n",
       "      <th>True</th>\n",
       "      <td>29571</td>\n",
       "      <td>62286</td>\n",
       "      <td>91857</td>\n",
       "    </tr>\n",
       "    <tr>\n",
       "      <th>Total</th>\n",
       "      <td>204489</td>\n",
       "      <td>100273</td>\n",
       "      <td>304762</td>\n",
       "    </tr>\n",
       "  </tbody>\n",
       "</table>\n",
       "</div>"
      ],
      "text/plain": [
       "Outcome linked to object of search   False    True   Total\n",
       "positive_outcome                                          \n",
       "False                               174918   37987  212905\n",
       "True                                 29571   62286   91857\n",
       "Total                               204489  100273  304762"
      ]
     },
     "execution_count": 13,
     "metadata": {},
     "output_type": "execute_result"
    }
   ],
   "source": [
    "pd.crosstab(train_model[\"positive_outcome\"],train_model[\"Outcome linked to object of search\"],\n",
    "            margins=True, margins_name=\"Total\",dropna=False)"
   ]
  },
  {
   "cell_type": "code",
   "execution_count": 14,
   "id": "individual-funds",
   "metadata": {},
   "outputs": [
    {
     "name": "stdout",
     "output_type": "stream",
     "text": [
      "0    242476\n",
      "1     62286\n",
      "Name: target, dtype: int64\n"
     ]
    },
    {
     "data": {
      "text/plain": [
       "0    0.795624\n",
       "1    0.204376\n",
       "Name: target, dtype: float64"
      ]
     },
     "execution_count": 14,
     "metadata": {},
     "output_type": "execute_result"
    }
   ],
   "source": [
    "print(train_model['target'].value_counts(dropna=False))\n",
    "train_model['target'].value_counts(dropna=False,normalize=True)"
   ]
  },
  {
   "cell_type": "code",
   "execution_count": 15,
   "id": "entertaining-provider",
   "metadata": {},
   "outputs": [],
   "source": [
    "# print(train_model['positive_outcome'].value_counts(dropna=False))\n",
    "# train_model['positive_outcome'].value_counts(dropna=False,normalize=True)\n",
    "# pd.crosstab(train_model[\"referencia\"],train_model[\"target\"],normalize='index')\n",
    "# pd.crosstab(train_model[\"Gender\"],train_model[\"target\"],normalize='index')\n",
    "# pd.crosstab(train_model[\"station\"],train_model[\"target\"],normalize='index')\n",
    "# pd.crosstab(train_model[\"station\"],train_model[\"positive_outcome\"],normalize='index')"
   ]
  },
  {
   "cell_type": "markdown",
   "id": "breeding-chain",
   "metadata": {},
   "source": [
    "### Feature engineering"
   ]
  },
  {
   "cell_type": "code",
   "execution_count": 16,
   "id": "lonely-trick",
   "metadata": {},
   "outputs": [],
   "source": [
    "# get the hour and day of the week, maybe they will be useful \n",
    "train_model['hour'] = train_model['Date'].dt.hour\n",
    "train_model['month'] = train_model['Date'].dt.month\n",
    "train_model['day_of_week'] = train_model['Date'].dt.day_name()"
   ]
  },
  {
   "cell_type": "code",
   "execution_count": 17,
   "id": "certified-amount",
   "metadata": {},
   "outputs": [
    {
     "data": {
      "text/plain": [
       "misuse of drugs act 1971 (section 23)                      178620\n",
       "police and criminal evidence act 1984 (section 1)           92651\n",
       "missing infomation                                          27931\n",
       "criminal justice and public order act 1994 (section 60)      2670\n",
       "firearms act 1968 (section 47)                               1830\n",
       "others                                                       1060\n",
       "Name: Legislation, dtype: int64"
      ]
     },
     "execution_count": 17,
     "metadata": {},
     "output_type": "execute_result"
    }
   ],
   "source": [
    "# Legislation - reducing the quantity of categories\n",
    "# train_model.groupby(['Legislation','target'], dropna=False)['Outcome'].count().unstack()\n",
    "\n",
    "train_model['Legislation']=train_model['Legislation'].fillna('missing infomation')\n",
    "train_model['Legislation'] = train_model['Legislation'].apply(lambda x: str(x).lower())\n",
    "\n",
    "legislation_categories = ['misuse of drugs act 1971 (section 23)', 'police and criminal evidence act 1984 (section 1)', \n",
    "                          'criminal justice and public order act 1994 (section 60)', 'firearms act 1968 (section 47)',\n",
    "                          'missing infomation']\n",
    "\n",
    "mask=(~train_model['Legislation'].isin(legislation_categories))\n",
    "train_model.loc[mask, 'Legislation']='others'\n",
    "\n",
    "train_model['Legislation'].value_counts()"
   ]
  },
  {
   "cell_type": "markdown",
   "id": "statistical-salmon",
   "metadata": {},
   "source": [
    "### Text Data normalization"
   ]
  },
  {
   "cell_type": "code",
   "execution_count": 18,
   "id": "lesbian-pledge",
   "metadata": {},
   "outputs": [
    {
     "data": {
      "text/plain": [
       "controlled drugs                              192161\n",
       "offensive weapons                              35391\n",
       "article for use in theft                       30287\n",
       "stolen goods                                   26617\n",
       "articles for use in criminal damage             6494\n",
       "anything to threaten or harm anyone             5241\n",
       "firearms                                        2957\n",
       "evidence of offences under the act              1930\n",
       "psychoactive substances                         1701\n",
       "fireworks                                       1695\n",
       "detailed object of search unavailable            129\n",
       "game or poaching equipment                        96\n",
       "goods on which duty has not been paid etc.        23\n",
       "evidence of wildlife offences                     21\n",
       "crossbows                                         17\n",
       "seals or hunting equipment                         2\n",
       "Name: Object of search, dtype: int64"
      ]
     },
     "execution_count": 18,
     "metadata": {},
     "output_type": "execute_result"
    }
   ],
   "source": [
    "train_model['Object of search'] = train_model['Object of search'].apply(lambda x: str(x).lower())\n",
    "train_model['Object of search'].value_counts()"
   ]
  },
  {
   "cell_type": "code",
   "execution_count": 19,
   "id": "alone-standard",
   "metadata": {},
   "outputs": [],
   "source": [
    "train_model['station'] = train_model['station'].apply(lambda x: str(x).lower())\n",
    "# train_model['station'].value_counts()"
   ]
  },
  {
   "cell_type": "code",
   "execution_count": null,
   "id": "global-budget",
   "metadata": {},
   "outputs": [],
   "source": []
  },
  {
   "cell_type": "markdown",
   "id": "immune-today",
   "metadata": {},
   "source": [
    "### Latitude and Longitude"
   ]
  },
  {
   "cell_type": "code",
   "execution_count": 20,
   "id": "premium-principle",
   "metadata": {},
   "outputs": [
    {
     "name": "stdout",
     "output_type": "stream",
     "text": [
      "count    228038.000000\n",
      "mean         52.511589\n",
      "std           1.133850\n",
      "min          49.892149\n",
      "25%          51.485978\n",
      "50%          52.609826\n",
      "75%          53.422686\n",
      "max          57.143856\n",
      "Name: Latitude, dtype: float64\n"
     ]
    },
    {
     "data": {
      "text/plain": [
       "count    228038.000000\n",
       "mean         -1.343263\n",
       "std           1.365160\n",
       "min          -8.053397\n",
       "25%          -2.599163\n",
       "50%          -1.464553\n",
       "75%          -0.207006\n",
       "max           1.756480\n",
       "Name: Longitude, dtype: float64"
      ]
     },
     "execution_count": 20,
     "metadata": {},
     "output_type": "execute_result"
    }
   ],
   "source": [
    "print(train_model['Latitude'].describe())\n",
    "train_model['Longitude'].describe()"
   ]
  },
  {
   "cell_type": "code",
   "execution_count": 21,
   "id": "modern-cheat",
   "metadata": {},
   "outputs": [],
   "source": [
    "train_model['Latitude'] = train_model['Longitude'].fillna(0)\n",
    "train_model['Longitude'] = train_model['Longitude'].fillna(50)"
   ]
  },
  {
   "cell_type": "markdown",
   "id": "appreciated-sense",
   "metadata": {},
   "source": [
    "### Data split"
   ]
  },
  {
   "cell_type": "code",
   "execution_count": 22,
   "id": "internal-dialogue",
   "metadata": {},
   "outputs": [],
   "source": [
    "df_train, df_test = train_test_split(train_model, test_size=0.3, random_state=42)"
   ]
  },
  {
   "cell_type": "code",
   "execution_count": 23,
   "id": "brown-cargo",
   "metadata": {},
   "outputs": [
    {
     "data": {
      "text/plain": [
       "(213333, 22)"
      ]
     },
     "execution_count": 23,
     "metadata": {},
     "output_type": "execute_result"
    }
   ],
   "source": [
    "df_train.shape"
   ]
  },
  {
   "cell_type": "code",
   "execution_count": 24,
   "id": "ancient-advantage",
   "metadata": {},
   "outputs": [
    {
     "data": {
      "text/plain": [
       "(91429, 22)"
      ]
     },
     "execution_count": 24,
     "metadata": {},
     "output_type": "execute_result"
    }
   ],
   "source": [
    "df_test.shape"
   ]
  },
  {
   "cell_type": "code",
   "execution_count": 25,
   "id": "fourth-motorcycle",
   "metadata": {},
   "outputs": [
    {
     "data": {
      "text/plain": [
       "Saturday     34161\n",
       "Friday       33994\n",
       "Thursday     30593\n",
       "Wednesday    30283\n",
       "Tuesday      28674\n",
       "Monday       27828\n",
       "Sunday       27800\n",
       "Name: day_of_week, dtype: int64"
      ]
     },
     "execution_count": 25,
     "metadata": {},
     "output_type": "execute_result"
    }
   ],
   "source": [
    "df_train.day_of_week.value_counts()"
   ]
  },
  {
   "cell_type": "markdown",
   "id": "freelance-narrative",
   "metadata": {},
   "source": [
    "### Training a baseline model"
   ]
  },
  {
   "cell_type": "code",
   "execution_count": 26,
   "id": "interested-collapse",
   "metadata": {},
   "outputs": [
    {
     "data": {
      "text/plain": [
       "0.526570573067482"
      ]
     },
     "execution_count": 26,
     "metadata": {},
     "output_type": "execute_result"
    }
   ],
   "source": [
    "all_features = ['Type', 'Part of a policing operation', 'Age range', 'Latitude', 'Longitude',\n",
    "                'Legislation', 'hour', 'month', 'day_of_week',\n",
    "                'Gender', 'Officer-defined ethnicity']\n",
    "\n",
    "numerical_features = ['hour', 'month','Latitude', 'Longitude']\n",
    "\n",
    "categorical_features = ['Type', 'Part of a policing operation', 'Age range',\n",
    "                        'Legislation', 'day_of_week','Gender', 'Officer-defined ethnicity']\n",
    "\n",
    "numeric_transformer = Pipeline(steps=[\n",
    "    ('imputer', SimpleImputer(strategy='median')),\n",
    "    ('scaler', StandardScaler())])\n",
    "\n",
    "categorical_transformer = Pipeline(steps=[\n",
    "    ('imputer', SimpleImputer(strategy='constant', fill_value='missing')),\n",
    "    ('onehot', OneHotEncoder(handle_unknown='ignore'))])\n",
    "\n",
    "preprocessor = ColumnTransformer(\n",
    "    transformers=[\n",
    "        ('num', numeric_transformer, numerical_features),\n",
    "        ('cat', categorical_transformer, categorical_features)])\n",
    "\n",
    "pipeline = make_pipeline(\n",
    "    preprocessor,\n",
    "    RandomForestClassifier(random_state=42, n_jobs=-1),\n",
    ")\n",
    "\n",
    "\n",
    "X_train = df_train[all_features]\n",
    "y_train = df_train['target']\n",
    "\n",
    "pipeline.fit(X_train, y_train)\n",
    "\n",
    "X_test = df_test[all_features]\n",
    "y_test = df_test['target']\n",
    "\n",
    "y_pred = pipeline.predict(X_test)\n",
    "y_proba = pipeline.predict_proba(X_test)\n",
    "y_pred_train = pipeline.predict(X_train)\n",
    "\n",
    "# To use on other cells\n",
    "# X_train_baseline = X_train.copy()\n",
    "# X_test_baseline = df_test.copy()\n",
    "# y_test_baseline = X_test_baseline[target].copy()\n",
    "# y_pred_baseline = y_pred.copy()\n",
    "# pipeline_baseline = pipeline\n",
    "\n",
    "roc_auc_score(y_test, y_pred)"
   ]
  },
  {
   "cell_type": "code",
   "execution_count": 27,
   "id": "laughing-volume",
   "metadata": {},
   "outputs": [],
   "source": [
    "# ?RandomForestClassifier"
   ]
  },
  {
   "cell_type": "code",
   "execution_count": 28,
   "id": "sexual-tunnel",
   "metadata": {},
   "outputs": [],
   "source": [
    "precision, recall, thresholds = precision_recall_curve(y_test, y_proba[:,1])"
   ]
  },
  {
   "cell_type": "code",
   "execution_count": 29,
   "id": "separated-manual",
   "metadata": {},
   "outputs": [],
   "source": [
    "precision = precision[:-1]\n",
    "recall = recall[:-1]"
   ]
  },
  {
   "cell_type": "code",
   "execution_count": 30,
   "id": "friendly-server",
   "metadata": {},
   "outputs": [
    {
     "data": {
      "image/png": "[encoded data removed]",
      "text/plain": [
       "<Figure size 432x288 with 2 Axes>"
      ]
     },
     "metadata": {
      "needs_background": "light"
     },
     "output_type": "display_data"
    }
   ],
   "source": [
    "fig=plt.figure()\n",
    "ax1 = plt.subplot(211)\n",
    "ax2 = plt.subplot(212)\n",
    "ax1.hlines(y=0.1,xmin=0, xmax=1, colors='red')\n",
    "ax1.plot(thresholds,precision)\n",
    "ax2.plot(thresholds,recall)\n",
    "ax1.get_shared_x_axes().join(ax1, ax2)\n",
    "ax1.set_xticklabels([])\n",
    "plt.xlabel('Threshold')\n",
    "ax1.set_title('Precision')\n",
    "ax2.set_title('Recall')\n",
    "plt.show()"
   ]
  },
  {
   "cell_type": "code",
   "execution_count": 31,
   "id": "sixth-transfer",
   "metadata": {},
   "outputs": [
    {
     "name": "stdout",
     "output_type": "stream",
     "text": [
      "3463\n"
     ]
    },
    {
     "data": {
      "text/plain": [
       "0.23000000000000004"
      ]
     },
     "execution_count": 31,
     "metadata": {},
     "output_type": "execute_result"
    }
   ],
   "source": [
    "min_index = [i for i, prec in enumerate(precision) if prec > 0.27][0]\n",
    "print(min_index)\n",
    "thresholds[min_index]"
   ]
  },
  {
   "cell_type": "code",
   "execution_count": 32,
   "id": "warming-chess",
   "metadata": {},
   "outputs": [
    {
     "data": {
      "text/plain": [
       "0.2711542058988589"
      ]
     },
     "execution_count": 32,
     "metadata": {},
     "output_type": "execute_result"
    }
   ],
   "source": [
    "precision[min_index]"
   ]
  },
  {
   "cell_type": "code",
   "execution_count": 33,
   "id": "fitting-vegetable",
   "metadata": {},
   "outputs": [
    {
     "data": {
      "text/plain": [
       "0.46793285268481655"
      ]
     },
     "execution_count": 33,
     "metadata": {},
     "output_type": "execute_result"
    }
   ],
   "source": [
    "recall[min_index]"
   ]
  },
  {
   "cell_type": "code",
   "execution_count": 34,
   "id": "tracked-scope",
   "metadata": {},
   "outputs": [
    {
     "data": {
      "image/png": "[encoded data removed]",
      "text/plain": [
       "<Figure size 432x288 with 1 Axes>"
      ]
     },
     "metadata": {
      "needs_background": "light"
     },
     "output_type": "display_data"
    }
   ],
   "source": [
    "pd.Series(y_proba[:,1]).hist(bins=20, figsize=(6, 4));\n",
    "# df.hist(column='SubjectAge', bins=20, figsize=(6, 4));"
   ]
  },
  {
   "cell_type": "code",
   "execution_count": 35,
   "id": "sublime-aurora",
   "metadata": {},
   "outputs": [],
   "source": [
    "threshold = thresholds[min_index]\n",
    "y_pred_threshold = pd.Series([True if p >= threshold else False for p in y_proba[:,1]]).to_numpy()"
   ]
  },
  {
   "cell_type": "code",
   "execution_count": 36,
   "id": "impaired-screening",
   "metadata": {},
   "outputs": [
    {
     "name": "stdout",
     "output_type": "stream",
     "text": [
      "<class 'numpy.ndarray'>\n"
     ]
    },
    {
     "data": {
      "text/plain": [
       "numpy.ndarray"
      ]
     },
     "execution_count": 36,
     "metadata": {},
     "output_type": "execute_result"
    }
   ],
   "source": [
    "print(type(y_pred))\n",
    "type(y_pred_threshold)"
   ]
  },
  {
   "cell_type": "code",
   "execution_count": null,
   "id": "parliamentary-stewart",
   "metadata": {},
   "outputs": [],
   "source": []
  },
  {
   "cell_type": "markdown",
   "id": "metropolitan-radio",
   "metadata": {},
   "source": [
    "#### most important features"
   ]
  },
  {
   "cell_type": "code",
   "execution_count": 37,
   "id": "loved-separation",
   "metadata": {},
   "outputs": [
    {
     "name": "stdout",
     "output_type": "stream",
     "text": [
      "Feature ranking:\n",
      "1. feature Longitude (0.239287)\n",
      "2. feature Latitude (0.238615)\n",
      "3. feature hour (0.206014)\n",
      "4. feature month (0.161710)\n",
      "5. feature Legislation_misuse of drugs act 1971 (section 23) (0.012136)\n",
      "6. feature Legislation_police and criminal evidence act 1984 (section 1) (0.009382)\n",
      "7. feature day_of_week_Saturday (0.009280)\n",
      "8. feature day_of_week_Friday (0.009072)\n",
      "9. feature day_of_week_Thursday (0.009043)\n",
      "10. feature day_of_week_Wednesday (0.008880)\n",
      "11. feature day_of_week_Monday (0.008875)\n"
     ]
    },
    {
     "data": {
      "image/png": "[encoded data removed]",
      "text/plain": [
       "<Figure size 432x288 with 1 Axes>"
      ]
     },
     "metadata": {
      "needs_background": "light"
     },
     "output_type": "display_data"
    }
   ],
   "source": [
    "categorical_encode_step = pipeline.named_steps['columntransformer'].named_transformers_['cat'].named_steps['onehot']\n",
    "random_forest_step = pipeline.named_steps['randomforestclassifier']\n",
    "\n",
    "onehot_columns = categorical_encode_step.get_feature_names(input_features=categorical_features)\n",
    "\n",
    "importances = pd.Series(data=random_forest_step.feature_importances_, index = np.array(numerical_features + list(onehot_columns)))\n",
    "\n",
    "indices = np.argsort(importances)[::-1]\n",
    "print(\"Feature ranking:\")\n",
    "\n",
    "for f in range(X_train.shape[1]):\n",
    "    print(\"%d. feature %s (%f)\" % (f + 1, importances.index[indices[f]], importances[indices[f]]))\n",
    "\n",
    "std = np.std([tree.feature_importances_ for tree in random_forest_step.estimators_], axis=0)\n",
    "\n",
    "plt.figure()\n",
    "plt.title(\"Feature importances\")\n",
    "plt.bar(x=importances.index[indices], height=importances[indices],\n",
    "        color=\"r\", yerr=std[indices], align=\"center\");\n",
    "plt.xticks(range(len(importances.index[indices])), importances.index[indices], rotation=45, ha=\"right\")\n",
    "plt.xlim([-1, X_train.shape[1]])\n",
    "plt.xlabel('Features');\n",
    "plt.ylabel('Importance');\n",
    "\n",
    "plt.show()"
   ]
  },
  {
   "cell_type": "code",
   "execution_count": null,
   "id": "correct-commitment",
   "metadata": {},
   "outputs": [],
   "source": []
  },
  {
   "cell_type": "markdown",
   "id": "matched-orbit",
   "metadata": {},
   "source": [
    "## Formalizing client requirements"
   ]
  },
  {
   "cell_type": "code",
   "execution_count": null,
   "id": "fuzzy-poison",
   "metadata": {},
   "outputs": [],
   "source": []
  },
  {
   "cell_type": "markdown",
   "id": "living-baseball",
   "metadata": {},
   "source": [
    "### 1 - Minimum 10% success rate for searches per station and search objective"
   ]
  },
  {
   "cell_type": "code",
   "execution_count": 38,
   "id": "direct-cookbook",
   "metadata": {},
   "outputs": [],
   "source": [
    "def verify_global_success_rate(y_true, y_pred, min_success_rate=0.1):\n",
    "    \"\"\"\n",
    "    Verifies the success rate on a test set is above a provided minimum\n",
    "    \"\"\"\n",
    "    \n",
    "    precision = precision_score(y_true, y_pred, pos_label=1)\n",
    "    is_satisfied = (precision >= min_success_rate)\n",
    "    \n",
    "    recall = recall_score(y_true, y_pred, pos_label=1)\n",
    "    \n",
    "    return is_satisfied, precision, recall"
   ]
  },
  {
   "cell_type": "code",
   "execution_count": 39,
   "id": "mighty-alloy",
   "metadata": {},
   "outputs": [
    {
     "name": "stdout",
     "output_type": "stream",
     "text": [
      "Global Precision: (True, 0.2711542058988589)\n",
      "Global Recall: 0.46793285268481655\n"
     ]
    }
   ],
   "source": [
    "is_verified, success_rate, recall = verify_global_success_rate(y_test, y_pred_threshold)\n",
    "\n",
    "print(\"Global Precision: {}\".format((is_verified, success_rate)))\n",
    "print(\"Global Recall: {}\".format(recall))"
   ]
  },
  {
   "cell_type": "code",
   "execution_count": 40,
   "id": "dietary-restriction",
   "metadata": {},
   "outputs": [],
   "source": [
    "# exclusion_list = ['articles for use in criminal damage','anything to threaten or harm anyone','fireworks', \n",
    "#                  'detailed object of search unavailable','game or poaching equipment',\n",
    "#                  'goods on which duty has not been paid etc.','evidence of wildlife offences',\n",
    "#                  'crossbows','seals or hunting equipment']\n",
    "\n",
    "# t=df_test['Object of search'].unique()\n",
    "\n",
    "# for i in t:\n",
    "#     if i not in exclusion_list:\n",
    "#         print(i)"
   ]
  },
  {
   "cell_type": "code",
   "execution_count": 41,
   "id": "numerous-dimension",
   "metadata": {},
   "outputs": [],
   "source": [
    "def verify_success_rate_objective_station(X_test, y_true, y_pred, sensitive_column='Object of search', \n",
    "                                          min_success_rate=0.1, min_samples=50):\n",
    "    \"\"\"\n",
    "    Verifies that success rate per station and search objective is higher than 10%\n",
    "    \"\"\"\n",
    "    \n",
    "#     exclusion_list = ['articles for use in criminal damage','anything to threaten or harm anyone','fireworks', \n",
    "#                  'detailed object of search unavailable','game or poaching equipment',\n",
    "#                  'goods on which duty has not been paid etc.','evidence of wildlife offences',\n",
    "#                  'crossbows','seals or hunting equipment']\n",
    "\n",
    "    exclusion_list = ['articles for use in criminal damage','anything to threaten or harm anyone','fireworks',\n",
    "                      'detailed object of search unavailable','game or poaching equipment',\n",
    "                      'goods on which duty has not been paid etc.','evidence of wildlife offences',\n",
    "                      'crossbows','seals or hunting equipment',\n",
    "                      'firearms','evidence of offences under the act','psychoactive substances']\n",
    "    \n",
    "    departments = X_test['station'].unique()\n",
    "    sensitive_classes = X_test[sensitive_column].unique()\n",
    "    \n",
    "    is_satisfied = True\n",
    "    problematic_departments = []\n",
    "    good_deparments = []\n",
    "    ignored_departments = []\n",
    "    for department in departments:\n",
    "        precisions = {}\n",
    "        for sensitive_class in sensitive_classes:\n",
    "            if sensitive_class not in exclusion_list:\n",
    "                mask = (X_test[sensitive_column] == sensitive_class) & (X_test['station'] == department)\n",
    "                if np.sum(mask) > min_samples:\n",
    "                    precisions[sensitive_class] = precision_score(y_true[mask], y_pred[mask], pos_label=1)\n",
    "                \n",
    "        if len(precisions) > 1:    \n",
    "            precision_min = np.min(list(precisions.values()))\n",
    "\n",
    "            if precision_min < min_success_rate:\n",
    "                is_satisfied = False\n",
    "                problematic_departments.append((department, precision_min, precisions))\n",
    "            else:\n",
    "                good_deparments.append((department, precision_min, precisions))\n",
    "        else:\n",
    "            ignored_departments.append((department, None, []))\n",
    "    \n",
    "    global_precisions = {}\n",
    "    for department in departments:\n",
    "        mask = (X_test['station'] == department)\n",
    "        if np.sum(mask) > min_samples:\n",
    "            global_precisions[department] = precision_score(y_true[mask], y_pred[mask])\n",
    "            \n",
    "    global_precisions_objective = {}\n",
    "    for obj in sensitive_classes:\n",
    "        mask = (X_test[sensitive_column] == obj)\n",
    "        if np.sum(mask) > min_samples:\n",
    "            global_precisions_objective[obj] = precision_score(y_true[mask], y_pred[mask])\n",
    "    \n",
    "        \n",
    "    return is_satisfied, problematic_departments, good_deparments, ignored_departments, global_precisions,global_precisions_objective"
   ]
  },
  {
   "cell_type": "code",
   "execution_count": 42,
   "id": "instrumental-disposal",
   "metadata": {},
   "outputs": [
    {
     "name": "stdout",
     "output_type": "stream",
     "text": [
      "Requirement failed 😢\n",
      "Num problematic stations: 14\n",
      "Num good stations: 23\n",
      "Num ignored departments: 2\n",
      "\n",
      "Object of search rates: {'controlled drugs': 0.292589823304868, 'article for use in theft': 0.16468489892984542, 'stolen goods': 0.2659235668789809, 'anything to threaten or harm anyone': 0.1306122448979592, 'offensive weapons': 0.16790405482581383, 'fireworks': 0.04081632653061224, 'articles for use in criminal damage': 0.031936127744510975, 'firearms': 0.17266187050359713, 'evidence of offences under the act': 0.21875, 'psychoactive substances': 0.31496062992125984}\n",
      "\n",
      "Station rates: {'bedfordshire': 0.2559366754617414, 'hertfordshire': 0.30437804030576787, 'kent': 0.29359430604982206, 'btp': 0.29667812142038946, 'warwickshire': 0.27507163323782235, 'staffordshire': 0.2802937576499388, 'leicestershire': 0.1613588110403397, 'derbyshire': 0.26380368098159507, 'cheshire': 0.3548387096774194, 'west-yorkshire': 0.22838137472283815, 'suffolk': 0.21621621621621623, 'hampshire': 0.32495164410058025, 'devon-and-cornwall': 0.29010695187165775, 'south-yorkshire': 0.17386934673366833, 'essex': 0.3187203791469194, 'norfolk': 0.19495412844036697, 'dyfed-powys': 0.03864734299516908, 'thames-valley': 0.1770906535488405, 'avon-and-somerset': 0.30489864864864863, 'merseyside': 0.26852057842046717, 'northumbria': 0.254278728606357, 'sussex': 0.2754237288135593, 'surrey': 0.3058365758754864, 'nottinghamshire': 0.33011789924973206, 'city-of-london': 0.33035714285714285, 'west-mercia': 0.33295454545454545, 'lincolnshire': 0.2106430155210643, 'lancashire': 0.09037900874635568, 'gloucestershire': 0.2988826815642458, 'northamptonshire': 0.27055702917771884, 'cumbria': 0.29850746268656714, 'north-yorkshire': 0.20425531914893616, 'north-wales': 0.20763723150357996, 'cleveland': 0.3333333333333333, 'dorset': 0.2925170068027211, 'durham': 0.3909952606635071, 'greater-manchester': 0.28205128205128205, 'wiltshire': 0.18518518518518517, 'cambridgeshire': 0.3137254901960784}\n"
     ]
    }
   ],
   "source": [
    "is_satisfied, problematic_departments, good_deparments, ignored_departments,global_precisions, global_precisions_objective = verify_success_rate_objective_station(df_test, y_test, y_pred_threshold, min_success_rate=0.1)\n",
    "\n",
    "if not is_satisfied:\n",
    "    print(\"Requirement failed 😢\")\n",
    "    print(\"Num problematic stations: {}\".format(len(problematic_departments)))\n",
    "    print(\"Num good stations: {}\".format(len(good_deparments)))\n",
    "    print(\"Num ignored departments: {}\".format(len(ignored_departments)))\n",
    "    print(\"\\nObject of search rates: {}\".format(global_precisions_objective))\n",
    "    print(\"\\nStation rates: {}\".format(global_precisions))\n"
   ]
  },
  {
   "cell_type": "code",
   "execution_count": 43,
   "id": "massive-glass",
   "metadata": {
    "scrolled": true
   },
   "outputs": [
    {
     "data": {
      "text/plain": [
       "[('bedfordshire',\n",
       "  0.05555555555555555,\n",
       "  {'controlled drugs': 0.2931596091205212,\n",
       "   'article for use in theft': 0.1,\n",
       "   'stolen goods': 0.05555555555555555,\n",
       "   'offensive weapons': 0.125}),\n",
       " ('staffordshire',\n",
       "  0.06060606060606061,\n",
       "  {'controlled drugs': 0.3194444444444444,\n",
       "   'article for use in theft': 0.06060606060606061,\n",
       "   'stolen goods': 0.20481927710843373,\n",
       "   'offensive weapons': 0.0625}),\n",
       " ('leicestershire',\n",
       "  0.04,\n",
       "  {'controlled drugs': 0.18701298701298702,\n",
       "   'article for use in theft': 0.05555555555555555,\n",
       "   'stolen goods': 0.04,\n",
       "   'offensive weapons': 0.05}),\n",
       " ('derbyshire',\n",
       "  0.06666666666666667,\n",
       "  {'controlled drugs': 0.30980392156862746,\n",
       "   'article for use in theft': 0.06666666666666667,\n",
       "   'offensive weapons': 0.125}),\n",
       " ('suffolk',\n",
       "  0.0,\n",
       "  {'controlled drugs': 0.24172185430463577,\n",
       "   'article for use in theft': 0.0,\n",
       "   'stolen goods': 0.14285714285714285,\n",
       "   'offensive weapons': 0.2}),\n",
       " ('south-yorkshire',\n",
       "  0.0,\n",
       "  {'controlled drugs': 0.20728643216080403,\n",
       "   'article for use in theft': 0.0,\n",
       "   'stolen goods': 0.0,\n",
       "   'offensive weapons': 0.11594202898550725}),\n",
       " ('norfolk',\n",
       "  0.05263157894736842,\n",
       "  {'controlled drugs': 0.20954907161803712,\n",
       "   'article for use in theft': 0.07142857142857142,\n",
       "   'stolen goods': 0.05263157894736842,\n",
       "   'offensive weapons': 0.3}),\n",
       " ('dyfed-powys',\n",
       "  0.0,\n",
       "  {'controlled drugs': 0.01775147928994083, 'article for use in theft': 0.0}),\n",
       " ('thames-valley',\n",
       "  0.05319148936170213,\n",
       "  {'controlled drugs': 0.20967741935483872,\n",
       "   'article for use in theft': 0.05319148936170213,\n",
       "   'stolen goods': 0.12878787878787878,\n",
       "   'offensive weapons': 0.08490566037735849}),\n",
       " ('merseyside',\n",
       "  0.06896551724137931,\n",
       "  {'controlled drugs': 0.2787621072525396,\n",
       "   'article for use in theft': 0.1523809523809524,\n",
       "   'stolen goods': 0.06896551724137931,\n",
       "   'offensive weapons': 0.07216494845360824}),\n",
       " ('nottinghamshire',\n",
       "  0.09090909090909091,\n",
       "  {'controlled drugs': 0.34335260115606936,\n",
       "   'article for use in theft': 0.1111111111111111,\n",
       "   'stolen goods': 0.375,\n",
       "   'offensive weapons': 0.09090909090909091}),\n",
       " ('lancashire',\n",
       "  0.02127659574468085,\n",
       "  {'controlled drugs': 0.2663316582914573,\n",
       "   'article for use in theft': 0.02127659574468085,\n",
       "   'stolen goods': 0.2727272727272727,\n",
       "   'offensive weapons': 0.10526315789473684}),\n",
       " ('north-wales',\n",
       "  0.09523809523809523,\n",
       "  {'controlled drugs': 0.2219020172910663,\n",
       "   'article for use in theft': 0.1111111111111111,\n",
       "   'stolen goods': 0.1794871794871795,\n",
       "   'offensive weapons': 0.09523809523809523}),\n",
       " ('greater-manchester',\n",
       "  0.06060606060606061,\n",
       "  {'controlled drugs': 0.31197771587743733,\n",
       "   'article for use in theft': 0.06060606060606061,\n",
       "   'stolen goods': 0.34285714285714286,\n",
       "   'offensive weapons': 0.13333333333333333})]"
      ]
     },
     "execution_count": 43,
     "metadata": {},
     "output_type": "execute_result"
    }
   ],
   "source": [
    "problematic_departments"
   ]
  },
  {
   "cell_type": "code",
   "execution_count": 44,
   "id": "studied-silence",
   "metadata": {},
   "outputs": [
    {
     "data": {
      "text/plain": [
       "[('hertfordshire',\n",
       "  0.2,\n",
       "  {'controlled drugs': 0.32045654082528535,\n",
       "   'article for use in theft': 0.22627737226277372,\n",
       "   'stolen goods': 0.34210526315789475,\n",
       "   'offensive weapons': 0.2}),\n",
       " ('kent',\n",
       "  0.16923076923076924,\n",
       "  {'controlled drugs': 0.300561797752809,\n",
       "   'article for use in theft': 0.1746031746031746,\n",
       "   'stolen goods': 0.36538461538461536,\n",
       "   'offensive weapons': 0.16923076923076924}),\n",
       " ('btp',\n",
       "  0.14705882352941177,\n",
       "  {'controlled drugs': 0.30656934306569344,\n",
       "   'article for use in theft': 0.375,\n",
       "   'stolen goods': 0.3466666666666667,\n",
       "   'offensive weapons': 0.14705882352941177}),\n",
       " ('warwickshire',\n",
       "  0.11428571428571428,\n",
       "  {'controlled drugs': 0.31620553359683795,\n",
       "   'article for use in theft': 0.11428571428571428,\n",
       "   'stolen goods': 0.21875,\n",
       "   'offensive weapons': 0.21052631578947367}),\n",
       " ('cheshire',\n",
       "  0.2,\n",
       "  {'controlled drugs': 0.3733075435203095,\n",
       "   'article for use in theft': 0.20689655172413793,\n",
       "   'stolen goods': 0.3125,\n",
       "   'offensive weapons': 0.2}),\n",
       " ('west-yorkshire',\n",
       "  0.1641025641025641,\n",
       "  {'controlled drugs': 0.23875968992248062,\n",
       "   'article for use in theft': 0.1641025641025641,\n",
       "   'stolen goods': 0.25984251968503935,\n",
       "   'offensive weapons': 0.20382165605095542}),\n",
       " ('hampshire',\n",
       "  0.2111801242236025,\n",
       "  {'controlled drugs': 0.35275080906148865,\n",
       "   'article for use in theft': 0.26666666666666666,\n",
       "   'stolen goods': 0.2111801242236025,\n",
       "   'offensive weapons': 0.2558139534883721}),\n",
       " ('devon-and-cornwall',\n",
       "  0.16666666666666666,\n",
       "  {'controlled drugs': 0.30757575757575756,\n",
       "   'stolen goods': 0.17073170731707318,\n",
       "   'offensive weapons': 0.16666666666666666}),\n",
       " ('essex',\n",
       "  0.1888111888111888,\n",
       "  {'controlled drugs': 0.3294283036551078,\n",
       "   'article for use in theft': 0.25842696629213485,\n",
       "   'stolen goods': 0.36220472440944884,\n",
       "   'offensive weapons': 0.1888111888111888}),\n",
       " ('avon-and-somerset',\n",
       "  0.2,\n",
       "  {'controlled drugs': 0.310515873015873,\n",
       "   'article for use in theft': 0.2,\n",
       "   'stolen goods': 0.4444444444444444,\n",
       "   'offensive weapons': 0.2222222222222222}),\n",
       " ('northumbria',\n",
       "  0.16666666666666666,\n",
       "  {'controlled drugs': 0.2793522267206478,\n",
       "   'article for use in theft': 0.16666666666666666,\n",
       "   'stolen goods': 0.29133858267716534,\n",
       "   'offensive weapons': 0.19658119658119658}),\n",
       " ('sussex',\n",
       "  0.15384615384615385,\n",
       "  {'controlled drugs': 0.30280373831775703,\n",
       "   'article for use in theft': 0.2,\n",
       "   'stolen goods': 0.2,\n",
       "   'offensive weapons': 0.15384615384615385}),\n",
       " ('surrey',\n",
       "  0.13432835820895522,\n",
       "  {'controlled drugs': 0.34230355220667386,\n",
       "   'article for use in theft': 0.20454545454545456,\n",
       "   'stolen goods': 0.4166666666666667,\n",
       "   'offensive weapons': 0.13432835820895522}),\n",
       " ('city-of-london',\n",
       "  0.19642857142857142,\n",
       "  {'controlled drugs': 0.3858520900321543,\n",
       "   'article for use in theft': 0.19642857142857142,\n",
       "   'stolen goods': 0.2,\n",
       "   'offensive weapons': 0.2}),\n",
       " ('west-mercia',\n",
       "  0.16,\n",
       "  {'controlled drugs': 0.3390804597701149,\n",
       "   'article for use in theft': 0.16,\n",
       "   'stolen goods': 0.4444444444444444,\n",
       "   'offensive weapons': 0.27906976744186046}),\n",
       " ('lincolnshire',\n",
       "  0.1111111111111111,\n",
       "  {'controlled drugs': 0.22811671087533156,\n",
       "   'article for use in theft': 0.1111111111111111,\n",
       "   'stolen goods': 0.15384615384615385,\n",
       "   'offensive weapons': 0.16666666666666666}),\n",
       " ('gloucestershire',\n",
       "  0.15384615384615385,\n",
       "  {'controlled drugs': 0.31290322580645163,\n",
       "   'article for use in theft': 0.15384615384615385,\n",
       "   'stolen goods': 0.21052631578947367,\n",
       "   'offensive weapons': 0.26666666666666666}),\n",
       " ('northamptonshire',\n",
       "  0.125,\n",
       "  {'controlled drugs': 0.27485380116959063,\n",
       "   'article for use in theft': 0.18181818181818182,\n",
       "   'offensive weapons': 0.125}),\n",
       " ('cumbria',\n",
       "  0.2727272727272727,\n",
       "  {'controlled drugs': 0.2934131736526946,\n",
       "   'article for use in theft': 0.2727272727272727,\n",
       "   'stolen goods': 0.3125,\n",
       "   'offensive weapons': 0.5}),\n",
       " ('north-yorkshire',\n",
       "  0.16666666666666666,\n",
       "  {'controlled drugs': 0.18666666666666668,\n",
       "   'article for use in theft': 0.32142857142857145,\n",
       "   'stolen goods': 0.19047619047619047,\n",
       "   'offensive weapons': 0.16666666666666666}),\n",
       " ('cleveland',\n",
       "  0.21428571428571427,\n",
       "  {'controlled drugs': 0.328125,\n",
       "   'article for use in theft': 0.21428571428571427,\n",
       "   'stolen goods': 0.3125,\n",
       "   'offensive weapons': 0.35294117647058826}),\n",
       " ('dorset',\n",
       "  0.2923728813559322,\n",
       "  {'controlled drugs': 0.2923728813559322,\n",
       "   'article for use in theft': 0.3333333333333333,\n",
       "   'offensive weapons': 0.3157894736842105}),\n",
       " ('durham',\n",
       "  0.21428571428571427,\n",
       "  {'controlled drugs': 0.41106719367588934,\n",
       "   'article for use in theft': 0.21428571428571427,\n",
       "   'stolen goods': 0.4852941176470588,\n",
       "   'offensive weapons': 0.32608695652173914})]"
      ]
     },
     "execution_count": 44,
     "metadata": {},
     "output_type": "execute_result"
    }
   ],
   "source": [
    "good_deparments"
   ]
  },
  {
   "cell_type": "code",
   "execution_count": 45,
   "id": "underlying-swimming",
   "metadata": {},
   "outputs": [
    {
     "name": "stdout",
     "output_type": "stream",
     "text": [
      "0.03864734299516908\n"
     ]
    },
    {
     "data": {
      "text/plain": [
       "0.3909952606635071"
      ]
     },
     "execution_count": 45,
     "metadata": {},
     "output_type": "execute_result"
    }
   ],
   "source": [
    "print(min(global_precisions.values()))\n",
    "max(global_precisions.values())"
   ]
  },
  {
   "cell_type": "code",
   "execution_count": 46,
   "id": "acknowledged-health",
   "metadata": {},
   "outputs": [
    {
     "name": "stdout",
     "output_type": "stream",
     "text": [
      "0.031936127744510975\n"
     ]
    },
    {
     "data": {
      "text/plain": [
       "0.31496062992125984"
      ]
     },
     "execution_count": 46,
     "metadata": {},
     "output_type": "execute_result"
    }
   ],
   "source": [
    "print(min(global_precisions_objective.values()))\n",
    "max(global_precisions_objective.values())"
   ]
  },
  {
   "cell_type": "code",
   "execution_count": 47,
   "id": "facial-envelope",
   "metadata": {},
   "outputs": [],
   "source": [
    "# mask = (X_test['Object of search'] == 'offensive weapons') & (X_test['station'] == 'bedfordshire')\n",
    "# np.sum(mask)\n",
    "# precision_score(y_test[mask], y_pred[mask])\n",
    "# y_test[mask].value_counts()\n",
    "# pd.Series(y_pred[mask]).value_counts()"
   ]
  },
  {
   "cell_type": "markdown",
   "id": "ultimate-realtor",
   "metadata": {},
   "source": [
    "### 2 - No police station should have a discrepancy bigger than 5% between the search success rate between protected classes (ethnicity, gender)"
   ]
  },
  {
   "cell_type": "code",
   "execution_count": 48,
   "id": "accessory-expense",
   "metadata": {},
   "outputs": [],
   "source": [
    "def verify_no_discrimination(X_test, y_true, y_pred, sensitive_column, max_diff=0.05, min_samples=50):\n",
    "    \"\"\"\n",
    "    Verifies that no station has discrimination in between protected classes\n",
    "    \"\"\"\n",
    "    \n",
    "    departments = X_test['station'].unique()\n",
    "    sensitive_classes = X_test[sensitive_column].unique()\n",
    "    \n",
    "    is_satisfied = True\n",
    "    problematic_departments = []\n",
    "    good_deparments = []\n",
    "    ignored_departments = []\n",
    "    for department in departments:\n",
    "        precisions = {}\n",
    "        for sensitive_class in sensitive_classes:\n",
    "            mask = (X_test[sensitive_column] == sensitive_class) & (X_test['station'] == department)\n",
    "            if np.sum(mask) > min_samples:\n",
    "                precisions[sensitive_class] = precision_score(y_true[mask], y_pred[mask], pos_label=1)\n",
    "                \n",
    "        if len(precisions) > 1:    \n",
    "            diff = np.max(list(precisions.values())) - np.min(list(precisions.values()))\n",
    "\n",
    "            if diff > max_diff:\n",
    "                is_satisfied = False\n",
    "                problematic_departments.append((department, diff, precisions))\n",
    "            else:\n",
    "                good_deparments.append((department, diff, precisions))\n",
    "        else:\n",
    "            ignored_departments.append((department, None, []))\n",
    "    \n",
    "    global_precisions = {}\n",
    "    for sensitive_class in sensitive_classes:\n",
    "        mask = (X_test[sensitive_column] == sensitive_class)\n",
    "        if np.sum(mask) > min_samples:\n",
    "            global_precisions[sensitive_class] = precision_score(y_true[mask], y_pred[mask], pos_label=1)\n",
    "    \n",
    "    if len(precisions) > 1:    \n",
    "        diff = np.max(list(precisions.values())) - np.min(list(precisions.values()))\n",
    "        if diff > max_diff:\n",
    "            is_satisfied = False\n",
    "        \n",
    "    return is_satisfied, problematic_departments, good_deparments, ignored_departments, global_precisions\n"
   ]
  },
  {
   "cell_type": "code",
   "execution_count": 49,
   "id": "numerical-diagnosis",
   "metadata": {},
   "outputs": [
    {
     "name": "stdout",
     "output_type": "stream",
     "text": [
      "\n",
      "Ethnicity\n",
      "Requirement failed 😢\n",
      "Global rates: {'Black': 0.2802601809954751, 'White': 0.27028213416337443, 'Other': 0.26512968299711814, 'Asian': 0.26443057722308894, 'Mixed': 0.3212669683257919}\n",
      "Num problematic departments: 21\n",
      "Num good departments: 9\n",
      "Num ignored departments: 9\n",
      "avg diff: 0.10420569004329538\n",
      "\n",
      "\n",
      "Gender\n",
      "Requirement failed 😢\n",
      "Global rates: {'Male': 0.27255245355585317, 'Female': 0.2562435853575094, 'Other': 0.36666666666666664}\n",
      "Num problematic departments: 11\n",
      "Num good departments: 26\n",
      "Num ignored departments: 2\n",
      "avg diff: 0.08820050924594114\n"
     ]
    }
   ],
   "source": [
    "is_satisfied, problematic_departments, good_deparments, ignored_departments, global_precisions = verify_no_discrimination(\n",
    "    df_test, y_test, y_pred_threshold, 'Officer-defined ethnicity', 0.05)\n",
    "\n",
    "print(\"\\nEthnicity\")\n",
    "\n",
    "if not is_satisfied:\n",
    "    print(\"Requirement failed 😢\")\n",
    "    print(\"Global rates: {}\".format(global_precisions))\n",
    "    print(\"Num problematic departments: {}\".format(len(problematic_departments)))\n",
    "    print(\"Num good departments: {}\".format(len(good_deparments)))\n",
    "    print(\"Num ignored departments: {}\".format(len(ignored_departments)))\n",
    "\n",
    "    print(\"avg diff:\", np.mean([p[1] for p in problematic_departments]))\n",
    "    \n",
    "    \n",
    "is_satisfied, problematic_departments, good_deparments, ignored_departments, global_precisions = verify_no_discrimination(\n",
    "    df_test, y_test, y_pred_threshold, 'Gender', 0.05)\n",
    "\n",
    "print(\"\\n\\nGender\")\n",
    "\n",
    "if not is_satisfied:\n",
    "    print(\"Requirement failed 😢\")\n",
    "    print(\"Global rates: {}\".format(global_precisions))\n",
    "    print(\"Num problematic departments: {}\".format(len(problematic_departments)))\n",
    "    print(\"Num good departments: {}\".format(len(good_deparments)))\n",
    "    print(\"Num ignored departments: {}\".format(len(ignored_departments)))\n",
    "    \n",
    "    print(\"avg diff:\", np.mean([p[1] for p in problematic_departments]))"
   ]
  },
  {
   "cell_type": "markdown",
   "id": "affecting-logan",
   "metadata": {},
   "source": [
    "### 3 - No police station should have a discrepancy bigger than x% between the Removal of more than just outer clothing rate between protected classes (age, ethnicity, gender)"
   ]
  },
  {
   "cell_type": "code",
   "execution_count": 50,
   "id": "executive-block",
   "metadata": {},
   "outputs": [],
   "source": [
    "def verify_removal_clothing(X_test, y_true, y_pred, sensitive_column, max_diff, min_samples=50):\n",
    "    \"\"\"\n",
    "    Verifies that no station has discrepancy Removal of more than just outer clothing rate between \n",
    "    protected classes (age, ethnicity, gender)\n",
    "    \"\"\"\n",
    "    \n",
    "    departments = X_test['station'].unique()\n",
    "    sensitive_classes = X_test[sensitive_column].unique()\n",
    "    \n",
    "    is_satisfied = True\n",
    "    problematic_departments = []\n",
    "    good_deparments = []\n",
    "    ignored_departments = []\n",
    "    for department in departments:\n",
    "        removal_rate = {}\n",
    "        for sensitive_class in sensitive_classes:\n",
    "            mask = (X_test[sensitive_column] == sensitive_class) & (X_test['station'] == department) & (y_pred == 1)\n",
    "            if np.sum(mask) > min_samples:\n",
    "                removal_rate[sensitive_class] = (np.sum(X_test[mask]['Removal of more than just outer clothing']==1))/(X_test[mask]['Removal of more than just outer clothing'].shape[0])\n",
    "                \n",
    "        if len(removal_rate) > 1:    \n",
    "            diff = np.max(list(removal_rate.values())) - np.min(list(removal_rate.values()))\n",
    "\n",
    "            if diff > max_diff:\n",
    "                is_satisfied = False\n",
    "                problematic_departments.append((department, diff, removal_rate))\n",
    "            else:\n",
    "                good_deparments.append((department, diff, removal_rate))\n",
    "        else:\n",
    "            ignored_departments.append((department, None, []))\n",
    "    \n",
    "    global_removal_rate = {}\n",
    "    for sensitive_class in sensitive_classes:\n",
    "        mask = (X_test[sensitive_column] == sensitive_class) & (y_pred == True)\n",
    "        if np.sum(mask) > min_samples:\n",
    "            global_removal_rate[sensitive_class] = (np.sum(X_test[mask]['Removal of more than just outer clothing']==True))/(X_test[mask]['Removal of more than just outer clothing'].shape[0])\n",
    "    \n",
    "#     if len(precisions) > 1:    \n",
    "#         diff = np.max(list(precisions.values())) - np.min(list(precisions.values()))\n",
    "#         if diff > max_diff:\n",
    "#             is_satisfied = False\n",
    "        \n",
    "    return is_satisfied, problematic_departments, good_deparments, ignored_departments, global_removal_rate\n"
   ]
  },
  {
   "cell_type": "code",
   "execution_count": 51,
   "id": "civilian-accountability",
   "metadata": {},
   "outputs": [
    {
     "name": "stdout",
     "output_type": "stream",
     "text": [
      "\n",
      "Gender\n",
      "Requirement failed 😢\n",
      "Global rates: {'Male': 0.043233405446241546, 'Female': 0.04344851180294218}\n",
      "Num problematic departments: 2\n",
      "Num good departments: 18\n",
      "Num ignored departments: 19\n",
      "avg diff: 0.08152542116444769\n",
      "\n",
      "\n",
      "Age range\n",
      "Requirement failed 😢\n",
      "Global rates: {'10-17': 0.022780222624902924, '25-34': 0.044470588235294116, 'over 34': 0.04173027989821883, '18-24': 0.048814100239355916}\n",
      "Num problematic departments: 8\n",
      "Num good departments: 27\n",
      "Num ignored departments: 4\n",
      "avg diff: 0.07099758654232519\n",
      "\n",
      "\n",
      "Ethnicity\n",
      "Requirement failed 😢\n",
      "Global rates: {'Black': 0.09502262443438914, 'White': 0.034797877010255794, 'Other': 0.04178674351585014, 'Asian': 0.0530421216848674, 'Mixed': 0.058823529411764705}\n",
      "Num problematic departments: 11\n",
      "Num good departments: 11\n",
      "Num ignored departments: 17\n",
      "avg diff: 0.11490563606289247\n"
     ]
    }
   ],
   "source": [
    "is_satisfied, problematic_departments, good_deparments, ignored_departments, global_removal_rate = verify_removal_clothing(\n",
    "    df_test, y_test, y_pred_threshold, 'Gender', 0.05)\n",
    "\n",
    "print(\"\\nGender\")\n",
    "\n",
    "if not is_satisfied:\n",
    "    print(\"Requirement failed 😢\")\n",
    "    print(\"Global rates: {}\".format(global_removal_rate))\n",
    "    print(\"Num problematic departments: {}\".format(len(problematic_departments)))\n",
    "    print(\"Num good departments: {}\".format(len(good_deparments)))\n",
    "    print(\"Num ignored departments: {}\".format(len(ignored_departments)))\n",
    "    \n",
    "    print(\"avg diff:\", np.mean([p[1] for p in problematic_departments]))\n",
    "    \n",
    "    \n",
    "is_satisfied, problematic_departments, good_deparments, ignored_departments, global_removal_rate = verify_removal_clothing(\n",
    "    df_test, y_test, y_pred_threshold, 'Age range', 0.05)\n",
    "\n",
    "print(\"\\n\\nAge range\")\n",
    "\n",
    "if not is_satisfied:\n",
    "    print(\"Requirement failed 😢\")\n",
    "    print(\"Global rates: {}\".format(global_removal_rate))\n",
    "    print(\"Num problematic departments: {}\".format(len(problematic_departments)))\n",
    "    print(\"Num good departments: {}\".format(len(good_deparments)))\n",
    "    print(\"Num ignored departments: {}\".format(len(ignored_departments)))\n",
    "    \n",
    "    print(\"avg diff:\", np.mean([p[1] for p in problematic_departments]))\n",
    "    \n",
    "    \n",
    "is_satisfied, problematic_departments, good_deparments, ignored_departments, global_removal_rate = verify_removal_clothing(\n",
    "    df_test, y_test, y_pred_threshold, 'Officer-defined ethnicity', 0.05)\n",
    "\n",
    "print(\"\\n\\nEthnicity\")\n",
    "\n",
    "if not is_satisfied:\n",
    "    print(\"Requirement failed 😢\")\n",
    "    print(\"Global rates: {}\".format(global_removal_rate))\n",
    "    print(\"Num problematic departments: {}\".format(len(problematic_departments)))\n",
    "    print(\"Num good departments: {}\".format(len(good_deparments)))\n",
    "    print(\"Num ignored departments: {}\".format(len(ignored_departments)))\n",
    "    \n",
    "    print(\"avg diff:\", np.mean([p[1] for p in problematic_departments]))"
   ]
  },
  {
   "cell_type": "code",
   "execution_count": null,
   "id": "photographic-essay",
   "metadata": {},
   "outputs": [],
   "source": []
  },
  {
   "cell_type": "code",
   "execution_count": null,
   "id": "adopted-geneva",
   "metadata": {},
   "outputs": [],
   "source": []
  },
  {
   "cell_type": "code",
   "execution_count": null,
   "id": "german-legislature",
   "metadata": {},
   "outputs": [],
   "source": []
  },
  {
   "cell_type": "code",
   "execution_count": null,
   "id": "therapeutic-halifax",
   "metadata": {},
   "outputs": [],
   "source": []
  },
  {
   "cell_type": "code",
   "execution_count": null,
   "id": "isolated-nation",
   "metadata": {},
   "outputs": [],
   "source": []
  },
  {
   "cell_type": "code",
   "execution_count": null,
   "id": "important-absence",
   "metadata": {},
   "outputs": [],
   "source": []
  },
  {
   "cell_type": "code",
   "execution_count": null,
   "id": "finished-makeup",
   "metadata": {},
   "outputs": [],
   "source": []
  },
  {
   "cell_type": "code",
   "execution_count": null,
   "id": "designed-plymouth",
   "metadata": {},
   "outputs": [],
   "source": []
  }
 ],
 "metadata": {
  "kernelspec": {
   "display_name": "Python 3",
   "language": "python",
   "name": "python3"
  },
  "language_info": {
   "codemirror_mode": {
    "name": "ipython",
    "version": 3
   },
   "file_extension": ".py",
   "mimetype": "text/x-python",
   "name": "python",
   "nbconvert_exporter": "python",
   "pygments_lexer": "ipython3",
   "version": "3.6.9"
  }
 },
 "nbformat": 4,
 "nbformat_minor": 5
}
