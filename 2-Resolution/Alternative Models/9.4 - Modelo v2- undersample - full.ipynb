{
 "cells": [
  {
   "cell_type": "code",
   "execution_count": 1,
   "id": "joint-physiology",
   "metadata": {},
   "outputs": [],
   "source": [
    "import json\n",
    "import joblib\n",
    "import pickle\n",
    "import pandas as pd\n",
    "import numpy as np\n",
    "# import seaborn as sns\n",
    "from sklearn.model_selection import train_test_split\n",
    "from sklearn.pipeline import make_pipeline, Pipeline\n",
    "from sklearn.impute import SimpleImputer\n",
    "from sklearn.preprocessing import StandardScaler, OneHotEncoder\n",
    "from sklearn.compose import ColumnTransformer\n",
    "from sklearn.ensemble import RandomForestClassifier\n",
    "from sklearn.metrics import precision_score, recall_score, roc_auc_score\n",
    "from sklearn.metrics import precision_recall_curve\n",
    "\n",
    "import matplotlib.pyplot as plt\n",
    "import matplotlib.image as mpimg\n",
    "%matplotlib inline\n",
    "\n",
    "import warnings\n",
    "warnings.filterwarnings('ignore')\n",
    "\n",
    "import imblearn\n",
    "\n",
    "from imblearn.under_sampling import RandomUnderSampler\n",
    "from imblearn.over_sampling import RandomOverSampler\n"
   ]
  },
  {
   "cell_type": "markdown",
   "id": "selected-portsmouth",
   "metadata": {},
   "source": [
    "### Import dataset"
   ]
  },
  {
   "cell_type": "code",
   "execution_count": 2,
   "id": "backed-beads",
   "metadata": {},
   "outputs": [],
   "source": [
    "train = pd.read_csv('data/train.csv')"
   ]
  },
  {
   "cell_type": "code",
   "execution_count": 3,
   "id": "painted-edward",
   "metadata": {},
   "outputs": [
    {
     "data": {
      "text/plain": [
       "False    660611\n",
       "dtype: int64"
      ]
     },
     "execution_count": 3,
     "metadata": {},
     "output_type": "execute_result"
    }
   ],
   "source": [
    "# no duplicate lines\n",
    "train.duplicated().value_counts()"
   ]
  },
  {
   "cell_type": "code",
   "execution_count": 4,
   "id": "improving-verification",
   "metadata": {},
   "outputs": [
    {
     "data": {
      "text/plain": [
       "False    660611\n",
       "Name: observation_id, dtype: int64"
      ]
     },
     "execution_count": 4,
     "metadata": {},
     "output_type": "execute_result"
    }
   ],
   "source": [
    "# no duplicate observation_id\n",
    "train['observation_id'].duplicated().value_counts()"
   ]
  },
  {
   "cell_type": "markdown",
   "id": "deadly-demographic",
   "metadata": {},
   "source": [
    "### Features adjustments"
   ]
  },
  {
   "cell_type": "code",
   "execution_count": 5,
   "id": "polyphonic-diversity",
   "metadata": {},
   "outputs": [],
   "source": [
    "# transforming Date column in datetime\n",
    "train['Date']=pd.to_datetime(train['Date'], infer_datetime_format=True)\n",
    "\n",
    "# auxiliar Date feature (for temporal analyzis)\n",
    "train['referencia'] = train['Date'].dt.year*100 + train['Date'].dt.month\n",
    "\n",
    "# according to Dr Wilson's instructions: \n",
    "# \"If there was a search and the outcome linked to object of search has not been written please consider it to be False\"\n",
    "train['Outcome linked to object of search'] = train['Outcome linked to object of search'].fillna(False)\n",
    "\n",
    "# according to Dr Wilson's instructions missing values means False \n",
    "train['Part of a policing operation'] = train['Part of a policing operation'].fillna(False)\n",
    "\n",
    "# Outer clothing be filled with False? \n",
    "#Yes, except when it’s just a vehicle search, in which case it makes no sense and should be kept as NaN\n",
    "# mask= ((train['Type']!='Vehicle search') & \n",
    "#       (train['Removal of more than just outer clothing'] != True) &\n",
    "#       (train['Removal of more than just outer clothing'] != False))\n",
    "\n",
    "# train.loc[mask, 'Removal of more than just outer clothing']=False\n",
    "\n",
    "train['Removal of more than just outer clothing'] = train['Removal of more than just outer clothing'].fillna(False)"
   ]
  },
  {
   "cell_type": "markdown",
   "id": "australian-indie",
   "metadata": {},
   "source": [
    "### Filtering / Exclusions"
   ]
  },
  {
   "cell_type": "code",
   "execution_count": 6,
   "id": "reverse-trick",
   "metadata": {},
   "outputs": [],
   "source": [
    "# The Metropolitan station (which is very large and has lots of data in the training set) has the features \n",
    "# Outcome linked to object of search and Removal of outer clothing without any data (always missing). \n",
    "# Is this a known problem, and if so how should we proceed? \n",
    "# Thank you for bringing this to our attention, I’ve contacted the administration at the Metropolitan and asked that \n",
    "# they fix their data entry. Please include this in your report, and do not use the Metropolitan station’s data \n",
    "# for training your models. They will not be in the test set. "
   ]
  },
  {
   "cell_type": "code",
   "execution_count": 7,
   "id": "secure-soviet",
   "metadata": {},
   "outputs": [],
   "source": [
    "# Gwent and Humberside have the same problem of Metropolitan. So I will exclude this observations\n",
    "# dyfed-powys has 1.9% sucess rate, what is very low, so it will exclude for modeling proposes"
   ]
  },
  {
   "cell_type": "code",
   "execution_count": 8,
   "id": "suspected-vessel",
   "metadata": {},
   "outputs": [
    {
     "name": "stdout",
     "output_type": "stream",
     "text": [
      "Exclusion of 360164 observations\n"
     ]
    },
    {
     "data": {
      "text/plain": [
       "(300447, 17)"
      ]
     },
     "execution_count": 8,
     "metadata": {},
     "output_type": "execute_result"
    }
   ],
   "source": [
    "stations_to_exclude = ['metropolitan', 'gwent', 'humberside', 'dyfed-powys']\n",
    "train_model = train[~train['station'].isin(stations_to_exclude)]\n",
    "print(\"Exclusion of {} observations\".format(train[train['station'].isin(stations_to_exclude)]['observation_id'].nunique()))\n",
    "train_model.shape"
   ]
  },
  {
   "cell_type": "code",
   "execution_count": 9,
   "id": "documented-opinion",
   "metadata": {},
   "outputs": [],
   "source": [
    "# Search on individuals with less than 10 years seems unrealist, so I will remove it"
   ]
  },
  {
   "cell_type": "code",
   "execution_count": 10,
   "id": "traditional-harris",
   "metadata": {},
   "outputs": [],
   "source": [
    "# age_to_exclude = ['under 10']\n",
    "# print(\"Exclusion of {} observations\".format(train_model[train_model['Age range'].isin(age_to_exclude)]['observation_id'].nunique()))\n",
    "# train_model = train_model[~train_model['Age range'].isin(age_to_exclude)]\n",
    "# train_model.shape"
   ]
  },
  {
   "cell_type": "markdown",
   "id": "utility-creation",
   "metadata": {},
   "source": [
    "### Target"
   ]
  },
  {
   "cell_type": "code",
   "execution_count": 11,
   "id": "impaired-monthly",
   "metadata": {},
   "outputs": [],
   "source": [
    "positive_outcome = ['Local resolution',\n",
    "           'Community resolution',\n",
    "           'Arrest',\n",
    "           'Article found - Detailed outcome unavailable',\n",
    "           'Caution (simple or conditional)',\n",
    "           'Khat or Cannabis warning',\n",
    "           'Offender cautioned',\n",
    "           'Offender given drugs possession warning',\n",
    "           'Offender given penalty notice',\n",
    "           'Penalty Notice for Disorder',\n",
    "           'Summons / charged by post',\n",
    "           'Suspect arrested',\n",
    "           'Suspect summonsed to court',\n",
    "           'Suspected psychoactive substances seized - No further action']\n",
    "\n",
    "train_model['positive_outcome'] = train_model['Outcome'].isin(positive_outcome)"
   ]
  },
  {
   "cell_type": "code",
   "execution_count": 12,
   "id": "outer-calendar",
   "metadata": {},
   "outputs": [],
   "source": [
    "train_model['target'] = 0\n",
    "mask=((train_model[\"positive_outcome\"] == True) & (train_model[\"Outcome linked to object of search\"]==True))\n",
    "train_model.loc[mask, 'target']=1"
   ]
  },
  {
   "cell_type": "code",
   "execution_count": 13,
   "id": "compound-google",
   "metadata": {},
   "outputs": [
    {
     "data": {
      "text/html": [
       "<div>\n",
       "<style scoped>\n",
       "    .dataframe tbody tr th:only-of-type {\n",
       "        vertical-align: middle;\n",
       "    }\n",
       "\n",
       "    .dataframe tbody tr th {\n",
       "        vertical-align: top;\n",
       "    }\n",
       "\n",
       "    .dataframe thead th {\n",
       "        text-align: right;\n",
       "    }\n",
       "</style>\n",
       "<table border=\"1\" class=\"dataframe\">\n",
       "  <thead>\n",
       "    <tr style=\"text-align: right;\">\n",
       "      <th>Outcome linked to object of search</th>\n",
       "      <th>False</th>\n",
       "      <th>True</th>\n",
       "      <th>Total</th>\n",
       "    </tr>\n",
       "    <tr>\n",
       "      <th>positive_outcome</th>\n",
       "      <th></th>\n",
       "      <th></th>\n",
       "      <th></th>\n",
       "    </tr>\n",
       "  </thead>\n",
       "  <tbody>\n",
       "    <tr>\n",
       "      <th>False</th>\n",
       "      <td>172092</td>\n",
       "      <td>37859</td>\n",
       "      <td>209951</td>\n",
       "    </tr>\n",
       "    <tr>\n",
       "      <th>True</th>\n",
       "      <td>28291</td>\n",
       "      <td>62205</td>\n",
       "      <td>90496</td>\n",
       "    </tr>\n",
       "    <tr>\n",
       "      <th>Total</th>\n",
       "      <td>200383</td>\n",
       "      <td>100064</td>\n",
       "      <td>300447</td>\n",
       "    </tr>\n",
       "  </tbody>\n",
       "</table>\n",
       "</div>"
      ],
      "text/plain": [
       "Outcome linked to object of search   False    True   Total\n",
       "positive_outcome                                          \n",
       "False                               172092   37859  209951\n",
       "True                                 28291   62205   90496\n",
       "Total                               200383  100064  300447"
      ]
     },
     "execution_count": 13,
     "metadata": {},
     "output_type": "execute_result"
    }
   ],
   "source": [
    "pd.crosstab(train_model[\"positive_outcome\"],train_model[\"Outcome linked to object of search\"],\n",
    "            margins=True, margins_name=\"Total\",dropna=False)"
   ]
  },
  {
   "cell_type": "code",
   "execution_count": 14,
   "id": "boring-subcommittee",
   "metadata": {},
   "outputs": [
    {
     "name": "stdout",
     "output_type": "stream",
     "text": [
      "0    238242\n",
      "1     62205\n",
      "Name: target, dtype: int64\n"
     ]
    },
    {
     "data": {
      "text/plain": [
       "0    0.792958\n",
       "1    0.207042\n",
       "Name: target, dtype: float64"
      ]
     },
     "execution_count": 14,
     "metadata": {},
     "output_type": "execute_result"
    }
   ],
   "source": [
    "print(train_model['target'].value_counts(dropna=False))\n",
    "train_model['target'].value_counts(dropna=False,normalize=True)"
   ]
  },
  {
   "cell_type": "code",
   "execution_count": 15,
   "id": "animal-pillow",
   "metadata": {},
   "outputs": [],
   "source": [
    "# print(train_model['positive_outcome'].value_counts(dropna=False))\n",
    "# train_model['positive_outcome'].value_counts(dropna=False,normalize=True)\n",
    "# pd.crosstab(train_model[\"referencia\"],train_model[\"target\"],normalize='index')\n",
    "# pd.crosstab(train_model[\"Gender\"],train_model[\"target\"],normalize='index')\n",
    "# pd.crosstab(train_model[\"station\"],train_model[\"target\"],normalize='index')\n",
    "# pd.crosstab(train_model[\"station\"],train_model[\"positive_outcome\"],normalize='index')"
   ]
  },
  {
   "cell_type": "markdown",
   "id": "valuable-wonder",
   "metadata": {},
   "source": [
    "### Feature engineering"
   ]
  },
  {
   "cell_type": "code",
   "execution_count": 16,
   "id": "anticipated-excerpt",
   "metadata": {},
   "outputs": [],
   "source": [
    "# get the hour and day of the week, maybe they will be useful \n",
    "train_model['hour'] = train_model['Date'].dt.hour\n",
    "train_model['month'] = train_model['Date'].dt.month\n",
    "train_model['day_of_week'] = train_model['Date'].dt.day_name()"
   ]
  },
  {
   "cell_type": "code",
   "execution_count": 17,
   "id": "vocal-upset",
   "metadata": {},
   "outputs": [
    {
     "data": {
      "text/plain": [
       "misuse of drugs act 1971 (section 23)                      175438\n",
       "police and criminal evidence act 1984 (section 1)           91781\n",
       "missing infomation                                          27669\n",
       "criminal justice and public order act 1994 (section 60)      2670\n",
       "firearms act 1968 (section 47)                               1830\n",
       "others                                                       1059\n",
       "Name: Legislation, dtype: int64"
      ]
     },
     "execution_count": 17,
     "metadata": {},
     "output_type": "execute_result"
    }
   ],
   "source": [
    "# Legislation - reducing the quantity of categories\n",
    "# train_model.groupby(['Legislation','target'], dropna=False)['Outcome'].count().unstack()\n",
    "\n",
    "train_model['Legislation']=train_model['Legislation'].fillna('missing infomation')\n",
    "train_model['Legislation'] = train_model['Legislation'].apply(lambda x: str(x).lower())\n",
    "\n",
    "legislation_categories = ['misuse of drugs act 1971 (section 23)', 'police and criminal evidence act 1984 (section 1)', \n",
    "                          'criminal justice and public order act 1994 (section 60)', 'firearms act 1968 (section 47)'\n",
    "                          ,'missing infomation'\n",
    "                         ]\n",
    "\n",
    "mask=(~train_model['Legislation'].isin(legislation_categories))\n",
    "train_model.loc[mask, 'Legislation']='others'\n",
    "\n",
    "train_model['Legislation'].value_counts()"
   ]
  },
  {
   "cell_type": "markdown",
   "id": "variable-albert",
   "metadata": {},
   "source": [
    "### Text Data normalization"
   ]
  },
  {
   "cell_type": "code",
   "execution_count": 18,
   "id": "filled-philosophy",
   "metadata": {},
   "outputs": [],
   "source": [
    "train_model['Object of search'] = train_model['Object of search'].apply(lambda x: str(x).lower())\n",
    "# train_model['Object of search'].value_counts()"
   ]
  },
  {
   "cell_type": "code",
   "execution_count": 19,
   "id": "judicial-marble",
   "metadata": {},
   "outputs": [],
   "source": [
    "train_model['station'] = train_model['station'].apply(lambda x: str(x).lower())\n",
    "# train_model['station'].value_counts()"
   ]
  },
  {
   "cell_type": "code",
   "execution_count": 20,
   "id": "narrow-expansion",
   "metadata": {},
   "outputs": [],
   "source": [
    "train_model['Type'] = train_model['Type'].apply(lambda x: str(x).lower())"
   ]
  },
  {
   "cell_type": "code",
   "execution_count": 21,
   "id": "breeding-crash",
   "metadata": {},
   "outputs": [],
   "source": [
    "train_model['Age range'] = train_model['Age range'].apply(lambda x: str(x).lower())"
   ]
  },
  {
   "cell_type": "code",
   "execution_count": 22,
   "id": "nasty-youth",
   "metadata": {},
   "outputs": [],
   "source": [
    "train_model['Gender'] = train_model['Gender'].apply(lambda x: str(x).lower())"
   ]
  },
  {
   "cell_type": "code",
   "execution_count": 23,
   "id": "stuck-brand",
   "metadata": {},
   "outputs": [],
   "source": [
    "train_model['Officer-defined ethnicity'] = train_model['Officer-defined ethnicity'].apply(lambda x: str(x).lower())"
   ]
  },
  {
   "cell_type": "code",
   "execution_count": 24,
   "id": "imposed-subdivision",
   "metadata": {},
   "outputs": [
    {
     "data": {
      "text/html": [
       "<div>\n",
       "<style scoped>\n",
       "    .dataframe tbody tr th:only-of-type {\n",
       "        vertical-align: middle;\n",
       "    }\n",
       "\n",
       "    .dataframe tbody tr th {\n",
       "        vertical-align: top;\n",
       "    }\n",
       "\n",
       "    .dataframe thead th {\n",
       "        text-align: right;\n",
       "    }\n",
       "</style>\n",
       "<table border=\"1\" class=\"dataframe\">\n",
       "  <thead>\n",
       "    <tr style=\"text-align: right;\">\n",
       "      <th></th>\n",
       "      <th>observation_id</th>\n",
       "      <th>Type</th>\n",
       "      <th>Date</th>\n",
       "      <th>Part of a policing operation</th>\n",
       "      <th>Latitude</th>\n",
       "      <th>Longitude</th>\n",
       "      <th>Gender</th>\n",
       "      <th>Age range</th>\n",
       "      <th>Self-defined ethnicity</th>\n",
       "      <th>Officer-defined ethnicity</th>\n",
       "      <th>...</th>\n",
       "      <th>Outcome</th>\n",
       "      <th>Outcome linked to object of search</th>\n",
       "      <th>Removal of more than just outer clothing</th>\n",
       "      <th>station</th>\n",
       "      <th>referencia</th>\n",
       "      <th>positive_outcome</th>\n",
       "      <th>target</th>\n",
       "      <th>hour</th>\n",
       "      <th>month</th>\n",
       "      <th>day_of_week</th>\n",
       "    </tr>\n",
       "  </thead>\n",
       "  <tbody>\n",
       "    <tr>\n",
       "      <th>0</th>\n",
       "      <td>34d76816-cfc2-4bdd-b3a2-bf0c40b12689</td>\n",
       "      <td>person search</td>\n",
       "      <td>2019-12-01 00:00:00+00:00</td>\n",
       "      <td>True</td>\n",
       "      <td>NaN</td>\n",
       "      <td>NaN</td>\n",
       "      <td>male</td>\n",
       "      <td>18-24</td>\n",
       "      <td>Asian/Asian British - Any other Asian background</td>\n",
       "      <td>asian</td>\n",
       "      <td>...</td>\n",
       "      <td>A no further action disposal</td>\n",
       "      <td>False</td>\n",
       "      <td>False</td>\n",
       "      <td>devon-and-cornwall</td>\n",
       "      <td>201912</td>\n",
       "      <td>False</td>\n",
       "      <td>0</td>\n",
       "      <td>0</td>\n",
       "      <td>12</td>\n",
       "      <td>Sunday</td>\n",
       "    </tr>\n",
       "    <tr>\n",
       "      <th>1</th>\n",
       "      <td>83c87ec1-e6d4-4bbb-8e0c-159516706359</td>\n",
       "      <td>person search</td>\n",
       "      <td>2019-12-01 00:09:00+00:00</td>\n",
       "      <td>True</td>\n",
       "      <td>NaN</td>\n",
       "      <td>NaN</td>\n",
       "      <td>male</td>\n",
       "      <td>18-24</td>\n",
       "      <td>NaN</td>\n",
       "      <td>white</td>\n",
       "      <td>...</td>\n",
       "      <td>A no further action disposal</td>\n",
       "      <td>False</td>\n",
       "      <td>False</td>\n",
       "      <td>devon-and-cornwall</td>\n",
       "      <td>201912</td>\n",
       "      <td>False</td>\n",
       "      <td>0</td>\n",
       "      <td>0</td>\n",
       "      <td>12</td>\n",
       "      <td>Sunday</td>\n",
       "    </tr>\n",
       "    <tr>\n",
       "      <th>2</th>\n",
       "      <td>8c2eae4b-035a-492f-92d6-cd27e6c900a1</td>\n",
       "      <td>person search</td>\n",
       "      <td>2019-12-01 00:10:00+00:00</td>\n",
       "      <td>True</td>\n",
       "      <td>NaN</td>\n",
       "      <td>NaN</td>\n",
       "      <td>female</td>\n",
       "      <td>18-24</td>\n",
       "      <td>White - English/Welsh/Scottish/Northern Irish/...</td>\n",
       "      <td>white</td>\n",
       "      <td>...</td>\n",
       "      <td>A no further action disposal</td>\n",
       "      <td>False</td>\n",
       "      <td>False</td>\n",
       "      <td>devon-and-cornwall</td>\n",
       "      <td>201912</td>\n",
       "      <td>False</td>\n",
       "      <td>0</td>\n",
       "      <td>0</td>\n",
       "      <td>12</td>\n",
       "      <td>Sunday</td>\n",
       "    </tr>\n",
       "    <tr>\n",
       "      <th>3</th>\n",
       "      <td>e63a036a-a728-4efe-8e08-7198f56d6d0a</td>\n",
       "      <td>person search</td>\n",
       "      <td>2019-12-01 00:10:00+00:00</td>\n",
       "      <td>False</td>\n",
       "      <td>NaN</td>\n",
       "      <td>NaN</td>\n",
       "      <td>male</td>\n",
       "      <td>18-24</td>\n",
       "      <td>NaN</td>\n",
       "      <td>asian</td>\n",
       "      <td>...</td>\n",
       "      <td>A no further action disposal</td>\n",
       "      <td>False</td>\n",
       "      <td>False</td>\n",
       "      <td>devon-and-cornwall</td>\n",
       "      <td>201912</td>\n",
       "      <td>False</td>\n",
       "      <td>0</td>\n",
       "      <td>0</td>\n",
       "      <td>12</td>\n",
       "      <td>Sunday</td>\n",
       "    </tr>\n",
       "    <tr>\n",
       "      <th>4</th>\n",
       "      <td>40c70aca-1f7f-4efe-8c5b-ade0f2e9937d</td>\n",
       "      <td>person search</td>\n",
       "      <td>2019-12-01 00:12:00+00:00</td>\n",
       "      <td>True</td>\n",
       "      <td>50.368247</td>\n",
       "      <td>-4.126646</td>\n",
       "      <td>male</td>\n",
       "      <td>18-24</td>\n",
       "      <td>NaN</td>\n",
       "      <td>white</td>\n",
       "      <td>...</td>\n",
       "      <td>A no further action disposal</td>\n",
       "      <td>False</td>\n",
       "      <td>False</td>\n",
       "      <td>devon-and-cornwall</td>\n",
       "      <td>201912</td>\n",
       "      <td>False</td>\n",
       "      <td>0</td>\n",
       "      <td>0</td>\n",
       "      <td>12</td>\n",
       "      <td>Sunday</td>\n",
       "    </tr>\n",
       "  </tbody>\n",
       "</table>\n",
       "<p>5 rows × 22 columns</p>\n",
       "</div>"
      ],
      "text/plain": [
       "                         observation_id           Type  \\\n",
       "0  34d76816-cfc2-4bdd-b3a2-bf0c40b12689  person search   \n",
       "1  83c87ec1-e6d4-4bbb-8e0c-159516706359  person search   \n",
       "2  8c2eae4b-035a-492f-92d6-cd27e6c900a1  person search   \n",
       "3  e63a036a-a728-4efe-8e08-7198f56d6d0a  person search   \n",
       "4  40c70aca-1f7f-4efe-8c5b-ade0f2e9937d  person search   \n",
       "\n",
       "                       Date  Part of a policing operation   Latitude  \\\n",
       "0 2019-12-01 00:00:00+00:00                          True        NaN   \n",
       "1 2019-12-01 00:09:00+00:00                          True        NaN   \n",
       "2 2019-12-01 00:10:00+00:00                          True        NaN   \n",
       "3 2019-12-01 00:10:00+00:00                         False        NaN   \n",
       "4 2019-12-01 00:12:00+00:00                          True  50.368247   \n",
       "\n",
       "   Longitude  Gender Age range  \\\n",
       "0        NaN    male     18-24   \n",
       "1        NaN    male     18-24   \n",
       "2        NaN  female     18-24   \n",
       "3        NaN    male     18-24   \n",
       "4  -4.126646    male     18-24   \n",
       "\n",
       "                              Self-defined ethnicity  \\\n",
       "0   Asian/Asian British - Any other Asian background   \n",
       "1                                                NaN   \n",
       "2  White - English/Welsh/Scottish/Northern Irish/...   \n",
       "3                                                NaN   \n",
       "4                                                NaN   \n",
       "\n",
       "  Officer-defined ethnicity  ...                       Outcome  \\\n",
       "0                     asian  ...  A no further action disposal   \n",
       "1                     white  ...  A no further action disposal   \n",
       "2                     white  ...  A no further action disposal   \n",
       "3                     asian  ...  A no further action disposal   \n",
       "4                     white  ...  A no further action disposal   \n",
       "\n",
       "  Outcome linked to object of search Removal of more than just outer clothing  \\\n",
       "0                              False                                    False   \n",
       "1                              False                                    False   \n",
       "2                              False                                    False   \n",
       "3                              False                                    False   \n",
       "4                              False                                    False   \n",
       "\n",
       "              station  referencia positive_outcome  target  hour  month  \\\n",
       "0  devon-and-cornwall      201912            False       0     0     12   \n",
       "1  devon-and-cornwall      201912            False       0     0     12   \n",
       "2  devon-and-cornwall      201912            False       0     0     12   \n",
       "3  devon-and-cornwall      201912            False       0     0     12   \n",
       "4  devon-and-cornwall      201912            False       0     0     12   \n",
       "\n",
       "   day_of_week  \n",
       "0       Sunday  \n",
       "1       Sunday  \n",
       "2       Sunday  \n",
       "3       Sunday  \n",
       "4       Sunday  \n",
       "\n",
       "[5 rows x 22 columns]"
      ]
     },
     "execution_count": 24,
     "metadata": {},
     "output_type": "execute_result"
    }
   ],
   "source": [
    "train_model.head()"
   ]
  },
  {
   "cell_type": "markdown",
   "id": "roman-electronics",
   "metadata": {},
   "source": [
    "### Latitude and Longitude"
   ]
  },
  {
   "cell_type": "code",
   "execution_count": 25,
   "id": "existing-detroit",
   "metadata": {},
   "outputs": [],
   "source": [
    "# print(train_model['Latitude'].describe())\n",
    "# train_model['Longitude'].describe()"
   ]
  },
  {
   "cell_type": "code",
   "execution_count": 26,
   "id": "interior-minister",
   "metadata": {},
   "outputs": [],
   "source": [
    "train_model['Latitude'] = train_model['Longitude'].fillna(0)\n",
    "train_model['Longitude'] = train_model['Longitude'].fillna(50)"
   ]
  },
  {
   "cell_type": "code",
   "execution_count": null,
   "id": "administrative-reach",
   "metadata": {},
   "outputs": [],
   "source": []
  },
  {
   "cell_type": "markdown",
   "id": "dedicated-corrections",
   "metadata": {},
   "source": [
    "### Other variables adjustments"
   ]
  },
  {
   "cell_type": "code",
   "execution_count": 27,
   "id": "liberal-height",
   "metadata": {},
   "outputs": [
    {
     "data": {
      "text/plain": [
       "18-24       241905\n",
       "25-34       158181\n",
       "10-17       131763\n",
       "over 34     128378\n",
       "under 10       384\n",
       "Name: Age range, dtype: int64"
      ]
     },
     "execution_count": 27,
     "metadata": {},
     "output_type": "execute_result"
    }
   ],
   "source": [
    "train['Age range'].value_counts(dropna=False)"
   ]
  },
  {
   "cell_type": "code",
   "execution_count": 28,
   "id": "decreased-strength",
   "metadata": {},
   "outputs": [],
   "source": [
    "train_model['Age range']=train_model['Age range'].replace({'under 10': 'under 18', '10-17': 'under 18'})"
   ]
  },
  {
   "cell_type": "code",
   "execution_count": 29,
   "id": "physical-england",
   "metadata": {},
   "outputs": [
    {
     "data": {
      "text/plain": [
       "18-24       102548\n",
       "25-34        72861\n",
       "over 34      65541\n",
       "under 18     59497\n",
       "Name: Age range, dtype: int64"
      ]
     },
     "execution_count": 29,
     "metadata": {},
     "output_type": "execute_result"
    }
   ],
   "source": [
    "train_model['Age range'].value_counts(dropna=False)"
   ]
  },
  {
   "cell_type": "code",
   "execution_count": 30,
   "id": "effective-plaintiff",
   "metadata": {},
   "outputs": [
    {
     "data": {
      "text/plain": [
       "White    378311\n",
       "Black    174593\n",
       "Asian     86035\n",
       "Other     19842\n",
       "Mixed      1830\n",
       "Name: Officer-defined ethnicity, dtype: int64"
      ]
     },
     "execution_count": 30,
     "metadata": {},
     "output_type": "execute_result"
    }
   ],
   "source": [
    "train['Officer-defined ethnicity'].value_counts(dropna=False)"
   ]
  },
  {
   "cell_type": "code",
   "execution_count": 31,
   "id": "taken-pharmacy",
   "metadata": {},
   "outputs": [],
   "source": [
    "train_model['Officer-defined ethnicity'] = train_model['Officer-defined ethnicity'].replace({'mixed': 'other'})"
   ]
  },
  {
   "cell_type": "code",
   "execution_count": 32,
   "id": "correct-confusion",
   "metadata": {},
   "outputs": [
    {
     "data": {
      "text/plain": [
       "white    235885\n",
       "black     32261\n",
       "asian     24533\n",
       "other      7768\n",
       "Name: Officer-defined ethnicity, dtype: int64"
      ]
     },
     "execution_count": 32,
     "metadata": {},
     "output_type": "execute_result"
    }
   ],
   "source": [
    "train_model['Officer-defined ethnicity'].value_counts(dropna=False)"
   ]
  },
  {
   "cell_type": "markdown",
   "id": "consistent-sunday",
   "metadata": {},
   "source": [
    "### Over and Undersampling"
   ]
  },
  {
   "cell_type": "code",
   "execution_count": 33,
   "id": "editorial-measure",
   "metadata": {},
   "outputs": [
    {
     "data": {
      "text/plain": [
       "RandomUnderSampler(sampling_strategy='minority')"
      ]
     },
     "execution_count": 33,
     "metadata": {},
     "output_type": "execute_result"
    }
   ],
   "source": [
    "RandomUnderSampler(sampling_strategy='minority')"
   ]
  },
  {
   "cell_type": "code",
   "execution_count": 34,
   "id": "compound-memphis",
   "metadata": {},
   "outputs": [],
   "source": [
    "# define undersample strategy\n",
    "undersample = RandomUnderSampler(sampling_strategy='all')"
   ]
  },
  {
   "cell_type": "code",
   "execution_count": 35,
   "id": "confidential-earth",
   "metadata": {},
   "outputs": [],
   "source": [
    "# fit and apply the transform\n",
    "X_under, y_under = undersample.fit_resample(train_model, train_model['Officer-defined ethnicity'])"
   ]
  },
  {
   "cell_type": "code",
   "execution_count": 36,
   "id": "embedded-target",
   "metadata": {},
   "outputs": [
    {
     "data": {
      "text/plain": [
       "(31072, 22)"
      ]
     },
     "execution_count": 36,
     "metadata": {},
     "output_type": "execute_result"
    }
   ],
   "source": [
    "X_under.shape"
   ]
  },
  {
   "cell_type": "code",
   "execution_count": 37,
   "id": "respiratory-england",
   "metadata": {},
   "outputs": [
    {
     "data": {
      "text/plain": [
       "asian    7768\n",
       "black    7768\n",
       "other    7768\n",
       "white    7768\n",
       "Name: Officer-defined ethnicity, dtype: int64"
      ]
     },
     "execution_count": 37,
     "metadata": {},
     "output_type": "execute_result"
    }
   ],
   "source": [
    "X_under['Officer-defined ethnicity'].value_counts()"
   ]
  },
  {
   "cell_type": "code",
   "execution_count": 38,
   "id": "enabling-biodiversity",
   "metadata": {},
   "outputs": [],
   "source": [
    "oversample = RandomOverSampler(sampling_strategy='not minority')"
   ]
  },
  {
   "cell_type": "code",
   "execution_count": 39,
   "id": "clinical-cisco",
   "metadata": {},
   "outputs": [],
   "source": [
    "# fit and apply the transform\n",
    "X_over, y_over = oversample.fit_resample(train_model, train_model['Officer-defined ethnicity'])"
   ]
  },
  {
   "cell_type": "code",
   "execution_count": 40,
   "id": "several-williams",
   "metadata": {},
   "outputs": [
    {
     "data": {
      "text/plain": [
       "asian    235885\n",
       "black    235885\n",
       "white    235885\n",
       "other      7768\n",
       "Name: Officer-defined ethnicity, dtype: int64"
      ]
     },
     "execution_count": 40,
     "metadata": {},
     "output_type": "execute_result"
    }
   ],
   "source": [
    "X_over['Officer-defined ethnicity'].value_counts()"
   ]
  },
  {
   "cell_type": "code",
   "execution_count": 41,
   "id": "individual-moral",
   "metadata": {},
   "outputs": [
    {
     "data": {
      "text/plain": [
       "white    235885\n",
       "black     32261\n",
       "asian     24533\n",
       "other      7768\n",
       "Name: Officer-defined ethnicity, dtype: int64"
      ]
     },
     "execution_count": 41,
     "metadata": {},
     "output_type": "execute_result"
    }
   ],
   "source": [
    "train_model['Officer-defined ethnicity'].value_counts()"
   ]
  },
  {
   "cell_type": "code",
   "execution_count": 42,
   "id": "committed-presence",
   "metadata": {},
   "outputs": [],
   "source": [
    "oversample2 = RandomOverSampler(sampling_strategy='minority')"
   ]
  },
  {
   "cell_type": "code",
   "execution_count": 43,
   "id": "narrow-seminar",
   "metadata": {},
   "outputs": [
    {
     "data": {
      "text/plain": [
       "(31072, 22)"
      ]
     },
     "execution_count": 43,
     "metadata": {},
     "output_type": "execute_result"
    }
   ],
   "source": [
    "X_other = X_over[X_over['Officer-defined ethnicity']=='other']\n",
    "aux = X_other\n",
    "X_other =X_other.append(aux)\n",
    "X_other =X_other.append(aux)\n",
    "X_other =X_other.append(aux)\n",
    "X_other.shape"
   ]
  },
  {
   "cell_type": "code",
   "execution_count": 44,
   "id": "inside-scenario",
   "metadata": {},
   "outputs": [],
   "source": [
    "train_balance = X_over.append(X_other)"
   ]
  },
  {
   "cell_type": "code",
   "execution_count": 45,
   "id": "broke-walnut",
   "metadata": {},
   "outputs": [
    {
     "data": {
      "text/plain": [
       "asian    235885\n",
       "black    235885\n",
       "white    235885\n",
       "other     38840\n",
       "Name: Officer-defined ethnicity, dtype: int64"
      ]
     },
     "execution_count": 45,
     "metadata": {},
     "output_type": "execute_result"
    }
   ],
   "source": [
    "train_balance['Officer-defined ethnicity'].value_counts()"
   ]
  },
  {
   "cell_type": "code",
   "execution_count": 46,
   "id": "mounted-engagement",
   "metadata": {},
   "outputs": [
    {
     "data": {
      "text/plain": [
       "0    0.792885\n",
       "1    0.207115\n",
       "Name: target, dtype: float64"
      ]
     },
     "execution_count": 46,
     "metadata": {},
     "output_type": "execute_result"
    }
   ],
   "source": [
    "train_balance['target'].value_counts(normalize=True)"
   ]
  },
  {
   "cell_type": "markdown",
   "id": "unauthorized-possibility",
   "metadata": {},
   "source": [
    "### Data split"
   ]
  },
  {
   "cell_type": "code",
   "execution_count": 47,
   "id": "different-honduras",
   "metadata": {},
   "outputs": [],
   "source": [
    "df_train, df_test = train_test_split(train_balance, test_size=0.3, random_state=42)"
   ]
  },
  {
   "cell_type": "code",
   "execution_count": 48,
   "id": "acute-princess",
   "metadata": {},
   "outputs": [
    {
     "data": {
      "text/plain": [
       "(522546, 22)"
      ]
     },
     "execution_count": 48,
     "metadata": {},
     "output_type": "execute_result"
    }
   ],
   "source": [
    "df_train.shape"
   ]
  },
  {
   "cell_type": "code",
   "execution_count": 49,
   "id": "satellite-league",
   "metadata": {},
   "outputs": [
    {
     "data": {
      "text/plain": [
       "(223949, 22)"
      ]
     },
     "execution_count": 49,
     "metadata": {},
     "output_type": "execute_result"
    }
   ],
   "source": [
    "df_test.shape"
   ]
  },
  {
   "cell_type": "code",
   "execution_count": null,
   "id": "facial-balloon",
   "metadata": {},
   "outputs": [],
   "source": []
  },
  {
   "cell_type": "markdown",
   "id": "covered-teach",
   "metadata": {},
   "source": [
    "### Training a baseline model"
   ]
  },
  {
   "cell_type": "code",
   "execution_count": 50,
   "id": "precious-yugoslavia",
   "metadata": {},
   "outputs": [
    {
     "data": {
      "text/plain": [
       "0.6283208083866679"
      ]
     },
     "execution_count": 50,
     "metadata": {},
     "output_type": "execute_result"
    }
   ],
   "source": [
    "all_features = ['Type', 'Part of a policing operation', 'Age range',\n",
    "                'Legislation', 'hour', 'month', 'day_of_week', 'station', 'Gender', 'Officer-defined ethnicity',\n",
    "               'Latitude', 'Longitude']\n",
    "\n",
    "numerical_features = ['hour', 'month','Latitude', 'Longitude']\n",
    "\n",
    "categorical_features = ['Type', 'Part of a policing operation', 'Age range','Gender', 'Officer-defined ethnicity',\n",
    "                        'Legislation', 'day_of_week','station']\n",
    "\n",
    "numeric_transformer = Pipeline(steps=[\n",
    "    ('imputer', SimpleImputer(strategy='median')),\n",
    "    ('scaler', StandardScaler())])\n",
    "\n",
    "categorical_transformer = Pipeline(steps=[\n",
    "    ('imputer', SimpleImputer(strategy='constant', fill_value='missing')),\n",
    "    ('onehot', OneHotEncoder(handle_unknown='ignore'))])\n",
    "\n",
    "preprocessor = ColumnTransformer(\n",
    "    transformers=[\n",
    "        ('num', numeric_transformer, numerical_features),\n",
    "        ('cat', categorical_transformer, categorical_features)])\n",
    "\n",
    "pipeline = make_pipeline(\n",
    "    preprocessor,\n",
    "    RandomForestClassifier(max_depth=300, min_samples_leaf=.001, class_weight=\"balanced\", random_state=42, n_jobs=-1),\n",
    ")\n",
    "\n",
    "\n",
    "X_train = df_train[all_features]\n",
    "y_train = df_train['target']\n",
    "\n",
    "pipeline.fit(X_train, y_train)\n",
    "\n",
    "X_test = df_test[all_features]\n",
    "y_test = df_test['target']\n",
    "\n",
    "y_pred = pipeline.predict(X_test)\n",
    "y_proba = pipeline.predict_proba(X_test)\n",
    "y_pred_train = pipeline.predict(X_train)\n",
    "\n",
    "roc_auc_score(y_test, y_pred)"
   ]
  },
  {
   "cell_type": "code",
   "execution_count": null,
   "id": "broadband-sheet",
   "metadata": {},
   "outputs": [],
   "source": []
  },
  {
   "cell_type": "code",
   "execution_count": 51,
   "id": "expressed-jacket",
   "metadata": {},
   "outputs": [],
   "source": [
    "precision, recall, thresholds = precision_recall_curve(y_test, y_proba[:,1])"
   ]
  },
  {
   "cell_type": "code",
   "execution_count": 52,
   "id": "bacterial-emergency",
   "metadata": {},
   "outputs": [],
   "source": [
    "precision = precision[:-1]\n",
    "recall = recall[:-1]"
   ]
  },
  {
   "cell_type": "code",
   "execution_count": 53,
   "id": "premium-denial",
   "metadata": {},
   "outputs": [
    {
     "data": {
      "image/png": "[encoded data removed]",
      "text/plain": [
       "<Figure size 432x288 with 2 Axes>"
      ]
     },
     "metadata": {
      "needs_background": "light"
     },
     "output_type": "display_data"
    }
   ],
   "source": [
    "fig=plt.figure()\n",
    "ax1 = plt.subplot(211)\n",
    "ax2 = plt.subplot(212)\n",
    "ax1.hlines(y=0.1,xmin=0, xmax=1, colors='red')\n",
    "ax1.plot(thresholds,precision)\n",
    "ax2.plot(thresholds,recall)\n",
    "ax1.get_shared_x_axes().join(ax1, ax2)\n",
    "ax1.set_xticklabels([])\n",
    "plt.xlabel('Threshold')\n",
    "ax1.set_title('Precision')\n",
    "ax2.set_title('Recall')\n",
    "plt.show()"
   ]
  },
  {
   "cell_type": "code",
   "execution_count": 54,
   "id": "fluid-animation",
   "metadata": {},
   "outputs": [
    {
     "name": "stdout",
     "output_type": "stream",
     "text": [
      "28241\n"
     ]
    },
    {
     "data": {
      "text/plain": [
       "0.39066467161447216"
      ]
     },
     "execution_count": 54,
     "metadata": {},
     "output_type": "execute_result"
    }
   ],
   "source": [
    "min_index = [i for i, prec in enumerate(precision) if prec > 0.25][0]\n",
    "print(min_index)\n",
    "thresholds[min_index]"
   ]
  },
  {
   "cell_type": "code",
   "execution_count": 55,
   "id": "productive-tourism",
   "metadata": {},
   "outputs": [
    {
     "data": {
      "text/plain": [
       "0.25000149119301407"
      ]
     },
     "execution_count": 55,
     "metadata": {},
     "output_type": "execute_result"
    }
   ],
   "source": [
    "precision[min_index]"
   ]
  },
  {
   "cell_type": "code",
   "execution_count": 56,
   "id": "devoted-chart",
   "metadata": {},
   "outputs": [
    {
     "data": {
      "text/plain": [
       "0.9058353144586125"
      ]
     },
     "execution_count": 56,
     "metadata": {},
     "output_type": "execute_result"
    }
   ],
   "source": [
    "recall[min_index]"
   ]
  },
  {
   "cell_type": "code",
   "execution_count": 57,
   "id": "asian-sauce",
   "metadata": {},
   "outputs": [
    {
     "data": {
      "image/png": "[encoded data removed]",
      "text/plain": [
       "<Figure size 432x288 with 1 Axes>"
      ]
     },
     "metadata": {
      "needs_background": "light"
     },
     "output_type": "display_data"
    }
   ],
   "source": [
    "pd.Series(y_proba[:,1]).hist(bins=20, figsize=(6, 4));\n",
    "# df.hist(column='SubjectAge', bins=20, figsize=(6, 4));"
   ]
  },
  {
   "cell_type": "code",
   "execution_count": 58,
   "id": "reflected-prophet",
   "metadata": {},
   "outputs": [],
   "source": [
    "threshold = thresholds[min_index]\n",
    "y_pred_threshold = pd.Series([True if p >= threshold else False for p in y_proba[:,1]]).to_numpy()"
   ]
  },
  {
   "cell_type": "code",
   "execution_count": 59,
   "id": "chinese-broadway",
   "metadata": {},
   "outputs": [
    {
     "name": "stdout",
     "output_type": "stream",
     "text": [
      "<class 'numpy.ndarray'>\n"
     ]
    },
    {
     "data": {
      "text/plain": [
       "numpy.ndarray"
      ]
     },
     "execution_count": 59,
     "metadata": {},
     "output_type": "execute_result"
    }
   ],
   "source": [
    "print(type(y_pred))\n",
    "type(y_pred_threshold)"
   ]
  },
  {
   "cell_type": "code",
   "execution_count": null,
   "id": "rapid-consumer",
   "metadata": {},
   "outputs": [],
   "source": []
  },
  {
   "cell_type": "markdown",
   "id": "protected-association",
   "metadata": {},
   "source": [
    "#### most important features"
   ]
  },
  {
   "cell_type": "code",
   "execution_count": 60,
   "id": "according-falls",
   "metadata": {},
   "outputs": [
    {
     "name": "stdout",
     "output_type": "stream",
     "text": [
      "Feature ranking:\n",
      "1. feature Legislation_misuse of drugs act 1971 (section 23) (0.200369)\n",
      "2. feature Legislation_police and criminal evidence act 1984 (section 1) (0.134267)\n",
      "3. feature station_lancashire (0.078517)\n",
      "4. feature Age range_under 18 (0.071488)\n",
      "5. feature Longitude (0.061912)\n",
      "6. feature Latitude (0.048863)\n",
      "7. feature Age range_18-24 (0.032811)\n",
      "8. feature Legislation_criminal justice and public order act 1994 (section 60) (0.031661)\n",
      "9. feature hour (0.027566)\n",
      "10. feature station_thames-valley (0.023788)\n",
      "11. feature station_south-yorkshire (0.022701)\n",
      "12. feature Type_person search (0.021824)\n"
     ]
    },
    {
     "data": {
      "image/png": "[encoded data removed]",
      "text/plain": [
       "<Figure size 432x288 with 1 Axes>"
      ]
     },
     "metadata": {
      "needs_background": "light"
     },
     "output_type": "display_data"
    }
   ],
   "source": [
    "categorical_encode_step = pipeline.named_steps['columntransformer'].named_transformers_['cat'].named_steps['onehot']\n",
    "random_forest_step = pipeline.named_steps['randomforestclassifier']\n",
    "\n",
    "onehot_columns = categorical_encode_step.get_feature_names(input_features=categorical_features)\n",
    "\n",
    "importances = pd.Series(data=random_forest_step.feature_importances_, index = np.array(numerical_features + list(onehot_columns)))\n",
    "\n",
    "indices = np.argsort(importances)[::-1]\n",
    "print(\"Feature ranking:\")\n",
    "\n",
    "for f in range(X_train.shape[1]):\n",
    "    print(\"%d. feature %s (%f)\" % (f + 1, importances.index[indices[f]], importances[indices[f]]))\n",
    "\n",
    "std = np.std([tree.feature_importances_ for tree in random_forest_step.estimators_], axis=0)\n",
    "\n",
    "plt.figure()\n",
    "plt.title(\"Feature importances\")\n",
    "plt.bar(x=importances.index[indices], height=importances[indices],\n",
    "        color=\"r\", yerr=std[indices], align=\"center\");\n",
    "plt.xticks(range(len(importances.index[indices])), importances.index[indices], rotation=45, ha=\"right\")\n",
    "plt.xlim([-1, X_train.shape[1]])\n",
    "plt.xlabel('Features');\n",
    "plt.ylabel('Importance');\n",
    "\n",
    "plt.show()"
   ]
  },
  {
   "cell_type": "code",
   "execution_count": null,
   "id": "better-excerpt",
   "metadata": {},
   "outputs": [],
   "source": []
  },
  {
   "cell_type": "markdown",
   "id": "consecutive-cricket",
   "metadata": {},
   "source": [
    "## Formalizing client requirements"
   ]
  },
  {
   "cell_type": "markdown",
   "id": "loving-angel",
   "metadata": {},
   "source": [
    "### 1 - Minimum 10% success rate for searches per station and search objective"
   ]
  },
  {
   "cell_type": "code",
   "execution_count": 61,
   "id": "muslim-navigation",
   "metadata": {},
   "outputs": [],
   "source": [
    "def verify_global_success_rate(y_true, y_pred, min_success_rate=0.1):\n",
    "    \"\"\"\n",
    "    Verifies the success rate on a test set is above a provided minimum\n",
    "    \"\"\"\n",
    "    \n",
    "    precision = precision_score(y_true, y_pred, pos_label=1)\n",
    "    is_satisfied = (precision >= min_success_rate)\n",
    "    \n",
    "    global_recall = recall_score(y_true, y_pred, pos_label=1)\n",
    "    \n",
    "    return is_satisfied, precision, global_recall"
   ]
  },
  {
   "cell_type": "code",
   "execution_count": 62,
   "id": "robust-finnish",
   "metadata": {},
   "outputs": [
    {
     "name": "stdout",
     "output_type": "stream",
     "text": [
      "Global Precision: (True, 0.25000149119301407)\n",
      "Global Recall: 0.9058353144586125\n"
     ]
    }
   ],
   "source": [
    "is_verified, success_rate, global_recall = verify_global_success_rate(y_test, y_pred_threshold)\n",
    "\n",
    "print(\"Global Precision: {}\".format((is_verified, success_rate)))\n",
    "print(\"Global Recall: {}\".format(global_recall))"
   ]
  },
  {
   "cell_type": "code",
   "execution_count": null,
   "id": "interim-theta",
   "metadata": {},
   "outputs": [],
   "source": []
  },
  {
   "cell_type": "code",
   "execution_count": 63,
   "id": "chief-appraisal",
   "metadata": {},
   "outputs": [],
   "source": [
    "def verify_success_rate_objective_station(X_test, y_true, y_pred, sensitive_column='Object of search', \n",
    "                                          min_success_rate=0.1, min_samples=50):\n",
    "    \"\"\"\n",
    "    Verifies that success rate per station and search objective is higher than 10%\n",
    "    \"\"\"\n",
    "    \n",
    "#     exclusion_list = ['articles for use in criminal damage','anything to threaten or harm anyone','fireworks', \n",
    "#                  'detailed object of search unavailable','game or poaching equipment',\n",
    "#                  'goods on which duty has not been paid etc.','evidence of wildlife offences',\n",
    "#                  'crossbows','seals or hunting equipment']\n",
    "\n",
    "    exclusion_list = ['articles for use in criminal damage','anything to threaten or harm anyone','fireworks',\n",
    "                      'detailed object of search unavailable','game or poaching equipment',\n",
    "                      'goods on which duty has not been paid etc.','evidence of wildlife offences',\n",
    "                      'crossbows','seals or hunting equipment',\n",
    "                      'firearms','evidence of offences under the act','psychoactive substances']\n",
    "    \n",
    "    departments = X_test['station'].unique()\n",
    "    sensitive_classes = X_test[sensitive_column].unique()\n",
    "    \n",
    "    is_satisfied = True\n",
    "    problematic_departments = []\n",
    "    good_deparments = []\n",
    "    ignored_departments = []\n",
    "    for department in departments:\n",
    "        precisions = {}\n",
    "        for sensitive_class in sensitive_classes:\n",
    "            if sensitive_class not in exclusion_list:\n",
    "                mask = (X_test[sensitive_column] == sensitive_class) & (X_test['station'] == department)\n",
    "                if np.sum(mask) > min_samples:\n",
    "                    precisions[sensitive_class] = precision_score(y_true[mask], y_pred[mask], pos_label=1)\n",
    "                \n",
    "        if len(precisions) > 1:    \n",
    "            precision_min = np.min(list(precisions.values()))\n",
    "\n",
    "            if precision_min < min_success_rate:\n",
    "                is_satisfied = False\n",
    "                problematic_departments.append((department, precision_min, precisions))\n",
    "            else:\n",
    "                good_deparments.append((department, precision_min, precisions))\n",
    "        else:\n",
    "            ignored_departments.append((department, None, []))\n",
    "    \n",
    "    global_precisions = {}\n",
    "    for department in departments:\n",
    "        mask = (X_test['station'] == department)\n",
    "        if np.sum(mask) > min_samples:\n",
    "            global_precisions[department] = precision_score(y_true[mask], y_pred[mask])\n",
    "            \n",
    "    global_precisions_objective = {}\n",
    "    for obj in sensitive_classes:\n",
    "        mask = (X_test[sensitive_column] == obj)\n",
    "        if np.sum(mask) > min_samples:\n",
    "            global_precisions_objective[obj] = precision_score(y_true[mask], y_pred[mask])\n",
    "    \n",
    "        \n",
    "    return is_satisfied, problematic_departments, good_deparments, ignored_departments, global_precisions,global_precisions_objective"
   ]
  },
  {
   "cell_type": "code",
   "execution_count": 64,
   "id": "verified-gallery",
   "metadata": {},
   "outputs": [
    {
     "name": "stdout",
     "output_type": "stream",
     "text": [
      "Requirement failed 😢\n",
      "Num problematic stations: 16\n",
      "Num good stations: 22\n",
      "Num ignored departments: 0\n",
      "\n",
      "Object of search rates: {'article for use in theft': 0.1550832051461334, 'controlled drugs': 0.26454680750662457, 'articles for use in criminal damage': 0.07030527289546716, 'offensive weapons': 0.15816384501761163, 'firearms': 0.13540090771558244, 'evidence of offences under the act': 0.15922798552472858, 'stolen goods': 0.25505244308007163, 'psychoactive substances': 0.2839787395596052, 'anything to threaten or harm anyone': 0.12508638562543192, 'fireworks': 0.13513513513513514, 'detailed object of search unavailable': 0.28205128205128205}\n",
      "\n",
      "Station rates: {'lincolnshire': 0.1840958605664488, 'hertfordshire': 0.2752589407856166, 'essex': 0.2781625956981407, 'greater-manchester': 0.27692307692307694, 'west-yorkshire': 0.2067922772737846, 'thames-valley': 0.17589938037547398, 'merseyside': 0.24390078612089997, 'lancashire': 0.18609625668449198, 'kent': 0.24518072289156626, 'leicestershire': 0.1945379723157501, 'btp': 0.2681271212588707, 'devon-and-cornwall': 0.2657463330457291, 'north-wales': 0.1524347212420607, 'hampshire': 0.30391583869082406, 'bedfordshire': 0.247465557577333, 'west-mercia': 0.30937098844672656, 'durham': 0.3747412008281574, 'nottinghamshire': 0.28780918727915195, 'norfolk': 0.17969598262757872, 'avon-and-somerset': 0.2852889667250438, 'warwickshire': 0.2572992700729927, 'staffordshire': 0.2681704260651629, 'northamptonshire': 0.27917981072555204, 'city-of-london': 0.2818393180056833, 'dorset': 0.2685788787483703, 'suffolk': 0.23603264281230382, 'south-yorkshire': 0.19651741293532338, 'surrey': 0.27261110322305837, 'cambridgeshire': 0.24358974358974358, 'north-yorkshire': 0.1953883495145631, 'cheshire': 0.334723049434187, 'northumbria': 0.23801169590643276, 'sussex': 0.2469199178644764, 'derbyshire': 0.2802547770700637, 'gloucestershire': 0.2881002087682672, 'cleveland': 0.29625, 'cumbria': 0.25380710659898476, 'wiltshire': 0.13746630727762804}\n"
     ]
    }
   ],
   "source": [
    "is_satisfied, problematic_departments, good_deparments, ignored_departments,global_precisions, global_precisions_objective = verify_success_rate_objective_station(df_test, y_test, y_pred_threshold, min_success_rate=0.1)\n",
    "\n",
    "if not is_satisfied:\n",
    "    print(\"Requirement failed 😢\")\n",
    "    print(\"Num problematic stations: {}\".format(len(problematic_departments)))\n",
    "    print(\"Num good stations: {}\".format(len(good_deparments)))\n",
    "    print(\"Num ignored departments: {}\".format(len(ignored_departments)))\n",
    "    print(\"\\nObject of search rates: {}\".format(global_precisions_objective))\n",
    "    print(\"\\nStation rates: {}\".format(global_precisions))\n"
   ]
  },
  {
   "cell_type": "code",
   "execution_count": 65,
   "id": "missing-spread",
   "metadata": {},
   "outputs": [
    {
     "data": {
      "text/plain": [
       "[('greater-manchester',\n",
       "  0.057692307692307696,\n",
       "  {'article for use in theft': 0.057692307692307696,\n",
       "   'controlled drugs': 0.2931164901664145,\n",
       "   'offensive weapons': 0.10638297872340426,\n",
       "   'stolen goods': 0.2261904761904762}),\n",
       " ('thames-valley',\n",
       "  0.031914893617021274,\n",
       "  {'article for use in theft': 0.031914893617021274,\n",
       "   'controlled drugs': 0.1974917955930614,\n",
       "   'offensive weapons': 0.10316649642492338,\n",
       "   'stolen goods': 0.14721723518850988}),\n",
       " ('lancashire',\n",
       "  0.0,\n",
       "  {'article for use in theft': 0.0,\n",
       "   'controlled drugs': 0.26666666666666666,\n",
       "   'offensive weapons': 0.5,\n",
       "   'stolen goods': 0.42857142857142855}),\n",
       " ('leicestershire',\n",
       "  0.09375,\n",
       "  {'article for use in theft': 0.16666666666666666,\n",
       "   'controlled drugs': 0.1948919449901768,\n",
       "   'offensive weapons': 0.1746031746031746,\n",
       "   'stolen goods': 0.09375}),\n",
       " ('north-wales',\n",
       "  0.0,\n",
       "  {'article for use in theft': 0.0,\n",
       "   'controlled drugs': 0.1580547112462006,\n",
       "   'offensive weapons': 0.034482758620689655,\n",
       "   'stolen goods': 0.12962962962962962}),\n",
       " ('bedfordshire',\n",
       "  0.06666666666666667,\n",
       "  {'article for use in theft': 0.06666666666666667,\n",
       "   'controlled drugs': 0.25798248092681547,\n",
       "   'offensive weapons': 0.19696969696969696,\n",
       "   'stolen goods': 0.08695652173913043}),\n",
       " ('nottinghamshire',\n",
       "  0.07291666666666667,\n",
       "  {'article for use in theft': 0.07291666666666667,\n",
       "   'controlled drugs': 0.2998637867289356,\n",
       "   'offensive weapons': 0.18456375838926176,\n",
       "   'stolen goods': 0.2604166666666667}),\n",
       " ('norfolk',\n",
       "  0.0,\n",
       "  {'article for use in theft': 0.0,\n",
       "   'controlled drugs': 0.18212862834376778,\n",
       "   'offensive weapons': 0.0,\n",
       "   'stolen goods': 0.21621621621621623}),\n",
       " ('staffordshire',\n",
       "  0.07142857142857142,\n",
       "  {'article for use in theft': 0.07142857142857142,\n",
       "   'controlled drugs': 0.2901595744680851,\n",
       "   'offensive weapons': 0.13903743315508021,\n",
       "   'stolen goods': 0.18846153846153846}),\n",
       " ('northamptonshire',\n",
       "  0.08571428571428572,\n",
       "  {'article for use in theft': 0.08571428571428572,\n",
       "   'controlled drugs': 0.29797047970479706,\n",
       "   'offensive weapons': 0.15748031496062992,\n",
       "   'stolen goods': 0.18518518518518517}),\n",
       " ('dorset',\n",
       "  0.08771929824561403,\n",
       "  {'article for use in theft': 0.08771929824561403,\n",
       "   'controlled drugs': 0.2872260015117158,\n",
       "   'offensive weapons': 0.23404255319148937,\n",
       "   'stolen goods': 0.09302325581395349}),\n",
       " ('suffolk',\n",
       "  0.027777777777777776,\n",
       "  {'article for use in theft': 0.21052631578947367,\n",
       "   'controlled drugs': 0.2390998593530239,\n",
       "   'offensive weapons': 0.027777777777777776,\n",
       "   'stolen goods': 0.3181818181818182}),\n",
       " ('south-yorkshire',\n",
       "  0.0,\n",
       "  {'article for use in theft': 0.0,\n",
       "   'controlled drugs': 0.19651741293532338,\n",
       "   'offensive weapons': 0.0,\n",
       "   'stolen goods': 0.0}),\n",
       " ('cambridgeshire',\n",
       "  0.0,\n",
       "  {'article for use in theft': 0.0,\n",
       "   'controlled drugs': 0.2942528735632184,\n",
       "   'offensive weapons': 0.06153846153846154}),\n",
       " ('cumbria',\n",
       "  0.06666666666666667,\n",
       "  {'article for use in theft': 0.11764705882352941,\n",
       "   'controlled drugs': 0.2658959537572254,\n",
       "   'offensive weapons': 0.06666666666666667,\n",
       "   'stolen goods': 0.24324324324324326}),\n",
       " ('wiltshire',\n",
       "  0.09433962264150944,\n",
       "  {'controlled drugs': 0.13990461049284578,\n",
       "   'offensive weapons': 0.13333333333333333,\n",
       "   'stolen goods': 0.09433962264150944})]"
      ]
     },
     "execution_count": 65,
     "metadata": {},
     "output_type": "execute_result"
    }
   ],
   "source": [
    "problematic_departments"
   ]
  },
  {
   "cell_type": "code",
   "execution_count": 66,
   "id": "democratic-english",
   "metadata": {},
   "outputs": [],
   "source": [
    "# good_deparments"
   ]
  },
  {
   "cell_type": "code",
   "execution_count": 67,
   "id": "mineral-chester",
   "metadata": {},
   "outputs": [
    {
     "name": "stdout",
     "output_type": "stream",
     "text": [
      "0.13746630727762804\n"
     ]
    },
    {
     "data": {
      "text/plain": [
       "0.3747412008281574"
      ]
     },
     "execution_count": 67,
     "metadata": {},
     "output_type": "execute_result"
    }
   ],
   "source": [
    "print(min(global_precisions.values()))\n",
    "max(global_precisions.values())"
   ]
  },
  {
   "cell_type": "code",
   "execution_count": 68,
   "id": "superb-right",
   "metadata": {},
   "outputs": [
    {
     "data": {
      "text/plain": [
       "dict_values([0.1840958605664488, 0.2752589407856166, 0.2781625956981407, 0.27692307692307694, 0.2067922772737846, 0.17589938037547398, 0.24390078612089997, 0.18609625668449198, 0.24518072289156626, 0.1945379723157501, 0.2681271212588707, 0.2657463330457291, 0.1524347212420607, 0.30391583869082406, 0.247465557577333, 0.30937098844672656, 0.3747412008281574, 0.28780918727915195, 0.17969598262757872, 0.2852889667250438, 0.2572992700729927, 0.2681704260651629, 0.27917981072555204, 0.2818393180056833, 0.2685788787483703, 0.23603264281230382, 0.19651741293532338, 0.27261110322305837, 0.24358974358974358, 0.1953883495145631, 0.334723049434187, 0.23801169590643276, 0.2469199178644764, 0.2802547770700637, 0.2881002087682672, 0.29625, 0.25380710659898476, 0.13746630727762804])"
      ]
     },
     "execution_count": 68,
     "metadata": {},
     "output_type": "execute_result"
    }
   ],
   "source": [
    "global_precisions.values()"
   ]
  },
  {
   "cell_type": "code",
   "execution_count": 69,
   "id": "latest-cinema",
   "metadata": {},
   "outputs": [
    {
     "name": "stdout",
     "output_type": "stream",
     "text": [
      "0.07030527289546716\n"
     ]
    },
    {
     "data": {
      "text/plain": [
       "0.2839787395596052"
      ]
     },
     "execution_count": 69,
     "metadata": {},
     "output_type": "execute_result"
    }
   ],
   "source": [
    "print(min(global_precisions_objective.values()))\n",
    "max(global_precisions_objective.values())"
   ]
  },
  {
   "cell_type": "code",
   "execution_count": null,
   "id": "subject-western",
   "metadata": {},
   "outputs": [],
   "source": []
  },
  {
   "cell_type": "markdown",
   "id": "blessed-completion",
   "metadata": {},
   "source": [
    "### 2 - No police station should have a discrepancy bigger than 5% between the search success rate between protected classes (ethnicity, gender)"
   ]
  },
  {
   "cell_type": "code",
   "execution_count": 70,
   "id": "occasional-handy",
   "metadata": {},
   "outputs": [],
   "source": [
    "def verify_no_discrimination(X_test, y_true, y_pred, sensitive_column, max_diff=0.05, min_samples=50):\n",
    "    \"\"\"\n",
    "    Verifies that no station has discrimination in between protected classes\n",
    "    \"\"\"\n",
    "    exclusion_class = ['Other']\n",
    "    \n",
    "    departments = X_test['station'].unique()\n",
    "    sensitive_classes = X_test[sensitive_column].unique()\n",
    "    \n",
    "    is_satisfied = True\n",
    "    problematic_departments = []\n",
    "    good_deparments = []\n",
    "    ignored_departments = []\n",
    "    for department in departments:\n",
    "        precisions = {}\n",
    "        for sensitive_class in sensitive_classes:\n",
    "            if sensitive_class not in exclusion_class:\n",
    "                mask = (X_test[sensitive_column] == sensitive_class) & (X_test['station'] == department)\n",
    "                if np.sum(mask) > min_samples:\n",
    "                    precisions[sensitive_class] = precision_score(y_true[mask], y_pred[mask], pos_label=1)\n",
    "                \n",
    "        if len(precisions) > 1:    \n",
    "            diff = np.max(list(precisions.values())) - np.min(list(precisions.values()))\n",
    "\n",
    "            if diff > max_diff:\n",
    "                is_satisfied = False\n",
    "                problematic_departments.append((department, diff, precisions))\n",
    "            else:\n",
    "                good_deparments.append((department, diff, precisions))\n",
    "        else:\n",
    "            ignored_departments.append((department, None, []))\n",
    "    \n",
    "    global_precisions = {}\n",
    "    for sensitive_class in sensitive_classes:\n",
    "        mask = (X_test[sensitive_column] == sensitive_class)\n",
    "        if np.sum(mask) > min_samples:\n",
    "            global_precisions[sensitive_class] = precision_score(y_true[mask], y_pred[mask], pos_label=1)\n",
    "    \n",
    "    if len(precisions) > 1:    \n",
    "        diff = np.max(list(precisions.values())) - np.min(list(precisions.values()))\n",
    "        if diff > max_diff:\n",
    "            is_satisfied = False\n",
    "        \n",
    "    return is_satisfied, problematic_departments, good_deparments, ignored_departments, global_precisions\n"
   ]
  },
  {
   "cell_type": "code",
   "execution_count": 71,
   "id": "micro-first",
   "metadata": {},
   "outputs": [
    {
     "name": "stdout",
     "output_type": "stream",
     "text": [
      "\n",
      "Ethnicity\n",
      "Requirement failed 😢\n",
      "Global rates: {'black': 0.25721683348147, 'asian': 0.24686507115865466, 'white': 0.2460103163814454, 'other': 0.2508606329816768}\n",
      "Num problematic departments: 23\n",
      "Num good departments: 15\n",
      "Num ignored departments: 0\n",
      "avg diff: 0.1281189169571994\n",
      "\n",
      "\n",
      "Gender\n",
      "Requirement failed 😢\n",
      "Global rates: {'male': 0.2525515631749634, 'female': 0.21810400516795866, 'other': 0.2469879518072289}\n",
      "Num problematic departments: 17\n",
      "Num good departments: 21\n",
      "Num ignored departments: 0\n",
      "avg diff: 0.08834508962626197\n"
     ]
    }
   ],
   "source": [
    "is_satisfied_e, problematic_departments_e, good_deparments_e, ignored_departments_e, global_precisions_e = verify_no_discrimination(\n",
    "    df_test, y_test, y_pred_threshold, 'Officer-defined ethnicity', 0.075)\n",
    "\n",
    "print(\"\\nEthnicity\")\n",
    "\n",
    "if not is_satisfied_e:\n",
    "    print(\"Requirement failed 😢\")\n",
    "    print(\"Global rates: {}\".format(global_precisions_e))\n",
    "    print(\"Num problematic departments: {}\".format(len(problematic_departments_e)))\n",
    "    print(\"Num good departments: {}\".format(len(good_deparments_e)))\n",
    "    print(\"Num ignored departments: {}\".format(len(ignored_departments_e)))\n",
    "\n",
    "    print(\"avg diff:\", np.mean([p[1] for p in problematic_departments_e]))\n",
    "    \n",
    "    \n",
    "is_satisfied, problematic_departments, good_deparments, ignored_departments, global_precisions = verify_no_discrimination(\n",
    "    df_test, y_test, y_pred_threshold, 'Gender', 0.05)\n",
    "\n",
    "print(\"\\n\\nGender\")\n",
    "\n",
    "if not is_satisfied:\n",
    "    print(\"Requirement failed 😢\")\n",
    "    print(\"Global rates: {}\".format(global_precisions))\n",
    "    print(\"Num problematic departments: {}\".format(len(problematic_departments)))\n",
    "    print(\"Num good departments: {}\".format(len(good_deparments)))\n",
    "    print(\"Num ignored departments: {}\".format(len(ignored_departments)))\n",
    "    \n",
    "    print(\"avg diff:\", np.mean([p[1] for p in problematic_departments]))"
   ]
  },
  {
   "cell_type": "code",
   "execution_count": 72,
   "id": "speaking-logic",
   "metadata": {
    "scrolled": true
   },
   "outputs": [
    {
     "data": {
      "text/plain": [
       "[('lincolnshire',\n",
       "  0.09381854201551851,\n",
       "  {'black': 0.17223650385604114,\n",
       "   'asian': 0.26605504587155965,\n",
       "   'white': 0.17369727047146402}),\n",
       " ('greater-manchester',\n",
       "  0.08365384967265246,\n",
       "  {'black': 0.30798845043310874,\n",
       "   'asian': 0.2721417069243156,\n",
       "   'white': 0.22433460076045628,\n",
       "   'other': 0.288135593220339}),\n",
       " ('leicestershire',\n",
       "  0.20173257786000617,\n",
       "  {'black': 0.13997113997113997,\n",
       "   'asian': 0.23071808510638298,\n",
       "   'white': 0.18181818181818182,\n",
       "   'other': 0.028985507246376812}),\n",
       " ('devon-and-cornwall',\n",
       "  0.15785256410256412,\n",
       "  {'black': 0.3245192307692308,\n",
       "   'asian': 0.2543352601156069,\n",
       "   'white': 0.2552052349791791,\n",
       "   'other': 0.16666666666666666}),\n",
       " ('north-wales',\n",
       "  0.1111455108359133,\n",
       "  {'black': 0.09473684210526316,\n",
       "   'asian': 0.20588235294117646,\n",
       "   'white': 0.16181229773462782,\n",
       "   'other': 0.13149847094801223}),\n",
       " ('bedfordshire',\n",
       "  0.1617052735337605,\n",
       "  {'black': 0.2401263823064771,\n",
       "   'asian': 0.2617052735337605,\n",
       "   'white': 0.22821576763485477,\n",
       "   'other': 0.1}),\n",
       " ('west-mercia',\n",
       "  0.10116460846865583,\n",
       "  {'black': 0.3762575452716298,\n",
       "   'asian': 0.29108796296296297,\n",
       "   'white': 0.275092936802974,\n",
       "   'other': 0.3698224852071006}),\n",
       " ('durham',\n",
       "  0.07593600782526999,\n",
       "  {'asian': 0.4329896907216495, 'white': 0.3570536828963795}),\n",
       " ('norfolk',\n",
       "  0.1438841114396549,\n",
       "  {'black': 0.11518324607329843,\n",
       "   'asian': 0.25906735751295334,\n",
       "   'white': 0.1964873765093304,\n",
       "   'other': 0.21818181818181817}),\n",
       " ('warwickshire',\n",
       "  0.08816289529653779,\n",
       "  {'black': 0.27886056971514245,\n",
       "   'asian': 0.26373626373626374,\n",
       "   'white': 0.24914089347079038,\n",
       "   'other': 0.19069767441860466}),\n",
       " ('staffordshire',\n",
       "  0.22542735042735046,\n",
       "  {'black': 0.299722479185939,\n",
       "   'asian': 0.2655367231638418,\n",
       "   'white': 0.2361111111111111,\n",
       "   'other': 0.46153846153846156}),\n",
       " ('northamptonshire',\n",
       "  0.12650602409638553,\n",
       "  {'black': 0.25685425685425683,\n",
       "   'asian': 0.375,\n",
       "   'white': 0.24849397590361447}),\n",
       " ('city-of-london',\n",
       "  0.24924908599154627,\n",
       "  {'black': 0.27912254160363087,\n",
       "   'asian': 0.2791299844640083,\n",
       "   'white': 0.3610503282275711,\n",
       "   'other': 0.11180124223602485}),\n",
       " ('dorset',\n",
       "  0.09216589861751151,\n",
       "  {'black': 0.29603399433427763,\n",
       "   'asian': 0.3225806451612903,\n",
       "   'white': 0.2304147465437788}),\n",
       " ('suffolk',\n",
       "  0.09152324612799839,\n",
       "  {'black': 0.26305609284332687,\n",
       "   'asian': 0.22857142857142856,\n",
       "   'white': 0.24401913875598086,\n",
       "   'other': 0.17153284671532848}),\n",
       " ('south-yorkshire',\n",
       "  0.09517696219100841,\n",
       "  {'black': 0.20940721649484537,\n",
       "   'asian': 0.18260081558676938,\n",
       "   'white': 0.19507908611599298,\n",
       "   'other': 0.2777777777777778}),\n",
       " ('cambridgeshire',\n",
       "  0.2522727272727273,\n",
       "  {'black': 0.14772727272727273, 'asian': 0.4, 'white': 0.20786516853932585}),\n",
       " ('north-yorkshire',\n",
       "  0.0843004948268106,\n",
       "  {'black': 0.13675213675213677,\n",
       "   'asian': 0.22105263157894736,\n",
       "   'white': 0.19842829076620824}),\n",
       " ('sussex',\n",
       "  0.11766332023861484,\n",
       "  {'black': 0.23893303064699206,\n",
       "   'asian': 0.2670886075949367,\n",
       "   'white': 0.25218774860779636,\n",
       "   'other': 0.14942528735632185}),\n",
       " ('gloucestershire',\n",
       "  0.0829791992842765,\n",
       "  {'black': 0.2962962962962963,\n",
       "   'asian': 0.35294117647058826,\n",
       "   'white': 0.27212020033388984,\n",
       "   'other': 0.26996197718631176}),\n",
       " ('cleveland',\n",
       "  0.11363636363636365,\n",
       "  {'black': 0.2876712328767123, 'asian': 0.36363636363636365, 'white': 0.25}),\n",
       " ('cumbria',\n",
       "  0.11252939200537454,\n",
       "  {'asian': 0.34615384615384615, 'white': 0.2336244541484716}),\n",
       " ('wiltshire',\n",
       "  0.08424908424908426,\n",
       "  {'black': 0.17142857142857143,\n",
       "   'asian': 0.08717948717948718,\n",
       "   'white': 0.14506172839506173})]"
      ]
     },
     "execution_count": 72,
     "metadata": {},
     "output_type": "execute_result"
    }
   ],
   "source": [
    "problematic_departments_e"
   ]
  },
  {
   "cell_type": "markdown",
   "id": "indirect-warehouse",
   "metadata": {},
   "source": [
    "### 3 - No police station should have a discrepancy bigger than x% between the Removal of more than just outer clothing rate between protected classes (age, ethnicity, gender)"
   ]
  },
  {
   "cell_type": "code",
   "execution_count": null,
   "id": "progressive-producer",
   "metadata": {},
   "outputs": [],
   "source": [
    "\n"
   ]
  },
  {
   "cell_type": "code",
   "execution_count": 73,
   "id": "headed-protection",
   "metadata": {},
   "outputs": [],
   "source": [
    "def verify_removal_clothing(X_test, y_true, y_pred, sensitive_column, max_diff, min_samples=50):\n",
    "    \"\"\"\n",
    "    Verifies that no station has discrepancy Removal of more than just outer clothing rate between \n",
    "    protected classes (age, ethnicity, gender)\n",
    "    \"\"\"\n",
    "    exclusion_class = ['Other']\n",
    "    exclusion_stations_removalclothes = ['cleveland', 'north-yorkshire', 'surrey']\n",
    "    \n",
    "    departments = X_test['station'].unique()\n",
    "    sensitive_classes = X_test[sensitive_column].unique()\n",
    "    \n",
    "    is_satisfied = True\n",
    "    problematic_departments = []\n",
    "    good_deparments = []\n",
    "    ignored_departments = []\n",
    "    for department in departments:\n",
    "        if department not in exclusion_stations_removalclothes:\n",
    "            removal_rate = {}\n",
    "            for sensitive_class in sensitive_classes:\n",
    "                if sensitive_class not in exclusion_class:\n",
    "                    mask = (X_test[sensitive_column] == sensitive_class) & (X_test['station'] == department) & (y_pred == 1)\n",
    "                    if np.sum(mask) > min_samples:\n",
    "                        removal_rate[sensitive_class] = (np.sum(X_test[mask]['Removal of more than just outer clothing']==1))/(X_test[mask]['Removal of more than just outer clothing'].shape[0])\n",
    "                \n",
    "        if len(removal_rate) > 1:    \n",
    "            diff = np.max(list(removal_rate.values())) - np.min(list(removal_rate.values()))\n",
    "\n",
    "            if diff > max_diff:\n",
    "                is_satisfied = False\n",
    "                problematic_departments.append((department, diff, removal_rate))\n",
    "            else:\n",
    "                good_deparments.append((department, diff, removal_rate))\n",
    "        else:\n",
    "            ignored_departments.append((department, None, []))\n",
    "    \n",
    "    global_removal_rate = {}\n",
    "    for sensitive_class in sensitive_classes:\n",
    "        mask = (X_test[sensitive_column] == sensitive_class) & (y_pred == True)\n",
    "        if np.sum(mask) > min_samples:\n",
    "            global_removal_rate[sensitive_class] = (np.sum(X_test[mask]['Removal of more than just outer clothing']==True))/(X_test[mask]['Removal of more than just outer clothing'].shape[0])\n",
    "\n",
    "        \n",
    "    return is_satisfied, problematic_departments, good_deparments, ignored_departments, global_removal_rate\n"
   ]
  },
  {
   "cell_type": "code",
   "execution_count": 74,
   "id": "impressive-discount",
   "metadata": {},
   "outputs": [
    {
     "name": "stdout",
     "output_type": "stream",
     "text": [
      "\n",
      "Gender\n",
      "Requirement failed 😢\n",
      "Global rates: {'male': 0.05894223763869994, 'female': 0.050952842377260985, 'other': 0.024096385542168676}\n",
      "Num problematic departments: 11\n",
      "Num good departments: 27\n",
      "Num ignored departments: 0\n",
      "avg diff: 0.07073728777972854\n",
      "\n",
      "\n",
      "Age range\n",
      "Requirement failed 😢\n",
      "Global rates: {'25-34': 0.057593875979526206, 'over 34': 0.05032850672960388, '18-24': 0.06472384584559687, 'under 18': 0.04915545666026095}\n",
      "Num problematic departments: 19\n",
      "Num good departments: 19\n",
      "Num ignored departments: 0\n",
      "avg diff: 0.0972128538942849\n",
      "\n",
      "\n",
      "Ethnicity\n",
      "Requirement failed 😢\n",
      "Global rates: {'black': 0.09191560072651389, 'asian': 0.05128687183922092, 'white': 0.03445001024189494, 'other': 0.049083842309827874}\n",
      "Num problematic departments: 12\n",
      "Num good departments: 26\n",
      "Num ignored departments: 0\n",
      "avg diff: 0.15530571091367149\n"
     ]
    }
   ],
   "source": [
    "is_satisfied, problematic_departments, good_deparments, ignored_departments, global_removal_rate = verify_removal_clothing(\n",
    "    df_test, y_test, y_pred_threshold, 'Gender', 0.05)\n",
    "\n",
    "print(\"\\nGender\")\n",
    "\n",
    "if not is_satisfied:\n",
    "    print(\"Requirement failed 😢\")\n",
    "    print(\"Global rates: {}\".format(global_removal_rate))\n",
    "    print(\"Num problematic departments: {}\".format(len(problematic_departments)))\n",
    "    print(\"Num good departments: {}\".format(len(good_deparments)))\n",
    "    print(\"Num ignored departments: {}\".format(len(ignored_departments)))\n",
    "    \n",
    "    print(\"avg diff:\", np.mean([p[1] for p in problematic_departments]))\n",
    "    \n",
    "    \n",
    "is_satisfied, problematic_departments, good_deparments, ignored_departments, global_removal_rate = verify_removal_clothing(\n",
    "    df_test, y_test, y_pred_threshold, 'Age range', 0.05)\n",
    "\n",
    "print(\"\\n\\nAge range\")\n",
    "\n",
    "if not is_satisfied:\n",
    "    print(\"Requirement failed 😢\")\n",
    "    print(\"Global rates: {}\".format(global_removal_rate))\n",
    "    print(\"Num problematic departments: {}\".format(len(problematic_departments)))\n",
    "    print(\"Num good departments: {}\".format(len(good_deparments)))\n",
    "    print(\"Num ignored departments: {}\".format(len(ignored_departments)))\n",
    "    \n",
    "    print(\"avg diff:\", np.mean([p[1] for p in problematic_departments]))\n",
    "    \n",
    "    \n",
    "is_satisfied, problematic_departments, good_deparments, ignored_departments, global_removal_rate = verify_removal_clothing(\n",
    "    df_test, y_test, y_pred_threshold, 'Officer-defined ethnicity', 0.1)\n",
    "\n",
    "print(\"\\n\\nEthnicity\")\n",
    "\n",
    "if not is_satisfied:\n",
    "    print(\"Requirement failed 😢\")\n",
    "    print(\"Global rates: {}\".format(global_removal_rate))\n",
    "    print(\"Num problematic departments: {}\".format(len(problematic_departments)))\n",
    "    print(\"Num good departments: {}\".format(len(good_deparments)))\n",
    "    print(\"Num ignored departments: {}\".format(len(ignored_departments)))\n",
    "    \n",
    "    print(\"avg diff:\", np.mean([p[1] for p in problematic_departments]))"
   ]
  },
  {
   "cell_type": "code",
   "execution_count": null,
   "id": "varying-prior",
   "metadata": {},
   "outputs": [],
   "source": []
  },
  {
   "cell_type": "markdown",
   "id": "naughty-contrary",
   "metadata": {},
   "source": [
    "### SERIALIZE"
   ]
  },
  {
   "cell_type": "code",
   "execution_count": 75,
   "id": "cloudy-defeat",
   "metadata": {},
   "outputs": [],
   "source": [
    "# with open('columns.json', 'w') as fh:\n",
    "#     json.dump(X_train.columns.tolist(), fh)\n",
    "    \n",
    "# with open('dtypes.pickle', 'wb') as fh:\n",
    "#     pickle.dump(X_train.dtypes, fh)\n",
    "    \n",
    "# joblib.dump(pipeline, 'pipeline.pickle');"
   ]
  },
  {
   "cell_type": "code",
   "execution_count": 76,
   "id": "annoying-indication",
   "metadata": {},
   "outputs": [
    {
     "data": {
      "text/plain": [
       "['Type',\n",
       " 'Part of a policing operation',\n",
       " 'Age range',\n",
       " 'Legislation',\n",
       " 'hour',\n",
       " 'month',\n",
       " 'day_of_week',\n",
       " 'station',\n",
       " 'Gender',\n",
       " 'Officer-defined ethnicity',\n",
       " 'Latitude',\n",
       " 'Longitude']"
      ]
     },
     "execution_count": 76,
     "metadata": {},
     "output_type": "execute_result"
    }
   ],
   "source": [
    "X_train.columns.tolist()"
   ]
  },
  {
   "cell_type": "code",
   "execution_count": 77,
   "id": "handled-northeast",
   "metadata": {},
   "outputs": [
    {
     "data": {
      "text/plain": [
       "Type                             object\n",
       "Part of a policing operation       bool\n",
       "Age range                        object\n",
       "Legislation                      object\n",
       "hour                              int64\n",
       "month                             int64\n",
       "day_of_week                      object\n",
       "station                          object\n",
       "Gender                           object\n",
       "Officer-defined ethnicity        object\n",
       "Latitude                        float64\n",
       "Longitude                       float64\n",
       "dtype: object"
      ]
     },
     "execution_count": 77,
     "metadata": {},
     "output_type": "execute_result"
    }
   ],
   "source": [
    "X_train.dtypes"
   ]
  },
  {
   "cell_type": "code",
   "execution_count": null,
   "id": "removable-sister",
   "metadata": {},
   "outputs": [],
   "source": []
  },
  {
   "cell_type": "code",
   "execution_count": null,
   "id": "twelve-mediterranean",
   "metadata": {},
   "outputs": [],
   "source": []
  },
  {
   "cell_type": "code",
   "execution_count": null,
   "id": "diagnostic-quarterly",
   "metadata": {},
   "outputs": [],
   "source": []
  }
 ],
 "metadata": {
  "kernelspec": {
   "display_name": "Python 3",
   "language": "python",
   "name": "python3"
  },
  "language_info": {
   "codemirror_mode": {
    "name": "ipython",
    "version": 3
   },
   "file_extension": ".py",
   "mimetype": "text/x-python",
   "name": "python",
   "nbconvert_exporter": "python",
   "pygments_lexer": "ipython3",
   "version": "3.6.9"
  }
 },
 "nbformat": 4,
 "nbformat_minor": 5
}
