{
 "cells": [
  {
   "cell_type": "code",
   "execution_count": 1,
   "id": "dependent-paraguay",
   "metadata": {},
   "outputs": [],
   "source": [
    "import json\n",
    "import joblib\n",
    "import pickle\n",
    "import pandas as pd\n",
    "import numpy as np\n",
    "# import seaborn as sns\n",
    "from sklearn.model_selection import train_test_split\n",
    "from sklearn.pipeline import make_pipeline, Pipeline\n",
    "from sklearn.impute import SimpleImputer\n",
    "from sklearn.preprocessing import StandardScaler, OneHotEncoder\n",
    "from sklearn.compose import ColumnTransformer\n",
    "from sklearn.ensemble import RandomForestClassifier\n",
    "from sklearn.metrics import precision_score, recall_score, roc_auc_score\n",
    "from sklearn.metrics import precision_recall_curve\n",
    "\n",
    "import matplotlib.pyplot as plt\n",
    "import matplotlib.image as mpimg\n",
    "%matplotlib inline\n",
    "\n",
    "import warnings\n",
    "warnings.filterwarnings('ignore')\n",
    "\n",
    "from lightgbm import LGBMClassifier"
   ]
  },
  {
   "cell_type": "markdown",
   "id": "civilian-influence",
   "metadata": {},
   "source": [
    "### Import dataset"
   ]
  },
  {
   "cell_type": "code",
   "execution_count": 2,
   "id": "aging-closure",
   "metadata": {},
   "outputs": [],
   "source": [
    "train = pd.read_csv('data/train.csv')"
   ]
  },
  {
   "cell_type": "code",
   "execution_count": 3,
   "id": "bridal-birth",
   "metadata": {},
   "outputs": [
    {
     "data": {
      "text/plain": [
       "False    660611\n",
       "dtype: int64"
      ]
     },
     "execution_count": 3,
     "metadata": {},
     "output_type": "execute_result"
    }
   ],
   "source": [
    "# no duplicate lines\n",
    "train.duplicated().value_counts()"
   ]
  },
  {
   "cell_type": "code",
   "execution_count": 4,
   "id": "existing-negotiation",
   "metadata": {},
   "outputs": [
    {
     "data": {
      "text/plain": [
       "False    660611\n",
       "Name: observation_id, dtype: int64"
      ]
     },
     "execution_count": 4,
     "metadata": {},
     "output_type": "execute_result"
    }
   ],
   "source": [
    "# no duplicate observation_id\n",
    "train['observation_id'].duplicated().value_counts()"
   ]
  },
  {
   "cell_type": "markdown",
   "id": "floating-maine",
   "metadata": {},
   "source": [
    "### Features adjustments"
   ]
  },
  {
   "cell_type": "code",
   "execution_count": 5,
   "id": "conditional-valuation",
   "metadata": {},
   "outputs": [],
   "source": [
    "# transforming Date column in datetime\n",
    "train['Date']=pd.to_datetime(train['Date'], infer_datetime_format=True)\n",
    "\n",
    "# auxiliar Date feature (for temporal analyzis)\n",
    "train['referencia'] = train['Date'].dt.year*100 + train['Date'].dt.month\n",
    "\n",
    "# according to Dr Wilson's instructions: \n",
    "# \"If there was a search and the outcome linked to object of search has not been written please consider it to be False\"\n",
    "train['Outcome linked to object of search'] = train['Outcome linked to object of search'].fillna(False)\n",
    "\n",
    "# according to Dr Wilson's instructions missing values means False \n",
    "train['Part of a policing operation'] = train['Part of a policing operation'].fillna(False)\n",
    "\n",
    "# Outer clothing be filled with False? \n",
    "#Yes, except when it’s just a vehicle search, in which case it makes no sense and should be kept as NaN\n",
    "mask= ((train['Type']!='Vehicle search') & \n",
    "      (train['Removal of more than just outer clothing'] != True) &\n",
    "      (train['Removal of more than just outer clothing'] != False))\n",
    "\n",
    "train.loc[mask, 'Removal of more than just outer clothing']=False"
   ]
  },
  {
   "cell_type": "markdown",
   "id": "vulnerable-winter",
   "metadata": {},
   "source": [
    "### Filtering / Exclusions"
   ]
  },
  {
   "cell_type": "code",
   "execution_count": 6,
   "id": "processed-thursday",
   "metadata": {},
   "outputs": [],
   "source": [
    "# The Metropolitan station (which is very large and has lots of data in the training set) has the features \n",
    "# Outcome linked to object of search and Removal of outer clothing without any data (always missing). \n",
    "# Is this a known problem, and if so how should we proceed? \n",
    "# Thank you for bringing this to our attention, I’ve contacted the administration at the Metropolitan and asked that \n",
    "# they fix their data entry. Please include this in your report, and do not use the Metropolitan station’s data \n",
    "# for training your models. They will not be in the test set. "
   ]
  },
  {
   "cell_type": "code",
   "execution_count": 7,
   "id": "moved-artwork",
   "metadata": {},
   "outputs": [],
   "source": [
    "# Gwent and Humberside have the same problem of Metropolitan. So I will exclude this observations"
   ]
  },
  {
   "cell_type": "code",
   "execution_count": 8,
   "id": "historic-ready",
   "metadata": {},
   "outputs": [
    {
     "name": "stdout",
     "output_type": "stream",
     "text": [
      "Exclusion of 355849 observations\n"
     ]
    },
    {
     "data": {
      "text/plain": [
       "(304762, 17)"
      ]
     },
     "execution_count": 8,
     "metadata": {},
     "output_type": "execute_result"
    }
   ],
   "source": [
    "stations_to_exclude = ['metropolitan', 'gwent', 'humberside']\n",
    "train_model = train[~train['station'].isin(stations_to_exclude)]\n",
    "print(\"Exclusion of {} observations\".format(train[train['station'].isin(stations_to_exclude)]['observation_id'].nunique()))\n",
    "train_model.shape"
   ]
  },
  {
   "cell_type": "code",
   "execution_count": 9,
   "id": "split-refund",
   "metadata": {},
   "outputs": [],
   "source": [
    "# Search on individuals with less than 10 years seems unrealist, so I will remove it"
   ]
  },
  {
   "cell_type": "code",
   "execution_count": 10,
   "id": "occasional-redhead",
   "metadata": {},
   "outputs": [],
   "source": [
    "# age_to_exclude = ['under 10']\n",
    "# print(\"Exclusion of {} observations\".format(train_model[train_model['Age range'].isin(age_to_exclude)]['observation_id'].nunique()))\n",
    "# train_model = train_model[~train_model['Age range'].isin(age_to_exclude)]\n",
    "# train_model.shape"
   ]
  },
  {
   "cell_type": "markdown",
   "id": "lightweight-region",
   "metadata": {},
   "source": [
    "### Target"
   ]
  },
  {
   "cell_type": "code",
   "execution_count": 11,
   "id": "urban-sugar",
   "metadata": {},
   "outputs": [],
   "source": [
    "positive_outcome = ['Local resolution',\n",
    "           'Community resolution',\n",
    "           'Arrest',\n",
    "           'Article found - Detailed outcome unavailable',\n",
    "           'Caution (simple or conditional)',\n",
    "           'Khat or Cannabis warning',\n",
    "           'Offender cautioned',\n",
    "           'Offender given drugs possession warning',\n",
    "           'Offender given penalty notice',\n",
    "           'Penalty Notice for Disorder',\n",
    "           'Summons / charged by post',\n",
    "           'Suspect arrested',\n",
    "           'Suspect summonsed to court',\n",
    "           'Suspected psychoactive substances seized - No further action']\n",
    "\n",
    "train_model['positive_outcome'] = train_model['Outcome'].isin(positive_outcome)"
   ]
  },
  {
   "cell_type": "code",
   "execution_count": 12,
   "id": "freelance-george",
   "metadata": {},
   "outputs": [],
   "source": [
    "train_model['target'] = 0\n",
    "mask=((train_model[\"positive_outcome\"] == True) & (train_model[\"Outcome linked to object of search\"]==True))\n",
    "train_model.loc[mask, 'target']=1"
   ]
  },
  {
   "cell_type": "code",
   "execution_count": 13,
   "id": "latin-spirituality",
   "metadata": {},
   "outputs": [
    {
     "data": {
      "text/html": [
       "<div>\n",
       "<style scoped>\n",
       "    .dataframe tbody tr th:only-of-type {\n",
       "        vertical-align: middle;\n",
       "    }\n",
       "\n",
       "    .dataframe tbody tr th {\n",
       "        vertical-align: top;\n",
       "    }\n",
       "\n",
       "    .dataframe thead th {\n",
       "        text-align: right;\n",
       "    }\n",
       "</style>\n",
       "<table border=\"1\" class=\"dataframe\">\n",
       "  <thead>\n",
       "    <tr style=\"text-align: right;\">\n",
       "      <th>Outcome linked to object of search</th>\n",
       "      <th>False</th>\n",
       "      <th>True</th>\n",
       "      <th>Total</th>\n",
       "    </tr>\n",
       "    <tr>\n",
       "      <th>positive_outcome</th>\n",
       "      <th></th>\n",
       "      <th></th>\n",
       "      <th></th>\n",
       "    </tr>\n",
       "  </thead>\n",
       "  <tbody>\n",
       "    <tr>\n",
       "      <th>False</th>\n",
       "      <td>174918</td>\n",
       "      <td>37987</td>\n",
       "      <td>212905</td>\n",
       "    </tr>\n",
       "    <tr>\n",
       "      <th>True</th>\n",
       "      <td>29571</td>\n",
       "      <td>62286</td>\n",
       "      <td>91857</td>\n",
       "    </tr>\n",
       "    <tr>\n",
       "      <th>Total</th>\n",
       "      <td>204489</td>\n",
       "      <td>100273</td>\n",
       "      <td>304762</td>\n",
       "    </tr>\n",
       "  </tbody>\n",
       "</table>\n",
       "</div>"
      ],
      "text/plain": [
       "Outcome linked to object of search   False    True   Total\n",
       "positive_outcome                                          \n",
       "False                               174918   37987  212905\n",
       "True                                 29571   62286   91857\n",
       "Total                               204489  100273  304762"
      ]
     },
     "execution_count": 13,
     "metadata": {},
     "output_type": "execute_result"
    }
   ],
   "source": [
    "pd.crosstab(train_model[\"positive_outcome\"],train_model[\"Outcome linked to object of search\"],\n",
    "            margins=True, margins_name=\"Total\",dropna=False)"
   ]
  },
  {
   "cell_type": "code",
   "execution_count": 14,
   "id": "young-gravity",
   "metadata": {},
   "outputs": [
    {
     "name": "stdout",
     "output_type": "stream",
     "text": [
      "0    242476\n",
      "1     62286\n",
      "Name: target, dtype: int64\n"
     ]
    },
    {
     "data": {
      "text/plain": [
       "0    0.795624\n",
       "1    0.204376\n",
       "Name: target, dtype: float64"
      ]
     },
     "execution_count": 14,
     "metadata": {},
     "output_type": "execute_result"
    }
   ],
   "source": [
    "print(train_model['target'].value_counts(dropna=False))\n",
    "train_model['target'].value_counts(dropna=False,normalize=True)"
   ]
  },
  {
   "cell_type": "code",
   "execution_count": 15,
   "id": "theoretical-enlargement",
   "metadata": {},
   "outputs": [],
   "source": [
    "# print(train_model['positive_outcome'].value_counts(dropna=False))\n",
    "# train_model['positive_outcome'].value_counts(dropna=False,normalize=True)\n",
    "# pd.crosstab(train_model[\"referencia\"],train_model[\"target\"],normalize='index')\n",
    "# pd.crosstab(train_model[\"Gender\"],train_model[\"target\"],normalize='index')\n",
    "# pd.crosstab(train_model[\"station\"],train_model[\"target\"],normalize='index')\n",
    "# pd.crosstab(train_model[\"station\"],train_model[\"positive_outcome\"],normalize='index')"
   ]
  },
  {
   "cell_type": "markdown",
   "id": "sudden-eagle",
   "metadata": {},
   "source": [
    "### Feature engineering"
   ]
  },
  {
   "cell_type": "code",
   "execution_count": 16,
   "id": "ruled-internet",
   "metadata": {},
   "outputs": [],
   "source": [
    "# get the hour and day of the week, maybe they will be useful \n",
    "train_model['hour'] = train_model['Date'].dt.hour\n",
    "train_model['month'] = train_model['Date'].dt.month\n",
    "train_model['day_of_week'] = train_model['Date'].dt.day_name()"
   ]
  },
  {
   "cell_type": "code",
   "execution_count": 17,
   "id": "moved-summit",
   "metadata": {},
   "outputs": [
    {
     "data": {
      "text/plain": [
       "misuse of drugs act 1971 (section 23)                      178620\n",
       "police and criminal evidence act 1984 (section 1)           92651\n",
       "missing infomation                                          27931\n",
       "criminal justice and public order act 1994 (section 60)      2670\n",
       "firearms act 1968 (section 47)                               1830\n",
       "others                                                       1060\n",
       "Name: Legislation, dtype: int64"
      ]
     },
     "execution_count": 17,
     "metadata": {},
     "output_type": "execute_result"
    }
   ],
   "source": [
    "# Legislation - reducing the quantity of categories\n",
    "# train_model.groupby(['Legislation','target'], dropna=False)['Outcome'].count().unstack()\n",
    "\n",
    "train_model['Legislation']=train_model['Legislation'].fillna('missing infomation')\n",
    "train_model['Legislation'] = train_model['Legislation'].apply(lambda x: str(x).lower())\n",
    "\n",
    "legislation_categories = ['misuse of drugs act 1971 (section 23)', 'police and criminal evidence act 1984 (section 1)', \n",
    "                          'criminal justice and public order act 1994 (section 60)', 'firearms act 1968 (section 47)',\n",
    "                          'missing infomation']\n",
    "\n",
    "mask=(~train_model['Legislation'].isin(legislation_categories))\n",
    "train_model.loc[mask, 'Legislation']='others'\n",
    "\n",
    "train_model['Legislation'].value_counts()"
   ]
  },
  {
   "cell_type": "markdown",
   "id": "iraqi-yemen",
   "metadata": {},
   "source": [
    "### Text Data normalization"
   ]
  },
  {
   "cell_type": "code",
   "execution_count": 18,
   "id": "imperial-tobacco",
   "metadata": {},
   "outputs": [
    {
     "data": {
      "text/plain": [
       "controlled drugs                              192161\n",
       "offensive weapons                              35391\n",
       "article for use in theft                       30287\n",
       "stolen goods                                   26617\n",
       "articles for use in criminal damage             6494\n",
       "anything to threaten or harm anyone             5241\n",
       "firearms                                        2957\n",
       "evidence of offences under the act              1930\n",
       "psychoactive substances                         1701\n",
       "fireworks                                       1695\n",
       "detailed object of search unavailable            129\n",
       "game or poaching equipment                        96\n",
       "goods on which duty has not been paid etc.        23\n",
       "evidence of wildlife offences                     21\n",
       "crossbows                                         17\n",
       "seals or hunting equipment                         2\n",
       "Name: Object of search, dtype: int64"
      ]
     },
     "execution_count": 18,
     "metadata": {},
     "output_type": "execute_result"
    }
   ],
   "source": [
    "train_model['Object of search'] = train_model['Object of search'].apply(lambda x: str(x).lower())\n",
    "train_model['Object of search'].value_counts()"
   ]
  },
  {
   "cell_type": "code",
   "execution_count": 19,
   "id": "diverse-marriage",
   "metadata": {},
   "outputs": [],
   "source": [
    "train_model['station'] = train_model['station'].apply(lambda x: str(x).lower())\n",
    "# train_model['station'].value_counts()"
   ]
  },
  {
   "cell_type": "code",
   "execution_count": null,
   "id": "electrical-illness",
   "metadata": {},
   "outputs": [],
   "source": []
  },
  {
   "cell_type": "markdown",
   "id": "forty-liberia",
   "metadata": {},
   "source": [
    "### Latitude and Longitude"
   ]
  },
  {
   "cell_type": "code",
   "execution_count": 20,
   "id": "atlantic-start",
   "metadata": {},
   "outputs": [
    {
     "name": "stdout",
     "output_type": "stream",
     "text": [
      "count    228038.000000\n",
      "mean         52.511589\n",
      "std           1.133850\n",
      "min          49.892149\n",
      "25%          51.485978\n",
      "50%          52.609826\n",
      "75%          53.422686\n",
      "max          57.143856\n",
      "Name: Latitude, dtype: float64\n"
     ]
    },
    {
     "data": {
      "text/plain": [
       "count    228038.000000\n",
       "mean         -1.343263\n",
       "std           1.365160\n",
       "min          -8.053397\n",
       "25%          -2.599163\n",
       "50%          -1.464553\n",
       "75%          -0.207006\n",
       "max           1.756480\n",
       "Name: Longitude, dtype: float64"
      ]
     },
     "execution_count": 20,
     "metadata": {},
     "output_type": "execute_result"
    }
   ],
   "source": [
    "print(train_model['Latitude'].describe())\n",
    "train_model['Longitude'].describe()"
   ]
  },
  {
   "cell_type": "code",
   "execution_count": 21,
   "id": "informative-prague",
   "metadata": {},
   "outputs": [],
   "source": [
    "train_model['Latitude'] = train_model['Longitude'].fillna(0)\n",
    "train_model['Longitude'] = train_model['Longitude'].fillna(50)"
   ]
  },
  {
   "cell_type": "markdown",
   "id": "normal-garlic",
   "metadata": {},
   "source": [
    "### Data split"
   ]
  },
  {
   "cell_type": "code",
   "execution_count": 22,
   "id": "medieval-ultimate",
   "metadata": {},
   "outputs": [],
   "source": [
    "df_train, df_test = train_test_split(train_model, test_size=0.3, random_state=42)"
   ]
  },
  {
   "cell_type": "code",
   "execution_count": 23,
   "id": "horizontal-giant",
   "metadata": {},
   "outputs": [
    {
     "data": {
      "text/plain": [
       "(213333, 22)"
      ]
     },
     "execution_count": 23,
     "metadata": {},
     "output_type": "execute_result"
    }
   ],
   "source": [
    "df_train.shape"
   ]
  },
  {
   "cell_type": "code",
   "execution_count": 24,
   "id": "bronze-procurement",
   "metadata": {},
   "outputs": [
    {
     "data": {
      "text/plain": [
       "(91429, 22)"
      ]
     },
     "execution_count": 24,
     "metadata": {},
     "output_type": "execute_result"
    }
   ],
   "source": [
    "df_test.shape"
   ]
  },
  {
   "cell_type": "code",
   "execution_count": 25,
   "id": "common-steal",
   "metadata": {},
   "outputs": [
    {
     "data": {
      "text/plain": [
       "Saturday     34161\n",
       "Friday       33994\n",
       "Thursday     30593\n",
       "Wednesday    30283\n",
       "Tuesday      28674\n",
       "Monday       27828\n",
       "Sunday       27800\n",
       "Name: day_of_week, dtype: int64"
      ]
     },
     "execution_count": 25,
     "metadata": {},
     "output_type": "execute_result"
    }
   ],
   "source": [
    "df_train.day_of_week.value_counts()"
   ]
  },
  {
   "cell_type": "markdown",
   "id": "russian-organization",
   "metadata": {},
   "source": [
    "### Training a baseline model"
   ]
  },
  {
   "cell_type": "code",
   "execution_count": 26,
   "id": "dried-division",
   "metadata": {},
   "outputs": [
    {
     "data": {
      "text/plain": [
       "0.5275088329332558"
      ]
     },
     "execution_count": 26,
     "metadata": {},
     "output_type": "execute_result"
    }
   ],
   "source": [
    "all_features = ['Type', 'Part of a policing operation', 'Age range', 'Latitude', 'Longitude',\n",
    "                'Legislation', 'hour', 'month', 'day_of_week',\n",
    "                'Gender', 'Officer-defined ethnicity']\n",
    "\n",
    "numerical_features = ['hour', 'month','Latitude', 'Longitude']\n",
    "\n",
    "categorical_features = ['Type', 'Part of a policing operation', 'Age range',\n",
    "                        'Legislation', 'day_of_week','Gender', 'Officer-defined ethnicity']\n",
    "\n",
    "numeric_transformer = Pipeline(steps=[\n",
    "    ('imputer', SimpleImputer(strategy='median')),\n",
    "    ('scaler', StandardScaler())])\n",
    "\n",
    "categorical_transformer = Pipeline(steps=[\n",
    "    ('imputer', SimpleImputer(strategy='constant', fill_value='missing')),\n",
    "    ('onehot', OneHotEncoder(handle_unknown='ignore'))])\n",
    "\n",
    "preprocessor = ColumnTransformer(\n",
    "    transformers=[\n",
    "        ('num', numeric_transformer, numerical_features),\n",
    "        ('cat', categorical_transformer, categorical_features)])\n",
    "\n",
    "pipeline = make_pipeline(\n",
    "    preprocessor,\n",
    "    RandomForestClassifier(random_state=42, n_jobs=-1,class_weight=\"balanced\"),\n",
    ")\n",
    "\n",
    "\n",
    "X_train = df_train[all_features]\n",
    "y_train = df_train['target']\n",
    "\n",
    "pipeline.fit(X_train, y_train)\n",
    "\n",
    "X_test = df_test[all_features]\n",
    "y_test = df_test['target']\n",
    "\n",
    "y_pred = pipeline.predict(X_test)\n",
    "y_proba = pipeline.predict_proba(X_test)\n",
    "y_pred_train = pipeline.predict(X_train)\n",
    "\n",
    "# To use on other cells\n",
    "# X_train_baseline = X_train.copy()\n",
    "# X_test_baseline = df_test.copy()\n",
    "# y_test_baseline = X_test_baseline[target].copy()\n",
    "# y_pred_baseline = y_pred.copy()\n",
    "# pipeline_baseline = pipeline\n",
    "\n",
    "roc_auc_score(y_test, y_pred)"
   ]
  },
  {
   "cell_type": "code",
   "execution_count": 27,
   "id": "minus-outline",
   "metadata": {},
   "outputs": [],
   "source": [
    "?RandomForestClassifier"
   ]
  },
  {
   "cell_type": "code",
   "execution_count": 28,
   "id": "objective-crawford",
   "metadata": {},
   "outputs": [],
   "source": [
    "precision, recall, thresholds = precision_recall_curve(y_test, y_proba[:,1])"
   ]
  },
  {
   "cell_type": "code",
   "execution_count": 29,
   "id": "smooth-initial",
   "metadata": {},
   "outputs": [],
   "source": [
    "precision = precision[:-1]\n",
    "recall = recall[:-1]"
   ]
  },
  {
   "cell_type": "code",
   "execution_count": 30,
   "id": "brave-peace",
   "metadata": {},
   "outputs": [
    {
     "data": {
      "image/png": "[encoded data removed]",
      "text/plain": [
       "<Figure size 432x288 with 2 Axes>"
      ]
     },
     "metadata": {
      "needs_background": "light"
     },
     "output_type": "display_data"
    }
   ],
   "source": [
    "fig=plt.figure()\n",
    "ax1 = plt.subplot(211)\n",
    "ax2 = plt.subplot(212)\n",
    "ax1.hlines(y=0.1,xmin=0, xmax=1, colors='red')\n",
    "ax1.plot(thresholds,precision)\n",
    "ax2.plot(thresholds,recall)\n",
    "ax1.get_shared_x_axes().join(ax1, ax2)\n",
    "ax1.set_xticklabels([])\n",
    "plt.xlabel('Threshold')\n",
    "ax1.set_title('Precision')\n",
    "ax2.set_title('Recall')\n",
    "plt.show()"
   ]
  },
  {
   "cell_type": "code",
   "execution_count": 31,
   "id": "advisory-jones",
   "metadata": {},
   "outputs": [
    {
     "name": "stdout",
     "output_type": "stream",
     "text": [
      "5665\n"
     ]
    },
    {
     "data": {
      "text/plain": [
       "0.2500641959910194"
      ]
     },
     "execution_count": 31,
     "metadata": {},
     "output_type": "execute_result"
    }
   ],
   "source": [
    "min_index = [i for i, prec in enumerate(precision) if prec > 0.27][0]\n",
    "print(min_index)\n",
    "thresholds[min_index]"
   ]
  },
  {
   "cell_type": "code",
   "execution_count": 32,
   "id": "adapted-mirror",
   "metadata": {},
   "outputs": [
    {
     "data": {
      "text/plain": [
       "0.27051857901184156"
      ]
     },
     "execution_count": 32,
     "metadata": {},
     "output_type": "execute_result"
    }
   ],
   "source": [
    "precision[min_index]"
   ]
  },
  {
   "cell_type": "code",
   "execution_count": 33,
   "id": "indonesian-lewis",
   "metadata": {},
   "outputs": [
    {
     "data": {
      "text/plain": [
       "0.4277413106639406"
      ]
     },
     "execution_count": 33,
     "metadata": {},
     "output_type": "execute_result"
    }
   ],
   "source": [
    "recall[min_index]"
   ]
  },
  {
   "cell_type": "code",
   "execution_count": 34,
   "id": "filled-solution",
   "metadata": {},
   "outputs": [
    {
     "data": {
      "image/png": "[encoded data removed]",
      "text/plain": [
       "<Figure size 432x288 with 1 Axes>"
      ]
     },
     "metadata": {
      "needs_background": "light"
     },
     "output_type": "display_data"
    }
   ],
   "source": [
    "pd.Series(y_proba[:,1]).hist(bins=20, figsize=(6, 4));\n",
    "# df.hist(column='SubjectAge', bins=20, figsize=(6, 4));"
   ]
  },
  {
   "cell_type": "code",
   "execution_count": 35,
   "id": "fatal-cross",
   "metadata": {},
   "outputs": [],
   "source": [
    "threshold = thresholds[min_index]\n",
    "y_pred_threshold = pd.Series([True if p >= threshold else False for p in y_proba[:,1]]).to_numpy()"
   ]
  },
  {
   "cell_type": "code",
   "execution_count": 36,
   "id": "exposed-workstation",
   "metadata": {},
   "outputs": [
    {
     "name": "stdout",
     "output_type": "stream",
     "text": [
      "<class 'numpy.ndarray'>\n"
     ]
    },
    {
     "data": {
      "text/plain": [
       "numpy.ndarray"
      ]
     },
     "execution_count": 36,
     "metadata": {},
     "output_type": "execute_result"
    }
   ],
   "source": [
    "print(type(y_pred))\n",
    "type(y_pred_threshold)"
   ]
  },
  {
   "cell_type": "code",
   "execution_count": null,
   "id": "certified-reporter",
   "metadata": {},
   "outputs": [],
   "source": []
  },
  {
   "cell_type": "markdown",
   "id": "apart-disclaimer",
   "metadata": {},
   "source": [
    "#### most important features"
   ]
  },
  {
   "cell_type": "code",
   "execution_count": 37,
   "id": "steady-adobe",
   "metadata": {},
   "outputs": [
    {
     "name": "stdout",
     "output_type": "stream",
     "text": [
      "Feature ranking:\n",
      "1. feature Longitude (0.218635)\n",
      "2. feature Latitude (0.216736)\n",
      "3. feature hour (0.210084)\n",
      "4. feature month (0.166892)\n",
      "5. feature Legislation_misuse of drugs act 1971 (section 23) (0.018770)\n",
      "6. feature Legislation_police and criminal evidence act 1984 (section 1) (0.014543)\n",
      "7. feature day_of_week_Friday (0.010224)\n",
      "8. feature day_of_week_Saturday (0.010132)\n",
      "9. feature day_of_week_Thursday (0.010072)\n",
      "10. feature day_of_week_Wednesday (0.009784)\n",
      "11. feature day_of_week_Tuesday (0.009654)\n"
     ]
    },
    {
     "data": {
      "image/png": "[encoded data removed]",
      "text/plain": [
       "<Figure size 432x288 with 1 Axes>"
      ]
     },
     "metadata": {
      "needs_background": "light"
     },
     "output_type": "display_data"
    }
   ],
   "source": [
    "categorical_encode_step = pipeline.named_steps['columntransformer'].named_transformers_['cat'].named_steps['onehot']\n",
    "random_forest_step = pipeline.named_steps['randomforestclassifier']\n",
    "\n",
    "onehot_columns = categorical_encode_step.get_feature_names(input_features=categorical_features)\n",
    "\n",
    "importances = pd.Series(data=random_forest_step.feature_importances_, index = np.array(numerical_features + list(onehot_columns)))\n",
    "\n",
    "indices = np.argsort(importances)[::-1]\n",
    "print(\"Feature ranking:\")\n",
    "\n",
    "for f in range(X_train.shape[1]):\n",
    "    print(\"%d. feature %s (%f)\" % (f + 1, importances.index[indices[f]], importances[indices[f]]))\n",
    "\n",
    "std = np.std([tree.feature_importances_ for tree in random_forest_step.estimators_], axis=0)\n",
    "\n",
    "plt.figure()\n",
    "plt.title(\"Feature importances\")\n",
    "plt.bar(x=importances.index[indices], height=importances[indices],\n",
    "        color=\"r\", yerr=std[indices], align=\"center\");\n",
    "plt.xticks(range(len(importances.index[indices])), importances.index[indices], rotation=45, ha=\"right\")\n",
    "plt.xlim([-1, X_train.shape[1]])\n",
    "plt.xlabel('Features');\n",
    "plt.ylabel('Importance');\n",
    "\n",
    "plt.show()"
   ]
  },
  {
   "cell_type": "code",
   "execution_count": null,
   "id": "frank-manual",
   "metadata": {},
   "outputs": [],
   "source": []
  },
  {
   "cell_type": "markdown",
   "id": "early-profit",
   "metadata": {},
   "source": [
    "## Formalizing client requirements"
   ]
  },
  {
   "cell_type": "code",
   "execution_count": null,
   "id": "soviet-agent",
   "metadata": {},
   "outputs": [],
   "source": []
  },
  {
   "cell_type": "markdown",
   "id": "received-trader",
   "metadata": {},
   "source": [
    "### 1 - Minimum 10% success rate for searches per station and search objective"
   ]
  },
  {
   "cell_type": "code",
   "execution_count": 38,
   "id": "convertible-aerospace",
   "metadata": {},
   "outputs": [],
   "source": [
    "def verify_global_success_rate(y_true, y_pred, min_success_rate=0.1):\n",
    "    \"\"\"\n",
    "    Verifies the success rate on a test set is above a provided minimum\n",
    "    \"\"\"\n",
    "    \n",
    "    precision = precision_score(y_true, y_pred, pos_label=1)\n",
    "    is_satisfied = (precision >= min_success_rate)\n",
    "    \n",
    "    recall = recall_score(y_true, y_pred, pos_label=1)\n",
    "    \n",
    "    return is_satisfied, precision, recall"
   ]
  },
  {
   "cell_type": "code",
   "execution_count": 39,
   "id": "stock-anniversary",
   "metadata": {},
   "outputs": [
    {
     "name": "stdout",
     "output_type": "stream",
     "text": [
      "Global Precision: (True, 0.27051857901184156)\n",
      "Global Recall: 0.4277413106639406\n"
     ]
    }
   ],
   "source": [
    "is_verified, success_rate, recall = verify_global_success_rate(y_test, y_pred_threshold)\n",
    "\n",
    "print(\"Global Precision: {}\".format((is_verified, success_rate)))\n",
    "print(\"Global Recall: {}\".format(recall))"
   ]
  },
  {
   "cell_type": "code",
   "execution_count": 40,
   "id": "capable-metro",
   "metadata": {},
   "outputs": [],
   "source": [
    "# exclusion_list = ['articles for use in criminal damage','anything to threaten or harm anyone','fireworks', \n",
    "#                  'detailed object of search unavailable','game or poaching equipment',\n",
    "#                  'goods on which duty has not been paid etc.','evidence of wildlife offences',\n",
    "#                  'crossbows','seals or hunting equipment']\n",
    "\n",
    "# t=df_test['Object of search'].unique()\n",
    "\n",
    "# for i in t:\n",
    "#     if i not in exclusion_list:\n",
    "#         print(i)"
   ]
  },
  {
   "cell_type": "code",
   "execution_count": 41,
   "id": "tropical-spencer",
   "metadata": {},
   "outputs": [],
   "source": [
    "def verify_success_rate_objective_station(X_test, y_true, y_pred, sensitive_column='Object of search', \n",
    "                                          min_success_rate=0.1, min_samples=50):\n",
    "    \"\"\"\n",
    "    Verifies that success rate per station and search objective is higher than 10%\n",
    "    \"\"\"\n",
    "    \n",
    "#     exclusion_list = ['articles for use in criminal damage','anything to threaten or harm anyone','fireworks', \n",
    "#                  'detailed object of search unavailable','game or poaching equipment',\n",
    "#                  'goods on which duty has not been paid etc.','evidence of wildlife offences',\n",
    "#                  'crossbows','seals or hunting equipment']\n",
    "\n",
    "    exclusion_list = ['articles for use in criminal damage','anything to threaten or harm anyone','fireworks',\n",
    "                      'detailed object of search unavailable','game or poaching equipment',\n",
    "                      'goods on which duty has not been paid etc.','evidence of wildlife offences',\n",
    "                      'crossbows','seals or hunting equipment',\n",
    "                      'firearms','evidence of offences under the act','psychoactive substances']\n",
    "    \n",
    "    departments = X_test['station'].unique()\n",
    "    sensitive_classes = X_test[sensitive_column].unique()\n",
    "    \n",
    "    is_satisfied = True\n",
    "    problematic_departments = []\n",
    "    good_deparments = []\n",
    "    ignored_departments = []\n",
    "    for department in departments:\n",
    "        precisions = {}\n",
    "        for sensitive_class in sensitive_classes:\n",
    "            if sensitive_class not in exclusion_list:\n",
    "                mask = (X_test[sensitive_column] == sensitive_class) & (X_test['station'] == department)\n",
    "                if np.sum(mask) > min_samples:\n",
    "                    precisions[sensitive_class] = precision_score(y_true[mask], y_pred[mask], pos_label=1)\n",
    "                \n",
    "        if len(precisions) > 1:    \n",
    "            precision_min = np.min(list(precisions.values()))\n",
    "\n",
    "            if precision_min < min_success_rate:\n",
    "                is_satisfied = False\n",
    "                problematic_departments.append((department, precision_min, precisions))\n",
    "            else:\n",
    "                good_deparments.append((department, precision_min, precisions))\n",
    "        else:\n",
    "            ignored_departments.append((department, None, []))\n",
    "    \n",
    "    global_precisions = {}\n",
    "    for department in departments:\n",
    "        mask = (X_test['station'] == department)\n",
    "        if np.sum(mask) > min_samples:\n",
    "            global_precisions[department] = precision_score(y_true[mask], y_pred[mask])\n",
    "            \n",
    "    global_precisions_objective = {}\n",
    "    for obj in sensitive_classes:\n",
    "        mask = (X_test[sensitive_column] == obj)\n",
    "        if np.sum(mask) > min_samples:\n",
    "            global_precisions_objective[obj] = precision_score(y_true[mask], y_pred[mask])\n",
    "    \n",
    "        \n",
    "    return is_satisfied, problematic_departments, good_deparments, ignored_departments, global_precisions,global_precisions_objective"
   ]
  },
  {
   "cell_type": "code",
   "execution_count": 42,
   "id": "sharing-contents",
   "metadata": {},
   "outputs": [
    {
     "name": "stdout",
     "output_type": "stream",
     "text": [
      "Requirement failed 😢\n",
      "Num problematic stations: 14\n",
      "Num good stations: 23\n",
      "Num ignored departments: 2\n",
      "\n",
      "Object of search rates: {'controlled drugs': 0.29112793467165704, 'article for use in theft': 0.16836388323150034, 'stolen goods': 0.26393141457440294, 'anything to threaten or harm anyone': 0.13991769547325103, 'offensive weapons': 0.16380449141347425, 'fireworks': 0.0392156862745098, 'articles for use in criminal damage': 0.03762376237623762, 'firearms': 0.211864406779661, 'evidence of offences under the act': 0.20754716981132076, 'psychoactive substances': 0.3380952380952381}\n",
      "\n",
      "Station rates: {'bedfordshire': 0.2752808988764045, 'hertfordshire': 0.3092485549132948, 'kent': 0.29680696661828737, 'btp': 0.2880710659898477, 'warwickshire': 0.284789644012945, 'staffordshire': 0.2862796833773087, 'leicestershire': 0.15789473684210525, 'derbyshire': 0.27241379310344827, 'cheshire': 0.3553398058252427, 'west-yorkshire': 0.22857142857142856, 'suffolk': 0.22364217252396165, 'hampshire': 0.3236749116607774, 'devon-and-cornwall': 0.2905317769130999, 'south-yorkshire': 0.17696867061812024, 'essex': 0.32297852900867974, 'norfolk': 0.1928374655647383, 'dyfed-powys': 0.02857142857142857, 'thames-valley': 0.17970401691331925, 'avon-and-somerset': 0.31860902255639095, 'merseyside': 0.2692117005453644, 'northumbria': 0.2749326145552561, 'sussex': 0.2761437908496732, 'surrey': 0.306368330464716, 'nottinghamshire': 0.33372093023255817, 'city-of-london': 0.3374384236453202, 'west-mercia': 0.3438685208596713, 'lincolnshire': 0.2119700748129676, 'lancashire': 0.07647058823529412, 'gloucestershire': 0.2946708463949843, 'northamptonshire': 0.2688821752265861, 'cumbria': 0.3072916666666667, 'north-yorkshire': 0.21393034825870647, 'north-wales': 0.19607843137254902, 'cleveland': 0.3395061728395062, 'dorset': 0.2883895131086142, 'durham': 0.3925729442970822, 'greater-manchester': 0.2857142857142857, 'wiltshire': 0.1984732824427481, 'cambridgeshire': 0.313953488372093}\n"
     ]
    }
   ],
   "source": [
    "is_satisfied, problematic_departments, good_deparments, ignored_departments,global_precisions, global_precisions_objective = verify_success_rate_objective_station(df_test, y_test, y_pred_threshold, min_success_rate=0.1)\n",
    "\n",
    "if not is_satisfied:\n",
    "    print(\"Requirement failed 😢\")\n",
    "    print(\"Num problematic stations: {}\".format(len(problematic_departments)))\n",
    "    print(\"Num good stations: {}\".format(len(good_deparments)))\n",
    "    print(\"Num ignored departments: {}\".format(len(ignored_departments)))\n",
    "    print(\"\\nObject of search rates: {}\".format(global_precisions_objective))\n",
    "    print(\"\\nStation rates: {}\".format(global_precisions))\n"
   ]
  },
  {
   "cell_type": "code",
   "execution_count": 43,
   "id": "passive-recipient",
   "metadata": {
    "scrolled": true
   },
   "outputs": [
    {
     "data": {
      "text/plain": [
       "[('bedfordshire',\n",
       "  0.06666666666666667,\n",
       "  {'controlled drugs': 0.3181818181818182,\n",
       "   'article for use in theft': 0.10344827586206896,\n",
       "   'stolen goods': 0.06666666666666667,\n",
       "   'offensive weapons': 0.11538461538461539}),\n",
       " ('staffordshire',\n",
       "  0.03571428571428571,\n",
       "  {'controlled drugs': 0.32733224222585927,\n",
       "   'article for use in theft': 0.03571428571428571,\n",
       "   'stolen goods': 0.18055555555555555,\n",
       "   'offensive weapons': 0.06976744186046512}),\n",
       " ('leicestershire',\n",
       "  0.0,\n",
       "  {'controlled drugs': 0.1836734693877551,\n",
       "   'article for use in theft': 0.058823529411764705,\n",
       "   'stolen goods': 0.07142857142857142,\n",
       "   'offensive weapons': 0.0}),\n",
       " ('suffolk',\n",
       "  0.0,\n",
       "  {'controlled drugs': 0.25396825396825395,\n",
       "   'article for use in theft': 0.0,\n",
       "   'stolen goods': 0.16666666666666666,\n",
       "   'offensive weapons': 0.14285714285714285}),\n",
       " ('south-yorkshire',\n",
       "  0.0,\n",
       "  {'controlled drugs': 0.21192758253461128,\n",
       "   'article for use in theft': 0.0,\n",
       "   'stolen goods': 0.0,\n",
       "   'offensive weapons': 0.12345679012345678}),\n",
       " ('norfolk',\n",
       "  0.0,\n",
       "  {'controlled drugs': 0.20625,\n",
       "   'article for use in theft': 0.0,\n",
       "   'stolen goods': 0.07142857142857142,\n",
       "   'offensive weapons': 0.16666666666666666}),\n",
       " ('dyfed-powys',\n",
       "  0.0,\n",
       "  {'controlled drugs': 0.011764705882352941, 'article for use in theft': 0.0}),\n",
       " ('thames-valley',\n",
       "  0.061224489795918366,\n",
       "  {'controlled drugs': 0.2119460500963391,\n",
       "   'article for use in theft': 0.061224489795918366,\n",
       "   'stolen goods': 0.125,\n",
       "   'offensive weapons': 0.11304347826086956}),\n",
       " ('merseyside',\n",
       "  0.07058823529411765,\n",
       "  {'controlled drugs': 0.27846437023402576,\n",
       "   'article for use in theft': 0.15306122448979592,\n",
       "   'stolen goods': 0.19230769230769232,\n",
       "   'offensive weapons': 0.07058823529411765}),\n",
       " ('nottinghamshire',\n",
       "  0.0625,\n",
       "  {'controlled drugs': 0.34572490706319703,\n",
       "   'article for use in theft': 0.0625,\n",
       "   'stolen goods': 0.4444444444444444,\n",
       "   'offensive weapons': 0.10714285714285714}),\n",
       " ('lincolnshire',\n",
       "  0.08333333333333333,\n",
       "  {'controlled drugs': 0.22686567164179106,\n",
       "   'article for use in theft': 0.13043478260869565,\n",
       "   'stolen goods': 0.08333333333333333,\n",
       "   'offensive weapons': 0.2222222222222222}),\n",
       " ('lancashire',\n",
       "  0.0,\n",
       "  {'controlled drugs': 0.2542372881355932,\n",
       "   'article for use in theft': 0.0,\n",
       "   'stolen goods': 0.2777777777777778,\n",
       "   'offensive weapons': 0.11764705882352941}),\n",
       " ('north-wales',\n",
       "  0.07142857142857142,\n",
       "  {'controlled drugs': 0.2145214521452145,\n",
       "   'article for use in theft': 0.1,\n",
       "   'stolen goods': 0.1111111111111111,\n",
       "   'offensive weapons': 0.07142857142857142}),\n",
       " ('greater-manchester',\n",
       "  0.06896551724137931,\n",
       "  {'controlled drugs': 0.31189710610932475,\n",
       "   'article for use in theft': 0.06896551724137931,\n",
       "   'stolen goods': 0.3793103448275862,\n",
       "   'offensive weapons': 0.14814814814814814})]"
      ]
     },
     "execution_count": 43,
     "metadata": {},
     "output_type": "execute_result"
    }
   ],
   "source": [
    "problematic_departments"
   ]
  },
  {
   "cell_type": "code",
   "execution_count": 44,
   "id": "inclusive-indianapolis",
   "metadata": {},
   "outputs": [
    {
     "data": {
      "text/plain": [
       "[('hertfordshire',\n",
       "  0.19230769230769232,\n",
       "  {'controlled drugs': 0.3235294117647059,\n",
       "   'article for use in theft': 0.23275862068965517,\n",
       "   'stolen goods': 0.36507936507936506,\n",
       "   'offensive weapons': 0.19230769230769232}),\n",
       " ('kent',\n",
       "  0.16666666666666666,\n",
       "  {'controlled drugs': 0.28996692392502754,\n",
       "   'article for use in theft': 0.23404255319148937,\n",
       "   'stolen goods': 0.36,\n",
       "   'offensive weapons': 0.16666666666666666}),\n",
       " ('btp',\n",
       "  0.14516129032258066,\n",
       "  {'controlled drugs': 0.29952456418383516,\n",
       "   'article for use in theft': 0.26666666666666666,\n",
       "   'stolen goods': 0.3548387096774194,\n",
       "   'offensive weapons': 0.14516129032258066}),\n",
       " ('warwickshire',\n",
       "  0.16666666666666666,\n",
       "  {'controlled drugs': 0.3146551724137931,\n",
       "   'article for use in theft': 0.20833333333333334,\n",
       "   'stolen goods': 0.18518518518518517,\n",
       "   'offensive weapons': 0.16666666666666666}),\n",
       " ('derbyshire',\n",
       "  0.10526315789473684,\n",
       "  {'controlled drugs': 0.30973451327433627,\n",
       "   'article for use in theft': 0.13333333333333333,\n",
       "   'offensive weapons': 0.10526315789473684}),\n",
       " ('cheshire',\n",
       "  0.14285714285714285,\n",
       "  {'controlled drugs': 0.381057268722467,\n",
       "   'article for use in theft': 0.17391304347826086,\n",
       "   'stolen goods': 0.14285714285714285,\n",
       "   'offensive weapons': 0.18181818181818182}),\n",
       " ('west-yorkshire',\n",
       "  0.1696969696969697,\n",
       "  {'controlled drugs': 0.23751095530236635,\n",
       "   'article for use in theft': 0.1696969696969697,\n",
       "   'stolen goods': 0.26605504587155965,\n",
       "   'offensive weapons': 0.19230769230769232}),\n",
       " ('hampshire',\n",
       "  0.19424460431654678,\n",
       "  {'controlled drugs': 0.3520632133450395,\n",
       "   'article for use in theft': 0.29411764705882354,\n",
       "   'stolen goods': 0.19424460431654678,\n",
       "   'offensive weapons': 0.20588235294117646}),\n",
       " ('devon-and-cornwall',\n",
       "  0.15384615384615385,\n",
       "  {'controlled drugs': 0.3066860465116279,\n",
       "   'stolen goods': 0.15384615384615385,\n",
       "   'offensive weapons': 0.16216216216216217}),\n",
       " ('essex',\n",
       "  0.22321428571428573,\n",
       "  {'controlled drugs': 0.3315450643776824,\n",
       "   'article for use in theft': 0.28378378378378377,\n",
       "   'stolen goods': 0.36538461538461536,\n",
       "   'offensive weapons': 0.22321428571428573}),\n",
       " ('avon-and-somerset',\n",
       "  0.18181818181818182,\n",
       "  {'controlled drugs': 0.32575757575757575,\n",
       "   'article for use in theft': 0.18181818181818182,\n",
       "   'stolen goods': 0.39473684210526316,\n",
       "   'offensive weapons': 0.2653061224489796}),\n",
       " ('northumbria',\n",
       "  0.17346938775510204,\n",
       "  {'controlled drugs': 0.29336188436830835,\n",
       "   'article for use in theft': 0.21739130434782608,\n",
       "   'stolen goods': 0.3669724770642202,\n",
       "   'offensive weapons': 0.17346938775510204}),\n",
       " ('sussex',\n",
       "  0.1935483870967742,\n",
       "  {'controlled drugs': 0.29350104821802936,\n",
       "   'article for use in theft': 0.22641509433962265,\n",
       "   'stolen goods': 0.1935483870967742,\n",
       "   'offensive weapons': 0.21428571428571427}),\n",
       " ('surrey',\n",
       "  0.125,\n",
       "  {'controlled drugs': 0.3420738974970203,\n",
       "   'article for use in theft': 0.22857142857142856,\n",
       "   'stolen goods': 0.4838709677419355,\n",
       "   'offensive weapons': 0.125}),\n",
       " ('city-of-london',\n",
       "  0.16666666666666666,\n",
       "  {'controlled drugs': 0.38175675675675674,\n",
       "   'article for use in theft': 0.24489795918367346,\n",
       "   'stolen goods': 0.16666666666666666,\n",
       "   'offensive weapons': 0.19047619047619047}),\n",
       " ('west-mercia',\n",
       "  0.16279069767441862,\n",
       "  {'controlled drugs': 0.34913112164297,\n",
       "   'article for use in theft': 0.16279069767441862,\n",
       "   'stolen goods': 0.49206349206349204,\n",
       "   'offensive weapons': 0.24324324324324326}),\n",
       " ('gloucestershire',\n",
       "  0.14285714285714285,\n",
       "  {'controlled drugs': 0.3129496402877698,\n",
       "   'article for use in theft': 0.14285714285714285,\n",
       "   'stolen goods': 0.17647058823529413,\n",
       "   'offensive weapons': 0.2}),\n",
       " ('northamptonshire',\n",
       "  0.14285714285714285,\n",
       "  {'controlled drugs': 0.2684563758389262,\n",
       "   'article for use in theft': 0.14285714285714285,\n",
       "   'offensive weapons': 0.25}),\n",
       " ('cumbria',\n",
       "  0.2222222222222222,\n",
       "  {'controlled drugs': 0.3037974683544304,\n",
       "   'article for use in theft': 0.2222222222222222,\n",
       "   'stolen goods': 0.35294117647058826,\n",
       "   'offensive weapons': 0.42857142857142855}),\n",
       " ('north-yorkshire',\n",
       "  0.16666666666666666,\n",
       "  {'controlled drugs': 0.19402985074626866,\n",
       "   'article for use in theft': 0.3181818181818182,\n",
       "   'stolen goods': 0.2222222222222222,\n",
       "   'offensive weapons': 0.16666666666666666}),\n",
       " ('cleveland',\n",
       "  0.2,\n",
       "  {'controlled drugs': 0.3217391304347826,\n",
       "   'article for use in theft': 0.36363636363636365,\n",
       "   'stolen goods': 0.2,\n",
       "   'offensive weapons': 0.3076923076923077}),\n",
       " ('dorset',\n",
       "  0.2631578947368421,\n",
       "  {'controlled drugs': 0.2962962962962963,\n",
       "   'article for use in theft': 0.2631578947368421,\n",
       "   'offensive weapons': 0.2631578947368421}),\n",
       " ('durham',\n",
       "  0.2222222222222222,\n",
       "  {'controlled drugs': 0.4185022026431718,\n",
       "   'article for use in theft': 0.2222222222222222,\n",
       "   'stolen goods': 0.4666666666666667,\n",
       "   'offensive weapons': 0.3023255813953488})]"
      ]
     },
     "execution_count": 44,
     "metadata": {},
     "output_type": "execute_result"
    }
   ],
   "source": [
    "good_deparments"
   ]
  },
  {
   "cell_type": "code",
   "execution_count": 45,
   "id": "standing-austria",
   "metadata": {},
   "outputs": [
    {
     "name": "stdout",
     "output_type": "stream",
     "text": [
      "0.02857142857142857\n"
     ]
    },
    {
     "data": {
      "text/plain": [
       "0.3925729442970822"
      ]
     },
     "execution_count": 45,
     "metadata": {},
     "output_type": "execute_result"
    }
   ],
   "source": [
    "print(min(global_precisions.values()))\n",
    "max(global_precisions.values())"
   ]
  },
  {
   "cell_type": "code",
   "execution_count": 46,
   "id": "continental-sugar",
   "metadata": {},
   "outputs": [
    {
     "name": "stdout",
     "output_type": "stream",
     "text": [
      "0.03762376237623762\n"
     ]
    },
    {
     "data": {
      "text/plain": [
       "0.3380952380952381"
      ]
     },
     "execution_count": 46,
     "metadata": {},
     "output_type": "execute_result"
    }
   ],
   "source": [
    "print(min(global_precisions_objective.values()))\n",
    "max(global_precisions_objective.values())"
   ]
  },
  {
   "cell_type": "code",
   "execution_count": 47,
   "id": "incomplete-annex",
   "metadata": {},
   "outputs": [],
   "source": [
    "# mask = (X_test['Object of search'] == 'offensive weapons') & (X_test['station'] == 'bedfordshire')\n",
    "# np.sum(mask)\n",
    "# precision_score(y_test[mask], y_pred[mask])\n",
    "# y_test[mask].value_counts()\n",
    "# pd.Series(y_pred[mask]).value_counts()"
   ]
  },
  {
   "cell_type": "markdown",
   "id": "compact-ancient",
   "metadata": {},
   "source": [
    "### 2 - No police station should have a discrepancy bigger than 5% between the search success rate between protected classes (ethnicity, gender)"
   ]
  },
  {
   "cell_type": "code",
   "execution_count": 48,
   "id": "blind-potential",
   "metadata": {},
   "outputs": [],
   "source": [
    "def verify_no_discrimination(X_test, y_true, y_pred, sensitive_column, max_diff=0.05, min_samples=50):\n",
    "    \"\"\"\n",
    "    Verifies that no station has discrimination in between protected classes\n",
    "    \"\"\"\n",
    "    \n",
    "    departments = X_test['station'].unique()\n",
    "    sensitive_classes = X_test[sensitive_column].unique()\n",
    "    \n",
    "    is_satisfied = True\n",
    "    problematic_departments = []\n",
    "    good_deparments = []\n",
    "    ignored_departments = []\n",
    "    for department in departments:\n",
    "        precisions = {}\n",
    "        for sensitive_class in sensitive_classes:\n",
    "            mask = (X_test[sensitive_column] == sensitive_class) & (X_test['station'] == department)\n",
    "            if np.sum(mask) > min_samples:\n",
    "                precisions[sensitive_class] = precision_score(y_true[mask], y_pred[mask], pos_label=1)\n",
    "                \n",
    "        if len(precisions) > 1:    \n",
    "            diff = np.max(list(precisions.values())) - np.min(list(precisions.values()))\n",
    "\n",
    "            if diff > max_diff:\n",
    "                is_satisfied = False\n",
    "                problematic_departments.append((department, diff, precisions))\n",
    "            else:\n",
    "                good_deparments.append((department, diff, precisions))\n",
    "        else:\n",
    "            ignored_departments.append((department, None, []))\n",
    "    \n",
    "    global_precisions = {}\n",
    "    for sensitive_class in sensitive_classes:\n",
    "        mask = (X_test[sensitive_column] == sensitive_class)\n",
    "        if np.sum(mask) > min_samples:\n",
    "            global_precisions[sensitive_class] = precision_score(y_true[mask], y_pred[mask], pos_label=1)\n",
    "    \n",
    "    if len(precisions) > 1:    \n",
    "        diff = np.max(list(precisions.values())) - np.min(list(precisions.values()))\n",
    "        if diff > max_diff:\n",
    "            is_satisfied = False\n",
    "        \n",
    "    return is_satisfied, problematic_departments, good_deparments, ignored_departments, global_precisions\n"
   ]
  },
  {
   "cell_type": "code",
   "execution_count": 49,
   "id": "demonstrated-organic",
   "metadata": {},
   "outputs": [
    {
     "name": "stdout",
     "output_type": "stream",
     "text": [
      "\n",
      "Ethnicity\n",
      "Requirement failed 😢\n",
      "Global rates: {'Black': 0.2897227856659905, 'White': 0.26771619949656555, 'Other': 0.2774869109947644, 'Asian': 0.26935123042505593, 'Mixed': 0.3114754098360656}\n",
      "Num problematic departments: 20\n",
      "Num good departments: 10\n",
      "Num ignored departments: 9\n",
      "avg diff: 0.11665002601904151\n",
      "\n",
      "\n",
      "Gender\n",
      "Requirement failed 😢\n",
      "Global rates: {'Male': 0.27167694479530424, 'Female': 0.25745811197384555, 'Other': 0.30434782608695654}\n",
      "Num problematic departments: 14\n",
      "Num good departments: 23\n",
      "Num ignored departments: 2\n",
      "avg diff: 0.09174320750069784\n"
     ]
    }
   ],
   "source": [
    "is_satisfied, problematic_departments, good_deparments, ignored_departments, global_precisions = verify_no_discrimination(\n",
    "    df_test, y_test, y_pred_threshold, 'Officer-defined ethnicity', 0.05)\n",
    "\n",
    "print(\"\\nEthnicity\")\n",
    "\n",
    "if not is_satisfied:\n",
    "    print(\"Requirement failed 😢\")\n",
    "    print(\"Global rates: {}\".format(global_precisions))\n",
    "    print(\"Num problematic departments: {}\".format(len(problematic_departments)))\n",
    "    print(\"Num good departments: {}\".format(len(good_deparments)))\n",
    "    print(\"Num ignored departments: {}\".format(len(ignored_departments)))\n",
    "\n",
    "    print(\"avg diff:\", np.mean([p[1] for p in problematic_departments]))\n",
    "    \n",
    "    \n",
    "is_satisfied, problematic_departments, good_deparments, ignored_departments, global_precisions = verify_no_discrimination(\n",
    "    df_test, y_test, y_pred_threshold, 'Gender', 0.05)\n",
    "\n",
    "print(\"\\n\\nGender\")\n",
    "\n",
    "if not is_satisfied:\n",
    "    print(\"Requirement failed 😢\")\n",
    "    print(\"Global rates: {}\".format(global_precisions))\n",
    "    print(\"Num problematic departments: {}\".format(len(problematic_departments)))\n",
    "    print(\"Num good departments: {}\".format(len(good_deparments)))\n",
    "    print(\"Num ignored departments: {}\".format(len(ignored_departments)))\n",
    "    \n",
    "    print(\"avg diff:\", np.mean([p[1] for p in problematic_departments]))"
   ]
  },
  {
   "cell_type": "markdown",
   "id": "endless-depth",
   "metadata": {},
   "source": [
    "### 3 - No police station should have a discrepancy bigger than x% between the Removal of more than just outer clothing rate between protected classes (age, ethnicity, gender)"
   ]
  },
  {
   "cell_type": "code",
   "execution_count": 50,
   "id": "opened-abuse",
   "metadata": {},
   "outputs": [],
   "source": [
    "def verify_removal_clothing(X_test, y_true, y_pred, sensitive_column, max_diff, min_samples=50):\n",
    "    \"\"\"\n",
    "    Verifies that no station has discrepancy Removal of more than just outer clothing rate between \n",
    "    protected classes (age, ethnicity, gender)\n",
    "    \"\"\"\n",
    "    \n",
    "    departments = X_test['station'].unique()\n",
    "    sensitive_classes = X_test[sensitive_column].unique()\n",
    "    \n",
    "    is_satisfied = True\n",
    "    problematic_departments = []\n",
    "    good_deparments = []\n",
    "    ignored_departments = []\n",
    "    for department in departments:\n",
    "        removal_rate = {}\n",
    "        for sensitive_class in sensitive_classes:\n",
    "            mask = (X_test[sensitive_column] == sensitive_class) & (X_test['station'] == department) & (y_pred == 1)\n",
    "            if np.sum(mask) > min_samples:\n",
    "                removal_rate[sensitive_class] = (np.sum(X_test[mask]['Removal of more than just outer clothing']==1))/(X_test[mask]['Removal of more than just outer clothing'].shape[0])\n",
    "                \n",
    "        if len(removal_rate) > 1:    \n",
    "            diff = np.max(list(removal_rate.values())) - np.min(list(removal_rate.values()))\n",
    "\n",
    "            if diff > max_diff:\n",
    "                is_satisfied = False\n",
    "                problematic_departments.append((department, diff, removal_rate))\n",
    "            else:\n",
    "                good_deparments.append((department, diff, removal_rate))\n",
    "        else:\n",
    "            ignored_departments.append((department, None, []))\n",
    "    \n",
    "    global_removal_rate = {}\n",
    "    for sensitive_class in sensitive_classes:\n",
    "        mask = (X_test[sensitive_column] == sensitive_class) & (y_pred == True)\n",
    "        if np.sum(mask) > min_samples:\n",
    "            global_removal_rate[sensitive_class] = (np.sum(X_test[mask]['Removal of more than just outer clothing']==True))/(X_test[mask]['Removal of more than just outer clothing'].shape[0])\n",
    "    \n",
    "#     if len(precisions) > 1:    \n",
    "#         diff = np.max(list(precisions.values())) - np.min(list(precisions.values()))\n",
    "#         if diff > max_diff:\n",
    "#             is_satisfied = False\n",
    "        \n",
    "    return is_satisfied, problematic_departments, good_deparments, ignored_departments, global_removal_rate\n"
   ]
  },
  {
   "cell_type": "code",
   "execution_count": 51,
   "id": "cubic-posting",
   "metadata": {},
   "outputs": [
    {
     "name": "stdout",
     "output_type": "stream",
     "text": [
      "\n",
      "Gender\n",
      "Requirement failed 😢\n",
      "Global rates: {'Male': 0.04294524110260792, 'Female': 0.04577033101757254}\n",
      "Num problematic departments: 1\n",
      "Num good departments: 15\n",
      "Num ignored departments: 23\n",
      "avg diff: 0.11973897839390535\n",
      "\n",
      "\n",
      "Age range\n",
      "Requirement failed 😢\n",
      "Global rates: {'10-17': 0.020040662213186174, '25-34': 0.04622070055306821, 'over 34': 0.04189678156541611, '18-24': 0.047921125038214614}\n",
      "Num problematic departments: 10\n",
      "Num good departments: 26\n",
      "Num ignored departments: 3\n",
      "avg diff: 0.07010868082884134\n",
      "\n",
      "\n",
      "Ethnicity\n",
      "Requirement failed 😢\n",
      "Global rates: {'Black': 0.09770114942528736, 'White': 0.03468578011007296, 'Other': 0.041884816753926704, 'Asian': 0.058165548098434, 'Mixed': 0.06557377049180328}\n",
      "Num problematic departments: 11\n",
      "Num good departments: 10\n",
      "Num ignored departments: 18\n",
      "avg diff: 0.1056056024252011\n"
     ]
    }
   ],
   "source": [
    "is_satisfied, problematic_departments, good_deparments, ignored_departments, global_removal_rate = verify_removal_clothing(\n",
    "    df_test, y_test, y_pred_threshold, 'Gender', 0.05)\n",
    "\n",
    "print(\"\\nGender\")\n",
    "\n",
    "if not is_satisfied:\n",
    "    print(\"Requirement failed 😢\")\n",
    "    print(\"Global rates: {}\".format(global_removal_rate))\n",
    "    print(\"Num problematic departments: {}\".format(len(problematic_departments)))\n",
    "    print(\"Num good departments: {}\".format(len(good_deparments)))\n",
    "    print(\"Num ignored departments: {}\".format(len(ignored_departments)))\n",
    "    \n",
    "    print(\"avg diff:\", np.mean([p[1] for p in problematic_departments]))\n",
    "    \n",
    "    \n",
    "is_satisfied, problematic_departments, good_deparments, ignored_departments, global_removal_rate = verify_removal_clothing(\n",
    "    df_test, y_test, y_pred_threshold, 'Age range', 0.05)\n",
    "\n",
    "print(\"\\n\\nAge range\")\n",
    "\n",
    "if not is_satisfied:\n",
    "    print(\"Requirement failed 😢\")\n",
    "    print(\"Global rates: {}\".format(global_removal_rate))\n",
    "    print(\"Num problematic departments: {}\".format(len(problematic_departments)))\n",
    "    print(\"Num good departments: {}\".format(len(good_deparments)))\n",
    "    print(\"Num ignored departments: {}\".format(len(ignored_departments)))\n",
    "    \n",
    "    print(\"avg diff:\", np.mean([p[1] for p in problematic_departments]))\n",
    "    \n",
    "    \n",
    "is_satisfied, problematic_departments, good_deparments, ignored_departments, global_removal_rate = verify_removal_clothing(\n",
    "    df_test, y_test, y_pred_threshold, 'Officer-defined ethnicity', 0.05)\n",
    "\n",
    "print(\"\\n\\nEthnicity\")\n",
    "\n",
    "if not is_satisfied:\n",
    "    print(\"Requirement failed 😢\")\n",
    "    print(\"Global rates: {}\".format(global_removal_rate))\n",
    "    print(\"Num problematic departments: {}\".format(len(problematic_departments)))\n",
    "    print(\"Num good departments: {}\".format(len(good_deparments)))\n",
    "    print(\"Num ignored departments: {}\".format(len(ignored_departments)))\n",
    "    \n",
    "    print(\"avg diff:\", np.mean([p[1] for p in problematic_departments]))"
   ]
  },
  {
   "cell_type": "code",
   "execution_count": null,
   "id": "adapted-ordinance",
   "metadata": {},
   "outputs": [],
   "source": []
  },
  {
   "cell_type": "code",
   "execution_count": null,
   "id": "equipped-drawing",
   "metadata": {},
   "outputs": [],
   "source": []
  },
  {
   "cell_type": "code",
   "execution_count": null,
   "id": "nuclear-claim",
   "metadata": {},
   "outputs": [],
   "source": []
  },
  {
   "cell_type": "code",
   "execution_count": null,
   "id": "introductory-logistics",
   "metadata": {},
   "outputs": [],
   "source": []
  },
  {
   "cell_type": "code",
   "execution_count": null,
   "id": "legitimate-textbook",
   "metadata": {},
   "outputs": [],
   "source": []
  },
  {
   "cell_type": "code",
   "execution_count": null,
   "id": "magnetic-chorus",
   "metadata": {},
   "outputs": [],
   "source": []
  },
  {
   "cell_type": "code",
   "execution_count": null,
   "id": "premier-green",
   "metadata": {},
   "outputs": [],
   "source": []
  },
  {
   "cell_type": "code",
   "execution_count": null,
   "id": "egyptian-entity",
   "metadata": {},
   "outputs": [],
   "source": []
  }
 ],
 "metadata": {
  "kernelspec": {
   "display_name": "Python 3",
   "language": "python",
   "name": "python3"
  },
  "language_info": {
   "codemirror_mode": {
    "name": "ipython",
    "version": 3
   },
   "file_extension": ".py",
   "mimetype": "text/x-python",
   "name": "python",
   "nbconvert_exporter": "python",
   "pygments_lexer": "ipython3",
   "version": "3.6.9"
  }
 },
 "nbformat": 4,
 "nbformat_minor": 5
}
