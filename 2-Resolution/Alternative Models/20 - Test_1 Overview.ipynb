{
 "cells": [
  {
   "cell_type": "code",
   "execution_count": 10,
   "id": "standing-investigation",
   "metadata": {},
   "outputs": [],
   "source": [
    "import json\n",
    "import joblib\n",
    "import pickle\n",
    "import pandas as pd\n",
    "import numpy as np\n",
    "# import seaborn as sns\n",
    "from sklearn.model_selection import train_test_split\n",
    "from sklearn.pipeline import make_pipeline, Pipeline\n",
    "from sklearn.impute import SimpleImputer\n",
    "from sklearn.preprocessing import StandardScaler, OneHotEncoder\n",
    "from sklearn.compose import ColumnTransformer\n",
    "from sklearn.ensemble import RandomForestClassifier\n",
    "from sklearn.metrics import precision_score, recall_score, roc_auc_score\n",
    "\n",
    "import matplotlib.pyplot as plt\n",
    "import matplotlib.image as mpimg\n",
    "%matplotlib inline\n",
    "\n",
    "import warnings\n",
    "warnings.filterwarnings('ignore')"
   ]
  },
  {
   "cell_type": "code",
   "execution_count": 11,
   "id": "pleasant-express",
   "metadata": {},
   "outputs": [
    {
     "name": "stdout",
     "output_type": "stream",
     "text": [
      "X_test_1 (4000, 13)\n",
      "y_test_1 (4000, 2)\n",
      "train_model (300447, 22)\n"
     ]
    }
   ],
   "source": [
    "X_test_1 = pd.read_csv('data/X_test_1.csv')\n",
    "y_test_1 = pd.read_csv('data/y_test_1.csv', names=['observation_id', 'true_class'],skiprows=1)\n",
    "train_model = pd.read_csv('data/train_model.csv')\n",
    "\n",
    "print(\"X_test_1 {}\".format(X_test_1.shape))\n",
    "print(\"y_test_1 {}\".format(y_test_1.shape))\n",
    "print(\"train_model {}\".format(train_model.shape))"
   ]
  },
  {
   "cell_type": "code",
   "execution_count": 12,
   "id": "social-stability",
   "metadata": {},
   "outputs": [
    {
     "name": "stdout",
     "output_type": "stream",
     "text": [
      "<class 'pandas.core.frame.DataFrame'>\n",
      "RangeIndex: 4000 entries, 0 to 3999\n",
      "Data columns (total 13 columns):\n",
      " #   Column                        Non-Null Count  Dtype  \n",
      "---  ------                        --------------  -----  \n",
      " 0   observation_id                4000 non-null   object \n",
      " 1   Type                          4000 non-null   object \n",
      " 2   Date                          4000 non-null   object \n",
      " 3   Part of a policing operation  2203 non-null   object \n",
      " 4   Latitude                      1474 non-null   float64\n",
      " 5   Longitude                     1474 non-null   float64\n",
      " 6   Gender                        4000 non-null   object \n",
      " 7   Age range                     4000 non-null   object \n",
      " 8   Self-defined ethnicity        4000 non-null   object \n",
      " 9   Officer-defined ethnicity     4000 non-null   object \n",
      " 10  Legislation                   3999 non-null   object \n",
      " 11  Object of search              4000 non-null   object \n",
      " 12  station                       4000 non-null   object \n",
      "dtypes: float64(2), object(11)\n",
      "memory usage: 406.4+ KB\n",
      "<class 'pandas.core.frame.DataFrame'>\n",
      "RangeIndex: 4000 entries, 0 to 3999\n",
      "Data columns (total 2 columns):\n",
      " #   Column          Non-Null Count  Dtype \n",
      "---  ------          --------------  ----- \n",
      " 0   observation_id  4000 non-null   object\n",
      " 1   true_class      4000 non-null   bool  \n",
      "dtypes: bool(1), object(1)\n",
      "memory usage: 35.3+ KB\n"
     ]
    }
   ],
   "source": [
    "X_test_1 .info()\n",
    "y_test_1.info()"
   ]
  },
  {
   "cell_type": "code",
   "execution_count": 13,
   "id": "oriented-factor",
   "metadata": {},
   "outputs": [
    {
     "data": {
      "text/html": [
       "<div>\n",
       "<style scoped>\n",
       "    .dataframe tbody tr th:only-of-type {\n",
       "        vertical-align: middle;\n",
       "    }\n",
       "\n",
       "    .dataframe tbody tr th {\n",
       "        vertical-align: top;\n",
       "    }\n",
       "\n",
       "    .dataframe thead th {\n",
       "        text-align: right;\n",
       "    }\n",
       "</style>\n",
       "<table border=\"1\" class=\"dataframe\">\n",
       "  <thead>\n",
       "    <tr style=\"text-align: right;\">\n",
       "      <th></th>\n",
       "      <th>observation_id</th>\n",
       "      <th>Type</th>\n",
       "      <th>Date</th>\n",
       "      <th>Part of a policing operation</th>\n",
       "      <th>Latitude</th>\n",
       "      <th>Longitude</th>\n",
       "      <th>Gender</th>\n",
       "      <th>Age range</th>\n",
       "      <th>Self-defined ethnicity</th>\n",
       "      <th>Officer-defined ethnicity</th>\n",
       "      <th>Legislation</th>\n",
       "      <th>Object of search</th>\n",
       "      <th>station</th>\n",
       "    </tr>\n",
       "  </thead>\n",
       "  <tbody>\n",
       "    <tr>\n",
       "      <th>0</th>\n",
       "      <td>3d931c84-94d3-4a14-869c-b10fef26e9ad</td>\n",
       "      <td>Person search</td>\n",
       "      <td>2020-01-01T00:56:00+00:00</td>\n",
       "      <td>False</td>\n",
       "      <td>NaN</td>\n",
       "      <td>NaN</td>\n",
       "      <td>Male</td>\n",
       "      <td>18-24</td>\n",
       "      <td>White - English/Welsh/Scottish/Northern Irish/...</td>\n",
       "      <td>White</td>\n",
       "      <td>Misuse of Drugs Act 1971 (section 23)</td>\n",
       "      <td>Controlled drugs</td>\n",
       "      <td>nottinghamshire</td>\n",
       "    </tr>\n",
       "    <tr>\n",
       "      <th>1</th>\n",
       "      <td>cf46ed6e-e6bb-4bc9-959d-ef2e5a8162a0</td>\n",
       "      <td>Person search</td>\n",
       "      <td>2020-01-01T01:45:00+00:00</td>\n",
       "      <td>False</td>\n",
       "      <td>NaN</td>\n",
       "      <td>NaN</td>\n",
       "      <td>Male</td>\n",
       "      <td>18-24</td>\n",
       "      <td>White - English/Welsh/Scottish/Northern Irish/...</td>\n",
       "      <td>White</td>\n",
       "      <td>Police and Criminal Evidence Act 1984 (section 1)</td>\n",
       "      <td>Offensive weapons</td>\n",
       "      <td>nottinghamshire</td>\n",
       "    </tr>\n",
       "    <tr>\n",
       "      <th>2</th>\n",
       "      <td>3601e51b-f40a-4466-b884-d9284497462c</td>\n",
       "      <td>Person search</td>\n",
       "      <td>2020-01-01T02:53:14+00:00</td>\n",
       "      <td>NaN</td>\n",
       "      <td>NaN</td>\n",
       "      <td>NaN</td>\n",
       "      <td>Male</td>\n",
       "      <td>18-24</td>\n",
       "      <td>Other ethnic group - Any other ethnic group</td>\n",
       "      <td>White</td>\n",
       "      <td>Police and Criminal Evidence Act 1984 (section 1)</td>\n",
       "      <td>Stolen goods</td>\n",
       "      <td>city-of-london</td>\n",
       "    </tr>\n",
       "    <tr>\n",
       "      <th>3</th>\n",
       "      <td>95dae6a9-6775-4862-815f-61cf1b586384</td>\n",
       "      <td>Person search</td>\n",
       "      <td>2020-01-01T04:43:00+00:00</td>\n",
       "      <td>True</td>\n",
       "      <td>NaN</td>\n",
       "      <td>NaN</td>\n",
       "      <td>Female</td>\n",
       "      <td>18-24</td>\n",
       "      <td>Other ethnic group - Not stated</td>\n",
       "      <td>Mixed</td>\n",
       "      <td>Misuse of Drugs Act 1971 (section 23)</td>\n",
       "      <td>Controlled drugs</td>\n",
       "      <td>nottinghamshire</td>\n",
       "    </tr>\n",
       "    <tr>\n",
       "      <th>4</th>\n",
       "      <td>467c4766-3a3f-489d-bf09-5a698748499e</td>\n",
       "      <td>Person search</td>\n",
       "      <td>2020-01-01T05:08:30+00:00</td>\n",
       "      <td>NaN</td>\n",
       "      <td>51.512598</td>\n",
       "      <td>-0.084967</td>\n",
       "      <td>Male</td>\n",
       "      <td>10-17</td>\n",
       "      <td>Other ethnic group - Not stated</td>\n",
       "      <td>Black</td>\n",
       "      <td>Misuse of Drugs Act 1971 (section 23)</td>\n",
       "      <td>Controlled drugs</td>\n",
       "      <td>city-of-london</td>\n",
       "    </tr>\n",
       "  </tbody>\n",
       "</table>\n",
       "</div>"
      ],
      "text/plain": [
       "                         observation_id           Type  \\\n",
       "0  3d931c84-94d3-4a14-869c-b10fef26e9ad  Person search   \n",
       "1  cf46ed6e-e6bb-4bc9-959d-ef2e5a8162a0  Person search   \n",
       "2  3601e51b-f40a-4466-b884-d9284497462c  Person search   \n",
       "3  95dae6a9-6775-4862-815f-61cf1b586384  Person search   \n",
       "4  467c4766-3a3f-489d-bf09-5a698748499e  Person search   \n",
       "\n",
       "                        Date Part of a policing operation   Latitude  \\\n",
       "0  2020-01-01T00:56:00+00:00                        False        NaN   \n",
       "1  2020-01-01T01:45:00+00:00                        False        NaN   \n",
       "2  2020-01-01T02:53:14+00:00                          NaN        NaN   \n",
       "3  2020-01-01T04:43:00+00:00                         True        NaN   \n",
       "4  2020-01-01T05:08:30+00:00                          NaN  51.512598   \n",
       "\n",
       "   Longitude  Gender Age range  \\\n",
       "0        NaN    Male     18-24   \n",
       "1        NaN    Male     18-24   \n",
       "2        NaN    Male     18-24   \n",
       "3        NaN  Female     18-24   \n",
       "4  -0.084967    Male     10-17   \n",
       "\n",
       "                              Self-defined ethnicity  \\\n",
       "0  White - English/Welsh/Scottish/Northern Irish/...   \n",
       "1  White - English/Welsh/Scottish/Northern Irish/...   \n",
       "2        Other ethnic group - Any other ethnic group   \n",
       "3                    Other ethnic group - Not stated   \n",
       "4                    Other ethnic group - Not stated   \n",
       "\n",
       "  Officer-defined ethnicity  \\\n",
       "0                     White   \n",
       "1                     White   \n",
       "2                     White   \n",
       "3                     Mixed   \n",
       "4                     Black   \n",
       "\n",
       "                                         Legislation   Object of search  \\\n",
       "0              Misuse of Drugs Act 1971 (section 23)   Controlled drugs   \n",
       "1  Police and Criminal Evidence Act 1984 (section 1)  Offensive weapons   \n",
       "2  Police and Criminal Evidence Act 1984 (section 1)       Stolen goods   \n",
       "3              Misuse of Drugs Act 1971 (section 23)   Controlled drugs   \n",
       "4              Misuse of Drugs Act 1971 (section 23)   Controlled drugs   \n",
       "\n",
       "           station  \n",
       "0  nottinghamshire  \n",
       "1  nottinghamshire  \n",
       "2   city-of-london  \n",
       "3  nottinghamshire  \n",
       "4   city-of-london  "
      ]
     },
     "execution_count": 13,
     "metadata": {},
     "output_type": "execute_result"
    }
   ],
   "source": [
    "X_test_1.head()"
   ]
  },
  {
   "cell_type": "code",
   "execution_count": 14,
   "id": "stuffed-roman",
   "metadata": {},
   "outputs": [
    {
     "data": {
      "text/html": [
       "<div>\n",
       "<style scoped>\n",
       "    .dataframe tbody tr th:only-of-type {\n",
       "        vertical-align: middle;\n",
       "    }\n",
       "\n",
       "    .dataframe tbody tr th {\n",
       "        vertical-align: top;\n",
       "    }\n",
       "\n",
       "    .dataframe thead th {\n",
       "        text-align: right;\n",
       "    }\n",
       "</style>\n",
       "<table border=\"1\" class=\"dataframe\">\n",
       "  <thead>\n",
       "    <tr style=\"text-align: right;\">\n",
       "      <th></th>\n",
       "      <th>observation_id</th>\n",
       "      <th>true_class</th>\n",
       "    </tr>\n",
       "  </thead>\n",
       "  <tbody>\n",
       "    <tr>\n",
       "      <th>0</th>\n",
       "      <td>3d931c84-94d3-4a14-869c-b10fef26e9ad</td>\n",
       "      <td>False</td>\n",
       "    </tr>\n",
       "    <tr>\n",
       "      <th>1</th>\n",
       "      <td>cf46ed6e-e6bb-4bc9-959d-ef2e5a8162a0</td>\n",
       "      <td>False</td>\n",
       "    </tr>\n",
       "    <tr>\n",
       "      <th>2</th>\n",
       "      <td>3601e51b-f40a-4466-b884-d9284497462c</td>\n",
       "      <td>False</td>\n",
       "    </tr>\n",
       "    <tr>\n",
       "      <th>3</th>\n",
       "      <td>95dae6a9-6775-4862-815f-61cf1b586384</td>\n",
       "      <td>False</td>\n",
       "    </tr>\n",
       "    <tr>\n",
       "      <th>4</th>\n",
       "      <td>467c4766-3a3f-489d-bf09-5a698748499e</td>\n",
       "      <td>False</td>\n",
       "    </tr>\n",
       "  </tbody>\n",
       "</table>\n",
       "</div>"
      ],
      "text/plain": [
       "                         observation_id  true_class\n",
       "0  3d931c84-94d3-4a14-869c-b10fef26e9ad       False\n",
       "1  cf46ed6e-e6bb-4bc9-959d-ef2e5a8162a0       False\n",
       "2  3601e51b-f40a-4466-b884-d9284497462c       False\n",
       "3  95dae6a9-6775-4862-815f-61cf1b586384       False\n",
       "4  467c4766-3a3f-489d-bf09-5a698748499e       False"
      ]
     },
     "execution_count": 14,
     "metadata": {},
     "output_type": "execute_result"
    }
   ],
   "source": [
    "y_test_1.head()"
   ]
  },
  {
   "cell_type": "code",
   "execution_count": 15,
   "id": "solved-albert",
   "metadata": {},
   "outputs": [],
   "source": [
    "# columns = ['observation_id', 'Type', 'Date', 'Part of a policing operation', 'Latitude', 'Longitude', 'Gender', 'Age range', \n",
    "#            'Officer-defined ethnicity','Legislation','Object of search','station']\n"
   ]
  },
  {
   "cell_type": "code",
   "execution_count": 16,
   "id": "environmental-division",
   "metadata": {},
   "outputs": [
    {
     "data": {
      "text/plain": [
       "False    4000\n",
       "Name: observation_id, dtype: int64"
      ]
     },
     "execution_count": 16,
     "metadata": {},
     "output_type": "execute_result"
    }
   ],
   "source": [
    "# no duplicate observation_id\n",
    "X_test_1['observation_id'].duplicated().value_counts()"
   ]
  },
  {
   "cell_type": "code",
   "execution_count": 17,
   "id": "small-nation",
   "metadata": {},
   "outputs": [
    {
     "data": {
      "text/plain": [
       "False    4000\n",
       "dtype: int64"
      ]
     },
     "execution_count": 17,
     "metadata": {},
     "output_type": "execute_result"
    }
   ],
   "source": [
    "# no duplicate lines\n",
    "X_test_1.duplicated().value_counts()"
   ]
  },
  {
   "cell_type": "code",
   "execution_count": null,
   "id": "capital-orbit",
   "metadata": {},
   "outputs": [],
   "source": []
  },
  {
   "cell_type": "code",
   "execution_count": 18,
   "id": "warming-symbol",
   "metadata": {},
   "outputs": [],
   "source": [
    "X_test_1['Date']=pd.to_datetime(X_test_1['Date'], infer_datetime_format=True)\n",
    "\n",
    "# auxiliar Date feature (for temporal analyzis)\n",
    "X_test_1['referencia'] = X_test_1['Date'].dt.year*100 + X_test_1['Date'].dt.month\n",
    "\n",
    "X_test_1['Age range'] = X_test_1['Age range'].str.replace('\"', \"\")\n",
    "\n"
   ]
  },
  {
   "cell_type": "code",
   "execution_count": 19,
   "id": "adjustable-facing",
   "metadata": {},
   "outputs": [],
   "source": [
    "# train['Part of a policing operation'] = train['Part of a policing operation'].fillna(False)\n"
   ]
  },
  {
   "cell_type": "code",
   "execution_count": 20,
   "id": "daily-savannah",
   "metadata": {},
   "outputs": [
    {
     "name": "stdout",
     "output_type": "stream",
     "text": [
      "X_test_1\n",
      "Person search                2975\n",
      "Person and Vehicle search    1025\n",
      "Name: Type, dtype: int64\n",
      "Person search                0.74375\n",
      "Person and Vehicle search    0.25625\n",
      "Name: Type, dtype: float64\n",
      "\n",
      "Train_model\n",
      "person search                228807\n",
      "person and vehicle search     71526\n",
      "vehicle search                  114\n",
      "Name: Type, dtype: int64\n",
      "person search                0.761555\n",
      "person and vehicle search    0.238065\n",
      "vehicle search               0.000379\n",
      "Name: Type, dtype: float64\n"
     ]
    }
   ],
   "source": [
    "print(\"X_test_1\")\n",
    "print(X_test_1['Type'].value_counts(dropna=False))\n",
    "print(X_test_1['Type'].value_counts(dropna=False, normalize=True))\n",
    "\n",
    "print(\"\\nTrain_model\")\n",
    "print(train_model['Type'].value_counts(dropna=False))\n",
    "print(train_model['Type'].value_counts(dropna=False, normalize=True))"
   ]
  },
  {
   "cell_type": "code",
   "execution_count": 21,
   "id": "underlying-caribbean",
   "metadata": {},
   "outputs": [
    {
     "name": "stdout",
     "output_type": "stream",
     "text": [
      "False    2887\n",
      "True     1113\n",
      "Name: true_class, dtype: int64\n"
     ]
    },
    {
     "data": {
      "text/plain": [
       "False    0.72175\n",
       "True     0.27825\n",
       "Name: true_class, dtype: float64"
      ]
     },
     "execution_count": 21,
     "metadata": {},
     "output_type": "execute_result"
    }
   ],
   "source": [
    "print(y_test_1['true_class'].value_counts(dropna=False))\n",
    "y_test_1['true_class'].value_counts(dropna=False, normalize=True)\n"
   ]
  },
  {
   "cell_type": "code",
   "execution_count": 22,
   "id": "driven-bronze",
   "metadata": {},
   "outputs": [
    {
     "name": "stdout",
     "output_type": "stream",
     "text": [
      "0    238242\n",
      "1     62205\n",
      "Name: target, dtype: int64\n"
     ]
    },
    {
     "data": {
      "text/plain": [
       "0    0.792958\n",
       "1    0.207042\n",
       "Name: target, dtype: float64"
      ]
     },
     "execution_count": 22,
     "metadata": {},
     "output_type": "execute_result"
    }
   ],
   "source": [
    "print(train_model['target'].value_counts(dropna=False))\n",
    "train_model['target'].value_counts(dropna=False, normalize=True)"
   ]
  },
  {
   "cell_type": "code",
   "execution_count": 23,
   "id": "varying-prisoner",
   "metadata": {},
   "outputs": [
    {
     "data": {
      "image/png": "[encoded data removed]",
      "text/plain": [
       "<Figure size 864x360 with 1 Axes>"
      ]
     },
     "metadata": {
      "needs_background": "light"
     },
     "output_type": "display_data"
    }
   ],
   "source": [
    "plt.figure(figsize=(12,5));\n",
    "X_test_1['referencia'].value_counts(dropna=False).sort_index().plot(kind='bar',color='lightblue');\n",
    "plt.xlabel('Date');\n",
    "plt.ylabel('Count');"
   ]
  },
  {
   "cell_type": "code",
   "execution_count": 24,
   "id": "occupied-pulse",
   "metadata": {},
   "outputs": [
    {
     "name": "stdout",
     "output_type": "stream",
     "text": [
      "X_test_1\n",
      "NaN      1797\n",
      "False    1209\n",
      "True      994\n",
      "Name: Part of a policing operation, dtype: int64\n",
      "NaN      0.44925\n",
      "False    0.30225\n",
      "True     0.24850\n",
      "Name: Part of a policing operation, dtype: float64\n",
      "\n",
      "Train_model\n",
      "False    284173\n",
      "True      16274\n",
      "Name: Part of a policing operation, dtype: int64\n",
      "False    0.945834\n",
      "True     0.054166\n",
      "Name: Part of a policing operation, dtype: float64\n"
     ]
    }
   ],
   "source": [
    "print(\"X_test_1\")\n",
    "print(X_test_1['Part of a policing operation'].value_counts(dropna=False))\n",
    "print(X_test_1['Part of a policing operation'].value_counts(dropna=False, normalize=True))\n",
    "\n",
    "print(\"\\nTrain_model\")\n",
    "print(train_model['Part of a policing operation'].value_counts(dropna=False))\n",
    "print(train_model['Part of a policing operation'].value_counts(dropna=False, normalize=True))"
   ]
  },
  {
   "cell_type": "code",
   "execution_count": 25,
   "id": "sufficient-mileage",
   "metadata": {},
   "outputs": [
    {
     "name": "stdout",
     "output_type": "stream",
     "text": [
      "X_test_1\n",
      "Male      3657\n",
      "Female     329\n",
      "Other       14\n",
      "Name: Gender, dtype: int64\n",
      "Male      0.91425\n",
      "Female    0.08225\n",
      "Other     0.00350\n",
      "Name: Gender, dtype: float64\n",
      "\n",
      "Train_model\n",
      "male      269927\n",
      "female     30248\n",
      "other        272\n",
      "Name: Gender, dtype: int64\n",
      "male      0.898418\n",
      "female    0.100677\n",
      "other     0.000905\n",
      "Name: Gender, dtype: float64\n"
     ]
    }
   ],
   "source": [
    "print(\"X_test_1\")\n",
    "print(X_test_1['Gender'].value_counts(dropna=False))\n",
    "print(X_test_1['Gender'].value_counts(dropna=False, normalize=True))\n",
    "\n",
    "print(\"\\nTrain_model\")\n",
    "print(train_model['Gender'].value_counts(dropna=False))\n",
    "print(train_model['Gender'].value_counts(dropna=False, normalize=True))"
   ]
  },
  {
   "cell_type": "code",
   "execution_count": 26,
   "id": "therapeutic-extent",
   "metadata": {},
   "outputs": [
    {
     "name": "stdout",
     "output_type": "stream",
     "text": [
      "X_test_1\n",
      "18-24       1417\n",
      "25-34       1161\n",
      "over 34      984\n",
      "10-17        430\n",
      "under 10       8\n",
      "Name: Age range, dtype: int64\n",
      "18-24       0.35425\n",
      "25-34       0.29025\n",
      "over 34     0.24600\n",
      "10-17       0.10750\n",
      "under 10    0.00200\n",
      "Name: Age range, dtype: float64\n",
      "\n",
      "Train_model\n",
      "18-24       102548\n",
      "25-34        72861\n",
      "over 34      65541\n",
      "under 18     59497\n",
      "Name: Age range, dtype: int64\n",
      "18-24       0.341318\n",
      "25-34       0.242509\n",
      "over 34     0.218145\n",
      "under 18    0.198028\n",
      "Name: Age range, dtype: float64\n"
     ]
    }
   ],
   "source": [
    "print(\"X_test_1\")\n",
    "print(X_test_1['Age range'].value_counts(dropna=False))\n",
    "print(X_test_1['Age range'].value_counts(dropna=False, normalize=True))\n",
    "\n",
    "print(\"\\nTrain_model\")\n",
    "print(train_model['Age range'].value_counts(dropna=False))\n",
    "print(train_model['Age range'].value_counts(dropna=False, normalize=True))"
   ]
  },
  {
   "cell_type": "code",
   "execution_count": 27,
   "id": "joint-junction",
   "metadata": {},
   "outputs": [
    {
     "name": "stdout",
     "output_type": "stream",
     "text": [
      "X_test_1\n",
      "White    2529\n",
      "Black     654\n",
      "Asian     546\n",
      "Mixed     176\n",
      "Other      95\n",
      "Name: Officer-defined ethnicity, dtype: int64\n",
      "White    0.63225\n",
      "Black    0.16350\n",
      "Asian    0.13650\n",
      "Mixed    0.04400\n",
      "Other    0.02375\n",
      "Name: Officer-defined ethnicity, dtype: float64\n",
      "\n",
      "Train_model\n",
      "white    235885\n",
      "black     32261\n",
      "asian     24533\n",
      "other      7768\n",
      "Name: Officer-defined ethnicity, dtype: int64\n",
      "white    0.785114\n",
      "black    0.107377\n",
      "asian    0.081655\n",
      "other    0.025855\n",
      "Name: Officer-defined ethnicity, dtype: float64\n"
     ]
    }
   ],
   "source": [
    "print(\"X_test_1\")\n",
    "print(X_test_1['Officer-defined ethnicity'].value_counts(dropna=False))\n",
    "print(X_test_1['Officer-defined ethnicity'].value_counts(dropna=False, normalize=True))\n",
    "\n",
    "print(\"\\nTrain_model\")\n",
    "print(train_model['Officer-defined ethnicity'].value_counts(dropna=False))\n",
    "print(train_model['Officer-defined ethnicity'].value_counts(dropna=False, normalize=True))"
   ]
  },
  {
   "cell_type": "code",
   "execution_count": 28,
   "id": "normal-likelihood",
   "metadata": {},
   "outputs": [
    {
     "name": "stdout",
     "output_type": "stream",
     "text": [
      "X_test_1\n",
      "Misuse of Drugs Act 1971 (section 23)                      2696\n",
      "Police and Criminal Evidence Act 1984 (section 1)          1220\n",
      "Criminal Justice Act 1988 (section 139B)                     54\n",
      "Firearms Act 1968 (section 47)                               17\n",
      "Poaching Prevention Act 1862 (section 2)                      8\n",
      "Criminal Justice and Public Order Act 1994 (section 60)       4\n",
      "NaN                                                           1\n",
      "Name: Legislation, dtype: int64\n",
      "Misuse of Drugs Act 1971 (section 23)                      0.67400\n",
      "Police and Criminal Evidence Act 1984 (section 1)          0.30500\n",
      "Criminal Justice Act 1988 (section 139B)                   0.01350\n",
      "Firearms Act 1968 (section 47)                             0.00425\n",
      "Poaching Prevention Act 1862 (section 2)                   0.00200\n",
      "Criminal Justice and Public Order Act 1994 (section 60)    0.00100\n",
      "NaN                                                        0.00025\n",
      "Name: Legislation, dtype: float64\n",
      "\n",
      "Train_model\n",
      "misuse of drugs act 1971 (section 23)                      175438\n",
      "police and criminal evidence act 1984 (section 1)           91781\n",
      "missing infomation                                          27669\n",
      "criminal justice and public order act 1994 (section 60)      2670\n",
      "firearms act 1968 (section 47)                               1830\n",
      "others                                                       1059\n",
      "Name: Legislation, dtype: int64\n",
      "misuse of drugs act 1971 (section 23)                      0.583923\n",
      "police and criminal evidence act 1984 (section 1)          0.305481\n",
      "missing infomation                                         0.092093\n",
      "criminal justice and public order act 1994 (section 60)    0.008887\n",
      "firearms act 1968 (section 47)                             0.006091\n",
      "others                                                     0.003525\n",
      "Name: Legislation, dtype: float64\n"
     ]
    }
   ],
   "source": [
    "print(\"X_test_1\")\n",
    "print(X_test_1['Legislation'].value_counts(dropna=False))\n",
    "print(X_test_1['Legislation'].value_counts(dropna=False, normalize=True))\n",
    "\n",
    "print(\"\\nTrain_model\")\n",
    "print(train_model['Legislation'].value_counts(dropna=False))\n",
    "print(train_model['Legislation'].value_counts(dropna=False, normalize=True))"
   ]
  },
  {
   "cell_type": "code",
   "execution_count": 29,
   "id": "criminal-terminology",
   "metadata": {},
   "outputs": [
    {
     "name": "stdout",
     "output_type": "stream",
     "text": [
      "X_test_1\n",
      "Controlled drugs                       2681\n",
      "Article for use in theft                490\n",
      "Offensive weapons                       384\n",
      "Stolen goods                            363\n",
      "Evidence of offences under the Act       29\n",
      "Articles for use in criminal damage      28\n",
      "Firearms                                 16\n",
      "Game or poaching equipment                8\n",
      "Fireworks                                 1\n",
      "Name: Object of search, dtype: int64\n",
      "Controlled drugs                       0.67025\n",
      "Article for use in theft               0.12250\n",
      "Offensive weapons                      0.09600\n",
      "Stolen goods                           0.09075\n",
      "Evidence of offences under the Act     0.00725\n",
      "Articles for use in criminal damage    0.00700\n",
      "Firearms                               0.00400\n",
      "Game or poaching equipment             0.00200\n",
      "Fireworks                              0.00025\n",
      "Name: Object of search, dtype: float64\n",
      "\n",
      "Train_model\n",
      "controlled drugs                              188985\n",
      "offensive weapons                              35389\n",
      "article for use in theft                       30120\n",
      "stolen goods                                   26615\n",
      "articles for use in criminal damage             6447\n",
      "anything to threaten or harm anyone             4372\n",
      "firearms                                        2934\n",
      "evidence of offences under the act              1904\n",
      "psychoactive substances                         1701\n",
      "fireworks                                       1695\n",
      "detailed object of search unavailable            129\n",
      "game or poaching equipment                        96\n",
      "goods on which duty has not been paid etc.        23\n",
      "evidence of wildlife offences                     21\n",
      "crossbows                                         14\n",
      "seals or hunting equipment                         2\n",
      "Name: Object of search, dtype: int64\n",
      "controlled drugs                              0.629013\n",
      "offensive weapons                             0.117788\n",
      "article for use in theft                      0.100251\n",
      "stolen goods                                  0.088585\n",
      "articles for use in criminal damage           0.021458\n",
      "anything to threaten or harm anyone           0.014552\n",
      "firearms                                      0.009765\n",
      "evidence of offences under the act            0.006337\n",
      "psychoactive substances                       0.005662\n",
      "fireworks                                     0.005642\n",
      "detailed object of search unavailable         0.000429\n",
      "game or poaching equipment                    0.000320\n",
      "goods on which duty has not been paid etc.    0.000077\n",
      "evidence of wildlife offences                 0.000070\n",
      "crossbows                                     0.000047\n",
      "seals or hunting equipment                    0.000007\n",
      "Name: Object of search, dtype: float64\n"
     ]
    }
   ],
   "source": [
    "print(\"X_test_1\")\n",
    "print(X_test_1['Object of search'].value_counts(dropna=False))\n",
    "print(X_test_1['Object of search'].value_counts(dropna=False, normalize=True))\n",
    "\n",
    "print(\"\\nTrain_model\")\n",
    "print(train_model['Object of search'].value_counts(dropna=False))\n",
    "print(train_model['Object of search'].value_counts(dropna=False, normalize=True))"
   ]
  },
  {
   "cell_type": "code",
   "execution_count": 30,
   "id": "modern-narrow",
   "metadata": {},
   "outputs": [
    {
     "name": "stdout",
     "output_type": "stream",
     "text": [
      "nottinghamshire    2203\n",
      "city-of-london     1272\n",
      "durham              494\n",
      "cambridgeshire       31\n",
      "Name: station, dtype: int64\n"
     ]
    },
    {
     "data": {
      "text/plain": [
       "nottinghamshire    0.55075\n",
       "city-of-london     0.31800\n",
       "durham             0.12350\n",
       "cambridgeshire     0.00775\n",
       "Name: station, dtype: float64"
      ]
     },
     "execution_count": 30,
     "metadata": {},
     "output_type": "execute_result"
    }
   ],
   "source": [
    "print(X_test_1['station'].value_counts(dropna=False))\n",
    "X_test_1['station'].value_counts(dropna=False, normalize=True)"
   ]
  },
  {
   "cell_type": "code",
   "execution_count": null,
   "id": "stretch-rugby",
   "metadata": {},
   "outputs": [],
   "source": [
    " "
   ]
  },
  {
   "cell_type": "markdown",
   "id": "upper-beast",
   "metadata": {},
   "source": [
    "## desempenho do modelo "
   ]
  },
  {
   "cell_type": "code",
   "execution_count": 31,
   "id": "canadian-falls",
   "metadata": {},
   "outputs": [],
   "source": [
    "with open('columns.json') as fh:\n",
    "    columns = json.load(fh)\n",
    "\n",
    "pipeline = joblib.load('pipeline.pickle')\n",
    "\n",
    "with open('dtypes.pickle', 'rb') as fh:\n",
    "    dtypes = pickle.load(fh)"
   ]
  },
  {
   "cell_type": "code",
   "execution_count": 32,
   "id": "angry-yellow",
   "metadata": {},
   "outputs": [],
   "source": [
    "X_test_1['Date']=pd.to_datetime(X_test_1['Date'], infer_datetime_format=True)\n",
    "X_test_1['hour'] = X_test_1['Date'].dt.hour\n",
    "X_test_1['month'] = X_test_1['Date'].dt.month\n",
    "X_test_1['day_of_week'] = X_test_1['Date'].dt.day_name()"
   ]
  },
  {
   "cell_type": "code",
   "execution_count": 33,
   "id": "former-institute",
   "metadata": {},
   "outputs": [],
   "source": [
    "# print(X_test_1['hour'].value_counts())\n",
    "# print(X_test_1['month'].value_counts())\n",
    "# print(X_test_1['day_of_week'].value_counts())"
   ]
  },
  {
   "cell_type": "code",
   "execution_count": 34,
   "id": "artistic-progress",
   "metadata": {},
   "outputs": [
    {
     "data": {
      "text/plain": [
       "misuse of drugs act 1971 (section 23)                      2696\n",
       "police and criminal evidence act 1984 (section 1)          1220\n",
       "others                                                       62\n",
       "firearms act 1968 (section 47)                               17\n",
       "criminal justice and public order act 1994 (section 60)       4\n",
       "missing infomation                                            1\n",
       "Name: Legislation, dtype: int64"
      ]
     },
     "execution_count": 34,
     "metadata": {},
     "output_type": "execute_result"
    }
   ],
   "source": [
    "X_test_1['Legislation']=X_test_1['Legislation'].fillna('missing infomation')\n",
    "X_test_1['Legislation'] = X_test_1['Legislation'].apply(lambda x: str(x).lower())\n",
    "\n",
    "legislation_categories = ['misuse of drugs act 1971 (section 23)', 'police and criminal evidence act 1984 (section 1)', \n",
    "                          'criminal justice and public order act 1994 (section 60)', 'firearms act 1968 (section 47)'\n",
    "                          ,'missing infomation'\n",
    "                         ]\n",
    "\n",
    "mask=(~X_test_1['Legislation'].isin(legislation_categories))\n",
    "X_test_1.loc[mask, 'Legislation']='others'\n",
    "\n",
    "X_test_1['Legislation'].value_counts()"
   ]
  },
  {
   "cell_type": "code",
   "execution_count": 35,
   "id": "conceptual-windows",
   "metadata": {},
   "outputs": [],
   "source": [
    "X_test_1['Object of search'] = X_test_1['Object of search'].apply(lambda x: str(x).lower())\n",
    "X_test_1['Type'] = X_test_1['Type'].apply(lambda x: str(x).lower())\n",
    "X_test_1['Age range'] = X_test_1['Age range'].apply(lambda x: str(x).lower())\n",
    "X_test_1['Gender'] = X_test_1['Gender'].apply(lambda x: str(x).lower())\n",
    "X_test_1['Officer-defined ethnicity'] = X_test_1['Officer-defined ethnicity'].apply(lambda x: str(x).lower())"
   ]
  },
  {
   "cell_type": "code",
   "execution_count": 36,
   "id": "random-progressive",
   "metadata": {},
   "outputs": [],
   "source": [
    "X_test_1['Latitude'] = X_test_1['Longitude'].fillna(0)\n",
    "X_test_1['Longitude'] = X_test_1['Longitude'].fillna(50)"
   ]
  },
  {
   "cell_type": "code",
   "execution_count": 37,
   "id": "coupled-dominican",
   "metadata": {},
   "outputs": [],
   "source": [
    "X_test_1['Age range']=X_test_1['Age range'].replace({'under 10': 'under 18', '10-17': 'under 18'})"
   ]
  },
  {
   "cell_type": "code",
   "execution_count": 38,
   "id": "worthy-coast",
   "metadata": {},
   "outputs": [],
   "source": [
    "X_test_1['Officer-defined ethnicity'] = X_test_1['Officer-defined ethnicity'].replace({'mixed': 'other'})"
   ]
  },
  {
   "cell_type": "code",
   "execution_count": 39,
   "id": "union-twenty",
   "metadata": {},
   "outputs": [],
   "source": [
    "X_test_1_pred = X_test_1[columns].astype(dtypes)"
   ]
  },
  {
   "cell_type": "code",
   "execution_count": 40,
   "id": "guilty-think",
   "metadata": {},
   "outputs": [],
   "source": [
    "def ajuste_trueclass(obs):\n",
    "    if obs == True:\n",
    "        return 1\n",
    "    else:\n",
    "        return 0\n",
    "    \n",
    "y_real = y_test_1['true_class'].apply(ajuste_trueclass)"
   ]
  },
  {
   "cell_type": "code",
   "execution_count": 41,
   "id": "technological-proxy",
   "metadata": {},
   "outputs": [
    {
     "data": {
      "text/plain": [
       "0.5624639187160836"
      ]
     },
     "execution_count": 41,
     "metadata": {},
     "output_type": "execute_result"
    }
   ],
   "source": [
    "# now get ourselves an actual prediction of the positive class\n",
    "\n",
    "y_pred = pipeline.predict(X_test_1_pred)\n",
    "y_proba = pipeline.predict_proba(X_test_1_pred)\n",
    "\n",
    "roc_auc_score(y_real, y_pred)"
   ]
  },
  {
   "cell_type": "code",
   "execution_count": 42,
   "id": "confirmed-struggle",
   "metadata": {},
   "outputs": [
    {
     "data": {
      "text/plain": [
       "array([1, 0, 0, ..., 0, 1, 1])"
      ]
     },
     "execution_count": 42,
     "metadata": {},
     "output_type": "execute_result"
    }
   ],
   "source": [
    "y_pred"
   ]
  },
  {
   "cell_type": "code",
   "execution_count": 43,
   "id": "final-mercy",
   "metadata": {},
   "outputs": [
    {
     "data": {
      "text/plain": [
       "array([[0.40568719, 0.59431281],\n",
       "       [0.73062589, 0.26937411],\n",
       "       [0.73406226, 0.26593774],\n",
       "       ...,\n",
       "       [0.69879344, 0.30120656],\n",
       "       [0.4364056 , 0.5635944 ],\n",
       "       [0.46892592, 0.53107408]])"
      ]
     },
     "execution_count": 43,
     "metadata": {},
     "output_type": "execute_result"
    }
   ],
   "source": [
    "y_proba"
   ]
  },
  {
   "cell_type": "code",
   "execution_count": 44,
   "id": "hearing-module",
   "metadata": {},
   "outputs": [],
   "source": [
    "def verify_global_success_rate(y_true, y_pred, min_success_rate=0.1):\n",
    "    \"\"\"\n",
    "    Verifies the success rate on a test set is above a provided minimum\n",
    "    \"\"\"\n",
    "    \n",
    "    precision = precision_score(y_true, y_pred, pos_label=1)\n",
    "    is_satisfied = (precision >= min_success_rate)\n",
    "    \n",
    "    global_recall = recall_score(y_true, y_pred, pos_label=1)\n",
    "    \n",
    "    return is_satisfied, precision, global_recall"
   ]
  },
  {
   "cell_type": "code",
   "execution_count": null,
   "id": "comprehensive-archives",
   "metadata": {},
   "outputs": [],
   "source": []
  },
  {
   "cell_type": "code",
   "execution_count": 45,
   "id": "raised-plain",
   "metadata": {},
   "outputs": [
    {
     "name": "stdout",
     "output_type": "stream",
     "text": [
      "Global Precision: (True, 0.3217692974848222)\n",
      "Global Recall: 0.6666666666666666\n"
     ]
    }
   ],
   "source": [
    "is_verified, success_rate, global_recall = verify_global_success_rate(y_real,y_pred)\n",
    "\n",
    "print(\"Global Precision: {}\".format((is_verified, success_rate)))\n",
    "print(\"Global Recall: {}\".format(global_recall))"
   ]
  },
  {
   "cell_type": "code",
   "execution_count": 46,
   "id": "ordinary-approach",
   "metadata": {},
   "outputs": [],
   "source": [
    "def verify_station_success_rate(df, y_pred,y_real):\n",
    "    \"\"\"\n",
    "    Verifies the success rate per station\n",
    "    \"\"\"\n",
    "    stations = df['station'].unique()\n",
    "    \n",
    "    precisions = {}\n",
    "    recalls = {}\n",
    "    \n",
    "    for station in stations:\n",
    "        mask = (df['station']==station)\n",
    "            \n",
    "        precisions[station] = precision_score(y_real[mask], y_pred[mask], pos_label=1)\n",
    "        recalls[station] = recall_score(y_real[mask], y_pred[mask], pos_label=1)\n",
    "    \n",
    "    return precisions, recalls\n"
   ]
  },
  {
   "cell_type": "code",
   "execution_count": 47,
   "id": "british-electricity",
   "metadata": {},
   "outputs": [
    {
     "name": "stdout",
     "output_type": "stream",
     "text": [
      "Precision: {'nottinghamshire': 0.2949586155003762, 'city-of-london': 0.2661971830985915, 'durham': 0.639344262295082, 'cambridgeshire': 0.21739130434782608}\n",
      "Recall: {'nottinghamshire': 0.7509578544061303, 'city-of-london': 0.6136363636363636, 'durham': 0.5611510791366906, 'cambridgeshire': 1.0}\n"
     ]
    }
   ],
   "source": [
    "p, r = verify_station_success_rate(X_test_1,y_pred,y_real)\n",
    "\n",
    "print(\"Precision: {}\".format(p))\n",
    "print(\"Recall: {}\".format(r))"
   ]
  },
  {
   "cell_type": "code",
   "execution_count": 48,
   "id": "reserved-volleyball",
   "metadata": {},
   "outputs": [],
   "source": [
    "def verify_success_rate_objective_station(X_test, y_true, y_pred, sensitive_column='Object of search', \n",
    "                                          min_success_rate=0.1, min_samples=10):\n",
    "    \"\"\"\n",
    "    Verifies that success rate per station and search objective is higher than 10%\n",
    "    \"\"\"\n",
    "#     exclusion_list = ['articles for use in criminal damage','anything to threaten or harm anyone','fireworks',\n",
    "#                       'detailed object of search unavailable','game or poaching equipment',\n",
    "#                       'goods on which duty has not been paid etc.','evidence of wildlife offences',\n",
    "#                       'crossbows','seals or hunting equipment',\n",
    "#                       'firearms','evidence of offences under the act','psychoactive substances']\n",
    "    exclusion_list = []\n",
    "    \n",
    "    departments = X_test['station'].unique()\n",
    "    sensitive_classes = X_test[sensitive_column].unique()\n",
    "    \n",
    "    is_satisfied = True\n",
    "    problematic_departments = []\n",
    "    good_deparments = []\n",
    "    ignored_departments = []\n",
    "    for department in departments:\n",
    "        precisions = {}\n",
    "        for sensitive_class in sensitive_classes:\n",
    "            if sensitive_class not in exclusion_list:\n",
    "                mask = (X_test[sensitive_column] == sensitive_class) & (X_test['station'] == department)\n",
    "                if np.sum(mask) > min_samples:\n",
    "                    precisions[sensitive_class] = precision_score(y_true[mask], y_pred[mask], pos_label=1)\n",
    "                \n",
    "        if len(precisions) > 1:    \n",
    "            precision_min = np.min(list(precisions.values()))\n",
    "\n",
    "            if precision_min < min_success_rate:\n",
    "                is_satisfied = False\n",
    "                problematic_departments.append((department, precision_min, precisions))\n",
    "            else:\n",
    "                good_deparments.append((department, precision_min, precisions))\n",
    "        else:\n",
    "            ignored_departments.append((department, None, []))\n",
    "    \n",
    "    global_precisions = {}\n",
    "    for department in departments:\n",
    "        mask = (X_test['station'] == department)\n",
    "        if np.sum(mask) > min_samples:\n",
    "            global_precisions[department] = precision_score(y_true[mask], y_pred[mask])\n",
    "            \n",
    "    global_precisions_objective = {}\n",
    "    for obj in sensitive_classes:\n",
    "        mask = (X_test[sensitive_column] == obj)\n",
    "        if np.sum(mask) > min_samples:\n",
    "            global_precisions_objective[obj] = precision_score(y_true[mask], y_pred[mask])\n",
    "    \n",
    "        \n",
    "    return is_satisfied, problematic_departments, good_deparments, ignored_departments, global_precisions,global_precisions_objective"
   ]
  },
  {
   "cell_type": "code",
   "execution_count": 49,
   "id": "chronic-property",
   "metadata": {},
   "outputs": [
    {
     "name": "stdout",
     "output_type": "stream",
     "text": [
      "Requirement failed 😢\n",
      "Num problematic stations: 3\n",
      "Num good stations: 0\n",
      "Num ignored departments: 1\n",
      "\n",
      "Object of search rates: {'controlled drugs': 0.3243006993006993, 'offensive weapons': 0.0, 'stolen goods': 0.0, 'article for use in theft': 0.0, 'articles for use in criminal damage': 0.0, 'evidence of offences under the act': 0.0, 'firearms': 0.0}\n",
      "\n",
      "Station rates: {'nottinghamshire': 0.2949586155003762, 'city-of-london': 0.2661971830985915, 'durham': 0.639344262295082, 'cambridgeshire': 0.21739130434782608}\n"
     ]
    }
   ],
   "source": [
    "is_satisfied, problematic_departments, good_deparments, ignored_departments,global_precisions, global_precisions_objective = verify_success_rate_objective_station(X_test_1, y_real, y_pred, min_success_rate=0.1)\n",
    "\n",
    "if not is_satisfied:\n",
    "    print(\"Requirement failed 😢\")\n",
    "    print(\"Num problematic stations: {}\".format(len(problematic_departments)))\n",
    "    print(\"Num good stations: {}\".format(len(good_deparments)))\n",
    "    print(\"Num ignored departments: {}\".format(len(ignored_departments)))\n",
    "    print(\"\\nObject of search rates: {}\".format(global_precisions_objective))\n",
    "    print(\"\\nStation rates: {}\".format(global_precisions))"
   ]
  },
  {
   "cell_type": "code",
   "execution_count": 50,
   "id": "greek-mercury",
   "metadata": {},
   "outputs": [
    {
     "data": {
      "text/plain": [
       "[('nottinghamshire',\n",
       "  0.0,\n",
       "  {'controlled drugs': 0.2949586155003762,\n",
       "   'offensive weapons': 0.0,\n",
       "   'stolen goods': 0.0,\n",
       "   'article for use in theft': 0.0}),\n",
       " ('city-of-london',\n",
       "  0.0,\n",
       "  {'controlled drugs': 0.2723342939481268,\n",
       "   'offensive weapons': 0.0,\n",
       "   'stolen goods': 0.0,\n",
       "   'article for use in theft': 0.0,\n",
       "   'evidence of offences under the act': 0.0}),\n",
       " ('durham',\n",
       "  0.0,\n",
       "  {'controlled drugs': 0.6446280991735537,\n",
       "   'offensive weapons': 0.0,\n",
       "   'stolen goods': 0.0,\n",
       "   'article for use in theft': 0.0})]"
      ]
     },
     "execution_count": 50,
     "metadata": {},
     "output_type": "execute_result"
    }
   ],
   "source": [
    "problematic_departments"
   ]
  },
  {
   "cell_type": "code",
   "execution_count": 51,
   "id": "mysterious-genre",
   "metadata": {},
   "outputs": [],
   "source": [
    "def verify_no_discrimination(X_test, y_true, y_pred, sensitive_column, max_diff=0.05, min_samples=50):\n",
    "    \"\"\"\n",
    "    Verifies that no station has discrimination in between protected classes\n",
    "    \"\"\"\n",
    "    exclusion_class = ['Other', 'other']\n",
    "    \n",
    "    departments = X_test['station'].unique()\n",
    "    sensitive_classes = X_test[sensitive_column].unique()\n",
    "    \n",
    "    is_satisfied = True\n",
    "    problematic_departments = []\n",
    "    good_deparments = []\n",
    "    ignored_departments = []\n",
    "    for department in departments:\n",
    "        precisions = {}\n",
    "        for sensitive_class in sensitive_classes:\n",
    "            if sensitive_class not in exclusion_class:\n",
    "                mask = (X_test[sensitive_column] == sensitive_class) & (X_test['station'] == department)\n",
    "                if np.sum(mask) > min_samples:\n",
    "                    precisions[sensitive_class] = precision_score(y_true[mask], y_pred[mask], pos_label=1)\n",
    "                \n",
    "        if len(precisions) > 1:    \n",
    "            diff = np.max(list(precisions.values())) - np.min(list(precisions.values()))\n",
    "\n",
    "            if diff > max_diff:\n",
    "                is_satisfied = False\n",
    "                problematic_departments.append((department, diff, precisions))\n",
    "            else:\n",
    "                good_deparments.append((department, diff, precisions))\n",
    "        else:\n",
    "            ignored_departments.append((department, None, []))\n",
    "    \n",
    "    global_precisions = {}\n",
    "    for sensitive_class in sensitive_classes:\n",
    "        mask = (X_test[sensitive_column] == sensitive_class)\n",
    "        if np.sum(mask) > min_samples:\n",
    "            global_precisions[sensitive_class] = precision_score(y_true[mask], y_pred[mask], pos_label=1)\n",
    "    \n",
    "    if len(precisions) > 1:    \n",
    "        diff = np.max(list(precisions.values())) - np.min(list(precisions.values()))\n",
    "        if diff > max_diff:\n",
    "            is_satisfied = False\n",
    "        \n",
    "    return is_satisfied, problematic_departments, good_deparments, ignored_departments, global_precisions\n"
   ]
  },
  {
   "cell_type": "code",
   "execution_count": null,
   "id": "descending-timer",
   "metadata": {},
   "outputs": [],
   "source": []
  },
  {
   "cell_type": "code",
   "execution_count": 52,
   "id": "another-complexity",
   "metadata": {},
   "outputs": [
    {
     "name": "stdout",
     "output_type": "stream",
     "text": [
      "\n",
      "Ethnicity\n",
      "Requirement failed 😢\n",
      "Global rates: {'white': 0.37585421412300685, 'other': 0.23952095808383234, 'black': 0.26941747572815533, 'asian': 0.23414634146341465}\n",
      "Num problematic departments: 2\n",
      "Num good departments: 0\n",
      "Num ignored departments: 2\n",
      "avg diff: 0.08576206086849611\n",
      "\n",
      "\n",
      "Gender\n",
      "Requirement failed 😢\n",
      "Global rates: {'male': 0.324577861163227, 'female': 0.25609756097560976}\n",
      "Num problematic departments: 2\n",
      "Num good departments: 1\n",
      "Num ignored departments: 1\n",
      "avg diff: 0.10047222536080044\n"
     ]
    }
   ],
   "source": [
    "is_satisfied, problematic_departments_eth, good_deparments_eth, ignored_departments_eth, global_precisions_eth = verify_no_discrimination(\n",
    "    X_test_1, y_real, y_pred, 'Officer-defined ethnicity', 0.05)\n",
    "\n",
    "print(\"\\nEthnicity\")\n",
    "\n",
    "if not is_satisfied:\n",
    "    print(\"Requirement failed 😢\")\n",
    "    print(\"Global rates: {}\".format(global_precisions_eth))\n",
    "    print(\"Num problematic departments: {}\".format(len(problematic_departments_eth)))\n",
    "    print(\"Num good departments: {}\".format(len(good_deparments_eth)))\n",
    "    print(\"Num ignored departments: {}\".format(len(ignored_departments_eth)))\n",
    "\n",
    "    print(\"avg diff:\", np.mean([p[1] for p in problematic_departments_eth]))\n",
    "    \n",
    "    \n",
    "is_satisfied, problematic_departments_g, good_deparments_g, ignored_departments_g, global_precisions_g = verify_no_discrimination(\n",
    "    X_test_1, y_real, y_pred, 'Gender', 0.05)\n",
    "\n",
    "print(\"\\n\\nGender\")\n",
    "\n",
    "if not is_satisfied:\n",
    "    print(\"Requirement failed 😢\")\n",
    "    print(\"Global rates: {}\".format(global_precisions_g))\n",
    "    print(\"Num problematic departments: {}\".format(len(problematic_departments_g)))\n",
    "    print(\"Num good departments: {}\".format(len(good_deparments_g)))\n",
    "    print(\"Num ignored departments: {}\".format(len(ignored_departments_g)))\n",
    "    \n",
    "    print(\"avg diff:\", np.mean([p[1] for p in problematic_departments_g]))"
   ]
  },
  {
   "cell_type": "code",
   "execution_count": 53,
   "id": "floral-secretary",
   "metadata": {},
   "outputs": [
    {
     "data": {
      "text/plain": [
       "[('city-of-london',\n",
       "  0.08980322003577818,\n",
       "  {'male': 0.2744186046511628, 'female': 0.18461538461538463}),\n",
       " ('durham',\n",
       "  0.11114123068582271,\n",
       "  {'male': 0.6405529953917051, 'female': 0.5294117647058824})]"
      ]
     },
     "execution_count": 53,
     "metadata": {},
     "output_type": "execute_result"
    }
   ],
   "source": [
    "problematic_departments_g"
   ]
  },
  {
   "cell_type": "code",
   "execution_count": 54,
   "id": "based-runner",
   "metadata": {},
   "outputs": [
    {
     "data": {
      "text/plain": [
       "[('nottinghamshire',\n",
       "  0.04141647270522425,\n",
       "  {'male': 0.297514033680834, 'female': 0.25609756097560976})]"
      ]
     },
     "execution_count": 54,
     "metadata": {},
     "output_type": "execute_result"
    }
   ],
   "source": [
    "good_deparments_g"
   ]
  },
  {
   "cell_type": "code",
   "execution_count": 55,
   "id": "developed-astronomy",
   "metadata": {},
   "outputs": [
    {
     "data": {
      "text/plain": [
       "[('nottinghamshire',\n",
       "  0.08286332017296485,\n",
       "  {'white': 0.3236040609137056,\n",
       "   'black': 0.28205128205128205,\n",
       "   'asian': 0.24074074074074073}),\n",
       " ('city-of-london',\n",
       "  0.08866080156402736,\n",
       "  {'white': 0.3090909090909091,\n",
       "   'black': 0.2558139534883721,\n",
       "   'asian': 0.22043010752688172})]"
      ]
     },
     "execution_count": 55,
     "metadata": {},
     "output_type": "execute_result"
    }
   ],
   "source": [
    "problematic_departments_eth"
   ]
  },
  {
   "cell_type": "code",
   "execution_count": 56,
   "id": "front-sequence",
   "metadata": {},
   "outputs": [
    {
     "data": {
      "text/plain": [
       "[('durham', None, []), ('cambridgeshire', None, [])]"
      ]
     },
     "execution_count": 56,
     "metadata": {},
     "output_type": "execute_result"
    }
   ],
   "source": [
    "ignored_departments_eth"
   ]
  },
  {
   "cell_type": "code",
   "execution_count": 57,
   "id": "pediatric-translator",
   "metadata": {},
   "outputs": [
    {
     "data": {
      "text/plain": [
       "[('nottinghamshire',\n",
       "  0.08286332017296485,\n",
       "  {'white': 0.3236040609137056,\n",
       "   'black': 0.28205128205128205,\n",
       "   'asian': 0.24074074074074073}),\n",
       " ('city-of-london',\n",
       "  0.08866080156402736,\n",
       "  {'white': 0.3090909090909091,\n",
       "   'black': 0.2558139534883721,\n",
       "   'asian': 0.22043010752688172})]"
      ]
     },
     "execution_count": 57,
     "metadata": {},
     "output_type": "execute_result"
    }
   ],
   "source": [
    "problematic_departments_eth"
   ]
  },
  {
   "cell_type": "markdown",
   "id": "lucky-france",
   "metadata": {},
   "source": [
    "## tentando entender diferenças por station"
   ]
  },
  {
   "cell_type": "code",
   "execution_count": 132,
   "id": "instant-bristol",
   "metadata": {},
   "outputs": [
    {
     "name": "stdout",
     "output_type": "stream",
     "text": [
      "<class 'pandas.core.frame.DataFrame'>\n",
      "RangeIndex: 660611 entries, 0 to 660610\n",
      "Data columns (total 16 columns):\n",
      " #   Column                                    Non-Null Count   Dtype  \n",
      "---  ------                                    --------------   -----  \n",
      " 0   observation_id                            660611 non-null  object \n",
      " 1   Type                                      660611 non-null  object \n",
      " 2   Date                                      660611 non-null  object \n",
      " 3   Part of a policing operation              507047 non-null  object \n",
      " 4   Latitude                                  548295 non-null  float64\n",
      " 5   Longitude                                 548295 non-null  float64\n",
      " 6   Gender                                    660611 non-null  object \n",
      " 7   Age range                                 660611 non-null  object \n",
      " 8   Self-defined ethnicity                    655037 non-null  object \n",
      " 9   Officer-defined ethnicity                 660611 non-null  object \n",
      " 10  Legislation                               632671 non-null  object \n",
      " 11  Object of search                          660611 non-null  object \n",
      " 12  Outcome                                   660611 non-null  object \n",
      " 13  Outcome linked to object of search        187511 non-null  object \n",
      " 14  Removal of more than just outer clothing  234062 non-null  object \n",
      " 15  station                                   660611 non-null  object \n",
      "dtypes: float64(2), object(14)\n",
      "memory usage: 80.6+ MB\n"
     ]
    }
   ],
   "source": [
    "train = pd.read_csv('data/train.csv')\n",
    "train.info()"
   ]
  },
  {
   "cell_type": "code",
   "execution_count": 126,
   "id": "usual-ethics",
   "metadata": {},
   "outputs": [
    {
     "name": "stdout",
     "output_type": "stream",
     "text": [
      "<class 'pandas.core.frame.DataFrame'>\n",
      "Int64Index: 7103 entries, 27647 to 657099\n",
      "Data columns (total 16 columns):\n",
      " #   Column                                    Non-Null Count  Dtype  \n",
      "---  ------                                    --------------  -----  \n",
      " 0   observation_id                            7103 non-null   object \n",
      " 1   Type                                      7103 non-null   object \n",
      " 2   Date                                      7103 non-null   object \n",
      " 3   Part of a policing operation              7103 non-null   object \n",
      " 4   Latitude                                  5201 non-null   float64\n",
      " 5   Longitude                                 5201 non-null   float64\n",
      " 6   Gender                                    7103 non-null   object \n",
      " 7   Age range                                 7103 non-null   object \n",
      " 8   Self-defined ethnicity                    7101 non-null   object \n",
      " 9   Officer-defined ethnicity                 7103 non-null   object \n",
      " 10  Legislation                               7103 non-null   object \n",
      " 11  Object of search                          7103 non-null   object \n",
      " 12  Outcome                                   7103 non-null   object \n",
      " 13  Outcome linked to object of search        2714 non-null   object \n",
      " 14  Removal of more than just outer clothing  7103 non-null   object \n",
      " 15  station                                   7103 non-null   object \n",
      "dtypes: float64(2), object(14)\n",
      "memory usage: 943.4+ KB\n"
     ]
    }
   ],
   "source": [
    "nottinghamshire_train = train[train['station']=='nottinghamshire']\n",
    "nottinghamshire_train.info()"
   ]
  },
  {
   "cell_type": "code",
   "execution_count": 128,
   "id": "packed-civilization",
   "metadata": {},
   "outputs": [
    {
     "name": "stdout",
     "output_type": "stream",
     "text": [
      "<class 'pandas.core.frame.DataFrame'>\n",
      "Int64Index: 3575 entries, 27371 to 656431\n",
      "Data columns (total 16 columns):\n",
      " #   Column                                    Non-Null Count  Dtype  \n",
      "---  ------                                    --------------  -----  \n",
      " 0   observation_id                            3575 non-null   object \n",
      " 1   Type                                      3575 non-null   object \n",
      " 2   Date                                      3575 non-null   object \n",
      " 3   Part of a policing operation              0 non-null      object \n",
      " 4   Latitude                                  2339 non-null   float64\n",
      " 5   Longitude                                 2339 non-null   float64\n",
      " 6   Gender                                    3575 non-null   object \n",
      " 7   Age range                                 3575 non-null   object \n",
      " 8   Self-defined ethnicity                    3574 non-null   object \n",
      " 9   Officer-defined ethnicity                 3575 non-null   object \n",
      " 10  Legislation                               3574 non-null   object \n",
      " 11  Object of search                          3575 non-null   object \n",
      " 12  Outcome                                   3575 non-null   object \n",
      " 13  Outcome linked to object of search        3486 non-null   object \n",
      " 14  Removal of more than just outer clothing  3561 non-null   object \n",
      " 15  station                                   3575 non-null   object \n",
      "dtypes: float64(2), object(14)\n",
      "memory usage: 474.8+ KB\n"
     ]
    }
   ],
   "source": [
    "london_train = train[train['station']=='city-of-london']\n",
    "london_train.info()"
   ]
  },
  {
   "cell_type": "code",
   "execution_count": 129,
   "id": "artificial-helping",
   "metadata": {},
   "outputs": [
    {
     "name": "stdout",
     "output_type": "stream",
     "text": [
      "<class 'pandas.core.frame.DataFrame'>\n",
      "Int64Index: 2778 entries, 6315 to 651136\n",
      "Data columns (total 16 columns):\n",
      " #   Column                                    Non-Null Count  Dtype  \n",
      "---  ------                                    --------------  -----  \n",
      " 0   observation_id                            2778 non-null   object \n",
      " 1   Type                                      2778 non-null   object \n",
      " 2   Date                                      2778 non-null   object \n",
      " 3   Part of a policing operation              0 non-null      object \n",
      " 4   Latitude                                  2778 non-null   float64\n",
      " 5   Longitude                                 2778 non-null   float64\n",
      " 6   Gender                                    2778 non-null   object \n",
      " 7   Age range                                 2778 non-null   object \n",
      " 8   Self-defined ethnicity                    2778 non-null   object \n",
      " 9   Officer-defined ethnicity                 2778 non-null   object \n",
      " 10  Legislation                               2778 non-null   object \n",
      " 11  Object of search                          2778 non-null   object \n",
      " 12  Outcome                                   2778 non-null   object \n",
      " 13  Outcome linked to object of search        2281 non-null   object \n",
      " 14  Removal of more than just outer clothing  2743 non-null   object \n",
      " 15  station                                   2778 non-null   object \n",
      "dtypes: float64(2), object(14)\n",
      "memory usage: 369.0+ KB\n"
     ]
    }
   ],
   "source": [
    "durham_train = train[train['station']=='durham']\n",
    "durham_train.info()"
   ]
  },
  {
   "cell_type": "code",
   "execution_count": 130,
   "id": "impaired-advertiser",
   "metadata": {},
   "outputs": [
    {
     "name": "stdout",
     "output_type": "stream",
     "text": [
      "<class 'pandas.core.frame.DataFrame'>\n",
      "Int64Index: 877 entries, 28273 to 635085\n",
      "Data columns (total 16 columns):\n",
      " #   Column                                    Non-Null Count  Dtype  \n",
      "---  ------                                    --------------  -----  \n",
      " 0   observation_id                            877 non-null    object \n",
      " 1   Type                                      877 non-null    object \n",
      " 2   Date                                      877 non-null    object \n",
      " 3   Part of a policing operation              23 non-null     object \n",
      " 4   Latitude                                  872 non-null    float64\n",
      " 5   Longitude                                 872 non-null    float64\n",
      " 6   Gender                                    877 non-null    object \n",
      " 7   Age range                                 877 non-null    object \n",
      " 8   Self-defined ethnicity                    862 non-null    object \n",
      " 9   Officer-defined ethnicity                 877 non-null    object \n",
      " 10  Legislation                               877 non-null    object \n",
      " 11  Object of search                          877 non-null    object \n",
      " 12  Outcome                                   877 non-null    object \n",
      " 13  Outcome linked to object of search        318 non-null    object \n",
      " 14  Removal of more than just outer clothing  875 non-null    object \n",
      " 15  station                                   877 non-null    object \n",
      "dtypes: float64(2), object(14)\n",
      "memory usage: 116.5+ KB\n"
     ]
    }
   ],
   "source": [
    "cambridgeshire_train = train[train['station']=='cambridgeshire']\n",
    "cambridgeshire_train.info()"
   ]
  },
  {
   "cell_type": "code",
   "execution_count": null,
   "id": "continuing-envelope",
   "metadata": {},
   "outputs": [],
   "source": []
  }
 ],
 "metadata": {
  "kernelspec": {
   "display_name": "Python 3",
   "language": "python",
   "name": "python3"
  },
  "language_info": {
   "codemirror_mode": {
    "name": "ipython",
    "version": 3
   },
   "file_extension": ".py",
   "mimetype": "text/x-python",
   "name": "python",
   "nbconvert_exporter": "python",
   "pygments_lexer": "ipython3",
   "version": "3.6.9"
  }
 },
 "nbformat": 4,
 "nbformat_minor": 5
}
