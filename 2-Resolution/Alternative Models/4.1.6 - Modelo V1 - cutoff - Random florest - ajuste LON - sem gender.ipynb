{
 "cells": [
  {
   "cell_type": "code",
   "execution_count": 1,
   "id": "gross-hurricane",
   "metadata": {},
   "outputs": [],
   "source": [
    "import json\n",
    "import joblib\n",
    "import pickle\n",
    "import pandas as pd\n",
    "import numpy as np\n",
    "# import seaborn as sns\n",
    "from sklearn.model_selection import train_test_split\n",
    "from sklearn.pipeline import make_pipeline, Pipeline\n",
    "from sklearn.impute import SimpleImputer\n",
    "from sklearn.preprocessing import StandardScaler, OneHotEncoder\n",
    "from sklearn.compose import ColumnTransformer\n",
    "from sklearn.ensemble import RandomForestClassifier\n",
    "from sklearn.metrics import precision_score, recall_score, roc_auc_score\n",
    "from sklearn.metrics import precision_recall_curve\n",
    "\n",
    "import matplotlib.pyplot as plt\n",
    "import matplotlib.image as mpimg\n",
    "%matplotlib inline\n",
    "\n",
    "import warnings\n",
    "warnings.filterwarnings('ignore')\n",
    "\n",
    "from lightgbm import LGBMClassifier"
   ]
  },
  {
   "cell_type": "markdown",
   "id": "christian-denver",
   "metadata": {},
   "source": [
    "### Import dataset"
   ]
  },
  {
   "cell_type": "code",
   "execution_count": 2,
   "id": "strategic-bookmark",
   "metadata": {},
   "outputs": [],
   "source": [
    "train = pd.read_csv('data/train.csv')"
   ]
  },
  {
   "cell_type": "code",
   "execution_count": 3,
   "id": "continent-robert",
   "metadata": {},
   "outputs": [
    {
     "data": {
      "text/plain": [
       "False    660611\n",
       "dtype: int64"
      ]
     },
     "execution_count": 3,
     "metadata": {},
     "output_type": "execute_result"
    }
   ],
   "source": [
    "# no duplicate lines\n",
    "train.duplicated().value_counts()"
   ]
  },
  {
   "cell_type": "code",
   "execution_count": 4,
   "id": "incoming-ireland",
   "metadata": {},
   "outputs": [
    {
     "data": {
      "text/plain": [
       "False    660611\n",
       "Name: observation_id, dtype: int64"
      ]
     },
     "execution_count": 4,
     "metadata": {},
     "output_type": "execute_result"
    }
   ],
   "source": [
    "# no duplicate observation_id\n",
    "train['observation_id'].duplicated().value_counts()"
   ]
  },
  {
   "cell_type": "markdown",
   "id": "chronic-position",
   "metadata": {},
   "source": [
    "### Features adjustments"
   ]
  },
  {
   "cell_type": "code",
   "execution_count": 5,
   "id": "modern-radar",
   "metadata": {},
   "outputs": [],
   "source": [
    "# transforming Date column in datetime\n",
    "train['Date']=pd.to_datetime(train['Date'], infer_datetime_format=True)\n",
    "\n",
    "# auxiliar Date feature (for temporal analyzis)\n",
    "train['referencia'] = train['Date'].dt.year*100 + train['Date'].dt.month\n",
    "\n",
    "# according to Dr Wilson's instructions: \n",
    "# \"If there was a search and the outcome linked to object of search has not been written please consider it to be False\"\n",
    "train['Outcome linked to object of search'] = train['Outcome linked to object of search'].fillna(False)\n",
    "\n",
    "# according to Dr Wilson's instructions missing values means False \n",
    "train['Part of a policing operation'] = train['Part of a policing operation'].fillna(False)\n",
    "\n",
    "# Outer clothing be filled with False? \n",
    "#Yes, except when it’s just a vehicle search, in which case it makes no sense and should be kept as NaN\n",
    "mask= ((train['Type']!='Vehicle search') & \n",
    "      (train['Removal of more than just outer clothing'] != True) &\n",
    "      (train['Removal of more than just outer clothing'] != False))\n",
    "\n",
    "train.loc[mask, 'Removal of more than just outer clothing']=False"
   ]
  },
  {
   "cell_type": "markdown",
   "id": "sonic-generation",
   "metadata": {},
   "source": [
    "### Filtering / Exclusions"
   ]
  },
  {
   "cell_type": "code",
   "execution_count": 6,
   "id": "headed-airline",
   "metadata": {},
   "outputs": [],
   "source": [
    "# The Metropolitan station (which is very large and has lots of data in the training set) has the features \n",
    "# Outcome linked to object of search and Removal of outer clothing without any data (always missing). \n",
    "# Is this a known problem, and if so how should we proceed? \n",
    "# Thank you for bringing this to our attention, I’ve contacted the administration at the Metropolitan and asked that \n",
    "# they fix their data entry. Please include this in your report, and do not use the Metropolitan station’s data \n",
    "# for training your models. They will not be in the test set. "
   ]
  },
  {
   "cell_type": "code",
   "execution_count": 7,
   "id": "portable-glenn",
   "metadata": {},
   "outputs": [],
   "source": [
    "# Gwent and Humberside have the same problem of Metropolitan. So I will exclude this observations"
   ]
  },
  {
   "cell_type": "code",
   "execution_count": 8,
   "id": "painted-absence",
   "metadata": {},
   "outputs": [
    {
     "name": "stdout",
     "output_type": "stream",
     "text": [
      "Exclusion of 355849 observations\n"
     ]
    },
    {
     "data": {
      "text/plain": [
       "(304762, 17)"
      ]
     },
     "execution_count": 8,
     "metadata": {},
     "output_type": "execute_result"
    }
   ],
   "source": [
    "stations_to_exclude = ['metropolitan', 'gwent', 'humberside']\n",
    "train_model = train[~train['station'].isin(stations_to_exclude)]\n",
    "print(\"Exclusion of {} observations\".format(train[train['station'].isin(stations_to_exclude)]['observation_id'].nunique()))\n",
    "train_model.shape"
   ]
  },
  {
   "cell_type": "code",
   "execution_count": 9,
   "id": "innovative-scene",
   "metadata": {},
   "outputs": [],
   "source": [
    "# Search on individuals with less than 10 years seems unrealist, so I will remove it"
   ]
  },
  {
   "cell_type": "code",
   "execution_count": 10,
   "id": "million-czech",
   "metadata": {},
   "outputs": [],
   "source": [
    "# age_to_exclude = ['under 10']\n",
    "# print(\"Exclusion of {} observations\".format(train_model[train_model['Age range'].isin(age_to_exclude)]['observation_id'].nunique()))\n",
    "# train_model = train_model[~train_model['Age range'].isin(age_to_exclude)]\n",
    "# train_model.shape"
   ]
  },
  {
   "cell_type": "markdown",
   "id": "developed-clear",
   "metadata": {},
   "source": [
    "### Target"
   ]
  },
  {
   "cell_type": "code",
   "execution_count": 11,
   "id": "legislative-absence",
   "metadata": {},
   "outputs": [],
   "source": [
    "positive_outcome = ['Local resolution',\n",
    "           'Community resolution',\n",
    "           'Arrest',\n",
    "           'Article found - Detailed outcome unavailable',\n",
    "           'Caution (simple or conditional)',\n",
    "           'Khat or Cannabis warning',\n",
    "           'Offender cautioned',\n",
    "           'Offender given drugs possession warning',\n",
    "           'Offender given penalty notice',\n",
    "           'Penalty Notice for Disorder',\n",
    "           'Summons / charged by post',\n",
    "           'Suspect arrested',\n",
    "           'Suspect summonsed to court',\n",
    "           'Suspected psychoactive substances seized - No further action']\n",
    "\n",
    "train_model['positive_outcome'] = train_model['Outcome'].isin(positive_outcome)"
   ]
  },
  {
   "cell_type": "code",
   "execution_count": 12,
   "id": "registered-personal",
   "metadata": {},
   "outputs": [],
   "source": [
    "train_model['target'] = 0\n",
    "mask=((train_model[\"positive_outcome\"] == True) & (train_model[\"Outcome linked to object of search\"]==True))\n",
    "train_model.loc[mask, 'target']=1"
   ]
  },
  {
   "cell_type": "code",
   "execution_count": 13,
   "id": "color-contrast",
   "metadata": {},
   "outputs": [
    {
     "data": {
      "text/html": [
       "<div>\n",
       "<style scoped>\n",
       "    .dataframe tbody tr th:only-of-type {\n",
       "        vertical-align: middle;\n",
       "    }\n",
       "\n",
       "    .dataframe tbody tr th {\n",
       "        vertical-align: top;\n",
       "    }\n",
       "\n",
       "    .dataframe thead th {\n",
       "        text-align: right;\n",
       "    }\n",
       "</style>\n",
       "<table border=\"1\" class=\"dataframe\">\n",
       "  <thead>\n",
       "    <tr style=\"text-align: right;\">\n",
       "      <th>Outcome linked to object of search</th>\n",
       "      <th>False</th>\n",
       "      <th>True</th>\n",
       "      <th>Total</th>\n",
       "    </tr>\n",
       "    <tr>\n",
       "      <th>positive_outcome</th>\n",
       "      <th></th>\n",
       "      <th></th>\n",
       "      <th></th>\n",
       "    </tr>\n",
       "  </thead>\n",
       "  <tbody>\n",
       "    <tr>\n",
       "      <th>False</th>\n",
       "      <td>174918</td>\n",
       "      <td>37987</td>\n",
       "      <td>212905</td>\n",
       "    </tr>\n",
       "    <tr>\n",
       "      <th>True</th>\n",
       "      <td>29571</td>\n",
       "      <td>62286</td>\n",
       "      <td>91857</td>\n",
       "    </tr>\n",
       "    <tr>\n",
       "      <th>Total</th>\n",
       "      <td>204489</td>\n",
       "      <td>100273</td>\n",
       "      <td>304762</td>\n",
       "    </tr>\n",
       "  </tbody>\n",
       "</table>\n",
       "</div>"
      ],
      "text/plain": [
       "Outcome linked to object of search   False    True   Total\n",
       "positive_outcome                                          \n",
       "False                               174918   37987  212905\n",
       "True                                 29571   62286   91857\n",
       "Total                               204489  100273  304762"
      ]
     },
     "execution_count": 13,
     "metadata": {},
     "output_type": "execute_result"
    }
   ],
   "source": [
    "pd.crosstab(train_model[\"positive_outcome\"],train_model[\"Outcome linked to object of search\"],\n",
    "            margins=True, margins_name=\"Total\",dropna=False)"
   ]
  },
  {
   "cell_type": "code",
   "execution_count": 14,
   "id": "single-minneapolis",
   "metadata": {},
   "outputs": [
    {
     "name": "stdout",
     "output_type": "stream",
     "text": [
      "0    242476\n",
      "1     62286\n",
      "Name: target, dtype: int64\n"
     ]
    },
    {
     "data": {
      "text/plain": [
       "0    0.795624\n",
       "1    0.204376\n",
       "Name: target, dtype: float64"
      ]
     },
     "execution_count": 14,
     "metadata": {},
     "output_type": "execute_result"
    }
   ],
   "source": [
    "print(train_model['target'].value_counts(dropna=False))\n",
    "train_model['target'].value_counts(dropna=False,normalize=True)"
   ]
  },
  {
   "cell_type": "code",
   "execution_count": 15,
   "id": "sharp-sperm",
   "metadata": {},
   "outputs": [],
   "source": [
    "# print(train_model['positive_outcome'].value_counts(dropna=False))\n",
    "# train_model['positive_outcome'].value_counts(dropna=False,normalize=True)\n",
    "# pd.crosstab(train_model[\"referencia\"],train_model[\"target\"],normalize='index')\n",
    "# pd.crosstab(train_model[\"Gender\"],train_model[\"target\"],normalize='index')\n",
    "# pd.crosstab(train_model[\"station\"],train_model[\"target\"],normalize='index')\n",
    "# pd.crosstab(train_model[\"station\"],train_model[\"positive_outcome\"],normalize='index')"
   ]
  },
  {
   "cell_type": "markdown",
   "id": "dense-green",
   "metadata": {},
   "source": [
    "### Feature engineering"
   ]
  },
  {
   "cell_type": "code",
   "execution_count": 16,
   "id": "stupid-practice",
   "metadata": {},
   "outputs": [],
   "source": [
    "# get the hour and day of the week, maybe they will be useful \n",
    "train_model['hour'] = train_model['Date'].dt.hour\n",
    "train_model['month'] = train_model['Date'].dt.month\n",
    "train_model['day_of_week'] = train_model['Date'].dt.day_name()"
   ]
  },
  {
   "cell_type": "code",
   "execution_count": 17,
   "id": "premium-arbitration",
   "metadata": {},
   "outputs": [
    {
     "data": {
      "text/plain": [
       "misuse of drugs act 1971 (section 23)                      178620\n",
       "police and criminal evidence act 1984 (section 1)           92651\n",
       "missing infomation                                          27931\n",
       "criminal justice and public order act 1994 (section 60)      2670\n",
       "firearms act 1968 (section 47)                               1830\n",
       "others                                                       1060\n",
       "Name: Legislation, dtype: int64"
      ]
     },
     "execution_count": 17,
     "metadata": {},
     "output_type": "execute_result"
    }
   ],
   "source": [
    "# Legislation - reducing the quantity of categories\n",
    "# train_model.groupby(['Legislation','target'], dropna=False)['Outcome'].count().unstack()\n",
    "\n",
    "train_model['Legislation']=train_model['Legislation'].fillna('missing infomation')\n",
    "train_model['Legislation'] = train_model['Legislation'].apply(lambda x: str(x).lower())\n",
    "\n",
    "legislation_categories = ['misuse of drugs act 1971 (section 23)', 'police and criminal evidence act 1984 (section 1)', \n",
    "                          'criminal justice and public order act 1994 (section 60)', 'firearms act 1968 (section 47)',\n",
    "                          'missing infomation']\n",
    "\n",
    "mask=(~train_model['Legislation'].isin(legislation_categories))\n",
    "train_model.loc[mask, 'Legislation']='others'\n",
    "\n",
    "train_model['Legislation'].value_counts()"
   ]
  },
  {
   "cell_type": "markdown",
   "id": "sticky-asset",
   "metadata": {},
   "source": [
    "### Text Data normalization"
   ]
  },
  {
   "cell_type": "code",
   "execution_count": 18,
   "id": "disturbed-blend",
   "metadata": {},
   "outputs": [
    {
     "data": {
      "text/plain": [
       "controlled drugs                              192161\n",
       "offensive weapons                              35391\n",
       "article for use in theft                       30287\n",
       "stolen goods                                   26617\n",
       "articles for use in criminal damage             6494\n",
       "anything to threaten or harm anyone             5241\n",
       "firearms                                        2957\n",
       "evidence of offences under the act              1930\n",
       "psychoactive substances                         1701\n",
       "fireworks                                       1695\n",
       "detailed object of search unavailable            129\n",
       "game or poaching equipment                        96\n",
       "goods on which duty has not been paid etc.        23\n",
       "evidence of wildlife offences                     21\n",
       "crossbows                                         17\n",
       "seals or hunting equipment                         2\n",
       "Name: Object of search, dtype: int64"
      ]
     },
     "execution_count": 18,
     "metadata": {},
     "output_type": "execute_result"
    }
   ],
   "source": [
    "train_model['Object of search'] = train_model['Object of search'].apply(lambda x: str(x).lower())\n",
    "train_model['Object of search'].value_counts()"
   ]
  },
  {
   "cell_type": "code",
   "execution_count": 19,
   "id": "absent-harmony",
   "metadata": {},
   "outputs": [],
   "source": [
    "train_model['station'] = train_model['station'].apply(lambda x: str(x).lower())\n",
    "# train_model['station'].value_counts()"
   ]
  },
  {
   "cell_type": "code",
   "execution_count": null,
   "id": "appointed-keyboard",
   "metadata": {},
   "outputs": [],
   "source": []
  },
  {
   "cell_type": "markdown",
   "id": "distinguished-claim",
   "metadata": {},
   "source": [
    "### Latitude and Longitude"
   ]
  },
  {
   "cell_type": "code",
   "execution_count": 20,
   "id": "compact-session",
   "metadata": {},
   "outputs": [
    {
     "name": "stdout",
     "output_type": "stream",
     "text": [
      "count    228038.000000\n",
      "mean         52.511589\n",
      "std           1.133850\n",
      "min          49.892149\n",
      "25%          51.485978\n",
      "50%          52.609826\n",
      "75%          53.422686\n",
      "max          57.143856\n",
      "Name: Latitude, dtype: float64\n"
     ]
    },
    {
     "data": {
      "text/plain": [
       "count    228038.000000\n",
       "mean         -1.343263\n",
       "std           1.365160\n",
       "min          -8.053397\n",
       "25%          -2.599163\n",
       "50%          -1.464553\n",
       "75%          -0.207006\n",
       "max           1.756480\n",
       "Name: Longitude, dtype: float64"
      ]
     },
     "execution_count": 20,
     "metadata": {},
     "output_type": "execute_result"
    }
   ],
   "source": [
    "print(train_model['Latitude'].describe())\n",
    "train_model['Longitude'].describe()"
   ]
  },
  {
   "cell_type": "code",
   "execution_count": 21,
   "id": "roman-binary",
   "metadata": {},
   "outputs": [],
   "source": [
    "train_model['Latitude'] = train_model['Longitude'].fillna(0)\n",
    "train_model['Longitude'] = train_model['Longitude'].fillna(50)"
   ]
  },
  {
   "cell_type": "markdown",
   "id": "blond-leonard",
   "metadata": {},
   "source": [
    "### Data split"
   ]
  },
  {
   "cell_type": "code",
   "execution_count": 22,
   "id": "satisfactory-monte",
   "metadata": {},
   "outputs": [],
   "source": [
    "df_train, df_test = train_test_split(train_model, test_size=0.3, random_state=42)"
   ]
  },
  {
   "cell_type": "code",
   "execution_count": 23,
   "id": "aware-uzbekistan",
   "metadata": {},
   "outputs": [
    {
     "data": {
      "text/plain": [
       "(213333, 22)"
      ]
     },
     "execution_count": 23,
     "metadata": {},
     "output_type": "execute_result"
    }
   ],
   "source": [
    "df_train.shape"
   ]
  },
  {
   "cell_type": "code",
   "execution_count": 24,
   "id": "freelance-cholesterol",
   "metadata": {},
   "outputs": [
    {
     "data": {
      "text/plain": [
       "(91429, 22)"
      ]
     },
     "execution_count": 24,
     "metadata": {},
     "output_type": "execute_result"
    }
   ],
   "source": [
    "df_test.shape"
   ]
  },
  {
   "cell_type": "code",
   "execution_count": 25,
   "id": "similar-theology",
   "metadata": {},
   "outputs": [
    {
     "data": {
      "text/plain": [
       "Saturday     34161\n",
       "Friday       33994\n",
       "Thursday     30593\n",
       "Wednesday    30283\n",
       "Tuesday      28674\n",
       "Monday       27828\n",
       "Sunday       27800\n",
       "Name: day_of_week, dtype: int64"
      ]
     },
     "execution_count": 25,
     "metadata": {},
     "output_type": "execute_result"
    }
   ],
   "source": [
    "df_train.day_of_week.value_counts()"
   ]
  },
  {
   "cell_type": "markdown",
   "id": "stuck-collar",
   "metadata": {},
   "source": [
    "### Training a baseline model"
   ]
  },
  {
   "cell_type": "code",
   "execution_count": 26,
   "id": "compact-story",
   "metadata": {},
   "outputs": [
    {
     "data": {
      "text/plain": [
       "0.529628609722761"
      ]
     },
     "execution_count": 26,
     "metadata": {},
     "output_type": "execute_result"
    }
   ],
   "source": [
    "all_features = ['Type', 'Part of a policing operation', 'Age range', 'Latitude', 'Longitude',\n",
    "                'Legislation', 'hour', 'month', 'day_of_week',\n",
    "                'Officer-defined ethnicity']\n",
    "\n",
    "numerical_features = ['hour', 'month','Latitude', 'Longitude']\n",
    "\n",
    "categorical_features = ['Type', 'Part of a policing operation', 'Age range',\n",
    "                        'Legislation', 'day_of_week', 'Officer-defined ethnicity']\n",
    "\n",
    "numeric_transformer = Pipeline(steps=[\n",
    "    ('imputer', SimpleImputer(strategy='median')),\n",
    "    ('scaler', StandardScaler())])\n",
    "\n",
    "categorical_transformer = Pipeline(steps=[\n",
    "    ('imputer', SimpleImputer(strategy='constant', fill_value='missing')),\n",
    "    ('onehot', OneHotEncoder(handle_unknown='ignore'))])\n",
    "\n",
    "preprocessor = ColumnTransformer(\n",
    "    transformers=[\n",
    "        ('num', numeric_transformer, numerical_features),\n",
    "        ('cat', categorical_transformer, categorical_features)])\n",
    "\n",
    "pipeline = make_pipeline(\n",
    "    preprocessor,\n",
    "    RandomForestClassifier(random_state=42, n_jobs=-1),\n",
    ")\n",
    "\n",
    "\n",
    "X_train = df_train[all_features]\n",
    "y_train = df_train['target']\n",
    "\n",
    "pipeline.fit(X_train, y_train)\n",
    "\n",
    "X_test = df_test[all_features]\n",
    "y_test = df_test['target']\n",
    "\n",
    "y_pred = pipeline.predict(X_test)\n",
    "y_proba = pipeline.predict_proba(X_test)\n",
    "y_pred_train = pipeline.predict(X_train)\n",
    "\n",
    "# To use on other cells\n",
    "# X_train_baseline = X_train.copy()\n",
    "# X_test_baseline = df_test.copy()\n",
    "# y_test_baseline = X_test_baseline[target].copy()\n",
    "# y_pred_baseline = y_pred.copy()\n",
    "# pipeline_baseline = pipeline\n",
    "\n",
    "roc_auc_score(y_test, y_pred)"
   ]
  },
  {
   "cell_type": "code",
   "execution_count": 27,
   "id": "classified-occasions",
   "metadata": {},
   "outputs": [],
   "source": [
    "# ?RandomForestClassifier"
   ]
  },
  {
   "cell_type": "code",
   "execution_count": 28,
   "id": "extended-physiology",
   "metadata": {},
   "outputs": [],
   "source": [
    "precision, recall, thresholds = precision_recall_curve(y_test, y_proba[:,1])"
   ]
  },
  {
   "cell_type": "code",
   "execution_count": 29,
   "id": "occupational-camping",
   "metadata": {},
   "outputs": [],
   "source": [
    "precision = precision[:-1]\n",
    "recall = recall[:-1]"
   ]
  },
  {
   "cell_type": "code",
   "execution_count": 30,
   "id": "accredited-update",
   "metadata": {},
   "outputs": [
    {
     "data": {
      "image/png": "[encoded data removed]",
      "text/plain": [
       "<Figure size 432x288 with 2 Axes>"
      ]
     },
     "metadata": {
      "needs_background": "light"
     },
     "output_type": "display_data"
    }
   ],
   "source": [
    "fig=plt.figure()\n",
    "ax1 = plt.subplot(211)\n",
    "ax2 = plt.subplot(212)\n",
    "ax1.hlines(y=0.1,xmin=0, xmax=1, colors='red')\n",
    "ax1.plot(thresholds,precision)\n",
    "ax2.plot(thresholds,recall)\n",
    "ax1.get_shared_x_axes().join(ax1, ax2)\n",
    "ax1.set_xticklabels([])\n",
    "plt.xlabel('Threshold')\n",
    "ax1.set_title('Precision')\n",
    "ax2.set_title('Recall')\n",
    "plt.show()"
   ]
  },
  {
   "cell_type": "code",
   "execution_count": 31,
   "id": "stupid-horizon",
   "metadata": {},
   "outputs": [
    {
     "name": "stdout",
     "output_type": "stream",
     "text": [
      "3914\n"
     ]
    },
    {
     "data": {
      "text/plain": [
       "0.22750000000000004"
      ]
     },
     "execution_count": 31,
     "metadata": {},
     "output_type": "execute_result"
    }
   ],
   "source": [
    "min_index = [i for i, prec in enumerate(precision) if prec > 0.27][0]\n",
    "print(min_index)\n",
    "thresholds[min_index]"
   ]
  },
  {
   "cell_type": "code",
   "execution_count": 32,
   "id": "entitled-secondary",
   "metadata": {},
   "outputs": [
    {
     "data": {
      "text/plain": [
       "0.2700375894264581"
      ]
     },
     "execution_count": 32,
     "metadata": {},
     "output_type": "execute_result"
    }
   ],
   "source": [
    "precision[min_index]"
   ]
  },
  {
   "cell_type": "code",
   "execution_count": 33,
   "id": "statistical-correspondence",
   "metadata": {},
   "outputs": [
    {
     "data": {
      "text/plain": [
       "0.47928548369740664"
      ]
     },
     "execution_count": 33,
     "metadata": {},
     "output_type": "execute_result"
    }
   ],
   "source": [
    "recall[min_index]"
   ]
  },
  {
   "cell_type": "code",
   "execution_count": 34,
   "id": "marked-float",
   "metadata": {},
   "outputs": [
    {
     "data": {
      "image/png": "[encoded data removed]",
      "text/plain": [
       "<Figure size 432x288 with 1 Axes>"
      ]
     },
     "metadata": {
      "needs_background": "light"
     },
     "output_type": "display_data"
    }
   ],
   "source": [
    "pd.Series(y_proba[:,1]).hist(bins=20, figsize=(6, 4));\n",
    "# df.hist(column='SubjectAge', bins=20, figsize=(6, 4));"
   ]
  },
  {
   "cell_type": "code",
   "execution_count": 35,
   "id": "matched-neighborhood",
   "metadata": {},
   "outputs": [],
   "source": [
    "threshold = thresholds[min_index]\n",
    "y_pred_threshold = pd.Series([True if p >= threshold else False for p in y_proba[:,1]]).to_numpy()"
   ]
  },
  {
   "cell_type": "code",
   "execution_count": 36,
   "id": "tamil-nation",
   "metadata": {},
   "outputs": [
    {
     "name": "stdout",
     "output_type": "stream",
     "text": [
      "<class 'numpy.ndarray'>\n"
     ]
    },
    {
     "data": {
      "text/plain": [
       "numpy.ndarray"
      ]
     },
     "execution_count": 36,
     "metadata": {},
     "output_type": "execute_result"
    }
   ],
   "source": [
    "print(type(y_pred))\n",
    "type(y_pred_threshold)"
   ]
  },
  {
   "cell_type": "code",
   "execution_count": null,
   "id": "excessive-manner",
   "metadata": {},
   "outputs": [],
   "source": []
  },
  {
   "cell_type": "markdown",
   "id": "minimal-musical",
   "metadata": {},
   "source": [
    "#### most important features"
   ]
  },
  {
   "cell_type": "code",
   "execution_count": 37,
   "id": "accepted-familiar",
   "metadata": {},
   "outputs": [
    {
     "name": "stdout",
     "output_type": "stream",
     "text": [
      "Feature ranking:\n",
      "1. feature Longitude (0.247568)\n",
      "2. feature Latitude (0.246489)\n",
      "3. feature hour (0.206635)\n",
      "4. feature month (0.158911)\n",
      "5. feature Legislation_misuse of drugs act 1971 (section 23) (0.012311)\n",
      "6. feature Legislation_police and criminal evidence act 1984 (section 1) (0.008899)\n",
      "7. feature day_of_week_Friday (0.008738)\n",
      "8. feature day_of_week_Saturday (0.008650)\n",
      "9. feature day_of_week_Thursday (0.008421)\n",
      "10. feature day_of_week_Wednesday (0.008406)\n"
     ]
    },
    {
     "data": {
      "image/png": "[encoded data removed]",
      "text/plain": [
       "<Figure size 432x288 with 1 Axes>"
      ]
     },
     "metadata": {
      "needs_background": "light"
     },
     "output_type": "display_data"
    }
   ],
   "source": [
    "categorical_encode_step = pipeline.named_steps['columntransformer'].named_transformers_['cat'].named_steps['onehot']\n",
    "random_forest_step = pipeline.named_steps['randomforestclassifier']\n",
    "\n",
    "onehot_columns = categorical_encode_step.get_feature_names(input_features=categorical_features)\n",
    "\n",
    "importances = pd.Series(data=random_forest_step.feature_importances_, index = np.array(numerical_features + list(onehot_columns)))\n",
    "\n",
    "indices = np.argsort(importances)[::-1]\n",
    "print(\"Feature ranking:\")\n",
    "\n",
    "for f in range(X_train.shape[1]):\n",
    "    print(\"%d. feature %s (%f)\" % (f + 1, importances.index[indices[f]], importances[indices[f]]))\n",
    "\n",
    "std = np.std([tree.feature_importances_ for tree in random_forest_step.estimators_], axis=0)\n",
    "\n",
    "plt.figure()\n",
    "plt.title(\"Feature importances\")\n",
    "plt.bar(x=importances.index[indices], height=importances[indices],\n",
    "        color=\"r\", yerr=std[indices], align=\"center\");\n",
    "plt.xticks(range(len(importances.index[indices])), importances.index[indices], rotation=45, ha=\"right\")\n",
    "plt.xlim([-1, X_train.shape[1]])\n",
    "plt.xlabel('Features');\n",
    "plt.ylabel('Importance');\n",
    "\n",
    "plt.show()"
   ]
  },
  {
   "cell_type": "code",
   "execution_count": null,
   "id": "protected-logistics",
   "metadata": {},
   "outputs": [],
   "source": []
  },
  {
   "cell_type": "markdown",
   "id": "aerial-divorce",
   "metadata": {},
   "source": [
    "## Formalizing client requirements"
   ]
  },
  {
   "cell_type": "code",
   "execution_count": null,
   "id": "mechanical-profile",
   "metadata": {},
   "outputs": [],
   "source": []
  },
  {
   "cell_type": "markdown",
   "id": "maritime-potato",
   "metadata": {},
   "source": [
    "### 1 - Minimum 10% success rate for searches per station and search objective"
   ]
  },
  {
   "cell_type": "code",
   "execution_count": 38,
   "id": "hollywood-gilbert",
   "metadata": {},
   "outputs": [],
   "source": [
    "def verify_global_success_rate(y_true, y_pred, min_success_rate=0.1):\n",
    "    \"\"\"\n",
    "    Verifies the success rate on a test set is above a provided minimum\n",
    "    \"\"\"\n",
    "    \n",
    "    precision = precision_score(y_true, y_pred, pos_label=1)\n",
    "    is_satisfied = (precision >= min_success_rate)\n",
    "    \n",
    "    recall = recall_score(y_true, y_pred, pos_label=1)\n",
    "    \n",
    "    return is_satisfied, precision, recall"
   ]
  },
  {
   "cell_type": "code",
   "execution_count": 39,
   "id": "appropriate-flower",
   "metadata": {},
   "outputs": [
    {
     "name": "stdout",
     "output_type": "stream",
     "text": [
      "Global Precision: (True, 0.2700375894264581)\n",
      "Global Recall: 0.47928548369740664\n"
     ]
    }
   ],
   "source": [
    "is_verified, success_rate, recall = verify_global_success_rate(y_test, y_pred_threshold)\n",
    "\n",
    "print(\"Global Precision: {}\".format((is_verified, success_rate)))\n",
    "print(\"Global Recall: {}\".format(recall))"
   ]
  },
  {
   "cell_type": "code",
   "execution_count": 40,
   "id": "raising-virus",
   "metadata": {},
   "outputs": [],
   "source": [
    "# exclusion_list = ['articles for use in criminal damage','anything to threaten or harm anyone','fireworks', \n",
    "#                  'detailed object of search unavailable','game or poaching equipment',\n",
    "#                  'goods on which duty has not been paid etc.','evidence of wildlife offences',\n",
    "#                  'crossbows','seals or hunting equipment']\n",
    "\n",
    "# t=df_test['Object of search'].unique()\n",
    "\n",
    "# for i in t:\n",
    "#     if i not in exclusion_list:\n",
    "#         print(i)"
   ]
  },
  {
   "cell_type": "code",
   "execution_count": 41,
   "id": "precious-warehouse",
   "metadata": {},
   "outputs": [],
   "source": [
    "def verify_success_rate_objective_station(X_test, y_true, y_pred, sensitive_column='Object of search', \n",
    "                                          min_success_rate=0.1, min_samples=50):\n",
    "    \"\"\"\n",
    "    Verifies that success rate per station and search objective is higher than 10%\n",
    "    \"\"\"\n",
    "    \n",
    "#     exclusion_list = ['articles for use in criminal damage','anything to threaten or harm anyone','fireworks', \n",
    "#                  'detailed object of search unavailable','game or poaching equipment',\n",
    "#                  'goods on which duty has not been paid etc.','evidence of wildlife offences',\n",
    "#                  'crossbows','seals or hunting equipment']\n",
    "\n",
    "    exclusion_list = ['articles for use in criminal damage','anything to threaten or harm anyone','fireworks',\n",
    "                      'detailed object of search unavailable','game or poaching equipment',\n",
    "                      'goods on which duty has not been paid etc.','evidence of wildlife offences',\n",
    "                      'crossbows','seals or hunting equipment',\n",
    "                      'firearms','evidence of offences under the act','psychoactive substances']\n",
    "    \n",
    "    departments = X_test['station'].unique()\n",
    "    sensitive_classes = X_test[sensitive_column].unique()\n",
    "    \n",
    "    is_satisfied = True\n",
    "    problematic_departments = []\n",
    "    good_deparments = []\n",
    "    ignored_departments = []\n",
    "    for department in departments:\n",
    "        precisions = {}\n",
    "        for sensitive_class in sensitive_classes:\n",
    "            if sensitive_class not in exclusion_list:\n",
    "                mask = (X_test[sensitive_column] == sensitive_class) & (X_test['station'] == department)\n",
    "                if np.sum(mask) > min_samples:\n",
    "                    precisions[sensitive_class] = precision_score(y_true[mask], y_pred[mask], pos_label=1)\n",
    "                \n",
    "        if len(precisions) > 1:    \n",
    "            precision_min = np.min(list(precisions.values()))\n",
    "\n",
    "            if precision_min < min_success_rate:\n",
    "                is_satisfied = False\n",
    "                problematic_departments.append((department, precision_min, precisions))\n",
    "            else:\n",
    "                good_deparments.append((department, precision_min, precisions))\n",
    "        else:\n",
    "            ignored_departments.append((department, None, []))\n",
    "    \n",
    "    global_precisions = {}\n",
    "    for department in departments:\n",
    "        mask = (X_test['station'] == department)\n",
    "        if np.sum(mask) > min_samples:\n",
    "            global_precisions[department] = precision_score(y_true[mask], y_pred[mask])\n",
    "            \n",
    "    global_precisions_objective = {}\n",
    "    for obj in sensitive_classes:\n",
    "        mask = (X_test[sensitive_column] == obj)\n",
    "        if np.sum(mask) > min_samples:\n",
    "            global_precisions_objective[obj] = precision_score(y_true[mask], y_pred[mask])\n",
    "    \n",
    "        \n",
    "    return is_satisfied, problematic_departments, good_deparments, ignored_departments, global_precisions,global_precisions_objective"
   ]
  },
  {
   "cell_type": "code",
   "execution_count": 42,
   "id": "monthly-glance",
   "metadata": {},
   "outputs": [
    {
     "name": "stdout",
     "output_type": "stream",
     "text": [
      "Requirement failed 😢\n",
      "Num problematic stations: 15\n",
      "Num good stations: 22\n",
      "Num ignored departments: 2\n",
      "\n",
      "Object of search rates: {'controlled drugs': 0.2918640021562512, 'article for use in theft': 0.1626848691695108, 'stolen goods': 0.26959560659011483, 'anything to threaten or harm anyone': 0.12681159420289856, 'offensive weapons': 0.16208939149165322, 'fireworks': 0.0425531914893617, 'articles for use in criminal damage': 0.041176470588235294, 'firearms': 0.16326530612244897, 'evidence of offences under the act': 0.21014492753623187, 'psychoactive substances': 0.33070866141732286}\n",
      "\n",
      "Station rates: {'bedfordshire': 0.26277372262773724, 'hertfordshire': 0.30286113049546404, 'kent': 0.28656009473060984, 'btp': 0.287117903930131, 'warwickshire': 0.2640449438202247, 'staffordshire': 0.2755813953488372, 'leicestershire': 0.14519427402862986, 'derbyshire': 0.26878612716763006, 'cheshire': 0.375, 'west-yorkshire': 0.2273972602739726, 'suffolk': 0.2191780821917808, 'hampshire': 0.31958762886597936, 'devon-and-cornwall': 0.2737642585551331, 'south-yorkshire': 0.17042115572967678, 'essex': 0.31772053083528495, 'norfolk': 0.16523605150214593, 'dyfed-powys': 0.05472636815920398, 'thames-valley': 0.18213538032100487, 'avon-and-somerset': 0.31618887015177066, 'merseyside': 0.27555651610114545, 'northumbria': 0.26658624849215923, 'sussex': 0.2697986577181208, 'surrey': 0.2962962962962963, 'nottinghamshire': 0.313, 'city-of-london': 0.33916849015317285, 'west-mercia': 0.33259668508287293, 'lincolnshire': 0.21621621621621623, 'lancashire': 0.08806818181818182, 'gloucestershire': 0.2861271676300578, 'northamptonshire': 0.2644230769230769, 'cumbria': 0.30952380952380953, 'north-yorkshire': 0.20161290322580644, 'north-wales': 0.19664268585131894, 'cleveland': 0.3155080213903743, 'dorset': 0.28113879003558717, 'durham': 0.41411764705882353, 'greater-manchester': 0.27479338842975204, 'wiltshire': 0.19047619047619047, 'cambridgeshire': 0.26666666666666666}\n"
     ]
    }
   ],
   "source": [
    "is_satisfied, problematic_departments, good_deparments, ignored_departments,global_precisions, global_precisions_objective = verify_success_rate_objective_station(df_test, y_test, y_pred_threshold, min_success_rate=0.1)\n",
    "\n",
    "if not is_satisfied:\n",
    "    print(\"Requirement failed 😢\")\n",
    "    print(\"Num problematic stations: {}\".format(len(problematic_departments)))\n",
    "    print(\"Num good stations: {}\".format(len(good_deparments)))\n",
    "    print(\"Num ignored departments: {}\".format(len(ignored_departments)))\n",
    "    print(\"\\nObject of search rates: {}\".format(global_precisions_objective))\n",
    "    print(\"\\nStation rates: {}\".format(global_precisions))\n"
   ]
  },
  {
   "cell_type": "code",
   "execution_count": 43,
   "id": "cognitive-kinase",
   "metadata": {
    "scrolled": true
   },
   "outputs": [
    {
     "data": {
      "text/plain": [
       "[('bedfordshire',\n",
       "  0.05555555555555555,\n",
       "  {'controlled drugs': 0.2964071856287425,\n",
       "   'article for use in theft': 0.125,\n",
       "   'stolen goods': 0.05555555555555555,\n",
       "   'offensive weapons': 0.14814814814814814}),\n",
       " ('staffordshire',\n",
       "  0.08108108108108109,\n",
       "  {'controlled drugs': 0.31555555555555553,\n",
       "   'article for use in theft': 0.08108108108108109,\n",
       "   'stolen goods': 0.19753086419753085,\n",
       "   'offensive weapons': 0.08196721311475409}),\n",
       " ('leicestershire',\n",
       "  0.0,\n",
       "  {'controlled drugs': 0.17,\n",
       "   'article for use in theft': 0.05555555555555555,\n",
       "   'stolen goods': 0.037037037037037035,\n",
       "   'offensive weapons': 0.0}),\n",
       " ('derbyshire',\n",
       "  0.07407407407407407,\n",
       "  {'controlled drugs': 0.3082706766917293,\n",
       "   'article for use in theft': 0.16666666666666666,\n",
       "   'offensive weapons': 0.07407407407407407}),\n",
       " ('suffolk',\n",
       "  0.0,\n",
       "  {'controlled drugs': 0.24662162162162163,\n",
       "   'article for use in theft': 0.0,\n",
       "   'stolen goods': 0.15789473684210525,\n",
       "   'offensive weapons': 0.17647058823529413}),\n",
       " ('south-yorkshire',\n",
       "  0.0,\n",
       "  {'controlled drugs': 0.20668316831683167,\n",
       "   'article for use in theft': 0.0,\n",
       "   'stolen goods': 0.0,\n",
       "   'offensive weapons': 0.08974358974358974}),\n",
       " ('norfolk',\n",
       "  0.0,\n",
       "  {'controlled drugs': 0.18226600985221675,\n",
       "   'article for use in theft': 0.0,\n",
       "   'stolen goods': 0.0,\n",
       "   'offensive weapons': 0.125}),\n",
       " ('dyfed-powys',\n",
       "  0.0,\n",
       "  {'controlled drugs': 0.03614457831325301, 'article for use in theft': 0.0}),\n",
       " ('thames-valley',\n",
       "  0.053763440860215055,\n",
       "  {'controlled drugs': 0.21644612476370512,\n",
       "   'article for use in theft': 0.053763440860215055,\n",
       "   'stolen goods': 0.1417910447761194,\n",
       "   'offensive weapons': 0.07142857142857142}),\n",
       " ('merseyside',\n",
       "  0.07920792079207921,\n",
       "  {'controlled drugs': 0.2858457997698504,\n",
       "   'article for use in theft': 0.1623931623931624,\n",
       "   'stolen goods': 0.17647058823529413,\n",
       "   'offensive weapons': 0.07920792079207921}),\n",
       " ('nottinghamshire',\n",
       "  0.0425531914893617,\n",
       "  {'controlled drugs': 0.33224043715846996,\n",
       "   'article for use in theft': 0.1,\n",
       "   'stolen goods': 0.3125,\n",
       "   'offensive weapons': 0.0425531914893617}),\n",
       " ('lancashire',\n",
       "  0.0,\n",
       "  {'controlled drugs': 0.2512315270935961,\n",
       "   'article for use in theft': 0.0,\n",
       "   'stolen goods': 0.2692307692307692,\n",
       "   'offensive weapons': 0.17391304347826086}),\n",
       " ('gloucestershire',\n",
       "  0.09090909090909091,\n",
       "  {'controlled drugs': 0.2993421052631579,\n",
       "   'article for use in theft': 0.15384615384615385,\n",
       "   'stolen goods': 0.29411764705882354,\n",
       "   'offensive weapons': 0.09090909090909091}),\n",
       " ('north-wales',\n",
       "  0.0,\n",
       "  {'controlled drugs': 0.21652421652421652,\n",
       "   'article for use in theft': 0.09090909090909091,\n",
       "   'stolen goods': 0.14285714285714285,\n",
       "   'offensive weapons': 0.0}),\n",
       " ('greater-manchester',\n",
       "  0.05405405405405406,\n",
       "  {'controlled drugs': 0.31043956043956045,\n",
       "   'article for use in theft': 0.05405405405405406,\n",
       "   'stolen goods': 0.3055555555555556,\n",
       "   'offensive weapons': 0.17142857142857143})]"
      ]
     },
     "execution_count": 43,
     "metadata": {},
     "output_type": "execute_result"
    }
   ],
   "source": [
    "problematic_departments"
   ]
  },
  {
   "cell_type": "code",
   "execution_count": 44,
   "id": "preceding-baseline",
   "metadata": {},
   "outputs": [
    {
     "data": {
      "text/plain": [
       "[('hertfordshire',\n",
       "  0.21518987341772153,\n",
       "  {'controlled drugs': 0.3182214472537053,\n",
       "   'article for use in theft': 0.2153846153846154,\n",
       "   'stolen goods': 0.34782608695652173,\n",
       "   'offensive weapons': 0.21518987341772153}),\n",
       " ('kent',\n",
       "  0.16129032258064516,\n",
       "  {'controlled drugs': 0.2843691148775895,\n",
       "   'article for use in theft': 0.1780821917808219,\n",
       "   'stolen goods': 0.3719512195121951,\n",
       "   'offensive weapons': 0.16129032258064516}),\n",
       " ('btp',\n",
       "  0.14102564102564102,\n",
       "  {'controlled drugs': 0.3055162659123055,\n",
       "   'article for use in theft': 0.2608695652173913,\n",
       "   'stolen goods': 0.3170731707317073,\n",
       "   'offensive weapons': 0.14102564102564102}),\n",
       " ('warwickshire',\n",
       "  0.15789473684210525,\n",
       "  {'controlled drugs': 0.2918287937743191,\n",
       "   'article for use in theft': 0.16666666666666666,\n",
       "   'stolen goods': 0.2647058823529412,\n",
       "   'offensive weapons': 0.15789473684210525}),\n",
       " ('cheshire',\n",
       "  0.21739130434782608,\n",
       "  {'controlled drugs': 0.39575289575289574,\n",
       "   'article for use in theft': 0.23333333333333334,\n",
       "   'stolen goods': 0.21739130434782608,\n",
       "   'offensive weapons': 0.3076923076923077}),\n",
       " ('west-yorkshire',\n",
       "  0.16326530612244897,\n",
       "  {'controlled drugs': 0.23889739663093415,\n",
       "   'article for use in theft': 0.16326530612244897,\n",
       "   'stolen goods': 0.24427480916030533,\n",
       "   'offensive weapons': 0.19753086419753085}),\n",
       " ('hampshire',\n",
       "  0.125,\n",
       "  {'controlled drugs': 0.349768875192604,\n",
       "   'article for use in theft': 0.25806451612903225,\n",
       "   'stolen goods': 0.22857142857142856,\n",
       "   'offensive weapons': 0.125}),\n",
       " ('devon-and-cornwall',\n",
       "  0.1282051282051282,\n",
       "  {'controlled drugs': 0.29148629148629146,\n",
       "   'stolen goods': 0.1282051282051282,\n",
       "   'offensive weapons': 0.1702127659574468}),\n",
       " ('essex',\n",
       "  0.18439716312056736,\n",
       "  {'controlled drugs': 0.33160377358490567,\n",
       "   'article for use in theft': 0.22429906542056074,\n",
       "   'stolen goods': 0.36363636363636365,\n",
       "   'offensive weapons': 0.18439716312056736}),\n",
       " ('avon-and-somerset',\n",
       "  0.2,\n",
       "  {'controlled drugs': 0.3181377303588749,\n",
       "   'article for use in theft': 0.2,\n",
       "   'stolen goods': 0.425,\n",
       "   'offensive weapons': 0.3148148148148148}),\n",
       " ('northumbria',\n",
       "  0.1111111111111111,\n",
       "  {'controlled drugs': 0.29817444219066935,\n",
       "   'article for use in theft': 0.1111111111111111,\n",
       "   'stolen goods': 0.3111111111111111,\n",
       "   'offensive weapons': 0.18699186991869918}),\n",
       " ('sussex',\n",
       "  0.15,\n",
       "  {'controlled drugs': 0.2972972972972973,\n",
       "   'article for use in theft': 0.15,\n",
       "   'stolen goods': 0.1875,\n",
       "   'offensive weapons': 0.25}),\n",
       " ('surrey',\n",
       "  0.15492957746478872,\n",
       "  {'controlled drugs': 0.33401639344262296,\n",
       "   'article for use in theft': 0.2391304347826087,\n",
       "   'stolen goods': 0.36363636363636365,\n",
       "   'offensive weapons': 0.15492957746478872}),\n",
       " ('city-of-london',\n",
       "  0.1,\n",
       "  {'controlled drugs': 0.3987538940809969,\n",
       "   'article for use in theft': 0.23214285714285715,\n",
       "   'stolen goods': 0.1,\n",
       "   'offensive weapons': 0.2}),\n",
       " ('west-mercia',\n",
       "  0.17307692307692307,\n",
       "  {'controlled drugs': 0.34232954545454547,\n",
       "   'article for use in theft': 0.17307692307692307,\n",
       "   'stolen goods': 0.44155844155844154,\n",
       "   'offensive weapons': 0.22}),\n",
       " ('lincolnshire',\n",
       "  0.12,\n",
       "  {'controlled drugs': 0.23834196891191708,\n",
       "   'article for use in theft': 0.12121212121212122,\n",
       "   'stolen goods': 0.2222222222222222,\n",
       "   'offensive weapons': 0.12}),\n",
       " ('northamptonshire',\n",
       "  0.17647058823529413,\n",
       "  {'controlled drugs': 0.2602739726027397,\n",
       "   'article for use in theft': 0.17647058823529413,\n",
       "   'offensive weapons': 0.45454545454545453}),\n",
       " ('cumbria',\n",
       "  0.2,\n",
       "  {'controlled drugs': 0.29239766081871343,\n",
       "   'article for use in theft': 0.2,\n",
       "   'stolen goods': 0.5263157894736842,\n",
       "   'offensive weapons': 0.3333333333333333}),\n",
       " ('north-yorkshire',\n",
       "  0.15384615384615385,\n",
       "  {'controlled drugs': 0.16455696202531644,\n",
       "   'article for use in theft': 0.34782608695652173,\n",
       "   'stolen goods': 0.2549019607843137,\n",
       "   'offensive weapons': 0.15384615384615385}),\n",
       " ('cleveland',\n",
       "  0.21428571428571427,\n",
       "  {'controlled drugs': 0.29457364341085274,\n",
       "   'article for use in theft': 0.21428571428571427,\n",
       "   'stolen goods': 0.3684210526315789,\n",
       "   'offensive weapons': 0.3125}),\n",
       " ('dorset',\n",
       "  0.21739130434782608,\n",
       "  {'controlled drugs': 0.28378378378378377,\n",
       "   'article for use in theft': 0.21739130434782608,\n",
       "   'offensive weapons': 0.3181818181818182}),\n",
       " ('durham',\n",
       "  0.21951219512195122,\n",
       "  {'controlled drugs': 0.4268774703557312,\n",
       "   'article for use in theft': 0.21951219512195122,\n",
       "   'stolen goods': 0.5,\n",
       "   'offensive weapons': 0.37209302325581395})]"
      ]
     },
     "execution_count": 44,
     "metadata": {},
     "output_type": "execute_result"
    }
   ],
   "source": [
    "good_deparments"
   ]
  },
  {
   "cell_type": "code",
   "execution_count": 45,
   "id": "burning-price",
   "metadata": {},
   "outputs": [
    {
     "name": "stdout",
     "output_type": "stream",
     "text": [
      "0.05472636815920398\n"
     ]
    },
    {
     "data": {
      "text/plain": [
       "0.41411764705882353"
      ]
     },
     "execution_count": 45,
     "metadata": {},
     "output_type": "execute_result"
    }
   ],
   "source": [
    "print(min(global_precisions.values()))\n",
    "max(global_precisions.values())"
   ]
  },
  {
   "cell_type": "code",
   "execution_count": 46,
   "id": "maritime-grocery",
   "metadata": {},
   "outputs": [
    {
     "name": "stdout",
     "output_type": "stream",
     "text": [
      "0.041176470588235294\n"
     ]
    },
    {
     "data": {
      "text/plain": [
       "0.33070866141732286"
      ]
     },
     "execution_count": 46,
     "metadata": {},
     "output_type": "execute_result"
    }
   ],
   "source": [
    "print(min(global_precisions_objective.values()))\n",
    "max(global_precisions_objective.values())"
   ]
  },
  {
   "cell_type": "code",
   "execution_count": 47,
   "id": "sudden-newark",
   "metadata": {},
   "outputs": [],
   "source": [
    "# mask = (X_test['Object of search'] == 'offensive weapons') & (X_test['station'] == 'bedfordshire')\n",
    "# np.sum(mask)\n",
    "# precision_score(y_test[mask], y_pred[mask])\n",
    "# y_test[mask].value_counts()\n",
    "# pd.Series(y_pred[mask]).value_counts()"
   ]
  },
  {
   "cell_type": "markdown",
   "id": "social-deployment",
   "metadata": {},
   "source": [
    "### 2 - No police station should have a discrepancy bigger than 5% between the search success rate between protected classes (ethnicity, gender)"
   ]
  },
  {
   "cell_type": "code",
   "execution_count": 48,
   "id": "guided-newman",
   "metadata": {},
   "outputs": [],
   "source": [
    "def verify_no_discrimination(X_test, y_true, y_pred, sensitive_column, max_diff=0.05, min_samples=50):\n",
    "    \"\"\"\n",
    "    Verifies that no station has discrimination in between protected classes\n",
    "    \"\"\"\n",
    "    \n",
    "    departments = X_test['station'].unique()\n",
    "    sensitive_classes = X_test[sensitive_column].unique()\n",
    "    \n",
    "    is_satisfied = True\n",
    "    problematic_departments = []\n",
    "    good_deparments = []\n",
    "    ignored_departments = []\n",
    "    for department in departments:\n",
    "        precisions = {}\n",
    "        for sensitive_class in sensitive_classes:\n",
    "            mask = (X_test[sensitive_column] == sensitive_class) & (X_test['station'] == department)\n",
    "            if np.sum(mask) > min_samples:\n",
    "                precisions[sensitive_class] = precision_score(y_true[mask], y_pred[mask], pos_label=1)\n",
    "                \n",
    "        if len(precisions) > 1:    \n",
    "            diff = np.max(list(precisions.values())) - np.min(list(precisions.values()))\n",
    "\n",
    "            if diff > max_diff:\n",
    "                is_satisfied = False\n",
    "                problematic_departments.append((department, diff, precisions))\n",
    "            else:\n",
    "                good_deparments.append((department, diff, precisions))\n",
    "        else:\n",
    "            ignored_departments.append((department, None, []))\n",
    "    \n",
    "    global_precisions = {}\n",
    "    for sensitive_class in sensitive_classes:\n",
    "        mask = (X_test[sensitive_column] == sensitive_class)\n",
    "        if np.sum(mask) > min_samples:\n",
    "            global_precisions[sensitive_class] = precision_score(y_true[mask], y_pred[mask], pos_label=1)\n",
    "    \n",
    "    if len(precisions) > 1:    \n",
    "        diff = np.max(list(precisions.values())) - np.min(list(precisions.values()))\n",
    "        if diff > max_diff:\n",
    "            is_satisfied = False\n",
    "        \n",
    "    return is_satisfied, problematic_departments, good_deparments, ignored_departments, global_precisions\n"
   ]
  },
  {
   "cell_type": "code",
   "execution_count": 49,
   "id": "inside-registrar",
   "metadata": {},
   "outputs": [
    {
     "name": "stdout",
     "output_type": "stream",
     "text": [
      "\n",
      "Ethnicity\n",
      "Requirement failed 😢\n",
      "Global rates: {'Black': 0.279037610619469, 'White': 0.27004400140181456, 'Other': 0.25133689839572193, 'Asian': 0.26072485207100593, 'Mixed': 0.29707112970711297}\n",
      "Num problematic departments: 26\n",
      "Num good departments: 4\n",
      "Num ignored departments: 9\n",
      "avg diff: 0.10235446760074786\n",
      "\n",
      "\n",
      "Gender\n",
      "Requirement failed 😢\n",
      "Global rates: {'Male': 0.272475327835609, 'Female': 0.24784802612051055, 'Other': 0.3548387096774194}\n",
      "Num problematic departments: 15\n",
      "Num good departments: 22\n",
      "Num ignored departments: 2\n",
      "avg diff: 0.08195521517702552\n"
     ]
    }
   ],
   "source": [
    "is_satisfied, problematic_departments, good_deparments, ignored_departments, global_precisions = verify_no_discrimination(\n",
    "    df_test, y_test, y_pred_threshold, 'Officer-defined ethnicity', 0.05)\n",
    "\n",
    "print(\"\\nEthnicity\")\n",
    "\n",
    "if not is_satisfied:\n",
    "    print(\"Requirement failed 😢\")\n",
    "    print(\"Global rates: {}\".format(global_precisions))\n",
    "    print(\"Num problematic departments: {}\".format(len(problematic_departments)))\n",
    "    print(\"Num good departments: {}\".format(len(good_deparments)))\n",
    "    print(\"Num ignored departments: {}\".format(len(ignored_departments)))\n",
    "\n",
    "    print(\"avg diff:\", np.mean([p[1] for p in problematic_departments]))\n",
    "    \n",
    "    \n",
    "is_satisfied, problematic_departments, good_deparments, ignored_departments, global_precisions = verify_no_discrimination(\n",
    "    df_test, y_test, y_pred_threshold, 'Gender', 0.05)\n",
    "\n",
    "print(\"\\n\\nGender\")\n",
    "\n",
    "if not is_satisfied:\n",
    "    print(\"Requirement failed 😢\")\n",
    "    print(\"Global rates: {}\".format(global_precisions))\n",
    "    print(\"Num problematic departments: {}\".format(len(problematic_departments)))\n",
    "    print(\"Num good departments: {}\".format(len(good_deparments)))\n",
    "    print(\"Num ignored departments: {}\".format(len(ignored_departments)))\n",
    "    \n",
    "    print(\"avg diff:\", np.mean([p[1] for p in problematic_departments]))"
   ]
  },
  {
   "cell_type": "markdown",
   "id": "instant-wonder",
   "metadata": {},
   "source": [
    "### 3 - No police station should have a discrepancy bigger than x% between the Removal of more than just outer clothing rate between protected classes (age, ethnicity, gender)"
   ]
  },
  {
   "cell_type": "code",
   "execution_count": 50,
   "id": "spiritual-strain",
   "metadata": {},
   "outputs": [],
   "source": [
    "def verify_removal_clothing(X_test, y_true, y_pred, sensitive_column, max_diff, min_samples=50):\n",
    "    \"\"\"\n",
    "    Verifies that no station has discrepancy Removal of more than just outer clothing rate between \n",
    "    protected classes (age, ethnicity, gender)\n",
    "    \"\"\"\n",
    "    \n",
    "    departments = X_test['station'].unique()\n",
    "    sensitive_classes = X_test[sensitive_column].unique()\n",
    "    \n",
    "    is_satisfied = True\n",
    "    problematic_departments = []\n",
    "    good_deparments = []\n",
    "    ignored_departments = []\n",
    "    for department in departments:\n",
    "        removal_rate = {}\n",
    "        for sensitive_class in sensitive_classes:\n",
    "            mask = (X_test[sensitive_column] == sensitive_class) & (X_test['station'] == department) & (y_pred == 1)\n",
    "            if np.sum(mask) > min_samples:\n",
    "                removal_rate[sensitive_class] = (np.sum(X_test[mask]['Removal of more than just outer clothing']==1))/(X_test[mask]['Removal of more than just outer clothing'].shape[0])\n",
    "                \n",
    "        if len(removal_rate) > 1:    \n",
    "            diff = np.max(list(removal_rate.values())) - np.min(list(removal_rate.values()))\n",
    "\n",
    "            if diff > max_diff:\n",
    "                is_satisfied = False\n",
    "                problematic_departments.append((department, diff, removal_rate))\n",
    "            else:\n",
    "                good_deparments.append((department, diff, removal_rate))\n",
    "        else:\n",
    "            ignored_departments.append((department, None, []))\n",
    "    \n",
    "    global_removal_rate = {}\n",
    "    for sensitive_class in sensitive_classes:\n",
    "        mask = (X_test[sensitive_column] == sensitive_class) & (y_pred == True)\n",
    "        if np.sum(mask) > min_samples:\n",
    "            global_removal_rate[sensitive_class] = (np.sum(X_test[mask]['Removal of more than just outer clothing']==True))/(X_test[mask]['Removal of more than just outer clothing'].shape[0])\n",
    "    \n",
    "#     if len(precisions) > 1:    \n",
    "#         diff = np.max(list(precisions.values())) - np.min(list(precisions.values()))\n",
    "#         if diff > max_diff:\n",
    "#             is_satisfied = False\n",
    "        \n",
    "    return is_satisfied, problematic_departments, good_deparments, ignored_departments, global_removal_rate\n"
   ]
  },
  {
   "cell_type": "code",
   "execution_count": 51,
   "id": "adolescent-portsmouth",
   "metadata": {},
   "outputs": [
    {
     "name": "stdout",
     "output_type": "stream",
     "text": [
      "\n",
      "Gender\n",
      "Requirement failed 😢\n",
      "Global rates: {'Male': 0.043497363796133566, 'Female': 0.04630454140694568}\n",
      "Num problematic departments: 1\n",
      "Num good departments: 21\n",
      "Num ignored departments: 17\n",
      "avg diff: 0.06489201406328478\n",
      "\n",
      "\n",
      "Age range\n",
      "Requirement failed 😢\n",
      "Global rates: {'10-17': 0.02178370066632496, '25-34': 0.04849517319704713, 'over 34': 0.03992210321324245, '18-24': 0.04861258959619615}\n",
      "Num problematic departments: 11\n",
      "Num good departments: 25\n",
      "Num ignored departments: 3\n",
      "avg diff: 0.07417269582030767\n",
      "\n",
      "\n",
      "Ethnicity\n",
      "Requirement failed 😢\n",
      "Global rates: {'Black': 0.09596238938053098, 'White': 0.0350064249834508, 'Other': 0.0427807486631016, 'Asian': 0.05621301775147929, 'Mixed': 0.058577405857740586}\n",
      "Num problematic departments: 11\n",
      "Num good departments: 10\n",
      "Num ignored departments: 18\n",
      "avg diff: 0.10031150673539804\n"
     ]
    }
   ],
   "source": [
    "is_satisfied, problematic_departments, good_deparments, ignored_departments, global_removal_rate = verify_removal_clothing(\n",
    "    df_test, y_test, y_pred_threshold, 'Gender', 0.05)\n",
    "\n",
    "print(\"\\nGender\")\n",
    "\n",
    "if not is_satisfied:\n",
    "    print(\"Requirement failed 😢\")\n",
    "    print(\"Global rates: {}\".format(global_removal_rate))\n",
    "    print(\"Num problematic departments: {}\".format(len(problematic_departments)))\n",
    "    print(\"Num good departments: {}\".format(len(good_deparments)))\n",
    "    print(\"Num ignored departments: {}\".format(len(ignored_departments)))\n",
    "    \n",
    "    print(\"avg diff:\", np.mean([p[1] for p in problematic_departments]))\n",
    "    \n",
    "    \n",
    "is_satisfied, problematic_departments, good_deparments, ignored_departments, global_removal_rate = verify_removal_clothing(\n",
    "    df_test, y_test, y_pred_threshold, 'Age range', 0.05)\n",
    "\n",
    "print(\"\\n\\nAge range\")\n",
    "\n",
    "if not is_satisfied:\n",
    "    print(\"Requirement failed 😢\")\n",
    "    print(\"Global rates: {}\".format(global_removal_rate))\n",
    "    print(\"Num problematic departments: {}\".format(len(problematic_departments)))\n",
    "    print(\"Num good departments: {}\".format(len(good_deparments)))\n",
    "    print(\"Num ignored departments: {}\".format(len(ignored_departments)))\n",
    "    \n",
    "    print(\"avg diff:\", np.mean([p[1] for p in problematic_departments]))\n",
    "    \n",
    "    \n",
    "is_satisfied, problematic_departments, good_deparments, ignored_departments, global_removal_rate = verify_removal_clothing(\n",
    "    df_test, y_test, y_pred_threshold, 'Officer-defined ethnicity', 0.05)\n",
    "\n",
    "print(\"\\n\\nEthnicity\")\n",
    "\n",
    "if not is_satisfied:\n",
    "    print(\"Requirement failed 😢\")\n",
    "    print(\"Global rates: {}\".format(global_removal_rate))\n",
    "    print(\"Num problematic departments: {}\".format(len(problematic_departments)))\n",
    "    print(\"Num good departments: {}\".format(len(good_deparments)))\n",
    "    print(\"Num ignored departments: {}\".format(len(ignored_departments)))\n",
    "    \n",
    "    print(\"avg diff:\", np.mean([p[1] for p in problematic_departments]))"
   ]
  },
  {
   "cell_type": "code",
   "execution_count": null,
   "id": "alive-banner",
   "metadata": {},
   "outputs": [],
   "source": []
  },
  {
   "cell_type": "code",
   "execution_count": null,
   "id": "further-purchase",
   "metadata": {},
   "outputs": [],
   "source": []
  },
  {
   "cell_type": "code",
   "execution_count": null,
   "id": "collect-specific",
   "metadata": {},
   "outputs": [],
   "source": []
  },
  {
   "cell_type": "code",
   "execution_count": null,
   "id": "seasonal-pilot",
   "metadata": {},
   "outputs": [],
   "source": []
  },
  {
   "cell_type": "code",
   "execution_count": null,
   "id": "activated-marble",
   "metadata": {},
   "outputs": [],
   "source": []
  },
  {
   "cell_type": "code",
   "execution_count": null,
   "id": "external-workstation",
   "metadata": {},
   "outputs": [],
   "source": []
  },
  {
   "cell_type": "code",
   "execution_count": null,
   "id": "accompanied-sperm",
   "metadata": {},
   "outputs": [],
   "source": []
  },
  {
   "cell_type": "code",
   "execution_count": null,
   "id": "written-twins",
   "metadata": {},
   "outputs": [],
   "source": []
  }
 ],
 "metadata": {
  "kernelspec": {
   "display_name": "Python 3",
   "language": "python",
   "name": "python3"
  },
  "language_info": {
   "codemirror_mode": {
    "name": "ipython",
    "version": 3
   },
   "file_extension": ".py",
   "mimetype": "text/x-python",
   "name": "python",
   "nbconvert_exporter": "python",
   "pygments_lexer": "ipython3",
   "version": "3.6.9"
  }
 },
 "nbformat": 4,
 "nbformat_minor": 5
}
