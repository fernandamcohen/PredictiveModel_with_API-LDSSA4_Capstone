{
 "cells": [
  {
   "cell_type": "code",
   "execution_count": 35,
   "id": "greenhouse-anger",
   "metadata": {},
   "outputs": [],
   "source": [
    "import json\n",
    "import joblib\n",
    "import pickle\n",
    "import pandas as pd\n",
    "import numpy as np\n",
    "# import seaborn as sns\n",
    "from sklearn.model_selection import train_test_split\n",
    "from sklearn.pipeline import make_pipeline, Pipeline\n",
    "from sklearn.impute import SimpleImputer\n",
    "from sklearn.preprocessing import StandardScaler, OneHotEncoder\n",
    "from sklearn.compose import ColumnTransformer\n",
    "from sklearn.ensemble import RandomForestClassifier\n",
    "from sklearn.metrics import precision_score, recall_score, roc_auc_score\n",
    "from sklearn.metrics import precision_recall_curve\n",
    "\n",
    "import matplotlib.pyplot as plt\n",
    "import matplotlib.image as mpimg\n",
    "%matplotlib inline\n",
    "\n",
    "import warnings\n",
    "warnings.filterwarnings('ignore')\n",
    "\n",
    "import imblearn\n",
    "\n",
    "from imblearn.under_sampling import RandomUnderSampler\n",
    "from imblearn.over_sampling import RandomOverSampler\n"
   ]
  },
  {
   "cell_type": "markdown",
   "id": "eleven-trout",
   "metadata": {},
   "source": [
    "### Import dataset"
   ]
  },
  {
   "cell_type": "code",
   "execution_count": 2,
   "id": "recreational-focus",
   "metadata": {},
   "outputs": [],
   "source": [
    "train = pd.read_csv('data/train.csv')"
   ]
  },
  {
   "cell_type": "code",
   "execution_count": 3,
   "id": "electrical-cleveland",
   "metadata": {},
   "outputs": [
    {
     "data": {
      "text/plain": [
       "False    660611\n",
       "dtype: int64"
      ]
     },
     "execution_count": 3,
     "metadata": {},
     "output_type": "execute_result"
    }
   ],
   "source": [
    "# no duplicate lines\n",
    "train.duplicated().value_counts()"
   ]
  },
  {
   "cell_type": "code",
   "execution_count": 4,
   "id": "typical-blame",
   "metadata": {},
   "outputs": [
    {
     "data": {
      "text/plain": [
       "False    660611\n",
       "Name: observation_id, dtype: int64"
      ]
     },
     "execution_count": 4,
     "metadata": {},
     "output_type": "execute_result"
    }
   ],
   "source": [
    "# no duplicate observation_id\n",
    "train['observation_id'].duplicated().value_counts()"
   ]
  },
  {
   "cell_type": "markdown",
   "id": "comprehensive-pilot",
   "metadata": {},
   "source": [
    "### Features adjustments"
   ]
  },
  {
   "cell_type": "code",
   "execution_count": 5,
   "id": "boxed-world",
   "metadata": {},
   "outputs": [],
   "source": [
    "# transforming Date column in datetime\n",
    "train['Date']=pd.to_datetime(train['Date'], infer_datetime_format=True)\n",
    "\n",
    "# auxiliar Date feature (for temporal analyzis)\n",
    "train['referencia'] = train['Date'].dt.year*100 + train['Date'].dt.month\n",
    "\n",
    "# according to Dr Wilson's instructions: \n",
    "# \"If there was a search and the outcome linked to object of search has not been written please consider it to be False\"\n",
    "train['Outcome linked to object of search'] = train['Outcome linked to object of search'].fillna(False)\n",
    "\n",
    "# according to Dr Wilson's instructions missing values means False \n",
    "train['Part of a policing operation'] = train['Part of a policing operation'].fillna(False)\n",
    "\n",
    "# Outer clothing be filled with False? \n",
    "#Yes, except when it’s just a vehicle search, in which case it makes no sense and should be kept as NaN\n",
    "# mask= ((train['Type']!='Vehicle search') & \n",
    "#       (train['Removal of more than just outer clothing'] != True) &\n",
    "#       (train['Removal of more than just outer clothing'] != False))\n",
    "\n",
    "# train.loc[mask, 'Removal of more than just outer clothing']=False\n",
    "\n",
    "train['Removal of more than just outer clothing'] = train['Removal of more than just outer clothing'].fillna(False)"
   ]
  },
  {
   "cell_type": "markdown",
   "id": "chemical-singles",
   "metadata": {},
   "source": [
    "### Filtering / Exclusions"
   ]
  },
  {
   "cell_type": "code",
   "execution_count": 6,
   "id": "western-pavilion",
   "metadata": {},
   "outputs": [],
   "source": [
    "# The Metropolitan station (which is very large and has lots of data in the training set) has the features \n",
    "# Outcome linked to object of search and Removal of outer clothing without any data (always missing). \n",
    "# Is this a known problem, and if so how should we proceed? \n",
    "# Thank you for bringing this to our attention, I’ve contacted the administration at the Metropolitan and asked that \n",
    "# they fix their data entry. Please include this in your report, and do not use the Metropolitan station’s data \n",
    "# for training your models. They will not be in the test set. "
   ]
  },
  {
   "cell_type": "code",
   "execution_count": 7,
   "id": "significant-bidder",
   "metadata": {},
   "outputs": [],
   "source": [
    "# Gwent and Humberside have the same problem of Metropolitan. So I will exclude this observations\n",
    "# dyfed-powys has 1.9% sucess rate, what is very low, so it will exclude for modeling proposes"
   ]
  },
  {
   "cell_type": "code",
   "execution_count": 8,
   "id": "confused-queens",
   "metadata": {},
   "outputs": [
    {
     "name": "stdout",
     "output_type": "stream",
     "text": [
      "Exclusion of 360164 observations\n"
     ]
    },
    {
     "data": {
      "text/plain": [
       "(300447, 17)"
      ]
     },
     "execution_count": 8,
     "metadata": {},
     "output_type": "execute_result"
    }
   ],
   "source": [
    "stations_to_exclude = ['metropolitan', 'gwent', 'humberside', 'dyfed-powys']\n",
    "train_model = train[~train['station'].isin(stations_to_exclude)]\n",
    "print(\"Exclusion of {} observations\".format(train[train['station'].isin(stations_to_exclude)]['observation_id'].nunique()))\n",
    "train_model.shape"
   ]
  },
  {
   "cell_type": "code",
   "execution_count": 9,
   "id": "coastal-standing",
   "metadata": {},
   "outputs": [],
   "source": [
    "# Search on individuals with less than 10 years seems unrealist, so I will remove it"
   ]
  },
  {
   "cell_type": "code",
   "execution_count": 10,
   "id": "rising-material",
   "metadata": {},
   "outputs": [],
   "source": [
    "# age_to_exclude = ['under 10']\n",
    "# print(\"Exclusion of {} observations\".format(train_model[train_model['Age range'].isin(age_to_exclude)]['observation_id'].nunique()))\n",
    "# train_model = train_model[~train_model['Age range'].isin(age_to_exclude)]\n",
    "# train_model.shape"
   ]
  },
  {
   "cell_type": "markdown",
   "id": "functional-deputy",
   "metadata": {},
   "source": [
    "### Target"
   ]
  },
  {
   "cell_type": "code",
   "execution_count": 11,
   "id": "nominated-packet",
   "metadata": {},
   "outputs": [],
   "source": [
    "positive_outcome = ['Local resolution',\n",
    "           'Community resolution',\n",
    "           'Arrest',\n",
    "           'Article found - Detailed outcome unavailable',\n",
    "           'Caution (simple or conditional)',\n",
    "           'Khat or Cannabis warning',\n",
    "           'Offender cautioned',\n",
    "           'Offender given drugs possession warning',\n",
    "           'Offender given penalty notice',\n",
    "           'Penalty Notice for Disorder',\n",
    "           'Summons / charged by post',\n",
    "           'Suspect arrested',\n",
    "           'Suspect summonsed to court',\n",
    "           'Suspected psychoactive substances seized - No further action']\n",
    "\n",
    "train_model['positive_outcome'] = train_model['Outcome'].isin(positive_outcome)"
   ]
  },
  {
   "cell_type": "code",
   "execution_count": 12,
   "id": "received-grove",
   "metadata": {},
   "outputs": [],
   "source": [
    "train_model['target'] = 0\n",
    "mask=((train_model[\"positive_outcome\"] == True) & (train_model[\"Outcome linked to object of search\"]==True))\n",
    "train_model.loc[mask, 'target']=1"
   ]
  },
  {
   "cell_type": "code",
   "execution_count": 13,
   "id": "purple-terror",
   "metadata": {},
   "outputs": [
    {
     "data": {
      "text/html": [
       "<div>\n",
       "<style scoped>\n",
       "    .dataframe tbody tr th:only-of-type {\n",
       "        vertical-align: middle;\n",
       "    }\n",
       "\n",
       "    .dataframe tbody tr th {\n",
       "        vertical-align: top;\n",
       "    }\n",
       "\n",
       "    .dataframe thead th {\n",
       "        text-align: right;\n",
       "    }\n",
       "</style>\n",
       "<table border=\"1\" class=\"dataframe\">\n",
       "  <thead>\n",
       "    <tr style=\"text-align: right;\">\n",
       "      <th>Outcome linked to object of search</th>\n",
       "      <th>False</th>\n",
       "      <th>True</th>\n",
       "      <th>Total</th>\n",
       "    </tr>\n",
       "    <tr>\n",
       "      <th>positive_outcome</th>\n",
       "      <th></th>\n",
       "      <th></th>\n",
       "      <th></th>\n",
       "    </tr>\n",
       "  </thead>\n",
       "  <tbody>\n",
       "    <tr>\n",
       "      <th>False</th>\n",
       "      <td>172092</td>\n",
       "      <td>37859</td>\n",
       "      <td>209951</td>\n",
       "    </tr>\n",
       "    <tr>\n",
       "      <th>True</th>\n",
       "      <td>28291</td>\n",
       "      <td>62205</td>\n",
       "      <td>90496</td>\n",
       "    </tr>\n",
       "    <tr>\n",
       "      <th>Total</th>\n",
       "      <td>200383</td>\n",
       "      <td>100064</td>\n",
       "      <td>300447</td>\n",
       "    </tr>\n",
       "  </tbody>\n",
       "</table>\n",
       "</div>"
      ],
      "text/plain": [
       "Outcome linked to object of search   False    True   Total\n",
       "positive_outcome                                          \n",
       "False                               172092   37859  209951\n",
       "True                                 28291   62205   90496\n",
       "Total                               200383  100064  300447"
      ]
     },
     "execution_count": 13,
     "metadata": {},
     "output_type": "execute_result"
    }
   ],
   "source": [
    "pd.crosstab(train_model[\"positive_outcome\"],train_model[\"Outcome linked to object of search\"],\n",
    "            margins=True, margins_name=\"Total\",dropna=False)"
   ]
  },
  {
   "cell_type": "code",
   "execution_count": 14,
   "id": "tight-commodity",
   "metadata": {},
   "outputs": [
    {
     "name": "stdout",
     "output_type": "stream",
     "text": [
      "0    238242\n",
      "1     62205\n",
      "Name: target, dtype: int64\n"
     ]
    },
    {
     "data": {
      "text/plain": [
       "0    0.792958\n",
       "1    0.207042\n",
       "Name: target, dtype: float64"
      ]
     },
     "execution_count": 14,
     "metadata": {},
     "output_type": "execute_result"
    }
   ],
   "source": [
    "print(train_model['target'].value_counts(dropna=False))\n",
    "train_model['target'].value_counts(dropna=False,normalize=True)"
   ]
  },
  {
   "cell_type": "code",
   "execution_count": 15,
   "id": "nutritional-yellow",
   "metadata": {},
   "outputs": [],
   "source": [
    "# print(train_model['positive_outcome'].value_counts(dropna=False))\n",
    "# train_model['positive_outcome'].value_counts(dropna=False,normalize=True)\n",
    "# pd.crosstab(train_model[\"referencia\"],train_model[\"target\"],normalize='index')\n",
    "# pd.crosstab(train_model[\"Gender\"],train_model[\"target\"],normalize='index')\n",
    "# pd.crosstab(train_model[\"station\"],train_model[\"target\"],normalize='index')\n",
    "# pd.crosstab(train_model[\"station\"],train_model[\"positive_outcome\"],normalize='index')"
   ]
  },
  {
   "cell_type": "markdown",
   "id": "affecting-prefix",
   "metadata": {},
   "source": [
    "### Feature engineering"
   ]
  },
  {
   "cell_type": "code",
   "execution_count": 16,
   "id": "portuguese-label",
   "metadata": {},
   "outputs": [],
   "source": [
    "# get the hour and day of the week, maybe they will be useful \n",
    "train_model['hour'] = train_model['Date'].dt.hour\n",
    "train_model['month'] = train_model['Date'].dt.month\n",
    "train_model['day_of_week'] = train_model['Date'].dt.day_name()"
   ]
  },
  {
   "cell_type": "code",
   "execution_count": 17,
   "id": "gentle-natural",
   "metadata": {},
   "outputs": [
    {
     "data": {
      "text/plain": [
       "misuse of drugs act 1971 (section 23)                      175438\n",
       "police and criminal evidence act 1984 (section 1)           91781\n",
       "missing infomation                                          27669\n",
       "criminal justice and public order act 1994 (section 60)      2670\n",
       "firearms act 1968 (section 47)                               1830\n",
       "others                                                       1059\n",
       "Name: Legislation, dtype: int64"
      ]
     },
     "execution_count": 17,
     "metadata": {},
     "output_type": "execute_result"
    }
   ],
   "source": [
    "# Legislation - reducing the quantity of categories\n",
    "# train_model.groupby(['Legislation','target'], dropna=False)['Outcome'].count().unstack()\n",
    "\n",
    "train_model['Legislation']=train_model['Legislation'].fillna('missing infomation')\n",
    "train_model['Legislation'] = train_model['Legislation'].apply(lambda x: str(x).lower())\n",
    "\n",
    "legislation_categories = ['misuse of drugs act 1971 (section 23)', 'police and criminal evidence act 1984 (section 1)', \n",
    "                          'criminal justice and public order act 1994 (section 60)', 'firearms act 1968 (section 47)'\n",
    "                          ,'missing infomation'\n",
    "                         ]\n",
    "\n",
    "mask=(~train_model['Legislation'].isin(legislation_categories))\n",
    "train_model.loc[mask, 'Legislation']='others'\n",
    "\n",
    "train_model['Legislation'].value_counts()"
   ]
  },
  {
   "cell_type": "markdown",
   "id": "exotic-typing",
   "metadata": {},
   "source": [
    "### Text Data normalization"
   ]
  },
  {
   "cell_type": "code",
   "execution_count": 18,
   "id": "productive-mills",
   "metadata": {},
   "outputs": [],
   "source": [
    "train_model['Object of search'] = train_model['Object of search'].apply(lambda x: str(x).lower())\n",
    "# train_model['Object of search'].value_counts()"
   ]
  },
  {
   "cell_type": "code",
   "execution_count": 19,
   "id": "bottom-newspaper",
   "metadata": {},
   "outputs": [],
   "source": [
    "train_model['station'] = train_model['station'].apply(lambda x: str(x).lower())\n",
    "# train_model['station'].value_counts()"
   ]
  },
  {
   "cell_type": "code",
   "execution_count": 20,
   "id": "vertical-active",
   "metadata": {},
   "outputs": [],
   "source": [
    "train_model['Type'] = train_model['Type'].apply(lambda x: str(x).lower())"
   ]
  },
  {
   "cell_type": "code",
   "execution_count": 21,
   "id": "promising-connecticut",
   "metadata": {},
   "outputs": [],
   "source": [
    "train_model['Age range'] = train_model['Age range'].apply(lambda x: str(x).lower())"
   ]
  },
  {
   "cell_type": "code",
   "execution_count": 22,
   "id": "extensive-compatibility",
   "metadata": {},
   "outputs": [],
   "source": [
    "train_model['Gender'] = train_model['Gender'].apply(lambda x: str(x).lower())"
   ]
  },
  {
   "cell_type": "code",
   "execution_count": 23,
   "id": "sized-functionality",
   "metadata": {},
   "outputs": [],
   "source": [
    "train_model['Officer-defined ethnicity'] = train_model['Officer-defined ethnicity'].apply(lambda x: str(x).lower())"
   ]
  },
  {
   "cell_type": "code",
   "execution_count": 24,
   "id": "approximate-annual",
   "metadata": {},
   "outputs": [
    {
     "data": {
      "text/html": [
       "<div>\n",
       "<style scoped>\n",
       "    .dataframe tbody tr th:only-of-type {\n",
       "        vertical-align: middle;\n",
       "    }\n",
       "\n",
       "    .dataframe tbody tr th {\n",
       "        vertical-align: top;\n",
       "    }\n",
       "\n",
       "    .dataframe thead th {\n",
       "        text-align: right;\n",
       "    }\n",
       "</style>\n",
       "<table border=\"1\" class=\"dataframe\">\n",
       "  <thead>\n",
       "    <tr style=\"text-align: right;\">\n",
       "      <th></th>\n",
       "      <th>observation_id</th>\n",
       "      <th>Type</th>\n",
       "      <th>Date</th>\n",
       "      <th>Part of a policing operation</th>\n",
       "      <th>Latitude</th>\n",
       "      <th>Longitude</th>\n",
       "      <th>Gender</th>\n",
       "      <th>Age range</th>\n",
       "      <th>Self-defined ethnicity</th>\n",
       "      <th>Officer-defined ethnicity</th>\n",
       "      <th>...</th>\n",
       "      <th>Outcome</th>\n",
       "      <th>Outcome linked to object of search</th>\n",
       "      <th>Removal of more than just outer clothing</th>\n",
       "      <th>station</th>\n",
       "      <th>referencia</th>\n",
       "      <th>positive_outcome</th>\n",
       "      <th>target</th>\n",
       "      <th>hour</th>\n",
       "      <th>month</th>\n",
       "      <th>day_of_week</th>\n",
       "    </tr>\n",
       "  </thead>\n",
       "  <tbody>\n",
       "    <tr>\n",
       "      <th>0</th>\n",
       "      <td>34d76816-cfc2-4bdd-b3a2-bf0c40b12689</td>\n",
       "      <td>person search</td>\n",
       "      <td>2019-12-01 00:00:00+00:00</td>\n",
       "      <td>True</td>\n",
       "      <td>NaN</td>\n",
       "      <td>NaN</td>\n",
       "      <td>male</td>\n",
       "      <td>18-24</td>\n",
       "      <td>Asian/Asian British - Any other Asian background</td>\n",
       "      <td>asian</td>\n",
       "      <td>...</td>\n",
       "      <td>A no further action disposal</td>\n",
       "      <td>False</td>\n",
       "      <td>False</td>\n",
       "      <td>devon-and-cornwall</td>\n",
       "      <td>201912</td>\n",
       "      <td>False</td>\n",
       "      <td>0</td>\n",
       "      <td>0</td>\n",
       "      <td>12</td>\n",
       "      <td>Sunday</td>\n",
       "    </tr>\n",
       "    <tr>\n",
       "      <th>1</th>\n",
       "      <td>83c87ec1-e6d4-4bbb-8e0c-159516706359</td>\n",
       "      <td>person search</td>\n",
       "      <td>2019-12-01 00:09:00+00:00</td>\n",
       "      <td>True</td>\n",
       "      <td>NaN</td>\n",
       "      <td>NaN</td>\n",
       "      <td>male</td>\n",
       "      <td>18-24</td>\n",
       "      <td>NaN</td>\n",
       "      <td>white</td>\n",
       "      <td>...</td>\n",
       "      <td>A no further action disposal</td>\n",
       "      <td>False</td>\n",
       "      <td>False</td>\n",
       "      <td>devon-and-cornwall</td>\n",
       "      <td>201912</td>\n",
       "      <td>False</td>\n",
       "      <td>0</td>\n",
       "      <td>0</td>\n",
       "      <td>12</td>\n",
       "      <td>Sunday</td>\n",
       "    </tr>\n",
       "    <tr>\n",
       "      <th>2</th>\n",
       "      <td>8c2eae4b-035a-492f-92d6-cd27e6c900a1</td>\n",
       "      <td>person search</td>\n",
       "      <td>2019-12-01 00:10:00+00:00</td>\n",
       "      <td>True</td>\n",
       "      <td>NaN</td>\n",
       "      <td>NaN</td>\n",
       "      <td>female</td>\n",
       "      <td>18-24</td>\n",
       "      <td>White - English/Welsh/Scottish/Northern Irish/...</td>\n",
       "      <td>white</td>\n",
       "      <td>...</td>\n",
       "      <td>A no further action disposal</td>\n",
       "      <td>False</td>\n",
       "      <td>False</td>\n",
       "      <td>devon-and-cornwall</td>\n",
       "      <td>201912</td>\n",
       "      <td>False</td>\n",
       "      <td>0</td>\n",
       "      <td>0</td>\n",
       "      <td>12</td>\n",
       "      <td>Sunday</td>\n",
       "    </tr>\n",
       "    <tr>\n",
       "      <th>3</th>\n",
       "      <td>e63a036a-a728-4efe-8e08-7198f56d6d0a</td>\n",
       "      <td>person search</td>\n",
       "      <td>2019-12-01 00:10:00+00:00</td>\n",
       "      <td>False</td>\n",
       "      <td>NaN</td>\n",
       "      <td>NaN</td>\n",
       "      <td>male</td>\n",
       "      <td>18-24</td>\n",
       "      <td>NaN</td>\n",
       "      <td>asian</td>\n",
       "      <td>...</td>\n",
       "      <td>A no further action disposal</td>\n",
       "      <td>False</td>\n",
       "      <td>False</td>\n",
       "      <td>devon-and-cornwall</td>\n",
       "      <td>201912</td>\n",
       "      <td>False</td>\n",
       "      <td>0</td>\n",
       "      <td>0</td>\n",
       "      <td>12</td>\n",
       "      <td>Sunday</td>\n",
       "    </tr>\n",
       "    <tr>\n",
       "      <th>4</th>\n",
       "      <td>40c70aca-1f7f-4efe-8c5b-ade0f2e9937d</td>\n",
       "      <td>person search</td>\n",
       "      <td>2019-12-01 00:12:00+00:00</td>\n",
       "      <td>True</td>\n",
       "      <td>50.368247</td>\n",
       "      <td>-4.126646</td>\n",
       "      <td>male</td>\n",
       "      <td>18-24</td>\n",
       "      <td>NaN</td>\n",
       "      <td>white</td>\n",
       "      <td>...</td>\n",
       "      <td>A no further action disposal</td>\n",
       "      <td>False</td>\n",
       "      <td>False</td>\n",
       "      <td>devon-and-cornwall</td>\n",
       "      <td>201912</td>\n",
       "      <td>False</td>\n",
       "      <td>0</td>\n",
       "      <td>0</td>\n",
       "      <td>12</td>\n",
       "      <td>Sunday</td>\n",
       "    </tr>\n",
       "  </tbody>\n",
       "</table>\n",
       "<p>5 rows × 22 columns</p>\n",
       "</div>"
      ],
      "text/plain": [
       "                         observation_id           Type  \\\n",
       "0  34d76816-cfc2-4bdd-b3a2-bf0c40b12689  person search   \n",
       "1  83c87ec1-e6d4-4bbb-8e0c-159516706359  person search   \n",
       "2  8c2eae4b-035a-492f-92d6-cd27e6c900a1  person search   \n",
       "3  e63a036a-a728-4efe-8e08-7198f56d6d0a  person search   \n",
       "4  40c70aca-1f7f-4efe-8c5b-ade0f2e9937d  person search   \n",
       "\n",
       "                       Date  Part of a policing operation   Latitude  \\\n",
       "0 2019-12-01 00:00:00+00:00                          True        NaN   \n",
       "1 2019-12-01 00:09:00+00:00                          True        NaN   \n",
       "2 2019-12-01 00:10:00+00:00                          True        NaN   \n",
       "3 2019-12-01 00:10:00+00:00                         False        NaN   \n",
       "4 2019-12-01 00:12:00+00:00                          True  50.368247   \n",
       "\n",
       "   Longitude  Gender Age range  \\\n",
       "0        NaN    male     18-24   \n",
       "1        NaN    male     18-24   \n",
       "2        NaN  female     18-24   \n",
       "3        NaN    male     18-24   \n",
       "4  -4.126646    male     18-24   \n",
       "\n",
       "                              Self-defined ethnicity  \\\n",
       "0   Asian/Asian British - Any other Asian background   \n",
       "1                                                NaN   \n",
       "2  White - English/Welsh/Scottish/Northern Irish/...   \n",
       "3                                                NaN   \n",
       "4                                                NaN   \n",
       "\n",
       "  Officer-defined ethnicity  ...                       Outcome  \\\n",
       "0                     asian  ...  A no further action disposal   \n",
       "1                     white  ...  A no further action disposal   \n",
       "2                     white  ...  A no further action disposal   \n",
       "3                     asian  ...  A no further action disposal   \n",
       "4                     white  ...  A no further action disposal   \n",
       "\n",
       "  Outcome linked to object of search Removal of more than just outer clothing  \\\n",
       "0                              False                                    False   \n",
       "1                              False                                    False   \n",
       "2                              False                                    False   \n",
       "3                              False                                    False   \n",
       "4                              False                                    False   \n",
       "\n",
       "              station  referencia positive_outcome  target  hour  month  \\\n",
       "0  devon-and-cornwall      201912            False       0     0     12   \n",
       "1  devon-and-cornwall      201912            False       0     0     12   \n",
       "2  devon-and-cornwall      201912            False       0     0     12   \n",
       "3  devon-and-cornwall      201912            False       0     0     12   \n",
       "4  devon-and-cornwall      201912            False       0     0     12   \n",
       "\n",
       "   day_of_week  \n",
       "0       Sunday  \n",
       "1       Sunday  \n",
       "2       Sunday  \n",
       "3       Sunday  \n",
       "4       Sunday  \n",
       "\n",
       "[5 rows x 22 columns]"
      ]
     },
     "execution_count": 24,
     "metadata": {},
     "output_type": "execute_result"
    }
   ],
   "source": [
    "train_model.head()"
   ]
  },
  {
   "cell_type": "markdown",
   "id": "charged-stewart",
   "metadata": {},
   "source": [
    "### Latitude and Longitude"
   ]
  },
  {
   "cell_type": "code",
   "execution_count": 25,
   "id": "statewide-jenny",
   "metadata": {},
   "outputs": [],
   "source": [
    "# print(train_model['Latitude'].describe())\n",
    "# train_model['Longitude'].describe()"
   ]
  },
  {
   "cell_type": "code",
   "execution_count": 26,
   "id": "applied-hygiene",
   "metadata": {},
   "outputs": [],
   "source": [
    "train_model['Latitude'] = train_model['Longitude'].fillna(0)\n",
    "train_model['Longitude'] = train_model['Longitude'].fillna(50)"
   ]
  },
  {
   "cell_type": "code",
   "execution_count": null,
   "id": "cloudy-heater",
   "metadata": {},
   "outputs": [],
   "source": []
  },
  {
   "cell_type": "markdown",
   "id": "noticed-security",
   "metadata": {},
   "source": [
    "### Other variables adjustments"
   ]
  },
  {
   "cell_type": "code",
   "execution_count": 27,
   "id": "retained-depression",
   "metadata": {},
   "outputs": [
    {
     "data": {
      "text/plain": [
       "18-24       241905\n",
       "25-34       158181\n",
       "10-17       131763\n",
       "over 34     128378\n",
       "under 10       384\n",
       "Name: Age range, dtype: int64"
      ]
     },
     "execution_count": 27,
     "metadata": {},
     "output_type": "execute_result"
    }
   ],
   "source": [
    "train['Age range'].value_counts(dropna=False)"
   ]
  },
  {
   "cell_type": "code",
   "execution_count": 28,
   "id": "exciting-offset",
   "metadata": {},
   "outputs": [],
   "source": [
    "train_model['Age range']=train_model['Age range'].replace({'under 10': 'under 18', '10-17': 'under 18'})"
   ]
  },
  {
   "cell_type": "code",
   "execution_count": 29,
   "id": "exotic-session",
   "metadata": {},
   "outputs": [
    {
     "data": {
      "text/plain": [
       "18-24       102548\n",
       "25-34        72861\n",
       "over 34      65541\n",
       "under 18     59497\n",
       "Name: Age range, dtype: int64"
      ]
     },
     "execution_count": 29,
     "metadata": {},
     "output_type": "execute_result"
    }
   ],
   "source": [
    "train_model['Age range'].value_counts(dropna=False)"
   ]
  },
  {
   "cell_type": "code",
   "execution_count": 30,
   "id": "subsequent-geometry",
   "metadata": {},
   "outputs": [
    {
     "data": {
      "text/plain": [
       "White    378311\n",
       "Black    174593\n",
       "Asian     86035\n",
       "Other     19842\n",
       "Mixed      1830\n",
       "Name: Officer-defined ethnicity, dtype: int64"
      ]
     },
     "execution_count": 30,
     "metadata": {},
     "output_type": "execute_result"
    }
   ],
   "source": [
    "train['Officer-defined ethnicity'].value_counts(dropna=False)"
   ]
  },
  {
   "cell_type": "code",
   "execution_count": 31,
   "id": "animal-plate",
   "metadata": {},
   "outputs": [],
   "source": [
    "train_model['Officer-defined ethnicity'] = train_model['Officer-defined ethnicity'].replace({'mixed': 'other'})"
   ]
  },
  {
   "cell_type": "code",
   "execution_count": 32,
   "id": "gentle-hazard",
   "metadata": {},
   "outputs": [
    {
     "data": {
      "text/plain": [
       "white    235885\n",
       "black     32261\n",
       "asian     24533\n",
       "other      7768\n",
       "Name: Officer-defined ethnicity, dtype: int64"
      ]
     },
     "execution_count": 32,
     "metadata": {},
     "output_type": "execute_result"
    }
   ],
   "source": [
    "train_model['Officer-defined ethnicity'].value_counts(dropna=False)"
   ]
  },
  {
   "cell_type": "markdown",
   "id": "headed-sapphire",
   "metadata": {},
   "source": [
    "### Over and Undersampling"
   ]
  },
  {
   "cell_type": "code",
   "execution_count": null,
   "id": "creative-group",
   "metadata": {},
   "outputs": [],
   "source": [
    "RandomUnderSampler(sampling_strategy='minority')"
   ]
  },
  {
   "cell_type": "code",
   "execution_count": 38,
   "id": "classified-three",
   "metadata": {},
   "outputs": [],
   "source": [
    "# define undersample strategy\n",
    "undersample = RandomUnderSampler(sampling_strategy='all')"
   ]
  },
  {
   "cell_type": "code",
   "execution_count": 43,
   "id": "respective-radiation",
   "metadata": {},
   "outputs": [],
   "source": [
    "# fit and apply the transform\n",
    "X_under, y_under = undersample.fit_resample(train_model, train_model['Officer-defined ethnicity'])"
   ]
  },
  {
   "cell_type": "code",
   "execution_count": 44,
   "id": "induced-issue",
   "metadata": {},
   "outputs": [
    {
     "data": {
      "text/plain": [
       "(31072, 22)"
      ]
     },
     "execution_count": 44,
     "metadata": {},
     "output_type": "execute_result"
    }
   ],
   "source": [
    "X_under.shape"
   ]
  },
  {
   "cell_type": "code",
   "execution_count": 45,
   "id": "structured-following",
   "metadata": {},
   "outputs": [
    {
     "data": {
      "text/plain": [
       "black    7768\n",
       "other    7768\n",
       "asian    7768\n",
       "white    7768\n",
       "Name: Officer-defined ethnicity, dtype: int64"
      ]
     },
     "execution_count": 45,
     "metadata": {},
     "output_type": "execute_result"
    }
   ],
   "source": [
    "X_under['Officer-defined ethnicity'].value_counts()"
   ]
  },
  {
   "cell_type": "code",
   "execution_count": 60,
   "id": "extended-syntax",
   "metadata": {},
   "outputs": [],
   "source": [
    "oversample = RandomOverSampler(sampling_strategy='not minority')"
   ]
  },
  {
   "cell_type": "code",
   "execution_count": 61,
   "id": "settled-folks",
   "metadata": {},
   "outputs": [],
   "source": [
    "# fit and apply the transform\n",
    "X_over, y_over = oversample.fit_resample(train_model, train_model['Officer-defined ethnicity'])"
   ]
  },
  {
   "cell_type": "code",
   "execution_count": 62,
   "id": "creative-illustration",
   "metadata": {},
   "outputs": [
    {
     "data": {
      "text/plain": [
       "asian    235885\n",
       "black    235885\n",
       "white    235885\n",
       "other      7768\n",
       "Name: Officer-defined ethnicity, dtype: int64"
      ]
     },
     "execution_count": 62,
     "metadata": {},
     "output_type": "execute_result"
    }
   ],
   "source": [
    "X_over['Officer-defined ethnicity'].value_counts()"
   ]
  },
  {
   "cell_type": "code",
   "execution_count": 64,
   "id": "signed-pittsburgh",
   "metadata": {},
   "outputs": [
    {
     "data": {
      "text/plain": [
       "white    235885\n",
       "black     32261\n",
       "asian     24533\n",
       "other      7768\n",
       "Name: Officer-defined ethnicity, dtype: int64"
      ]
     },
     "execution_count": 64,
     "metadata": {},
     "output_type": "execute_result"
    }
   ],
   "source": [
    "train_model['Officer-defined ethnicity'].value_counts()"
   ]
  },
  {
   "cell_type": "code",
   "execution_count": 65,
   "id": "abroad-couple",
   "metadata": {},
   "outputs": [],
   "source": [
    "oversample2 = RandomOverSampler(sampling_strategy='minority')"
   ]
  },
  {
   "cell_type": "code",
   "execution_count": 72,
   "id": "dimensional-bacteria",
   "metadata": {},
   "outputs": [
    {
     "data": {
      "text/plain": [
       "(31072, 22)"
      ]
     },
     "execution_count": 72,
     "metadata": {},
     "output_type": "execute_result"
    }
   ],
   "source": [
    "X_other = X_over[X_over['Officer-defined ethnicity']=='other']\n",
    "aux = X_other\n",
    "X_other =X_other.append(aux)\n",
    "X_other =X_other.append(aux)\n",
    "X_other =X_other.append(aux)\n",
    "X_other.shape"
   ]
  },
  {
   "cell_type": "code",
   "execution_count": 73,
   "id": "unable-moscow",
   "metadata": {},
   "outputs": [],
   "source": [
    "train_balance = X_over.append(X_other)"
   ]
  },
  {
   "cell_type": "code",
   "execution_count": 74,
   "id": "applied-appeal",
   "metadata": {},
   "outputs": [
    {
     "data": {
      "text/plain": [
       "asian    235885\n",
       "black    235885\n",
       "white    235885\n",
       "other     38840\n",
       "Name: Officer-defined ethnicity, dtype: int64"
      ]
     },
     "execution_count": 74,
     "metadata": {},
     "output_type": "execute_result"
    }
   ],
   "source": [
    "train_balance['Officer-defined ethnicity'].value_counts()"
   ]
  },
  {
   "cell_type": "code",
   "execution_count": 75,
   "id": "cosmetic-address",
   "metadata": {},
   "outputs": [
    {
     "data": {
      "text/plain": [
       "0    0.79368\n",
       "1    0.20632\n",
       "Name: target, dtype: float64"
      ]
     },
     "execution_count": 75,
     "metadata": {},
     "output_type": "execute_result"
    }
   ],
   "source": [
    "train_balance['target'].value_counts(normalize=True)"
   ]
  },
  {
   "cell_type": "markdown",
   "id": "musical-bobby",
   "metadata": {},
   "source": [
    "### Data split"
   ]
  },
  {
   "cell_type": "code",
   "execution_count": 76,
   "id": "waiting-democrat",
   "metadata": {},
   "outputs": [],
   "source": [
    "df_train, df_test = train_test_split(train_balance, test_size=0.3, random_state=42)"
   ]
  },
  {
   "cell_type": "code",
   "execution_count": 77,
   "id": "legal-likelihood",
   "metadata": {},
   "outputs": [
    {
     "data": {
      "text/plain": [
       "(522546, 22)"
      ]
     },
     "execution_count": 77,
     "metadata": {},
     "output_type": "execute_result"
    }
   ],
   "source": [
    "df_train.shape"
   ]
  },
  {
   "cell_type": "code",
   "execution_count": 78,
   "id": "textile-blackberry",
   "metadata": {},
   "outputs": [
    {
     "data": {
      "text/plain": [
       "(223949, 22)"
      ]
     },
     "execution_count": 78,
     "metadata": {},
     "output_type": "execute_result"
    }
   ],
   "source": [
    "df_test.shape"
   ]
  },
  {
   "cell_type": "code",
   "execution_count": null,
   "id": "artificial-detroit",
   "metadata": {},
   "outputs": [],
   "source": []
  },
  {
   "cell_type": "markdown",
   "id": "downtown-throat",
   "metadata": {},
   "source": [
    "### Training a baseline model"
   ]
  },
  {
   "cell_type": "code",
   "execution_count": 79,
   "id": "piano-attendance",
   "metadata": {},
   "outputs": [
    {
     "data": {
      "text/plain": [
       "0.6114459482457061"
      ]
     },
     "execution_count": 79,
     "metadata": {},
     "output_type": "execute_result"
    }
   ],
   "source": [
    "all_features = ['Type', 'Part of a policing operation', 'Age range', 'Latitude', 'Longitude',\n",
    "                'Legislation', 'hour', 'month', 'day_of_week']\n",
    "\n",
    "numerical_features = ['hour', 'month','Latitude', 'Longitude']\n",
    "\n",
    "categorical_features = ['Type', 'Part of a policing operation', 'Age range',\n",
    "                        'Legislation', 'day_of_week']\n",
    "\n",
    "numeric_transformer = Pipeline(steps=[\n",
    "    ('imputer', SimpleImputer(strategy='median')),\n",
    "    ('scaler', StandardScaler())])\n",
    "\n",
    "categorical_transformer = Pipeline(steps=[\n",
    "    ('imputer', SimpleImputer(strategy='constant', fill_value='missing')),\n",
    "    ('onehot', OneHotEncoder(handle_unknown='ignore'))])\n",
    "\n",
    "preprocessor = ColumnTransformer(\n",
    "    transformers=[\n",
    "        ('num', numeric_transformer, numerical_features),\n",
    "        ('cat', categorical_transformer, categorical_features)])\n",
    "\n",
    "pipeline = make_pipeline(\n",
    "    preprocessor,\n",
    "    RandomForestClassifier(max_depth=300, min_samples_leaf=.001, class_weight=\"balanced\", random_state=42, n_jobs=-1),\n",
    ")\n",
    "\n",
    "\n",
    "X_train = df_train[all_features]\n",
    "y_train = df_train['target']\n",
    "\n",
    "pipeline.fit(X_train, y_train)\n",
    "\n",
    "X_test = df_test[all_features]\n",
    "y_test = df_test['target']\n",
    "\n",
    "y_pred = pipeline.predict(X_test)\n",
    "y_proba = pipeline.predict_proba(X_test)\n",
    "y_pred_train = pipeline.predict(X_train)\n",
    "\n",
    "roc_auc_score(y_test, y_pred)"
   ]
  },
  {
   "cell_type": "code",
   "execution_count": null,
   "id": "increasing-spring",
   "metadata": {},
   "outputs": [],
   "source": []
  },
  {
   "cell_type": "code",
   "execution_count": 80,
   "id": "loved-lying",
   "metadata": {},
   "outputs": [],
   "source": [
    "precision, recall, thresholds = precision_recall_curve(y_test, y_proba[:,1])"
   ]
  },
  {
   "cell_type": "code",
   "execution_count": 81,
   "id": "frequent-healing",
   "metadata": {},
   "outputs": [],
   "source": [
    "precision = precision[:-1]\n",
    "recall = recall[:-1]"
   ]
  },
  {
   "cell_type": "code",
   "execution_count": 82,
   "id": "chemical-saturday",
   "metadata": {},
   "outputs": [
    {
     "data": {
      "image/png": "[encoded data removed]",
      "text/plain": [
       "<Figure size 432x288 with 2 Axes>"
      ]
     },
     "metadata": {
      "needs_background": "light"
     },
     "output_type": "display_data"
    }
   ],
   "source": [
    "fig=plt.figure()\n",
    "ax1 = plt.subplot(211)\n",
    "ax2 = plt.subplot(212)\n",
    "ax1.hlines(y=0.1,xmin=0, xmax=1, colors='red')\n",
    "ax1.plot(thresholds,precision)\n",
    "ax2.plot(thresholds,recall)\n",
    "ax1.get_shared_x_axes().join(ax1, ax2)\n",
    "ax1.set_xticklabels([])\n",
    "plt.xlabel('Threshold')\n",
    "ax1.set_title('Precision')\n",
    "ax2.set_title('Recall')\n",
    "plt.show()"
   ]
  },
  {
   "cell_type": "code",
   "execution_count": 83,
   "id": "fifteen-portfolio",
   "metadata": {},
   "outputs": [
    {
     "name": "stdout",
     "output_type": "stream",
     "text": [
      "27910\n"
     ]
    },
    {
     "data": {
      "text/plain": [
       "0.4065762960615967"
      ]
     },
     "execution_count": 83,
     "metadata": {},
     "output_type": "execute_result"
    }
   ],
   "source": [
    "min_index = [i for i, prec in enumerate(precision) if prec > 0.25][0]\n",
    "print(min_index)\n",
    "thresholds[min_index]"
   ]
  },
  {
   "cell_type": "code",
   "execution_count": 84,
   "id": "tough-frank",
   "metadata": {},
   "outputs": [
    {
     "data": {
      "text/plain": [
       "0.25000310185242625"
      ]
     },
     "execution_count": 84,
     "metadata": {},
     "output_type": "execute_result"
    }
   ],
   "source": [
    "precision[min_index]"
   ]
  },
  {
   "cell_type": "code",
   "execution_count": 85,
   "id": "eligible-blind",
   "metadata": {},
   "outputs": [
    {
     "data": {
      "text/plain": [
       "0.8717443973349485"
      ]
     },
     "execution_count": 85,
     "metadata": {},
     "output_type": "execute_result"
    }
   ],
   "source": [
    "recall[min_index]"
   ]
  },
  {
   "cell_type": "code",
   "execution_count": 86,
   "id": "bronze-classroom",
   "metadata": {},
   "outputs": [
    {
     "data": {
      "image/png": "[encoded data removed]",
      "text/plain": [
       "<Figure size 432x288 with 1 Axes>"
      ]
     },
     "metadata": {
      "needs_background": "light"
     },
     "output_type": "display_data"
    }
   ],
   "source": [
    "pd.Series(y_proba[:,1]).hist(bins=20, figsize=(6, 4));\n",
    "# df.hist(column='SubjectAge', bins=20, figsize=(6, 4));"
   ]
  },
  {
   "cell_type": "code",
   "execution_count": 87,
   "id": "threatened-surfing",
   "metadata": {},
   "outputs": [],
   "source": [
    "threshold = thresholds[min_index]\n",
    "y_pred_threshold = pd.Series([True if p >= threshold else False for p in y_proba[:,1]]).to_numpy()"
   ]
  },
  {
   "cell_type": "code",
   "execution_count": 88,
   "id": "empty-friday",
   "metadata": {},
   "outputs": [
    {
     "name": "stdout",
     "output_type": "stream",
     "text": [
      "<class 'numpy.ndarray'>\n"
     ]
    },
    {
     "data": {
      "text/plain": [
       "numpy.ndarray"
      ]
     },
     "execution_count": 88,
     "metadata": {},
     "output_type": "execute_result"
    }
   ],
   "source": [
    "print(type(y_pred))\n",
    "type(y_pred_threshold)"
   ]
  },
  {
   "cell_type": "code",
   "execution_count": null,
   "id": "funny-struggle",
   "metadata": {},
   "outputs": [],
   "source": []
  },
  {
   "cell_type": "markdown",
   "id": "serious-institution",
   "metadata": {},
   "source": [
    "#### most important features"
   ]
  },
  {
   "cell_type": "code",
   "execution_count": 89,
   "id": "expressed-begin",
   "metadata": {},
   "outputs": [
    {
     "name": "stdout",
     "output_type": "stream",
     "text": [
      "Feature ranking:\n",
      "1. feature Legislation_misuse of drugs act 1971 (section 23) (0.258371)\n",
      "2. feature Legislation_police and criminal evidence act 1984 (section 1) (0.149960)\n",
      "3. feature Longitude (0.110215)\n",
      "4. feature Age range_under 18 (0.086773)\n",
      "5. feature Latitude (0.083253)\n",
      "6. feature hour (0.055549)\n",
      "7. feature Age range_18-24 (0.040934)\n",
      "8. feature Legislation_missing infomation (0.037045)\n",
      "9. feature month (0.031771)\n"
     ]
    },
    {
     "data": {
      "image/png": "[encoded data removed]",
      "text/plain": [
       "<Figure size 432x288 with 1 Axes>"
      ]
     },
     "metadata": {
      "needs_background": "light"
     },
     "output_type": "display_data"
    }
   ],
   "source": [
    "categorical_encode_step = pipeline.named_steps['columntransformer'].named_transformers_['cat'].named_steps['onehot']\n",
    "random_forest_step = pipeline.named_steps['randomforestclassifier']\n",
    "\n",
    "onehot_columns = categorical_encode_step.get_feature_names(input_features=categorical_features)\n",
    "\n",
    "importances = pd.Series(data=random_forest_step.feature_importances_, index = np.array(numerical_features + list(onehot_columns)))\n",
    "\n",
    "indices = np.argsort(importances)[::-1]\n",
    "print(\"Feature ranking:\")\n",
    "\n",
    "for f in range(X_train.shape[1]):\n",
    "    print(\"%d. feature %s (%f)\" % (f + 1, importances.index[indices[f]], importances[indices[f]]))\n",
    "\n",
    "std = np.std([tree.feature_importances_ for tree in random_forest_step.estimators_], axis=0)\n",
    "\n",
    "plt.figure()\n",
    "plt.title(\"Feature importances\")\n",
    "plt.bar(x=importances.index[indices], height=importances[indices],\n",
    "        color=\"r\", yerr=std[indices], align=\"center\");\n",
    "plt.xticks(range(len(importances.index[indices])), importances.index[indices], rotation=45, ha=\"right\")\n",
    "plt.xlim([-1, X_train.shape[1]])\n",
    "plt.xlabel('Features');\n",
    "plt.ylabel('Importance');\n",
    "\n",
    "plt.show()"
   ]
  },
  {
   "cell_type": "code",
   "execution_count": null,
   "id": "macro-trail",
   "metadata": {},
   "outputs": [],
   "source": []
  },
  {
   "cell_type": "markdown",
   "id": "twenty-washington",
   "metadata": {},
   "source": [
    "## Formalizing client requirements"
   ]
  },
  {
   "cell_type": "markdown",
   "id": "second-croatia",
   "metadata": {},
   "source": [
    "### 1 - Minimum 10% success rate for searches per station and search objective"
   ]
  },
  {
   "cell_type": "code",
   "execution_count": 90,
   "id": "wound-mumbai",
   "metadata": {},
   "outputs": [],
   "source": [
    "def verify_global_success_rate(y_true, y_pred, min_success_rate=0.1):\n",
    "    \"\"\"\n",
    "    Verifies the success rate on a test set is above a provided minimum\n",
    "    \"\"\"\n",
    "    \n",
    "    precision = precision_score(y_true, y_pred, pos_label=1)\n",
    "    is_satisfied = (precision >= min_success_rate)\n",
    "    \n",
    "    global_recall = recall_score(y_true, y_pred, pos_label=1)\n",
    "    \n",
    "    return is_satisfied, precision, global_recall"
   ]
  },
  {
   "cell_type": "code",
   "execution_count": 91,
   "id": "commercial-adaptation",
   "metadata": {},
   "outputs": [
    {
     "name": "stdout",
     "output_type": "stream",
     "text": [
      "Global Precision: (True, 0.25000310185242625)\n",
      "Global Recall: 0.8717443973349485\n"
     ]
    }
   ],
   "source": [
    "is_verified, success_rate, global_recall = verify_global_success_rate(y_test, y_pred_threshold)\n",
    "\n",
    "print(\"Global Precision: {}\".format((is_verified, success_rate)))\n",
    "print(\"Global Recall: {}\".format(global_recall))"
   ]
  },
  {
   "cell_type": "code",
   "execution_count": null,
   "id": "radio-timber",
   "metadata": {},
   "outputs": [],
   "source": []
  },
  {
   "cell_type": "code",
   "execution_count": 92,
   "id": "conventional-frank",
   "metadata": {},
   "outputs": [],
   "source": [
    "def verify_success_rate_objective_station(X_test, y_true, y_pred, sensitive_column='Object of search', \n",
    "                                          min_success_rate=0.1, min_samples=50):\n",
    "    \"\"\"\n",
    "    Verifies that success rate per station and search objective is higher than 10%\n",
    "    \"\"\"\n",
    "    \n",
    "#     exclusion_list = ['articles for use in criminal damage','anything to threaten or harm anyone','fireworks', \n",
    "#                  'detailed object of search unavailable','game or poaching equipment',\n",
    "#                  'goods on which duty has not been paid etc.','evidence of wildlife offences',\n",
    "#                  'crossbows','seals or hunting equipment']\n",
    "\n",
    "    exclusion_list = ['articles for use in criminal damage','anything to threaten or harm anyone','fireworks',\n",
    "                      'detailed object of search unavailable','game or poaching equipment',\n",
    "                      'goods on which duty has not been paid etc.','evidence of wildlife offences',\n",
    "                      'crossbows','seals or hunting equipment',\n",
    "                      'firearms','evidence of offences under the act','psychoactive substances']\n",
    "    \n",
    "    departments = X_test['station'].unique()\n",
    "    sensitive_classes = X_test[sensitive_column].unique()\n",
    "    \n",
    "    is_satisfied = True\n",
    "    problematic_departments = []\n",
    "    good_deparments = []\n",
    "    ignored_departments = []\n",
    "    for department in departments:\n",
    "        precisions = {}\n",
    "        for sensitive_class in sensitive_classes:\n",
    "            if sensitive_class not in exclusion_list:\n",
    "                mask = (X_test[sensitive_column] == sensitive_class) & (X_test['station'] == department)\n",
    "                if np.sum(mask) > min_samples:\n",
    "                    precisions[sensitive_class] = precision_score(y_true[mask], y_pred[mask], pos_label=1)\n",
    "                \n",
    "        if len(precisions) > 1:    \n",
    "            precision_min = np.min(list(precisions.values()))\n",
    "\n",
    "            if precision_min < min_success_rate:\n",
    "                is_satisfied = False\n",
    "                problematic_departments.append((department, precision_min, precisions))\n",
    "            else:\n",
    "                good_deparments.append((department, precision_min, precisions))\n",
    "        else:\n",
    "            ignored_departments.append((department, None, []))\n",
    "    \n",
    "    global_precisions = {}\n",
    "    for department in departments:\n",
    "        mask = (X_test['station'] == department)\n",
    "        if np.sum(mask) > min_samples:\n",
    "            global_precisions[department] = precision_score(y_true[mask], y_pred[mask])\n",
    "            \n",
    "    global_precisions_objective = {}\n",
    "    for obj in sensitive_classes:\n",
    "        mask = (X_test[sensitive_column] == obj)\n",
    "        if np.sum(mask) > min_samples:\n",
    "            global_precisions_objective[obj] = precision_score(y_true[mask], y_pred[mask])\n",
    "    \n",
    "        \n",
    "    return is_satisfied, problematic_departments, good_deparments, ignored_departments, global_precisions,global_precisions_objective"
   ]
  },
  {
   "cell_type": "code",
   "execution_count": 93,
   "id": "super-brunswick",
   "metadata": {},
   "outputs": [
    {
     "name": "stdout",
     "output_type": "stream",
     "text": [
      "Requirement failed 😢\n",
      "Num problematic stations: 12\n",
      "Num good stations: 26\n",
      "Num ignored departments: 0\n",
      "\n",
      "Object of search rates: {'article for use in theft': 0.16465712132629992, 'controlled drugs': 0.26458685027238615, 'offensive weapons': 0.16659128599427106, 'stolen goods': 0.2645459040712049, 'articles for use in criminal damage': 0.011768082663605052, 'firearms': 0.15027322404371585, 'anything to threaten or harm anyone': 0.12327586206896551, 'evidence of offences under the act': 0.18335684062059238, 'psychoactive substances': 0.28277439024390244, 'fireworks': 0.0, 'detailed object of search unavailable': 0.3181818181818182}\n",
      "\n",
      "Station rates: {'lincolnshire': 0.18778026905829595, 'essex': 0.2953271028037383, 'west-mercia': 0.326025459688826, 'leicestershire': 0.15841584158415842, 'warwickshire': 0.26082474226804125, 'hertfordshire': 0.28718783930510317, 'west-yorkshire': 0.21495268534185624, 'south-yorkshire': 0.1938409219724164, 'norfolk': 0.1668472372697725, 'merseyside': 0.24543764203567248, 'lancashire': 0.08338518979464841, 'kent': 0.2565418163160595, 'thames-valley': 0.1756191337781296, 'btp': 0.2688434048083171, 'cumbria': 0.26582278481012656, 'north-wales': 0.15664439495174462, 'nottinghamshire': 0.30156682027649767, 'durham': 0.38095238095238093, 'derbyshire': 0.29087875417130143, 'bedfordshire': 0.26029609690444144, 'hampshire': 0.3099183774424932, 'northamptonshire': 0.270859021783806, 'devon-and-cornwall': 0.2583616093068347, 'dorset': 0.2887517146776406, 'suffolk': 0.2337976983646275, 'sussex': 0.25609422076143523, 'staffordshire': 0.2827652424387902, 'surrey': 0.26595269968763946, 'north-yorkshire': 0.21236559139784947, 'cheshire': 0.3502897617514488, 'cambridgeshire': 0.23471400394477318, 'avon-and-somerset': 0.28860666298545923, 'greater-manchester': 0.26166134185303513, 'city-of-london': 0.2853185595567867, 'northumbria': 0.2356746765249538, 'gloucestershire': 0.28350515463917525, 'cleveland': 0.2993103448275862, 'wiltshire': 0.1320754716981132}\n"
     ]
    }
   ],
   "source": [
    "is_satisfied, problematic_departments, good_deparments, ignored_departments,global_precisions, global_precisions_objective = verify_success_rate_objective_station(df_test, y_test, y_pred_threshold, min_success_rate=0.1)\n",
    "\n",
    "if not is_satisfied:\n",
    "    print(\"Requirement failed 😢\")\n",
    "    print(\"Num problematic stations: {}\".format(len(problematic_departments)))\n",
    "    print(\"Num good stations: {}\".format(len(good_deparments)))\n",
    "    print(\"Num ignored departments: {}\".format(len(ignored_departments)))\n",
    "    print(\"\\nObject of search rates: {}\".format(global_precisions_objective))\n",
    "    print(\"\\nStation rates: {}\".format(global_precisions))\n"
   ]
  },
  {
   "cell_type": "code",
   "execution_count": 97,
   "id": "accessible-browse",
   "metadata": {},
   "outputs": [
    {
     "data": {
      "text/plain": [
       "[('leicestershire',\n",
       "  0.0547945205479452,\n",
       "  {'article for use in theft': 0.14666666666666667,\n",
       "   'controlled drugs': 0.1622445867642574,\n",
       "   'offensive weapons': 0.15714285714285714,\n",
       "   'stolen goods': 0.0547945205479452}),\n",
       " ('south-yorkshire',\n",
       "  0.0,\n",
       "  {'article for use in theft': 0.0,\n",
       "   'controlled drugs': 0.1938409219724164,\n",
       "   'offensive weapons': 0.0,\n",
       "   'stolen goods': 0.0}),\n",
       " ('norfolk',\n",
       "  0.0,\n",
       "  {'article for use in theft': 0.0,\n",
       "   'controlled drugs': 0.16954022988505746,\n",
       "   'offensive weapons': 0.18181818181818182,\n",
       "   'stolen goods': 0.16666666666666666}),\n",
       " ('lancashire',\n",
       "  0.06666666666666667,\n",
       "  {'article for use in theft': 0.06666666666666667,\n",
       "   'controlled drugs': 0.2581967213114754,\n",
       "   'offensive weapons': 0.17647058823529413,\n",
       "   'stolen goods': 0.1794871794871795}),\n",
       " ('thames-valley',\n",
       "  0.035555555555555556,\n",
       "  {'article for use in theft': 0.035555555555555556,\n",
       "   'controlled drugs': 0.1917994823593516,\n",
       "   'offensive weapons': 0.10105580693815988,\n",
       "   'stolen goods': 0.1345565749235474}),\n",
       " ('north-wales',\n",
       "  0.0,\n",
       "  {'article for use in theft': 0.0,\n",
       "   'controlled drugs': 0.1611154144074361,\n",
       "   'offensive weapons': 0.0,\n",
       "   'stolen goods': 0.10714285714285714}),\n",
       " ('bedfordshire',\n",
       "  0.05357142857142857,\n",
       "  {'article for use in theft': 0.05357142857142857,\n",
       "   'controlled drugs': 0.2738890502468777,\n",
       "   'offensive weapons': 0.12149532710280374,\n",
       "   'stolen goods': 0.12195121951219512}),\n",
       " ('northamptonshire',\n",
       "  0.08695652173913043,\n",
       "  {'article for use in theft': 0.08695652173913043,\n",
       "   'controlled drugs': 0.2785515320334262,\n",
       "   'offensive weapons': 0.23076923076923078,\n",
       "   'stolen goods': 0.08888888888888889}),\n",
       " ('devon-and-cornwall',\n",
       "  0.0,\n",
       "  {'article for use in theft': 0.0,\n",
       "   'controlled drugs': 0.26151560178306094,\n",
       "   'offensive weapons': 0.13333333333333333,\n",
       "   'stolen goods': 0.07692307692307693}),\n",
       " ('suffolk',\n",
       "  0.043478260869565216,\n",
       "  {'article for use in theft': 0.1111111111111111,\n",
       "   'controlled drugs': 0.23380093520374082,\n",
       "   'offensive weapons': 0.043478260869565216,\n",
       "   'stolen goods': 0.34}),\n",
       " ('staffordshire',\n",
       "  0.09259259259259259,\n",
       "  {'article for use in theft': 0.09259259259259259,\n",
       "   'controlled drugs': 0.297645125958379,\n",
       "   'offensive weapons': 0.18831168831168832,\n",
       "   'stolen goods': 0.2403846153846154}),\n",
       " ('cambridgeshire',\n",
       "  0.0,\n",
       "  {'article for use in theft': 0.0,\n",
       "   'controlled drugs': 0.2783018867924528,\n",
       "   'offensive weapons': 0.0})]"
      ]
     },
     "execution_count": 97,
     "metadata": {},
     "output_type": "execute_result"
    }
   ],
   "source": [
    "problematic_departments"
   ]
  },
  {
   "cell_type": "code",
   "execution_count": 52,
   "id": "faced-empty",
   "metadata": {},
   "outputs": [],
   "source": [
    "# good_deparments"
   ]
  },
  {
   "cell_type": "code",
   "execution_count": 94,
   "id": "fitted-penalty",
   "metadata": {},
   "outputs": [
    {
     "name": "stdout",
     "output_type": "stream",
     "text": [
      "0.08338518979464841\n"
     ]
    },
    {
     "data": {
      "text/plain": [
       "0.38095238095238093"
      ]
     },
     "execution_count": 94,
     "metadata": {},
     "output_type": "execute_result"
    }
   ],
   "source": [
    "print(min(global_precisions.values()))\n",
    "max(global_precisions.values())"
   ]
  },
  {
   "cell_type": "code",
   "execution_count": 95,
   "id": "annual-eight",
   "metadata": {},
   "outputs": [
    {
     "data": {
      "text/plain": [
       "dict_values([0.18778026905829595, 0.2953271028037383, 0.326025459688826, 0.15841584158415842, 0.26082474226804125, 0.28718783930510317, 0.21495268534185624, 0.1938409219724164, 0.1668472372697725, 0.24543764203567248, 0.08338518979464841, 0.2565418163160595, 0.1756191337781296, 0.2688434048083171, 0.26582278481012656, 0.15664439495174462, 0.30156682027649767, 0.38095238095238093, 0.29087875417130143, 0.26029609690444144, 0.3099183774424932, 0.270859021783806, 0.2583616093068347, 0.2887517146776406, 0.2337976983646275, 0.25609422076143523, 0.2827652424387902, 0.26595269968763946, 0.21236559139784947, 0.3502897617514488, 0.23471400394477318, 0.28860666298545923, 0.26166134185303513, 0.2853185595567867, 0.2356746765249538, 0.28350515463917525, 0.2993103448275862, 0.1320754716981132])"
      ]
     },
     "execution_count": 95,
     "metadata": {},
     "output_type": "execute_result"
    }
   ],
   "source": [
    "global_precisions.values()"
   ]
  },
  {
   "cell_type": "code",
   "execution_count": 96,
   "id": "latter-cheat",
   "metadata": {},
   "outputs": [
    {
     "name": "stdout",
     "output_type": "stream",
     "text": [
      "0.0\n"
     ]
    },
    {
     "data": {
      "text/plain": [
       "0.3181818181818182"
      ]
     },
     "execution_count": 96,
     "metadata": {},
     "output_type": "execute_result"
    }
   ],
   "source": [
    "print(min(global_precisions_objective.values()))\n",
    "max(global_precisions_objective.values())"
   ]
  },
  {
   "cell_type": "code",
   "execution_count": null,
   "id": "dutch-decision",
   "metadata": {},
   "outputs": [],
   "source": []
  },
  {
   "cell_type": "markdown",
   "id": "vertical-archives",
   "metadata": {},
   "source": [
    "### 2 - No police station should have a discrepancy bigger than 5% between the search success rate between protected classes (ethnicity, gender)"
   ]
  },
  {
   "cell_type": "code",
   "execution_count": 98,
   "id": "latter-native",
   "metadata": {},
   "outputs": [],
   "source": [
    "def verify_no_discrimination(X_test, y_true, y_pred, sensitive_column, max_diff=0.05, min_samples=50):\n",
    "    \"\"\"\n",
    "    Verifies that no station has discrimination in between protected classes\n",
    "    \"\"\"\n",
    "    exclusion_class = ['Other']\n",
    "    \n",
    "    departments = X_test['station'].unique()\n",
    "    sensitive_classes = X_test[sensitive_column].unique()\n",
    "    \n",
    "    is_satisfied = True\n",
    "    problematic_departments = []\n",
    "    good_deparments = []\n",
    "    ignored_departments = []\n",
    "    for department in departments:\n",
    "        precisions = {}\n",
    "        for sensitive_class in sensitive_classes:\n",
    "            if sensitive_class not in exclusion_class:\n",
    "                mask = (X_test[sensitive_column] == sensitive_class) & (X_test['station'] == department)\n",
    "                if np.sum(mask) > min_samples:\n",
    "                    precisions[sensitive_class] = precision_score(y_true[mask], y_pred[mask], pos_label=1)\n",
    "                \n",
    "        if len(precisions) > 1:    \n",
    "            diff = np.max(list(precisions.values())) - np.min(list(precisions.values()))\n",
    "\n",
    "            if diff > max_diff:\n",
    "                is_satisfied = False\n",
    "                problematic_departments.append((department, diff, precisions))\n",
    "            else:\n",
    "                good_deparments.append((department, diff, precisions))\n",
    "        else:\n",
    "            ignored_departments.append((department, None, []))\n",
    "    \n",
    "    global_precisions = {}\n",
    "    for sensitive_class in sensitive_classes:\n",
    "        mask = (X_test[sensitive_column] == sensitive_class)\n",
    "        if np.sum(mask) > min_samples:\n",
    "            global_precisions[sensitive_class] = precision_score(y_true[mask], y_pred[mask], pos_label=1)\n",
    "    \n",
    "    if len(precisions) > 1:    \n",
    "        diff = np.max(list(precisions.values())) - np.min(list(precisions.values()))\n",
    "        if diff > max_diff:\n",
    "            is_satisfied = False\n",
    "        \n",
    "    return is_satisfied, problematic_departments, good_deparments, ignored_departments, global_precisions\n"
   ]
  },
  {
   "cell_type": "code",
   "execution_count": 109,
   "id": "fatal-porcelain",
   "metadata": {},
   "outputs": [
    {
     "name": "stdout",
     "output_type": "stream",
     "text": [
      "\n",
      "Ethnicity\n",
      "Requirement failed 😢\n",
      "Global rates: {'black': 0.2595719694668853, 'asian': 0.24250686358042223, 'white': 0.24768518518518517, 'other': 0.2547951693109164}\n",
      "Num problematic departments: 33\n",
      "Num good departments: 5\n",
      "Num ignored departments: 0\n",
      "avg diff: 0.10276955722536729\n",
      "\n",
      "\n",
      "Gender\n",
      "Requirement failed 😢\n",
      "Global rates: {'male': 0.25148974985518635, 'female': 0.22915898192548875, 'other': 0.267515923566879}\n",
      "Num problematic departments: 17\n",
      "Num good departments: 21\n",
      "Num ignored departments: 0\n",
      "avg diff: 0.08281574693048367\n"
     ]
    }
   ],
   "source": [
    "is_satisfied_e, problematic_departments_e, good_deparments_e, ignored_departments_e, global_precisions_e = verify_no_discrimination(\n",
    "    df_test, y_test, y_pred_threshold, 'Officer-defined ethnicity', 0.05)\n",
    "\n",
    "print(\"\\nEthnicity\")\n",
    "\n",
    "if not is_satisfied_e:\n",
    "    print(\"Requirement failed 😢\")\n",
    "    print(\"Global rates: {}\".format(global_precisions_e))\n",
    "    print(\"Num problematic departments: {}\".format(len(problematic_departments_e)))\n",
    "    print(\"Num good departments: {}\".format(len(good_deparments_e)))\n",
    "    print(\"Num ignored departments: {}\".format(len(ignored_departments_e)))\n",
    "\n",
    "    print(\"avg diff:\", np.mean([p[1] for p in problematic_departments_e]))\n",
    "    \n",
    "    \n",
    "is_satisfied, problematic_departments, good_deparments, ignored_departments, global_precisions = verify_no_discrimination(\n",
    "    df_test, y_test, y_pred_threshold, 'Gender', 0.05)\n",
    "\n",
    "print(\"\\n\\nGender\")\n",
    "\n",
    "if not is_satisfied:\n",
    "    print(\"Requirement failed 😢\")\n",
    "    print(\"Global rates: {}\".format(global_precisions))\n",
    "    print(\"Num problematic departments: {}\".format(len(problematic_departments)))\n",
    "    print(\"Num good departments: {}\".format(len(good_deparments)))\n",
    "    print(\"Num ignored departments: {}\".format(len(ignored_departments)))\n",
    "    \n",
    "    print(\"avg diff:\", np.mean([p[1] for p in problematic_departments]))"
   ]
  },
  {
   "cell_type": "code",
   "execution_count": 103,
   "id": "sporting-management",
   "metadata": {
    "scrolled": true
   },
   "outputs": [
    {
     "data": {
      "text/plain": [
       "[('west-mercia',\n",
       "  0.10188642913737533,\n",
       "  {'black': 0.3907427341227126,\n",
       "   'asian': 0.3103448275862069,\n",
       "   'white': 0.28885630498533726,\n",
       "   'other': 0.38175675675675674}),\n",
       " ('leicestershire',\n",
       "  0.132521116650442,\n",
       "  {'black': 0.13473877176901924,\n",
       "   'asian': 0.18756698821007503,\n",
       "   'white': 0.13263785394932937,\n",
       "   'other': 0.05504587155963303}),\n",
       " ('warwickshire',\n",
       "  0.11193053197509906,\n",
       "  {'black': 0.31085526315789475,\n",
       "   'asian': 0.2289348171701113,\n",
       "   'white': 0.26305609284332687,\n",
       "   'other': 0.1989247311827957}),\n",
       " ('south-yorkshire',\n",
       "  0.10018796992481205,\n",
       "  {'black': 0.21613832853025935,\n",
       "   'asian': 0.17481203007518797,\n",
       "   'white': 0.191713048855906,\n",
       "   'other': 0.275}),\n",
       " ('norfolk',\n",
       "  0.10968650933427264,\n",
       "  {'black': 0.10588235294117647,\n",
       "   'asian': 0.18518518518518517,\n",
       "   'white': 0.19414316702819956,\n",
       "   'other': 0.2155688622754491}),\n",
       " ('durham',\n",
       "  0.1731800766283525,\n",
       "  {'asian': 0.5287356321839081, 'white': 0.35555555555555557}),\n",
       " ('bedfordshire',\n",
       "  0.1828105928658612,\n",
       "  {'black': 0.2445414847161572,\n",
       "   'asian': 0.28140214216163584,\n",
       "   'white': 0.2292134831460674,\n",
       "   'other': 0.09859154929577464}),\n",
       " ('northamptonshire',\n",
       "  0.11954736713101025,\n",
       "  {'black': 0.2408921933085502,\n",
       "   'asian': 0.36043956043956044,\n",
       "   'white': 0.26009693053311794}),\n",
       " ('sussex',\n",
       "  0.12987012987012986,\n",
       "  {'black': 0.24970131421744324,\n",
       "   'asian': 0.2727272727272727,\n",
       "   'white': 0.2609865470852018,\n",
       "   'other': 0.14285714285714285}),\n",
       " ('staffordshire',\n",
       "  0.2303001123415182,\n",
       "  {'black': 0.29010566762728146,\n",
       "   'asian': 0.29475392103839915,\n",
       "   'white': 0.24731182795698925,\n",
       "   'other': 0.47761194029850745}),\n",
       " ('cheshire',\n",
       "  0.11285409207964325,\n",
       "  {'black': 0.4385245901639344,\n",
       "   'asian': 0.37037037037037035,\n",
       "   'white': 0.32567049808429116}),\n",
       " ('cambridgeshire',\n",
       "  0.20142602495543674,\n",
       "  {'black': 0.15151515151515152,\n",
       "   'asian': 0.35294117647058826,\n",
       "   'white': 0.22085889570552147}),\n",
       " ('city-of-london',\n",
       "  0.2710014238253441,\n",
       "  {'black': 0.2921434019832189,\n",
       "   'asian': 0.27422096317280453,\n",
       "   'white': 0.3798449612403101,\n",
       "   'other': 0.10884353741496598}),\n",
       " ('cleveland',\n",
       "  0.10073277967757693,\n",
       "  {'black': 0.29069767441860467,\n",
       "   'asian': 0.35580524344569286,\n",
       "   'white': 0.25507246376811593})]"
      ]
     },
     "execution_count": 103,
     "metadata": {},
     "output_type": "execute_result"
    }
   ],
   "source": [
    "problematic_departments_e"
   ]
  },
  {
   "cell_type": "markdown",
   "id": "quality-sucking",
   "metadata": {},
   "source": [
    "### 3 - No police station should have a discrepancy bigger than x% between the Removal of more than just outer clothing rate between protected classes (age, ethnicity, gender)"
   ]
  },
  {
   "cell_type": "code",
   "execution_count": null,
   "id": "right-shelf",
   "metadata": {},
   "outputs": [],
   "source": [
    "\n"
   ]
  },
  {
   "cell_type": "code",
   "execution_count": 105,
   "id": "front-sunday",
   "metadata": {},
   "outputs": [],
   "source": [
    "def verify_removal_clothing(X_test, y_true, y_pred, sensitive_column, max_diff, min_samples=50):\n",
    "    \"\"\"\n",
    "    Verifies that no station has discrepancy Removal of more than just outer clothing rate between \n",
    "    protected classes (age, ethnicity, gender)\n",
    "    \"\"\"\n",
    "    exclusion_class = ['Other']\n",
    "    exclusion_stations_removalclothes = ['cleveland', 'north-yorkshire', 'surrey']\n",
    "    \n",
    "    departments = X_test['station'].unique()\n",
    "    sensitive_classes = X_test[sensitive_column].unique()\n",
    "    \n",
    "    is_satisfied = True\n",
    "    problematic_departments = []\n",
    "    good_deparments = []\n",
    "    ignored_departments = []\n",
    "    for department in departments:\n",
    "        if department not in exclusion_stations_removalclothes:\n",
    "            removal_rate = {}\n",
    "            for sensitive_class in sensitive_classes:\n",
    "                if sensitive_class not in exclusion_class:\n",
    "                    mask = (X_test[sensitive_column] == sensitive_class) & (X_test['station'] == department) & (y_pred == 1)\n",
    "                    if np.sum(mask) > min_samples:\n",
    "                        removal_rate[sensitive_class] = (np.sum(X_test[mask]['Removal of more than just outer clothing']==1))/(X_test[mask]['Removal of more than just outer clothing'].shape[0])\n",
    "                \n",
    "        if len(removal_rate) > 1:    \n",
    "            diff = np.max(list(removal_rate.values())) - np.min(list(removal_rate.values()))\n",
    "\n",
    "            if diff > max_diff:\n",
    "                is_satisfied = False\n",
    "                problematic_departments.append((department, diff, removal_rate))\n",
    "            else:\n",
    "                good_deparments.append((department, diff, removal_rate))\n",
    "        else:\n",
    "            ignored_departments.append((department, None, []))\n",
    "    \n",
    "    global_removal_rate = {}\n",
    "    for sensitive_class in sensitive_classes:\n",
    "        mask = (X_test[sensitive_column] == sensitive_class) & (y_pred == True)\n",
    "        if np.sum(mask) > min_samples:\n",
    "            global_removal_rate[sensitive_class] = (np.sum(X_test[mask]['Removal of more than just outer clothing']==True))/(X_test[mask]['Removal of more than just outer clothing'].shape[0])\n",
    "\n",
    "        \n",
    "    return is_satisfied, problematic_departments, good_deparments, ignored_departments, global_removal_rate\n"
   ]
  },
  {
   "cell_type": "code",
   "execution_count": 106,
   "id": "split-metadata",
   "metadata": {},
   "outputs": [
    {
     "name": "stdout",
     "output_type": "stream",
     "text": [
      "\n",
      "Gender\n",
      "Requirement failed 😢\n",
      "Global rates: {'male': 0.06076847789177924, 'female': 0.05431575064551826, 'other': 0.03184713375796178}\n",
      "Num problematic departments: 7\n",
      "Num good departments: 30\n",
      "Num ignored departments: 1\n",
      "avg diff: 0.0968632076882201\n",
      "\n",
      "\n",
      "Age range\n",
      "Requirement failed 😢\n",
      "Global rates: {'25-34': 0.059035779966012523, 'under 18': 0.051816327655586795, '18-24': 0.06614215797860232, 'over 34': 0.0535426731078905}\n",
      "Num problematic departments: 19\n",
      "Num good departments: 19\n",
      "Num ignored departments: 0\n",
      "avg diff: 0.09085996874449609\n",
      "\n",
      "\n",
      "Ethnicity\n",
      "Requirement failed 😢\n",
      "Global rates: {'black': 0.09512239567515034, 'asian': 0.05227681529868409, 'white': 0.036146723646723646, 'other': 0.05150367037650959}\n",
      "Num problematic departments: 14\n",
      "Num good departments: 24\n",
      "Num ignored departments: 0\n",
      "avg diff: 0.16331662947932063\n"
     ]
    }
   ],
   "source": [
    "is_satisfied, problematic_departments, good_deparments, ignored_departments, global_removal_rate = verify_removal_clothing(\n",
    "    df_test, y_test, y_pred_threshold, 'Gender', 0.05)\n",
    "\n",
    "print(\"\\nGender\")\n",
    "\n",
    "if not is_satisfied:\n",
    "    print(\"Requirement failed 😢\")\n",
    "    print(\"Global rates: {}\".format(global_removal_rate))\n",
    "    print(\"Num problematic departments: {}\".format(len(problematic_departments)))\n",
    "    print(\"Num good departments: {}\".format(len(good_deparments)))\n",
    "    print(\"Num ignored departments: {}\".format(len(ignored_departments)))\n",
    "    \n",
    "    print(\"avg diff:\", np.mean([p[1] for p in problematic_departments]))\n",
    "    \n",
    "    \n",
    "is_satisfied, problematic_departments, good_deparments, ignored_departments, global_removal_rate = verify_removal_clothing(\n",
    "    df_test, y_test, y_pred_threshold, 'Age range', 0.05)\n",
    "\n",
    "print(\"\\n\\nAge range\")\n",
    "\n",
    "if not is_satisfied:\n",
    "    print(\"Requirement failed 😢\")\n",
    "    print(\"Global rates: {}\".format(global_removal_rate))\n",
    "    print(\"Num problematic departments: {}\".format(len(problematic_departments)))\n",
    "    print(\"Num good departments: {}\".format(len(good_deparments)))\n",
    "    print(\"Num ignored departments: {}\".format(len(ignored_departments)))\n",
    "    \n",
    "    print(\"avg diff:\", np.mean([p[1] for p in problematic_departments]))\n",
    "    \n",
    "    \n",
    "is_satisfied, problematic_departments, good_deparments, ignored_departments, global_removal_rate = verify_removal_clothing(\n",
    "    df_test, y_test, y_pred_threshold, 'Officer-defined ethnicity', 0.1)\n",
    "\n",
    "print(\"\\n\\nEthnicity\")\n",
    "\n",
    "if not is_satisfied:\n",
    "    print(\"Requirement failed 😢\")\n",
    "    print(\"Global rates: {}\".format(global_removal_rate))\n",
    "    print(\"Num problematic departments: {}\".format(len(problematic_departments)))\n",
    "    print(\"Num good departments: {}\".format(len(good_deparments)))\n",
    "    print(\"Num ignored departments: {}\".format(len(ignored_departments)))\n",
    "    \n",
    "    print(\"avg diff:\", np.mean([p[1] for p in problematic_departments]))"
   ]
  },
  {
   "cell_type": "code",
   "execution_count": null,
   "id": "lonely-vaccine",
   "metadata": {},
   "outputs": [],
   "source": []
  },
  {
   "cell_type": "markdown",
   "id": "favorite-preview",
   "metadata": {},
   "source": [
    "### SERIALIZE"
   ]
  },
  {
   "cell_type": "code",
   "execution_count": 63,
   "id": "faced-realtor",
   "metadata": {},
   "outputs": [],
   "source": [
    "# with open('columns.json', 'w') as fh:\n",
    "#     json.dump(X_train.columns.tolist(), fh)\n",
    "    \n",
    "# with open('dtypes.pickle', 'wb') as fh:\n",
    "#     pickle.dump(X_train.dtypes, fh)\n",
    "    \n",
    "# joblib.dump(pipeline, 'pipeline.pickle');"
   ]
  },
  {
   "cell_type": "code",
   "execution_count": 61,
   "id": "advance-brisbane",
   "metadata": {},
   "outputs": [
    {
     "data": {
      "text/plain": [
       "['Type',\n",
       " 'Part of a policing operation',\n",
       " 'Age range',\n",
       " 'Latitude',\n",
       " 'Longitude',\n",
       " 'Legislation',\n",
       " 'hour',\n",
       " 'month',\n",
       " 'day_of_week']"
      ]
     },
     "execution_count": 61,
     "metadata": {},
     "output_type": "execute_result"
    }
   ],
   "source": [
    "X_train.columns.tolist()"
   ]
  },
  {
   "cell_type": "code",
   "execution_count": 62,
   "id": "split-circulation",
   "metadata": {},
   "outputs": [
    {
     "data": {
      "text/plain": [
       "Type                             object\n",
       "Part of a policing operation       bool\n",
       "Age range                        object\n",
       "Latitude                        float64\n",
       "Longitude                       float64\n",
       "Legislation                      object\n",
       "hour                              int64\n",
       "month                             int64\n",
       "day_of_week                      object\n",
       "dtype: object"
      ]
     },
     "execution_count": 62,
     "metadata": {},
     "output_type": "execute_result"
    }
   ],
   "source": [
    "X_train.dtypes"
   ]
  },
  {
   "cell_type": "code",
   "execution_count": null,
   "id": "interior-effects",
   "metadata": {},
   "outputs": [],
   "source": []
  },
  {
   "cell_type": "code",
   "execution_count": null,
   "id": "lined-maple",
   "metadata": {},
   "outputs": [],
   "source": []
  },
  {
   "cell_type": "code",
   "execution_count": null,
   "id": "greenhouse-jewel",
   "metadata": {},
   "outputs": [],
   "source": []
  }
 ],
 "metadata": {
  "kernelspec": {
   "display_name": "Python 3",
   "language": "python",
   "name": "python3"
  },
  "language_info": {
   "codemirror_mode": {
    "name": "ipython",
    "version": 3
   },
   "file_extension": ".py",
   "mimetype": "text/x-python",
   "name": "python",
   "nbconvert_exporter": "python",
   "pygments_lexer": "ipython3",
   "version": "3.6.9"
  }
 },
 "nbformat": 4,
 "nbformat_minor": 5
}
