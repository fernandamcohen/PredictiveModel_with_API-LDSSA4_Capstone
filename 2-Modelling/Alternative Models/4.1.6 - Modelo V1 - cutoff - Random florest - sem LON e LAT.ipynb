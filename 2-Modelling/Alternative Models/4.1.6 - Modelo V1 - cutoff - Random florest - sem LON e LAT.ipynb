{
 "cells": [
  {
   "cell_type": "code",
   "execution_count": 1,
   "id": "industrial-benchmark",
   "metadata": {},
   "outputs": [],
   "source": [
    "import json\n",
    "import joblib\n",
    "import pickle\n",
    "import pandas as pd\n",
    "import numpy as np\n",
    "# import seaborn as sns\n",
    "from sklearn.model_selection import train_test_split\n",
    "from sklearn.pipeline import make_pipeline, Pipeline\n",
    "from sklearn.impute import SimpleImputer\n",
    "from sklearn.preprocessing import StandardScaler, OneHotEncoder\n",
    "from sklearn.compose import ColumnTransformer\n",
    "from sklearn.ensemble import RandomForestClassifier\n",
    "from sklearn.metrics import precision_score, recall_score, roc_auc_score\n",
    "from sklearn.metrics import precision_recall_curve\n",
    "\n",
    "import matplotlib.pyplot as plt\n",
    "import matplotlib.image as mpimg\n",
    "%matplotlib inline\n",
    "\n",
    "import warnings\n",
    "warnings.filterwarnings('ignore')\n",
    "\n",
    "from lightgbm import LGBMClassifier"
   ]
  },
  {
   "cell_type": "markdown",
   "id": "simplified-custom",
   "metadata": {},
   "source": [
    "### Import dataset"
   ]
  },
  {
   "cell_type": "code",
   "execution_count": 2,
   "id": "loved-patch",
   "metadata": {},
   "outputs": [],
   "source": [
    "train = pd.read_csv('data/train.csv')"
   ]
  },
  {
   "cell_type": "code",
   "execution_count": 3,
   "id": "separated-quilt",
   "metadata": {},
   "outputs": [
    {
     "data": {
      "text/plain": [
       "False    660611\n",
       "dtype: int64"
      ]
     },
     "execution_count": 3,
     "metadata": {},
     "output_type": "execute_result"
    }
   ],
   "source": [
    "# no duplicate lines\n",
    "train.duplicated().value_counts()"
   ]
  },
  {
   "cell_type": "code",
   "execution_count": 4,
   "id": "aging-anchor",
   "metadata": {},
   "outputs": [
    {
     "data": {
      "text/plain": [
       "False    660611\n",
       "Name: observation_id, dtype: int64"
      ]
     },
     "execution_count": 4,
     "metadata": {},
     "output_type": "execute_result"
    }
   ],
   "source": [
    "# no duplicate observation_id\n",
    "train['observation_id'].duplicated().value_counts()"
   ]
  },
  {
   "cell_type": "markdown",
   "id": "apparent-generator",
   "metadata": {},
   "source": [
    "### Features adjustments"
   ]
  },
  {
   "cell_type": "code",
   "execution_count": 5,
   "id": "alive-equilibrium",
   "metadata": {},
   "outputs": [],
   "source": [
    "# transforming Date column in datetime\n",
    "train['Date']=pd.to_datetime(train['Date'], infer_datetime_format=True)\n",
    "\n",
    "# auxiliar Date feature (for temporal analyzis)\n",
    "train['referencia'] = train['Date'].dt.year*100 + train['Date'].dt.month\n",
    "\n",
    "# according to Dr Wilson's instructions: \n",
    "# \"If there was a search and the outcome linked to object of search has not been written please consider it to be False\"\n",
    "train['Outcome linked to object of search'] = train['Outcome linked to object of search'].fillna(False)\n",
    "\n",
    "# according to Dr Wilson's instructions missing values means False \n",
    "train['Part of a policing operation'] = train['Part of a policing operation'].fillna(False)\n",
    "\n",
    "# Outer clothing be filled with False? \n",
    "#Yes, except when it’s just a vehicle search, in which case it makes no sense and should be kept as NaN\n",
    "mask= ((train['Type']!='Vehicle search') & \n",
    "      (train['Removal of more than just outer clothing'] != True) &\n",
    "      (train['Removal of more than just outer clothing'] != False))\n",
    "\n",
    "train.loc[mask, 'Removal of more than just outer clothing']=False"
   ]
  },
  {
   "cell_type": "markdown",
   "id": "interesting-disclosure",
   "metadata": {},
   "source": [
    "### Filtering / Exclusions"
   ]
  },
  {
   "cell_type": "code",
   "execution_count": 6,
   "id": "becoming-romantic",
   "metadata": {},
   "outputs": [],
   "source": [
    "# The Metropolitan station (which is very large and has lots of data in the training set) has the features \n",
    "# Outcome linked to object of search and Removal of outer clothing without any data (always missing). \n",
    "# Is this a known problem, and if so how should we proceed? \n",
    "# Thank you for bringing this to our attention, I’ve contacted the administration at the Metropolitan and asked that \n",
    "# they fix their data entry. Please include this in your report, and do not use the Metropolitan station’s data \n",
    "# for training your models. They will not be in the test set. "
   ]
  },
  {
   "cell_type": "code",
   "execution_count": 7,
   "id": "modern-inventory",
   "metadata": {},
   "outputs": [],
   "source": [
    "# Gwent and Humberside have the same problem of Metropolitan. So I will exclude this observations"
   ]
  },
  {
   "cell_type": "code",
   "execution_count": 8,
   "id": "alpha-section",
   "metadata": {},
   "outputs": [
    {
     "name": "stdout",
     "output_type": "stream",
     "text": [
      "Exclusion of 355849 observations\n"
     ]
    },
    {
     "data": {
      "text/plain": [
       "(304762, 17)"
      ]
     },
     "execution_count": 8,
     "metadata": {},
     "output_type": "execute_result"
    }
   ],
   "source": [
    "stations_to_exclude = ['metropolitan', 'gwent', 'humberside']\n",
    "train_model = train[~train['station'].isin(stations_to_exclude)]\n",
    "print(\"Exclusion of {} observations\".format(train[train['station'].isin(stations_to_exclude)]['observation_id'].nunique()))\n",
    "train_model.shape"
   ]
  },
  {
   "cell_type": "code",
   "execution_count": 9,
   "id": "living-occurrence",
   "metadata": {},
   "outputs": [],
   "source": [
    "# Search on individuals with less than 10 years seems unrealist, so I will remove it"
   ]
  },
  {
   "cell_type": "code",
   "execution_count": 10,
   "id": "conscious-traffic",
   "metadata": {},
   "outputs": [],
   "source": [
    "# age_to_exclude = ['under 10']\n",
    "# print(\"Exclusion of {} observations\".format(train_model[train_model['Age range'].isin(age_to_exclude)]['observation_id'].nunique()))\n",
    "# train_model = train_model[~train_model['Age range'].isin(age_to_exclude)]\n",
    "# train_model.shape"
   ]
  },
  {
   "cell_type": "markdown",
   "id": "available-badge",
   "metadata": {},
   "source": [
    "### Target"
   ]
  },
  {
   "cell_type": "code",
   "execution_count": 11,
   "id": "structured-external",
   "metadata": {},
   "outputs": [],
   "source": [
    "positive_outcome = ['Local resolution',\n",
    "           'Community resolution',\n",
    "           'Arrest',\n",
    "           'Article found - Detailed outcome unavailable',\n",
    "           'Caution (simple or conditional)',\n",
    "           'Khat or Cannabis warning',\n",
    "           'Offender cautioned',\n",
    "           'Offender given drugs possession warning',\n",
    "           'Offender given penalty notice',\n",
    "           'Penalty Notice for Disorder',\n",
    "           'Summons / charged by post',\n",
    "           'Suspect arrested',\n",
    "           'Suspect summonsed to court',\n",
    "           'Suspected psychoactive substances seized - No further action']\n",
    "\n",
    "train_model['positive_outcome'] = train_model['Outcome'].isin(positive_outcome)"
   ]
  },
  {
   "cell_type": "code",
   "execution_count": 12,
   "id": "civil-chocolate",
   "metadata": {},
   "outputs": [],
   "source": [
    "train_model['target'] = 0\n",
    "mask=((train_model[\"positive_outcome\"] == True) & (train_model[\"Outcome linked to object of search\"]==True))\n",
    "train_model.loc[mask, 'target']=1"
   ]
  },
  {
   "cell_type": "code",
   "execution_count": 13,
   "id": "external-nashville",
   "metadata": {},
   "outputs": [
    {
     "data": {
      "text/html": [
       "<div>\n",
       "<style scoped>\n",
       "    .dataframe tbody tr th:only-of-type {\n",
       "        vertical-align: middle;\n",
       "    }\n",
       "\n",
       "    .dataframe tbody tr th {\n",
       "        vertical-align: top;\n",
       "    }\n",
       "\n",
       "    .dataframe thead th {\n",
       "        text-align: right;\n",
       "    }\n",
       "</style>\n",
       "<table border=\"1\" class=\"dataframe\">\n",
       "  <thead>\n",
       "    <tr style=\"text-align: right;\">\n",
       "      <th>Outcome linked to object of search</th>\n",
       "      <th>False</th>\n",
       "      <th>True</th>\n",
       "      <th>Total</th>\n",
       "    </tr>\n",
       "    <tr>\n",
       "      <th>positive_outcome</th>\n",
       "      <th></th>\n",
       "      <th></th>\n",
       "      <th></th>\n",
       "    </tr>\n",
       "  </thead>\n",
       "  <tbody>\n",
       "    <tr>\n",
       "      <th>False</th>\n",
       "      <td>174918</td>\n",
       "      <td>37987</td>\n",
       "      <td>212905</td>\n",
       "    </tr>\n",
       "    <tr>\n",
       "      <th>True</th>\n",
       "      <td>29571</td>\n",
       "      <td>62286</td>\n",
       "      <td>91857</td>\n",
       "    </tr>\n",
       "    <tr>\n",
       "      <th>Total</th>\n",
       "      <td>204489</td>\n",
       "      <td>100273</td>\n",
       "      <td>304762</td>\n",
       "    </tr>\n",
       "  </tbody>\n",
       "</table>\n",
       "</div>"
      ],
      "text/plain": [
       "Outcome linked to object of search   False    True   Total\n",
       "positive_outcome                                          \n",
       "False                               174918   37987  212905\n",
       "True                                 29571   62286   91857\n",
       "Total                               204489  100273  304762"
      ]
     },
     "execution_count": 13,
     "metadata": {},
     "output_type": "execute_result"
    }
   ],
   "source": [
    "pd.crosstab(train_model[\"positive_outcome\"],train_model[\"Outcome linked to object of search\"],\n",
    "            margins=True, margins_name=\"Total\",dropna=False)"
   ]
  },
  {
   "cell_type": "code",
   "execution_count": 14,
   "id": "dietary-walnut",
   "metadata": {},
   "outputs": [
    {
     "name": "stdout",
     "output_type": "stream",
     "text": [
      "0    242476\n",
      "1     62286\n",
      "Name: target, dtype: int64\n"
     ]
    },
    {
     "data": {
      "text/plain": [
       "0    0.795624\n",
       "1    0.204376\n",
       "Name: target, dtype: float64"
      ]
     },
     "execution_count": 14,
     "metadata": {},
     "output_type": "execute_result"
    }
   ],
   "source": [
    "print(train_model['target'].value_counts(dropna=False))\n",
    "train_model['target'].value_counts(dropna=False,normalize=True)"
   ]
  },
  {
   "cell_type": "code",
   "execution_count": 15,
   "id": "streaming-greenhouse",
   "metadata": {},
   "outputs": [],
   "source": [
    "# print(train_model['positive_outcome'].value_counts(dropna=False))\n",
    "# train_model['positive_outcome'].value_counts(dropna=False,normalize=True)\n",
    "# pd.crosstab(train_model[\"referencia\"],train_model[\"target\"],normalize='index')\n",
    "# pd.crosstab(train_model[\"Gender\"],train_model[\"target\"],normalize='index')\n",
    "# pd.crosstab(train_model[\"station\"],train_model[\"target\"],normalize='index')\n",
    "# pd.crosstab(train_model[\"station\"],train_model[\"positive_outcome\"],normalize='index')"
   ]
  },
  {
   "cell_type": "markdown",
   "id": "consecutive-kazakhstan",
   "metadata": {},
   "source": [
    "### Feature engineering"
   ]
  },
  {
   "cell_type": "code",
   "execution_count": 16,
   "id": "rough-prophet",
   "metadata": {},
   "outputs": [],
   "source": [
    "# get the hour and day of the week, maybe they will be useful \n",
    "train_model['hour'] = train_model['Date'].dt.hour\n",
    "train_model['month'] = train_model['Date'].dt.month\n",
    "train_model['day_of_week'] = train_model['Date'].dt.day_name()"
   ]
  },
  {
   "cell_type": "code",
   "execution_count": 17,
   "id": "pregnant-comment",
   "metadata": {},
   "outputs": [
    {
     "data": {
      "text/plain": [
       "misuse of drugs act 1971 (section 23)                      178620\n",
       "police and criminal evidence act 1984 (section 1)           92651\n",
       "missing infomation                                          27931\n",
       "criminal justice and public order act 1994 (section 60)      2670\n",
       "firearms act 1968 (section 47)                               1830\n",
       "others                                                       1060\n",
       "Name: Legislation, dtype: int64"
      ]
     },
     "execution_count": 17,
     "metadata": {},
     "output_type": "execute_result"
    }
   ],
   "source": [
    "# Legislation - reducing the quantity of categories\n",
    "# train_model.groupby(['Legislation','target'], dropna=False)['Outcome'].count().unstack()\n",
    "\n",
    "train_model['Legislation']=train_model['Legislation'].fillna('missing infomation')\n",
    "train_model['Legislation'] = train_model['Legislation'].apply(lambda x: str(x).lower())\n",
    "\n",
    "legislation_categories = ['misuse of drugs act 1971 (section 23)', 'police and criminal evidence act 1984 (section 1)', \n",
    "                          'criminal justice and public order act 1994 (section 60)', 'firearms act 1968 (section 47)',\n",
    "                          'missing infomation']\n",
    "\n",
    "mask=(~train_model['Legislation'].isin(legislation_categories))\n",
    "train_model.loc[mask, 'Legislation']='others'\n",
    "\n",
    "train_model['Legislation'].value_counts()"
   ]
  },
  {
   "cell_type": "markdown",
   "id": "quality-theory",
   "metadata": {},
   "source": [
    "### Text Data normalization"
   ]
  },
  {
   "cell_type": "code",
   "execution_count": 18,
   "id": "skilled-limitation",
   "metadata": {},
   "outputs": [
    {
     "data": {
      "text/plain": [
       "controlled drugs                              192161\n",
       "offensive weapons                              35391\n",
       "article for use in theft                       30287\n",
       "stolen goods                                   26617\n",
       "articles for use in criminal damage             6494\n",
       "anything to threaten or harm anyone             5241\n",
       "firearms                                        2957\n",
       "evidence of offences under the act              1930\n",
       "psychoactive substances                         1701\n",
       "fireworks                                       1695\n",
       "detailed object of search unavailable            129\n",
       "game or poaching equipment                        96\n",
       "goods on which duty has not been paid etc.        23\n",
       "evidence of wildlife offences                     21\n",
       "crossbows                                         17\n",
       "seals or hunting equipment                         2\n",
       "Name: Object of search, dtype: int64"
      ]
     },
     "execution_count": 18,
     "metadata": {},
     "output_type": "execute_result"
    }
   ],
   "source": [
    "train_model['Object of search'] = train_model['Object of search'].apply(lambda x: str(x).lower())\n",
    "train_model['Object of search'].value_counts()"
   ]
  },
  {
   "cell_type": "code",
   "execution_count": 19,
   "id": "forbidden-southeast",
   "metadata": {},
   "outputs": [],
   "source": [
    "train_model['station'] = train_model['station'].apply(lambda x: str(x).lower())\n",
    "# train_model['station'].value_counts()"
   ]
  },
  {
   "cell_type": "code",
   "execution_count": null,
   "id": "blessed-merchant",
   "metadata": {},
   "outputs": [],
   "source": []
  },
  {
   "cell_type": "markdown",
   "id": "pregnant-phenomenon",
   "metadata": {},
   "source": [
    "### Latitude and Longitude"
   ]
  },
  {
   "cell_type": "code",
   "execution_count": 20,
   "id": "tribal-satisfaction",
   "metadata": {},
   "outputs": [
    {
     "name": "stdout",
     "output_type": "stream",
     "text": [
      "count    228038.000000\n",
      "mean         52.511589\n",
      "std           1.133850\n",
      "min          49.892149\n",
      "25%          51.485978\n",
      "50%          52.609826\n",
      "75%          53.422686\n",
      "max          57.143856\n",
      "Name: Latitude, dtype: float64\n"
     ]
    },
    {
     "data": {
      "text/plain": [
       "count    228038.000000\n",
       "mean         -1.343263\n",
       "std           1.365160\n",
       "min          -8.053397\n",
       "25%          -2.599163\n",
       "50%          -1.464553\n",
       "75%          -0.207006\n",
       "max           1.756480\n",
       "Name: Longitude, dtype: float64"
      ]
     },
     "execution_count": 20,
     "metadata": {},
     "output_type": "execute_result"
    }
   ],
   "source": [
    "print(train_model['Latitude'].describe())\n",
    "train_model['Longitude'].describe()"
   ]
  },
  {
   "cell_type": "code",
   "execution_count": 21,
   "id": "middle-influence",
   "metadata": {},
   "outputs": [],
   "source": [
    "train_model['Latitude'] = train_model['Longitude'].fillna(0)\n",
    "train_model['Longitude'] = train_model['Longitude'].fillna(50)"
   ]
  },
  {
   "cell_type": "markdown",
   "id": "formal-coordination",
   "metadata": {},
   "source": [
    "### Data split"
   ]
  },
  {
   "cell_type": "code",
   "execution_count": 22,
   "id": "offensive-cylinder",
   "metadata": {},
   "outputs": [],
   "source": [
    "df_train, df_test = train_test_split(train_model, test_size=0.3, random_state=42)"
   ]
  },
  {
   "cell_type": "code",
   "execution_count": 23,
   "id": "seasonal-principle",
   "metadata": {},
   "outputs": [
    {
     "data": {
      "text/plain": [
       "(213333, 22)"
      ]
     },
     "execution_count": 23,
     "metadata": {},
     "output_type": "execute_result"
    }
   ],
   "source": [
    "df_train.shape"
   ]
  },
  {
   "cell_type": "code",
   "execution_count": 24,
   "id": "hundred-asian",
   "metadata": {},
   "outputs": [
    {
     "data": {
      "text/plain": [
       "(91429, 22)"
      ]
     },
     "execution_count": 24,
     "metadata": {},
     "output_type": "execute_result"
    }
   ],
   "source": [
    "df_test.shape"
   ]
  },
  {
   "cell_type": "code",
   "execution_count": 25,
   "id": "optimum-adventure",
   "metadata": {},
   "outputs": [
    {
     "data": {
      "text/plain": [
       "Saturday     34161\n",
       "Friday       33994\n",
       "Thursday     30593\n",
       "Wednesday    30283\n",
       "Tuesday      28674\n",
       "Monday       27828\n",
       "Sunday       27800\n",
       "Name: day_of_week, dtype: int64"
      ]
     },
     "execution_count": 25,
     "metadata": {},
     "output_type": "execute_result"
    }
   ],
   "source": [
    "df_train.day_of_week.value_counts()"
   ]
  },
  {
   "cell_type": "markdown",
   "id": "legendary-addiction",
   "metadata": {},
   "source": [
    "### Training a baseline model"
   ]
  },
  {
   "cell_type": "code",
   "execution_count": 26,
   "id": "liberal-indiana",
   "metadata": {},
   "outputs": [
    {
     "data": {
      "text/plain": [
       "0.5186973616455134"
      ]
     },
     "execution_count": 26,
     "metadata": {},
     "output_type": "execute_result"
    }
   ],
   "source": [
    "all_features = ['Type', 'Part of a policing operation', 'Age range', \n",
    "                'Legislation', 'hour', 'month', 'day_of_week',\n",
    "                'Gender', 'Officer-defined ethnicity']\n",
    "\n",
    "numerical_features = ['hour', 'month']\n",
    "\n",
    "categorical_features = ['Type', 'Part of a policing operation', 'Age range',\n",
    "                        'Legislation', 'day_of_week','Gender', 'Officer-defined ethnicity']\n",
    "\n",
    "numeric_transformer = Pipeline(steps=[\n",
    "    ('imputer', SimpleImputer(strategy='median')),\n",
    "    ('scaler', StandardScaler())])\n",
    "\n",
    "categorical_transformer = Pipeline(steps=[\n",
    "    ('imputer', SimpleImputer(strategy='constant', fill_value='missing')),\n",
    "    ('onehot', OneHotEncoder(handle_unknown='ignore'))])\n",
    "\n",
    "preprocessor = ColumnTransformer(\n",
    "    transformers=[\n",
    "        ('num', numeric_transformer, numerical_features),\n",
    "        ('cat', categorical_transformer, categorical_features)])\n",
    "\n",
    "pipeline = make_pipeline(\n",
    "    preprocessor,\n",
    "    RandomForestClassifier(random_state=42, n_jobs=-1),\n",
    ")\n",
    "\n",
    "\n",
    "X_train = df_train[all_features]\n",
    "y_train = df_train['target']\n",
    "\n",
    "pipeline.fit(X_train, y_train)\n",
    "\n",
    "X_test = df_test[all_features]\n",
    "y_test = df_test['target']\n",
    "\n",
    "y_pred = pipeline.predict(X_test)\n",
    "y_proba = pipeline.predict_proba(X_test)\n",
    "y_pred_train = pipeline.predict(X_train)\n",
    "\n",
    "# To use on other cells\n",
    "# X_train_baseline = X_train.copy()\n",
    "# X_test_baseline = df_test.copy()\n",
    "# y_test_baseline = X_test_baseline[target].copy()\n",
    "# y_pred_baseline = y_pred.copy()\n",
    "# pipeline_baseline = pipeline\n",
    "\n",
    "roc_auc_score(y_test, y_pred)"
   ]
  },
  {
   "cell_type": "code",
   "execution_count": 27,
   "id": "professional-economics",
   "metadata": {},
   "outputs": [],
   "source": [
    "# ?RandomForestClassifier"
   ]
  },
  {
   "cell_type": "code",
   "execution_count": 55,
   "id": "entertaining-shakespeare",
   "metadata": {},
   "outputs": [],
   "source": [
    "precision, recall, thresholds = precision_recall_curve(y_test, y_proba[:,1])"
   ]
  },
  {
   "cell_type": "code",
   "execution_count": 56,
   "id": "federal-watershed",
   "metadata": {},
   "outputs": [],
   "source": [
    "precision = precision[:-1]\n",
    "recall = recall[:-1]"
   ]
  },
  {
   "cell_type": "code",
   "execution_count": 57,
   "id": "oriented-nurse",
   "metadata": {},
   "outputs": [
    {
     "data": {
      "image/png": "[encoded data removed]",
      "text/plain": [
       "<Figure size 432x288 with 2 Axes>"
      ]
     },
     "metadata": {
      "needs_background": "light"
     },
     "output_type": "display_data"
    }
   ],
   "source": [
    "fig=plt.figure()\n",
    "ax1 = plt.subplot(211)\n",
    "ax2 = plt.subplot(212)\n",
    "ax1.hlines(y=0.1,xmin=0, xmax=1, colors='red')\n",
    "ax1.plot(thresholds,precision)\n",
    "ax2.plot(thresholds,recall)\n",
    "ax1.get_shared_x_axes().join(ax1, ax2)\n",
    "ax1.set_xticklabels([])\n",
    "plt.xlabel('Threshold')\n",
    "ax1.set_title('Precision')\n",
    "ax2.set_title('Recall')\n",
    "plt.show()"
   ]
  },
  {
   "cell_type": "code",
   "execution_count": 65,
   "id": "overall-factory",
   "metadata": {},
   "outputs": [
    {
     "name": "stdout",
     "output_type": "stream",
     "text": [
      "9953\n"
     ]
    },
    {
     "data": {
      "text/plain": [
       "0.22059126984126975"
      ]
     },
     "execution_count": 65,
     "metadata": {},
     "output_type": "execute_result"
    }
   ],
   "source": [
    "min_index = [i for i, prec in enumerate(precision) if prec > 0.25][0]\n",
    "print(min_index)\n",
    "thresholds[min_index]"
   ]
  },
  {
   "cell_type": "code",
   "execution_count": 66,
   "id": "enhanced-sapphire",
   "metadata": {},
   "outputs": [
    {
     "data": {
      "text/plain": [
       "0.25002103373811596"
      ]
     },
     "execution_count": 66,
     "metadata": {},
     "output_type": "execute_result"
    }
   ],
   "source": [
    "precision[min_index]"
   ]
  },
  {
   "cell_type": "code",
   "execution_count": 67,
   "id": "historic-republican",
   "metadata": {},
   "outputs": [
    {
     "data": {
      "text/plain": [
       "0.47966211126654473"
      ]
     },
     "execution_count": 67,
     "metadata": {},
     "output_type": "execute_result"
    }
   ],
   "source": [
    "recall[min_index]"
   ]
  },
  {
   "cell_type": "code",
   "execution_count": 68,
   "id": "antique-ocean",
   "metadata": {},
   "outputs": [
    {
     "data": {
      "image/png": "[encoded data removed]",
      "text/plain": [
       "<Figure size 432x288 with 1 Axes>"
      ]
     },
     "metadata": {
      "needs_background": "light"
     },
     "output_type": "display_data"
    }
   ],
   "source": [
    "pd.Series(y_proba[:,1]).hist(bins=20, figsize=(6, 4));\n",
    "# df.hist(column='SubjectAge', bins=20, figsize=(6, 4));"
   ]
  },
  {
   "cell_type": "code",
   "execution_count": 69,
   "id": "cognitive-column",
   "metadata": {},
   "outputs": [],
   "source": [
    "threshold = thresholds[min_index]\n",
    "y_pred_threshold = pd.Series([True if p >= threshold else False for p in y_proba[:,1]]).to_numpy()"
   ]
  },
  {
   "cell_type": "code",
   "execution_count": 70,
   "id": "military-maximum",
   "metadata": {},
   "outputs": [
    {
     "name": "stdout",
     "output_type": "stream",
     "text": [
      "<class 'numpy.ndarray'>\n"
     ]
    },
    {
     "data": {
      "text/plain": [
       "numpy.ndarray"
      ]
     },
     "execution_count": 70,
     "metadata": {},
     "output_type": "execute_result"
    }
   ],
   "source": [
    "print(type(y_pred))\n",
    "type(y_pred_threshold)"
   ]
  },
  {
   "cell_type": "code",
   "execution_count": null,
   "id": "literary-textbook",
   "metadata": {},
   "outputs": [],
   "source": []
  },
  {
   "cell_type": "markdown",
   "id": "recent-radiation",
   "metadata": {},
   "source": [
    "#### most important features"
   ]
  },
  {
   "cell_type": "code",
   "execution_count": 71,
   "id": "stunning-basin",
   "metadata": {},
   "outputs": [
    {
     "name": "stdout",
     "output_type": "stream",
     "text": [
      "Feature ranking:\n",
      "1. feature hour (0.456903)\n",
      "2. feature month (0.335843)\n",
      "3. feature Legislation_misuse of drugs act 1971 (section 23) (0.022685)\n",
      "4. feature Legislation_police and criminal evidence act 1984 (section 1) (0.016668)\n",
      "5. feature Age range_18-24 (0.011490)\n",
      "6. feature day_of_week_Friday (0.010152)\n",
      "7. feature day_of_week_Wednesday (0.009812)\n",
      "8. feature day_of_week_Saturday (0.009808)\n",
      "9. feature day_of_week_Thursday (0.009761)\n"
     ]
    },
    {
     "data": {
      "image/png": "[encoded data removed]",
      "text/plain": [
       "<Figure size 432x288 with 1 Axes>"
      ]
     },
     "metadata": {
      "needs_background": "light"
     },
     "output_type": "display_data"
    }
   ],
   "source": [
    "categorical_encode_step = pipeline.named_steps['columntransformer'].named_transformers_['cat'].named_steps['onehot']\n",
    "random_forest_step = pipeline.named_steps['randomforestclassifier']\n",
    "\n",
    "onehot_columns = categorical_encode_step.get_feature_names(input_features=categorical_features)\n",
    "\n",
    "importances = pd.Series(data=random_forest_step.feature_importances_, index = np.array(numerical_features + list(onehot_columns)))\n",
    "\n",
    "indices = np.argsort(importances)[::-1]\n",
    "print(\"Feature ranking:\")\n",
    "\n",
    "for f in range(X_train.shape[1]):\n",
    "    print(\"%d. feature %s (%f)\" % (f + 1, importances.index[indices[f]], importances[indices[f]]))\n",
    "\n",
    "std = np.std([tree.feature_importances_ for tree in random_forest_step.estimators_], axis=0)\n",
    "\n",
    "plt.figure()\n",
    "plt.title(\"Feature importances\")\n",
    "plt.bar(x=importances.index[indices], height=importances[indices],\n",
    "        color=\"r\", yerr=std[indices], align=\"center\");\n",
    "plt.xticks(range(len(importances.index[indices])), importances.index[indices], rotation=45, ha=\"right\")\n",
    "plt.xlim([-1, X_train.shape[1]])\n",
    "plt.xlabel('Features');\n",
    "plt.ylabel('Importance');\n",
    "\n",
    "plt.show()"
   ]
  },
  {
   "cell_type": "code",
   "execution_count": null,
   "id": "provincial-trading",
   "metadata": {},
   "outputs": [],
   "source": []
  },
  {
   "cell_type": "markdown",
   "id": "military-portsmouth",
   "metadata": {},
   "source": [
    "## Formalizing client requirements"
   ]
  },
  {
   "cell_type": "code",
   "execution_count": null,
   "id": "civilian-faculty",
   "metadata": {},
   "outputs": [],
   "source": []
  },
  {
   "cell_type": "markdown",
   "id": "empirical-disney",
   "metadata": {},
   "source": [
    "### 1 - Minimum 10% success rate for searches per station and search objective"
   ]
  },
  {
   "cell_type": "code",
   "execution_count": 72,
   "id": "altered-jefferson",
   "metadata": {},
   "outputs": [],
   "source": [
    "def verify_global_success_rate(y_true, y_pred, min_success_rate=0.1):\n",
    "    \"\"\"\n",
    "    Verifies the success rate on a test set is above a provided minimum\n",
    "    \"\"\"\n",
    "    \n",
    "    precision = precision_score(y_true, y_pred, pos_label=1)\n",
    "    is_satisfied = (precision >= min_success_rate)\n",
    "    \n",
    "    recall = recall_score(y_true, y_pred, pos_label=1)\n",
    "    \n",
    "    return is_satisfied, precision, recall"
   ]
  },
  {
   "cell_type": "code",
   "execution_count": 73,
   "id": "destroyed-validity",
   "metadata": {},
   "outputs": [
    {
     "name": "stdout",
     "output_type": "stream",
     "text": [
      "Global Precision: (True, 0.25002103373811596)\n",
      "Global Recall: 0.47966211126654473\n"
     ]
    }
   ],
   "source": [
    "is_verified, success_rate, recall = verify_global_success_rate(y_test, y_pred_threshold)\n",
    "\n",
    "print(\"Global Precision: {}\".format((is_verified, success_rate)))\n",
    "print(\"Global Recall: {}\".format(recall))"
   ]
  },
  {
   "cell_type": "code",
   "execution_count": 74,
   "id": "bright-america",
   "metadata": {},
   "outputs": [],
   "source": [
    "# exclusion_list = ['articles for use in criminal damage','anything to threaten or harm anyone','fireworks', \n",
    "#                  'detailed object of search unavailable','game or poaching equipment',\n",
    "#                  'goods on which duty has not been paid etc.','evidence of wildlife offences',\n",
    "#                  'crossbows','seals or hunting equipment']\n",
    "\n",
    "# t=df_test['Object of search'].unique()\n",
    "\n",
    "# for i in t:\n",
    "#     if i not in exclusion_list:\n",
    "#         print(i)"
   ]
  },
  {
   "cell_type": "code",
   "execution_count": 75,
   "id": "neither-saver",
   "metadata": {},
   "outputs": [],
   "source": [
    "def verify_success_rate_objective_station(X_test, y_true, y_pred, sensitive_column='Object of search', \n",
    "                                          min_success_rate=0.1, min_samples=50):\n",
    "    \"\"\"\n",
    "    Verifies that success rate per station and search objective is higher than 10%\n",
    "    \"\"\"\n",
    "    \n",
    "#     exclusion_list = ['articles for use in criminal damage','anything to threaten or harm anyone','fireworks', \n",
    "#                  'detailed object of search unavailable','game or poaching equipment',\n",
    "#                  'goods on which duty has not been paid etc.','evidence of wildlife offences',\n",
    "#                  'crossbows','seals or hunting equipment']\n",
    "\n",
    "    exclusion_list = ['articles for use in criminal damage','anything to threaten or harm anyone','fireworks',\n",
    "                      'detailed object of search unavailable','game or poaching equipment',\n",
    "                      'goods on which duty has not been paid etc.','evidence of wildlife offences',\n",
    "                      'crossbows','seals or hunting equipment',\n",
    "                      'firearms','evidence of offences under the act','psychoactive substances']\n",
    "    \n",
    "    departments = X_test['station'].unique()\n",
    "    sensitive_classes = X_test[sensitive_column].unique()\n",
    "    \n",
    "    is_satisfied = True\n",
    "    problematic_departments = []\n",
    "    good_deparments = []\n",
    "    ignored_departments = []\n",
    "    for department in departments:\n",
    "        precisions = {}\n",
    "        for sensitive_class in sensitive_classes:\n",
    "            if sensitive_class not in exclusion_list:\n",
    "                mask = (X_test[sensitive_column] == sensitive_class) & (X_test['station'] == department)\n",
    "                if np.sum(mask) > min_samples:\n",
    "                    precisions[sensitive_class] = precision_score(y_true[mask], y_pred[mask], pos_label=1)\n",
    "                \n",
    "        if len(precisions) > 1:    \n",
    "            precision_min = np.min(list(precisions.values()))\n",
    "\n",
    "            if precision_min < min_success_rate:\n",
    "                is_satisfied = False\n",
    "                problematic_departments.append((department, precision_min, precisions))\n",
    "            else:\n",
    "                good_deparments.append((department, precision_min, precisions))\n",
    "        else:\n",
    "            ignored_departments.append((department, None, []))\n",
    "    \n",
    "    global_precisions = {}\n",
    "    for department in departments:\n",
    "        mask = (X_test['station'] == department)\n",
    "        if np.sum(mask) > min_samples:\n",
    "            global_precisions[department] = precision_score(y_true[mask], y_pred[mask])\n",
    "            \n",
    "    global_precisions_objective = {}\n",
    "    for obj in sensitive_classes:\n",
    "        mask = (X_test[sensitive_column] == obj)\n",
    "        if np.sum(mask) > min_samples:\n",
    "            global_precisions_objective[obj] = precision_score(y_true[mask], y_pred[mask])\n",
    "    \n",
    "        \n",
    "    return is_satisfied, problematic_departments, good_deparments, ignored_departments, global_precisions,global_precisions_objective"
   ]
  },
  {
   "cell_type": "code",
   "execution_count": 76,
   "id": "integral-planet",
   "metadata": {},
   "outputs": [
    {
     "name": "stdout",
     "output_type": "stream",
     "text": [
      "Requirement failed 😢\n",
      "Num problematic stations: 20\n",
      "Num good stations: 17\n",
      "Num ignored departments: 2\n",
      "\n",
      "Object of search rates: {'controlled drugs': 0.27697453603798017, 'article for use in theft': 0.1293147861926842, 'stolen goods': 0.23193197921587153, 'anything to threaten or harm anyone': 0.09688581314878893, 'offensive weapons': 0.13592677345537757, 'fireworks': 0.0, 'articles for use in criminal damage': 0.022187004754358162, 'firearms': 0.09302325581395349, 'evidence of offences under the act': 0.1346153846153846, 'psychoactive substances': 0.35294117647058826}\n",
      "\n",
      "Station rates: {'bedfordshire': 0.24476987447698745, 'hertfordshire': 0.29796696315120713, 'kent': 0.26105390672319806, 'btp': 0.28317757009345795, 'warwickshire': 0.2969187675070028, 'staffordshire': 0.265625, 'leicestershire': 0.13358070500927643, 'derbyshire': 0.26988636363636365, 'cheshire': 0.3365695792880259, 'west-yorkshire': 0.20477453580901855, 'suffolk': 0.22857142857142856, 'hampshire': 0.30924170616113744, 'devon-and-cornwall': 0.2750252780586451, 'south-yorkshire': 0.18505338078291814, 'essex': 0.3119584055459272, 'norfolk': 0.1732418524871355, 'dyfed-powys': 0.02053388090349076, 'thames-valley': 0.17429340511440108, 'avon-and-somerset': 0.29180602006688966, 'merseyside': 0.2516430300933933, 'northumbria': 0.24808184143222506, 'sussex': 0.2595419847328244, 'surrey': 0.28548123980424145, 'nottinghamshire': 0.2908530318602261, 'city-of-london': 0.3195121951219512, 'west-mercia': 0.3053763440860215, 'lincolnshire': 0.16993464052287582, 'lancashire': 0.06907894736842106, 'gloucestershire': 0.27605633802816903, 'northamptonshire': 0.24943820224719102, 'cumbria': 0.2679245283018868, 'north-yorkshire': 0.2052401746724891, 'north-wales': 0.15814696485623003, 'cleveland': 0.31088082901554404, 'dorset': 0.2756183745583039, 'durham': 0.3949579831932773, 'greater-manchester': 0.2751540041067762, 'wiltshire': 0.18064516129032257, 'cambridgeshire': 0.25773195876288657}\n"
     ]
    }
   ],
   "source": [
    "is_satisfied, problematic_departments, good_deparments, ignored_departments,global_precisions, global_precisions_objective = verify_success_rate_objective_station(df_test, y_test, y_pred_threshold, min_success_rate=0.1)\n",
    "\n",
    "if not is_satisfied:\n",
    "    print(\"Requirement failed 😢\")\n",
    "    print(\"Num problematic stations: {}\".format(len(problematic_departments)))\n",
    "    print(\"Num good stations: {}\".format(len(good_deparments)))\n",
    "    print(\"Num ignored departments: {}\".format(len(ignored_departments)))\n",
    "    print(\"\\nObject of search rates: {}\".format(global_precisions_objective))\n",
    "    print(\"\\nStation rates: {}\".format(global_precisions))\n"
   ]
  },
  {
   "cell_type": "code",
   "execution_count": 78,
   "id": "twenty-meeting",
   "metadata": {
    "scrolled": true
   },
   "outputs": [
    {
     "data": {
      "text/plain": [
       "[('bedfordshire',\n",
       "  0.06976744186046512,\n",
       "  {'controlled drugs': 0.2903225806451613,\n",
       "   'article for use in theft': 0.06976744186046512,\n",
       "   'stolen goods': 0.13636363636363635,\n",
       "   'offensive weapons': 0.07894736842105263}),\n",
       " ('staffordshire',\n",
       "  0.03333333333333333,\n",
       "  {'controlled drugs': 0.30139103554868624,\n",
       "   'article for use in theft': 0.03333333333333333,\n",
       "   'stolen goods': 0.21839080459770116,\n",
       "   'offensive weapons': 0.0967741935483871}),\n",
       " ('leicestershire',\n",
       "  0.018867924528301886,\n",
       "  {'controlled drugs': 0.16273584905660377,\n",
       "   'article for use in theft': 0.047619047619047616,\n",
       "   'stolen goods': 0.027777777777777776,\n",
       "   'offensive weapons': 0.018867924528301886}),\n",
       " ('derbyshire',\n",
       "  0.038461538461538464,\n",
       "  {'controlled drugs': 0.3079710144927536,\n",
       "   'article for use in theft': 0.19230769230769232,\n",
       "   'offensive weapons': 0.038461538461538464}),\n",
       " ('cheshire',\n",
       "  0.07317073170731707,\n",
       "  {'controlled drugs': 0.3676190476190476,\n",
       "   'article for use in theft': 0.13043478260869565,\n",
       "   'stolen goods': 0.34782608695652173,\n",
       "   'offensive weapons': 0.07317073170731707}),\n",
       " ('suffolk',\n",
       "  0.05,\n",
       "  {'controlled drugs': 0.2555205047318612,\n",
       "   'article for use in theft': 0.08333333333333333,\n",
       "   'stolen goods': 0.2777777777777778,\n",
       "   'offensive weapons': 0.05}),\n",
       " ('south-yorkshire',\n",
       "  0.0,\n",
       "  {'controlled drugs': 0.22870370370370371,\n",
       "   'article for use in theft': 0.0,\n",
       "   'stolen goods': 0.0,\n",
       "   'offensive weapons': 0.13043478260869565}),\n",
       " ('norfolk',\n",
       "  0.034482758620689655,\n",
       "  {'controlled drugs': 0.19874476987447698,\n",
       "   'article for use in theft': 0.07142857142857142,\n",
       "   'stolen goods': 0.034482758620689655,\n",
       "   'offensive weapons': 0.125}),\n",
       " ('dyfed-powys',\n",
       "  0.0,\n",
       "  {'controlled drugs': 0.009237875288683603, 'article for use in theft': 0.0}),\n",
       " ('thames-valley',\n",
       "  0.0784313725490196,\n",
       "  {'controlled drugs': 0.20517560073937152,\n",
       "   'article for use in theft': 0.0784313725490196,\n",
       "   'stolen goods': 0.11888111888111888,\n",
       "   'offensive weapons': 0.10256410256410256}),\n",
       " ('merseyside',\n",
       "  0.06132075471698113,\n",
       "  {'controlled drugs': 0.2680313755500287,\n",
       "   'article for use in theft': 0.10619469026548672,\n",
       "   'stolen goods': 0.2459016393442623,\n",
       "   'offensive weapons': 0.06132075471698113}),\n",
       " ('surrey',\n",
       "  0.09433962264150944,\n",
       "  {'controlled drugs': 0.33785310734463275,\n",
       "   'article for use in theft': 0.168,\n",
       "   'stolen goods': 0.36666666666666664,\n",
       "   'offensive weapons': 0.09433962264150944}),\n",
       " ('nottinghamshire',\n",
       "  0.0,\n",
       "  {'controlled drugs': 0.31517960602549244,\n",
       "   'article for use in theft': 0.0,\n",
       "   'stolen goods': 0.3157894736842105,\n",
       "   'offensive weapons': 0.08196721311475409}),\n",
       " ('city-of-london',\n",
       "  0.08695652173913043,\n",
       "  {'controlled drugs': 0.37410071942446044,\n",
       "   'article for use in theft': 0.26,\n",
       "   'stolen goods': 0.20930232558139536,\n",
       "   'offensive weapons': 0.08695652173913043}),\n",
       " ('lincolnshire',\n",
       "  0.07407407407407407,\n",
       "  {'controlled drugs': 0.18585858585858586,\n",
       "   'article for use in theft': 0.10204081632653061,\n",
       "   'stolen goods': 0.2222222222222222,\n",
       "   'offensive weapons': 0.07407407407407407}),\n",
       " ('lancashire',\n",
       "  0.015873015873015872,\n",
       "  {'controlled drugs': 0.23963133640552994,\n",
       "   'article for use in theft': 0.015873015873015872,\n",
       "   'stolen goods': 0.1794871794871795,\n",
       "   'offensive weapons': 0.1111111111111111}),\n",
       " ('gloucestershire',\n",
       "  0.07142857142857142,\n",
       "  {'controlled drugs': 0.29411764705882354,\n",
       "   'article for use in theft': 0.07142857142857142,\n",
       "   'stolen goods': 0.1875,\n",
       "   'offensive weapons': 0.23529411764705882}),\n",
       " ('northamptonshire',\n",
       "  0.09090909090909091,\n",
       "  {'controlled drugs': 0.2650273224043716,\n",
       "   'article for use in theft': 0.1724137931034483,\n",
       "   'offensive weapons': 0.09090909090909091}),\n",
       " ('north-yorkshire',\n",
       "  0.07692307692307693,\n",
       "  {'controlled drugs': 0.20279720279720279,\n",
       "   'article for use in theft': 0.16,\n",
       "   'stolen goods': 0.26666666666666666,\n",
       "   'offensive weapons': 0.07692307692307693}),\n",
       " ('north-wales',\n",
       "  0.0,\n",
       "  {'controlled drugs': 0.17659137577002054,\n",
       "   'article for use in theft': 0.0,\n",
       "   'stolen goods': 0.16129032258064516,\n",
       "   'offensive weapons': 0.05660377358490566})]"
      ]
     },
     "execution_count": 78,
     "metadata": {},
     "output_type": "execute_result"
    }
   ],
   "source": [
    "problematic_departments"
   ]
  },
  {
   "cell_type": "code",
   "execution_count": 44,
   "id": "homeless-bride",
   "metadata": {},
   "outputs": [
    {
     "data": {
      "text/plain": [
       "[('bedfordshire',\n",
       "  0.11764705882352941,\n",
       "  {'controlled drugs': 0.31210191082802546,\n",
       "   'article for use in theft': 0.11764705882352941,\n",
       "   'stolen goods': 0.2,\n",
       "   'offensive weapons': 0.25}),\n",
       " ('kent',\n",
       "  0.14285714285714285,\n",
       "  {'controlled drugs': 0.2682926829268293,\n",
       "   'article for use in theft': 0.14285714285714285,\n",
       "   'stolen goods': 0.36363636363636365,\n",
       "   'offensive weapons': 0.15517241379310345}),\n",
       " ('staffordshire',\n",
       "  0.1,\n",
       "  {'controlled drugs': 0.3230769230769231,\n",
       "   'article for use in theft': 0.1,\n",
       "   'stolen goods': 0.27586206896551724,\n",
       "   'offensive weapons': 0.1875}),\n",
       " ('derbyshire',\n",
       "  0.125,\n",
       "  {'controlled drugs': 0.26744186046511625,\n",
       "   'article for use in theft': 0.5,\n",
       "   'offensive weapons': 0.125}),\n",
       " ('west-yorkshire',\n",
       "  0.2,\n",
       "  {'controlled drugs': 0.2144212523719165,\n",
       "   'article for use in theft': 0.2,\n",
       "   'stolen goods': 0.25,\n",
       "   'offensive weapons': 0.2619047619047619}),\n",
       " ('devon-and-cornwall',\n",
       "  0.23076923076923078,\n",
       "  {'controlled drugs': 0.3070539419087137,\n",
       "   'stolen goods': 0.23076923076923078,\n",
       "   'offensive weapons': 0.42105263157894735}),\n",
       " ('essex',\n",
       "  0.13043478260869565,\n",
       "  {'controlled drugs': 0.35399449035812675,\n",
       "   'article for use in theft': 0.13043478260869565,\n",
       "   'stolen goods': 0.2682926829268293,\n",
       "   'offensive weapons': 0.14545454545454545}),\n",
       " ('avon-and-somerset',\n",
       "  0.2631578947368421,\n",
       "  {'controlled drugs': 0.2808641975308642,\n",
       "   'article for use in theft': 0.3125,\n",
       "   'stolen goods': 0.2631578947368421,\n",
       "   'offensive weapons': 0.30434782608695654}),\n",
       " ('northumbria',\n",
       "  0.14285714285714285,\n",
       "  {'controlled drugs': 0.3203125,\n",
       "   'article for use in theft': 0.3333333333333333,\n",
       "   'stolen goods': 0.14285714285714285,\n",
       "   'offensive weapons': 0.27586206896551724}),\n",
       " ('sussex',\n",
       "  0.125,\n",
       "  {'controlled drugs': 0.30578512396694213,\n",
       "   'article for use in theft': 0.2857142857142857,\n",
       "   'stolen goods': 0.16666666666666666,\n",
       "   'offensive weapons': 0.125}),\n",
       " ('surrey',\n",
       "  0.16666666666666666,\n",
       "  {'controlled drugs': 0.35054347826086957,\n",
       "   'article for use in theft': 0.20454545454545456,\n",
       "   'stolen goods': 0.4666666666666667,\n",
       "   'offensive weapons': 0.16666666666666666}),\n",
       " ('city-of-london',\n",
       "  0.125,\n",
       "  {'controlled drugs': 0.4122137404580153,\n",
       "   'article for use in theft': 0.3125,\n",
       "   'stolen goods': 0.3333333333333333,\n",
       "   'offensive weapons': 0.125}),\n",
       " ('gloucestershire',\n",
       "  0.25,\n",
       "  {'controlled drugs': 0.28,\n",
       "   'article for use in theft': 0.5,\n",
       "   'stolen goods': 0.2857142857142857,\n",
       "   'offensive weapons': 0.25}),\n",
       " ('cleveland',\n",
       "  0.25,\n",
       "  {'controlled drugs': 0.2765957446808511,\n",
       "   'article for use in theft': 0.25,\n",
       "   'stolen goods': 0.25,\n",
       "   'offensive weapons': 0.5})]"
      ]
     },
     "execution_count": 44,
     "metadata": {},
     "output_type": "execute_result"
    }
   ],
   "source": [
    "good_deparments"
   ]
  },
  {
   "cell_type": "code",
   "execution_count": 79,
   "id": "received-architecture",
   "metadata": {},
   "outputs": [
    {
     "name": "stdout",
     "output_type": "stream",
     "text": [
      "0.02053388090349076\n"
     ]
    },
    {
     "data": {
      "text/plain": [
       "0.3949579831932773"
      ]
     },
     "execution_count": 79,
     "metadata": {},
     "output_type": "execute_result"
    }
   ],
   "source": [
    "print(min(global_precisions.values()))\n",
    "max(global_precisions.values())"
   ]
  },
  {
   "cell_type": "code",
   "execution_count": 80,
   "id": "czech-concern",
   "metadata": {},
   "outputs": [
    {
     "name": "stdout",
     "output_type": "stream",
     "text": [
      "0.0\n"
     ]
    },
    {
     "data": {
      "text/plain": [
       "0.35294117647058826"
      ]
     },
     "execution_count": 80,
     "metadata": {},
     "output_type": "execute_result"
    }
   ],
   "source": [
    "print(min(global_precisions_objective.values()))\n",
    "max(global_precisions_objective.values())"
   ]
  },
  {
   "cell_type": "code",
   "execution_count": 47,
   "id": "native-failing",
   "metadata": {},
   "outputs": [],
   "source": [
    "# mask = (X_test['Object of search'] == 'offensive weapons') & (X_test['station'] == 'bedfordshire')\n",
    "# np.sum(mask)\n",
    "# precision_score(y_test[mask], y_pred[mask])\n",
    "# y_test[mask].value_counts()\n",
    "# pd.Series(y_pred[mask]).value_counts()"
   ]
  },
  {
   "cell_type": "markdown",
   "id": "crucial-knitting",
   "metadata": {},
   "source": [
    "### 2 - No police station should have a discrepancy bigger than 5% between the search success rate between protected classes (ethnicity, gender)"
   ]
  },
  {
   "cell_type": "code",
   "execution_count": 81,
   "id": "corresponding-financing",
   "metadata": {},
   "outputs": [],
   "source": [
    "def verify_no_discrimination(X_test, y_true, y_pred, sensitive_column, max_diff=0.05, min_samples=50):\n",
    "    \"\"\"\n",
    "    Verifies that no station has discrimination in between protected classes\n",
    "    \"\"\"\n",
    "    \n",
    "    departments = X_test['station'].unique()\n",
    "    sensitive_classes = X_test[sensitive_column].unique()\n",
    "    \n",
    "    is_satisfied = True\n",
    "    problematic_departments = []\n",
    "    good_deparments = []\n",
    "    ignored_departments = []\n",
    "    for department in departments:\n",
    "        precisions = {}\n",
    "        for sensitive_class in sensitive_classes:\n",
    "            mask = (X_test[sensitive_column] == sensitive_class) & (X_test['station'] == department)\n",
    "            if np.sum(mask) > min_samples:\n",
    "                precisions[sensitive_class] = precision_score(y_true[mask], y_pred[mask], pos_label=1)\n",
    "                \n",
    "        if len(precisions) > 1:    \n",
    "            diff = np.max(list(precisions.values())) - np.min(list(precisions.values()))\n",
    "\n",
    "            if diff > max_diff:\n",
    "                is_satisfied = False\n",
    "                problematic_departments.append((department, diff, precisions))\n",
    "            else:\n",
    "                good_deparments.append((department, diff, precisions))\n",
    "        else:\n",
    "            ignored_departments.append((department, None, []))\n",
    "    \n",
    "    global_precisions = {}\n",
    "    for sensitive_class in sensitive_classes:\n",
    "        mask = (X_test[sensitive_column] == sensitive_class)\n",
    "        if np.sum(mask) > min_samples:\n",
    "            global_precisions[sensitive_class] = precision_score(y_true[mask], y_pred[mask], pos_label=1)\n",
    "    \n",
    "    if len(precisions) > 1:    \n",
    "        diff = np.max(list(precisions.values())) - np.min(list(precisions.values()))\n",
    "        if diff > max_diff:\n",
    "            is_satisfied = False\n",
    "        \n",
    "    return is_satisfied, problematic_departments, good_deparments, ignored_departments, global_precisions\n"
   ]
  },
  {
   "cell_type": "code",
   "execution_count": 82,
   "id": "naval-numbers",
   "metadata": {},
   "outputs": [
    {
     "name": "stdout",
     "output_type": "stream",
     "text": [
      "\n",
      "Ethnicity\n",
      "Requirement failed 😢\n",
      "Global rates: {'Black': 0.2557184750733138, 'White': 0.2502079002079002, 'Other': 0.2544570502431118, 'Asian': 0.23807646826960976, 'Mixed': 0.26180257510729615}\n",
      "Num problematic departments: 23\n",
      "Num good departments: 7\n",
      "Num ignored departments: 9\n",
      "avg diff: 0.12090823886517539\n",
      "\n",
      "\n",
      "Gender\n",
      "Requirement failed 😢\n",
      "Global rates: {'Male': 0.25255689671058695, 'Female': 0.22204108249103358, 'Other': 0.3548387096774194}\n",
      "Num problematic departments: 17\n",
      "Num good departments: 20\n",
      "Num ignored departments: 2\n",
      "avg diff: 0.08721133030152055\n"
     ]
    }
   ],
   "source": [
    "is_satisfied, problematic_departments, good_deparments, ignored_departments, global_precisions = verify_no_discrimination(\n",
    "    df_test, y_test, y_pred_threshold, 'Officer-defined ethnicity', 0.05)\n",
    "\n",
    "print(\"\\nEthnicity\")\n",
    "\n",
    "if not is_satisfied:\n",
    "    print(\"Requirement failed 😢\")\n",
    "    print(\"Global rates: {}\".format(global_precisions))\n",
    "    print(\"Num problematic departments: {}\".format(len(problematic_departments)))\n",
    "    print(\"Num good departments: {}\".format(len(good_deparments)))\n",
    "    print(\"Num ignored departments: {}\".format(len(ignored_departments)))\n",
    "\n",
    "    print(\"avg diff:\", np.mean([p[1] for p in problematic_departments]))\n",
    "    \n",
    "    \n",
    "is_satisfied, problematic_departments, good_deparments, ignored_departments, global_precisions = verify_no_discrimination(\n",
    "    df_test, y_test, y_pred_threshold, 'Gender', 0.05)\n",
    "\n",
    "print(\"\\n\\nGender\")\n",
    "\n",
    "if not is_satisfied:\n",
    "    print(\"Requirement failed 😢\")\n",
    "    print(\"Global rates: {}\".format(global_precisions))\n",
    "    print(\"Num problematic departments: {}\".format(len(problematic_departments)))\n",
    "    print(\"Num good departments: {}\".format(len(good_deparments)))\n",
    "    print(\"Num ignored departments: {}\".format(len(ignored_departments)))\n",
    "    \n",
    "    print(\"avg diff:\", np.mean([p[1] for p in problematic_departments]))"
   ]
  },
  {
   "cell_type": "markdown",
   "id": "terminal-south",
   "metadata": {},
   "source": [
    "### 3 - No police station should have a discrepancy bigger than x% between the Removal of more than just outer clothing rate between protected classes (age, ethnicity, gender)"
   ]
  },
  {
   "cell_type": "code",
   "execution_count": 83,
   "id": "third-reggae",
   "metadata": {},
   "outputs": [],
   "source": [
    "def verify_removal_clothing(X_test, y_true, y_pred, sensitive_column, max_diff, min_samples=50):\n",
    "    \"\"\"\n",
    "    Verifies that no station has discrepancy Removal of more than just outer clothing rate between \n",
    "    protected classes (age, ethnicity, gender)\n",
    "    \"\"\"\n",
    "    \n",
    "    departments = X_test['station'].unique()\n",
    "    sensitive_classes = X_test[sensitive_column].unique()\n",
    "    \n",
    "    is_satisfied = True\n",
    "    problematic_departments = []\n",
    "    good_deparments = []\n",
    "    ignored_departments = []\n",
    "    for department in departments:\n",
    "        removal_rate = {}\n",
    "        for sensitive_class in sensitive_classes:\n",
    "            mask = (X_test[sensitive_column] == sensitive_class) & (X_test['station'] == department) & (y_pred == 1)\n",
    "            if np.sum(mask) > min_samples:\n",
    "                removal_rate[sensitive_class] = (np.sum(X_test[mask]['Removal of more than just outer clothing']==1))/(X_test[mask]['Removal of more than just outer clothing'].shape[0])\n",
    "                \n",
    "        if len(removal_rate) > 1:    \n",
    "            diff = np.max(list(removal_rate.values())) - np.min(list(removal_rate.values()))\n",
    "\n",
    "            if diff > max_diff:\n",
    "                is_satisfied = False\n",
    "                problematic_departments.append((department, diff, removal_rate))\n",
    "            else:\n",
    "                good_deparments.append((department, diff, removal_rate))\n",
    "        else:\n",
    "            ignored_departments.append((department, None, []))\n",
    "    \n",
    "    global_removal_rate = {}\n",
    "    for sensitive_class in sensitive_classes:\n",
    "        mask = (X_test[sensitive_column] == sensitive_class) & (y_pred == True)\n",
    "        if np.sum(mask) > min_samples:\n",
    "            global_removal_rate[sensitive_class] = (np.sum(X_test[mask]['Removal of more than just outer clothing']==True))/(X_test[mask]['Removal of more than just outer clothing'].shape[0])\n",
    "    \n",
    "#     if len(precisions) > 1:    \n",
    "#         diff = np.max(list(precisions.values())) - np.min(list(precisions.values()))\n",
    "#         if diff > max_diff:\n",
    "#             is_satisfied = False\n",
    "        \n",
    "    return is_satisfied, problematic_departments, good_deparments, ignored_departments, global_removal_rate\n"
   ]
  },
  {
   "cell_type": "code",
   "execution_count": 84,
   "id": "color-insulin",
   "metadata": {},
   "outputs": [
    {
     "name": "stdout",
     "output_type": "stream",
     "text": [
      "\n",
      "Gender\n",
      "Requirement failed 😢\n",
      "Global rates: {'Male': 0.040511072207377374, 'Female': 0.04108249103358331}\n",
      "Num problematic departments: 2\n",
      "Num good departments: 20\n",
      "Num ignored departments: 17\n",
      "avg diff: 0.11140414110820471\n",
      "\n",
      "\n",
      "Age range\n",
      "Requirement failed 😢\n",
      "Global rates: {'10-17': 0.02423411065386374, '25-34': 0.04454244762954796, 'over 34': 0.0404541093700032, '18-24': 0.04267603865947032}\n",
      "Num problematic departments: 9\n",
      "Num good departments: 28\n",
      "Num ignored departments: 2\n",
      "avg diff: 0.068653560535587\n",
      "\n",
      "\n",
      "Ethnicity\n",
      "Requirement failed 😢\n",
      "Global rates: {'Black': 0.08973607038123167, 'White': 0.03385308385308385, 'Other': 0.04051863857374392, 'Asian': 0.047299960583366184, 'Mixed': 0.07296137339055794}\n",
      "Num problematic departments: 11\n",
      "Num good departments: 10\n",
      "Num ignored departments: 18\n",
      "avg diff: 0.08985735864967383\n"
     ]
    }
   ],
   "source": [
    "is_satisfied, problematic_departments, good_deparments, ignored_departments, global_removal_rate = verify_removal_clothing(\n",
    "    df_test, y_test, y_pred_threshold, 'Gender', 0.05)\n",
    "\n",
    "print(\"\\nGender\")\n",
    "\n",
    "if not is_satisfied:\n",
    "    print(\"Requirement failed 😢\")\n",
    "    print(\"Global rates: {}\".format(global_removal_rate))\n",
    "    print(\"Num problematic departments: {}\".format(len(problematic_departments)))\n",
    "    print(\"Num good departments: {}\".format(len(good_deparments)))\n",
    "    print(\"Num ignored departments: {}\".format(len(ignored_departments)))\n",
    "    \n",
    "    print(\"avg diff:\", np.mean([p[1] for p in problematic_departments]))\n",
    "    \n",
    "    \n",
    "is_satisfied, problematic_departments, good_deparments, ignored_departments, global_removal_rate = verify_removal_clothing(\n",
    "    df_test, y_test, y_pred_threshold, 'Age range', 0.05)\n",
    "\n",
    "print(\"\\n\\nAge range\")\n",
    "\n",
    "if not is_satisfied:\n",
    "    print(\"Requirement failed 😢\")\n",
    "    print(\"Global rates: {}\".format(global_removal_rate))\n",
    "    print(\"Num problematic departments: {}\".format(len(problematic_departments)))\n",
    "    print(\"Num good departments: {}\".format(len(good_deparments)))\n",
    "    print(\"Num ignored departments: {}\".format(len(ignored_departments)))\n",
    "    \n",
    "    print(\"avg diff:\", np.mean([p[1] for p in problematic_departments]))\n",
    "    \n",
    "    \n",
    "is_satisfied, problematic_departments, good_deparments, ignored_departments, global_removal_rate = verify_removal_clothing(\n",
    "    df_test, y_test, y_pred_threshold, 'Officer-defined ethnicity', 0.05)\n",
    "\n",
    "print(\"\\n\\nEthnicity\")\n",
    "\n",
    "if not is_satisfied:\n",
    "    print(\"Requirement failed 😢\")\n",
    "    print(\"Global rates: {}\".format(global_removal_rate))\n",
    "    print(\"Num problematic departments: {}\".format(len(problematic_departments)))\n",
    "    print(\"Num good departments: {}\".format(len(good_deparments)))\n",
    "    print(\"Num ignored departments: {}\".format(len(ignored_departments)))\n",
    "    \n",
    "    print(\"avg diff:\", np.mean([p[1] for p in problematic_departments]))"
   ]
  },
  {
   "cell_type": "code",
   "execution_count": null,
   "id": "domestic-government",
   "metadata": {},
   "outputs": [],
   "source": []
  },
  {
   "cell_type": "code",
   "execution_count": null,
   "id": "assured-facing",
   "metadata": {},
   "outputs": [],
   "source": []
  },
  {
   "cell_type": "code",
   "execution_count": null,
   "id": "lovely-islam",
   "metadata": {},
   "outputs": [],
   "source": []
  },
  {
   "cell_type": "code",
   "execution_count": null,
   "id": "sustained-denver",
   "metadata": {},
   "outputs": [],
   "source": []
  },
  {
   "cell_type": "code",
   "execution_count": null,
   "id": "dental-council",
   "metadata": {},
   "outputs": [],
   "source": []
  },
  {
   "cell_type": "code",
   "execution_count": null,
   "id": "exclusive-brush",
   "metadata": {},
   "outputs": [],
   "source": []
  },
  {
   "cell_type": "code",
   "execution_count": null,
   "id": "renewable-convenience",
   "metadata": {},
   "outputs": [],
   "source": []
  },
  {
   "cell_type": "code",
   "execution_count": null,
   "id": "expensive-linux",
   "metadata": {},
   "outputs": [],
   "source": []
  }
 ],
 "metadata": {
  "kernelspec": {
   "display_name": "Python 3",
   "language": "python",
   "name": "python3"
  },
  "language_info": {
   "codemirror_mode": {
    "name": "ipython",
    "version": 3
   },
   "file_extension": ".py",
   "mimetype": "text/x-python",
   "name": "python",
   "nbconvert_exporter": "python",
   "pygments_lexer": "ipython3",
   "version": "3.6.9"
  }
 },
 "nbformat": 4,
 "nbformat_minor": 5
}
