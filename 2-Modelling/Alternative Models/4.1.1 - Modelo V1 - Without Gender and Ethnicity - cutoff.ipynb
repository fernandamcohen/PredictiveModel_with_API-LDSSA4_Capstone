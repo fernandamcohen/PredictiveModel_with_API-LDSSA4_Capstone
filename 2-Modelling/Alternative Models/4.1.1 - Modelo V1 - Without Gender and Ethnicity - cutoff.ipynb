{
 "cells": [
  {
   "cell_type": "code",
   "execution_count": 1,
   "id": "trying-civilian",
   "metadata": {},
   "outputs": [],
   "source": [
    "import json\n",
    "import joblib\n",
    "import pickle\n",
    "import pandas as pd\n",
    "import numpy as np\n",
    "# import seaborn as sns\n",
    "from sklearn.model_selection import train_test_split\n",
    "from sklearn.pipeline import make_pipeline, Pipeline\n",
    "from sklearn.impute import SimpleImputer\n",
    "from sklearn.preprocessing import StandardScaler, OneHotEncoder\n",
    "from sklearn.compose import ColumnTransformer\n",
    "from sklearn.ensemble import RandomForestClassifier\n",
    "from sklearn.metrics import precision_score, recall_score, roc_auc_score\n",
    "from sklearn.metrics import precision_recall_curve\n",
    "\n",
    "import matplotlib.pyplot as plt\n",
    "import matplotlib.image as mpimg\n",
    "%matplotlib inline\n",
    "\n",
    "import warnings\n",
    "warnings.filterwarnings('ignore')"
   ]
  },
  {
   "cell_type": "markdown",
   "id": "soviet-interview",
   "metadata": {},
   "source": [
    "### Import dataset"
   ]
  },
  {
   "cell_type": "code",
   "execution_count": 2,
   "id": "insured-associate",
   "metadata": {},
   "outputs": [],
   "source": [
    "train = pd.read_csv('data/train.csv')"
   ]
  },
  {
   "cell_type": "code",
   "execution_count": 3,
   "id": "strategic-forward",
   "metadata": {},
   "outputs": [
    {
     "data": {
      "text/plain": [
       "False    660611\n",
       "dtype: int64"
      ]
     },
     "execution_count": 3,
     "metadata": {},
     "output_type": "execute_result"
    }
   ],
   "source": [
    "# no duplicate lines\n",
    "train.duplicated().value_counts()"
   ]
  },
  {
   "cell_type": "code",
   "execution_count": 4,
   "id": "capable-richmond",
   "metadata": {},
   "outputs": [
    {
     "data": {
      "text/plain": [
       "False    660611\n",
       "Name: observation_id, dtype: int64"
      ]
     },
     "execution_count": 4,
     "metadata": {},
     "output_type": "execute_result"
    }
   ],
   "source": [
    "# no duplicate observation_id\n",
    "train['observation_id'].duplicated().value_counts()"
   ]
  },
  {
   "cell_type": "markdown",
   "id": "figured-patch",
   "metadata": {},
   "source": [
    "### Features adjustments"
   ]
  },
  {
   "cell_type": "code",
   "execution_count": 5,
   "id": "canadian-element",
   "metadata": {},
   "outputs": [],
   "source": [
    "# transforming Date column in datetime\n",
    "train['Date']=pd.to_datetime(train['Date'], infer_datetime_format=True)\n",
    "\n",
    "# auxiliar Date feature (for temporal analyzis)\n",
    "train['referencia'] = train['Date'].dt.year*100 + train['Date'].dt.month\n",
    "\n",
    "# according to Dr Wilson's instructions: \n",
    "# \"If there was a search and the outcome linked to object of search has not been written please consider it to be False\"\n",
    "train['Outcome linked to object of search'] = train['Outcome linked to object of search'].fillna(False)\n",
    "\n",
    "# according to Dr Wilson's instructions missing values means False \n",
    "train['Part of a policing operation'] = train['Part of a policing operation'].fillna(False)\n",
    "\n",
    "# Outer clothing be filled with False? \n",
    "#Yes, except when it’s just a vehicle search, in which case it makes no sense and should be kept as NaN\n",
    "mask= ((train['Type']!='Vehicle search') & \n",
    "      (train['Removal of more than just outer clothing'] != True) &\n",
    "      (train['Removal of more than just outer clothing'] != False))\n",
    "\n",
    "train.loc[mask, 'Removal of more than just outer clothing']=False"
   ]
  },
  {
   "cell_type": "markdown",
   "id": "increased-softball",
   "metadata": {},
   "source": [
    "### Filtering / Exclusions"
   ]
  },
  {
   "cell_type": "code",
   "execution_count": 6,
   "id": "irish-inside",
   "metadata": {},
   "outputs": [],
   "source": [
    "# The Metropolitan station (which is very large and has lots of data in the training set) has the features \n",
    "# Outcome linked to object of search and Removal of outer clothing without any data (always missing). \n",
    "# Is this a known problem, and if so how should we proceed? \n",
    "# Thank you for bringing this to our attention, I’ve contacted the administration at the Metropolitan and asked that \n",
    "# they fix their data entry. Please include this in your report, and do not use the Metropolitan station’s data \n",
    "# for training your models. They will not be in the test set. "
   ]
  },
  {
   "cell_type": "code",
   "execution_count": 7,
   "id": "annual-variable",
   "metadata": {},
   "outputs": [],
   "source": [
    "# Gwent and Humberside have the same problem of Metropolitan. So I will exclude this observations"
   ]
  },
  {
   "cell_type": "code",
   "execution_count": 8,
   "id": "leading-howard",
   "metadata": {},
   "outputs": [
    {
     "name": "stdout",
     "output_type": "stream",
     "text": [
      "Exclusion of 355849 observations\n"
     ]
    },
    {
     "data": {
      "text/plain": [
       "(304762, 17)"
      ]
     },
     "execution_count": 8,
     "metadata": {},
     "output_type": "execute_result"
    }
   ],
   "source": [
    "stations_to_exclude = ['metropolitan', 'gwent', 'humberside']\n",
    "train_model = train[~train['station'].isin(stations_to_exclude)]\n",
    "print(\"Exclusion of {} observations\".format(train[train['station'].isin(stations_to_exclude)]['observation_id'].nunique()))\n",
    "train_model.shape"
   ]
  },
  {
   "cell_type": "code",
   "execution_count": 9,
   "id": "acute-optics",
   "metadata": {},
   "outputs": [],
   "source": [
    "# Search on individuals with less than 10 years seems unrealist, so I will remove it"
   ]
  },
  {
   "cell_type": "code",
   "execution_count": 10,
   "id": "employed-interval",
   "metadata": {},
   "outputs": [],
   "source": [
    "# age_to_exclude = ['under 10']\n",
    "# print(\"Exclusion of {} observations\".format(train_model[train_model['Age range'].isin(age_to_exclude)]['observation_id'].nunique()))\n",
    "# train_model = train_model[~train_model['Age range'].isin(age_to_exclude)]\n",
    "# train_model.shape"
   ]
  },
  {
   "cell_type": "markdown",
   "id": "played-turtle",
   "metadata": {},
   "source": [
    "### Target"
   ]
  },
  {
   "cell_type": "code",
   "execution_count": 11,
   "id": "chubby-wallpaper",
   "metadata": {},
   "outputs": [],
   "source": [
    "positive_outcome = ['Local resolution',\n",
    "           'Community resolution',\n",
    "           'Arrest',\n",
    "           'Article found - Detailed outcome unavailable',\n",
    "           'Caution (simple or conditional)',\n",
    "           'Khat or Cannabis warning',\n",
    "           'Offender cautioned',\n",
    "           'Offender given drugs possession warning',\n",
    "           'Offender given penalty notice',\n",
    "           'Penalty Notice for Disorder',\n",
    "           'Summons / charged by post',\n",
    "           'Suspect arrested',\n",
    "           'Suspect summonsed to court',\n",
    "           'Suspected psychoactive substances seized - No further action']\n",
    "\n",
    "train_model['positive_outcome'] = train_model['Outcome'].isin(positive_outcome)"
   ]
  },
  {
   "cell_type": "code",
   "execution_count": 12,
   "id": "covered-minute",
   "metadata": {},
   "outputs": [],
   "source": [
    "train_model['target'] = False\n",
    "mask=((train_model[\"positive_outcome\"] == True) & (train_model[\"Outcome linked to object of search\"]==True))\n",
    "train_model.loc[mask, 'target']=True"
   ]
  },
  {
   "cell_type": "code",
   "execution_count": 13,
   "id": "cardiac-livestock",
   "metadata": {},
   "outputs": [
    {
     "data": {
      "text/html": [
       "<div>\n",
       "<style scoped>\n",
       "    .dataframe tbody tr th:only-of-type {\n",
       "        vertical-align: middle;\n",
       "    }\n",
       "\n",
       "    .dataframe tbody tr th {\n",
       "        vertical-align: top;\n",
       "    }\n",
       "\n",
       "    .dataframe thead th {\n",
       "        text-align: right;\n",
       "    }\n",
       "</style>\n",
       "<table border=\"1\" class=\"dataframe\">\n",
       "  <thead>\n",
       "    <tr style=\"text-align: right;\">\n",
       "      <th>Outcome linked to object of search</th>\n",
       "      <th>False</th>\n",
       "      <th>True</th>\n",
       "      <th>Total</th>\n",
       "    </tr>\n",
       "    <tr>\n",
       "      <th>positive_outcome</th>\n",
       "      <th></th>\n",
       "      <th></th>\n",
       "      <th></th>\n",
       "    </tr>\n",
       "  </thead>\n",
       "  <tbody>\n",
       "    <tr>\n",
       "      <th>False</th>\n",
       "      <td>174918</td>\n",
       "      <td>37987</td>\n",
       "      <td>212905</td>\n",
       "    </tr>\n",
       "    <tr>\n",
       "      <th>True</th>\n",
       "      <td>29571</td>\n",
       "      <td>62286</td>\n",
       "      <td>91857</td>\n",
       "    </tr>\n",
       "    <tr>\n",
       "      <th>Total</th>\n",
       "      <td>204489</td>\n",
       "      <td>100273</td>\n",
       "      <td>304762</td>\n",
       "    </tr>\n",
       "  </tbody>\n",
       "</table>\n",
       "</div>"
      ],
      "text/plain": [
       "Outcome linked to object of search   False    True   Total\n",
       "positive_outcome                                          \n",
       "False                               174918   37987  212905\n",
       "True                                 29571   62286   91857\n",
       "Total                               204489  100273  304762"
      ]
     },
     "execution_count": 13,
     "metadata": {},
     "output_type": "execute_result"
    }
   ],
   "source": [
    "pd.crosstab(train_model[\"positive_outcome\"],train_model[\"Outcome linked to object of search\"],\n",
    "            margins=True, margins_name=\"Total\",dropna=False)"
   ]
  },
  {
   "cell_type": "code",
   "execution_count": 14,
   "id": "periodic-receipt",
   "metadata": {},
   "outputs": [
    {
     "name": "stdout",
     "output_type": "stream",
     "text": [
      "False    242476\n",
      "True      62286\n",
      "Name: target, dtype: int64\n"
     ]
    },
    {
     "data": {
      "text/plain": [
       "False    0.795624\n",
       "True     0.204376\n",
       "Name: target, dtype: float64"
      ]
     },
     "execution_count": 14,
     "metadata": {},
     "output_type": "execute_result"
    }
   ],
   "source": [
    "print(train_model['target'].value_counts(dropna=False))\n",
    "train_model['target'].value_counts(dropna=False,normalize=True)"
   ]
  },
  {
   "cell_type": "code",
   "execution_count": 15,
   "id": "mineral-chassis",
   "metadata": {},
   "outputs": [],
   "source": [
    "# print(train_model['positive_outcome'].value_counts(dropna=False))\n",
    "# train_model['positive_outcome'].value_counts(dropna=False,normalize=True)\n",
    "# pd.crosstab(train_model[\"referencia\"],train_model[\"target\"],normalize='index')\n",
    "# pd.crosstab(train_model[\"Gender\"],train_model[\"target\"],normalize='index')\n",
    "# pd.crosstab(train_model[\"station\"],train_model[\"target\"],normalize='index')\n",
    "# pd.crosstab(train_model[\"station\"],train_model[\"positive_outcome\"],normalize='index')"
   ]
  },
  {
   "cell_type": "markdown",
   "id": "typical-convertible",
   "metadata": {},
   "source": [
    "### Feature engineering"
   ]
  },
  {
   "cell_type": "code",
   "execution_count": 16,
   "id": "competitive-theta",
   "metadata": {},
   "outputs": [],
   "source": [
    "# get the hour and day of the week, maybe they will be useful \n",
    "train_model['hour'] = train_model['Date'].dt.hour\n",
    "train_model['month'] = train_model['Date'].dt.month\n",
    "train_model['day_of_week'] = train_model['Date'].dt.day_name()"
   ]
  },
  {
   "cell_type": "code",
   "execution_count": 17,
   "id": "mature-vegetable",
   "metadata": {},
   "outputs": [
    {
     "data": {
      "text/plain": [
       "misuse of drugs act 1971 (section 23)                      178620\n",
       "police and criminal evidence act 1984 (section 1)           92651\n",
       "missing infomation                                          27931\n",
       "criminal justice and public order act 1994 (section 60)      2670\n",
       "firearms act 1968 (section 47)                               1830\n",
       "others                                                       1060\n",
       "Name: Legislation, dtype: int64"
      ]
     },
     "execution_count": 17,
     "metadata": {},
     "output_type": "execute_result"
    }
   ],
   "source": [
    "# Legislation - reducing the quantity of categories\n",
    "# train_model.groupby(['Legislation','target'], dropna=False)['Outcome'].count().unstack()\n",
    "\n",
    "train_model['Legislation']=train_model['Legislation'].fillna('missing infomation')\n",
    "train_model['Legislation'] = train_model['Legislation'].apply(lambda x: str(x).lower())\n",
    "\n",
    "legislation_categories = ['misuse of drugs act 1971 (section 23)', 'police and criminal evidence act 1984 (section 1)', \n",
    "                          'criminal justice and public order act 1994 (section 60)', 'firearms act 1968 (section 47)',\n",
    "                          'missing infomation']\n",
    "\n",
    "mask=(~train_model['Legislation'].isin(legislation_categories))\n",
    "train_model.loc[mask, 'Legislation']='others'\n",
    "\n",
    "train_model['Legislation'].value_counts()"
   ]
  },
  {
   "cell_type": "markdown",
   "id": "equipped-hearts",
   "metadata": {},
   "source": [
    "### Text Data normalization"
   ]
  },
  {
   "cell_type": "code",
   "execution_count": 18,
   "id": "acknowledged-retention",
   "metadata": {},
   "outputs": [
    {
     "data": {
      "text/plain": [
       "controlled drugs                              192161\n",
       "offensive weapons                              35391\n",
       "article for use in theft                       30287\n",
       "stolen goods                                   26617\n",
       "articles for use in criminal damage             6494\n",
       "anything to threaten or harm anyone             5241\n",
       "firearms                                        2957\n",
       "evidence of offences under the act              1930\n",
       "psychoactive substances                         1701\n",
       "fireworks                                       1695\n",
       "detailed object of search unavailable            129\n",
       "game or poaching equipment                        96\n",
       "goods on which duty has not been paid etc.        23\n",
       "evidence of wildlife offences                     21\n",
       "crossbows                                         17\n",
       "seals or hunting equipment                         2\n",
       "Name: Object of search, dtype: int64"
      ]
     },
     "execution_count": 18,
     "metadata": {},
     "output_type": "execute_result"
    }
   ],
   "source": [
    "train_model['Object of search'] = train_model['Object of search'].apply(lambda x: str(x).lower())\n",
    "train_model['Object of search'].value_counts()"
   ]
  },
  {
   "cell_type": "code",
   "execution_count": 19,
   "id": "familiar-broad",
   "metadata": {},
   "outputs": [],
   "source": [
    "train_model['station'] = train_model['station'].apply(lambda x: str(x).lower())\n",
    "# train_model['station'].value_counts()"
   ]
  },
  {
   "cell_type": "code",
   "execution_count": null,
   "id": "improved-lawsuit",
   "metadata": {},
   "outputs": [],
   "source": []
  },
  {
   "cell_type": "markdown",
   "id": "respiratory-professional",
   "metadata": {},
   "source": [
    "### Latitude and Longitude"
   ]
  },
  {
   "cell_type": "code",
   "execution_count": 20,
   "id": "fixed-defeat",
   "metadata": {},
   "outputs": [
    {
     "name": "stdout",
     "output_type": "stream",
     "text": [
      "count    228038.000000\n",
      "mean         52.511589\n",
      "std           1.133850\n",
      "min          49.892149\n",
      "25%          51.485978\n",
      "50%          52.609826\n",
      "75%          53.422686\n",
      "max          57.143856\n",
      "Name: Latitude, dtype: float64\n"
     ]
    },
    {
     "data": {
      "text/plain": [
       "count    228038.000000\n",
       "mean         -1.343263\n",
       "std           1.365160\n",
       "min          -8.053397\n",
       "25%          -2.599163\n",
       "50%          -1.464553\n",
       "75%          -0.207006\n",
       "max           1.756480\n",
       "Name: Longitude, dtype: float64"
      ]
     },
     "execution_count": 20,
     "metadata": {},
     "output_type": "execute_result"
    }
   ],
   "source": [
    "print(train_model['Latitude'].describe())\n",
    "train_model['Longitude'].describe()"
   ]
  },
  {
   "cell_type": "code",
   "execution_count": 21,
   "id": "special-medicine",
   "metadata": {},
   "outputs": [],
   "source": [
    "train_model['Latitude'] = train_model['Longitude'].fillna(0)\n",
    "train_model['Longitude'] = train_model['Longitude'].fillna(0)"
   ]
  },
  {
   "cell_type": "markdown",
   "id": "innovative-haven",
   "metadata": {},
   "source": [
    "### Data split"
   ]
  },
  {
   "cell_type": "code",
   "execution_count": 22,
   "id": "unlike-swedish",
   "metadata": {},
   "outputs": [],
   "source": [
    "df_train, df_test = train_test_split(train_model, test_size=0.3, random_state=42)"
   ]
  },
  {
   "cell_type": "code",
   "execution_count": 23,
   "id": "premier-bradford",
   "metadata": {},
   "outputs": [
    {
     "data": {
      "text/plain": [
       "(213333, 22)"
      ]
     },
     "execution_count": 23,
     "metadata": {},
     "output_type": "execute_result"
    }
   ],
   "source": [
    "df_train.shape"
   ]
  },
  {
   "cell_type": "code",
   "execution_count": 24,
   "id": "leading-arthur",
   "metadata": {},
   "outputs": [
    {
     "data": {
      "text/plain": [
       "(91429, 22)"
      ]
     },
     "execution_count": 24,
     "metadata": {},
     "output_type": "execute_result"
    }
   ],
   "source": [
    "df_test.shape"
   ]
  },
  {
   "cell_type": "code",
   "execution_count": 25,
   "id": "exempt-solid",
   "metadata": {},
   "outputs": [
    {
     "data": {
      "text/plain": [
       "Saturday     34161\n",
       "Friday       33994\n",
       "Thursday     30593\n",
       "Wednesday    30283\n",
       "Tuesday      28674\n",
       "Monday       27828\n",
       "Sunday       27800\n",
       "Name: day_of_week, dtype: int64"
      ]
     },
     "execution_count": 25,
     "metadata": {},
     "output_type": "execute_result"
    }
   ],
   "source": [
    "df_train.day_of_week.value_counts()"
   ]
  },
  {
   "cell_type": "markdown",
   "id": "equal-tourist",
   "metadata": {},
   "source": [
    "### Training a baseline model"
   ]
  },
  {
   "cell_type": "code",
   "execution_count": 51,
   "id": "aquatic-immunology",
   "metadata": {},
   "outputs": [
    {
     "data": {
      "text/plain": [
       "0.5428014932013672"
      ]
     },
     "execution_count": 51,
     "metadata": {},
     "output_type": "execute_result"
    }
   ],
   "source": [
    "all_features = ['Type', 'Part of a policing operation','Latitude', 'Longitude', 'Age range',\n",
    "                'Legislation', 'Object of search', 'station', \n",
    "                'hour', 'month', 'day_of_week']\n",
    "\n",
    "numerical_features = ['Latitude', 'Longitude','hour', 'month']\n",
    "\n",
    "categorical_features = ['Type', 'Part of a policing operation', 'Age range',\n",
    "                        'Legislation', 'Object of search', 'station', \n",
    "                        'day_of_week']\n",
    "\n",
    "numeric_transformer = Pipeline(steps=[\n",
    "    ('imputer', SimpleImputer(strategy='median')),\n",
    "    ('scaler', StandardScaler())])\n",
    "\n",
    "categorical_transformer = Pipeline(steps=[\n",
    "    ('imputer', SimpleImputer(strategy='constant', fill_value='missing')),\n",
    "    ('onehot', OneHotEncoder(handle_unknown='ignore'))])\n",
    "\n",
    "preprocessor = ColumnTransformer(\n",
    "    transformers=[\n",
    "        ('num', numeric_transformer, numerical_features),\n",
    "        ('cat', categorical_transformer, categorical_features)])\n",
    "\n",
    "pipeline = make_pipeline(\n",
    "    preprocessor,\n",
    "    RandomForestClassifier(random_state=42, n_jobs=-1),\n",
    ")\n",
    "\n",
    "\n",
    "X_train = df_train[all_features]\n",
    "y_train = df_train['target']\n",
    "\n",
    "pipeline.fit(X_train, y_train)\n",
    "\n",
    "X_test = df_test[all_features]\n",
    "y_test = df_test['target']\n",
    "\n",
    "y_pred = pipeline.predict(X_test)\n",
    "y_proba = pipeline.predict_proba(X_test)\n",
    "y_pred_train = pipeline.predict(X_train)\n",
    "\n",
    "# To use on other cells\n",
    "# X_train_baseline = X_train.copy()\n",
    "# X_test_baseline = df_test.copy()\n",
    "# y_test_baseline = X_test_baseline[target].copy()\n",
    "# y_pred_baseline = y_pred.copy()\n",
    "# pipeline_baseline = pipeline\n",
    "\n",
    "roc_auc_score(y_test, y_pred)"
   ]
  },
  {
   "cell_type": "code",
   "execution_count": null,
   "id": "eastern-disposition",
   "metadata": {},
   "outputs": [],
   "source": []
  },
  {
   "cell_type": "code",
   "execution_count": 77,
   "id": "unavailable-macro",
   "metadata": {},
   "outputs": [],
   "source": [
    "precision, recall, thresholds = precision_recall_curve(y_test, y_proba[:,1])"
   ]
  },
  {
   "cell_type": "code",
   "execution_count": 78,
   "id": "positive-progressive",
   "metadata": {},
   "outputs": [],
   "source": [
    "precision = precision[:-1]\n",
    "recall = recall[:-1]"
   ]
  },
  {
   "cell_type": "code",
   "execution_count": 79,
   "id": "difficult-edgar",
   "metadata": {},
   "outputs": [
    {
     "data": {
      "image/png": "[encoded data removed]",
      "text/plain": [
       "<Figure size 432x288 with 2 Axes>"
      ]
     },
     "metadata": {
      "needs_background": "light"
     },
     "output_type": "display_data"
    }
   ],
   "source": [
    "fig=plt.figure()\n",
    "ax1 = plt.subplot(211)\n",
    "ax2 = plt.subplot(212)\n",
    "ax1.hlines(y=0.1,xmin=0, xmax=1, colors='red')\n",
    "ax1.plot(thresholds,precision)\n",
    "ax2.plot(thresholds,recall)\n",
    "ax1.get_shared_x_axes().join(ax1, ax2)\n",
    "ax1.set_xticklabels([])\n",
    "plt.xlabel('Threshold')\n",
    "ax1.set_title('Precision')\n",
    "ax2.set_title('Recall')\n",
    "plt.show()"
   ]
  },
  {
   "cell_type": "code",
   "execution_count": 83,
   "id": "grateful-combine",
   "metadata": {},
   "outputs": [
    {
     "name": "stdout",
     "output_type": "stream",
     "text": [
      "792\n"
     ]
    },
    {
     "data": {
      "text/plain": [
       "0.08023809523809526"
      ]
     },
     "execution_count": 83,
     "metadata": {},
     "output_type": "execute_result"
    }
   ],
   "source": [
    "min_index = [i for i, prec in enumerate(precision) if prec > 0.25][0]\n",
    "print(min_index)\n",
    "thresholds[min_index]"
   ]
  },
  {
   "cell_type": "code",
   "execution_count": 84,
   "id": "academic-teach",
   "metadata": {},
   "outputs": [
    {
     "data": {
      "text/plain": [
       "0.8284192402883891"
      ]
     },
     "execution_count": 84,
     "metadata": {},
     "output_type": "execute_result"
    }
   ],
   "source": [
    "recall[min_index]"
   ]
  },
  {
   "cell_type": "code",
   "execution_count": 85,
   "id": "everyday-polymer",
   "metadata": {},
   "outputs": [
    {
     "data": {
      "image/png": "[encoded data removed]",
      "text/plain": [
       "<Figure size 432x288 with 1 Axes>"
      ]
     },
     "metadata": {
      "needs_background": "light"
     },
     "output_type": "display_data"
    }
   ],
   "source": [
    "pd.Series(y_proba[:,1]).hist(bins=20, figsize=(6, 4));\n",
    "# df.hist(column='SubjectAge', bins=20, figsize=(6, 4));"
   ]
  },
  {
   "cell_type": "code",
   "execution_count": 99,
   "id": "seeing-resource",
   "metadata": {},
   "outputs": [],
   "source": [
    "threshold = thresholds[min_index]\n",
    "y_pred_threshold = pd.Series([True if p >= threshold else False for p in y_proba[:,1]]).to_numpy()"
   ]
  },
  {
   "cell_type": "markdown",
   "id": "controlling-spiritual",
   "metadata": {},
   "source": [
    "#### most important features"
   ]
  },
  {
   "cell_type": "code",
   "execution_count": 86,
   "id": "cathedral-bible",
   "metadata": {},
   "outputs": [
    {
     "name": "stdout",
     "output_type": "stream",
     "text": [
      "Feature ranking:\n",
      "1. feature Latitude (0.195567)\n",
      "2. feature Longitude (0.195496)\n",
      "3. feature hour (0.190313)\n",
      "4. feature month (0.162427)\n",
      "5. feature day_of_week_Saturday (0.013066)\n",
      "6. feature day_of_week_Friday (0.012726)\n",
      "7. feature day_of_week_Wednesday (0.012483)\n",
      "8. feature day_of_week_Thursday (0.012365)\n",
      "9. feature day_of_week_Monday (0.012192)\n",
      "10. feature day_of_week_Tuesday (0.012036)\n",
      "11. feature day_of_week_Sunday (0.011531)\n"
     ]
    },
    {
     "data": {
      "image/png": "[encoded data removed]",
      "text/plain": [
       "<Figure size 432x288 with 1 Axes>"
      ]
     },
     "metadata": {
      "needs_background": "light"
     },
     "output_type": "display_data"
    }
   ],
   "source": [
    "categorical_encode_step = pipeline.named_steps['columntransformer'].named_transformers_['cat'].named_steps['onehot']\n",
    "random_forest_step = pipeline.named_steps['randomforestclassifier']\n",
    "\n",
    "onehot_columns = categorical_encode_step.get_feature_names(input_features=categorical_features)\n",
    "\n",
    "importances = pd.Series(data=random_forest_step.feature_importances_, index = np.array(numerical_features + list(onehot_columns)))\n",
    "\n",
    "indices = np.argsort(importances)[::-1]\n",
    "print(\"Feature ranking:\")\n",
    "\n",
    "for f in range(X_train.shape[1]):\n",
    "    print(\"%d. feature %s (%f)\" % (f + 1, importances.index[indices[f]], importances[indices[f]]))\n",
    "\n",
    "std = np.std([tree.feature_importances_ for tree in random_forest_step.estimators_], axis=0)\n",
    "\n",
    "plt.figure()\n",
    "plt.title(\"Feature importances\")\n",
    "plt.bar(x=importances.index[indices], height=importances[indices],\n",
    "        color=\"r\", yerr=std[indices], align=\"center\");\n",
    "plt.xticks(range(len(importances.index[indices])), importances.index[indices], rotation=45, ha=\"right\")\n",
    "plt.xlim([-1, X_train.shape[1]])\n",
    "plt.xlabel('Features');\n",
    "plt.ylabel('Importance');\n",
    "\n",
    "plt.show()"
   ]
  },
  {
   "cell_type": "code",
   "execution_count": null,
   "id": "responsible-imaging",
   "metadata": {},
   "outputs": [],
   "source": []
  },
  {
   "cell_type": "markdown",
   "id": "ordered-accent",
   "metadata": {},
   "source": [
    "## Formalizing client requirements"
   ]
  },
  {
   "cell_type": "code",
   "execution_count": null,
   "id": "manual-karma",
   "metadata": {},
   "outputs": [],
   "source": []
  },
  {
   "cell_type": "markdown",
   "id": "flying-korean",
   "metadata": {},
   "source": [
    "### 1 - Minimum 10% success rate for searches per station and search objective"
   ]
  },
  {
   "cell_type": "code",
   "execution_count": 100,
   "id": "shared-behalf",
   "metadata": {},
   "outputs": [],
   "source": [
    "def verify_global_success_rate(y_true, y_pred, min_success_rate=0.1):\n",
    "    \"\"\"\n",
    "    Verifies the success rate on a test set is above a provided minimum\n",
    "    \"\"\"\n",
    "    \n",
    "    precision = precision_score(y_true, y_pred, pos_label=True)\n",
    "    is_satisfied = (precision >= min_success_rate)\n",
    "    \n",
    "    recall = recall_score(y_true, y_pred, pos_label=True)\n",
    "    \n",
    "    return is_satisfied, precision, recall"
   ]
  },
  {
   "cell_type": "code",
   "execution_count": 101,
   "id": "excess-reason",
   "metadata": {},
   "outputs": [
    {
     "name": "stdout",
     "output_type": "stream",
     "text": [
      "Global Precision: (True, 0.2523767374770522)\n",
      "Global Recall: 0.8284192402883891\n"
     ]
    }
   ],
   "source": [
    "is_verified, success_rate, recall = verify_global_success_rate(y_test, y_pred_threshold)\n",
    "\n",
    "print(\"Global Precision: {}\".format((is_verified, success_rate)))\n",
    "print(\"Global Recall: {}\".format(recall))"
   ]
  },
  {
   "cell_type": "code",
   "execution_count": 102,
   "id": "alike-column",
   "metadata": {},
   "outputs": [],
   "source": [
    "def verify_success_rate_objective_station(X_test, y_true, y_pred, sensitive_column='Object of search', \n",
    "                                          min_success_rate=0.1, min_samples=1):\n",
    "    \"\"\"\n",
    "    Verifies that success rate per station and search objective is higher than 10%\n",
    "    \"\"\"\n",
    "    \n",
    "    departments = X_test['station'].unique()\n",
    "    sensitive_classes = X_test[sensitive_column].unique()\n",
    "    \n",
    "    is_satisfied = True\n",
    "    problematic_departments = []\n",
    "    good_deparments = []\n",
    "    ignored_departments = []\n",
    "    for department in departments:\n",
    "        precisions = {}\n",
    "        for sensitive_class in sensitive_classes:\n",
    "            mask = (X_test[sensitive_column] == sensitive_class) & (X_test['station'] == department)\n",
    "            if np.sum(mask) > min_samples:\n",
    "                precisions[sensitive_class] = precision_score(y_true[mask], y_pred[mask], pos_label=1)\n",
    "                \n",
    "        if len(precisions) > 1:    \n",
    "            precision_min = np.min(list(precisions.values()))\n",
    "\n",
    "            if precision_min < min_success_rate:\n",
    "                is_satisfied = False\n",
    "                problematic_departments.append((department, precision_min, precisions))\n",
    "            else:\n",
    "                good_deparments.append((department, precision_min, precisions))\n",
    "        else:\n",
    "            ignored_departments.append((department, None, []))\n",
    "    \n",
    "    global_precisions = {}\n",
    "    for department in departments:\n",
    "        mask = (X_test['station'] == department)\n",
    "        if np.sum(mask) > min_samples:\n",
    "            global_precisions[department] = precision_score(y_true[mask], y_pred[mask])\n",
    "    \n",
    "        \n",
    "    return is_satisfied, problematic_departments, good_deparments, ignored_departments, global_precisions"
   ]
  },
  {
   "cell_type": "code",
   "execution_count": 103,
   "id": "transparent-offering",
   "metadata": {},
   "outputs": [
    {
     "name": "stdout",
     "output_type": "stream",
     "text": [
      "Requirement failed 😢\n",
      "Num problematic stations: 36\n",
      "Num good stations: 3\n",
      "Num ignored departments: 0\n",
      "Statin rates: {'bedfordshire': 0.2506172839506173, 'hertfordshire': 0.28556263269639065, 'kent': 0.2711919454368301, 'btp': 0.2817540322580645, 'warwickshire': 0.2547683923705722, 'staffordshire': 0.2459425717852684, 'leicestershire': 0.1640378548895899, 'derbyshire': 0.2635431918008785, 'cheshire': 0.3288020390824129, 'west-yorkshire': 0.21422547090244587, 'suffolk': 0.2136627906976744, 'hampshire': 0.2832475007573463, 'devon-and-cornwall': 0.24609375, 'south-yorkshire': 0.20057102069950036, 'essex': 0.27965540092776675, 'norfolk': 0.17233294255568582, 'dyfed-powys': 0.14457831325301204, 'thames-valley': 0.169699534490055, 'avon-and-somerset': 0.274989274989275, 'merseyside': 0.24767333643555142, 'northumbria': 0.23711340206185566, 'sussex': 0.23826208829712683, 'surrey': 0.28270412642669007, 'nottinghamshire': 0.2961608775137112, 'city-of-london': 0.28494041170097506, 'west-mercia': 0.27835562159484895, 'lincolnshire': 0.19509594882729211, 'lancashire': 0.19393939393939394, 'gloucestershire': 0.2634920634920635, 'northamptonshire': 0.23792270531400966, 'cumbria': 0.24854368932038834, 'north-yorkshire': 0.17702448210922786, 'north-wales': 0.16646989374262103, 'cleveland': 0.29473684210526313, 'dorset': 0.2591973244147157, 'durham': 0.3515151515151515, 'greater-manchester': 0.22655426765015807, 'wiltshire': 0.20168067226890757, 'cambridgeshire': 0.2742857142857143}\n"
     ]
    }
   ],
   "source": [
    "is_satisfied, problematic_departments, good_deparments, ignored_departments, global_precisions = verify_success_rate_objective_station(X_test, y_test, y_pred_threshold)\n",
    "\n",
    "if not is_satisfied:\n",
    "    print(\"Requirement failed 😢\")\n",
    "    print(\"Num problematic stations: {}\".format(len(problematic_departments)))\n",
    "    print(\"Num good stations: {}\".format(len(good_deparments)))\n",
    "    print(\"Num ignored departments: {}\".format(len(ignored_departments)))\n",
    "    print(\"Statin rates: {}\".format(global_precisions))\n"
   ]
  },
  {
   "cell_type": "code",
   "execution_count": 91,
   "id": "criminal-bosnia",
   "metadata": {
    "collapsed": true
   },
   "outputs": [
    {
     "data": {
      "text/plain": [
       "[('bedfordshire',\n",
       "  0.0,\n",
       "  {'controlled drugs': 0.37254901960784315,\n",
       "   'article for use in theft': 0.3333333333333333,\n",
       "   'stolen goods': 0.0,\n",
       "   'anything to threaten or harm anyone': 0.0,\n",
       "   'offensive weapons': 0.0,\n",
       "   'fireworks': 0.0,\n",
       "   'articles for use in criminal damage': 0.0,\n",
       "   'firearms': 0.0}),\n",
       " ('hertfordshire',\n",
       "  0.0,\n",
       "  {'controlled drugs': 0.3876651982378855,\n",
       "   'article for use in theft': 0.34615384615384615,\n",
       "   'stolen goods': 0.5277777777777778,\n",
       "   'offensive weapons': 0.26666666666666666,\n",
       "   'fireworks': 0.0,\n",
       "   'articles for use in criminal damage': 0.0,\n",
       "   'firearms': 0.0,\n",
       "   'game or poaching equipment': 0.0}),\n",
       " ('kent',\n",
       "  0.0,\n",
       "  {'controlled drugs': 0.405,\n",
       "   'article for use in theft': 0.5,\n",
       "   'stolen goods': 0.4418604651162791,\n",
       "   'offensive weapons': 0.375,\n",
       "   'articles for use in criminal damage': 0.0,\n",
       "   'firearms': 0.0,\n",
       "   'evidence of offences under the act': 0.0,\n",
       "   'psychoactive substances': 0.39215686274509803}),\n",
       " ('btp',\n",
       "  0.0,\n",
       "  {'controlled drugs': 0.4177777777777778,\n",
       "   'article for use in theft': 0.6666666666666666,\n",
       "   'stolen goods': 0.6,\n",
       "   'anything to threaten or harm anyone': 1.0,\n",
       "   'offensive weapons': 0.16666666666666666,\n",
       "   'articles for use in criminal damage': 0.0,\n",
       "   'firearms': 0.0,\n",
       "   'evidence of offences under the act': 0.0,\n",
       "   'psychoactive substances': 0.0}),\n",
       " ('warwickshire',\n",
       "  0.0,\n",
       "  {'controlled drugs': 0.358974358974359,\n",
       "   'article for use in theft': 0.5,\n",
       "   'stolen goods': 0.38461538461538464,\n",
       "   'anything to threaten or harm anyone': 0.0,\n",
       "   'offensive weapons': 0.0,\n",
       "   'articles for use in criminal damage': 0.0,\n",
       "   'firearms': 0.0,\n",
       "   'detailed object of search unavailable': 0.0,\n",
       "   'psychoactive substances': 0.0}),\n",
       " ('staffordshire',\n",
       "  0.0,\n",
       "  {'controlled drugs': 0.3291139240506329,\n",
       "   'article for use in theft': 0.0,\n",
       "   'stolen goods': 0.391304347826087,\n",
       "   'offensive weapons': 0.0,\n",
       "   'articles for use in criminal damage': 0.0,\n",
       "   'firearms': 0.0}),\n",
       " ('leicestershire',\n",
       "  0.0,\n",
       "  {'controlled drugs': 0.375,\n",
       "   'article for use in theft': 0.0,\n",
       "   'stolen goods': 1.0,\n",
       "   'offensive weapons': 0.0,\n",
       "   'articles for use in criminal damage': 0.0,\n",
       "   'firearms': 1.0,\n",
       "   'evidence of offences under the act': 0.0,\n",
       "   'psychoactive substances': 0.0}),\n",
       " ('derbyshire',\n",
       "  0.0,\n",
       "  {'controlled drugs': 0.390625,\n",
       "   'article for use in theft': 0.6666666666666666,\n",
       "   'stolen goods': 0.5,\n",
       "   'offensive weapons': 0.0,\n",
       "   'articles for use in criminal damage': 0.0,\n",
       "   'firearms': 0.0,\n",
       "   'evidence of offences under the act': 0.0}),\n",
       " ('cheshire',\n",
       "  0.0,\n",
       "  {'controlled drugs': 0.4251497005988024,\n",
       "   'article for use in theft': 0.5,\n",
       "   'stolen goods': 0.3125,\n",
       "   'offensive weapons': 0.3333333333333333,\n",
       "   'fireworks': 0.0,\n",
       "   'articles for use in criminal damage': 0.0,\n",
       "   'firearms': 0.0}),\n",
       " ('west-yorkshire',\n",
       "  0.0,\n",
       "  {'controlled drugs': 0.28440366972477066,\n",
       "   'article for use in theft': 0.2777777777777778,\n",
       "   'stolen goods': 0.4,\n",
       "   'offensive weapons': 0.4090909090909091,\n",
       "   'fireworks': 0.0,\n",
       "   'articles for use in criminal damage': 0.0,\n",
       "   'firearms': 0.6666666666666666,\n",
       "   'evidence of offences under the act': 0.0,\n",
       "   'psychoactive substances': 0.0}),\n",
       " ('suffolk',\n",
       "  0.0,\n",
       "  {'controlled drugs': 0.3333333333333333,\n",
       "   'article for use in theft': 0.0,\n",
       "   'stolen goods': 1.0,\n",
       "   'anything to threaten or harm anyone': 0.0,\n",
       "   'offensive weapons': 0.0,\n",
       "   'articles for use in criminal damage': 0.0,\n",
       "   'firearms': 0.0,\n",
       "   'evidence of offences under the act': 0.0,\n",
       "   'psychoactive substances': 0.0}),\n",
       " ('hampshire',\n",
       "  0.0,\n",
       "  {'controlled drugs': 0.3938144329896907,\n",
       "   'article for use in theft': 0.3333333333333333,\n",
       "   'stolen goods': 0.358974358974359,\n",
       "   'anything to threaten or harm anyone': 0.0,\n",
       "   'offensive weapons': 0.5,\n",
       "   'articles for use in criminal damage': 0.5,\n",
       "   'firearms': 0.0,\n",
       "   'evidence of offences under the act': 0.0,\n",
       "   'game or poaching equipment': 0.0}),\n",
       " ('devon-and-cornwall',\n",
       "  0.0,\n",
       "  {'controlled drugs': 0.3882783882783883,\n",
       "   'article for use in theft': 0.0,\n",
       "   'stolen goods': 0.3,\n",
       "   'offensive weapons': 0.2222222222222222,\n",
       "   'articles for use in criminal damage': 0.0,\n",
       "   'firearms': 0.0}),\n",
       " ('south-yorkshire',\n",
       "  0.0,\n",
       "  {'controlled drugs': 0.22137404580152673,\n",
       "   'article for use in theft': 0.0,\n",
       "   'stolen goods': 0.0,\n",
       "   'anything to threaten or harm anyone': 0.0,\n",
       "   'offensive weapons': 0.1875,\n",
       "   'fireworks': 0.0,\n",
       "   'articles for use in criminal damage': 0.0,\n",
       "   'firearms': 0.0}),\n",
       " ('essex',\n",
       "  0.0,\n",
       "  {'controlled drugs': 0.38095238095238093,\n",
       "   'article for use in theft': 0.2727272727272727,\n",
       "   'stolen goods': 0.48936170212765956,\n",
       "   'anything to threaten or harm anyone': 0.0,\n",
       "   'offensive weapons': 0.3076923076923077,\n",
       "   'articles for use in criminal damage': 1.0,\n",
       "   'firearms': 1.0,\n",
       "   'evidence of offences under the act': 0.0}),\n",
       " ('norfolk',\n",
       "  0.0,\n",
       "  {'controlled drugs': 0.25,\n",
       "   'article for use in theft': 0.0,\n",
       "   'stolen goods': 0.0,\n",
       "   'anything to threaten or harm anyone': 0.0,\n",
       "   'offensive weapons': 0.0,\n",
       "   'articles for use in criminal damage': 0.0,\n",
       "   'firearms': 0.0,\n",
       "   'evidence of offences under the act': 0.0,\n",
       "   'psychoactive substances': 0.0,\n",
       "   'evidence of wildlife offences': 0.0}),\n",
       " ('dyfed-powys',\n",
       "  0.0,\n",
       "  {'controlled drugs': 0.3333333333333333,\n",
       "   'article for use in theft': 0.0,\n",
       "   'anything to threaten or harm anyone': 0.3333333333333333,\n",
       "   'articles for use in criminal damage': 0.0,\n",
       "   'firearms': 0.0,\n",
       "   'evidence of offences under the act': 0.0}),\n",
       " ('thames-valley',\n",
       "  0.0,\n",
       "  {'controlled drugs': 0.25806451612903225,\n",
       "   'article for use in theft': 0.125,\n",
       "   'stolen goods': 0.19047619047619047,\n",
       "   'anything to threaten or harm anyone': 0.0,\n",
       "   'offensive weapons': 0.3125,\n",
       "   'articles for use in criminal damage': 0.0,\n",
       "   'firearms': 0.0,\n",
       "   'evidence of offences under the act': 0.0}),\n",
       " ('avon-and-somerset',\n",
       "  0.0,\n",
       "  {'controlled drugs': 0.3780487804878049,\n",
       "   'article for use in theft': 1.0,\n",
       "   'stolen goods': 0.4666666666666667,\n",
       "   'anything to threaten or harm anyone': 0.0,\n",
       "   'offensive weapons': 0.8,\n",
       "   'fireworks': 0.0,\n",
       "   'articles for use in criminal damage': 0.0,\n",
       "   'firearms': 0.0,\n",
       "   'evidence of offences under the act': 0.0,\n",
       "   'psychoactive substances': 0.0}),\n",
       " ('merseyside',\n",
       "  0.0,\n",
       "  {'controlled drugs': 0.3150557620817844,\n",
       "   'article for use in theft': 0.5714285714285714,\n",
       "   'stolen goods': 0.6,\n",
       "   'offensive weapons': 0.0,\n",
       "   'fireworks': 0.0,\n",
       "   'articles for use in criminal damage': 0.0,\n",
       "   'firearms': 0.0,\n",
       "   'evidence of offences under the act': 0.0}),\n",
       " ('northumbria',\n",
       "  0.0,\n",
       "  {'controlled drugs': 0.3,\n",
       "   'article for use in theft': 0.0,\n",
       "   'stolen goods': 0.3333333333333333,\n",
       "   'offensive weapons': 0.2222222222222222,\n",
       "   'fireworks': 0.6666666666666666,\n",
       "   'articles for use in criminal damage': 0.25,\n",
       "   'firearms': 0.0,\n",
       "   'game or poaching equipment': 0.0}),\n",
       " ('sussex',\n",
       "  0.0,\n",
       "  {'controlled drugs': 0.3005181347150259,\n",
       "   'article for use in theft': 0.2,\n",
       "   'stolen goods': 0.25,\n",
       "   'anything to threaten or harm anyone': 0.0,\n",
       "   'offensive weapons': 0.0,\n",
       "   'fireworks': 0.0,\n",
       "   'articles for use in criminal damage': 0.0,\n",
       "   'firearms': 1.0,\n",
       "   'detailed object of search unavailable': 0.3333333333333333,\n",
       "   'evidence of offences under the act': 0.0}),\n",
       " ('surrey',\n",
       "  0.0,\n",
       "  {'controlled drugs': 0.3825136612021858,\n",
       "   'article for use in theft': 0.6,\n",
       "   'stolen goods': 0.25,\n",
       "   'anything to threaten or harm anyone': 0.0,\n",
       "   'offensive weapons': 0.0,\n",
       "   'fireworks': 0.0,\n",
       "   'articles for use in criminal damage': 0.0,\n",
       "   'firearms': 0.0}),\n",
       " ('nottinghamshire',\n",
       "  0.0,\n",
       "  {'controlled drugs': 0.36807817589576547,\n",
       "   'article for use in theft': 0.0,\n",
       "   'stolen goods': 0.6666666666666666,\n",
       "   'offensive weapons': 0.2,\n",
       "   'fireworks': 0.0,\n",
       "   'articles for use in criminal damage': 0.0,\n",
       "   'firearms': 0.0}),\n",
       " ('city-of-london',\n",
       "  0.0,\n",
       "  {'controlled drugs': 0.390625,\n",
       "   'article for use in theft': 0.6428571428571429,\n",
       "   'stolen goods': 0.5,\n",
       "   'anything to threaten or harm anyone': 0.0,\n",
       "   'offensive weapons': 0.0,\n",
       "   'articles for use in criminal damage': 0.0,\n",
       "   'firearms': 0.0,\n",
       "   'evidence of offences under the act': 0.0,\n",
       "   'psychoactive substances': 0.0}),\n",
       " ('west-mercia',\n",
       "  0.0,\n",
       "  {'controlled drugs': 0.3798449612403101,\n",
       "   'article for use in theft': 0.75,\n",
       "   'stolen goods': 0.4772727272727273,\n",
       "   'anything to threaten or harm anyone': 0.0,\n",
       "   'offensive weapons': 0.375,\n",
       "   'articles for use in criminal damage': 0.0,\n",
       "   'firearms': 0.0,\n",
       "   'detailed object of search unavailable': 0.0,\n",
       "   'evidence of offences under the act': 0.0,\n",
       "   'psychoactive substances': 0.0,\n",
       "   'game or poaching equipment': 0.0}),\n",
       " ('lincolnshire',\n",
       "  0.0,\n",
       "  {'controlled drugs': 0.4262295081967213,\n",
       "   'article for use in theft': 1.0,\n",
       "   'stolen goods': 0.5,\n",
       "   'offensive weapons': 0.0,\n",
       "   'articles for use in criminal damage': 0.0,\n",
       "   'firearms': 0.0,\n",
       "   'evidence of offences under the act': 0.0,\n",
       "   'psychoactive substances': 0.0}),\n",
       " ('lancashire',\n",
       "  0.0,\n",
       "  {'controlled drugs': 0.3611111111111111,\n",
       "   'article for use in theft': 0.0,\n",
       "   'stolen goods': 0.8,\n",
       "   'offensive weapons': 0.0,\n",
       "   'fireworks': 0.0,\n",
       "   'articles for use in criminal damage': 0.0,\n",
       "   'firearms': 0.0}),\n",
       " ('gloucestershire',\n",
       "  0.0,\n",
       "  {'controlled drugs': 0.30952380952380953,\n",
       "   'article for use in theft': 1.0,\n",
       "   'stolen goods': 0.3333333333333333,\n",
       "   'offensive weapons': 0.0,\n",
       "   'articles for use in criminal damage': 0.0,\n",
       "   'firearms': 0.0,\n",
       "   'game or poaching equipment': 0.0}),\n",
       " ('northamptonshire',\n",
       "  0.0,\n",
       "  {'controlled drugs': 0.2845528455284553,\n",
       "   'article for use in theft': 0.0,\n",
       "   'stolen goods': 0.5,\n",
       "   'offensive weapons': 0.0,\n",
       "   'fireworks': 0.0,\n",
       "   'firearms': 0.0,\n",
       "   'evidence of offences under the act': 0.0}),\n",
       " ('cumbria',\n",
       "  0.0,\n",
       "  {'controlled drugs': 0.23529411764705882,\n",
       "   'article for use in theft': 1.0,\n",
       "   'stolen goods': 0.46153846153846156,\n",
       "   'offensive weapons': 0.75,\n",
       "   'fireworks': 0.0,\n",
       "   'articles for use in criminal damage': 0.0,\n",
       "   'firearms': 0.0}),\n",
       " ('north-yorkshire',\n",
       "  0.0,\n",
       "  {'controlled drugs': 0.23529411764705882,\n",
       "   'article for use in theft': 0.5,\n",
       "   'stolen goods': 0.2,\n",
       "   'offensive weapons': 0.0,\n",
       "   'articles for use in criminal damage': 0.0,\n",
       "   'firearms': 0.0}),\n",
       " ('north-wales',\n",
       "  0.0,\n",
       "  {'controlled drugs': 0.20454545454545456,\n",
       "   'article for use in theft': 0.0,\n",
       "   'stolen goods': 1.0,\n",
       "   'offensive weapons': 0.0,\n",
       "   'articles for use in criminal damage': 0.0,\n",
       "   'firearms': 0.0,\n",
       "   'game or poaching equipment': 0.0}),\n",
       " ('cleveland',\n",
       "  0.0,\n",
       "  {'controlled drugs': 0.2564102564102564,\n",
       "   'article for use in theft': 0.6666666666666666,\n",
       "   'stolen goods': 0.2857142857142857,\n",
       "   'anything to threaten or harm anyone': 1.0,\n",
       "   'offensive weapons': 0.3333333333333333,\n",
       "   'articles for use in criminal damage': 0.0,\n",
       "   'firearms': 0.0,\n",
       "   'evidence of offences under the act': 1.0}),\n",
       " ('dorset',\n",
       "  0.0,\n",
       "  {'controlled drugs': 0.2765957446808511,\n",
       "   'article for use in theft': 0.3333333333333333,\n",
       "   'stolen goods': 0.4,\n",
       "   'offensive weapons': 0.5,\n",
       "   'articles for use in criminal damage': 0.0,\n",
       "   'firearms': 0.0,\n",
       "   'evidence of offences under the act': 0.0,\n",
       "   'game or poaching equipment': 0.0}),\n",
       " ('durham',\n",
       "  0.0,\n",
       "  {'controlled drugs': 0.3484848484848485,\n",
       "   'article for use in theft': 0.4,\n",
       "   'stolen goods': 0.5454545454545454,\n",
       "   'offensive weapons': 0.4166666666666667,\n",
       "   'fireworks': 0.0,\n",
       "   'articles for use in criminal damage': 0.5,\n",
       "   'firearms': 0.0,\n",
       "   'game or poaching equipment': 1.0}),\n",
       " ('greater-manchester',\n",
       "  0.0,\n",
       "  {'controlled drugs': 0.3918918918918919,\n",
       "   'article for use in theft': 0.0,\n",
       "   'stolen goods': 1.0,\n",
       "   'anything to threaten or harm anyone': 0.0,\n",
       "   'offensive weapons': 0.25,\n",
       "   'fireworks': 0.0,\n",
       "   'articles for use in criminal damage': 0.0,\n",
       "   'firearms': 0.0}),\n",
       " ('wiltshire',\n",
       "  0.0,\n",
       "  {'controlled drugs': 0.14285714285714285,\n",
       "   'article for use in theft': 0.0,\n",
       "   'stolen goods': 0.0,\n",
       "   'offensive weapons': 0.0,\n",
       "   'articles for use in criminal damage': 0.0,\n",
       "   'firearms': 0.0,\n",
       "   'evidence of offences under the act': 0.0}),\n",
       " ('cambridgeshire',\n",
       "  0.0,\n",
       "  {'controlled drugs': 0.4117647058823529,\n",
       "   'article for use in theft': 0.0,\n",
       "   'stolen goods': 1.0,\n",
       "   'offensive weapons': 0.0})]"
      ]
     },
     "execution_count": 91,
     "metadata": {},
     "output_type": "execute_result"
    }
   ],
   "source": [
    "problematic_departments"
   ]
  },
  {
   "cell_type": "code",
   "execution_count": 92,
   "id": "interested-bhutan",
   "metadata": {},
   "outputs": [],
   "source": [
    "# mask = (X_test['Object of search'] == 'offensive weapons') & (X_test['station'] == 'bedfordshire')\n",
    "# np.sum(mask)\n",
    "# precision_score(y_test[mask], y_pred[mask])\n",
    "# y_test[mask].value_counts()\n",
    "# pd.Series(y_pred[mask]).value_counts()"
   ]
  },
  {
   "cell_type": "markdown",
   "id": "olympic-aside",
   "metadata": {},
   "source": [
    "### 2 - No police station should have a discrepancy bigger than 5% between the search success rate between protected classes (ethnicity, gender)"
   ]
  },
  {
   "cell_type": "code",
   "execution_count": 104,
   "id": "remarkable-burner",
   "metadata": {},
   "outputs": [],
   "source": [
    "def verify_no_discrimination(X_test, y_true, y_pred, sensitive_column, max_diff=0.05, min_samples=30):\n",
    "    \"\"\"\n",
    "    Verifies that no station has discrimination in between protected classes\n",
    "    \"\"\"\n",
    "    \n",
    "    departments = X_test['station'].unique()\n",
    "    sensitive_classes = X_test[sensitive_column].unique()\n",
    "    \n",
    "    is_satisfied = True\n",
    "    problematic_departments = []\n",
    "    good_deparments = []\n",
    "    ignored_departments = []\n",
    "    for department in departments:\n",
    "        precisions = {}\n",
    "        for sensitive_class in sensitive_classes:\n",
    "            mask = (X_test[sensitive_column] == sensitive_class) & (X_test['station'] == department)\n",
    "            if np.sum(mask) > min_samples:\n",
    "                precisions[sensitive_class] = precision_score(y_true[mask], y_pred[mask], pos_label=True)\n",
    "                \n",
    "        if len(precisions) > 1:    \n",
    "            diff = np.max(list(precisions.values())) - np.min(list(precisions.values()))\n",
    "\n",
    "            if diff > max_diff:\n",
    "                is_satisfied = False\n",
    "                problematic_departments.append((department, diff, precisions))\n",
    "            else:\n",
    "                good_deparments.append((department, diff, precisions))\n",
    "        else:\n",
    "            ignored_departments.append((department, None, []))\n",
    "    \n",
    "    global_precisions = {}\n",
    "    for sensitive_class in sensitive_classes:\n",
    "        mask = (X_test[sensitive_column] == sensitive_class)\n",
    "        if np.sum(mask) > min_samples:\n",
    "            global_precisions[sensitive_class] = precision_score(y_true[mask], y_pred[mask], pos_label=True)\n",
    "    \n",
    "    if len(precisions) > 1:    \n",
    "        diff = np.max(list(precisions.values())) - np.min(list(precisions.values()))\n",
    "        if diff > max_diff:\n",
    "            is_satisfied = False\n",
    "        \n",
    "    return is_satisfied, problematic_departments, good_deparments, ignored_departments, global_precisions\n"
   ]
  },
  {
   "cell_type": "code",
   "execution_count": 105,
   "id": "prescription-clinton",
   "metadata": {},
   "outputs": [
    {
     "name": "stdout",
     "output_type": "stream",
     "text": [
      "\n",
      "Ethnicity\n",
      "Requirement failed 😢\n",
      "Global rates: {'Black': 0.2619233776387803, 'White': 0.2513259978784034, 'Other': 0.24716369529983792, 'Asian': 0.25040916530278234, 'Mixed': 0.26570048309178745}\n",
      "Num problematic departments: 27\n",
      "Num good departments: 8\n",
      "Num ignored departments: 4\n",
      "avg diff: 0.10379299363515448\n",
      "\n",
      "\n",
      "Gender\n",
      "Requirement failed 😢\n",
      "Global rates: {'Male': 0.2554021388807501, 'Female': 0.22618296529968454, 'Other': 0.26666666666666666}\n",
      "Num problematic departments: 13\n",
      "Num good departments: 26\n",
      "Num ignored departments: 0\n",
      "avg diff: 0.08883418946316815\n"
     ]
    }
   ],
   "source": [
    "is_satisfied, problematic_departments, good_deparments, ignored_departments, global_precisions = verify_no_discrimination(\n",
    "    df_test, y_test, y_pred_threshold, 'Officer-defined ethnicity', 0.05)\n",
    "\n",
    "print(\"\\nEthnicity\")\n",
    "\n",
    "if not is_satisfied:\n",
    "    print(\"Requirement failed 😢\")\n",
    "    print(\"Global rates: {}\".format(global_precisions))\n",
    "    print(\"Num problematic departments: {}\".format(len(problematic_departments)))\n",
    "    print(\"Num good departments: {}\".format(len(good_deparments)))\n",
    "    print(\"Num ignored departments: {}\".format(len(ignored_departments)))\n",
    "\n",
    "    print(\"avg diff:\", np.mean([p[1] for p in problematic_departments]))\n",
    "    \n",
    "    \n",
    "is_satisfied, problematic_departments, good_deparments, ignored_departments, global_precisions = verify_no_discrimination(\n",
    "    df_test, y_test, y_pred_threshold, 'Gender', 0.05)\n",
    "\n",
    "print(\"\\n\\nGender\")\n",
    "\n",
    "if not is_satisfied:\n",
    "    print(\"Requirement failed 😢\")\n",
    "    print(\"Global rates: {}\".format(global_precisions))\n",
    "    print(\"Num problematic departments: {}\".format(len(problematic_departments)))\n",
    "    print(\"Num good departments: {}\".format(len(good_deparments)))\n",
    "    print(\"Num ignored departments: {}\".format(len(ignored_departments)))\n",
    "    \n",
    "    print(\"avg diff:\", np.mean([p[1] for p in problematic_departments]))"
   ]
  },
  {
   "cell_type": "markdown",
   "id": "included-movie",
   "metadata": {},
   "source": [
    "### 3 - No police station should have a discrepancy bigger than x% between the Removal of more than just outer clothing rate between protected classes (age, ethnicity, gender)"
   ]
  },
  {
   "cell_type": "code",
   "execution_count": 107,
   "id": "undefined-shanghai",
   "metadata": {},
   "outputs": [],
   "source": [
    "def verify_removal_clothing(X_test, y_true, y_pred, sensitive_column, max_diff, min_samples=30):\n",
    "    \"\"\"\n",
    "    Verifies that no station has discrepancy Removal of more than just outer clothing rate between \n",
    "    protected classes (age, ethnicity, gender)\n",
    "    \"\"\"\n",
    "    \n",
    "    departments = X_test['station'].unique()\n",
    "    sensitive_classes = X_test[sensitive_column].unique()\n",
    "    \n",
    "    is_satisfied = True\n",
    "    problematic_departments = []\n",
    "    good_deparments = []\n",
    "    ignored_departments = []\n",
    "    for department in departments:\n",
    "        removal_rate = {}\n",
    "        for sensitive_class in sensitive_classes:\n",
    "            mask = (X_test[sensitive_column] == sensitive_class) & (X_test['station'] == department) & (y_pred == True)\n",
    "            if np.sum(mask) > min_samples:\n",
    "                removal_rate[sensitive_class] = (np.sum(X_test[mask]['Removal of more than just outer clothing']==True))/(X_test[mask]['Removal of more than just outer clothing'].shape[0])\n",
    "                \n",
    "        if len(removal_rate) > 1:    \n",
    "            diff = np.max(list(removal_rate.values())) - np.min(list(removal_rate.values()))\n",
    "\n",
    "            if diff > max_diff:\n",
    "                is_satisfied = False\n",
    "                problematic_departments.append((department, diff, removal_rate))\n",
    "            else:\n",
    "                good_deparments.append((department, diff, removal_rate))\n",
    "        else:\n",
    "            ignored_departments.append((department, None, []))\n",
    "    \n",
    "    global_removal_rate = {}\n",
    "    for sensitive_class in sensitive_classes:\n",
    "        mask = (X_test[sensitive_column] == sensitive_class) & (y_pred == True)\n",
    "        if np.sum(mask) > min_samples:\n",
    "            global_removal_rate[sensitive_class] = (np.sum(X_test[mask]['Removal of more than just outer clothing']==True))/(X_test[mask]['Removal of more than just outer clothing'].shape[0])\n",
    "    \n",
    "#     if len(precisions) > 1:    \n",
    "#         diff = np.max(list(precisions.values())) - np.min(list(precisions.values()))\n",
    "#         if diff > max_diff:\n",
    "#             is_satisfied = False\n",
    "        \n",
    "    return is_satisfied, problematic_departments, good_deparments, ignored_departments, global_removal_rate\n"
   ]
  },
  {
   "cell_type": "code",
   "execution_count": 108,
   "id": "continent-wonder",
   "metadata": {},
   "outputs": [
    {
     "name": "stdout",
     "output_type": "stream",
     "text": [
      "\n",
      "Gender\n",
      "Requirement failed 😢\n",
      "Global rates: {'Male': 0.04021388807500732, 'Female': 0.04763406940063091, 'Other': 0.06666666666666667}\n",
      "Num problematic departments: 3\n",
      "Num good departments: 34\n",
      "Num ignored departments: 2\n",
      "avg diff: 0.1267672570326195\n",
      "\n",
      "\n",
      "Age range\n",
      "Requirement failed 😢\n",
      "Global rates: {'10-17': 0.02228942652329749, '25-34': 0.04534665833853841, 'over 34': 0.04172640156945597, '18-24': 0.044854881266490766, 'under 10': 0.05194805194805195}\n",
      "Num problematic departments: 10\n",
      "Num good departments: 28\n",
      "Num ignored departments: 1\n",
      "avg diff: 0.07787356799893\n",
      "\n",
      "\n",
      "Ethnicity\n",
      "Requirement failed 😢\n",
      "Global rates: {'Black': 0.0906958561376075, 'White': 0.03344634648584562, 'Other': 0.041329011345218804, 'Asian': 0.048895253682487726, 'Mixed': 0.057971014492753624}\n",
      "Num problematic departments: 20\n",
      "Num good departments: 11\n",
      "Num ignored departments: 8\n",
      "avg diff: 0.11227701524340838\n"
     ]
    }
   ],
   "source": [
    "is_satisfied, problematic_departments, good_deparments, ignored_departments, global_removal_rate = verify_removal_clothing(\n",
    "    df_test, y_test, y_pred_threshold, 'Gender', 0.05)\n",
    "\n",
    "print(\"\\nGender\")\n",
    "\n",
    "if not is_satisfied:\n",
    "    print(\"Requirement failed 😢\")\n",
    "    print(\"Global rates: {}\".format(global_removal_rate))\n",
    "    print(\"Num problematic departments: {}\".format(len(problematic_departments)))\n",
    "    print(\"Num good departments: {}\".format(len(good_deparments)))\n",
    "    print(\"Num ignored departments: {}\".format(len(ignored_departments)))\n",
    "    \n",
    "    print(\"avg diff:\", np.mean([p[1] for p in problematic_departments]))\n",
    "    \n",
    "    \n",
    "is_satisfied, problematic_departments, good_deparments, ignored_departments, global_removal_rate = verify_removal_clothing(\n",
    "    df_test, y_test, y_pred_threshold, 'Age range', 0.05)\n",
    "\n",
    "print(\"\\n\\nAge range\")\n",
    "\n",
    "if not is_satisfied:\n",
    "    print(\"Requirement failed 😢\")\n",
    "    print(\"Global rates: {}\".format(global_removal_rate))\n",
    "    print(\"Num problematic departments: {}\".format(len(problematic_departments)))\n",
    "    print(\"Num good departments: {}\".format(len(good_deparments)))\n",
    "    print(\"Num ignored departments: {}\".format(len(ignored_departments)))\n",
    "    \n",
    "    print(\"avg diff:\", np.mean([p[1] for p in problematic_departments]))\n",
    "    \n",
    "    \n",
    "is_satisfied, problematic_departments, good_deparments, ignored_departments, global_removal_rate = verify_removal_clothing(\n",
    "    df_test, y_test, y_pred_threshold, 'Officer-defined ethnicity', 0.05)\n",
    "\n",
    "print(\"\\n\\nEthnicity\")\n",
    "\n",
    "if not is_satisfied:\n",
    "    print(\"Requirement failed 😢\")\n",
    "    print(\"Global rates: {}\".format(global_removal_rate))\n",
    "    print(\"Num problematic departments: {}\".format(len(problematic_departments)))\n",
    "    print(\"Num good departments: {}\".format(len(good_deparments)))\n",
    "    print(\"Num ignored departments: {}\".format(len(ignored_departments)))\n",
    "    \n",
    "    print(\"avg diff:\", np.mean([p[1] for p in problematic_departments]))"
   ]
  },
  {
   "cell_type": "code",
   "execution_count": null,
   "id": "apart-projector",
   "metadata": {},
   "outputs": [],
   "source": []
  },
  {
   "cell_type": "code",
   "execution_count": null,
   "id": "martial-documentation",
   "metadata": {},
   "outputs": [],
   "source": []
  },
  {
   "cell_type": "code",
   "execution_count": null,
   "id": "double-shelf",
   "metadata": {},
   "outputs": [],
   "source": []
  },
  {
   "cell_type": "code",
   "execution_count": null,
   "id": "familiar-answer",
   "metadata": {},
   "outputs": [],
   "source": []
  },
  {
   "cell_type": "code",
   "execution_count": 123,
   "id": "satisfied-scotland",
   "metadata": {},
   "outputs": [],
   "source": []
  },
  {
   "cell_type": "code",
   "execution_count": null,
   "id": "worse-system",
   "metadata": {},
   "outputs": [],
   "source": []
  },
  {
   "cell_type": "code",
   "execution_count": null,
   "id": "labeled-antique",
   "metadata": {},
   "outputs": [],
   "source": []
  },
  {
   "cell_type": "code",
   "execution_count": null,
   "id": "responsible-whale",
   "metadata": {},
   "outputs": [],
   "source": []
  }
 ],
 "metadata": {
  "kernelspec": {
   "display_name": "Python 3",
   "language": "python",
   "name": "python3"
  },
  "language_info": {
   "codemirror_mode": {
    "name": "ipython",
    "version": 3
   },
   "file_extension": ".py",
   "mimetype": "text/x-python",
   "name": "python",
   "nbconvert_exporter": "python",
   "pygments_lexer": "ipython3",
   "version": "3.6.9"
  }
 },
 "nbformat": 4,
 "nbformat_minor": 5
}
