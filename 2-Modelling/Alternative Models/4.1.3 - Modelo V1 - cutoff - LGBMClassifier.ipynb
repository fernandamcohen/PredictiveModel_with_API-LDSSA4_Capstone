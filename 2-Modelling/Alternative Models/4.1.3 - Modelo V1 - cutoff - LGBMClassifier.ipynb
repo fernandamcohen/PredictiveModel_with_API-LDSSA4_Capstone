{
 "cells": [
  {
   "cell_type": "code",
   "execution_count": 1,
   "id": "surprising-intermediate",
   "metadata": {},
   "outputs": [],
   "source": [
    "import json\n",
    "import joblib\n",
    "import pickle\n",
    "import pandas as pd\n",
    "import numpy as np\n",
    "# import seaborn as sns\n",
    "from sklearn.model_selection import train_test_split\n",
    "from sklearn.pipeline import make_pipeline, Pipeline\n",
    "from sklearn.impute import SimpleImputer\n",
    "from sklearn.preprocessing import StandardScaler, OneHotEncoder\n",
    "from sklearn.compose import ColumnTransformer\n",
    "from sklearn.ensemble import RandomForestClassifier\n",
    "from sklearn.metrics import precision_score, recall_score, roc_auc_score\n",
    "from sklearn.metrics import precision_recall_curve\n",
    "\n",
    "import matplotlib.pyplot as plt\n",
    "import matplotlib.image as mpimg\n",
    "%matplotlib inline\n",
    "\n",
    "import warnings\n",
    "warnings.filterwarnings('ignore')\n",
    "\n",
    "from lightgbm import LGBMClassifier"
   ]
  },
  {
   "cell_type": "markdown",
   "id": "featured-lewis",
   "metadata": {},
   "source": [
    "### Import dataset"
   ]
  },
  {
   "cell_type": "code",
   "execution_count": 2,
   "id": "cooked-agent",
   "metadata": {},
   "outputs": [],
   "source": [
    "train = pd.read_csv('data/train.csv')"
   ]
  },
  {
   "cell_type": "code",
   "execution_count": 3,
   "id": "comic-bahrain",
   "metadata": {},
   "outputs": [
    {
     "data": {
      "text/plain": [
       "False    660611\n",
       "dtype: int64"
      ]
     },
     "execution_count": 3,
     "metadata": {},
     "output_type": "execute_result"
    }
   ],
   "source": [
    "# no duplicate lines\n",
    "train.duplicated().value_counts()"
   ]
  },
  {
   "cell_type": "code",
   "execution_count": 4,
   "id": "adverse-customer",
   "metadata": {},
   "outputs": [
    {
     "data": {
      "text/plain": [
       "False    660611\n",
       "Name: observation_id, dtype: int64"
      ]
     },
     "execution_count": 4,
     "metadata": {},
     "output_type": "execute_result"
    }
   ],
   "source": [
    "# no duplicate observation_id\n",
    "train['observation_id'].duplicated().value_counts()"
   ]
  },
  {
   "cell_type": "markdown",
   "id": "advanced-casting",
   "metadata": {},
   "source": [
    "### Features adjustments"
   ]
  },
  {
   "cell_type": "code",
   "execution_count": 5,
   "id": "considered-plate",
   "metadata": {},
   "outputs": [],
   "source": [
    "# transforming Date column in datetime\n",
    "train['Date']=pd.to_datetime(train['Date'], infer_datetime_format=True)\n",
    "\n",
    "# auxiliar Date feature (for temporal analyzis)\n",
    "train['referencia'] = train['Date'].dt.year*100 + train['Date'].dt.month\n",
    "\n",
    "# according to Dr Wilson's instructions: \n",
    "# \"If there was a search and the outcome linked to object of search has not been written please consider it to be False\"\n",
    "train['Outcome linked to object of search'] = train['Outcome linked to object of search'].fillna(False)\n",
    "\n",
    "# according to Dr Wilson's instructions missing values means False \n",
    "train['Part of a policing operation'] = train['Part of a policing operation'].fillna(False)\n",
    "\n",
    "# Outer clothing be filled with False? \n",
    "#Yes, except when it’s just a vehicle search, in which case it makes no sense and should be kept as NaN\n",
    "mask= ((train['Type']!='Vehicle search') & \n",
    "      (train['Removal of more than just outer clothing'] != True) &\n",
    "      (train['Removal of more than just outer clothing'] != False))\n",
    "\n",
    "train.loc[mask, 'Removal of more than just outer clothing']=False"
   ]
  },
  {
   "cell_type": "markdown",
   "id": "promising-oregon",
   "metadata": {},
   "source": [
    "### Filtering / Exclusions"
   ]
  },
  {
   "cell_type": "code",
   "execution_count": 6,
   "id": "incorporated-summer",
   "metadata": {},
   "outputs": [],
   "source": [
    "# The Metropolitan station (which is very large and has lots of data in the training set) has the features \n",
    "# Outcome linked to object of search and Removal of outer clothing without any data (always missing). \n",
    "# Is this a known problem, and if so how should we proceed? \n",
    "# Thank you for bringing this to our attention, I’ve contacted the administration at the Metropolitan and asked that \n",
    "# they fix their data entry. Please include this in your report, and do not use the Metropolitan station’s data \n",
    "# for training your models. They will not be in the test set. "
   ]
  },
  {
   "cell_type": "code",
   "execution_count": 7,
   "id": "varying-medication",
   "metadata": {},
   "outputs": [],
   "source": [
    "# Gwent and Humberside have the same problem of Metropolitan. So I will exclude this observations"
   ]
  },
  {
   "cell_type": "code",
   "execution_count": 8,
   "id": "collected-overview",
   "metadata": {},
   "outputs": [
    {
     "name": "stdout",
     "output_type": "stream",
     "text": [
      "Exclusion of 355849 observations\n"
     ]
    },
    {
     "data": {
      "text/plain": [
       "(304762, 17)"
      ]
     },
     "execution_count": 8,
     "metadata": {},
     "output_type": "execute_result"
    }
   ],
   "source": [
    "stations_to_exclude = ['metropolitan', 'gwent', 'humberside']\n",
    "train_model = train[~train['station'].isin(stations_to_exclude)]\n",
    "print(\"Exclusion of {} observations\".format(train[train['station'].isin(stations_to_exclude)]['observation_id'].nunique()))\n",
    "train_model.shape"
   ]
  },
  {
   "cell_type": "code",
   "execution_count": 9,
   "id": "baking-berry",
   "metadata": {},
   "outputs": [],
   "source": [
    "# Search on individuals with less than 10 years seems unrealist, so I will remove it"
   ]
  },
  {
   "cell_type": "code",
   "execution_count": 10,
   "id": "agreed-archive",
   "metadata": {},
   "outputs": [],
   "source": [
    "# age_to_exclude = ['under 10']\n",
    "# print(\"Exclusion of {} observations\".format(train_model[train_model['Age range'].isin(age_to_exclude)]['observation_id'].nunique()))\n",
    "# train_model = train_model[~train_model['Age range'].isin(age_to_exclude)]\n",
    "# train_model.shape"
   ]
  },
  {
   "cell_type": "markdown",
   "id": "employed-german",
   "metadata": {},
   "source": [
    "### Target"
   ]
  },
  {
   "cell_type": "code",
   "execution_count": 11,
   "id": "increasing-meaning",
   "metadata": {},
   "outputs": [],
   "source": [
    "positive_outcome = ['Local resolution',\n",
    "           'Community resolution',\n",
    "           'Arrest',\n",
    "           'Article found - Detailed outcome unavailable',\n",
    "           'Caution (simple or conditional)',\n",
    "           'Khat or Cannabis warning',\n",
    "           'Offender cautioned',\n",
    "           'Offender given drugs possession warning',\n",
    "           'Offender given penalty notice',\n",
    "           'Penalty Notice for Disorder',\n",
    "           'Summons / charged by post',\n",
    "           'Suspect arrested',\n",
    "           'Suspect summonsed to court',\n",
    "           'Suspected psychoactive substances seized - No further action']\n",
    "\n",
    "train_model['positive_outcome'] = train_model['Outcome'].isin(positive_outcome)"
   ]
  },
  {
   "cell_type": "code",
   "execution_count": 12,
   "id": "center-nursery",
   "metadata": {},
   "outputs": [],
   "source": [
    "train_model['target'] = False\n",
    "mask=((train_model[\"positive_outcome\"] == True) & (train_model[\"Outcome linked to object of search\"]==True))\n",
    "train_model.loc[mask, 'target']=True"
   ]
  },
  {
   "cell_type": "code",
   "execution_count": 13,
   "id": "flying-check",
   "metadata": {},
   "outputs": [
    {
     "data": {
      "text/html": [
       "<div>\n",
       "<style scoped>\n",
       "    .dataframe tbody tr th:only-of-type {\n",
       "        vertical-align: middle;\n",
       "    }\n",
       "\n",
       "    .dataframe tbody tr th {\n",
       "        vertical-align: top;\n",
       "    }\n",
       "\n",
       "    .dataframe thead th {\n",
       "        text-align: right;\n",
       "    }\n",
       "</style>\n",
       "<table border=\"1\" class=\"dataframe\">\n",
       "  <thead>\n",
       "    <tr style=\"text-align: right;\">\n",
       "      <th>Outcome linked to object of search</th>\n",
       "      <th>False</th>\n",
       "      <th>True</th>\n",
       "      <th>Total</th>\n",
       "    </tr>\n",
       "    <tr>\n",
       "      <th>positive_outcome</th>\n",
       "      <th></th>\n",
       "      <th></th>\n",
       "      <th></th>\n",
       "    </tr>\n",
       "  </thead>\n",
       "  <tbody>\n",
       "    <tr>\n",
       "      <th>False</th>\n",
       "      <td>174918</td>\n",
       "      <td>37987</td>\n",
       "      <td>212905</td>\n",
       "    </tr>\n",
       "    <tr>\n",
       "      <th>True</th>\n",
       "      <td>29571</td>\n",
       "      <td>62286</td>\n",
       "      <td>91857</td>\n",
       "    </tr>\n",
       "    <tr>\n",
       "      <th>Total</th>\n",
       "      <td>204489</td>\n",
       "      <td>100273</td>\n",
       "      <td>304762</td>\n",
       "    </tr>\n",
       "  </tbody>\n",
       "</table>\n",
       "</div>"
      ],
      "text/plain": [
       "Outcome linked to object of search   False    True   Total\n",
       "positive_outcome                                          \n",
       "False                               174918   37987  212905\n",
       "True                                 29571   62286   91857\n",
       "Total                               204489  100273  304762"
      ]
     },
     "execution_count": 13,
     "metadata": {},
     "output_type": "execute_result"
    }
   ],
   "source": [
    "pd.crosstab(train_model[\"positive_outcome\"],train_model[\"Outcome linked to object of search\"],\n",
    "            margins=True, margins_name=\"Total\",dropna=False)"
   ]
  },
  {
   "cell_type": "code",
   "execution_count": 14,
   "id": "cardiovascular-outdoors",
   "metadata": {},
   "outputs": [
    {
     "name": "stdout",
     "output_type": "stream",
     "text": [
      "False    242476\n",
      "True      62286\n",
      "Name: target, dtype: int64\n"
     ]
    },
    {
     "data": {
      "text/plain": [
       "False    0.795624\n",
       "True     0.204376\n",
       "Name: target, dtype: float64"
      ]
     },
     "execution_count": 14,
     "metadata": {},
     "output_type": "execute_result"
    }
   ],
   "source": [
    "print(train_model['target'].value_counts(dropna=False))\n",
    "train_model['target'].value_counts(dropna=False,normalize=True)"
   ]
  },
  {
   "cell_type": "code",
   "execution_count": 15,
   "id": "generous-finnish",
   "metadata": {},
   "outputs": [],
   "source": [
    "# print(train_model['positive_outcome'].value_counts(dropna=False))\n",
    "# train_model['positive_outcome'].value_counts(dropna=False,normalize=True)\n",
    "# pd.crosstab(train_model[\"referencia\"],train_model[\"target\"],normalize='index')\n",
    "# pd.crosstab(train_model[\"Gender\"],train_model[\"target\"],normalize='index')\n",
    "# pd.crosstab(train_model[\"station\"],train_model[\"target\"],normalize='index')\n",
    "# pd.crosstab(train_model[\"station\"],train_model[\"positive_outcome\"],normalize='index')"
   ]
  },
  {
   "cell_type": "markdown",
   "id": "viral-editing",
   "metadata": {},
   "source": [
    "### Feature engineering"
   ]
  },
  {
   "cell_type": "code",
   "execution_count": 16,
   "id": "attempted-reporter",
   "metadata": {},
   "outputs": [],
   "source": [
    "# get the hour and day of the week, maybe they will be useful \n",
    "train_model['hour'] = train_model['Date'].dt.hour\n",
    "train_model['month'] = train_model['Date'].dt.month\n",
    "train_model['day_of_week'] = train_model['Date'].dt.day_name()"
   ]
  },
  {
   "cell_type": "code",
   "execution_count": 17,
   "id": "cosmetic-relevance",
   "metadata": {},
   "outputs": [
    {
     "data": {
      "text/plain": [
       "misuse of drugs act 1971 (section 23)                      178620\n",
       "police and criminal evidence act 1984 (section 1)           92651\n",
       "missing infomation                                          27931\n",
       "criminal justice and public order act 1994 (section 60)      2670\n",
       "firearms act 1968 (section 47)                               1830\n",
       "others                                                       1060\n",
       "Name: Legislation, dtype: int64"
      ]
     },
     "execution_count": 17,
     "metadata": {},
     "output_type": "execute_result"
    }
   ],
   "source": [
    "# Legislation - reducing the quantity of categories\n",
    "# train_model.groupby(['Legislation','target'], dropna=False)['Outcome'].count().unstack()\n",
    "\n",
    "train_model['Legislation']=train_model['Legislation'].fillna('missing infomation')\n",
    "train_model['Legislation'] = train_model['Legislation'].apply(lambda x: str(x).lower())\n",
    "\n",
    "legislation_categories = ['misuse of drugs act 1971 (section 23)', 'police and criminal evidence act 1984 (section 1)', \n",
    "                          'criminal justice and public order act 1994 (section 60)', 'firearms act 1968 (section 47)',\n",
    "                          'missing infomation']\n",
    "\n",
    "mask=(~train_model['Legislation'].isin(legislation_categories))\n",
    "train_model.loc[mask, 'Legislation']='others'\n",
    "\n",
    "train_model['Legislation'].value_counts()"
   ]
  },
  {
   "cell_type": "markdown",
   "id": "editorial-bones",
   "metadata": {},
   "source": [
    "### Text Data normalization"
   ]
  },
  {
   "cell_type": "code",
   "execution_count": 18,
   "id": "female-label",
   "metadata": {},
   "outputs": [
    {
     "data": {
      "text/plain": [
       "controlled drugs                              192161\n",
       "offensive weapons                              35391\n",
       "article for use in theft                       30287\n",
       "stolen goods                                   26617\n",
       "articles for use in criminal damage             6494\n",
       "anything to threaten or harm anyone             5241\n",
       "firearms                                        2957\n",
       "evidence of offences under the act              1930\n",
       "psychoactive substances                         1701\n",
       "fireworks                                       1695\n",
       "detailed object of search unavailable            129\n",
       "game or poaching equipment                        96\n",
       "goods on which duty has not been paid etc.        23\n",
       "evidence of wildlife offences                     21\n",
       "crossbows                                         17\n",
       "seals or hunting equipment                         2\n",
       "Name: Object of search, dtype: int64"
      ]
     },
     "execution_count": 18,
     "metadata": {},
     "output_type": "execute_result"
    }
   ],
   "source": [
    "train_model['Object of search'] = train_model['Object of search'].apply(lambda x: str(x).lower())\n",
    "train_model['Object of search'].value_counts()"
   ]
  },
  {
   "cell_type": "code",
   "execution_count": 19,
   "id": "velvet-bahamas",
   "metadata": {},
   "outputs": [],
   "source": [
    "train_model['station'] = train_model['station'].apply(lambda x: str(x).lower())\n",
    "# train_model['station'].value_counts()"
   ]
  },
  {
   "cell_type": "code",
   "execution_count": null,
   "id": "continent-hydrogen",
   "metadata": {},
   "outputs": [],
   "source": []
  },
  {
   "cell_type": "markdown",
   "id": "soviet-bible",
   "metadata": {},
   "source": [
    "### Latitude and Longitude"
   ]
  },
  {
   "cell_type": "code",
   "execution_count": 20,
   "id": "consistent-bradford",
   "metadata": {},
   "outputs": [
    {
     "name": "stdout",
     "output_type": "stream",
     "text": [
      "count    228038.000000\n",
      "mean         52.511589\n",
      "std           1.133850\n",
      "min          49.892149\n",
      "25%          51.485978\n",
      "50%          52.609826\n",
      "75%          53.422686\n",
      "max          57.143856\n",
      "Name: Latitude, dtype: float64\n"
     ]
    },
    {
     "data": {
      "text/plain": [
       "count    228038.000000\n",
       "mean         -1.343263\n",
       "std           1.365160\n",
       "min          -8.053397\n",
       "25%          -2.599163\n",
       "50%          -1.464553\n",
       "75%          -0.207006\n",
       "max           1.756480\n",
       "Name: Longitude, dtype: float64"
      ]
     },
     "execution_count": 20,
     "metadata": {},
     "output_type": "execute_result"
    }
   ],
   "source": [
    "print(train_model['Latitude'].describe())\n",
    "train_model['Longitude'].describe()"
   ]
  },
  {
   "cell_type": "code",
   "execution_count": 21,
   "id": "similar-course",
   "metadata": {},
   "outputs": [],
   "source": [
    "train_model['Latitude'] = train_model['Longitude'].fillna(0)\n",
    "train_model['Longitude'] = train_model['Longitude'].fillna(0)"
   ]
  },
  {
   "cell_type": "markdown",
   "id": "signal-superior",
   "metadata": {},
   "source": [
    "### Data split"
   ]
  },
  {
   "cell_type": "code",
   "execution_count": 22,
   "id": "configured-rider",
   "metadata": {},
   "outputs": [],
   "source": [
    "df_train, df_test = train_test_split(train_model, test_size=0.3, random_state=42)"
   ]
  },
  {
   "cell_type": "code",
   "execution_count": 23,
   "id": "constant-agenda",
   "metadata": {},
   "outputs": [
    {
     "data": {
      "text/plain": [
       "(213333, 22)"
      ]
     },
     "execution_count": 23,
     "metadata": {},
     "output_type": "execute_result"
    }
   ],
   "source": [
    "df_train.shape"
   ]
  },
  {
   "cell_type": "code",
   "execution_count": 24,
   "id": "advance-effect",
   "metadata": {},
   "outputs": [
    {
     "data": {
      "text/plain": [
       "(91429, 22)"
      ]
     },
     "execution_count": 24,
     "metadata": {},
     "output_type": "execute_result"
    }
   ],
   "source": [
    "df_test.shape"
   ]
  },
  {
   "cell_type": "code",
   "execution_count": 25,
   "id": "bottom-hospital",
   "metadata": {},
   "outputs": [
    {
     "data": {
      "text/plain": [
       "Saturday     34161\n",
       "Friday       33994\n",
       "Thursday     30593\n",
       "Wednesday    30283\n",
       "Tuesday      28674\n",
       "Monday       27828\n",
       "Sunday       27800\n",
       "Name: day_of_week, dtype: int64"
      ]
     },
     "execution_count": 25,
     "metadata": {},
     "output_type": "execute_result"
    }
   ],
   "source": [
    "df_train.day_of_week.value_counts()"
   ]
  },
  {
   "cell_type": "markdown",
   "id": "united-stephen",
   "metadata": {},
   "source": [
    "### Training a baseline model"
   ]
  },
  {
   "cell_type": "code",
   "execution_count": 26,
   "id": "superb-drawing",
   "metadata": {},
   "outputs": [
    {
     "data": {
      "text/plain": [
       "0.5011391761351087"
      ]
     },
     "execution_count": 26,
     "metadata": {},
     "output_type": "execute_result"
    }
   ],
   "source": [
    "all_features = ['Type', 'Part of a policing operation','Latitude', 'Longitude', 'Age range', \n",
    "                'Gender', 'Officer-defined ethnicity', 'Legislation', 'Object of search', 'station', \n",
    "                'hour', 'month', 'day_of_week']\n",
    "\n",
    "numerical_features = ['Latitude', 'Longitude','hour', 'month']\n",
    "\n",
    "categorical_features = ['Type', 'Part of a policing operation', 'Age range',\n",
    "                        'Gender', 'Officer-defined ethnicity',\n",
    "                        'Legislation', 'Object of search', 'station', \n",
    "                        'day_of_week']\n",
    "\n",
    "numeric_transformer = Pipeline(steps=[\n",
    "    ('imputer', SimpleImputer(strategy='median')),\n",
    "    ('scaler', StandardScaler())])\n",
    "\n",
    "categorical_transformer = Pipeline(steps=[\n",
    "    ('imputer', SimpleImputer(strategy='constant', fill_value='missing')),\n",
    "    ('onehot', OneHotEncoder(handle_unknown='ignore'))])\n",
    "\n",
    "preprocessor = ColumnTransformer(\n",
    "    transformers=[\n",
    "        ('num', numeric_transformer, numerical_features),\n",
    "        ('cat', categorical_transformer, categorical_features)])\n",
    "\n",
    "pipeline = make_pipeline(\n",
    "    preprocessor,\n",
    "    LGBMClassifier(random_state=42, n_jobs=-1),\n",
    ")\n",
    "\n",
    "\n",
    "X_train = df_train[all_features]\n",
    "y_train = df_train['target']\n",
    "\n",
    "pipeline.fit(X_train, y_train)\n",
    "\n",
    "X_test = df_test[all_features]\n",
    "y_test = df_test['target']\n",
    "\n",
    "y_pred = pipeline.predict(X_test)\n",
    "y_proba = pipeline.predict_proba(X_test)\n",
    "y_pred_train = pipeline.predict(X_train)\n",
    "\n",
    "# To use on other cells\n",
    "# X_train_baseline = X_train.copy()\n",
    "# X_test_baseline = df_test.copy()\n",
    "# y_test_baseline = X_test_baseline[target].copy()\n",
    "# y_pred_baseline = y_pred.copy()\n",
    "# pipeline_baseline = pipeline\n",
    "\n",
    "roc_auc_score(y_test, y_pred)"
   ]
  },
  {
   "cell_type": "code",
   "execution_count": null,
   "id": "studied-athens",
   "metadata": {},
   "outputs": [],
   "source": []
  },
  {
   "cell_type": "code",
   "execution_count": 51,
   "id": "pleased-hungary",
   "metadata": {},
   "outputs": [],
   "source": [
    "precision, recall, thresholds = precision_recall_curve(y_test, y_proba[:,1])"
   ]
  },
  {
   "cell_type": "code",
   "execution_count": 52,
   "id": "national-camping",
   "metadata": {},
   "outputs": [],
   "source": [
    "precision = precision[:-1]\n",
    "recall = recall[:-1]"
   ]
  },
  {
   "cell_type": "code",
   "execution_count": 53,
   "id": "first-sigma",
   "metadata": {},
   "outputs": [
    {
     "data": {
      "image/png": "[encoded data removed]",
      "text/plain": [
       "<Figure size 432x288 with 2 Axes>"
      ]
     },
     "metadata": {
      "needs_background": "light"
     },
     "output_type": "display_data"
    }
   ],
   "source": [
    "fig=plt.figure()\n",
    "ax1 = plt.subplot(211)\n",
    "ax2 = plt.subplot(212)\n",
    "ax1.hlines(y=0.1,xmin=0, xmax=1, colors='red')\n",
    "ax1.plot(thresholds,precision)\n",
    "ax2.plot(thresholds,recall)\n",
    "ax1.get_shared_x_axes().join(ax1, ax2)\n",
    "ax1.set_xticklabels([])\n",
    "plt.xlabel('Threshold')\n",
    "ax1.set_title('Precision')\n",
    "ax2.set_title('Recall')\n",
    "plt.show()"
   ]
  },
  {
   "cell_type": "code",
   "execution_count": 58,
   "id": "handled-hamburg",
   "metadata": {},
   "outputs": [
    {
     "name": "stdout",
     "output_type": "stream",
     "text": [
      "31405\n"
     ]
    },
    {
     "data": {
      "text/plain": [
       "0.2165418868021659"
      ]
     },
     "execution_count": 58,
     "metadata": {},
     "output_type": "execute_result"
    }
   ],
   "source": [
    "min_index = [i for i, prec in enumerate(precision) if prec > 0.3][0]\n",
    "print(min_index)\n",
    "thresholds[min_index]"
   ]
  },
  {
   "cell_type": "code",
   "execution_count": 59,
   "id": "spectacular-establishment",
   "metadata": {},
   "outputs": [
    {
     "data": {
      "text/plain": [
       "0.30000724480185464"
      ]
     },
     "execution_count": 59,
     "metadata": {},
     "output_type": "execute_result"
    }
   ],
   "source": [
    "precision[min_index]"
   ]
  },
  {
   "cell_type": "code",
   "execution_count": 60,
   "id": "structured-restaurant",
   "metadata": {},
   "outputs": [
    {
     "data": {
      "text/plain": [
       "0.6684063273431615"
      ]
     },
     "execution_count": 60,
     "metadata": {},
     "output_type": "execute_result"
    }
   ],
   "source": [
    "recall[min_index]"
   ]
  },
  {
   "cell_type": "code",
   "execution_count": 61,
   "id": "connected-instrument",
   "metadata": {},
   "outputs": [
    {
     "data": {
      "image/png": "[encoded data removed]",
      "text/plain": [
       "<Figure size 432x288 with 1 Axes>"
      ]
     },
     "metadata": {
      "needs_background": "light"
     },
     "output_type": "display_data"
    }
   ],
   "source": [
    "pd.Series(y_proba[:,1]).hist(bins=20, figsize=(6, 4));\n",
    "# df.hist(column='SubjectAge', bins=20, figsize=(6, 4));"
   ]
  },
  {
   "cell_type": "code",
   "execution_count": 62,
   "id": "capable-olympus",
   "metadata": {},
   "outputs": [],
   "source": [
    "threshold = thresholds[min_index]\n",
    "y_pred_threshold = pd.Series([True if p >= threshold else False for p in y_proba[:,1]]).to_numpy()"
   ]
  },
  {
   "cell_type": "code",
   "execution_count": 40,
   "id": "superior-federation",
   "metadata": {},
   "outputs": [
    {
     "name": "stdout",
     "output_type": "stream",
     "text": [
      "<class 'numpy.ndarray'>\n"
     ]
    },
    {
     "data": {
      "text/plain": [
       "numpy.ndarray"
      ]
     },
     "execution_count": 40,
     "metadata": {},
     "output_type": "execute_result"
    }
   ],
   "source": [
    "print(type(y_pred))\n",
    "type(y_pred_threshold)"
   ]
  },
  {
   "cell_type": "code",
   "execution_count": null,
   "id": "coated-trading",
   "metadata": {},
   "outputs": [],
   "source": []
  },
  {
   "cell_type": "markdown",
   "id": "meaning-garden",
   "metadata": {},
   "source": [
    "#### most important features"
   ]
  },
  {
   "cell_type": "code",
   "execution_count": 53,
   "id": "chicken-collect",
   "metadata": {},
   "outputs": [],
   "source": [
    "# categorical_encode_step = pipeline.named_steps['columntransformer'].named_transformers_['cat'].named_steps['onehot']\n",
    "# random_forest_step = pipeline.named_steps['randomforestclassifier']\n",
    "\n",
    "# onehot_columns = categorical_encode_step.get_feature_names(input_features=categorical_features)\n",
    "\n",
    "# importances = pd.Series(data=random_forest_step.feature_importances_, index = np.array(numerical_features + list(onehot_columns)))\n",
    "\n",
    "# indices = np.argsort(importances)[::-1]\n",
    "# print(\"Feature ranking:\")\n",
    "\n",
    "# for f in range(X_train.shape[1]):\n",
    "#     print(\"%d. feature %s (%f)\" % (f + 1, importances.index[indices[f]], importances[indices[f]]))\n",
    "\n",
    "# std = np.std([tree.feature_importances_ for tree in random_forest_step.estimators_], axis=0)\n",
    "\n",
    "# plt.figure()\n",
    "# plt.title(\"Feature importances\")\n",
    "# plt.bar(x=importances.index[indices], height=importances[indices],\n",
    "#         color=\"r\", yerr=std[indices], align=\"center\");\n",
    "# plt.xticks(range(len(importances.index[indices])), importances.index[indices], rotation=45, ha=\"right\")\n",
    "# plt.xlim([-1, X_train.shape[1]])\n",
    "# plt.xlabel('Features');\n",
    "# plt.ylabel('Importance');\n",
    "\n",
    "# plt.show()"
   ]
  },
  {
   "cell_type": "code",
   "execution_count": null,
   "id": "hearing-duplicate",
   "metadata": {},
   "outputs": [],
   "source": []
  },
  {
   "cell_type": "markdown",
   "id": "twelve-military",
   "metadata": {},
   "source": [
    "## Formalizing client requirements"
   ]
  },
  {
   "cell_type": "code",
   "execution_count": null,
   "id": "every-lithuania",
   "metadata": {},
   "outputs": [],
   "source": []
  },
  {
   "cell_type": "markdown",
   "id": "lesbian-wells",
   "metadata": {},
   "source": [
    "### 1 - Minimum 10% success rate for searches per station and search objective"
   ]
  },
  {
   "cell_type": "code",
   "execution_count": 63,
   "id": "judicial-candidate",
   "metadata": {},
   "outputs": [],
   "source": [
    "def verify_global_success_rate(y_true, y_pred, min_success_rate=0.1):\n",
    "    \"\"\"\n",
    "    Verifies the success rate on a test set is above a provided minimum\n",
    "    \"\"\"\n",
    "    \n",
    "    precision = precision_score(y_true, y_pred, pos_label=True)\n",
    "    is_satisfied = (precision >= min_success_rate)\n",
    "    \n",
    "    recall = recall_score(y_true, y_pred, pos_label=True)\n",
    "    \n",
    "    return is_satisfied, precision, recall"
   ]
  },
  {
   "cell_type": "code",
   "execution_count": 64,
   "id": "empty-teens",
   "metadata": {},
   "outputs": [
    {
     "name": "stdout",
     "output_type": "stream",
     "text": [
      "Global Precision: (True, 0.30000724480185464)\n",
      "Global Recall: 0.6684063273431615\n"
     ]
    }
   ],
   "source": [
    "is_verified, success_rate, recall = verify_global_success_rate(y_test, y_pred_threshold)\n",
    "\n",
    "print(\"Global Precision: {}\".format((is_verified, success_rate)))\n",
    "print(\"Global Recall: {}\".format(recall))"
   ]
  },
  {
   "cell_type": "code",
   "execution_count": 65,
   "id": "parallel-mumbai",
   "metadata": {},
   "outputs": [],
   "source": [
    "def verify_success_rate_objective_station(X_test, y_true, y_pred, sensitive_column='Object of search', \n",
    "                                          min_success_rate=0.1, min_samples=1):\n",
    "    \"\"\"\n",
    "    Verifies that success rate per station and search objective is higher than 10%\n",
    "    \"\"\"\n",
    "    \n",
    "    departments = X_test['station'].unique()\n",
    "    sensitive_classes = X_test[sensitive_column].unique()\n",
    "    \n",
    "    is_satisfied = True\n",
    "    problematic_departments = []\n",
    "    good_deparments = []\n",
    "    ignored_departments = []\n",
    "    for department in departments:\n",
    "        precisions = {}\n",
    "        for sensitive_class in sensitive_classes:\n",
    "            mask = (X_test[sensitive_column] == sensitive_class) & (X_test['station'] == department)\n",
    "            if np.sum(mask) > min_samples:\n",
    "                precisions[sensitive_class] = precision_score(y_true[mask], y_pred[mask], pos_label=1)\n",
    "                \n",
    "        if len(precisions) > 1:    \n",
    "            precision_min = np.min(list(precisions.values()))\n",
    "\n",
    "            if precision_min < min_success_rate:\n",
    "                is_satisfied = False\n",
    "                problematic_departments.append((department, precision_min, precisions))\n",
    "            else:\n",
    "                good_deparments.append((department, precision_min, precisions))\n",
    "        else:\n",
    "            ignored_departments.append((department, None, []))\n",
    "    \n",
    "    global_precisions = {}\n",
    "    for department in departments:\n",
    "        mask = (X_test['station'] == department)\n",
    "        if np.sum(mask) > min_samples:\n",
    "            global_precisions[department] = precision_score(y_true[mask], y_pred[mask])\n",
    "    \n",
    "        \n",
    "    return is_satisfied, problematic_departments, good_deparments, ignored_departments, global_precisions"
   ]
  },
  {
   "cell_type": "code",
   "execution_count": 66,
   "id": "informational-flour",
   "metadata": {},
   "outputs": [
    {
     "name": "stdout",
     "output_type": "stream",
     "text": [
      "Requirement failed 😢\n",
      "Num problematic stations: 39\n",
      "Num good stations: 0\n",
      "Num ignored departments: 0\n",
      "Station rates: {'bedfordshire': 0.30280373831775703, 'hertfordshire': 0.33530571992110453, 'kent': 0.3115942028985507, 'btp': 0.3213545266067726, 'warwickshire': 0.294238683127572, 'staffordshire': 0.29043478260869565, 'leicestershire': 0.36619718309859156, 'derbyshire': 0.33175355450236965, 'cheshire': 0.35051546391752575, 'west-yorkshire': 0.2423654871546292, 'suffolk': 0.2717948717948718, 'hampshire': 0.3029573590096286, 'devon-and-cornwall': 0.30542778288868444, 'south-yorkshire': 0.24065196548418025, 'essex': 0.32204301075268815, 'norfolk': 0.27555555555555555, 'dyfed-powys': 0.5, 'thames-valley': 0.24280575539568344, 'avon-and-somerset': 0.3033419023136247, 'merseyside': 0.2801738010943032, 'northumbria': 0.2785265049415993, 'sussex': 0.2819025522041763, 'surrey': 0.33047735618115054, 'nottinghamshire': 0.3197324414715719, 'city-of-london': 0.3431516936671576, 'west-mercia': 0.296, 'lincolnshire': 0.275, 'lancashire': 0.25297619047619047, 'gloucestershire': 0.3243847874720358, 'northamptonshire': 0.2509157509157509, 'cumbria': 0.30793650793650795, 'north-yorkshire': 0.24074074074074073, 'north-wales': 0.24696356275303644, 'cleveland': 0.32068965517241377, 'dorset': 0.30446927374301674, 'durham': 0.3525091799265606, 'greater-manchester': 0.3051181102362205, 'wiltshire': 0.3522727272727273, 'cambridgeshire': 0.32786885245901637}\n"
     ]
    }
   ],
   "source": [
    "is_satisfied, problematic_departments, good_deparments, ignored_departments, global_precisions = verify_success_rate_objective_station(X_test, y_test, y_pred_threshold)\n",
    "\n",
    "if not is_satisfied:\n",
    "    print(\"Requirement failed 😢\")\n",
    "    print(\"Num problematic stations: {}\".format(len(problematic_departments)))\n",
    "    print(\"Num good stations: {}\".format(len(good_deparments)))\n",
    "    print(\"Num ignored departments: {}\".format(len(ignored_departments)))\n",
    "    print(\"Station rates: {}\".format(global_precisions))\n"
   ]
  },
  {
   "cell_type": "code",
   "execution_count": 67,
   "id": "fatal-estimate",
   "metadata": {
    "collapsed": true
   },
   "outputs": [
    {
     "data": {
      "text/plain": [
       "[('bedfordshire',\n",
       "  0.0,\n",
       "  {'controlled drugs': 0.3060836501901141,\n",
       "   'article for use in theft': 0.0,\n",
       "   'stolen goods': 0.0,\n",
       "   'anything to threaten or harm anyone': 0.0,\n",
       "   'offensive weapons': 1.0,\n",
       "   'fireworks': 0.0,\n",
       "   'articles for use in criminal damage': 0.0,\n",
       "   'firearms': 0.0}),\n",
       " ('hertfordshire',\n",
       "  0.0,\n",
       "  {'controlled drugs': 0.3362589138782227,\n",
       "   'article for use in theft': 0.0,\n",
       "   'stolen goods': 0.3403141361256545,\n",
       "   'offensive weapons': 0.2857142857142857,\n",
       "   'fireworks': 0.0,\n",
       "   'articles for use in criminal damage': 0.0,\n",
       "   'firearms': 0.0,\n",
       "   'game or poaching equipment': 0.0}),\n",
       " ('kent',\n",
       "  0.0,\n",
       "  {'controlled drugs': 0.2961622013034033,\n",
       "   'article for use in theft': 0.0,\n",
       "   'stolen goods': 0.3448275862068966,\n",
       "   'offensive weapons': 0.5,\n",
       "   'articles for use in criminal damage': 0.0,\n",
       "   'firearms': 0.0,\n",
       "   'evidence of offences under the act': 0.0,\n",
       "   'psychoactive substances': 0.34438775510204084}),\n",
       " ('btp',\n",
       "  0.0,\n",
       "  {'controlled drugs': 0.3164128595600677,\n",
       "   'article for use in theft': 0.0,\n",
       "   'stolen goods': 0.358974358974359,\n",
       "   'anything to threaten or harm anyone': 0.0,\n",
       "   'offensive weapons': 0.25,\n",
       "   'articles for use in criminal damage': 0.35714285714285715,\n",
       "   'firearms': 0.0,\n",
       "   'evidence of offences under the act': 0.0,\n",
       "   'psychoactive substances': 0.3333333333333333}),\n",
       " ('warwickshire',\n",
       "  0.0,\n",
       "  {'controlled drugs': 0.2981220657276995,\n",
       "   'article for use in theft': 0.0,\n",
       "   'stolen goods': 0.2631578947368421,\n",
       "   'anything to threaten or harm anyone': 0.0,\n",
       "   'offensive weapons': 0.0,\n",
       "   'articles for use in criminal damage': 0.0,\n",
       "   'firearms': 0.0,\n",
       "   'detailed object of search unavailable': 0.0,\n",
       "   'psychoactive substances': 0.5}),\n",
       " ('staffordshire',\n",
       "  0.0,\n",
       "  {'controlled drugs': 0.3081695966907963,\n",
       "   'article for use in theft': 0.0,\n",
       "   'stolen goods': 0.19672131147540983,\n",
       "   'offensive weapons': 0.0,\n",
       "   'articles for use in criminal damage': 0.0,\n",
       "   'firearms': 0.0}),\n",
       " ('leicestershire',\n",
       "  0.0,\n",
       "  {'controlled drugs': 0.373134328358209,\n",
       "   'article for use in theft': 0.0,\n",
       "   'stolen goods': 1.0,\n",
       "   'offensive weapons': 0.0,\n",
       "   'articles for use in criminal damage': 0.0,\n",
       "   'firearms': 0.0,\n",
       "   'evidence of offences under the act': 0.0,\n",
       "   'psychoactive substances': 0.0}),\n",
       " ('derbyshire',\n",
       "  0.0,\n",
       "  {'controlled drugs': 0.33665835411471323,\n",
       "   'article for use in theft': 0.0,\n",
       "   'stolen goods': 0.25,\n",
       "   'offensive weapons': 0.0,\n",
       "   'articles for use in criminal damage': 0.0,\n",
       "   'firearms': 0.0,\n",
       "   'evidence of offences under the act': 0.0}),\n",
       " ('cheshire',\n",
       "  0.0,\n",
       "  {'controlled drugs': 0.35353535353535354,\n",
       "   'article for use in theft': 0.0,\n",
       "   'stolen goods': 0.34285714285714286,\n",
       "   'offensive weapons': 0.16666666666666666,\n",
       "   'fireworks': 0.0,\n",
       "   'articles for use in criminal damage': 0.0,\n",
       "   'firearms': 0.0}),\n",
       " ('west-yorkshire',\n",
       "  0.0,\n",
       "  {'controlled drugs': 0.24699453551912567,\n",
       "   'article for use in theft': 0.5,\n",
       "   'stolen goods': 0.20212765957446807,\n",
       "   'offensive weapons': 0.2,\n",
       "   'fireworks': 0.0,\n",
       "   'articles for use in criminal damage': 0.0,\n",
       "   'firearms': 0.5,\n",
       "   'evidence of offences under the act': 0.0,\n",
       "   'psychoactive substances': 0.0}),\n",
       " ('suffolk',\n",
       "  0.0,\n",
       "  {'controlled drugs': 0.27932960893854747,\n",
       "   'article for use in theft': 0.0,\n",
       "   'stolen goods': 0.2,\n",
       "   'anything to threaten or harm anyone': 0.0,\n",
       "   'offensive weapons': 0.0,\n",
       "   'articles for use in criminal damage': 0.0,\n",
       "   'firearms': 0.0,\n",
       "   'evidence of offences under the act': 0.0,\n",
       "   'psychoactive substances': 0.14285714285714285}),\n",
       " ('hampshire',\n",
       "  0.0,\n",
       "  {'controlled drugs': 0.3157281553398058,\n",
       "   'article for use in theft': 0.0,\n",
       "   'stolen goods': 0.2042042042042042,\n",
       "   'anything to threaten or harm anyone': 0.0,\n",
       "   'offensive weapons': 0.0,\n",
       "   'articles for use in criminal damage': 0.0,\n",
       "   'firearms': 0.0,\n",
       "   'evidence of offences under the act': 0.0,\n",
       "   'game or poaching equipment': 0.0}),\n",
       " ('devon-and-cornwall',\n",
       "  0.0,\n",
       "  {'controlled drugs': 0.31822759315206445,\n",
       "   'article for use in theft': 0.0,\n",
       "   'stolen goods': 0.17204301075268819,\n",
       "   'offensive weapons': 0.0,\n",
       "   'articles for use in criminal damage': 0.0,\n",
       "   'firearms': 0.0}),\n",
       " ('south-yorkshire',\n",
       "  0.0,\n",
       "  {'controlled drugs': 0.24065196548418025,\n",
       "   'article for use in theft': 0.0,\n",
       "   'stolen goods': 0.0,\n",
       "   'anything to threaten or harm anyone': 0.0,\n",
       "   'offensive weapons': 0.0,\n",
       "   'fireworks': 0.0,\n",
       "   'articles for use in criminal damage': 0.0,\n",
       "   'firearms': 0.0}),\n",
       " ('essex',\n",
       "  0.0,\n",
       "  {'controlled drugs': 0.32230679156908665,\n",
       "   'article for use in theft': 0.0,\n",
       "   'stolen goods': 0.3164983164983165,\n",
       "   'anything to threaten or harm anyone': 0.0,\n",
       "   'offensive weapons': 0.42857142857142855,\n",
       "   'articles for use in criminal damage': 0.0,\n",
       "   'firearms': 0.0,\n",
       "   'evidence of offences under the act': 0.0}),\n",
       " ('norfolk',\n",
       "  0.0,\n",
       "  {'controlled drugs': 0.27555555555555555,\n",
       "   'article for use in theft': 0.0,\n",
       "   'stolen goods': 0.0,\n",
       "   'anything to threaten or harm anyone': 0.0,\n",
       "   'offensive weapons': 0.0,\n",
       "   'articles for use in criminal damage': 0.0,\n",
       "   'firearms': 0.0,\n",
       "   'evidence of offences under the act': 0.0,\n",
       "   'psychoactive substances': 0.0,\n",
       "   'evidence of wildlife offences': 0.0}),\n",
       " ('dyfed-powys',\n",
       "  0.0,\n",
       "  {'controlled drugs': 0.0,\n",
       "   'article for use in theft': 0.0,\n",
       "   'anything to threaten or harm anyone': 0.6666666666666666,\n",
       "   'articles for use in criminal damage': 0.0,\n",
       "   'firearms': 0.0,\n",
       "   'evidence of offences under the act': 0.0}),\n",
       " ('thames-valley',\n",
       "  0.0,\n",
       "  {'controlled drugs': 0.24280575539568344,\n",
       "   'article for use in theft': 0.0,\n",
       "   'stolen goods': 0.0,\n",
       "   'anything to threaten or harm anyone': 0.0,\n",
       "   'offensive weapons': 0.0,\n",
       "   'articles for use in criminal damage': 0.0,\n",
       "   'firearms': 0.0,\n",
       "   'evidence of offences under the act': 0.0}),\n",
       " ('avon-and-somerset',\n",
       "  0.0,\n",
       "  {'controlled drugs': 0.30038022813688214,\n",
       "   'article for use in theft': 0.0,\n",
       "   'stolen goods': 0.35,\n",
       "   'anything to threaten or harm anyone': 0.0,\n",
       "   'offensive weapons': 0.0,\n",
       "   'fireworks': 0.0,\n",
       "   'articles for use in criminal damage': 0.0,\n",
       "   'firearms': 0.0,\n",
       "   'evidence of offences under the act': 0.0,\n",
       "   'psychoactive substances': 1.0}),\n",
       " ('merseyside',\n",
       "  0.0,\n",
       "  {'controlled drugs': 0.2801224226804124,\n",
       "   'article for use in theft': 0.0,\n",
       "   'stolen goods': 0.3333333333333333,\n",
       "   'offensive weapons': 0.0,\n",
       "   'fireworks': 0.0,\n",
       "   'articles for use in criminal damage': 0.0,\n",
       "   'firearms': 0.0,\n",
       "   'evidence of offences under the act': 0.0}),\n",
       " ('northumbria',\n",
       "  0.0,\n",
       "  {'controlled drugs': 0.29620253164556964,\n",
       "   'article for use in theft': 0.0,\n",
       "   'stolen goods': 0.23824451410658307,\n",
       "   'offensive weapons': 0.0,\n",
       "   'fireworks': 0.0,\n",
       "   'articles for use in criminal damage': 0.0,\n",
       "   'firearms': 0.0,\n",
       "   'game or poaching equipment': 0.0}),\n",
       " ('sussex',\n",
       "  0.0,\n",
       "  {'controlled drugs': 0.2846975088967972,\n",
       "   'article for use in theft': 0.0,\n",
       "   'stolen goods': 0.15789473684210525,\n",
       "   'anything to threaten or harm anyone': 0.0,\n",
       "   'offensive weapons': 0.0,\n",
       "   'fireworks': 0.0,\n",
       "   'articles for use in criminal damage': 0.0,\n",
       "   'firearms': 0.0,\n",
       "   'detailed object of search unavailable': 0.0,\n",
       "   'evidence of offences under the act': 0.0}),\n",
       " ('surrey',\n",
       "  0.0,\n",
       "  {'controlled drugs': 0.3312020460358056,\n",
       "   'article for use in theft': 0.0,\n",
       "   'stolen goods': 0.3142857142857143,\n",
       "   'anything to threaten or harm anyone': 0.0,\n",
       "   'offensive weapons': 0.0,\n",
       "   'fireworks': 0.0,\n",
       "   'articles for use in criminal damage': 0.0,\n",
       "   'firearms': 0.0}),\n",
       " ('nottinghamshire',\n",
       "  0.0,\n",
       "  {'controlled drugs': 0.3236914600550964,\n",
       "   'article for use in theft': 0.0,\n",
       "   'stolen goods': 0.18604651162790697,\n",
       "   'offensive weapons': 0.0,\n",
       "   'fireworks': 0.0,\n",
       "   'articles for use in criminal damage': 0.0,\n",
       "   'firearms': 0.0}),\n",
       " ('city-of-london',\n",
       "  0.0,\n",
       "  {'controlled drugs': 0.37243947858473,\n",
       "   'article for use in theft': 0.4,\n",
       "   'stolen goods': 0.1717171717171717,\n",
       "   'anything to threaten or harm anyone': 0.0,\n",
       "   'offensive weapons': 0.6,\n",
       "   'articles for use in criminal damage': 0.0,\n",
       "   'firearms': 0.0,\n",
       "   'evidence of offences under the act': 0.2,\n",
       "   'psychoactive substances': 0.0}),\n",
       " ('west-mercia',\n",
       "  0.0,\n",
       "  {'controlled drugs': 0.29516728624535316,\n",
       "   'article for use in theft': 0.0,\n",
       "   'stolen goods': 0.30115830115830117,\n",
       "   'anything to threaten or harm anyone': 0.0,\n",
       "   'offensive weapons': 0.42857142857142855,\n",
       "   'articles for use in criminal damage': 0.0,\n",
       "   'firearms': 0.0,\n",
       "   'detailed object of search unavailable': 0.0,\n",
       "   'evidence of offences under the act': 1.0,\n",
       "   'psychoactive substances': 0.16666666666666666,\n",
       "   'game or poaching equipment': 1.0}),\n",
       " ('lincolnshire',\n",
       "  0.0,\n",
       "  {'controlled drugs': 0.26628895184135976,\n",
       "   'article for use in theft': 0.0,\n",
       "   'stolen goods': 0.7142857142857143,\n",
       "   'offensive weapons': 0.0,\n",
       "   'articles for use in criminal damage': 0.0,\n",
       "   'firearms': 0.0,\n",
       "   'evidence of offences under the act': 0.0,\n",
       "   'psychoactive substances': 0.0}),\n",
       " ('lancashire',\n",
       "  0.0,\n",
       "  {'controlled drugs': 0.2608695652173913,\n",
       "   'article for use in theft': 0.0,\n",
       "   'stolen goods': 0.07142857142857142,\n",
       "   'offensive weapons': 0.0,\n",
       "   'fireworks': 0.0,\n",
       "   'articles for use in criminal damage': 0.0,\n",
       "   'firearms': 0.0}),\n",
       " ('gloucestershire',\n",
       "  0.0,\n",
       "  {'controlled drugs': 0.3317307692307692,\n",
       "   'article for use in theft': 0.0,\n",
       "   'stolen goods': 0.22580645161290322,\n",
       "   'offensive weapons': 0.0,\n",
       "   'articles for use in criminal damage': 0.0,\n",
       "   'firearms': 0.0,\n",
       "   'game or poaching equipment': 0.0}),\n",
       " ('northamptonshire',\n",
       "  0.0,\n",
       "  {'controlled drugs': 0.2437137330754352,\n",
       "   'article for use in theft': 0.0,\n",
       "   'stolen goods': 0.3793103448275862,\n",
       "   'offensive weapons': 0.0,\n",
       "   'fireworks': 0.0,\n",
       "   'firearms': 0.0,\n",
       "   'evidence of offences under the act': 0.0}),\n",
       " ('cumbria',\n",
       "  0.0,\n",
       "  {'controlled drugs': 0.2893772893772894,\n",
       "   'article for use in theft': 1.0,\n",
       "   'stolen goods': 0.4146341463414634,\n",
       "   'offensive weapons': 0.0,\n",
       "   'fireworks': 0.0,\n",
       "   'articles for use in criminal damage': 0.0,\n",
       "   'firearms': 0.0}),\n",
       " ('north-yorkshire',\n",
       "  0.0,\n",
       "  {'controlled drugs': 0.2231404958677686,\n",
       "   'article for use in theft': 0.0,\n",
       "   'stolen goods': 0.3,\n",
       "   'offensive weapons': 0.0,\n",
       "   'articles for use in criminal damage': 0.0,\n",
       "   'firearms': 0.0}),\n",
       " ('north-wales',\n",
       "  0.0,\n",
       "  {'controlled drugs': 0.24696356275303644,\n",
       "   'article for use in theft': 0.0,\n",
       "   'stolen goods': 0.0,\n",
       "   'offensive weapons': 0.0,\n",
       "   'articles for use in criminal damage': 0.0,\n",
       "   'firearms': 0.0,\n",
       "   'game or poaching equipment': 0.0}),\n",
       " ('cleveland',\n",
       "  0.0,\n",
       "  {'controlled drugs': 0.3133047210300429,\n",
       "   'article for use in theft': 0.0,\n",
       "   'stolen goods': 0.33962264150943394,\n",
       "   'anything to threaten or harm anyone': 1.0,\n",
       "   'offensive weapons': 0.5,\n",
       "   'articles for use in criminal damage': 0.0,\n",
       "   'firearms': 0.0,\n",
       "   'evidence of offences under the act': 0.0}),\n",
       " ('dorset',\n",
       "  0.0,\n",
       "  {'controlled drugs': 0.3057142857142857,\n",
       "   'article for use in theft': 1.0,\n",
       "   'stolen goods': 0.14285714285714285,\n",
       "   'offensive weapons': 0.0,\n",
       "   'articles for use in criminal damage': 0.0,\n",
       "   'firearms': 0.0,\n",
       "   'evidence of offences under the act': 0.0,\n",
       "   'game or poaching equipment': 0.0}),\n",
       " ('durham',\n",
       "  0.0,\n",
       "  {'controlled drugs': 0.36446469248291574,\n",
       "   'article for use in theft': 0.1625,\n",
       "   'stolen goods': 0.46308724832214765,\n",
       "   'offensive weapons': 0.31932773109243695,\n",
       "   'fireworks': 0.0,\n",
       "   'articles for use in criminal damage': 0.2727272727272727,\n",
       "   'firearms': 0.25,\n",
       "   'game or poaching equipment': 0.42857142857142855}),\n",
       " ('greater-manchester',\n",
       "  0.0,\n",
       "  {'controlled drugs': 0.3051181102362205,\n",
       "   'article for use in theft': 0.0,\n",
       "   'stolen goods': 0.0,\n",
       "   'anything to threaten or harm anyone': 0.0,\n",
       "   'offensive weapons': 0.0,\n",
       "   'fireworks': 0.0,\n",
       "   'articles for use in criminal damage': 0.0,\n",
       "   'firearms': 0.0}),\n",
       " ('wiltshire',\n",
       "  0.0,\n",
       "  {'controlled drugs': 0.3522727272727273,\n",
       "   'article for use in theft': 0.0,\n",
       "   'stolen goods': 0.0,\n",
       "   'offensive weapons': 0.0,\n",
       "   'articles for use in criminal damage': 0.0,\n",
       "   'firearms': 0.0,\n",
       "   'evidence of offences under the act': 0.0}),\n",
       " ('cambridgeshire',\n",
       "  0.0,\n",
       "  {'controlled drugs': 0.325,\n",
       "   'article for use in theft': 0.0,\n",
       "   'stolen goods': 0.5,\n",
       "   'offensive weapons': 0.0})]"
      ]
     },
     "execution_count": 67,
     "metadata": {},
     "output_type": "execute_result"
    }
   ],
   "source": [
    "problematic_departments"
   ]
  },
  {
   "cell_type": "code",
   "execution_count": 68,
   "id": "equal-cliff",
   "metadata": {},
   "outputs": [],
   "source": [
    "# mask = (X_test['Object of search'] == 'offensive weapons') & (X_test['station'] == 'bedfordshire')\n",
    "# np.sum(mask)\n",
    "# precision_score(y_test[mask], y_pred[mask])\n",
    "# y_test[mask].value_counts()\n",
    "# pd.Series(y_pred[mask]).value_counts()"
   ]
  },
  {
   "cell_type": "markdown",
   "id": "sweet-stereo",
   "metadata": {},
   "source": [
    "### 2 - No police station should have a discrepancy bigger than 5% between the search success rate between protected classes (ethnicity, gender)"
   ]
  },
  {
   "cell_type": "code",
   "execution_count": 69,
   "id": "informative-safety",
   "metadata": {},
   "outputs": [],
   "source": [
    "def verify_no_discrimination(X_test, y_true, y_pred, sensitive_column, max_diff=0.05, min_samples=30):\n",
    "    \"\"\"\n",
    "    Verifies that no station has discrimination in between protected classes\n",
    "    \"\"\"\n",
    "    \n",
    "    departments = X_test['station'].unique()\n",
    "    sensitive_classes = X_test[sensitive_column].unique()\n",
    "    \n",
    "    is_satisfied = True\n",
    "    problematic_departments = []\n",
    "    good_deparments = []\n",
    "    ignored_departments = []\n",
    "    for department in departments:\n",
    "        precisions = {}\n",
    "        for sensitive_class in sensitive_classes:\n",
    "            mask = (X_test[sensitive_column] == sensitive_class) & (X_test['station'] == department)\n",
    "            if np.sum(mask) > min_samples:\n",
    "                precisions[sensitive_class] = precision_score(y_true[mask], y_pred[mask], pos_label=True)\n",
    "                \n",
    "        if len(precisions) > 1:    \n",
    "            diff = np.max(list(precisions.values())) - np.min(list(precisions.values()))\n",
    "\n",
    "            if diff > max_diff:\n",
    "                is_satisfied = False\n",
    "                problematic_departments.append((department, diff, precisions))\n",
    "            else:\n",
    "                good_deparments.append((department, diff, precisions))\n",
    "        else:\n",
    "            ignored_departments.append((department, None, []))\n",
    "    \n",
    "    global_precisions = {}\n",
    "    for sensitive_class in sensitive_classes:\n",
    "        mask = (X_test[sensitive_column] == sensitive_class)\n",
    "        if np.sum(mask) > min_samples:\n",
    "            global_precisions[sensitive_class] = precision_score(y_true[mask], y_pred[mask], pos_label=True)\n",
    "    \n",
    "    if len(precisions) > 1:    \n",
    "        diff = np.max(list(precisions.values())) - np.min(list(precisions.values()))\n",
    "        if diff > max_diff:\n",
    "            is_satisfied = False\n",
    "        \n",
    "    return is_satisfied, problematic_departments, good_deparments, ignored_departments, global_precisions\n"
   ]
  },
  {
   "cell_type": "code",
   "execution_count": 70,
   "id": "nasty-knitting",
   "metadata": {},
   "outputs": [
    {
     "name": "stdout",
     "output_type": "stream",
     "text": [
      "\n",
      "Ethnicity\n",
      "Requirement failed 😢\n",
      "Global rates: {'Black': 0.30540120026672596, 'White': 0.3010148660811272, 'Other': 0.2692307692307692, 'Asian': 0.29012170959524486, 'Mixed': 0.31543624161073824}\n",
      "Num problematic departments: 32\n",
      "Num good departments: 3\n",
      "Num ignored departments: 4\n",
      "avg diff: 0.13139236469046284\n",
      "\n",
      "\n",
      "Gender\n",
      "Requirement failed 😢\n",
      "Global rates: {'Male': 0.30151151441610174, 'Female': 0.2825021620063419, 'Other': 0.41935483870967744}\n",
      "Num problematic departments: 18\n",
      "Num good departments: 21\n",
      "Num ignored departments: 0\n",
      "avg diff: 0.17564872625900235\n"
     ]
    }
   ],
   "source": [
    "is_satisfied, problematic_departments, good_deparments, ignored_departments, global_precisions = verify_no_discrimination(\n",
    "    df_test, y_test, y_pred_threshold, 'Officer-defined ethnicity', 0.05)\n",
    "\n",
    "print(\"\\nEthnicity\")\n",
    "\n",
    "if not is_satisfied:\n",
    "    print(\"Requirement failed 😢\")\n",
    "    print(\"Global rates: {}\".format(global_precisions))\n",
    "    print(\"Num problematic departments: {}\".format(len(problematic_departments)))\n",
    "    print(\"Num good departments: {}\".format(len(good_deparments)))\n",
    "    print(\"Num ignored departments: {}\".format(len(ignored_departments)))\n",
    "\n",
    "    print(\"avg diff:\", np.mean([p[1] for p in problematic_departments]))\n",
    "    \n",
    "    \n",
    "is_satisfied, problematic_departments, good_deparments, ignored_departments, global_precisions = verify_no_discrimination(\n",
    "    df_test, y_test, y_pred_threshold, 'Gender', 0.05)\n",
    "\n",
    "print(\"\\n\\nGender\")\n",
    "\n",
    "if not is_satisfied:\n",
    "    print(\"Requirement failed 😢\")\n",
    "    print(\"Global rates: {}\".format(global_precisions))\n",
    "    print(\"Num problematic departments: {}\".format(len(problematic_departments)))\n",
    "    print(\"Num good departments: {}\".format(len(good_deparments)))\n",
    "    print(\"Num ignored departments: {}\".format(len(ignored_departments)))\n",
    "    \n",
    "    print(\"avg diff:\", np.mean([p[1] for p in problematic_departments]))"
   ]
  },
  {
   "cell_type": "markdown",
   "id": "isolated-oxford",
   "metadata": {},
   "source": [
    "### 3 - No police station should have a discrepancy bigger than x% between the Removal of more than just outer clothing rate between protected classes (age, ethnicity, gender)"
   ]
  },
  {
   "cell_type": "code",
   "execution_count": 71,
   "id": "minus-maximum",
   "metadata": {},
   "outputs": [],
   "source": [
    "def verify_removal_clothing(X_test, y_true, y_pred, sensitive_column, max_diff, min_samples=30):\n",
    "    \"\"\"\n",
    "    Verifies that no station has discrepancy Removal of more than just outer clothing rate between \n",
    "    protected classes (age, ethnicity, gender)\n",
    "    \"\"\"\n",
    "    \n",
    "    departments = X_test['station'].unique()\n",
    "    sensitive_classes = X_test[sensitive_column].unique()\n",
    "    \n",
    "    is_satisfied = True\n",
    "    problematic_departments = []\n",
    "    good_deparments = []\n",
    "    ignored_departments = []\n",
    "    for department in departments:\n",
    "        removal_rate = {}\n",
    "        for sensitive_class in sensitive_classes:\n",
    "            mask = (X_test[sensitive_column] == sensitive_class) & (X_test['station'] == department) & (y_pred == True)\n",
    "            if np.sum(mask) > min_samples:\n",
    "                removal_rate[sensitive_class] = (np.sum(X_test[mask]['Removal of more than just outer clothing']==True))/(X_test[mask]['Removal of more than just outer clothing'].shape[0])\n",
    "                \n",
    "        if len(removal_rate) > 1:    \n",
    "            diff = np.max(list(removal_rate.values())) - np.min(list(removal_rate.values()))\n",
    "\n",
    "            if diff > max_diff:\n",
    "                is_satisfied = False\n",
    "                problematic_departments.append((department, diff, removal_rate))\n",
    "            else:\n",
    "                good_deparments.append((department, diff, removal_rate))\n",
    "        else:\n",
    "            ignored_departments.append((department, None, []))\n",
    "    \n",
    "    global_removal_rate = {}\n",
    "    for sensitive_class in sensitive_classes:\n",
    "        mask = (X_test[sensitive_column] == sensitive_class) & (y_pred == True)\n",
    "        if np.sum(mask) > min_samples:\n",
    "            global_removal_rate[sensitive_class] = (np.sum(X_test[mask]['Removal of more than just outer clothing']==True))/(X_test[mask]['Removal of more than just outer clothing'].shape[0])\n",
    "    \n",
    "#     if len(precisions) > 1:    \n",
    "#         diff = np.max(list(precisions.values())) - np.min(list(precisions.values()))\n",
    "#         if diff > max_diff:\n",
    "#             is_satisfied = False\n",
    "        \n",
    "    return is_satisfied, problematic_departments, good_deparments, ignored_departments, global_removal_rate\n"
   ]
  },
  {
   "cell_type": "code",
   "execution_count": 72,
   "id": "precious-hostel",
   "metadata": {},
   "outputs": [
    {
     "name": "stdout",
     "output_type": "stream",
     "text": [
      "\n",
      "Gender\n",
      "Requirement failed 😢\n",
      "Global rates: {'Male': 0.05017278218892611, 'Female': 0.0403574517151917, 'Other': 0.03225806451612903}\n",
      "Num problematic departments: 3\n",
      "Num good departments: 24\n",
      "Num ignored departments: 12\n",
      "avg diff: 0.07373266560611867\n",
      "\n",
      "\n",
      "Age range\n",
      "Requirement failed 😢\n",
      "Global rates: {'10-17': 0.02891156462585034, '25-34': 0.05433986821768486, 'over 34': 0.046877795670066204, '18-24': 0.04995622142231734}\n",
      "Num problematic departments: 13\n",
      "Num good departments: 23\n",
      "Num ignored departments: 3\n",
      "avg diff: 0.0808177895122463\n",
      "\n",
      "\n",
      "Ethnicity\n",
      "Requirement failed 😢\n",
      "Global rates: {'Black': 0.11758168481884863, 'White': 0.038360075727010334, 'Other': 0.047785547785547784, 'Asian': 0.06028870648174356, 'Mixed': 0.08053691275167785}\n",
      "Num problematic departments: 17\n",
      "Num good departments: 11\n",
      "Num ignored departments: 11\n",
      "avg diff: 0.13151276547916702\n"
     ]
    }
   ],
   "source": [
    "is_satisfied, problematic_departments, good_deparments, ignored_departments, global_removal_rate = verify_removal_clothing(\n",
    "    df_test, y_test, y_pred_threshold, 'Gender', 0.05)\n",
    "\n",
    "print(\"\\nGender\")\n",
    "\n",
    "if not is_satisfied:\n",
    "    print(\"Requirement failed 😢\")\n",
    "    print(\"Global rates: {}\".format(global_removal_rate))\n",
    "    print(\"Num problematic departments: {}\".format(len(problematic_departments)))\n",
    "    print(\"Num good departments: {}\".format(len(good_deparments)))\n",
    "    print(\"Num ignored departments: {}\".format(len(ignored_departments)))\n",
    "    \n",
    "    print(\"avg diff:\", np.mean([p[1] for p in problematic_departments]))\n",
    "    \n",
    "    \n",
    "is_satisfied, problematic_departments, good_deparments, ignored_departments, global_removal_rate = verify_removal_clothing(\n",
    "    df_test, y_test, y_pred_threshold, 'Age range', 0.05)\n",
    "\n",
    "print(\"\\n\\nAge range\")\n",
    "\n",
    "if not is_satisfied:\n",
    "    print(\"Requirement failed 😢\")\n",
    "    print(\"Global rates: {}\".format(global_removal_rate))\n",
    "    print(\"Num problematic departments: {}\".format(len(problematic_departments)))\n",
    "    print(\"Num good departments: {}\".format(len(good_deparments)))\n",
    "    print(\"Num ignored departments: {}\".format(len(ignored_departments)))\n",
    "    \n",
    "    print(\"avg diff:\", np.mean([p[1] for p in problematic_departments]))\n",
    "    \n",
    "    \n",
    "is_satisfied, problematic_departments, good_deparments, ignored_departments, global_removal_rate = verify_removal_clothing(\n",
    "    df_test, y_test, y_pred_threshold, 'Officer-defined ethnicity', 0.05)\n",
    "\n",
    "print(\"\\n\\nEthnicity\")\n",
    "\n",
    "if not is_satisfied:\n",
    "    print(\"Requirement failed 😢\")\n",
    "    print(\"Global rates: {}\".format(global_removal_rate))\n",
    "    print(\"Num problematic departments: {}\".format(len(problematic_departments)))\n",
    "    print(\"Num good departments: {}\".format(len(good_deparments)))\n",
    "    print(\"Num ignored departments: {}\".format(len(ignored_departments)))\n",
    "    \n",
    "    print(\"avg diff:\", np.mean([p[1] for p in problematic_departments]))"
   ]
  },
  {
   "cell_type": "code",
   "execution_count": null,
   "id": "ordered-cleaning",
   "metadata": {},
   "outputs": [],
   "source": []
  },
  {
   "cell_type": "code",
   "execution_count": null,
   "id": "distributed-baking",
   "metadata": {},
   "outputs": [],
   "source": []
  },
  {
   "cell_type": "code",
   "execution_count": null,
   "id": "moving-treatment",
   "metadata": {},
   "outputs": [],
   "source": []
  },
  {
   "cell_type": "code",
   "execution_count": null,
   "id": "critical-captain",
   "metadata": {},
   "outputs": [],
   "source": []
  },
  {
   "cell_type": "code",
   "execution_count": 123,
   "id": "indian-parking",
   "metadata": {},
   "outputs": [],
   "source": []
  },
  {
   "cell_type": "code",
   "execution_count": null,
   "id": "dependent-federal",
   "metadata": {},
   "outputs": [],
   "source": []
  },
  {
   "cell_type": "code",
   "execution_count": null,
   "id": "extra-madonna",
   "metadata": {},
   "outputs": [],
   "source": []
  },
  {
   "cell_type": "code",
   "execution_count": null,
   "id": "aggregate-nursing",
   "metadata": {},
   "outputs": [],
   "source": []
  }
 ],
 "metadata": {
  "kernelspec": {
   "display_name": "Python 3",
   "language": "python",
   "name": "python3"
  },
  "language_info": {
   "codemirror_mode": {
    "name": "ipython",
    "version": 3
   },
   "file_extension": ".py",
   "mimetype": "text/x-python",
   "name": "python",
   "nbconvert_exporter": "python",
   "pygments_lexer": "ipython3",
   "version": "3.6.9"
  }
 },
 "nbformat": 4,
 "nbformat_minor": 5
}
