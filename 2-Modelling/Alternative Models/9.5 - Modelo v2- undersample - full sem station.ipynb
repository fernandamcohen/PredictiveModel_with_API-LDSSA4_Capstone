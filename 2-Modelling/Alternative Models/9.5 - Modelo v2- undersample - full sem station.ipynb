{
 "cells": [
  {
   "cell_type": "code",
   "execution_count": 1,
   "id": "bronze-happiness",
   "metadata": {},
   "outputs": [],
   "source": [
    "import json\n",
    "import joblib\n",
    "import pickle\n",
    "import pandas as pd\n",
    "import numpy as np\n",
    "# import seaborn as sns\n",
    "from sklearn.model_selection import train_test_split\n",
    "from sklearn.pipeline import make_pipeline, Pipeline\n",
    "from sklearn.impute import SimpleImputer\n",
    "from sklearn.preprocessing import StandardScaler, OneHotEncoder\n",
    "from sklearn.compose import ColumnTransformer\n",
    "from sklearn.ensemble import RandomForestClassifier\n",
    "from sklearn.metrics import precision_score, recall_score, roc_auc_score\n",
    "from sklearn.metrics import precision_recall_curve\n",
    "\n",
    "import matplotlib.pyplot as plt\n",
    "import matplotlib.image as mpimg\n",
    "%matplotlib inline\n",
    "\n",
    "import warnings\n",
    "warnings.filterwarnings('ignore')\n",
    "\n",
    "import imblearn\n",
    "\n",
    "from imblearn.under_sampling import RandomUnderSampler\n",
    "from imblearn.over_sampling import RandomOverSampler\n"
   ]
  },
  {
   "cell_type": "markdown",
   "id": "regional-notification",
   "metadata": {},
   "source": [
    "### Import dataset"
   ]
  },
  {
   "cell_type": "code",
   "execution_count": 2,
   "id": "orange-vanilla",
   "metadata": {},
   "outputs": [],
   "source": [
    "train = pd.read_csv('data/train.csv')"
   ]
  },
  {
   "cell_type": "code",
   "execution_count": 3,
   "id": "concerned-auckland",
   "metadata": {},
   "outputs": [
    {
     "data": {
      "text/plain": [
       "False    660611\n",
       "dtype: int64"
      ]
     },
     "execution_count": 3,
     "metadata": {},
     "output_type": "execute_result"
    }
   ],
   "source": [
    "# no duplicate lines\n",
    "train.duplicated().value_counts()"
   ]
  },
  {
   "cell_type": "code",
   "execution_count": 4,
   "id": "legendary-lemon",
   "metadata": {},
   "outputs": [
    {
     "data": {
      "text/plain": [
       "False    660611\n",
       "Name: observation_id, dtype: int64"
      ]
     },
     "execution_count": 4,
     "metadata": {},
     "output_type": "execute_result"
    }
   ],
   "source": [
    "# no duplicate observation_id\n",
    "train['observation_id'].duplicated().value_counts()"
   ]
  },
  {
   "cell_type": "markdown",
   "id": "later-eugene",
   "metadata": {},
   "source": [
    "### Features adjustments"
   ]
  },
  {
   "cell_type": "code",
   "execution_count": 5,
   "id": "handmade-collector",
   "metadata": {},
   "outputs": [],
   "source": [
    "# transforming Date column in datetime\n",
    "train['Date']=pd.to_datetime(train['Date'], infer_datetime_format=True)\n",
    "\n",
    "# auxiliar Date feature (for temporal analyzis)\n",
    "train['referencia'] = train['Date'].dt.year*100 + train['Date'].dt.month\n",
    "\n",
    "# according to Dr Wilson's instructions: \n",
    "# \"If there was a search and the outcome linked to object of search has not been written please consider it to be False\"\n",
    "train['Outcome linked to object of search'] = train['Outcome linked to object of search'].fillna(False)\n",
    "\n",
    "# according to Dr Wilson's instructions missing values means False \n",
    "train['Part of a policing operation'] = train['Part of a policing operation'].fillna(False)\n",
    "\n",
    "# Outer clothing be filled with False? \n",
    "#Yes, except when it’s just a vehicle search, in which case it makes no sense and should be kept as NaN\n",
    "# mask= ((train['Type']!='Vehicle search') & \n",
    "#       (train['Removal of more than just outer clothing'] != True) &\n",
    "#       (train['Removal of more than just outer clothing'] != False))\n",
    "\n",
    "# train.loc[mask, 'Removal of more than just outer clothing']=False\n",
    "\n",
    "train['Removal of more than just outer clothing'] = train['Removal of more than just outer clothing'].fillna(False)"
   ]
  },
  {
   "cell_type": "markdown",
   "id": "living-shell",
   "metadata": {},
   "source": [
    "### Filtering / Exclusions"
   ]
  },
  {
   "cell_type": "code",
   "execution_count": 6,
   "id": "according-bench",
   "metadata": {},
   "outputs": [],
   "source": [
    "# The Metropolitan station (which is very large and has lots of data in the training set) has the features \n",
    "# Outcome linked to object of search and Removal of outer clothing without any data (always missing). \n",
    "# Is this a known problem, and if so how should we proceed? \n",
    "# Thank you for bringing this to our attention, I’ve contacted the administration at the Metropolitan and asked that \n",
    "# they fix their data entry. Please include this in your report, and do not use the Metropolitan station’s data \n",
    "# for training your models. They will not be in the test set. "
   ]
  },
  {
   "cell_type": "code",
   "execution_count": 7,
   "id": "continuous-tourist",
   "metadata": {},
   "outputs": [],
   "source": [
    "# Gwent and Humberside have the same problem of Metropolitan. So I will exclude this observations\n",
    "# dyfed-powys has 1.9% sucess rate, what is very low, so it will exclude for modeling proposes"
   ]
  },
  {
   "cell_type": "code",
   "execution_count": 8,
   "id": "dynamic-custom",
   "metadata": {},
   "outputs": [
    {
     "name": "stdout",
     "output_type": "stream",
     "text": [
      "Exclusion of 360164 observations\n"
     ]
    },
    {
     "data": {
      "text/plain": [
       "(300447, 17)"
      ]
     },
     "execution_count": 8,
     "metadata": {},
     "output_type": "execute_result"
    }
   ],
   "source": [
    "stations_to_exclude = ['metropolitan', 'gwent', 'humberside', 'dyfed-powys']\n",
    "train_model = train[~train['station'].isin(stations_to_exclude)]\n",
    "print(\"Exclusion of {} observations\".format(train[train['station'].isin(stations_to_exclude)]['observation_id'].nunique()))\n",
    "train_model.shape"
   ]
  },
  {
   "cell_type": "code",
   "execution_count": 9,
   "id": "honest-portrait",
   "metadata": {},
   "outputs": [],
   "source": [
    "# Search on individuals with less than 10 years seems unrealist, so I will remove it"
   ]
  },
  {
   "cell_type": "code",
   "execution_count": 10,
   "id": "focal-daisy",
   "metadata": {},
   "outputs": [],
   "source": [
    "# age_to_exclude = ['under 10']\n",
    "# print(\"Exclusion of {} observations\".format(train_model[train_model['Age range'].isin(age_to_exclude)]['observation_id'].nunique()))\n",
    "# train_model = train_model[~train_model['Age range'].isin(age_to_exclude)]\n",
    "# train_model.shape"
   ]
  },
  {
   "cell_type": "markdown",
   "id": "ethical-literature",
   "metadata": {},
   "source": [
    "### Target"
   ]
  },
  {
   "cell_type": "code",
   "execution_count": 11,
   "id": "acting-system",
   "metadata": {},
   "outputs": [],
   "source": [
    "positive_outcome = ['Local resolution',\n",
    "           'Community resolution',\n",
    "           'Arrest',\n",
    "           'Article found - Detailed outcome unavailable',\n",
    "           'Caution (simple or conditional)',\n",
    "           'Khat or Cannabis warning',\n",
    "           'Offender cautioned',\n",
    "           'Offender given drugs possession warning',\n",
    "           'Offender given penalty notice',\n",
    "           'Penalty Notice for Disorder',\n",
    "           'Summons / charged by post',\n",
    "           'Suspect arrested',\n",
    "           'Suspect summonsed to court',\n",
    "           'Suspected psychoactive substances seized - No further action']\n",
    "\n",
    "train_model['positive_outcome'] = train_model['Outcome'].isin(positive_outcome)"
   ]
  },
  {
   "cell_type": "code",
   "execution_count": 12,
   "id": "speaking-jacksonville",
   "metadata": {},
   "outputs": [],
   "source": [
    "train_model['target'] = 0\n",
    "mask=((train_model[\"positive_outcome\"] == True) & (train_model[\"Outcome linked to object of search\"]==True))\n",
    "train_model.loc[mask, 'target']=1"
   ]
  },
  {
   "cell_type": "code",
   "execution_count": 13,
   "id": "periodic-implementation",
   "metadata": {},
   "outputs": [
    {
     "data": {
      "text/html": [
       "<div>\n",
       "<style scoped>\n",
       "    .dataframe tbody tr th:only-of-type {\n",
       "        vertical-align: middle;\n",
       "    }\n",
       "\n",
       "    .dataframe tbody tr th {\n",
       "        vertical-align: top;\n",
       "    }\n",
       "\n",
       "    .dataframe thead th {\n",
       "        text-align: right;\n",
       "    }\n",
       "</style>\n",
       "<table border=\"1\" class=\"dataframe\">\n",
       "  <thead>\n",
       "    <tr style=\"text-align: right;\">\n",
       "      <th>Outcome linked to object of search</th>\n",
       "      <th>False</th>\n",
       "      <th>True</th>\n",
       "      <th>Total</th>\n",
       "    </tr>\n",
       "    <tr>\n",
       "      <th>positive_outcome</th>\n",
       "      <th></th>\n",
       "      <th></th>\n",
       "      <th></th>\n",
       "    </tr>\n",
       "  </thead>\n",
       "  <tbody>\n",
       "    <tr>\n",
       "      <th>False</th>\n",
       "      <td>172092</td>\n",
       "      <td>37859</td>\n",
       "      <td>209951</td>\n",
       "    </tr>\n",
       "    <tr>\n",
       "      <th>True</th>\n",
       "      <td>28291</td>\n",
       "      <td>62205</td>\n",
       "      <td>90496</td>\n",
       "    </tr>\n",
       "    <tr>\n",
       "      <th>Total</th>\n",
       "      <td>200383</td>\n",
       "      <td>100064</td>\n",
       "      <td>300447</td>\n",
       "    </tr>\n",
       "  </tbody>\n",
       "</table>\n",
       "</div>"
      ],
      "text/plain": [
       "Outcome linked to object of search   False    True   Total\n",
       "positive_outcome                                          \n",
       "False                               172092   37859  209951\n",
       "True                                 28291   62205   90496\n",
       "Total                               200383  100064  300447"
      ]
     },
     "execution_count": 13,
     "metadata": {},
     "output_type": "execute_result"
    }
   ],
   "source": [
    "pd.crosstab(train_model[\"positive_outcome\"],train_model[\"Outcome linked to object of search\"],\n",
    "            margins=True, margins_name=\"Total\",dropna=False)"
   ]
  },
  {
   "cell_type": "code",
   "execution_count": 14,
   "id": "indian-helen",
   "metadata": {},
   "outputs": [
    {
     "name": "stdout",
     "output_type": "stream",
     "text": [
      "0    238242\n",
      "1     62205\n",
      "Name: target, dtype: int64\n"
     ]
    },
    {
     "data": {
      "text/plain": [
       "0    0.792958\n",
       "1    0.207042\n",
       "Name: target, dtype: float64"
      ]
     },
     "execution_count": 14,
     "metadata": {},
     "output_type": "execute_result"
    }
   ],
   "source": [
    "print(train_model['target'].value_counts(dropna=False))\n",
    "train_model['target'].value_counts(dropna=False,normalize=True)"
   ]
  },
  {
   "cell_type": "code",
   "execution_count": 15,
   "id": "wrong-trick",
   "metadata": {},
   "outputs": [],
   "source": [
    "# print(train_model['positive_outcome'].value_counts(dropna=False))\n",
    "# train_model['positive_outcome'].value_counts(dropna=False,normalize=True)\n",
    "# pd.crosstab(train_model[\"referencia\"],train_model[\"target\"],normalize='index')\n",
    "# pd.crosstab(train_model[\"Gender\"],train_model[\"target\"],normalize='index')\n",
    "# pd.crosstab(train_model[\"station\"],train_model[\"target\"],normalize='index')\n",
    "# pd.crosstab(train_model[\"station\"],train_model[\"positive_outcome\"],normalize='index')"
   ]
  },
  {
   "cell_type": "markdown",
   "id": "molecular-clear",
   "metadata": {},
   "source": [
    "### Feature engineering"
   ]
  },
  {
   "cell_type": "code",
   "execution_count": 16,
   "id": "related-premium",
   "metadata": {},
   "outputs": [],
   "source": [
    "# get the hour and day of the week, maybe they will be useful \n",
    "train_model['hour'] = train_model['Date'].dt.hour\n",
    "train_model['month'] = train_model['Date'].dt.month\n",
    "train_model['day_of_week'] = train_model['Date'].dt.day_name()"
   ]
  },
  {
   "cell_type": "code",
   "execution_count": 17,
   "id": "portable-rating",
   "metadata": {},
   "outputs": [
    {
     "data": {
      "text/plain": [
       "misuse of drugs act 1971 (section 23)                      175438\n",
       "police and criminal evidence act 1984 (section 1)           91781\n",
       "missing infomation                                          27669\n",
       "criminal justice and public order act 1994 (section 60)      2670\n",
       "firearms act 1968 (section 47)                               1830\n",
       "others                                                       1059\n",
       "Name: Legislation, dtype: int64"
      ]
     },
     "execution_count": 17,
     "metadata": {},
     "output_type": "execute_result"
    }
   ],
   "source": [
    "# Legislation - reducing the quantity of categories\n",
    "# train_model.groupby(['Legislation','target'], dropna=False)['Outcome'].count().unstack()\n",
    "\n",
    "train_model['Legislation']=train_model['Legislation'].fillna('missing infomation')\n",
    "train_model['Legislation'] = train_model['Legislation'].apply(lambda x: str(x).lower())\n",
    "\n",
    "legislation_categories = ['misuse of drugs act 1971 (section 23)', 'police and criminal evidence act 1984 (section 1)', \n",
    "                          'criminal justice and public order act 1994 (section 60)', 'firearms act 1968 (section 47)'\n",
    "                          ,'missing infomation'\n",
    "                         ]\n",
    "\n",
    "mask=(~train_model['Legislation'].isin(legislation_categories))\n",
    "train_model.loc[mask, 'Legislation']='others'\n",
    "\n",
    "train_model['Legislation'].value_counts()"
   ]
  },
  {
   "cell_type": "markdown",
   "id": "prostate-jaguar",
   "metadata": {},
   "source": [
    "### Text Data normalization"
   ]
  },
  {
   "cell_type": "code",
   "execution_count": 18,
   "id": "unknown-forest",
   "metadata": {},
   "outputs": [],
   "source": [
    "train_model['Object of search'] = train_model['Object of search'].apply(lambda x: str(x).lower())\n",
    "# train_model['Object of search'].value_counts()"
   ]
  },
  {
   "cell_type": "code",
   "execution_count": 19,
   "id": "celtic-gothic",
   "metadata": {},
   "outputs": [],
   "source": [
    "train_model['station'] = train_model['station'].apply(lambda x: str(x).lower())\n",
    "# train_model['station'].value_counts()"
   ]
  },
  {
   "cell_type": "code",
   "execution_count": 20,
   "id": "partial-oxygen",
   "metadata": {},
   "outputs": [],
   "source": [
    "train_model['Type'] = train_model['Type'].apply(lambda x: str(x).lower())"
   ]
  },
  {
   "cell_type": "code",
   "execution_count": 21,
   "id": "global-genealogy",
   "metadata": {},
   "outputs": [],
   "source": [
    "train_model['Age range'] = train_model['Age range'].apply(lambda x: str(x).lower())"
   ]
  },
  {
   "cell_type": "code",
   "execution_count": 22,
   "id": "tropical-colonial",
   "metadata": {},
   "outputs": [],
   "source": [
    "train_model['Gender'] = train_model['Gender'].apply(lambda x: str(x).lower())"
   ]
  },
  {
   "cell_type": "code",
   "execution_count": 23,
   "id": "formal-concern",
   "metadata": {},
   "outputs": [],
   "source": [
    "train_model['Officer-defined ethnicity'] = train_model['Officer-defined ethnicity'].apply(lambda x: str(x).lower())"
   ]
  },
  {
   "cell_type": "code",
   "execution_count": 24,
   "id": "sustainable-services",
   "metadata": {},
   "outputs": [
    {
     "data": {
      "text/html": [
       "<div>\n",
       "<style scoped>\n",
       "    .dataframe tbody tr th:only-of-type {\n",
       "        vertical-align: middle;\n",
       "    }\n",
       "\n",
       "    .dataframe tbody tr th {\n",
       "        vertical-align: top;\n",
       "    }\n",
       "\n",
       "    .dataframe thead th {\n",
       "        text-align: right;\n",
       "    }\n",
       "</style>\n",
       "<table border=\"1\" class=\"dataframe\">\n",
       "  <thead>\n",
       "    <tr style=\"text-align: right;\">\n",
       "      <th></th>\n",
       "      <th>observation_id</th>\n",
       "      <th>Type</th>\n",
       "      <th>Date</th>\n",
       "      <th>Part of a policing operation</th>\n",
       "      <th>Latitude</th>\n",
       "      <th>Longitude</th>\n",
       "      <th>Gender</th>\n",
       "      <th>Age range</th>\n",
       "      <th>Self-defined ethnicity</th>\n",
       "      <th>Officer-defined ethnicity</th>\n",
       "      <th>...</th>\n",
       "      <th>Outcome</th>\n",
       "      <th>Outcome linked to object of search</th>\n",
       "      <th>Removal of more than just outer clothing</th>\n",
       "      <th>station</th>\n",
       "      <th>referencia</th>\n",
       "      <th>positive_outcome</th>\n",
       "      <th>target</th>\n",
       "      <th>hour</th>\n",
       "      <th>month</th>\n",
       "      <th>day_of_week</th>\n",
       "    </tr>\n",
       "  </thead>\n",
       "  <tbody>\n",
       "    <tr>\n",
       "      <th>0</th>\n",
       "      <td>34d76816-cfc2-4bdd-b3a2-bf0c40b12689</td>\n",
       "      <td>person search</td>\n",
       "      <td>2019-12-01 00:00:00+00:00</td>\n",
       "      <td>True</td>\n",
       "      <td>NaN</td>\n",
       "      <td>NaN</td>\n",
       "      <td>male</td>\n",
       "      <td>18-24</td>\n",
       "      <td>Asian/Asian British - Any other Asian background</td>\n",
       "      <td>asian</td>\n",
       "      <td>...</td>\n",
       "      <td>A no further action disposal</td>\n",
       "      <td>False</td>\n",
       "      <td>False</td>\n",
       "      <td>devon-and-cornwall</td>\n",
       "      <td>201912</td>\n",
       "      <td>False</td>\n",
       "      <td>0</td>\n",
       "      <td>0</td>\n",
       "      <td>12</td>\n",
       "      <td>Sunday</td>\n",
       "    </tr>\n",
       "    <tr>\n",
       "      <th>1</th>\n",
       "      <td>83c87ec1-e6d4-4bbb-8e0c-159516706359</td>\n",
       "      <td>person search</td>\n",
       "      <td>2019-12-01 00:09:00+00:00</td>\n",
       "      <td>True</td>\n",
       "      <td>NaN</td>\n",
       "      <td>NaN</td>\n",
       "      <td>male</td>\n",
       "      <td>18-24</td>\n",
       "      <td>NaN</td>\n",
       "      <td>white</td>\n",
       "      <td>...</td>\n",
       "      <td>A no further action disposal</td>\n",
       "      <td>False</td>\n",
       "      <td>False</td>\n",
       "      <td>devon-and-cornwall</td>\n",
       "      <td>201912</td>\n",
       "      <td>False</td>\n",
       "      <td>0</td>\n",
       "      <td>0</td>\n",
       "      <td>12</td>\n",
       "      <td>Sunday</td>\n",
       "    </tr>\n",
       "    <tr>\n",
       "      <th>2</th>\n",
       "      <td>8c2eae4b-035a-492f-92d6-cd27e6c900a1</td>\n",
       "      <td>person search</td>\n",
       "      <td>2019-12-01 00:10:00+00:00</td>\n",
       "      <td>True</td>\n",
       "      <td>NaN</td>\n",
       "      <td>NaN</td>\n",
       "      <td>female</td>\n",
       "      <td>18-24</td>\n",
       "      <td>White - English/Welsh/Scottish/Northern Irish/...</td>\n",
       "      <td>white</td>\n",
       "      <td>...</td>\n",
       "      <td>A no further action disposal</td>\n",
       "      <td>False</td>\n",
       "      <td>False</td>\n",
       "      <td>devon-and-cornwall</td>\n",
       "      <td>201912</td>\n",
       "      <td>False</td>\n",
       "      <td>0</td>\n",
       "      <td>0</td>\n",
       "      <td>12</td>\n",
       "      <td>Sunday</td>\n",
       "    </tr>\n",
       "    <tr>\n",
       "      <th>3</th>\n",
       "      <td>e63a036a-a728-4efe-8e08-7198f56d6d0a</td>\n",
       "      <td>person search</td>\n",
       "      <td>2019-12-01 00:10:00+00:00</td>\n",
       "      <td>False</td>\n",
       "      <td>NaN</td>\n",
       "      <td>NaN</td>\n",
       "      <td>male</td>\n",
       "      <td>18-24</td>\n",
       "      <td>NaN</td>\n",
       "      <td>asian</td>\n",
       "      <td>...</td>\n",
       "      <td>A no further action disposal</td>\n",
       "      <td>False</td>\n",
       "      <td>False</td>\n",
       "      <td>devon-and-cornwall</td>\n",
       "      <td>201912</td>\n",
       "      <td>False</td>\n",
       "      <td>0</td>\n",
       "      <td>0</td>\n",
       "      <td>12</td>\n",
       "      <td>Sunday</td>\n",
       "    </tr>\n",
       "    <tr>\n",
       "      <th>4</th>\n",
       "      <td>40c70aca-1f7f-4efe-8c5b-ade0f2e9937d</td>\n",
       "      <td>person search</td>\n",
       "      <td>2019-12-01 00:12:00+00:00</td>\n",
       "      <td>True</td>\n",
       "      <td>50.368247</td>\n",
       "      <td>-4.126646</td>\n",
       "      <td>male</td>\n",
       "      <td>18-24</td>\n",
       "      <td>NaN</td>\n",
       "      <td>white</td>\n",
       "      <td>...</td>\n",
       "      <td>A no further action disposal</td>\n",
       "      <td>False</td>\n",
       "      <td>False</td>\n",
       "      <td>devon-and-cornwall</td>\n",
       "      <td>201912</td>\n",
       "      <td>False</td>\n",
       "      <td>0</td>\n",
       "      <td>0</td>\n",
       "      <td>12</td>\n",
       "      <td>Sunday</td>\n",
       "    </tr>\n",
       "  </tbody>\n",
       "</table>\n",
       "<p>5 rows × 22 columns</p>\n",
       "</div>"
      ],
      "text/plain": [
       "                         observation_id           Type  \\\n",
       "0  34d76816-cfc2-4bdd-b3a2-bf0c40b12689  person search   \n",
       "1  83c87ec1-e6d4-4bbb-8e0c-159516706359  person search   \n",
       "2  8c2eae4b-035a-492f-92d6-cd27e6c900a1  person search   \n",
       "3  e63a036a-a728-4efe-8e08-7198f56d6d0a  person search   \n",
       "4  40c70aca-1f7f-4efe-8c5b-ade0f2e9937d  person search   \n",
       "\n",
       "                       Date  Part of a policing operation   Latitude  \\\n",
       "0 2019-12-01 00:00:00+00:00                          True        NaN   \n",
       "1 2019-12-01 00:09:00+00:00                          True        NaN   \n",
       "2 2019-12-01 00:10:00+00:00                          True        NaN   \n",
       "3 2019-12-01 00:10:00+00:00                         False        NaN   \n",
       "4 2019-12-01 00:12:00+00:00                          True  50.368247   \n",
       "\n",
       "   Longitude  Gender Age range  \\\n",
       "0        NaN    male     18-24   \n",
       "1        NaN    male     18-24   \n",
       "2        NaN  female     18-24   \n",
       "3        NaN    male     18-24   \n",
       "4  -4.126646    male     18-24   \n",
       "\n",
       "                              Self-defined ethnicity  \\\n",
       "0   Asian/Asian British - Any other Asian background   \n",
       "1                                                NaN   \n",
       "2  White - English/Welsh/Scottish/Northern Irish/...   \n",
       "3                                                NaN   \n",
       "4                                                NaN   \n",
       "\n",
       "  Officer-defined ethnicity  ...                       Outcome  \\\n",
       "0                     asian  ...  A no further action disposal   \n",
       "1                     white  ...  A no further action disposal   \n",
       "2                     white  ...  A no further action disposal   \n",
       "3                     asian  ...  A no further action disposal   \n",
       "4                     white  ...  A no further action disposal   \n",
       "\n",
       "  Outcome linked to object of search Removal of more than just outer clothing  \\\n",
       "0                              False                                    False   \n",
       "1                              False                                    False   \n",
       "2                              False                                    False   \n",
       "3                              False                                    False   \n",
       "4                              False                                    False   \n",
       "\n",
       "              station  referencia positive_outcome  target  hour  month  \\\n",
       "0  devon-and-cornwall      201912            False       0     0     12   \n",
       "1  devon-and-cornwall      201912            False       0     0     12   \n",
       "2  devon-and-cornwall      201912            False       0     0     12   \n",
       "3  devon-and-cornwall      201912            False       0     0     12   \n",
       "4  devon-and-cornwall      201912            False       0     0     12   \n",
       "\n",
       "   day_of_week  \n",
       "0       Sunday  \n",
       "1       Sunday  \n",
       "2       Sunday  \n",
       "3       Sunday  \n",
       "4       Sunday  \n",
       "\n",
       "[5 rows x 22 columns]"
      ]
     },
     "execution_count": 24,
     "metadata": {},
     "output_type": "execute_result"
    }
   ],
   "source": [
    "train_model.head()"
   ]
  },
  {
   "cell_type": "markdown",
   "id": "final-palestine",
   "metadata": {},
   "source": [
    "### Latitude and Longitude"
   ]
  },
  {
   "cell_type": "code",
   "execution_count": 25,
   "id": "inclusive-failure",
   "metadata": {},
   "outputs": [],
   "source": [
    "# print(train_model['Latitude'].describe())\n",
    "# train_model['Longitude'].describe()"
   ]
  },
  {
   "cell_type": "code",
   "execution_count": 26,
   "id": "temporal-utilization",
   "metadata": {},
   "outputs": [],
   "source": [
    "train_model['Latitude'] = train_model['Longitude'].fillna(0)\n",
    "train_model['Longitude'] = train_model['Longitude'].fillna(50)"
   ]
  },
  {
   "cell_type": "code",
   "execution_count": null,
   "id": "tracked-occasions",
   "metadata": {},
   "outputs": [],
   "source": []
  },
  {
   "cell_type": "markdown",
   "id": "adolescent-vehicle",
   "metadata": {},
   "source": [
    "### Other variables adjustments"
   ]
  },
  {
   "cell_type": "code",
   "execution_count": 27,
   "id": "vocal-spoke",
   "metadata": {},
   "outputs": [
    {
     "data": {
      "text/plain": [
       "18-24       241905\n",
       "25-34       158181\n",
       "10-17       131763\n",
       "over 34     128378\n",
       "under 10       384\n",
       "Name: Age range, dtype: int64"
      ]
     },
     "execution_count": 27,
     "metadata": {},
     "output_type": "execute_result"
    }
   ],
   "source": [
    "train['Age range'].value_counts(dropna=False)"
   ]
  },
  {
   "cell_type": "code",
   "execution_count": 28,
   "id": "precious-joint",
   "metadata": {},
   "outputs": [],
   "source": [
    "train_model['Age range']=train_model['Age range'].replace({'under 10': 'under 18', '10-17': 'under 18'})"
   ]
  },
  {
   "cell_type": "code",
   "execution_count": 29,
   "id": "combined-dutch",
   "metadata": {},
   "outputs": [
    {
     "data": {
      "text/plain": [
       "18-24       102548\n",
       "25-34        72861\n",
       "over 34      65541\n",
       "under 18     59497\n",
       "Name: Age range, dtype: int64"
      ]
     },
     "execution_count": 29,
     "metadata": {},
     "output_type": "execute_result"
    }
   ],
   "source": [
    "train_model['Age range'].value_counts(dropna=False)"
   ]
  },
  {
   "cell_type": "code",
   "execution_count": 30,
   "id": "medieval-neighborhood",
   "metadata": {},
   "outputs": [
    {
     "data": {
      "text/plain": [
       "White    378311\n",
       "Black    174593\n",
       "Asian     86035\n",
       "Other     19842\n",
       "Mixed      1830\n",
       "Name: Officer-defined ethnicity, dtype: int64"
      ]
     },
     "execution_count": 30,
     "metadata": {},
     "output_type": "execute_result"
    }
   ],
   "source": [
    "train['Officer-defined ethnicity'].value_counts(dropna=False)"
   ]
  },
  {
   "cell_type": "code",
   "execution_count": 31,
   "id": "fourth-treaty",
   "metadata": {},
   "outputs": [],
   "source": [
    "train_model['Officer-defined ethnicity'] = train_model['Officer-defined ethnicity'].replace({'mixed': 'other'})"
   ]
  },
  {
   "cell_type": "code",
   "execution_count": 32,
   "id": "institutional-speaker",
   "metadata": {},
   "outputs": [
    {
     "data": {
      "text/plain": [
       "white    235885\n",
       "black     32261\n",
       "asian     24533\n",
       "other      7768\n",
       "Name: Officer-defined ethnicity, dtype: int64"
      ]
     },
     "execution_count": 32,
     "metadata": {},
     "output_type": "execute_result"
    }
   ],
   "source": [
    "train_model['Officer-defined ethnicity'].value_counts(dropna=False)"
   ]
  },
  {
   "cell_type": "markdown",
   "id": "exposed-editing",
   "metadata": {},
   "source": [
    "### Over and Undersampling"
   ]
  },
  {
   "cell_type": "code",
   "execution_count": 33,
   "id": "occasional-charity",
   "metadata": {},
   "outputs": [
    {
     "data": {
      "text/plain": [
       "RandomUnderSampler(sampling_strategy='minority')"
      ]
     },
     "execution_count": 33,
     "metadata": {},
     "output_type": "execute_result"
    }
   ],
   "source": [
    "RandomUnderSampler(sampling_strategy='minority')"
   ]
  },
  {
   "cell_type": "code",
   "execution_count": 34,
   "id": "stuck-contents",
   "metadata": {},
   "outputs": [],
   "source": [
    "# define undersample strategy\n",
    "undersample = RandomUnderSampler(sampling_strategy='all')"
   ]
  },
  {
   "cell_type": "code",
   "execution_count": 35,
   "id": "utility-trail",
   "metadata": {},
   "outputs": [],
   "source": [
    "# fit and apply the transform\n",
    "X_under, y_under = undersample.fit_resample(train_model, train_model['Officer-defined ethnicity'])"
   ]
  },
  {
   "cell_type": "code",
   "execution_count": 36,
   "id": "minute-spelling",
   "metadata": {},
   "outputs": [
    {
     "data": {
      "text/plain": [
       "(31072, 22)"
      ]
     },
     "execution_count": 36,
     "metadata": {},
     "output_type": "execute_result"
    }
   ],
   "source": [
    "X_under.shape"
   ]
  },
  {
   "cell_type": "code",
   "execution_count": 37,
   "id": "common-reasoning",
   "metadata": {},
   "outputs": [
    {
     "data": {
      "text/plain": [
       "black    7768\n",
       "other    7768\n",
       "asian    7768\n",
       "white    7768\n",
       "Name: Officer-defined ethnicity, dtype: int64"
      ]
     },
     "execution_count": 37,
     "metadata": {},
     "output_type": "execute_result"
    }
   ],
   "source": [
    "X_under['Officer-defined ethnicity'].value_counts()"
   ]
  },
  {
   "cell_type": "code",
   "execution_count": 38,
   "id": "interesting-conference",
   "metadata": {},
   "outputs": [],
   "source": [
    "oversample = RandomOverSampler(sampling_strategy='not minority')"
   ]
  },
  {
   "cell_type": "code",
   "execution_count": 39,
   "id": "comparable-subsection",
   "metadata": {},
   "outputs": [],
   "source": [
    "# fit and apply the transform\n",
    "X_over, y_over = oversample.fit_resample(train_model, train_model['Officer-defined ethnicity'])"
   ]
  },
  {
   "cell_type": "code",
   "execution_count": 40,
   "id": "departmental-trauma",
   "metadata": {},
   "outputs": [
    {
     "data": {
      "text/plain": [
       "asian    235885\n",
       "white    235885\n",
       "black    235885\n",
       "other      7768\n",
       "Name: Officer-defined ethnicity, dtype: int64"
      ]
     },
     "execution_count": 40,
     "metadata": {},
     "output_type": "execute_result"
    }
   ],
   "source": [
    "X_over['Officer-defined ethnicity'].value_counts()"
   ]
  },
  {
   "cell_type": "code",
   "execution_count": 41,
   "id": "gross-incident",
   "metadata": {},
   "outputs": [
    {
     "data": {
      "text/plain": [
       "white    235885\n",
       "black     32261\n",
       "asian     24533\n",
       "other      7768\n",
       "Name: Officer-defined ethnicity, dtype: int64"
      ]
     },
     "execution_count": 41,
     "metadata": {},
     "output_type": "execute_result"
    }
   ],
   "source": [
    "train_model['Officer-defined ethnicity'].value_counts()"
   ]
  },
  {
   "cell_type": "code",
   "execution_count": 42,
   "id": "hydraulic-exclusive",
   "metadata": {},
   "outputs": [],
   "source": [
    "oversample2 = RandomOverSampler(sampling_strategy='minority')"
   ]
  },
  {
   "cell_type": "code",
   "execution_count": 43,
   "id": "arranged-premium",
   "metadata": {},
   "outputs": [
    {
     "data": {
      "text/plain": [
       "(31072, 22)"
      ]
     },
     "execution_count": 43,
     "metadata": {},
     "output_type": "execute_result"
    }
   ],
   "source": [
    "X_other = X_over[X_over['Officer-defined ethnicity']=='other']\n",
    "aux = X_other\n",
    "X_other =X_other.append(aux)\n",
    "X_other =X_other.append(aux)\n",
    "X_other =X_other.append(aux)\n",
    "X_other.shape"
   ]
  },
  {
   "cell_type": "code",
   "execution_count": 44,
   "id": "vulnerable-registrar",
   "metadata": {},
   "outputs": [],
   "source": [
    "train_balance = X_over.append(X_other)"
   ]
  },
  {
   "cell_type": "code",
   "execution_count": 45,
   "id": "miniature-running",
   "metadata": {},
   "outputs": [
    {
     "data": {
      "text/plain": [
       "asian    235885\n",
       "white    235885\n",
       "black    235885\n",
       "other     38840\n",
       "Name: Officer-defined ethnicity, dtype: int64"
      ]
     },
     "execution_count": 45,
     "metadata": {},
     "output_type": "execute_result"
    }
   ],
   "source": [
    "train_balance['Officer-defined ethnicity'].value_counts()"
   ]
  },
  {
   "cell_type": "code",
   "execution_count": 46,
   "id": "helpful-giant",
   "metadata": {},
   "outputs": [
    {
     "data": {
      "text/plain": [
       "0    0.793985\n",
       "1    0.206015\n",
       "Name: target, dtype: float64"
      ]
     },
     "execution_count": 46,
     "metadata": {},
     "output_type": "execute_result"
    }
   ],
   "source": [
    "train_balance['target'].value_counts(normalize=True)"
   ]
  },
  {
   "cell_type": "markdown",
   "id": "threatened-buffalo",
   "metadata": {},
   "source": [
    "### Data split"
   ]
  },
  {
   "cell_type": "code",
   "execution_count": 47,
   "id": "satisfied-intranet",
   "metadata": {},
   "outputs": [],
   "source": [
    "df_train, df_test = train_test_split(train_balance, test_size=0.3, random_state=42)"
   ]
  },
  {
   "cell_type": "code",
   "execution_count": 48,
   "id": "behind-dining",
   "metadata": {},
   "outputs": [
    {
     "data": {
      "text/plain": [
       "(522546, 22)"
      ]
     },
     "execution_count": 48,
     "metadata": {},
     "output_type": "execute_result"
    }
   ],
   "source": [
    "df_train.shape"
   ]
  },
  {
   "cell_type": "code",
   "execution_count": 49,
   "id": "adverse-reputation",
   "metadata": {},
   "outputs": [
    {
     "data": {
      "text/plain": [
       "(223949, 22)"
      ]
     },
     "execution_count": 49,
     "metadata": {},
     "output_type": "execute_result"
    }
   ],
   "source": [
    "df_test.shape"
   ]
  },
  {
   "cell_type": "code",
   "execution_count": null,
   "id": "loaded-swaziland",
   "metadata": {},
   "outputs": [],
   "source": []
  },
  {
   "cell_type": "markdown",
   "id": "optimum-charge",
   "metadata": {},
   "source": [
    "### Training a baseline model"
   ]
  },
  {
   "cell_type": "code",
   "execution_count": 50,
   "id": "atmospheric-regular",
   "metadata": {},
   "outputs": [
    {
     "data": {
      "text/plain": [
       "0.6142386525070009"
      ]
     },
     "execution_count": 50,
     "metadata": {},
     "output_type": "execute_result"
    }
   ],
   "source": [
    "all_features = ['Type', 'Part of a policing operation', 'Age range',\n",
    "                'Legislation', 'hour', 'month', 'day_of_week',  'Gender', 'Officer-defined ethnicity',\n",
    "               'Latitude', 'Longitude']\n",
    "\n",
    "numerical_features = ['hour', 'month','Latitude', 'Longitude']\n",
    "\n",
    "categorical_features = ['Type', 'Part of a policing operation', 'Age range','Gender', 'Officer-defined ethnicity',\n",
    "                        'Legislation', 'day_of_week']\n",
    "\n",
    "numeric_transformer = Pipeline(steps=[\n",
    "    ('imputer', SimpleImputer(strategy='median')),\n",
    "    ('scaler', StandardScaler())])\n",
    "\n",
    "categorical_transformer = Pipeline(steps=[\n",
    "    ('imputer', SimpleImputer(strategy='constant', fill_value='missing')),\n",
    "    ('onehot', OneHotEncoder(handle_unknown='ignore'))])\n",
    "\n",
    "preprocessor = ColumnTransformer(\n",
    "    transformers=[\n",
    "        ('num', numeric_transformer, numerical_features),\n",
    "        ('cat', categorical_transformer, categorical_features)])\n",
    "\n",
    "pipeline = make_pipeline(\n",
    "    preprocessor,\n",
    "    RandomForestClassifier(max_depth=300, min_samples_leaf=.001, class_weight=\"balanced\", random_state=42, n_jobs=-1),\n",
    ")\n",
    "\n",
    "\n",
    "X_train = df_train[all_features]\n",
    "y_train = df_train['target']\n",
    "\n",
    "pipeline.fit(X_train, y_train)\n",
    "\n",
    "X_test = df_test[all_features]\n",
    "y_test = df_test['target']\n",
    "\n",
    "y_pred = pipeline.predict(X_test)\n",
    "y_proba = pipeline.predict_proba(X_test)\n",
    "y_pred_train = pipeline.predict(X_train)\n",
    "\n",
    "roc_auc_score(y_test, y_pred)"
   ]
  },
  {
   "cell_type": "code",
   "execution_count": null,
   "id": "catholic-glass",
   "metadata": {},
   "outputs": [],
   "source": []
  },
  {
   "cell_type": "code",
   "execution_count": 51,
   "id": "identified-investigation",
   "metadata": {},
   "outputs": [],
   "source": [
    "precision, recall, thresholds = precision_recall_curve(y_test, y_proba[:,1])"
   ]
  },
  {
   "cell_type": "code",
   "execution_count": 52,
   "id": "chinese-glucose",
   "metadata": {},
   "outputs": [],
   "source": [
    "precision = precision[:-1]\n",
    "recall = recall[:-1]"
   ]
  },
  {
   "cell_type": "code",
   "execution_count": 53,
   "id": "roman-integer",
   "metadata": {},
   "outputs": [
    {
     "data": {
      "image/png": "[encoded data removed]",
      "text/plain": [
       "<Figure size 432x288 with 2 Axes>"
      ]
     },
     "metadata": {
      "needs_background": "light"
     },
     "output_type": "display_data"
    }
   ],
   "source": [
    "fig=plt.figure()\n",
    "ax1 = plt.subplot(211)\n",
    "ax2 = plt.subplot(212)\n",
    "ax1.hlines(y=0.1,xmin=0, xmax=1, colors='red')\n",
    "ax1.plot(thresholds,precision)\n",
    "ax2.plot(thresholds,recall)\n",
    "ax1.get_shared_x_axes().join(ax1, ax2)\n",
    "ax1.set_xticklabels([])\n",
    "plt.xlabel('Threshold')\n",
    "ax1.set_title('Precision')\n",
    "ax2.set_title('Recall')\n",
    "plt.show()"
   ]
  },
  {
   "cell_type": "code",
   "execution_count": 54,
   "id": "binary-substance",
   "metadata": {},
   "outputs": [
    {
     "name": "stdout",
     "output_type": "stream",
     "text": [
      "32432\n"
     ]
    },
    {
     "data": {
      "text/plain": [
       "0.414341120049933"
      ]
     },
     "execution_count": 54,
     "metadata": {},
     "output_type": "execute_result"
    }
   ],
   "source": [
    "min_index = [i for i, prec in enumerate(precision) if prec > 0.25][0]\n",
    "print(min_index)\n",
    "thresholds[min_index]"
   ]
  },
  {
   "cell_type": "code",
   "execution_count": 55,
   "id": "molecular-wholesale",
   "metadata": {},
   "outputs": [
    {
     "data": {
      "text/plain": [
       "0.2500078868831669"
      ]
     },
     "execution_count": 55,
     "metadata": {},
     "output_type": "execute_result"
    }
   ],
   "source": [
    "precision[min_index]"
   ]
  },
  {
   "cell_type": "code",
   "execution_count": 56,
   "id": "prospective-creature",
   "metadata": {},
   "outputs": [
    {
     "data": {
      "text/plain": [
       "0.8629671574178935"
      ]
     },
     "execution_count": 56,
     "metadata": {},
     "output_type": "execute_result"
    }
   ],
   "source": [
    "recall[min_index]"
   ]
  },
  {
   "cell_type": "code",
   "execution_count": 57,
   "id": "attractive-teacher",
   "metadata": {},
   "outputs": [
    {
     "data": {
      "image/png": "[encoded data removed]",
      "text/plain": [
       "<Figure size 432x288 with 1 Axes>"
      ]
     },
     "metadata": {
      "needs_background": "light"
     },
     "output_type": "display_data"
    }
   ],
   "source": [
    "pd.Series(y_proba[:,1]).hist(bins=20, figsize=(6, 4));\n",
    "# df.hist(column='SubjectAge', bins=20, figsize=(6, 4));"
   ]
  },
  {
   "cell_type": "code",
   "execution_count": 58,
   "id": "brazilian-bottom",
   "metadata": {},
   "outputs": [],
   "source": [
    "threshold = thresholds[min_index]\n",
    "y_pred_threshold = pd.Series([True if p >= threshold else False for p in y_proba[:,1]]).to_numpy()"
   ]
  },
  {
   "cell_type": "code",
   "execution_count": 59,
   "id": "clear-orlando",
   "metadata": {},
   "outputs": [
    {
     "name": "stdout",
     "output_type": "stream",
     "text": [
      "<class 'numpy.ndarray'>\n"
     ]
    },
    {
     "data": {
      "text/plain": [
       "numpy.ndarray"
      ]
     },
     "execution_count": 59,
     "metadata": {},
     "output_type": "execute_result"
    }
   ],
   "source": [
    "print(type(y_pred))\n",
    "type(y_pred_threshold)"
   ]
  },
  {
   "cell_type": "code",
   "execution_count": null,
   "id": "intense-eclipse",
   "metadata": {},
   "outputs": [],
   "source": []
  },
  {
   "cell_type": "markdown",
   "id": "afraid-county",
   "metadata": {},
   "source": [
    "#### most important features"
   ]
  },
  {
   "cell_type": "code",
   "execution_count": 60,
   "id": "general-neutral",
   "metadata": {},
   "outputs": [
    {
     "name": "stdout",
     "output_type": "stream",
     "text": [
      "Feature ranking:\n",
      "1. feature Legislation_misuse of drugs act 1971 (section 23) (0.262858)\n",
      "2. feature Legislation_police and criminal evidence act 1984 (section 1) (0.163887)\n",
      "3. feature Longitude (0.093184)\n",
      "4. feature Age range_under 18 (0.076810)\n",
      "5. feature Latitude (0.073191)\n",
      "6. feature Age range_18-24 (0.044249)\n",
      "7. feature hour (0.043948)\n",
      "8. feature Legislation_missing infomation (0.036301)\n",
      "9. feature Legislation_criminal justice and public order act 1994 (section 60) (0.034651)\n",
      "10. feature month (0.025718)\n",
      "11. feature Age range_over 34 (0.022552)\n"
     ]
    },
    {
     "data": {
      "image/png": "[encoded data removed]",
      "text/plain": [
       "<Figure size 432x288 with 1 Axes>"
      ]
     },
     "metadata": {
      "needs_background": "light"
     },
     "output_type": "display_data"
    }
   ],
   "source": [
    "categorical_encode_step = pipeline.named_steps['columntransformer'].named_transformers_['cat'].named_steps['onehot']\n",
    "random_forest_step = pipeline.named_steps['randomforestclassifier']\n",
    "\n",
    "onehot_columns = categorical_encode_step.get_feature_names(input_features=categorical_features)\n",
    "\n",
    "importances = pd.Series(data=random_forest_step.feature_importances_, index = np.array(numerical_features + list(onehot_columns)))\n",
    "\n",
    "indices = np.argsort(importances)[::-1]\n",
    "print(\"Feature ranking:\")\n",
    "\n",
    "for f in range(X_train.shape[1]):\n",
    "    print(\"%d. feature %s (%f)\" % (f + 1, importances.index[indices[f]], importances[indices[f]]))\n",
    "\n",
    "std = np.std([tree.feature_importances_ for tree in random_forest_step.estimators_], axis=0)\n",
    "\n",
    "plt.figure()\n",
    "plt.title(\"Feature importances\")\n",
    "plt.bar(x=importances.index[indices], height=importances[indices],\n",
    "        color=\"r\", yerr=std[indices], align=\"center\");\n",
    "plt.xticks(range(len(importances.index[indices])), importances.index[indices], rotation=45, ha=\"right\")\n",
    "plt.xlim([-1, X_train.shape[1]])\n",
    "plt.xlabel('Features');\n",
    "plt.ylabel('Importance');\n",
    "\n",
    "plt.show()"
   ]
  },
  {
   "cell_type": "code",
   "execution_count": null,
   "id": "monetary-manual",
   "metadata": {},
   "outputs": [],
   "source": []
  },
  {
   "cell_type": "markdown",
   "id": "cardiovascular-northeast",
   "metadata": {},
   "source": [
    "## Formalizing client requirements"
   ]
  },
  {
   "cell_type": "markdown",
   "id": "negative-elimination",
   "metadata": {},
   "source": [
    "### 1 - Minimum 10% success rate for searches per station and search objective"
   ]
  },
  {
   "cell_type": "code",
   "execution_count": 61,
   "id": "incoming-solution",
   "metadata": {},
   "outputs": [],
   "source": [
    "def verify_global_success_rate(y_true, y_pred, min_success_rate=0.1):\n",
    "    \"\"\"\n",
    "    Verifies the success rate on a test set is above a provided minimum\n",
    "    \"\"\"\n",
    "    \n",
    "    precision = precision_score(y_true, y_pred, pos_label=1)\n",
    "    is_satisfied = (precision >= min_success_rate)\n",
    "    \n",
    "    global_recall = recall_score(y_true, y_pred, pos_label=1)\n",
    "    \n",
    "    return is_satisfied, precision, global_recall"
   ]
  },
  {
   "cell_type": "code",
   "execution_count": 62,
   "id": "oriental-coalition",
   "metadata": {},
   "outputs": [
    {
     "name": "stdout",
     "output_type": "stream",
     "text": [
      "Global Precision: (True, 0.2500078868831669)\n",
      "Global Recall: 0.8629671574178935\n"
     ]
    }
   ],
   "source": [
    "is_verified, success_rate, global_recall = verify_global_success_rate(y_test, y_pred_threshold)\n",
    "\n",
    "print(\"Global Precision: {}\".format((is_verified, success_rate)))\n",
    "print(\"Global Recall: {}\".format(global_recall))"
   ]
  },
  {
   "cell_type": "code",
   "execution_count": null,
   "id": "parallel-firmware",
   "metadata": {},
   "outputs": [],
   "source": []
  },
  {
   "cell_type": "code",
   "execution_count": 63,
   "id": "designed-guarantee",
   "metadata": {},
   "outputs": [],
   "source": [
    "def verify_success_rate_objective_station(X_test, y_true, y_pred, sensitive_column='Object of search', \n",
    "                                          min_success_rate=0.1, min_samples=50):\n",
    "    \"\"\"\n",
    "    Verifies that success rate per station and search objective is higher than 10%\n",
    "    \"\"\"\n",
    "    \n",
    "#     exclusion_list = ['articles for use in criminal damage','anything to threaten or harm anyone','fireworks', \n",
    "#                  'detailed object of search unavailable','game or poaching equipment',\n",
    "#                  'goods on which duty has not been paid etc.','evidence of wildlife offences',\n",
    "#                  'crossbows','seals or hunting equipment']\n",
    "\n",
    "    exclusion_list = ['articles for use in criminal damage','anything to threaten or harm anyone','fireworks',\n",
    "                      'detailed object of search unavailable','game or poaching equipment',\n",
    "                      'goods on which duty has not been paid etc.','evidence of wildlife offences',\n",
    "                      'crossbows','seals or hunting equipment',\n",
    "                      'firearms','evidence of offences under the act','psychoactive substances']\n",
    "    \n",
    "    departments = X_test['station'].unique()\n",
    "    sensitive_classes = X_test[sensitive_column].unique()\n",
    "    \n",
    "    is_satisfied = True\n",
    "    problematic_departments = []\n",
    "    good_deparments = []\n",
    "    ignored_departments = []\n",
    "    for department in departments:\n",
    "        precisions = {}\n",
    "        for sensitive_class in sensitive_classes:\n",
    "            if sensitive_class not in exclusion_list:\n",
    "                mask = (X_test[sensitive_column] == sensitive_class) & (X_test['station'] == department)\n",
    "                if np.sum(mask) > min_samples:\n",
    "                    precisions[sensitive_class] = precision_score(y_true[mask], y_pred[mask], pos_label=1)\n",
    "                \n",
    "        if len(precisions) > 1:    \n",
    "            precision_min = np.min(list(precisions.values()))\n",
    "\n",
    "            if precision_min < min_success_rate:\n",
    "                is_satisfied = False\n",
    "                problematic_departments.append((department, precision_min, precisions))\n",
    "            else:\n",
    "                good_deparments.append((department, precision_min, precisions))\n",
    "        else:\n",
    "            ignored_departments.append((department, None, []))\n",
    "    \n",
    "    global_precisions = {}\n",
    "    for department in departments:\n",
    "        mask = (X_test['station'] == department)\n",
    "        if np.sum(mask) > min_samples:\n",
    "            global_precisions[department] = precision_score(y_true[mask], y_pred[mask])\n",
    "            \n",
    "    global_precisions_objective = {}\n",
    "    for obj in sensitive_classes:\n",
    "        mask = (X_test[sensitive_column] == obj)\n",
    "        if np.sum(mask) > min_samples:\n",
    "            global_precisions_objective[obj] = precision_score(y_true[mask], y_pred[mask])\n",
    "    \n",
    "        \n",
    "    return is_satisfied, problematic_departments, good_deparments, ignored_departments, global_precisions,global_precisions_objective"
   ]
  },
  {
   "cell_type": "code",
   "execution_count": 64,
   "id": "flying-dylan",
   "metadata": {},
   "outputs": [
    {
     "name": "stdout",
     "output_type": "stream",
     "text": [
      "Requirement failed 😢\n",
      "Num problematic stations: 12\n",
      "Num good stations: 26\n",
      "Num ignored departments: 0\n",
      "\n",
      "Object of search rates: {'article for use in theft': 0.18173410404624277, 'controlled drugs': 0.26272634851409293, 'stolen goods': 0.2742825607064018, 'articles for use in criminal damage': 0.012191582002902757, 'firearms': 0.1329479768786127, 'offensive weapons': 0.16176470588235295, 'anything to threaten or harm anyone': 0.13193812556869883, 'evidence of offences under the act': 0.17673048600883653, 'psychoactive substances': 0.27265803503427266, 'fireworks': 0.0, 'detailed object of search unavailable': 0.2727272727272727}\n",
      "\n",
      "Station rates: {'lincolnshire': 0.18914381645215445, 'south-yorkshire': 0.19837758112094395, 'btp': 0.2702610476027982, 'essex': 0.2879858657243816, 'thames-valley': 0.18404607278519788, 'city-of-london': 0.30704552044070743, 'west-yorkshire': 0.2117857616333024, 'northumbria': 0.24751522924014108, 'sussex': 0.25539470090139305, 'devon-and-cornwall': 0.25892857142857145, 'merseyside': 0.24279356384799727, 'lancashire': 0.0820911190426202, 'greater-manchester': 0.28320378506252114, 'kent': 0.2535173878417839, 'hertfordshire': 0.2802090137165251, 'surrey': 0.26888623469692446, 'north-wales': 0.15011372251705837, 'hampshire': 0.3142314990512334, 'durham': 0.38650306748466257, 'nottinghamshire': 0.2884790943947416, 'norfolk': 0.17789473684210527, 'bedfordshire': 0.25500667556742324, 'avon-and-somerset': 0.2833272793316382, 'leicestershire': 0.15192206424433913, 'staffordshire': 0.284167468719923, 'dorset': 0.2918124562631211, 'west-mercia': 0.3236750866765726, 'suffolk': 0.23635235732009927, 'warwickshire': 0.25570539419087135, 'north-yorkshire': 0.20054570259208732, 'cheshire': 0.34705882352941175, 'cambridgeshire': 0.23166023166023167, 'derbyshire': 0.2974971558589306, 'wiltshire': 0.13843888070692195, 'gloucestershire': 0.2835164835164835, 'northamptonshire': 0.27573221757322175, 'cumbria': 0.2679509632224168, 'cleveland': 0.30704225352112674}\n"
     ]
    }
   ],
   "source": [
    "is_satisfied, problematic_departments, good_deparments, ignored_departments,global_precisions, global_precisions_objective = verify_success_rate_objective_station(df_test, y_test, y_pred_threshold, min_success_rate=0.1)\n",
    "\n",
    "if not is_satisfied:\n",
    "    print(\"Requirement failed 😢\")\n",
    "    print(\"Num problematic stations: {}\".format(len(problematic_departments)))\n",
    "    print(\"Num good stations: {}\".format(len(good_deparments)))\n",
    "    print(\"Num ignored departments: {}\".format(len(ignored_departments)))\n",
    "    print(\"\\nObject of search rates: {}\".format(global_precisions_objective))\n",
    "    print(\"\\nStation rates: {}\".format(global_precisions))\n"
   ]
  },
  {
   "cell_type": "code",
   "execution_count": 65,
   "id": "angry-divorce",
   "metadata": {},
   "outputs": [
    {
     "data": {
      "text/plain": [
       "[('south-yorkshire',\n",
       "  0.0,\n",
       "  {'article for use in theft': 0.0,\n",
       "   'controlled drugs': 0.19837758112094395,\n",
       "   'stolen goods': 0.0,\n",
       "   'offensive weapons': 0.0}),\n",
       " ('thames-valley',\n",
       "  0.06,\n",
       "  {'article for use in theft': 0.06,\n",
       "   'controlled drugs': 0.20083184789067143,\n",
       "   'stolen goods': 0.1536050156739812,\n",
       "   'offensive weapons': 0.10990712074303406}),\n",
       " ('merseyside',\n",
       "  0.09448818897637795,\n",
       "  {'article for use in theft': 0.16666666666666666,\n",
       "   'controlled drugs': 0.24781837531039375,\n",
       "   'stolen goods': 0.14893617021276595,\n",
       "   'offensive weapons': 0.09448818897637795}),\n",
       " ('lancashire',\n",
       "  0.09259259259259259,\n",
       "  {'article for use in theft': 0.25,\n",
       "   'controlled drugs': 0.25602202339986235,\n",
       "   'stolen goods': 0.1282051282051282,\n",
       "   'offensive weapons': 0.09259259259259259}),\n",
       " ('north-wales',\n",
       "  0.0,\n",
       "  {'article for use in theft': 0.0,\n",
       "   'controlled drugs': 0.1521216973578863,\n",
       "   'stolen goods': 0.21875,\n",
       "   'offensive weapons': 0.05263157894736842}),\n",
       " ('norfolk',\n",
       "  0.0,\n",
       "  {'article for use in theft': 0.0,\n",
       "   'controlled drugs': 0.18257956448911222,\n",
       "   'stolen goods': 0.175,\n",
       "   'offensive weapons': 0.09090909090909091}),\n",
       " ('bedfordshire',\n",
       "  0.0967741935483871,\n",
       "  {'article for use in theft': 0.0967741935483871,\n",
       "   'controlled drugs': 0.2621606334841629,\n",
       "   'stolen goods': 0.2,\n",
       "   'offensive weapons': 0.1875}),\n",
       " ('leicestershire',\n",
       "  0.052083333333333336,\n",
       "  {'article for use in theft': 0.10526315789473684,\n",
       "   'controlled drugs': 0.15777262180974477,\n",
       "   'stolen goods': 0.052083333333333336,\n",
       "   'offensive weapons': 0.0896551724137931}),\n",
       " ('suffolk',\n",
       "  0.058823529411764705,\n",
       "  {'article for use in theft': 0.1875,\n",
       "   'controlled drugs': 0.23819163292847503,\n",
       "   'stolen goods': 0.35135135135135137,\n",
       "   'offensive weapons': 0.058823529411764705}),\n",
       " ('cambridgeshire',\n",
       "  0.0,\n",
       "  {'article for use in theft': 0.0,\n",
       "   'controlled drugs': 0.271264367816092,\n",
       "   'offensive weapons': 0.0196078431372549}),\n",
       " ('northamptonshire',\n",
       "  0.06779661016949153,\n",
       "  {'article for use in theft': 0.06779661016949153,\n",
       "   'controlled drugs': 0.2801864801864802,\n",
       "   'stolen goods': 0.22727272727272727,\n",
       "   'offensive weapons': 0.2638888888888889}),\n",
       " ('cumbria',\n",
       "  0.0,\n",
       "  {'article for use in theft': 0.2,\n",
       "   'controlled drugs': 0.26666666666666666,\n",
       "   'stolen goods': 0.4117647058823529,\n",
       "   'offensive weapons': 0.0})]"
      ]
     },
     "execution_count": 65,
     "metadata": {},
     "output_type": "execute_result"
    }
   ],
   "source": [
    "problematic_departments"
   ]
  },
  {
   "cell_type": "code",
   "execution_count": 66,
   "id": "contemporary-student",
   "metadata": {},
   "outputs": [],
   "source": [
    "# good_deparments"
   ]
  },
  {
   "cell_type": "code",
   "execution_count": 67,
   "id": "precious-roulette",
   "metadata": {},
   "outputs": [
    {
     "name": "stdout",
     "output_type": "stream",
     "text": [
      "0.0820911190426202\n"
     ]
    },
    {
     "data": {
      "text/plain": [
       "0.38650306748466257"
      ]
     },
     "execution_count": 67,
     "metadata": {},
     "output_type": "execute_result"
    }
   ],
   "source": [
    "print(min(global_precisions.values()))\n",
    "max(global_precisions.values())"
   ]
  },
  {
   "cell_type": "code",
   "execution_count": 68,
   "id": "weighted-officer",
   "metadata": {},
   "outputs": [
    {
     "data": {
      "text/plain": [
       "dict_values([0.18914381645215445, 0.19837758112094395, 0.2702610476027982, 0.2879858657243816, 0.18404607278519788, 0.30704552044070743, 0.2117857616333024, 0.24751522924014108, 0.25539470090139305, 0.25892857142857145, 0.24279356384799727, 0.0820911190426202, 0.28320378506252114, 0.2535173878417839, 0.2802090137165251, 0.26888623469692446, 0.15011372251705837, 0.3142314990512334, 0.38650306748466257, 0.2884790943947416, 0.17789473684210527, 0.25500667556742324, 0.2833272793316382, 0.15192206424433913, 0.284167468719923, 0.2918124562631211, 0.3236750866765726, 0.23635235732009927, 0.25570539419087135, 0.20054570259208732, 0.34705882352941175, 0.23166023166023167, 0.2974971558589306, 0.13843888070692195, 0.2835164835164835, 0.27573221757322175, 0.2679509632224168, 0.30704225352112674])"
      ]
     },
     "execution_count": 68,
     "metadata": {},
     "output_type": "execute_result"
    }
   ],
   "source": [
    "global_precisions.values()"
   ]
  },
  {
   "cell_type": "code",
   "execution_count": 69,
   "id": "authentic-helping",
   "metadata": {},
   "outputs": [
    {
     "name": "stdout",
     "output_type": "stream",
     "text": [
      "0.0\n"
     ]
    },
    {
     "data": {
      "text/plain": [
       "0.2742825607064018"
      ]
     },
     "execution_count": 69,
     "metadata": {},
     "output_type": "execute_result"
    }
   ],
   "source": [
    "print(min(global_precisions_objective.values()))\n",
    "max(global_precisions_objective.values())"
   ]
  },
  {
   "cell_type": "code",
   "execution_count": null,
   "id": "offensive-caribbean",
   "metadata": {},
   "outputs": [],
   "source": []
  },
  {
   "cell_type": "markdown",
   "id": "binary-galaxy",
   "metadata": {},
   "source": [
    "### 2 - No police station should have a discrepancy bigger than 5% between the search success rate between protected classes (ethnicity, gender)"
   ]
  },
  {
   "cell_type": "code",
   "execution_count": 70,
   "id": "changing-handy",
   "metadata": {},
   "outputs": [],
   "source": [
    "def verify_no_discrimination(X_test, y_true, y_pred, sensitive_column, max_diff=0.05, min_samples=50):\n",
    "    \"\"\"\n",
    "    Verifies that no station has discrimination in between protected classes\n",
    "    \"\"\"\n",
    "    exclusion_class = ['Other']\n",
    "    \n",
    "    departments = X_test['station'].unique()\n",
    "    sensitive_classes = X_test[sensitive_column].unique()\n",
    "    \n",
    "    is_satisfied = True\n",
    "    problematic_departments = []\n",
    "    good_deparments = []\n",
    "    ignored_departments = []\n",
    "    for department in departments:\n",
    "        precisions = {}\n",
    "        for sensitive_class in sensitive_classes:\n",
    "            if sensitive_class not in exclusion_class:\n",
    "                mask = (X_test[sensitive_column] == sensitive_class) & (X_test['station'] == department)\n",
    "                if np.sum(mask) > min_samples:\n",
    "                    precisions[sensitive_class] = precision_score(y_true[mask], y_pred[mask], pos_label=1)\n",
    "                \n",
    "        if len(precisions) > 1:    \n",
    "            diff = np.max(list(precisions.values())) - np.min(list(precisions.values()))\n",
    "\n",
    "            if diff > max_diff:\n",
    "                is_satisfied = False\n",
    "                problematic_departments.append((department, diff, precisions))\n",
    "            else:\n",
    "                good_deparments.append((department, diff, precisions))\n",
    "        else:\n",
    "            ignored_departments.append((department, None, []))\n",
    "    \n",
    "    global_precisions = {}\n",
    "    for sensitive_class in sensitive_classes:\n",
    "        mask = (X_test[sensitive_column] == sensitive_class)\n",
    "        if np.sum(mask) > min_samples:\n",
    "            global_precisions[sensitive_class] = precision_score(y_true[mask], y_pred[mask], pos_label=1)\n",
    "    \n",
    "    if len(precisions) > 1:    \n",
    "        diff = np.max(list(precisions.values())) - np.min(list(precisions.values()))\n",
    "        if diff > max_diff:\n",
    "            is_satisfied = False\n",
    "        \n",
    "    return is_satisfied, problematic_departments, good_deparments, ignored_departments, global_precisions\n"
   ]
  },
  {
   "cell_type": "code",
   "execution_count": 71,
   "id": "posted-copying",
   "metadata": {},
   "outputs": [
    {
     "name": "stdout",
     "output_type": "stream",
     "text": [
      "\n",
      "Ethnicity\n",
      "Requirement failed 😢\n",
      "Global rates: {'black': 0.2587347142500624, 'asian': 0.24392018087093287, 'white': 0.24700774466087771, 'other': 0.25517241379310346}\n",
      "Num problematic departments: 20\n",
      "Num good departments: 18\n",
      "Num ignored departments: 0\n",
      "avg diff: 0.12221149727984568\n",
      "\n",
      "\n",
      "Gender\n",
      "Requirement failed 😢\n",
      "Global rates: {'male': 0.2523463786081105, 'female': 0.21977926479534196, 'other': 0.2777777777777778}\n",
      "Num problematic departments: 17\n",
      "Num good departments: 21\n",
      "Num ignored departments: 0\n",
      "avg diff: 0.08753438970262895\n"
     ]
    }
   ],
   "source": [
    "is_satisfied_e, problematic_departments_e, good_deparments_e, ignored_departments_e, global_precisions_e = verify_no_discrimination(\n",
    "    df_test, y_test, y_pred_threshold, 'Officer-defined ethnicity', 0.075)\n",
    "\n",
    "print(\"\\nEthnicity\")\n",
    "\n",
    "if not is_satisfied_e:\n",
    "    print(\"Requirement failed 😢\")\n",
    "    print(\"Global rates: {}\".format(global_precisions_e))\n",
    "    print(\"Num problematic departments: {}\".format(len(problematic_departments_e)))\n",
    "    print(\"Num good departments: {}\".format(len(good_deparments_e)))\n",
    "    print(\"Num ignored departments: {}\".format(len(ignored_departments_e)))\n",
    "\n",
    "    print(\"avg diff:\", np.mean([p[1] for p in problematic_departments_e]))\n",
    "    \n",
    "    \n",
    "is_satisfied, problematic_departments, good_deparments, ignored_departments, global_precisions = verify_no_discrimination(\n",
    "    df_test, y_test, y_pred_threshold, 'Gender', 0.05)\n",
    "\n",
    "print(\"\\n\\nGender\")\n",
    "\n",
    "if not is_satisfied:\n",
    "    print(\"Requirement failed 😢\")\n",
    "    print(\"Global rates: {}\".format(global_precisions))\n",
    "    print(\"Num problematic departments: {}\".format(len(problematic_departments)))\n",
    "    print(\"Num good departments: {}\".format(len(good_deparments)))\n",
    "    print(\"Num ignored departments: {}\".format(len(ignored_departments)))\n",
    "    \n",
    "    print(\"avg diff:\", np.mean([p[1] for p in problematic_departments]))"
   ]
  },
  {
   "cell_type": "code",
   "execution_count": 72,
   "id": "previous-vehicle",
   "metadata": {
    "scrolled": true
   },
   "outputs": [
    {
     "data": {
      "text/plain": [
       "[('lincolnshire',\n",
       "  0.08860743620289674,\n",
       "  {'black': 0.19444444444444445,\n",
       "   'asian': 0.2634146341463415,\n",
       "   'white': 0.17480719794344474}),\n",
       " ('south-yorkshire',\n",
       "  0.08940930063137445,\n",
       "  {'black': 0.202365308804205,\n",
       "   'asian': 0.19184069936862555,\n",
       "   'white': 0.1948900772430184,\n",
       "   'other': 0.28125}),\n",
       " ('city-of-london',\n",
       "  0.2666692331382815,\n",
       "  {'black': 0.314262691377921,\n",
       "   'asian': 0.30177514792899407,\n",
       "   'white': 0.3769633507853403,\n",
       "   'other': 0.11029411764705882}),\n",
       " ('sussex',\n",
       "  0.13077505083463378,\n",
       "  {'black': 0.25586854460093894,\n",
       "   'asian': 0.2565104166666667,\n",
       "   'white': 0.26235399820305483,\n",
       "   'other': 0.13157894736842105}),\n",
       " ('devon-and-cornwall',\n",
       "  0.0910937667058698,\n",
       "  {'black': 0.2613065326633166,\n",
       "   'asian': 0.2597402597402597,\n",
       "   'white': 0.26095487246566385,\n",
       "   'other': 0.1702127659574468}),\n",
       " ('greater-manchester',\n",
       "  0.08269966819606658,\n",
       "  {'black': 0.3029162746942615,\n",
       "   'asian': 0.29532403609515995,\n",
       "   'white': 0.22021660649819494,\n",
       "   'other': 0.2764227642276423}),\n",
       " ('nottinghamshire',\n",
       "  0.08009786447926887,\n",
       "  {'black': 0.263412017167382,\n",
       "   'asian': 0.3205849268841395,\n",
       "   'white': 0.3064516129032258,\n",
       "   'other': 0.2404870624048706}),\n",
       " ('norfolk',\n",
       "  0.10296767355590886,\n",
       "  {'black': 0.13036565977742448,\n",
       "   'asian': 0.23333333333333334,\n",
       "   'white': 0.19305856832971802,\n",
       "   'other': 0.21301775147928995}),\n",
       " ('bedfordshire',\n",
       "  0.1746975806451613,\n",
       "  {'black': 0.24225122349102773,\n",
       "   'asian': 0.2746975806451613,\n",
       "   'white': 0.22795698924731184,\n",
       "   'other': 0.1}),\n",
       " ('leicestershire',\n",
       "  0.1157982057269264,\n",
       "  {'black': 0.135013501350135,\n",
       "   'asian': 0.17405063291139242,\n",
       "   'white': 0.13226744186046513,\n",
       "   'other': 0.05825242718446602}),\n",
       " ('staffordshire',\n",
       "  0.24710507314203192,\n",
       "  {'black': 0.3016175071360609,\n",
       "   'asian': 0.29372937293729373,\n",
       "   'white': 0.24469820554649266,\n",
       "   'other': 0.4918032786885246}),\n",
       " ('dorset',\n",
       "  0.1394843017628571,\n",
       "  {'black': 0.3212121212121212,\n",
       "   'asian': 0.3790849673202614,\n",
       "   'white': 0.23960066555740434}),\n",
       " ('west-mercia',\n",
       "  0.09166353108407538,\n",
       "  {'black': 0.38235294117647056,\n",
       "   'asian': 0.30997304582210244,\n",
       "   'white': 0.2906894100923952,\n",
       "   'other': 0.38047138047138046}),\n",
       " ('suffolk',\n",
       "  0.08284793530695173,\n",
       "  {'black': 0.2550091074681239,\n",
       "   'asian': 0.22395833333333334,\n",
       "   'white': 0.2525083612040134,\n",
       "   'other': 0.17216117216117216}),\n",
       " ('cheshire',\n",
       "  0.09074344463081174,\n",
       "  {'black': 0.4177215189873418,\n",
       "   'asian': 0.37104072398190047,\n",
       "   'white': 0.32697807435653004}),\n",
       " ('cambridgeshire',\n",
       "  0.1736766048068147,\n",
       "  {'black': 0.16184971098265896,\n",
       "   'asian': 0.3355263157894737,\n",
       "   'white': 0.2215568862275449}),\n",
       " ('derbyshire',\n",
       "  0.10092485549132946,\n",
       "  {'black': 0.25555555555555554,\n",
       "   'asian': 0.35333333333333333,\n",
       "   'white': 0.2524084778420039,\n",
       "   'other': 0.3076923076923077}),\n",
       " ('gloucestershire',\n",
       "  0.09453606530068304,\n",
       "  {'black': 0.27918781725888325,\n",
       "   'asian': 0.35507246376811596,\n",
       "   'white': 0.27972027972027974,\n",
       "   'other': 0.26053639846743293}),\n",
       " ('northamptonshire',\n",
       "  0.09062864984051999,\n",
       "  {'black': 0.255079006772009,\n",
       "   'asian': 0.345707656612529,\n",
       "   'white': 0.26136363636363635}),\n",
       " ('cleveland',\n",
       "  0.1098037041144505,\n",
       "  {'black': 0.3466666666666667,\n",
       "   'asian': 0.3661417322834646,\n",
       "   'white': 0.2563380281690141})]"
      ]
     },
     "execution_count": 72,
     "metadata": {},
     "output_type": "execute_result"
    }
   ],
   "source": [
    "problematic_departments_e"
   ]
  },
  {
   "cell_type": "markdown",
   "id": "typical-restriction",
   "metadata": {},
   "source": [
    "### 3 - No police station should have a discrepancy bigger than x% between the Removal of more than just outer clothing rate between protected classes (age, ethnicity, gender)"
   ]
  },
  {
   "cell_type": "code",
   "execution_count": null,
   "id": "gorgeous-foundation",
   "metadata": {},
   "outputs": [],
   "source": [
    "\n"
   ]
  },
  {
   "cell_type": "code",
   "execution_count": 73,
   "id": "angry-sewing",
   "metadata": {},
   "outputs": [],
   "source": [
    "def verify_removal_clothing(X_test, y_true, y_pred, sensitive_column, max_diff, min_samples=50):\n",
    "    \"\"\"\n",
    "    Verifies that no station has discrepancy Removal of more than just outer clothing rate between \n",
    "    protected classes (age, ethnicity, gender)\n",
    "    \"\"\"\n",
    "    exclusion_class = ['Other']\n",
    "    exclusion_stations_removalclothes = ['cleveland', 'north-yorkshire', 'surrey']\n",
    "    \n",
    "    departments = X_test['station'].unique()\n",
    "    sensitive_classes = X_test[sensitive_column].unique()\n",
    "    \n",
    "    is_satisfied = True\n",
    "    problematic_departments = []\n",
    "    good_deparments = []\n",
    "    ignored_departments = []\n",
    "    for department in departments:\n",
    "        if department not in exclusion_stations_removalclothes:\n",
    "            removal_rate = {}\n",
    "            for sensitive_class in sensitive_classes:\n",
    "                if sensitive_class not in exclusion_class:\n",
    "                    mask = (X_test[sensitive_column] == sensitive_class) & (X_test['station'] == department) & (y_pred == 1)\n",
    "                    if np.sum(mask) > min_samples:\n",
    "                        removal_rate[sensitive_class] = (np.sum(X_test[mask]['Removal of more than just outer clothing']==1))/(X_test[mask]['Removal of more than just outer clothing'].shape[0])\n",
    "                \n",
    "        if len(removal_rate) > 1:    \n",
    "            diff = np.max(list(removal_rate.values())) - np.min(list(removal_rate.values()))\n",
    "\n",
    "            if diff > max_diff:\n",
    "                is_satisfied = False\n",
    "                problematic_departments.append((department, diff, removal_rate))\n",
    "            else:\n",
    "                good_deparments.append((department, diff, removal_rate))\n",
    "        else:\n",
    "            ignored_departments.append((department, None, []))\n",
    "    \n",
    "    global_removal_rate = {}\n",
    "    for sensitive_class in sensitive_classes:\n",
    "        mask = (X_test[sensitive_column] == sensitive_class) & (y_pred == True)\n",
    "        if np.sum(mask) > min_samples:\n",
    "            global_removal_rate[sensitive_class] = (np.sum(X_test[mask]['Removal of more than just outer clothing']==True))/(X_test[mask]['Removal of more than just outer clothing'].shape[0])\n",
    "\n",
    "        \n",
    "    return is_satisfied, problematic_departments, good_deparments, ignored_departments, global_removal_rate\n"
   ]
  },
  {
   "cell_type": "code",
   "execution_count": 74,
   "id": "brazilian-characterization",
   "metadata": {},
   "outputs": [
    {
     "name": "stdout",
     "output_type": "stream",
     "text": [
      "\n",
      "Gender\n",
      "Requirement failed 😢\n",
      "Global rates: {'male': 0.06264047622290937, 'female': 0.05292430694359955, 'other': 0.037037037037037035}\n",
      "Num problematic departments: 10\n",
      "Num good departments: 26\n",
      "Num ignored departments: 2\n",
      "avg diff: 0.0680302747741303\n",
      "\n",
      "\n",
      "Age range\n",
      "Requirement failed 😢\n",
      "Global rates: {'25-34': 0.06118818925649235, '18-24': 0.06851806054610786, 'under 18': 0.04940952179208812, 'over 34': 0.05536199567974357}\n",
      "Num problematic departments: 20\n",
      "Num good departments: 18\n",
      "Num ignored departments: 0\n",
      "avg diff: 0.09127451096105868\n",
      "\n",
      "\n",
      "Ethnicity\n",
      "Requirement failed 😢\n",
      "Global rates: {'black': 0.10155145162632061, 'asian': 0.052157672269733606, 'white': 0.03596573574278338, 'other': 0.05196195005945303}\n",
      "Num problematic departments: 14\n",
      "Num good departments: 24\n",
      "Num ignored departments: 0\n",
      "avg diff: 0.16510066907152052\n"
     ]
    }
   ],
   "source": [
    "is_satisfied, problematic_departments, good_deparments, ignored_departments, global_removal_rate = verify_removal_clothing(\n",
    "    df_test, y_test, y_pred_threshold, 'Gender', 0.05)\n",
    "\n",
    "print(\"\\nGender\")\n",
    "\n",
    "if not is_satisfied:\n",
    "    print(\"Requirement failed 😢\")\n",
    "    print(\"Global rates: {}\".format(global_removal_rate))\n",
    "    print(\"Num problematic departments: {}\".format(len(problematic_departments)))\n",
    "    print(\"Num good departments: {}\".format(len(good_deparments)))\n",
    "    print(\"Num ignored departments: {}\".format(len(ignored_departments)))\n",
    "    \n",
    "    print(\"avg diff:\", np.mean([p[1] for p in problematic_departments]))\n",
    "    \n",
    "    \n",
    "is_satisfied, problematic_departments, good_deparments, ignored_departments, global_removal_rate = verify_removal_clothing(\n",
    "    df_test, y_test, y_pred_threshold, 'Age range', 0.05)\n",
    "\n",
    "print(\"\\n\\nAge range\")\n",
    "\n",
    "if not is_satisfied:\n",
    "    print(\"Requirement failed 😢\")\n",
    "    print(\"Global rates: {}\".format(global_removal_rate))\n",
    "    print(\"Num problematic departments: {}\".format(len(problematic_departments)))\n",
    "    print(\"Num good departments: {}\".format(len(good_deparments)))\n",
    "    print(\"Num ignored departments: {}\".format(len(ignored_departments)))\n",
    "    \n",
    "    print(\"avg diff:\", np.mean([p[1] for p in problematic_departments]))\n",
    "    \n",
    "    \n",
    "is_satisfied, problematic_departments, good_deparments, ignored_departments, global_removal_rate = verify_removal_clothing(\n",
    "    df_test, y_test, y_pred_threshold, 'Officer-defined ethnicity', 0.1)\n",
    "\n",
    "print(\"\\n\\nEthnicity\")\n",
    "\n",
    "if not is_satisfied:\n",
    "    print(\"Requirement failed 😢\")\n",
    "    print(\"Global rates: {}\".format(global_removal_rate))\n",
    "    print(\"Num problematic departments: {}\".format(len(problematic_departments)))\n",
    "    print(\"Num good departments: {}\".format(len(good_deparments)))\n",
    "    print(\"Num ignored departments: {}\".format(len(ignored_departments)))\n",
    "    \n",
    "    print(\"avg diff:\", np.mean([p[1] for p in problematic_departments]))"
   ]
  },
  {
   "cell_type": "code",
   "execution_count": null,
   "id": "according-animation",
   "metadata": {},
   "outputs": [],
   "source": []
  },
  {
   "cell_type": "markdown",
   "id": "dietary-centre",
   "metadata": {},
   "source": [
    "### SERIALIZE"
   ]
  },
  {
   "cell_type": "code",
   "execution_count": 75,
   "id": "sonic-monaco",
   "metadata": {},
   "outputs": [],
   "source": [
    "# with open('columns.json', 'w') as fh:\n",
    "#     json.dump(X_train.columns.tolist(), fh)\n",
    "    \n",
    "# with open('dtypes.pickle', 'wb') as fh:\n",
    "#     pickle.dump(X_train.dtypes, fh)\n",
    "    \n",
    "# joblib.dump(pipeline, 'pipeline.pickle');"
   ]
  },
  {
   "cell_type": "code",
   "execution_count": 76,
   "id": "parliamentary-shower",
   "metadata": {},
   "outputs": [
    {
     "data": {
      "text/plain": [
       "['Type',\n",
       " 'Part of a policing operation',\n",
       " 'Age range',\n",
       " 'Legislation',\n",
       " 'hour',\n",
       " 'month',\n",
       " 'day_of_week',\n",
       " 'Gender',\n",
       " 'Officer-defined ethnicity',\n",
       " 'Latitude',\n",
       " 'Longitude']"
      ]
     },
     "execution_count": 76,
     "metadata": {},
     "output_type": "execute_result"
    }
   ],
   "source": [
    "X_train.columns.tolist()"
   ]
  },
  {
   "cell_type": "code",
   "execution_count": 77,
   "id": "large-playing",
   "metadata": {},
   "outputs": [
    {
     "data": {
      "text/plain": [
       "Type                             object\n",
       "Part of a policing operation       bool\n",
       "Age range                        object\n",
       "Legislation                      object\n",
       "hour                              int64\n",
       "month                             int64\n",
       "day_of_week                      object\n",
       "Gender                           object\n",
       "Officer-defined ethnicity        object\n",
       "Latitude                        float64\n",
       "Longitude                       float64\n",
       "dtype: object"
      ]
     },
     "execution_count": 77,
     "metadata": {},
     "output_type": "execute_result"
    }
   ],
   "source": [
    "X_train.dtypes"
   ]
  },
  {
   "cell_type": "code",
   "execution_count": null,
   "id": "colored-replacement",
   "metadata": {},
   "outputs": [],
   "source": []
  },
  {
   "cell_type": "code",
   "execution_count": null,
   "id": "loving-newman",
   "metadata": {},
   "outputs": [],
   "source": []
  },
  {
   "cell_type": "code",
   "execution_count": null,
   "id": "superior-light",
   "metadata": {},
   "outputs": [],
   "source": []
  }
 ],
 "metadata": {
  "kernelspec": {
   "display_name": "Python 3",
   "language": "python",
   "name": "python3"
  },
  "language_info": {
   "codemirror_mode": {
    "name": "ipython",
    "version": 3
   },
   "file_extension": ".py",
   "mimetype": "text/x-python",
   "name": "python",
   "nbconvert_exporter": "python",
   "pygments_lexer": "ipython3",
   "version": "3.6.9"
  }
 },
 "nbformat": 4,
 "nbformat_minor": 5
}
