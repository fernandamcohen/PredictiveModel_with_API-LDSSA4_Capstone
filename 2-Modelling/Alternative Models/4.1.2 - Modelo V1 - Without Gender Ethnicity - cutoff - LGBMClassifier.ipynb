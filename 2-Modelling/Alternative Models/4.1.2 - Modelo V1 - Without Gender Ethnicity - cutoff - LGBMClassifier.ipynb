{
 "cells": [
  {
   "cell_type": "code",
   "execution_count": 2,
   "id": "precious-little",
   "metadata": {},
   "outputs": [],
   "source": [
    "import json\n",
    "import joblib\n",
    "import pickle\n",
    "import pandas as pd\n",
    "import numpy as np\n",
    "# import seaborn as sns\n",
    "from sklearn.model_selection import train_test_split\n",
    "from sklearn.pipeline import make_pipeline, Pipeline\n",
    "from sklearn.impute import SimpleImputer\n",
    "from sklearn.preprocessing import StandardScaler, OneHotEncoder\n",
    "from sklearn.compose import ColumnTransformer\n",
    "from sklearn.ensemble import RandomForestClassifier\n",
    "from sklearn.metrics import precision_score, recall_score, roc_auc_score\n",
    "from sklearn.metrics import precision_recall_curve\n",
    "\n",
    "import matplotlib.pyplot as plt\n",
    "import matplotlib.image as mpimg\n",
    "%matplotlib inline\n",
    "\n",
    "import warnings\n",
    "warnings.filterwarnings('ignore')\n",
    "\n",
    "from lightgbm import LGBMClassifier"
   ]
  },
  {
   "cell_type": "markdown",
   "id": "uniform-heart",
   "metadata": {},
   "source": [
    "### Import dataset"
   ]
  },
  {
   "cell_type": "code",
   "execution_count": 3,
   "id": "dramatic-contact",
   "metadata": {},
   "outputs": [],
   "source": [
    "train = pd.read_csv('data/train.csv')"
   ]
  },
  {
   "cell_type": "code",
   "execution_count": 4,
   "id": "collaborative-shock",
   "metadata": {},
   "outputs": [
    {
     "data": {
      "text/plain": [
       "False    660611\n",
       "dtype: int64"
      ]
     },
     "execution_count": 4,
     "metadata": {},
     "output_type": "execute_result"
    }
   ],
   "source": [
    "# no duplicate lines\n",
    "train.duplicated().value_counts()"
   ]
  },
  {
   "cell_type": "code",
   "execution_count": 5,
   "id": "excess-metallic",
   "metadata": {},
   "outputs": [
    {
     "data": {
      "text/plain": [
       "False    660611\n",
       "Name: observation_id, dtype: int64"
      ]
     },
     "execution_count": 5,
     "metadata": {},
     "output_type": "execute_result"
    }
   ],
   "source": [
    "# no duplicate observation_id\n",
    "train['observation_id'].duplicated().value_counts()"
   ]
  },
  {
   "cell_type": "markdown",
   "id": "public-summer",
   "metadata": {},
   "source": [
    "### Features adjustments"
   ]
  },
  {
   "cell_type": "code",
   "execution_count": 6,
   "id": "engaged-suicide",
   "metadata": {},
   "outputs": [],
   "source": [
    "# transforming Date column in datetime\n",
    "train['Date']=pd.to_datetime(train['Date'], infer_datetime_format=True)\n",
    "\n",
    "# auxiliar Date feature (for temporal analyzis)\n",
    "train['referencia'] = train['Date'].dt.year*100 + train['Date'].dt.month\n",
    "\n",
    "# according to Dr Wilson's instructions: \n",
    "# \"If there was a search and the outcome linked to object of search has not been written please consider it to be False\"\n",
    "train['Outcome linked to object of search'] = train['Outcome linked to object of search'].fillna(False)\n",
    "\n",
    "# according to Dr Wilson's instructions missing values means False \n",
    "train['Part of a policing operation'] = train['Part of a policing operation'].fillna(False)\n",
    "\n",
    "# Outer clothing be filled with False? \n",
    "#Yes, except when it’s just a vehicle search, in which case it makes no sense and should be kept as NaN\n",
    "mask= ((train['Type']!='Vehicle search') & \n",
    "      (train['Removal of more than just outer clothing'] != True) &\n",
    "      (train['Removal of more than just outer clothing'] != False))\n",
    "\n",
    "train.loc[mask, 'Removal of more than just outer clothing']=False"
   ]
  },
  {
   "cell_type": "markdown",
   "id": "commercial-panic",
   "metadata": {},
   "source": [
    "### Filtering / Exclusions"
   ]
  },
  {
   "cell_type": "code",
   "execution_count": 7,
   "id": "cutting-phone",
   "metadata": {},
   "outputs": [],
   "source": [
    "# The Metropolitan station (which is very large and has lots of data in the training set) has the features \n",
    "# Outcome linked to object of search and Removal of outer clothing without any data (always missing). \n",
    "# Is this a known problem, and if so how should we proceed? \n",
    "# Thank you for bringing this to our attention, I’ve contacted the administration at the Metropolitan and asked that \n",
    "# they fix their data entry. Please include this in your report, and do not use the Metropolitan station’s data \n",
    "# for training your models. They will not be in the test set. "
   ]
  },
  {
   "cell_type": "code",
   "execution_count": 8,
   "id": "normal-literature",
   "metadata": {},
   "outputs": [],
   "source": [
    "# Gwent and Humberside have the same problem of Metropolitan. So I will exclude this observations"
   ]
  },
  {
   "cell_type": "code",
   "execution_count": 9,
   "id": "coordinate-night",
   "metadata": {},
   "outputs": [
    {
     "name": "stdout",
     "output_type": "stream",
     "text": [
      "Exclusion of 355849 observations\n"
     ]
    },
    {
     "data": {
      "text/plain": [
       "(304762, 17)"
      ]
     },
     "execution_count": 9,
     "metadata": {},
     "output_type": "execute_result"
    }
   ],
   "source": [
    "stations_to_exclude = ['metropolitan', 'gwent', 'humberside']\n",
    "train_model = train[~train['station'].isin(stations_to_exclude)]\n",
    "print(\"Exclusion of {} observations\".format(train[train['station'].isin(stations_to_exclude)]['observation_id'].nunique()))\n",
    "train_model.shape"
   ]
  },
  {
   "cell_type": "code",
   "execution_count": 10,
   "id": "lonely-collins",
   "metadata": {},
   "outputs": [],
   "source": [
    "# Search on individuals with less than 10 years seems unrealist, so I will remove it"
   ]
  },
  {
   "cell_type": "code",
   "execution_count": 11,
   "id": "amended-surgery",
   "metadata": {},
   "outputs": [],
   "source": [
    "# age_to_exclude = ['under 10']\n",
    "# print(\"Exclusion of {} observations\".format(train_model[train_model['Age range'].isin(age_to_exclude)]['observation_id'].nunique()))\n",
    "# train_model = train_model[~train_model['Age range'].isin(age_to_exclude)]\n",
    "# train_model.shape"
   ]
  },
  {
   "cell_type": "markdown",
   "id": "centered-optimization",
   "metadata": {},
   "source": [
    "### Target"
   ]
  },
  {
   "cell_type": "code",
   "execution_count": 12,
   "id": "judicial-language",
   "metadata": {},
   "outputs": [],
   "source": [
    "positive_outcome = ['Local resolution',\n",
    "           'Community resolution',\n",
    "           'Arrest',\n",
    "           'Article found - Detailed outcome unavailable',\n",
    "           'Caution (simple or conditional)',\n",
    "           'Khat or Cannabis warning',\n",
    "           'Offender cautioned',\n",
    "           'Offender given drugs possession warning',\n",
    "           'Offender given penalty notice',\n",
    "           'Penalty Notice for Disorder',\n",
    "           'Summons / charged by post',\n",
    "           'Suspect arrested',\n",
    "           'Suspect summonsed to court',\n",
    "           'Suspected psychoactive substances seized - No further action']\n",
    "\n",
    "train_model['positive_outcome'] = train_model['Outcome'].isin(positive_outcome)"
   ]
  },
  {
   "cell_type": "code",
   "execution_count": 13,
   "id": "accompanied-intent",
   "metadata": {},
   "outputs": [],
   "source": [
    "train_model['target'] = False\n",
    "mask=((train_model[\"positive_outcome\"] == True) & (train_model[\"Outcome linked to object of search\"]==True))\n",
    "train_model.loc[mask, 'target']=True"
   ]
  },
  {
   "cell_type": "code",
   "execution_count": 14,
   "id": "spiritual-profit",
   "metadata": {},
   "outputs": [
    {
     "data": {
      "text/html": [
       "<div>\n",
       "<style scoped>\n",
       "    .dataframe tbody tr th:only-of-type {\n",
       "        vertical-align: middle;\n",
       "    }\n",
       "\n",
       "    .dataframe tbody tr th {\n",
       "        vertical-align: top;\n",
       "    }\n",
       "\n",
       "    .dataframe thead th {\n",
       "        text-align: right;\n",
       "    }\n",
       "</style>\n",
       "<table border=\"1\" class=\"dataframe\">\n",
       "  <thead>\n",
       "    <tr style=\"text-align: right;\">\n",
       "      <th>Outcome linked to object of search</th>\n",
       "      <th>False</th>\n",
       "      <th>True</th>\n",
       "      <th>Total</th>\n",
       "    </tr>\n",
       "    <tr>\n",
       "      <th>positive_outcome</th>\n",
       "      <th></th>\n",
       "      <th></th>\n",
       "      <th></th>\n",
       "    </tr>\n",
       "  </thead>\n",
       "  <tbody>\n",
       "    <tr>\n",
       "      <th>False</th>\n",
       "      <td>174918</td>\n",
       "      <td>37987</td>\n",
       "      <td>212905</td>\n",
       "    </tr>\n",
       "    <tr>\n",
       "      <th>True</th>\n",
       "      <td>29571</td>\n",
       "      <td>62286</td>\n",
       "      <td>91857</td>\n",
       "    </tr>\n",
       "    <tr>\n",
       "      <th>Total</th>\n",
       "      <td>204489</td>\n",
       "      <td>100273</td>\n",
       "      <td>304762</td>\n",
       "    </tr>\n",
       "  </tbody>\n",
       "</table>\n",
       "</div>"
      ],
      "text/plain": [
       "Outcome linked to object of search   False    True   Total\n",
       "positive_outcome                                          \n",
       "False                               174918   37987  212905\n",
       "True                                 29571   62286   91857\n",
       "Total                               204489  100273  304762"
      ]
     },
     "execution_count": 14,
     "metadata": {},
     "output_type": "execute_result"
    }
   ],
   "source": [
    "pd.crosstab(train_model[\"positive_outcome\"],train_model[\"Outcome linked to object of search\"],\n",
    "            margins=True, margins_name=\"Total\",dropna=False)"
   ]
  },
  {
   "cell_type": "code",
   "execution_count": 15,
   "id": "assumed-sessions",
   "metadata": {},
   "outputs": [
    {
     "name": "stdout",
     "output_type": "stream",
     "text": [
      "False    242476\n",
      "True      62286\n",
      "Name: target, dtype: int64\n"
     ]
    },
    {
     "data": {
      "text/plain": [
       "False    0.795624\n",
       "True     0.204376\n",
       "Name: target, dtype: float64"
      ]
     },
     "execution_count": 15,
     "metadata": {},
     "output_type": "execute_result"
    }
   ],
   "source": [
    "print(train_model['target'].value_counts(dropna=False))\n",
    "train_model['target'].value_counts(dropna=False,normalize=True)"
   ]
  },
  {
   "cell_type": "code",
   "execution_count": 16,
   "id": "secret-yacht",
   "metadata": {},
   "outputs": [],
   "source": [
    "# print(train_model['positive_outcome'].value_counts(dropna=False))\n",
    "# train_model['positive_outcome'].value_counts(dropna=False,normalize=True)\n",
    "# pd.crosstab(train_model[\"referencia\"],train_model[\"target\"],normalize='index')\n",
    "# pd.crosstab(train_model[\"Gender\"],train_model[\"target\"],normalize='index')\n",
    "# pd.crosstab(train_model[\"station\"],train_model[\"target\"],normalize='index')\n",
    "# pd.crosstab(train_model[\"station\"],train_model[\"positive_outcome\"],normalize='index')"
   ]
  },
  {
   "cell_type": "markdown",
   "id": "responsible-retreat",
   "metadata": {},
   "source": [
    "### Feature engineering"
   ]
  },
  {
   "cell_type": "code",
   "execution_count": 17,
   "id": "lonely-saint",
   "metadata": {},
   "outputs": [],
   "source": [
    "# get the hour and day of the week, maybe they will be useful \n",
    "train_model['hour'] = train_model['Date'].dt.hour\n",
    "train_model['month'] = train_model['Date'].dt.month\n",
    "train_model['day_of_week'] = train_model['Date'].dt.day_name()"
   ]
  },
  {
   "cell_type": "code",
   "execution_count": 18,
   "id": "direct-drama",
   "metadata": {},
   "outputs": [
    {
     "data": {
      "text/plain": [
       "misuse of drugs act 1971 (section 23)                      178620\n",
       "police and criminal evidence act 1984 (section 1)           92651\n",
       "missing infomation                                          27931\n",
       "criminal justice and public order act 1994 (section 60)      2670\n",
       "firearms act 1968 (section 47)                               1830\n",
       "others                                                       1060\n",
       "Name: Legislation, dtype: int64"
      ]
     },
     "execution_count": 18,
     "metadata": {},
     "output_type": "execute_result"
    }
   ],
   "source": [
    "# Legislation - reducing the quantity of categories\n",
    "# train_model.groupby(['Legislation','target'], dropna=False)['Outcome'].count().unstack()\n",
    "\n",
    "train_model['Legislation']=train_model['Legislation'].fillna('missing infomation')\n",
    "train_model['Legislation'] = train_model['Legislation'].apply(lambda x: str(x).lower())\n",
    "\n",
    "legislation_categories = ['misuse of drugs act 1971 (section 23)', 'police and criminal evidence act 1984 (section 1)', \n",
    "                          'criminal justice and public order act 1994 (section 60)', 'firearms act 1968 (section 47)',\n",
    "                          'missing infomation']\n",
    "\n",
    "mask=(~train_model['Legislation'].isin(legislation_categories))\n",
    "train_model.loc[mask, 'Legislation']='others'\n",
    "\n",
    "train_model['Legislation'].value_counts()"
   ]
  },
  {
   "cell_type": "markdown",
   "id": "metropolitan-disability",
   "metadata": {},
   "source": [
    "### Text Data normalization"
   ]
  },
  {
   "cell_type": "code",
   "execution_count": 19,
   "id": "satellite-harvard",
   "metadata": {},
   "outputs": [
    {
     "data": {
      "text/plain": [
       "controlled drugs                              192161\n",
       "offensive weapons                              35391\n",
       "article for use in theft                       30287\n",
       "stolen goods                                   26617\n",
       "articles for use in criminal damage             6494\n",
       "anything to threaten or harm anyone             5241\n",
       "firearms                                        2957\n",
       "evidence of offences under the act              1930\n",
       "psychoactive substances                         1701\n",
       "fireworks                                       1695\n",
       "detailed object of search unavailable            129\n",
       "game or poaching equipment                        96\n",
       "goods on which duty has not been paid etc.        23\n",
       "evidence of wildlife offences                     21\n",
       "crossbows                                         17\n",
       "seals or hunting equipment                         2\n",
       "Name: Object of search, dtype: int64"
      ]
     },
     "execution_count": 19,
     "metadata": {},
     "output_type": "execute_result"
    }
   ],
   "source": [
    "train_model['Object of search'] = train_model['Object of search'].apply(lambda x: str(x).lower())\n",
    "train_model['Object of search'].value_counts()"
   ]
  },
  {
   "cell_type": "code",
   "execution_count": 20,
   "id": "imperial-conflict",
   "metadata": {},
   "outputs": [],
   "source": [
    "train_model['station'] = train_model['station'].apply(lambda x: str(x).lower())\n",
    "# train_model['station'].value_counts()"
   ]
  },
  {
   "cell_type": "code",
   "execution_count": null,
   "id": "artistic-barcelona",
   "metadata": {},
   "outputs": [],
   "source": []
  },
  {
   "cell_type": "markdown",
   "id": "declared-reality",
   "metadata": {},
   "source": [
    "### Latitude and Longitude"
   ]
  },
  {
   "cell_type": "code",
   "execution_count": 21,
   "id": "behavioral-samba",
   "metadata": {},
   "outputs": [
    {
     "name": "stdout",
     "output_type": "stream",
     "text": [
      "count    228038.000000\n",
      "mean         52.511589\n",
      "std           1.133850\n",
      "min          49.892149\n",
      "25%          51.485978\n",
      "50%          52.609826\n",
      "75%          53.422686\n",
      "max          57.143856\n",
      "Name: Latitude, dtype: float64\n"
     ]
    },
    {
     "data": {
      "text/plain": [
       "count    228038.000000\n",
       "mean         -1.343263\n",
       "std           1.365160\n",
       "min          -8.053397\n",
       "25%          -2.599163\n",
       "50%          -1.464553\n",
       "75%          -0.207006\n",
       "max           1.756480\n",
       "Name: Longitude, dtype: float64"
      ]
     },
     "execution_count": 21,
     "metadata": {},
     "output_type": "execute_result"
    }
   ],
   "source": [
    "print(train_model['Latitude'].describe())\n",
    "train_model['Longitude'].describe()"
   ]
  },
  {
   "cell_type": "code",
   "execution_count": 22,
   "id": "stunning-booth",
   "metadata": {},
   "outputs": [],
   "source": [
    "train_model['Latitude'] = train_model['Longitude'].fillna(0)\n",
    "train_model['Longitude'] = train_model['Longitude'].fillna(0)"
   ]
  },
  {
   "cell_type": "markdown",
   "id": "duplicate-estate",
   "metadata": {},
   "source": [
    "### Data split"
   ]
  },
  {
   "cell_type": "code",
   "execution_count": 23,
   "id": "closed-image",
   "metadata": {},
   "outputs": [],
   "source": [
    "df_train, df_test = train_test_split(train_model, test_size=0.3, random_state=42)"
   ]
  },
  {
   "cell_type": "code",
   "execution_count": 24,
   "id": "pleased-chosen",
   "metadata": {},
   "outputs": [
    {
     "data": {
      "text/plain": [
       "(213333, 22)"
      ]
     },
     "execution_count": 24,
     "metadata": {},
     "output_type": "execute_result"
    }
   ],
   "source": [
    "df_train.shape"
   ]
  },
  {
   "cell_type": "code",
   "execution_count": 25,
   "id": "sharing-treat",
   "metadata": {},
   "outputs": [
    {
     "data": {
      "text/plain": [
       "(91429, 22)"
      ]
     },
     "execution_count": 25,
     "metadata": {},
     "output_type": "execute_result"
    }
   ],
   "source": [
    "df_test.shape"
   ]
  },
  {
   "cell_type": "code",
   "execution_count": 26,
   "id": "confidential-retro",
   "metadata": {},
   "outputs": [
    {
     "data": {
      "text/plain": [
       "Saturday     34161\n",
       "Friday       33994\n",
       "Thursday     30593\n",
       "Wednesday    30283\n",
       "Tuesday      28674\n",
       "Monday       27828\n",
       "Sunday       27800\n",
       "Name: day_of_week, dtype: int64"
      ]
     },
     "execution_count": 26,
     "metadata": {},
     "output_type": "execute_result"
    }
   ],
   "source": [
    "df_train.day_of_week.value_counts()"
   ]
  },
  {
   "cell_type": "markdown",
   "id": "emotional-specialist",
   "metadata": {},
   "source": [
    "### Training a baseline model"
   ]
  },
  {
   "cell_type": "code",
   "execution_count": 27,
   "id": "collectible-sustainability",
   "metadata": {},
   "outputs": [
    {
     "data": {
      "text/plain": [
       "0.5006349027973865"
      ]
     },
     "execution_count": 27,
     "metadata": {},
     "output_type": "execute_result"
    }
   ],
   "source": [
    "all_features = ['Type', 'Part of a policing operation','Latitude', 'Longitude', 'Age range',\n",
    "                'Legislation', 'Object of search', 'station', \n",
    "                'hour', 'month', 'day_of_week']\n",
    "\n",
    "numerical_features = ['Latitude', 'Longitude','hour', 'month']\n",
    "\n",
    "categorical_features = ['Type', 'Part of a policing operation', 'Age range',\n",
    "                        'Legislation', 'Object of search', 'station', \n",
    "                        'day_of_week']\n",
    "\n",
    "numeric_transformer = Pipeline(steps=[\n",
    "    ('imputer', SimpleImputer(strategy='median')),\n",
    "    ('scaler', StandardScaler())])\n",
    "\n",
    "categorical_transformer = Pipeline(steps=[\n",
    "    ('imputer', SimpleImputer(strategy='constant', fill_value='missing')),\n",
    "    ('onehot', OneHotEncoder(handle_unknown='ignore'))])\n",
    "\n",
    "preprocessor = ColumnTransformer(\n",
    "    transformers=[\n",
    "        ('num', numeric_transformer, numerical_features),\n",
    "        ('cat', categorical_transformer, categorical_features)])\n",
    "\n",
    "pipeline = make_pipeline(\n",
    "    preprocessor,\n",
    "    LGBMClassifier(random_state=42, n_jobs=-1),\n",
    ")\n",
    "\n",
    "\n",
    "X_train = df_train[all_features]\n",
    "y_train = df_train['target']\n",
    "\n",
    "pipeline.fit(X_train, y_train)\n",
    "\n",
    "X_test = df_test[all_features]\n",
    "y_test = df_test['target']\n",
    "\n",
    "y_pred = pipeline.predict(X_test)\n",
    "y_proba = pipeline.predict_proba(X_test)\n",
    "y_pred_train = pipeline.predict(X_train)\n",
    "\n",
    "# To use on other cells\n",
    "# X_train_baseline = X_train.copy()\n",
    "# X_test_baseline = df_test.copy()\n",
    "# y_test_baseline = X_test_baseline[target].copy()\n",
    "# y_pred_baseline = y_pred.copy()\n",
    "# pipeline_baseline = pipeline\n",
    "\n",
    "roc_auc_score(y_test, y_pred)"
   ]
  },
  {
   "cell_type": "code",
   "execution_count": null,
   "id": "informative-aquatic",
   "metadata": {},
   "outputs": [],
   "source": []
  },
  {
   "cell_type": "code",
   "execution_count": 90,
   "id": "sunrise-letter",
   "metadata": {},
   "outputs": [],
   "source": [
    "precision, recall, thresholds = precision_recall_curve(y_test, y_proba[:,1])"
   ]
  },
  {
   "cell_type": "code",
   "execution_count": 91,
   "id": "equipped-protection",
   "metadata": {},
   "outputs": [],
   "source": [
    "precision = precision[:-1]\n",
    "recall = recall[:-1]"
   ]
  },
  {
   "cell_type": "code",
   "execution_count": 92,
   "id": "fifteen-competition",
   "metadata": {},
   "outputs": [
    {
     "data": {
      "image/png": "[encoded data removed]",
      "text/plain": [
       "<Figure size 432x288 with 2 Axes>"
      ]
     },
     "metadata": {
      "needs_background": "light"
     },
     "output_type": "display_data"
    }
   ],
   "source": [
    "fig=plt.figure()\n",
    "ax1 = plt.subplot(211)\n",
    "ax2 = plt.subplot(212)\n",
    "ax1.hlines(y=0.1,xmin=0, xmax=1, colors='red')\n",
    "ax1.plot(thresholds,precision)\n",
    "ax2.plot(thresholds,recall)\n",
    "ax1.get_shared_x_axes().join(ax1, ax2)\n",
    "ax1.set_xticklabels([])\n",
    "plt.xlabel('Threshold')\n",
    "ax1.set_title('Precision')\n",
    "ax2.set_title('Recall')\n",
    "plt.show()"
   ]
  },
  {
   "cell_type": "code",
   "execution_count": 96,
   "id": "generic-providence",
   "metadata": {},
   "outputs": [
    {
     "name": "stdout",
     "output_type": "stream",
     "text": [
      "13523\n"
     ]
    },
    {
     "data": {
      "text/plain": [
       "0.14062270781143885"
      ]
     },
     "execution_count": 96,
     "metadata": {},
     "output_type": "execute_result"
    }
   ],
   "source": [
    "min_index = [i for i, rec in enumerate(recall) if rec < 0.9][0]\n",
    "print(min_index)\n",
    "thresholds[min_index]"
   ]
  },
  {
   "cell_type": "code",
   "execution_count": 97,
   "id": "responsible-liechtenstein",
   "metadata": {},
   "outputs": [
    {
     "data": {
      "text/plain": [
       "0.25446136526144436"
      ]
     },
     "execution_count": 97,
     "metadata": {},
     "output_type": "execute_result"
    }
   ],
   "source": [
    "precision[min_index]"
   ]
  },
  {
   "cell_type": "code",
   "execution_count": 98,
   "id": "unlike-expression",
   "metadata": {},
   "outputs": [
    {
     "data": {
      "image/png": "[encoded data removed]",
      "text/plain": [
       "<Figure size 432x288 with 1 Axes>"
      ]
     },
     "metadata": {
      "needs_background": "light"
     },
     "output_type": "display_data"
    }
   ],
   "source": [
    "pd.Series(y_proba[:,1]).hist(bins=20, figsize=(6, 4));\n",
    "# df.hist(column='SubjectAge', bins=20, figsize=(6, 4));"
   ]
  },
  {
   "cell_type": "code",
   "execution_count": 102,
   "id": "stupid-transition",
   "metadata": {},
   "outputs": [],
   "source": [
    "threshold = thresholds[min_index]\n",
    "y_pred_threshold = pd.Series([True if p >= threshold else False for p in y_proba[:,1]]).to_numpy()"
   ]
  },
  {
   "cell_type": "code",
   "execution_count": 82,
   "id": "geological-listing",
   "metadata": {},
   "outputs": [
    {
     "name": "stdout",
     "output_type": "stream",
     "text": [
      "<class 'numpy.ndarray'>\n"
     ]
    },
    {
     "data": {
      "text/plain": [
       "numpy.ndarray"
      ]
     },
     "execution_count": 82,
     "metadata": {},
     "output_type": "execute_result"
    }
   ],
   "source": [
    "print(type(y_pred))\n",
    "type(y_pred_threshold)"
   ]
  },
  {
   "cell_type": "code",
   "execution_count": null,
   "id": "regulation-expense",
   "metadata": {},
   "outputs": [],
   "source": []
  },
  {
   "cell_type": "markdown",
   "id": "optical-daily",
   "metadata": {},
   "source": [
    "#### most important features"
   ]
  },
  {
   "cell_type": "code",
   "execution_count": 53,
   "id": "committed-japan",
   "metadata": {},
   "outputs": [],
   "source": [
    "# categorical_encode_step = pipeline.named_steps['columntransformer'].named_transformers_['cat'].named_steps['onehot']\n",
    "# random_forest_step = pipeline.named_steps['randomforestclassifier']\n",
    "\n",
    "# onehot_columns = categorical_encode_step.get_feature_names(input_features=categorical_features)\n",
    "\n",
    "# importances = pd.Series(data=random_forest_step.feature_importances_, index = np.array(numerical_features + list(onehot_columns)))\n",
    "\n",
    "# indices = np.argsort(importances)[::-1]\n",
    "# print(\"Feature ranking:\")\n",
    "\n",
    "# for f in range(X_train.shape[1]):\n",
    "#     print(\"%d. feature %s (%f)\" % (f + 1, importances.index[indices[f]], importances[indices[f]]))\n",
    "\n",
    "# std = np.std([tree.feature_importances_ for tree in random_forest_step.estimators_], axis=0)\n",
    "\n",
    "# plt.figure()\n",
    "# plt.title(\"Feature importances\")\n",
    "# plt.bar(x=importances.index[indices], height=importances[indices],\n",
    "#         color=\"r\", yerr=std[indices], align=\"center\");\n",
    "# plt.xticks(range(len(importances.index[indices])), importances.index[indices], rotation=45, ha=\"right\")\n",
    "# plt.xlim([-1, X_train.shape[1]])\n",
    "# plt.xlabel('Features');\n",
    "# plt.ylabel('Importance');\n",
    "\n",
    "# plt.show()"
   ]
  },
  {
   "cell_type": "code",
   "execution_count": null,
   "id": "armed-motel",
   "metadata": {},
   "outputs": [],
   "source": []
  },
  {
   "cell_type": "markdown",
   "id": "lucky-perfume",
   "metadata": {},
   "source": [
    "## Formalizing client requirements"
   ]
  },
  {
   "cell_type": "code",
   "execution_count": null,
   "id": "innovative-ordering",
   "metadata": {},
   "outputs": [],
   "source": []
  },
  {
   "cell_type": "markdown",
   "id": "becoming-fellow",
   "metadata": {},
   "source": [
    "### 1 - Minimum 10% success rate for searches per station and search objective"
   ]
  },
  {
   "cell_type": "code",
   "execution_count": 103,
   "id": "opposed-bridge",
   "metadata": {},
   "outputs": [],
   "source": [
    "def verify_global_success_rate(y_true, y_pred, min_success_rate=0.1):\n",
    "    \"\"\"\n",
    "    Verifies the success rate on a test set is above a provided minimum\n",
    "    \"\"\"\n",
    "    \n",
    "    precision = precision_score(y_true, y_pred, pos_label=True)\n",
    "    is_satisfied = (precision >= min_success_rate)\n",
    "    \n",
    "    recall = recall_score(y_true, y_pred, pos_label=True)\n",
    "    \n",
    "    return is_satisfied, precision, recall"
   ]
  },
  {
   "cell_type": "code",
   "execution_count": 104,
   "id": "abroad-favorite",
   "metadata": {},
   "outputs": [
    {
     "name": "stdout",
     "output_type": "stream",
     "text": [
      "Global Precision: (True, 0.25446136526144436)\n",
      "Global Recall: 0.8999246744861724\n"
     ]
    }
   ],
   "source": [
    "is_verified, success_rate, recall = verify_global_success_rate(y_test, y_pred_threshold)\n",
    "\n",
    "print(\"Global Precision: {}\".format((is_verified, success_rate)))\n",
    "print(\"Global Recall: {}\".format(recall))"
   ]
  },
  {
   "cell_type": "code",
   "execution_count": 105,
   "id": "micro-proportion",
   "metadata": {},
   "outputs": [],
   "source": [
    "def verify_success_rate_objective_station(X_test, y_true, y_pred, sensitive_column='Object of search', \n",
    "                                          min_success_rate=0.1, min_samples=1):\n",
    "    \"\"\"\n",
    "    Verifies that success rate per station and search objective is higher than 10%\n",
    "    \"\"\"\n",
    "    \n",
    "    departments = X_test['station'].unique()\n",
    "    sensitive_classes = X_test[sensitive_column].unique()\n",
    "    \n",
    "    is_satisfied = True\n",
    "    problematic_departments = []\n",
    "    good_deparments = []\n",
    "    ignored_departments = []\n",
    "    for department in departments:\n",
    "        precisions = {}\n",
    "        for sensitive_class in sensitive_classes:\n",
    "            mask = (X_test[sensitive_column] == sensitive_class) & (X_test['station'] == department)\n",
    "            if np.sum(mask) > min_samples:\n",
    "                precisions[sensitive_class] = precision_score(y_true[mask], y_pred[mask], pos_label=1)\n",
    "                \n",
    "        if len(precisions) > 1:    \n",
    "            precision_min = np.min(list(precisions.values()))\n",
    "\n",
    "            if precision_min < min_success_rate:\n",
    "                is_satisfied = False\n",
    "                problematic_departments.append((department, precision_min, precisions))\n",
    "            else:\n",
    "                good_deparments.append((department, precision_min, precisions))\n",
    "        else:\n",
    "            ignored_departments.append((department, None, []))\n",
    "    \n",
    "    global_precisions = {}\n",
    "    for department in departments:\n",
    "        mask = (X_test['station'] == department)\n",
    "        if np.sum(mask) > min_samples:\n",
    "            global_precisions[department] = precision_score(y_true[mask], y_pred[mask])\n",
    "    \n",
    "        \n",
    "    return is_satisfied, problematic_departments, good_deparments, ignored_departments, global_precisions"
   ]
  },
  {
   "cell_type": "code",
   "execution_count": 106,
   "id": "innovative-colleague",
   "metadata": {},
   "outputs": [
    {
     "name": "stdout",
     "output_type": "stream",
     "text": [
      "Requirement failed 😢\n",
      "Num problematic stations: 35\n",
      "Num good stations: 4\n",
      "Num ignored departments: 0\n",
      "Station rates: {'bedfordshire': 0.25534441805225655, 'hertfordshire': 0.2799610263072426, 'kent': 0.27037037037037037, 'btp': 0.27666511411271544, 'warwickshire': 0.26344086021505375, 'staffordshire': 0.2572130141190915, 'leicestershire': 0.21875, 'derbyshire': 0.2735166425470333, 'cheshire': 0.32452518579686207, 'west-yorkshire': 0.21500798296966472, 'suffolk': 0.20526315789473684, 'hampshire': 0.28247777459133927, 'devon-and-cornwall': 0.2458762886597938, 'south-yorkshire': 0.2104324565314311, 'essex': 0.29203916560238397, 'norfolk': 0.18772136953955135, 'dyfed-powys': 0.2962962962962963, 'thames-valley': 0.18433490884537473, 'avon-and-somerset': 0.2721991701244813, 'merseyside': 0.24145129224652087, 'northumbria': 0.23115079365079366, 'sussex': 0.2390728476821192, 'surrey': 0.2859581732821169, 'nottinghamshire': 0.2951369480156512, 'city-of-london': 0.28615384615384615, 'west-mercia': 0.26737720111214086, 'lincolnshire': 0.20534629404617255, 'lancashire': 0.22093023255813954, 'gloucestershire': 0.25329428989751096, 'northamptonshire': 0.23446658851113716, 'cumbria': 0.24470134874759153, 'north-yorkshire': 0.19148936170212766, 'north-wales': 0.19607843137254902, 'cleveland': 0.29475982532751094, 'dorset': 0.2492836676217765, 'durham': 0.3439273552780931, 'greater-manchester': 0.27216748768472904, 'wiltshire': 0.2752808988764045, 'cambridgeshire': 0.3}\n"
     ]
    }
   ],
   "source": [
    "is_satisfied, problematic_departments, good_deparments, ignored_departments, global_precisions = verify_success_rate_objective_station(X_test, y_test, y_pred_threshold)\n",
    "\n",
    "if not is_satisfied:\n",
    "    print(\"Requirement failed 😢\")\n",
    "    print(\"Num problematic stations: {}\".format(len(problematic_departments)))\n",
    "    print(\"Num good stations: {}\".format(len(good_deparments)))\n",
    "    print(\"Num ignored departments: {}\".format(len(ignored_departments)))\n",
    "    print(\"Station rates: {}\".format(global_precisions))\n"
   ]
  },
  {
   "cell_type": "code",
   "execution_count": 76,
   "id": "prerequisite-excitement",
   "metadata": {
    "collapsed": true
   },
   "outputs": [
    {
     "data": {
      "text/plain": [
       "[('bedfordshire',\n",
       "  0.0,\n",
       "  {'controlled drugs': 0.37254901960784315,\n",
       "   'article for use in theft': 0.3333333333333333,\n",
       "   'stolen goods': 0.0,\n",
       "   'anything to threaten or harm anyone': 0.0,\n",
       "   'offensive weapons': 0.0,\n",
       "   'fireworks': 0.0,\n",
       "   'articles for use in criminal damage': 0.0,\n",
       "   'firearms': 0.0}),\n",
       " ('hertfordshire',\n",
       "  0.0,\n",
       "  {'controlled drugs': 0.3876651982378855,\n",
       "   'article for use in theft': 0.34615384615384615,\n",
       "   'stolen goods': 0.5277777777777778,\n",
       "   'offensive weapons': 0.26666666666666666,\n",
       "   'fireworks': 0.0,\n",
       "   'articles for use in criminal damage': 0.0,\n",
       "   'firearms': 0.0,\n",
       "   'game or poaching equipment': 0.0}),\n",
       " ('kent',\n",
       "  0.0,\n",
       "  {'controlled drugs': 0.405,\n",
       "   'article for use in theft': 0.5,\n",
       "   'stolen goods': 0.4418604651162791,\n",
       "   'offensive weapons': 0.375,\n",
       "   'articles for use in criminal damage': 0.0,\n",
       "   'firearms': 0.0,\n",
       "   'evidence of offences under the act': 0.0,\n",
       "   'psychoactive substances': 0.39215686274509803}),\n",
       " ('btp',\n",
       "  0.0,\n",
       "  {'controlled drugs': 0.4177777777777778,\n",
       "   'article for use in theft': 0.6666666666666666,\n",
       "   'stolen goods': 0.6,\n",
       "   'anything to threaten or harm anyone': 1.0,\n",
       "   'offensive weapons': 0.16666666666666666,\n",
       "   'articles for use in criminal damage': 0.0,\n",
       "   'firearms': 0.0,\n",
       "   'evidence of offences under the act': 0.0,\n",
       "   'psychoactive substances': 0.0}),\n",
       " ('warwickshire',\n",
       "  0.0,\n",
       "  {'controlled drugs': 0.358974358974359,\n",
       "   'article for use in theft': 0.5,\n",
       "   'stolen goods': 0.38461538461538464,\n",
       "   'anything to threaten or harm anyone': 0.0,\n",
       "   'offensive weapons': 0.0,\n",
       "   'articles for use in criminal damage': 0.0,\n",
       "   'firearms': 0.0,\n",
       "   'detailed object of search unavailable': 0.0,\n",
       "   'psychoactive substances': 0.0}),\n",
       " ('staffordshire',\n",
       "  0.0,\n",
       "  {'controlled drugs': 0.3291139240506329,\n",
       "   'article for use in theft': 0.0,\n",
       "   'stolen goods': 0.391304347826087,\n",
       "   'offensive weapons': 0.0,\n",
       "   'articles for use in criminal damage': 0.0,\n",
       "   'firearms': 0.0}),\n",
       " ('leicestershire',\n",
       "  0.0,\n",
       "  {'controlled drugs': 0.375,\n",
       "   'article for use in theft': 0.0,\n",
       "   'stolen goods': 1.0,\n",
       "   'offensive weapons': 0.0,\n",
       "   'articles for use in criminal damage': 0.0,\n",
       "   'firearms': 1.0,\n",
       "   'evidence of offences under the act': 0.0,\n",
       "   'psychoactive substances': 0.0}),\n",
       " ('derbyshire',\n",
       "  0.0,\n",
       "  {'controlled drugs': 0.390625,\n",
       "   'article for use in theft': 0.6666666666666666,\n",
       "   'stolen goods': 0.5,\n",
       "   'offensive weapons': 0.0,\n",
       "   'articles for use in criminal damage': 0.0,\n",
       "   'firearms': 0.0,\n",
       "   'evidence of offences under the act': 0.0}),\n",
       " ('cheshire',\n",
       "  0.0,\n",
       "  {'controlled drugs': 0.4251497005988024,\n",
       "   'article for use in theft': 0.5,\n",
       "   'stolen goods': 0.3125,\n",
       "   'offensive weapons': 0.3333333333333333,\n",
       "   'fireworks': 0.0,\n",
       "   'articles for use in criminal damage': 0.0,\n",
       "   'firearms': 0.0}),\n",
       " ('west-yorkshire',\n",
       "  0.0,\n",
       "  {'controlled drugs': 0.28440366972477066,\n",
       "   'article for use in theft': 0.2777777777777778,\n",
       "   'stolen goods': 0.4,\n",
       "   'offensive weapons': 0.4090909090909091,\n",
       "   'fireworks': 0.0,\n",
       "   'articles for use in criminal damage': 0.0,\n",
       "   'firearms': 0.6666666666666666,\n",
       "   'evidence of offences under the act': 0.0,\n",
       "   'psychoactive substances': 0.0}),\n",
       " ('suffolk',\n",
       "  0.0,\n",
       "  {'controlled drugs': 0.3333333333333333,\n",
       "   'article for use in theft': 0.0,\n",
       "   'stolen goods': 1.0,\n",
       "   'anything to threaten or harm anyone': 0.0,\n",
       "   'offensive weapons': 0.0,\n",
       "   'articles for use in criminal damage': 0.0,\n",
       "   'firearms': 0.0,\n",
       "   'evidence of offences under the act': 0.0,\n",
       "   'psychoactive substances': 0.0}),\n",
       " ('hampshire',\n",
       "  0.0,\n",
       "  {'controlled drugs': 0.3938144329896907,\n",
       "   'article for use in theft': 0.3333333333333333,\n",
       "   'stolen goods': 0.358974358974359,\n",
       "   'anything to threaten or harm anyone': 0.0,\n",
       "   'offensive weapons': 0.5,\n",
       "   'articles for use in criminal damage': 0.5,\n",
       "   'firearms': 0.0,\n",
       "   'evidence of offences under the act': 0.0,\n",
       "   'game or poaching equipment': 0.0}),\n",
       " ('devon-and-cornwall',\n",
       "  0.0,\n",
       "  {'controlled drugs': 0.3882783882783883,\n",
       "   'article for use in theft': 0.0,\n",
       "   'stolen goods': 0.3,\n",
       "   'offensive weapons': 0.2222222222222222,\n",
       "   'articles for use in criminal damage': 0.0,\n",
       "   'firearms': 0.0}),\n",
       " ('south-yorkshire',\n",
       "  0.0,\n",
       "  {'controlled drugs': 0.22137404580152673,\n",
       "   'article for use in theft': 0.0,\n",
       "   'stolen goods': 0.0,\n",
       "   'anything to threaten or harm anyone': 0.0,\n",
       "   'offensive weapons': 0.1875,\n",
       "   'fireworks': 0.0,\n",
       "   'articles for use in criminal damage': 0.0,\n",
       "   'firearms': 0.0}),\n",
       " ('essex',\n",
       "  0.0,\n",
       "  {'controlled drugs': 0.38095238095238093,\n",
       "   'article for use in theft': 0.2727272727272727,\n",
       "   'stolen goods': 0.48936170212765956,\n",
       "   'anything to threaten or harm anyone': 0.0,\n",
       "   'offensive weapons': 0.3076923076923077,\n",
       "   'articles for use in criminal damage': 1.0,\n",
       "   'firearms': 1.0,\n",
       "   'evidence of offences under the act': 0.0}),\n",
       " ('norfolk',\n",
       "  0.0,\n",
       "  {'controlled drugs': 0.25,\n",
       "   'article for use in theft': 0.0,\n",
       "   'stolen goods': 0.0,\n",
       "   'anything to threaten or harm anyone': 0.0,\n",
       "   'offensive weapons': 0.0,\n",
       "   'articles for use in criminal damage': 0.0,\n",
       "   'firearms': 0.0,\n",
       "   'evidence of offences under the act': 0.0,\n",
       "   'psychoactive substances': 0.0,\n",
       "   'evidence of wildlife offences': 0.0}),\n",
       " ('dyfed-powys',\n",
       "  0.0,\n",
       "  {'controlled drugs': 0.3333333333333333,\n",
       "   'article for use in theft': 0.0,\n",
       "   'anything to threaten or harm anyone': 0.3333333333333333,\n",
       "   'articles for use in criminal damage': 0.0,\n",
       "   'firearms': 0.0,\n",
       "   'evidence of offences under the act': 0.0}),\n",
       " ('thames-valley',\n",
       "  0.0,\n",
       "  {'controlled drugs': 0.25806451612903225,\n",
       "   'article for use in theft': 0.125,\n",
       "   'stolen goods': 0.19047619047619047,\n",
       "   'anything to threaten or harm anyone': 0.0,\n",
       "   'offensive weapons': 0.3125,\n",
       "   'articles for use in criminal damage': 0.0,\n",
       "   'firearms': 0.0,\n",
       "   'evidence of offences under the act': 0.0}),\n",
       " ('avon-and-somerset',\n",
       "  0.0,\n",
       "  {'controlled drugs': 0.3780487804878049,\n",
       "   'article for use in theft': 1.0,\n",
       "   'stolen goods': 0.4666666666666667,\n",
       "   'anything to threaten or harm anyone': 0.0,\n",
       "   'offensive weapons': 0.8,\n",
       "   'fireworks': 0.0,\n",
       "   'articles for use in criminal damage': 0.0,\n",
       "   'firearms': 0.0,\n",
       "   'evidence of offences under the act': 0.0,\n",
       "   'psychoactive substances': 0.0}),\n",
       " ('merseyside',\n",
       "  0.0,\n",
       "  {'controlled drugs': 0.3150557620817844,\n",
       "   'article for use in theft': 0.5714285714285714,\n",
       "   'stolen goods': 0.6,\n",
       "   'offensive weapons': 0.0,\n",
       "   'fireworks': 0.0,\n",
       "   'articles for use in criminal damage': 0.0,\n",
       "   'firearms': 0.0,\n",
       "   'evidence of offences under the act': 0.0}),\n",
       " ('northumbria',\n",
       "  0.0,\n",
       "  {'controlled drugs': 0.3,\n",
       "   'article for use in theft': 0.0,\n",
       "   'stolen goods': 0.3333333333333333,\n",
       "   'offensive weapons': 0.2222222222222222,\n",
       "   'fireworks': 0.6666666666666666,\n",
       "   'articles for use in criminal damage': 0.25,\n",
       "   'firearms': 0.0,\n",
       "   'game or poaching equipment': 0.0}),\n",
       " ('sussex',\n",
       "  0.0,\n",
       "  {'controlled drugs': 0.3005181347150259,\n",
       "   'article for use in theft': 0.2,\n",
       "   'stolen goods': 0.25,\n",
       "   'anything to threaten or harm anyone': 0.0,\n",
       "   'offensive weapons': 0.0,\n",
       "   'fireworks': 0.0,\n",
       "   'articles for use in criminal damage': 0.0,\n",
       "   'firearms': 1.0,\n",
       "   'detailed object of search unavailable': 0.3333333333333333,\n",
       "   'evidence of offences under the act': 0.0}),\n",
       " ('surrey',\n",
       "  0.0,\n",
       "  {'controlled drugs': 0.3825136612021858,\n",
       "   'article for use in theft': 0.6,\n",
       "   'stolen goods': 0.25,\n",
       "   'anything to threaten or harm anyone': 0.0,\n",
       "   'offensive weapons': 0.0,\n",
       "   'fireworks': 0.0,\n",
       "   'articles for use in criminal damage': 0.0,\n",
       "   'firearms': 0.0}),\n",
       " ('nottinghamshire',\n",
       "  0.0,\n",
       "  {'controlled drugs': 0.36807817589576547,\n",
       "   'article for use in theft': 0.0,\n",
       "   'stolen goods': 0.6666666666666666,\n",
       "   'offensive weapons': 0.2,\n",
       "   'fireworks': 0.0,\n",
       "   'articles for use in criminal damage': 0.0,\n",
       "   'firearms': 0.0}),\n",
       " ('city-of-london',\n",
       "  0.0,\n",
       "  {'controlled drugs': 0.390625,\n",
       "   'article for use in theft': 0.6428571428571429,\n",
       "   'stolen goods': 0.5,\n",
       "   'anything to threaten or harm anyone': 0.0,\n",
       "   'offensive weapons': 0.0,\n",
       "   'articles for use in criminal damage': 0.0,\n",
       "   'firearms': 0.0,\n",
       "   'evidence of offences under the act': 0.0,\n",
       "   'psychoactive substances': 0.0}),\n",
       " ('west-mercia',\n",
       "  0.0,\n",
       "  {'controlled drugs': 0.3798449612403101,\n",
       "   'article for use in theft': 0.75,\n",
       "   'stolen goods': 0.4772727272727273,\n",
       "   'anything to threaten or harm anyone': 0.0,\n",
       "   'offensive weapons': 0.375,\n",
       "   'articles for use in criminal damage': 0.0,\n",
       "   'firearms': 0.0,\n",
       "   'detailed object of search unavailable': 0.0,\n",
       "   'evidence of offences under the act': 0.0,\n",
       "   'psychoactive substances': 0.0,\n",
       "   'game or poaching equipment': 0.0}),\n",
       " ('lincolnshire',\n",
       "  0.0,\n",
       "  {'controlled drugs': 0.4262295081967213,\n",
       "   'article for use in theft': 1.0,\n",
       "   'stolen goods': 0.5,\n",
       "   'offensive weapons': 0.0,\n",
       "   'articles for use in criminal damage': 0.0,\n",
       "   'firearms': 0.0,\n",
       "   'evidence of offences under the act': 0.0,\n",
       "   'psychoactive substances': 0.0}),\n",
       " ('lancashire',\n",
       "  0.0,\n",
       "  {'controlled drugs': 0.3611111111111111,\n",
       "   'article for use in theft': 0.0,\n",
       "   'stolen goods': 0.8,\n",
       "   'offensive weapons': 0.0,\n",
       "   'fireworks': 0.0,\n",
       "   'articles for use in criminal damage': 0.0,\n",
       "   'firearms': 0.0}),\n",
       " ('gloucestershire',\n",
       "  0.0,\n",
       "  {'controlled drugs': 0.30952380952380953,\n",
       "   'article for use in theft': 1.0,\n",
       "   'stolen goods': 0.3333333333333333,\n",
       "   'offensive weapons': 0.0,\n",
       "   'articles for use in criminal damage': 0.0,\n",
       "   'firearms': 0.0,\n",
       "   'game or poaching equipment': 0.0}),\n",
       " ('northamptonshire',\n",
       "  0.0,\n",
       "  {'controlled drugs': 0.2845528455284553,\n",
       "   'article for use in theft': 0.0,\n",
       "   'stolen goods': 0.5,\n",
       "   'offensive weapons': 0.0,\n",
       "   'fireworks': 0.0,\n",
       "   'firearms': 0.0,\n",
       "   'evidence of offences under the act': 0.0}),\n",
       " ('cumbria',\n",
       "  0.0,\n",
       "  {'controlled drugs': 0.23529411764705882,\n",
       "   'article for use in theft': 1.0,\n",
       "   'stolen goods': 0.46153846153846156,\n",
       "   'offensive weapons': 0.75,\n",
       "   'fireworks': 0.0,\n",
       "   'articles for use in criminal damage': 0.0,\n",
       "   'firearms': 0.0}),\n",
       " ('north-yorkshire',\n",
       "  0.0,\n",
       "  {'controlled drugs': 0.23529411764705882,\n",
       "   'article for use in theft': 0.5,\n",
       "   'stolen goods': 0.2,\n",
       "   'offensive weapons': 0.0,\n",
       "   'articles for use in criminal damage': 0.0,\n",
       "   'firearms': 0.0}),\n",
       " ('north-wales',\n",
       "  0.0,\n",
       "  {'controlled drugs': 0.20454545454545456,\n",
       "   'article for use in theft': 0.0,\n",
       "   'stolen goods': 1.0,\n",
       "   'offensive weapons': 0.0,\n",
       "   'articles for use in criminal damage': 0.0,\n",
       "   'firearms': 0.0,\n",
       "   'game or poaching equipment': 0.0}),\n",
       " ('cleveland',\n",
       "  0.0,\n",
       "  {'controlled drugs': 0.2564102564102564,\n",
       "   'article for use in theft': 0.6666666666666666,\n",
       "   'stolen goods': 0.2857142857142857,\n",
       "   'anything to threaten or harm anyone': 1.0,\n",
       "   'offensive weapons': 0.3333333333333333,\n",
       "   'articles for use in criminal damage': 0.0,\n",
       "   'firearms': 0.0,\n",
       "   'evidence of offences under the act': 1.0}),\n",
       " ('dorset',\n",
       "  0.0,\n",
       "  {'controlled drugs': 0.2765957446808511,\n",
       "   'article for use in theft': 0.3333333333333333,\n",
       "   'stolen goods': 0.4,\n",
       "   'offensive weapons': 0.5,\n",
       "   'articles for use in criminal damage': 0.0,\n",
       "   'firearms': 0.0,\n",
       "   'evidence of offences under the act': 0.0,\n",
       "   'game or poaching equipment': 0.0}),\n",
       " ('durham',\n",
       "  0.0,\n",
       "  {'controlled drugs': 0.3484848484848485,\n",
       "   'article for use in theft': 0.4,\n",
       "   'stolen goods': 0.5454545454545454,\n",
       "   'offensive weapons': 0.4166666666666667,\n",
       "   'fireworks': 0.0,\n",
       "   'articles for use in criminal damage': 0.5,\n",
       "   'firearms': 0.0,\n",
       "   'game or poaching equipment': 1.0}),\n",
       " ('greater-manchester',\n",
       "  0.0,\n",
       "  {'controlled drugs': 0.3918918918918919,\n",
       "   'article for use in theft': 0.0,\n",
       "   'stolen goods': 1.0,\n",
       "   'anything to threaten or harm anyone': 0.0,\n",
       "   'offensive weapons': 0.25,\n",
       "   'fireworks': 0.0,\n",
       "   'articles for use in criminal damage': 0.0,\n",
       "   'firearms': 0.0}),\n",
       " ('wiltshire',\n",
       "  0.0,\n",
       "  {'controlled drugs': 0.14285714285714285,\n",
       "   'article for use in theft': 0.0,\n",
       "   'stolen goods': 0.0,\n",
       "   'offensive weapons': 0.0,\n",
       "   'articles for use in criminal damage': 0.0,\n",
       "   'firearms': 0.0,\n",
       "   'evidence of offences under the act': 0.0}),\n",
       " ('cambridgeshire',\n",
       "  0.0,\n",
       "  {'controlled drugs': 0.4117647058823529,\n",
       "   'article for use in theft': 0.0,\n",
       "   'stolen goods': 1.0,\n",
       "   'offensive weapons': 0.0})]"
      ]
     },
     "execution_count": 76,
     "metadata": {},
     "output_type": "execute_result"
    }
   ],
   "source": [
    "problematic_departments"
   ]
  },
  {
   "cell_type": "code",
   "execution_count": 77,
   "id": "willing-kruger",
   "metadata": {},
   "outputs": [],
   "source": [
    "# mask = (X_test['Object of search'] == 'offensive weapons') & (X_test['station'] == 'bedfordshire')\n",
    "# np.sum(mask)\n",
    "# precision_score(y_test[mask], y_pred[mask])\n",
    "# y_test[mask].value_counts()\n",
    "# pd.Series(y_pred[mask]).value_counts()"
   ]
  },
  {
   "cell_type": "markdown",
   "id": "surface-address",
   "metadata": {},
   "source": [
    "### 2 - No police station should have a discrepancy bigger than 5% between the search success rate between protected classes (ethnicity, gender)"
   ]
  },
  {
   "cell_type": "code",
   "execution_count": 107,
   "id": "alone-fossil",
   "metadata": {},
   "outputs": [],
   "source": [
    "def verify_no_discrimination(X_test, y_true, y_pred, sensitive_column, max_diff=0.05, min_samples=30):\n",
    "    \"\"\"\n",
    "    Verifies that no station has discrimination in between protected classes\n",
    "    \"\"\"\n",
    "    \n",
    "    departments = X_test['station'].unique()\n",
    "    sensitive_classes = X_test[sensitive_column].unique()\n",
    "    \n",
    "    is_satisfied = True\n",
    "    problematic_departments = []\n",
    "    good_deparments = []\n",
    "    ignored_departments = []\n",
    "    for department in departments:\n",
    "        precisions = {}\n",
    "        for sensitive_class in sensitive_classes:\n",
    "            mask = (X_test[sensitive_column] == sensitive_class) & (X_test['station'] == department)\n",
    "            if np.sum(mask) > min_samples:\n",
    "                precisions[sensitive_class] = precision_score(y_true[mask], y_pred[mask], pos_label=True)\n",
    "                \n",
    "        if len(precisions) > 1:    \n",
    "            diff = np.max(list(precisions.values())) - np.min(list(precisions.values()))\n",
    "\n",
    "            if diff > max_diff:\n",
    "                is_satisfied = False\n",
    "                problematic_departments.append((department, diff, precisions))\n",
    "            else:\n",
    "                good_deparments.append((department, diff, precisions))\n",
    "        else:\n",
    "            ignored_departments.append((department, None, []))\n",
    "    \n",
    "    global_precisions = {}\n",
    "    for sensitive_class in sensitive_classes:\n",
    "        mask = (X_test[sensitive_column] == sensitive_class)\n",
    "        if np.sum(mask) > min_samples:\n",
    "            global_precisions[sensitive_class] = precision_score(y_true[mask], y_pred[mask], pos_label=True)\n",
    "    \n",
    "    if len(precisions) > 1:    \n",
    "        diff = np.max(list(precisions.values())) - np.min(list(precisions.values()))\n",
    "        if diff > max_diff:\n",
    "            is_satisfied = False\n",
    "        \n",
    "    return is_satisfied, problematic_departments, good_deparments, ignored_departments, global_precisions\n"
   ]
  },
  {
   "cell_type": "code",
   "execution_count": 108,
   "id": "chemical-night",
   "metadata": {},
   "outputs": [
    {
     "name": "stdout",
     "output_type": "stream",
     "text": [
      "\n",
      "Ethnicity\n",
      "Requirement failed 😢\n",
      "Global rates: {'Black': 0.2622549019607843, 'White': 0.25386924939467315, 'Other': 0.2446969696969697, 'Asian': 0.251297257227576, 'Mixed': 0.2687224669603524}\n",
      "Num problematic departments: 26\n",
      "Num good departments: 9\n",
      "Num ignored departments: 4\n",
      "avg diff: 0.11482135732480575\n",
      "\n",
      "\n",
      "Gender\n",
      "Requirement failed 😢\n",
      "Global rates: {'Male': 0.25871810190321753, 'Female': 0.21880293619424054, 'Other': 0.3064516129032258}\n",
      "Num problematic departments: 18\n",
      "Num good departments: 21\n",
      "Num ignored departments: 0\n",
      "avg diff: 0.08311827347952844\n"
     ]
    }
   ],
   "source": [
    "is_satisfied, problematic_departments, good_deparments, ignored_departments, global_precisions = verify_no_discrimination(\n",
    "    df_test, y_test, y_pred_threshold, 'Officer-defined ethnicity', 0.05)\n",
    "\n",
    "print(\"\\nEthnicity\")\n",
    "\n",
    "if not is_satisfied:\n",
    "    print(\"Requirement failed 😢\")\n",
    "    print(\"Global rates: {}\".format(global_precisions))\n",
    "    print(\"Num problematic departments: {}\".format(len(problematic_departments)))\n",
    "    print(\"Num good departments: {}\".format(len(good_deparments)))\n",
    "    print(\"Num ignored departments: {}\".format(len(ignored_departments)))\n",
    "\n",
    "    print(\"avg diff:\", np.mean([p[1] for p in problematic_departments]))\n",
    "    \n",
    "    \n",
    "is_satisfied, problematic_departments, good_deparments, ignored_departments, global_precisions = verify_no_discrimination(\n",
    "    df_test, y_test, y_pred_threshold, 'Gender', 0.05)\n",
    "\n",
    "print(\"\\n\\nGender\")\n",
    "\n",
    "if not is_satisfied:\n",
    "    print(\"Requirement failed 😢\")\n",
    "    print(\"Global rates: {}\".format(global_precisions))\n",
    "    print(\"Num problematic departments: {}\".format(len(problematic_departments)))\n",
    "    print(\"Num good departments: {}\".format(len(good_deparments)))\n",
    "    print(\"Num ignored departments: {}\".format(len(ignored_departments)))\n",
    "    \n",
    "    print(\"avg diff:\", np.mean([p[1] for p in problematic_departments]))"
   ]
  },
  {
   "cell_type": "markdown",
   "id": "rotary-breach",
   "metadata": {},
   "source": [
    "### 3 - No police station should have a discrepancy bigger than x% between the Removal of more than just outer clothing rate between protected classes (age, ethnicity, gender)"
   ]
  },
  {
   "cell_type": "code",
   "execution_count": 109,
   "id": "laughing-spank",
   "metadata": {},
   "outputs": [],
   "source": [
    "def verify_removal_clothing(X_test, y_true, y_pred, sensitive_column, max_diff, min_samples=30):\n",
    "    \"\"\"\n",
    "    Verifies that no station has discrepancy Removal of more than just outer clothing rate between \n",
    "    protected classes (age, ethnicity, gender)\n",
    "    \"\"\"\n",
    "    \n",
    "    departments = X_test['station'].unique()\n",
    "    sensitive_classes = X_test[sensitive_column].unique()\n",
    "    \n",
    "    is_satisfied = True\n",
    "    problematic_departments = []\n",
    "    good_deparments = []\n",
    "    ignored_departments = []\n",
    "    for department in departments:\n",
    "        removal_rate = {}\n",
    "        for sensitive_class in sensitive_classes:\n",
    "            mask = (X_test[sensitive_column] == sensitive_class) & (X_test['station'] == department) & (y_pred == True)\n",
    "            if np.sum(mask) > min_samples:\n",
    "                removal_rate[sensitive_class] = (np.sum(X_test[mask]['Removal of more than just outer clothing']==True))/(X_test[mask]['Removal of more than just outer clothing'].shape[0])\n",
    "                \n",
    "        if len(removal_rate) > 1:    \n",
    "            diff = np.max(list(removal_rate.values())) - np.min(list(removal_rate.values()))\n",
    "\n",
    "            if diff > max_diff:\n",
    "                is_satisfied = False\n",
    "                problematic_departments.append((department, diff, removal_rate))\n",
    "            else:\n",
    "                good_deparments.append((department, diff, removal_rate))\n",
    "        else:\n",
    "            ignored_departments.append((department, None, []))\n",
    "    \n",
    "    global_removal_rate = {}\n",
    "    for sensitive_class in sensitive_classes:\n",
    "        mask = (X_test[sensitive_column] == sensitive_class) & (y_pred == True)\n",
    "        if np.sum(mask) > min_samples:\n",
    "            global_removal_rate[sensitive_class] = (np.sum(X_test[mask]['Removal of more than just outer clothing']==True))/(X_test[mask]['Removal of more than just outer clothing'].shape[0])\n",
    "    \n",
    "#     if len(precisions) > 1:    \n",
    "#         diff = np.max(list(precisions.values())) - np.min(list(precisions.values()))\n",
    "#         if diff > max_diff:\n",
    "#             is_satisfied = False\n",
    "        \n",
    "    return is_satisfied, problematic_departments, good_deparments, ignored_departments, global_removal_rate\n"
   ]
  },
  {
   "cell_type": "code",
   "execution_count": 110,
   "id": "speaking-fourth",
   "metadata": {},
   "outputs": [
    {
     "name": "stdout",
     "output_type": "stream",
     "text": [
      "\n",
      "Gender\n",
      "Requirement failed 😢\n",
      "Global rates: {'Male': 0.04262183152684134, 'Female': 0.04898362507058159, 'Other': 0.04838709677419355}\n",
      "Num problematic departments: 3\n",
      "Num good departments: 33\n",
      "Num ignored departments: 3\n",
      "avg diff: 0.12628004659312697\n",
      "\n",
      "\n",
      "Age range\n",
      "Requirement failed 😢\n",
      "Global rates: {'10-17': 0.02478972996901284, '25-34': 0.04670424479466237, 'over 34': 0.046111037498343714, '18-24': 0.046047455381175204, 'under 10': 0.045454545454545456}\n",
      "Num problematic departments: 8\n",
      "Num good departments: 30\n",
      "Num ignored departments: 1\n",
      "avg diff: 0.08775402922078729\n",
      "\n",
      "\n",
      "Ethnicity\n",
      "Requirement failed 😢\n",
      "Global rates: {'Black': 0.092560553633218, 'White': 0.03583535108958838, 'Other': 0.038636363636363635, 'Asian': 0.05022238695329874, 'Mixed': 0.07268722466960352}\n",
      "Num problematic departments: 20\n",
      "Num good departments: 12\n",
      "Num ignored departments: 7\n",
      "avg diff: 0.11125505879988092\n"
     ]
    }
   ],
   "source": [
    "is_satisfied, problematic_departments, good_deparments, ignored_departments, global_removal_rate = verify_removal_clothing(\n",
    "    df_test, y_test, y_pred_threshold, 'Gender', 0.05)\n",
    "\n",
    "print(\"\\nGender\")\n",
    "\n",
    "if not is_satisfied:\n",
    "    print(\"Requirement failed 😢\")\n",
    "    print(\"Global rates: {}\".format(global_removal_rate))\n",
    "    print(\"Num problematic departments: {}\".format(len(problematic_departments)))\n",
    "    print(\"Num good departments: {}\".format(len(good_deparments)))\n",
    "    print(\"Num ignored departments: {}\".format(len(ignored_departments)))\n",
    "    \n",
    "    print(\"avg diff:\", np.mean([p[1] for p in problematic_departments]))\n",
    "    \n",
    "    \n",
    "is_satisfied, problematic_departments, good_deparments, ignored_departments, global_removal_rate = verify_removal_clothing(\n",
    "    df_test, y_test, y_pred_threshold, 'Age range', 0.05)\n",
    "\n",
    "print(\"\\n\\nAge range\")\n",
    "\n",
    "if not is_satisfied:\n",
    "    print(\"Requirement failed 😢\")\n",
    "    print(\"Global rates: {}\".format(global_removal_rate))\n",
    "    print(\"Num problematic departments: {}\".format(len(problematic_departments)))\n",
    "    print(\"Num good departments: {}\".format(len(good_deparments)))\n",
    "    print(\"Num ignored departments: {}\".format(len(ignored_departments)))\n",
    "    \n",
    "    print(\"avg diff:\", np.mean([p[1] for p in problematic_departments]))\n",
    "    \n",
    "    \n",
    "is_satisfied, problematic_departments, good_deparments, ignored_departments, global_removal_rate = verify_removal_clothing(\n",
    "    df_test, y_test, y_pred_threshold, 'Officer-defined ethnicity', 0.05)\n",
    "\n",
    "print(\"\\n\\nEthnicity\")\n",
    "\n",
    "if not is_satisfied:\n",
    "    print(\"Requirement failed 😢\")\n",
    "    print(\"Global rates: {}\".format(global_removal_rate))\n",
    "    print(\"Num problematic departments: {}\".format(len(problematic_departments)))\n",
    "    print(\"Num good departments: {}\".format(len(good_deparments)))\n",
    "    print(\"Num ignored departments: {}\".format(len(ignored_departments)))\n",
    "    \n",
    "    print(\"avg diff:\", np.mean([p[1] for p in problematic_departments]))"
   ]
  },
  {
   "cell_type": "code",
   "execution_count": null,
   "id": "caring-chapel",
   "metadata": {},
   "outputs": [],
   "source": []
  },
  {
   "cell_type": "code",
   "execution_count": null,
   "id": "toxic-poison",
   "metadata": {},
   "outputs": [],
   "source": []
  },
  {
   "cell_type": "code",
   "execution_count": null,
   "id": "oriental-indicator",
   "metadata": {},
   "outputs": [],
   "source": []
  },
  {
   "cell_type": "code",
   "execution_count": null,
   "id": "english-object",
   "metadata": {},
   "outputs": [],
   "source": []
  },
  {
   "cell_type": "code",
   "execution_count": 123,
   "id": "boxed-institution",
   "metadata": {},
   "outputs": [],
   "source": []
  },
  {
   "cell_type": "code",
   "execution_count": null,
   "id": "processed-campbell",
   "metadata": {},
   "outputs": [],
   "source": []
  },
  {
   "cell_type": "code",
   "execution_count": null,
   "id": "foreign-delicious",
   "metadata": {},
   "outputs": [],
   "source": []
  },
  {
   "cell_type": "code",
   "execution_count": null,
   "id": "metric-credits",
   "metadata": {},
   "outputs": [],
   "source": []
  }
 ],
 "metadata": {
  "kernelspec": {
   "display_name": "Python 3",
   "language": "python",
   "name": "python3"
  },
  "language_info": {
   "codemirror_mode": {
    "name": "ipython",
    "version": 3
   },
   "file_extension": ".py",
   "mimetype": "text/x-python",
   "name": "python",
   "nbconvert_exporter": "python",
   "pygments_lexer": "ipython3",
   "version": "3.6.9"
  }
 },
 "nbformat": 4,
 "nbformat_minor": 5
}
